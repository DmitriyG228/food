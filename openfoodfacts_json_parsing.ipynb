{
 "cells": [
  {
   "cell_type": "code",
   "execution_count": 1,
   "metadata": {},
   "outputs": [],
   "source": [
    "%load_ext autoreload\n",
    "%autoreload 2"
   ]
  },
  {
   "cell_type": "code",
   "execution_count": 11,
   "metadata": {},
   "outputs": [],
   "source": [
    "from food.tools import *\n",
    "from food.paths import *\n",
    "from food.psql import *\n",
    "\n",
    "import pandas as pd\n",
    "import numpy as np\n",
    "from tqdm import tqdm\n",
    "\n",
    "# !nbdev_build_lib"
   ]
  },
  {
   "cell_type": "code",
   "execution_count": 3,
   "metadata": {},
   "outputs": [],
   "source": [
    "inp = pd.read_json(main_path/'openfoodfacts-products.jsonl.gz',lines=True,chunksize=5000)"
   ]
  },
  {
   "cell_type": "code",
   "execution_count": 4,
   "metadata": {},
   "outputs": [],
   "source": [
    "df = next(inp)\n",
    "df = df[['id',\n",
    "        'product_name',\n",
    "        '_keywords' ,\n",
    "        'ingredients_text',\n",
    "        'categories',\n",
    "        'food_groups',\n",
    "        'nutriments'\n",
    "        ]]\n",
    "df = df.rename(columns = {'_keywords':'keywords'}).drop_duplicates('id').set_index('id')\n",
    "df = df [df['product_name'].str.strip()!=''].dropna(subset = ['product_name'])\n",
    "df['keywords'] = df['keywords'].apply(lambda x:', '.join(x))\n",
    "nutriments = pd.json_normalize(df[['nutriments']].to_dict('records')).set_index(df.index)\n",
    "nutriments.columns = [c.replace('nutriments.','').replace('-','_') for c in nutriments.columns]\n",
    "df = df.join(nutriments[['energy_kcal_100g','proteins_100g','fat_100g','carbohydrates_100g']]).drop(columns = ['nutriments']).reset_index()\n",
    "df['food_groups'] = df['food_groups'].str.replace('en:','')\n",
    "df = df.dropna(subset = ['energy_kcal_100g'])\n",
    "insert_ignore(df,'foods_big',unique_cols=['id'])\n"
   ]
  },
  {
   "cell_type": "code",
   "execution_count": 5,
   "metadata": {},
   "outputs": [],
   "source": [
    "bigintmax = 2**63-1"
   ]
  },
  {
   "cell_type": "code",
   "execution_count": 12,
   "metadata": {},
   "outputs": [
    {
     "name": "stderr",
     "output_type": "stream",
     "text": [
      "openfood parsing: 6it [10:00, 126.58s/it]"
     ]
    }
   ],
   "source": [
    "for df in tqdm(pd.read_json(main_path/'openfoodfacts-products.jsonl.gz',lines=True,chunksize=50000), desc=\"openfood parsing\"):\n",
    "    df = df[['id',\n",
    "        'product_name',\n",
    "        '_keywords' ,\n",
    "        'ingredients_text',\n",
    "        'categories',\n",
    "        'food_groups',\n",
    "        'nutriments'\n",
    "        ]]\n",
    "    df = df[df['id']<bigintmax]\n",
    "    df = df.rename(columns = {'_keywords':'keywords'}).drop_duplicates('id').set_index('id')\n",
    "    df = df [df['product_name'].str.strip()!=''].dropna(subset = ['product_name'])\n",
    "    df['keywords'] = df['keywords'].apply(lambda x:', '.join(x))\n",
    "    nutriments = pd.json_normalize(df[['nutriments']].to_dict('records')).set_index(df.index)\n",
    "    nutriments.columns = [c.replace('nutriments.','').replace('-','_') for c in nutriments.columns]\n",
    "    df = df.join(nutriments[['energy_kcal_100g','proteins_100g','fat_100g','carbohydrates_100g']]).drop(columns = ['nutriments']).reset_index()\n",
    "    df['food_groups'] = df['food_groups'].str.replace('en:','')\n",
    "    df = df.dropna(subset = ['energy_kcal_100g'])\n",
    "    insert_ignore(df,'foods_big',unique_cols=['id'])\n",
    "\n",
    "\n",
    "\n"
   ]
  },
  {
   "cell_type": "code",
   "execution_count": null,
   "metadata": {},
   "outputs": [],
   "source": [
    "for df in tqdm(pd.read_json(main_path/'openfoodfacts-products.jsonl.gz',lines=True,chunksize=50000), desc=\"openfood parsing\"):"
   ]
  }
 ],
 "metadata": {
  "interpreter": {
   "hash": "1e1ee659a212ecca49d6a1809275141ef7642c152d6286fb803a43d965656456"
  },
  "kernelspec": {
   "display_name": "re",
   "language": "python",
   "name": "python3"
  },
  "language_info": {
   "codemirror_mode": {
    "name": "ipython",
    "version": 3
   },
   "file_extension": ".py",
   "mimetype": "text/x-python",
   "name": "python",
   "nbconvert_exporter": "python",
   "pygments_lexer": "ipython3",
   "version": "3.9.7"
  }
 },
 "nbformat": 4,
 "nbformat_minor": 4
}
