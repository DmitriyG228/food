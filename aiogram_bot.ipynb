{
 "cells": [
  {
   "cell_type": "code",
   "execution_count": 1,
   "metadata": {},
   "outputs": [],
   "source": [
    "from aiogram import Bot, Dispatcher, executor, types\n",
    "from aiogram.types import ContentType\n",
    "from aiogram.dispatcher.filters.state import State, StatesGroup\n",
    "from aiogram.types.message import ContentTypes\n",
    "from aiogram.dispatcher import FSMContext\n",
    "from aiogram.contrib.fsm_storage.memory import MemoryStorage\n",
    "from sqlalchemy import update\n",
    "\n",
    "API_TOKEN = \"5091011572:AAG4NfkC_zZjcsaAFkwLm4ZXOvhEqyLpQhY\"\n"
   ]
  },
  {
   "cell_type": "code",
   "execution_count": 2,
   "metadata": {},
   "outputs": [],
   "source": [
    "import asyncio"
   ]
  },
  {
   "cell_type": "code",
   "execution_count": 3,
   "metadata": {},
   "outputs": [],
   "source": [
    "from food.paths import *\n",
    "from food.search import *\n",
    "import pandas as  pd\n",
    "from food.psql import *\n",
    "import pytz\n",
    "timezones = pytz.all_timezones\n",
    "import requests\n",
    "from requests.structures import CaseInsensitiveDict\n",
    "import urllib\n",
    "from tzwhere import tzwhere"
   ]
  },
  {
   "cell_type": "code",
   "execution_count": 4,
   "metadata": {},
   "outputs": [],
   "source": [
    "import nest_asyncio\n",
    "nest_asyncio.apply()"
   ]
  },
  {
   "cell_type": "code",
   "execution_count": 5,
   "metadata": {},
   "outputs": [],
   "source": [
    "def geocode(q):\n",
    "    geocoding_key = '5d96ac126bcb462cb373297924ab2cb4'\n",
    "    url = \"https://api.geoapify.com/v1/geocode/search?\"\n",
    "\n",
    "    params = {\"apiKey\":geocoding_key, \n",
    "            \"text\":q}\n",
    "\n",
    "    resp = requests.get(url + urllib.parse.urlencode(params)).json()\n",
    "    return  pd.json_normalize(resp['features']).sort_values('properties.rank.importance',ascending = False)[['properties.lat','properties.lon']].iloc[0].to_list()\n",
    "   "
   ]
  },
  {
   "cell_type": "code",
   "execution_count": 6,
   "metadata": {},
   "outputs": [],
   "source": [
    "def get_tz(q):\n",
    "    lat,lon = geocode(q)\n",
    "    return tzwhere.tzwhere().tzNameAt(lat,lon)"
   ]
  },
  {
   "cell_type": "code",
   "execution_count": 7,
   "metadata": {},
   "outputs": [],
   "source": [
    "async def async_get_tz(q):\n",
    "    return get_tz(q)"
   ]
  },
  {
   "cell_type": "code",
   "execution_count": 8,
   "metadata": {},
   "outputs": [],
   "source": [
    "async def async_search_image(url, env='prod'):\n",
    "    return search_image(url,env)"
   ]
  },
  {
   "cell_type": "code",
   "execution_count": 9,
   "metadata": {},
   "outputs": [],
   "source": [
    "async def async_geocode(q):\n",
    "    return geocode(q)"
   ]
  },
  {
   "cell_type": "code",
   "execution_count": 10,
   "metadata": {},
   "outputs": [],
   "source": [
    "async def  async_insert_on_conflict(*args, **qwargs):\n",
    "    return insert_on_conflict(*args, **qwargs)\n"
   ]
  },
  {
   "cell_type": "code",
   "execution_count": 11,
   "metadata": {},
   "outputs": [],
   "source": [
    "async def add_sender(message):\n",
    "    sender = message['from'].to_python()\n",
    "    sender = pd.DataFrame(sender,index=[0]).drop(columns =['is_bot'])\n",
    "    await async_insert_on_conflict(sender,'users',unique_cols=['id'])"
   ]
  },
  {
   "cell_type": "code",
   "execution_count": 12,
   "metadata": {},
   "outputs": [],
   "source": [
    "# Initialize bot and dispatcher\n",
    "bot = Bot(token=API_TOKEN)\n",
    "storage = MemoryStorage()\n",
    "dp = Dispatcher(bot, storage=storage)\n",
    "\n",
    "dishes_table = Dishes.__table__\n"
   ]
  },
  {
   "cell_type": "code",
   "execution_count": 13,
   "metadata": {},
   "outputs": [
    {
     "data": {
      "text/plain": [
       "'0.2 - '"
      ]
     },
     "execution_count": 13,
     "metadata": {},
     "output_type": "execute_result"
    }
   ],
   "source": [
    "ml_version = 0.2\n",
    "\"\"\"0.2 - \"\"\""
   ]
  },
  {
   "cell_type": "code",
   "execution_count": 14,
   "metadata": {},
   "outputs": [],
   "source": [
    "class CState(StatesGroup):\n",
    "    init           = State()\n",
    "    photo_taken    = State()\n",
    "    measured       = State()\n",
    "    set_timezone   = State()\n",
    "    cancelling     = State()\n",
    "    "
   ]
  },
  {
   "cell_type": "code",
   "execution_count": 15,
   "metadata": {},
   "outputs": [],
   "source": [
    "@dp.message_handler(commands=['start'])\n",
    "async def send_welcome(message: types.Message):\n",
    "    \n",
    "    await CState.init.set()\n",
    "    await message.reply(\"\"\"Counting calories as easy as taking pictures. Just capture everything before you eat it\\n\n",
    "                          Now send a photo of your meal to try\"\"\")"
   ]
  },
  {
   "cell_type": "code",
   "execution_count": 16,
   "metadata": {},
   "outputs": [],
   "source": [
    "@dp.message_handler(commands=['set_timezone'])\n",
    "async def send_welcome(message: types.Message, state: FSMContext):\n",
    "    await CState.set_timezone.set()\n",
    "    await message.reply(f\"please search your town to set timezone\")\n"
   ]
  },
  {
   "cell_type": "code",
   "execution_count": 17,
   "metadata": {},
   "outputs": [],
   "source": [
    "@dp.message_handler(commands=['test'])\n",
    "async def send_welcome(message: types.Message):\n",
    "\n",
    "    reply_msg = types.message.Message(message_id=1931,from_user=message['from'])\n",
    "    \n",
    "    await reply_msg.reply(\"\"\"test\"\"\")"
   ]
  },
  {
   "cell_type": "code",
   "execution_count": 18,
   "metadata": {},
   "outputs": [],
   "source": [
    "@dp.message_handler(commands=['cancel_last_item'])\n",
    "async def send_welcome(message: types.Message):\n",
    "    global m\n",
    "    m = message\n",
    "    \n",
    "    await CState.photo_taken.set()\n",
    "    message_id = engine.execute(f\"\"\"select message_id from food.dishes \n",
    "                                where user_id={message['from']['id']} and \n",
    "                                      grams >0\n",
    "                                order by id desc limit 1\"\"\").first()[0]\n",
    "\n",
    "\n",
    "    reply_msg = types.message.Message(message_id = message_id,\n",
    "                                      from_user  = types.user.User(id = message['from']['id']),\n",
    "                                      chat       = types.chat.Chat(id = message['from']['id']))\n",
    "\n",
    "\n",
    "    await CState.cancelling.set()\n",
    "\n",
    "                              \n",
    "    await reply_msg.reply(\"\"\" do you want to cansel mesurment for this item ?\"\"\")               \n"
   ]
  },
  {
   "cell_type": "code",
   "execution_count": null,
   "metadata": {},
   "outputs": [],
   "source": [
    "@dp.message_handler(state=CState.cancelling)\n",
    "async def set_timezone(message: types.Message, state: FSMContext):\n",
    "    if message.text == 'yes':\n",
    "\n",
    "        stmt = (\n",
    "                dishes_table.update()\n",
    "                            .where(dishes_table.c.message_id == message_id)\n",
    "                            .values(grams=0)\n",
    "                            .returning(dishes_table.c.id)\n",
    "        )\n",
    "        session.execute(stmt)\n",
    "        session.commit()\n",
    "\n",
    "                                \n",
    "    await message.reply(\"\"\" your last item measurment has been removed\"\"\")"
   ]
  },
  {
   "cell_type": "code",
   "execution_count": 20,
   "metadata": {},
   "outputs": [],
   "source": [
    "@dp.message_handler(state=CState.set_timezone)\n",
    "async def set_timezone(message: types.Message, state: FSMContext):\n",
    "    await types.ChatActions.typing()\n",
    "    await add_sender(message)\n",
    "    tz = await async_get_tz(message.text)\n",
    "\n",
    "    df = pd.DataFrame([[message['from']['id'],'tz',tz,pd.Timestamp.utcnow()]],columns = ['user_id','property','value','timestamp'])\n",
    "    df.to_sql('user_properties',schema = schema,con = engine,if_exists = 'append',index = False)\n",
    "\n",
    "    await message.reply(f\"your tz is set to {tz}\")"
   ]
  },
  {
   "cell_type": "code",
   "execution_count": 21,
   "metadata": {},
   "outputs": [],
   "source": [
    "@dp.message_handler(content_types=ContentType.PHOTO)\n",
    "async def process_photo(message: types.Message, state: FSMContext):\n",
    "    global m\n",
    "    m = message\n",
    "    await types.ChatActions.typing()\n",
    "    \n",
    "    await add_sender(message)\n",
    "\n",
    "    photo  = message['photo'][-1]\n",
    "    await photo.download(reference_images_path/photo['file_id'])\n",
    "    image_url = await photo.get_url()\n",
    "    dish = await async_search_image(url=image_url, env='prod')\n",
    "    \n",
    "    dish['photo_id']   = photo['file_id']\n",
    "    dish['message_id'] = message['message_id']\n",
    "    sender = message['from'].to_python()\n",
    "    dish['user_id'] = sender['id']\n",
    "    dish['ml_version'] = ml_version \n",
    "    dish['timestamp']=pd.Timestamp.utcnow()\n",
    "\n",
    "\n",
    "    # async with state.proxy() as data: data['dish'] = dish.to_dict(orient = 'records')[0]\n",
    "\n",
    "    dish.to_sql('dishes',schema = schema,if_exists = 'append',index = False,con=engine)\n",
    "    \n",
    "    await CState.photo_taken.set()\n",
    "    async with state.proxy() as data: data['photo_id'] = photo['file_id']\n",
    "\n",
    "    btns_text = tuple([(str(p)) for p in range(10,510,10)])\n",
    "\n",
    "    keyboard_markup = types.ReplyKeyboardMarkup(row_width=2)\n",
    "    keyboard_markup.add(*(types.KeyboardButton(text) for text in btns_text))\n",
    "\n",
    "\n",
    "    await message.reply(\"set weight of the dish you are going to eat\", reply_markup=keyboard_markup)\n"
   ]
  },
  {
   "cell_type": "code",
   "execution_count": 22,
   "metadata": {},
   "outputs": [],
   "source": [
    "@dp.message_handler(lambda message: message.text.isdigit(), state=CState.photo_taken)\n",
    "async def measure(message: types.Message, state: FSMContext):\n",
    "\n",
    "    grams = int(message.text)\n",
    "\n",
    "    last_photo_id,energy = engine.execute(f\"\"\"select photo_id,energy from {schema}.dishes \n",
    "                                where user_id={message['from']['id']}\n",
    "                                order by id desc limit 1\"\"\").first()\n",
    "    # async with state.proxy() as data:  last_photo_id = data['photo_id']\n",
    "    stmt = (\n",
    "            dishes_table.update()\n",
    "                        .where(dishes_table.c.photo_id == last_photo_id)\n",
    "                        .values(grams=grams)\n",
    "                        .returning(dishes_table.c.id)\n",
    "    )\n",
    "    session.execute(stmt)\n",
    "    session.commit()\n",
    "\n",
    "    # async with state.proxy() as data:  dish = data['dish']\n",
    "\n",
    "    energy = energy/100*grams\n",
    "\n",
    "    today_consumed = pd.read_sql(f\"\"\"select energy,grams,timestamp from {schema}.dishes\n",
    "                                 where user_id = {message['from']['id']} and timestamp > now() - interval '24 hours'\n",
    "                                 and grams is not null;\"\"\",engine).set_index(\"timestamp\")\n",
    "    today_consumed= today_consumed['energy']/100*today_consumed['grams']\n",
    "    user_tz = engine.execute(f\"\"\"select value from food.user_properties \n",
    "                                where user_id={message['from']['id']} and\n",
    "                                property='tz'\n",
    "                                order by id desc limit 1\"\"\").first()\n",
    "\n",
    "    user_tz = user_tz[0] if user_tz else 'UTC'\n",
    "    today_consumed = today_consumed.tz_convert(user_tz)\n",
    "    now = pd.Timestamp.now(tz = user_tz)\n",
    "    today_consumed = today_consumed.reset_index()\t\n",
    "    this_morning = pd.Timestamp(year = now.year,month = now.month,day = now.day,hour = 3,tz = user_tz)\n",
    "    today_consumed = today_consumed[today_consumed['timestamp'] > pd.Timestamp(this_morning)][0].sum()\n",
    "    today_consumed\n",
    "\n",
    "\n",
    "    await message.reply(f\"\"\"you have consumed {energy} ccal with whis dish \\n\n",
    "                          today consumed {today_consumed}\"\"\")"
   ]
  },
  {
   "cell_type": "code",
   "execution_count": 23,
   "metadata": {},
   "outputs": [],
   "source": [
    "if __name__ == '__main__':\n",
    "    executor.start_polling(dp)"
   ]
  },
  {
   "cell_type": "code",
   "execution_count": null,
   "metadata": {},
   "outputs": [],
   "source": []
  }
 ],
 "metadata": {
  "interpreter": {
   "hash": "1e1ee659a212ecca49d6a1809275141ef7642c152d6286fb803a43d965656456"
  },
  "kernelspec": {
   "display_name": "Python 3.9.7 ('food')",
   "language": "python",
   "name": "python3"
  },
  "language_info": {
   "codemirror_mode": {
    "name": "ipython",
    "version": 3
   },
   "file_extension": ".py",
   "mimetype": "text/x-python",
   "name": "python",
   "nbconvert_exporter": "python",
   "pygments_lexer": "ipython3",
   "version": "3.9.7"
  },
  "orig_nbformat": 4
 },
 "nbformat": 4,
 "nbformat_minor": 2
}
