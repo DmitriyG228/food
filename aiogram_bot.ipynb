{
 "cells": [
  {
   "cell_type": "code",
   "execution_count": 1,
   "metadata": {},
   "outputs": [],
   "source": [
    "from aiogram import Bot, Dispatcher, executor, types\n",
    "from aiogram.types import ContentType\n",
    "from aiogram.dispatcher.filters.state import State, StatesGroup\n",
    "from aiogram.types.message import ContentTypes\n",
    "from aiogram.dispatcher import FSMContext\n",
    "from aiogram.contrib.fsm_storage.memory import MemoryStorage\n",
    "from sqlalchemy import update\n",
    "\n",
    "API_TOKEN = \"5091011572:AAG4NfkC_zZjcsaAFkwLm4ZXOvhEqyLpQhY\"\n"
   ]
  },
  {
   "cell_type": "code",
   "execution_count": 2,
   "metadata": {},
   "outputs": [],
   "source": [
    "import asyncio"
   ]
  },
  {
   "cell_type": "code",
   "execution_count": 3,
   "metadata": {},
   "outputs": [],
   "source": [
    "from food.paths import *\n",
    "from food.search import *\n",
    "import pandas as  pd\n",
    "from food.psql import *\n",
    "import pytz\n",
    "timezones = pytz.all_timezones\n",
    "import requests\n",
    "from requests.structures import CaseInsensitiveDict\n",
    "import urllib\n",
    "from tzwhere import tzwhere"
   ]
  },
  {
   "cell_type": "code",
   "execution_count": 4,
   "metadata": {},
   "outputs": [],
   "source": [
    "import nest_asyncio\n",
    "nest_asyncio.apply()"
   ]
  },
  {
   "cell_type": "code",
   "execution_count": 5,
   "metadata": {},
   "outputs": [],
   "source": [
    "def geocode(q):\n",
    "    geocoding_key = '5d96ac126bcb462cb373297924ab2cb4'\n",
    "    url = \"https://api.geoapify.com/v1/geocode/search?\"\n",
    "\n",
    "    params = {\"apiKey\":geocoding_key, \n",
    "            \"text\":q}\n",
    "\n",
    "    resp = requests.get(url + urllib.parse.urlencode(params)).json()\n",
    "    return  pd.json_normalize(resp['features']).sort_values('properties.rank.importance',ascending = False)[['properties.lat','properties.lon']].iloc[0].to_list()\n",
    "   "
   ]
  },
  {
   "cell_type": "code",
   "execution_count": 6,
   "metadata": {},
   "outputs": [],
   "source": [
    "def get_tz(q):\n",
    "    lat,lon = geocode(q)\n",
    "    return tzwhere.tzwhere().tzNameAt(lat,lon)"
   ]
  },
  {
   "cell_type": "code",
   "execution_count": 7,
   "metadata": {},
   "outputs": [],
   "source": [
    "async def async_get_tz(q):\n",
    "    return get_tz(q)"
   ]
  },
  {
   "cell_type": "code",
   "execution_count": 8,
   "metadata": {},
   "outputs": [],
   "source": [
    "async def async_search_image(url, env='prod'):\n",
    "    return search_image(url,env)"
   ]
  },
  {
   "cell_type": "code",
   "execution_count": 9,
   "metadata": {},
   "outputs": [],
   "source": [
    "async def async_geocode(q):\n",
    "    return geocode(q)"
   ]
  },
  {
   "cell_type": "code",
   "execution_count": 10,
   "metadata": {},
   "outputs": [],
   "source": [
    "async def  async_insert_on_conflict(*args, **qwargs):\n",
    "    return insert_on_conflict(*args, **qwargs)\n"
   ]
  },
  {
   "cell_type": "code",
   "execution_count": 11,
   "metadata": {},
   "outputs": [],
   "source": [
    "async def add_sender(message):\n",
    "    sender = message['from'].to_python()\n",
    "    sender = pd.DataFrame(sender,index=[0]).drop(columns =['is_bot'])\n",
    "    await async_insert_on_conflict(sender,'users',unique_cols=['id'])"
   ]
  },
  {
   "cell_type": "code",
   "execution_count": null,
   "metadata": {},
   "outputs": [],
   "source": []
  },
  {
   "cell_type": "code",
   "execution_count": null,
   "metadata": {},
   "outputs": [],
   "source": []
  },
  {
   "cell_type": "code",
   "execution_count": 12,
   "metadata": {},
   "outputs": [],
   "source": [
    "# Initialize bot and dispatcher\n",
    "bot = Bot(token=API_TOKEN)\n",
    "storage = MemoryStorage()\n",
    "dp = Dispatcher(bot, storage=storage)\n",
    "\n",
    "dishes_table = Dishes.__table__\n"
   ]
  },
  {
   "cell_type": "code",
   "execution_count": 13,
   "metadata": {},
   "outputs": [
    {
     "data": {
      "text/plain": [
       "'0.2 - '"
      ]
     },
     "execution_count": 13,
     "metadata": {},
     "output_type": "execute_result"
    }
   ],
   "source": [
    "ml_version = 0.2\n",
    "\"\"\"0.2 - \"\"\""
   ]
  },
  {
   "cell_type": "code",
   "execution_count": 14,
   "metadata": {},
   "outputs": [],
   "source": [
    "class CState(StatesGroup):\n",
    "    init           = State()\n",
    "    photo_taken    = State()\n",
    "    measured       = State()\n",
    "    set_timezone   = State()\n",
    "    "
   ]
  },
  {
   "cell_type": "code",
   "execution_count": 15,
   "metadata": {},
   "outputs": [],
   "source": [
    "@dp.message_handler(commands=['start'])\n",
    "async def send_welcome(message: types.Message):\n",
    "    \n",
    "    await CState.init.set()\n",
    "    await message.reply(\"\"\"Counting calories as easy as taking pictures. Just capture everything before you eat it\\n\n",
    "                          Now send a photo of your meal to try\"\"\")"
   ]
  },
  {
   "cell_type": "code",
   "execution_count": 16,
   "metadata": {},
   "outputs": [],
   "source": [
    "@dp.message_handler(commands=['set_timezone'])\n",
    "async def send_welcome(message: types.Message, state: FSMContext):\n",
    "    await CState.set_timezone.set()\n",
    "    await message.reply(f\"please search your town to set timezone\")\n"
   ]
  },
  {
   "cell_type": "code",
   "execution_count": 17,
   "metadata": {},
   "outputs": [],
   "source": [
    "@dp.message_handler(state=CState.set_timezone)\n",
    "async def set_timezone(message: types.Message, state: FSMContext):\n",
    "    await types.ChatActions.typing()\n",
    "\n",
    "    global m \n",
    "    global tz\n",
    "    m = message\n",
    "    await add_sender(message)\n",
    "    tz = await async_get_tz(message.text)\n",
    "\n",
    "    df = pd.DataFrame([[m['from']['id'],'tz',tz,pd.Timestamp.utcnow()]],columns = ['user_id','property','value','timestamp'])\n",
    "    df.to_sql('user_properties',schema = schema,con = engine,if_exists = 'append',index = False)\n",
    "\n",
    "    await message.reply(f\"your tz is set to {tz}\")"
   ]
  },
  {
   "cell_type": "code",
   "execution_count": 18,
   "metadata": {},
   "outputs": [],
   "source": [
    "@dp.message_handler(content_types=ContentType.PHOTO)\n",
    "async def process_photo(message: types.Message, state: FSMContext):\n",
    "    await types.ChatActions.typing()\n",
    "    \n",
    "    await add_sender(message)\n",
    "\n",
    "    photo  = message['photo'][-1]\n",
    "    await photo.download(reference_images_path/photo['file_id'])\n",
    "    image_url = await photo.get_url()\n",
    "    dish = await async_search_image(url=image_url, env='prod')\n",
    "    \n",
    "    dish['photo_id'] = photo['file_id']\n",
    "    dish['user_id'] = sender['id'][0]\n",
    "    dish['ml_version'] = ml_version \n",
    "    dish['timestamp']=pd.Timestamp.utcnow()\n",
    "    dish.to_sql('dishes',schema = schema,if_exists = 'append',index = False,con=engine)\n",
    "    \n",
    "    await CState.photo_taken.set()\n",
    "    async with state.proxy() as data: data['photo_id'] = photo['file_id']\n",
    "\n",
    "    btns_text = tuple([(str(p)) for p in range(10,510,10)])\n",
    "\n",
    "    keyboard_markup = types.ReplyKeyboardMarkup(row_width=2)\n",
    "    keyboard_markup.add(*(types.KeyboardButton(text) for text in btns_text))\n",
    "\n",
    "\n",
    "    await message.reply(\"set weight of the dish you are going to eat\", reply_markup=keyboard_markup)\n"
   ]
  },
  {
   "cell_type": "code",
   "execution_count": 19,
   "metadata": {},
   "outputs": [],
   "source": [
    "@dp.message_handler(lambda message: message.text.isdigit(), state=CState.photo_taken)\n",
    "async def measure(message: types.Message, state: FSMContext):\n",
    "\n",
    "    async with state.proxy() as data:  photo_id = data['photo_id']\n",
    "    stmt = (\n",
    "            dishes_table.update()\n",
    "                        .where(dishes_table.c.photo_id == photo_id)\n",
    "                        .values(grams=int(message.text))\n",
    "                        .returning(dishes_table.c.id)\n",
    "    )\n",
    "    session.execute(stmt)\n",
    "    session.commit()"
   ]
  },
  {
   "cell_type": "code",
   "execution_count": 20,
   "metadata": {},
   "outputs": [
    {
     "name": "stderr",
     "output_type": "stream",
     "text": [
      "/home/dima/anaconda3/envs/food/lib/python3.9/site-packages/tzwhere/tzwhere.py:62: VisibleDeprecationWarning: Creating an ndarray from ragged nested sequences (which is a list-or-tuple of lists-or-tuples-or ndarrays with different lengths or shapes) is deprecated. If you meant to do this, you must specify 'dtype=object' when creating the ndarray.\n",
      "  self.timezoneNamesToPolygons[tzname] = WRAP(polys)\n"
     ]
    }
   ],
   "source": [
    "if __name__ == '__main__':\n",
    "    executor.start_polling(dp)"
   ]
  },
  {
   "cell_type": "code",
   "execution_count": null,
   "metadata": {},
   "outputs": [
    {
     "data": {
      "text/plain": [
       "78882798"
      ]
     },
     "execution_count": 21,
     "metadata": {},
     "output_type": "execute_result"
    },
    {
     "name": "stderr",
     "output_type": "stream",
     "text": [
      "Polling is stopped.\n"
     ]
    }
   ],
   "source": [
    "m['from']['id']"
   ]
  },
  {
   "cell_type": "code",
   "execution_count": null,
   "metadata": {},
   "outputs": [],
   "source": []
  },
  {
   "cell_type": "code",
   "execution_count": 14,
   "metadata": {},
   "outputs": [],
   "source": [
    "photo_id = 'AgACAgIAAxkBAAIG8WKoe7peZ5foW_cd-M-R9oTXbqRWAAKcvjEbmhxISQWeTbFDWlEcAQADAgADeQADJAQ'\n",
    "grams = 20"
   ]
  },
  {
   "cell_type": "code",
   "execution_count": null,
   "metadata": {},
   "outputs": [],
   "source": [
    "int(grams)"
   ]
  },
  {
   "cell_type": "code",
   "execution_count": 20,
   "metadata": {},
   "outputs": [
    {
     "data": {
      "text/plain": [
       "['id',\n",
       " 'description',\n",
       " 'energy',\n",
       " 'protein',\n",
       " 'carb',\n",
       " 'fat',\n",
       " 'score',\n",
       " 'photo_id',\n",
       " 'user_id',\n",
       " 'timestamp',\n",
       " 'ml_version']"
      ]
     },
     "execution_count": 20,
     "metadata": {},
     "output_type": "execute_result"
    }
   ],
   "source": [
    "dishes_table.columns.keys()"
   ]
  },
  {
   "cell_type": "code",
   "execution_count": 56,
   "metadata": {},
   "outputs": [],
   "source": [
    "import urllib.parse\n",
    "import tzwhere"
   ]
  },
  {
   "cell_type": "code",
   "execution_count": 86,
   "metadata": {},
   "outputs": [],
   "source": []
  },
  {
   "cell_type": "code",
   "execution_count": 87,
   "metadata": {},
   "outputs": [
    {
     "data": {
      "text/plain": [
       "(-75.094692, 4.5796933)"
      ]
     },
     "execution_count": 87,
     "metadata": {},
     "output_type": "execute_result"
    }
   ],
   "source": [
    "geocode('lisboa')"
   ]
  },
  {
   "cell_type": "code",
   "execution_count": 70,
   "metadata": {},
   "outputs": [
    {
     "data": {
      "text/plain": [
       "84.881012"
      ]
     },
     "execution_count": 70,
     "metadata": {},
     "output_type": "execute_result"
    }
   ],
   "source": [
    "resp['properties']['lon']"
   ]
  },
  {
   "cell_type": "code",
   "execution_count": 59,
   "metadata": {},
   "outputs": [
    {
     "ename": "KeyError",
     "evalue": "'lat'",
     "output_type": "error",
     "traceback": [
      "\u001b[0;31m---------------------------------------------------------------------------\u001b[0m",
      "\u001b[0;31mKeyError\u001b[0m                                  Traceback (most recent call last)",
      "\u001b[1;32m/home/dima/food_main/aiogram_bot.ipynb Cell 23'\u001b[0m in \u001b[0;36m<cell line: 1>\u001b[0;34m()\u001b[0m\n\u001b[0;32m----> <a href='vscode-notebook-cell://ssh-remote%2Bml2/home/dima/food_main/aiogram_bot.ipynb#ch0000077vscode-remote?line=0'>1</a>\u001b[0m resp[\u001b[39m'\u001b[39;49m\u001b[39mlat\u001b[39;49m\u001b[39m'\u001b[39;49m],resp[\u001b[39m'\u001b[39m\u001b[39mlon\u001b[39m\u001b[39m'\u001b[39m]\n",
      "\u001b[0;31mKeyError\u001b[0m: 'lat'"
     ]
    }
   ],
   "source": [
    "resp['lat'],resp['lon']"
   ]
  },
  {
   "cell_type": "code",
   "execution_count": null,
   "metadata": {},
   "outputs": [],
   "source": [
    "tz = tzwhere.tzwhere().tzNameAt(message.location.latitude, message.location.longitude)"
   ]
  },
  {
   "cell_type": "code",
   "execution_count": null,
   "metadata": {},
   "outputs": [],
   "source": []
  },
  {
   "cell_type": "code",
   "execution_count": null,
   "metadata": {},
   "outputs": [],
   "source": []
  },
  {
   "cell_type": "code",
   "execution_count": 16,
   "metadata": {},
   "outputs": [
    {
     "name": "stdout",
     "output_type": "stream",
     "text": [
      "200\n"
     ]
    }
   ],
   "source": [
    "import requests\n",
    "from requests.structures import CaseInsensitiveDict\n",
    "\n",
    "url = f\"https://api.geoapify.com/v1/geocode/search?text=38%20Upper%20Montagu%20Street%2C%20Westminster%20W1H%201LJ%2C%20United%20Kingdom&apiKey=5d96ac126bcb462cb373297924ab2cb4\"\n",
    "\n",
    "headers = CaseInsensitiveDict()\n",
    "headers[\"Accept\"] = \"application/json\"\n",
    "\n",
    "resp = requests.get(url, headers=headers)\n",
    "\n",
    "print(resp.status_code)"
   ]
  },
  {
   "cell_type": "code",
   "execution_count": 18,
   "metadata": {},
   "outputs": [
    {
     "data": {
      "text/plain": [
       "{'type': 'FeatureCollection',\n",
       " 'features': [{'type': 'Feature',\n",
       "   'properties': {'datasource': {'sourcename': 'openstreetmap',\n",
       "     'attribution': '© OpenStreetMap contributors',\n",
       "     'license': 'Open Database License',\n",
       "     'url': 'https://www.openstreetmap.org/copyright'},\n",
       "    'name': 'Parkhaus Kö Talstraße',\n",
       "    'housenumber': '1',\n",
       "    'street': 'Talstraße',\n",
       "    'suburb': 'Friedrichstadt',\n",
       "    'district': 'Stadtbezirk 3',\n",
       "    'city': 'Dusseldorf',\n",
       "    'state': 'North Rhine-Westphalia',\n",
       "    'postcode': '40217',\n",
       "    'country': 'Germany',\n",
       "    'country_code': 'de',\n",
       "    'lon': 6.778318997521949,\n",
       "    'lat': 51.21710155,\n",
       "    'distance': 0,\n",
       "    'result_type': 'amenity',\n",
       "    'formatted': 'Parkhaus Kö Talstraße, Talstraße 1, 40217 Dusseldorf, Germany',\n",
       "    'address_line1': 'Parkhaus Kö Talstraße',\n",
       "    'address_line2': 'Talstraße 1, 40217 Dusseldorf, Germany',\n",
       "    'category': 'parking.cars',\n",
       "    'rank': {'popularity': 8.995467104553104},\n",
       "    'place_id': '515fd9c0a7ff1c1b40599994ccfbc99b4940f00102f9010877d008000000009203175061726b68617573204bc3b62054616c73747261c39f65'},\n",
       "   'geometry': {'type': 'Point',\n",
       "    'coordinates': [6.778318997521949, 51.21710155]},\n",
       "   'bbox': [6.7778088, 51.2169068, 6.7786914, 51.2173398]}]}"
      ]
     },
     "execution_count": 18,
     "metadata": {},
     "output_type": "execute_result"
    }
   ],
   "source": [
    "resp.json()"
   ]
  },
  {
   "cell_type": "code",
   "execution_count": null,
   "metadata": {},
   "outputs": [],
   "source": []
  }
 ],
 "metadata": {
  "interpreter": {
   "hash": "1e1ee659a212ecca49d6a1809275141ef7642c152d6286fb803a43d965656456"
  },
  "kernelspec": {
   "display_name": "Python 3.9.7 ('food')",
   "language": "python",
   "name": "python3"
  },
  "language_info": {
   "codemirror_mode": {
    "name": "ipython",
    "version": 3
   },
   "file_extension": ".py",
   "mimetype": "text/x-python",
   "name": "python",
   "nbconvert_exporter": "python",
   "pygments_lexer": "ipython3",
   "version": "3.9.7"
  },
  "orig_nbformat": 4
 },
 "nbformat": 4,
 "nbformat_minor": 2
}
