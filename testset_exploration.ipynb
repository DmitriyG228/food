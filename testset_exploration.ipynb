{
 "cells": [
  {
   "cell_type": "code",
   "execution_count": 4,
   "metadata": {},
   "outputs": [],
   "source": [
    "from food.tools import *\n",
    "from food.paths import *\n",
    "from food.psql import *\n",
    "\n",
    "import pandas as pd\n",
    "import numpy as np\n",
    "from pathlib import Path\n",
    "\n",
    "# !nbdev_build_lib"
   ]
  },
  {
   "cell_type": "code",
   "execution_count": 5,
   "metadata": {},
   "outputs": [],
   "source": [
    "photos_path = testset_path/'test_photos'"
   ]
  },
  {
   "cell_type": "code",
   "execution_count": 7,
   "metadata": {},
   "outputs": [],
   "source": [
    "testdf = pd.read_csv(testset_path/'test_set.csv')\n",
    "\n",
    "testdf.columns = ['name_f','fat_f','protein_f','carbs_f','energy_f','','','','','weight_f','','url']\n",
    "testdf = testdf.drop(columns = [c for c in testdf.columns if c == ''])\n",
    "for c in ['fat_f','protein_f','energy_f','weight_f','carbs_f']:\n",
    "    testdf[c] = testdf[c].str.replace(',','.').astype('float64')\n",
    "testdf['url'] = testdf['url'].apply(lambda id:f\"https://glovo.away.guru/test_photos/{id}.jpeg\")"
   ]
  },
  {
   "cell_type": "code",
   "execution_count": 8,
   "metadata": {},
   "outputs": [],
   "source": [
    "from food.search import *"
   ]
  },
  {
   "cell_type": "code",
   "execution_count": 30,
   "metadata": {},
   "outputs": [
    {
     "name": "stdout",
     "output_type": "stream",
     "text": [
      "tensor([0.2510], dtype=torch.float64)\n",
      "tensor([0.2613], dtype=torch.float64)\n",
      "tensor([0.2627], dtype=torch.float64)\n",
      "tensor([0.2628], dtype=torch.float64)\n",
      "tensor([0.2628], dtype=torch.float64)\n",
      "tensor([0.2628], dtype=torch.float64)\n",
      "tensor([0.2682], dtype=torch.float64)\n",
      "tensor([0.2851], dtype=torch.float64)\n",
      "tensor([0.2863], dtype=torch.float64)\n",
      "tensor([0.2864], dtype=torch.float64)\n",
      "tensor([0.2862], dtype=torch.float64)\n",
      "tensor([0.2863], dtype=torch.float64)\n",
      "tensor([0.2863], dtype=torch.float64)\n",
      "tensor([0.2650], dtype=torch.float64)\n",
      "tensor([0.2687], dtype=torch.float64)\n",
      "tensor([0.2699], dtype=torch.float64)\n",
      "tensor([0.2700], dtype=torch.float64)\n",
      "tensor([0.2700], dtype=torch.float64)\n",
      "tensor([0.2460], dtype=torch.float64)\n",
      "tensor([0.2684], dtype=torch.float64)\n",
      "tensor([0.2684], dtype=torch.float64)\n",
      "tensor([0.2377], dtype=torch.float64)\n",
      "tensor([0.2542], dtype=torch.float64)\n",
      "tensor([0.2566], dtype=torch.float64)\n",
      "tensor([0.2568], dtype=torch.float64)\n",
      "tensor([0.2568], dtype=torch.float64)\n",
      "tensor([0.2903], dtype=torch.float64)\n",
      "tensor([0.3016], dtype=torch.float64)\n",
      "tensor([0.3029], dtype=torch.float64)\n",
      "tensor([0.3030], dtype=torch.float64)\n",
      "tensor([0.3030], dtype=torch.float64)\n",
      "tensor([0.3030], dtype=torch.float64)\n",
      "tensor([0.3032], dtype=torch.float64)\n",
      "tensor([0.3032], dtype=torch.float64)\n",
      "tensor([0.2489], dtype=torch.float64)\n",
      "tensor([0.2611], dtype=torch.float64)\n",
      "tensor([0.2628], dtype=torch.float64)\n",
      "tensor([0.2628], dtype=torch.float64)\n",
      "tensor([0.2629], dtype=torch.float64)\n",
      "tensor([0.2629], dtype=torch.float64)\n",
      "tensor([0.2407], dtype=torch.float64)\n",
      "tensor([0.2492], dtype=torch.float64)\n",
      "tensor([0.2499], dtype=torch.float64)\n",
      "tensor([0.2499], dtype=torch.float64)\n",
      "tensor([0.2499], dtype=torch.float64)\n",
      "tensor([0.2498], dtype=torch.float64)\n",
      "tensor([0.2498], dtype=torch.float64)\n",
      "tensor([0.2581], dtype=torch.float64)\n",
      "tensor([0.2644], dtype=torch.float64)\n",
      "tensor([0.2649], dtype=torch.float64)\n",
      "tensor([0.2649], dtype=torch.float64)\n",
      "tensor([0.2649], dtype=torch.float64)\n",
      "tensor([0.2656], dtype=torch.float64)\n",
      "tensor([0.2795], dtype=torch.float64)\n",
      "tensor([0.2814], dtype=torch.float64)\n",
      "tensor([0.2814], dtype=torch.float64)\n",
      "tensor([0.2814], dtype=torch.float64)\n"
     ]
    },
    {
     "name": "stderr",
     "output_type": "stream",
     "text": [
      "/tmp/ipykernel_1054155/633827319.py:7: SettingWithCopyWarning: \n",
      "A value is trying to be set on a copy of a slice from a DataFrame.\n",
      "Try using .loc[row_indexer,col_indexer] = value instead\n",
      "\n",
      "See the caveats in the documentation: https://pandas.pydata.org/pandas-docs/stable/user_guide/indexing.html#returning-a-view-versus-a-copy\n",
      "  rrr['error'] = (rrr['energy_f']/rrr['energy']-1).abs()\n"
     ]
    },
    {
     "data": {
      "text/html": [
       "<div>\n",
       "<style scoped>\n",
       "    .dataframe tbody tr th:only-of-type {\n",
       "        vertical-align: middle;\n",
       "    }\n",
       "\n",
       "    .dataframe tbody tr th {\n",
       "        vertical-align: top;\n",
       "    }\n",
       "\n",
       "    .dataframe thead th {\n",
       "        text-align: right;\n",
       "    }\n",
       "</style>\n",
       "<table border=\"1\" class=\"dataframe\">\n",
       "  <thead>\n",
       "    <tr style=\"text-align: right;\">\n",
       "      <th></th>\n",
       "      <th>energy_f</th>\n",
       "      <th>energy</th>\n",
       "      <th>url</th>\n",
       "      <th>description</th>\n",
       "      <th>error</th>\n",
       "    </tr>\n",
       "  </thead>\n",
       "  <tbody>\n",
       "    <tr>\n",
       "      <th>0</th>\n",
       "      <td>328.85</td>\n",
       "      <td>148.0</td>\n",
       "      <td>https://glovo.away.guru/test_photos/52ccafcc-e...</td>\n",
       "      <td>Tuna, fresh, coated, fried. Sushi roll, Califo...</td>\n",
       "      <td>1.221959</td>\n",
       "    </tr>\n",
       "    <tr>\n",
       "      <th>2</th>\n",
       "      <td>108.85</td>\n",
       "      <td>239.0</td>\n",
       "      <td>https://glovo.away.guru/test_photos/ecc8590f-a...</td>\n",
       "      <td>Chicken \"wings\" with other sauces or seasoning...</td>\n",
       "      <td>0.544561</td>\n",
       "    </tr>\n",
       "    <tr>\n",
       "      <th>5</th>\n",
       "      <td>297.30</td>\n",
       "      <td>215.0</td>\n",
       "      <td>https://glovo.away.guru/test_photos/9a0acde1-3...</td>\n",
       "      <td>Pasta with cream sauce, poultry, and added veg...</td>\n",
       "      <td>0.382791</td>\n",
       "    </tr>\n",
       "    <tr>\n",
       "      <th>4</th>\n",
       "      <td>261.32</td>\n",
       "      <td>189.0</td>\n",
       "      <td>https://glovo.away.guru/test_photos/1855845c-5...</td>\n",
       "      <td>Pie, pear, individual size or tart. Basil, raw</td>\n",
       "      <td>0.382646</td>\n",
       "    </tr>\n",
       "    <tr>\n",
       "      <th>6</th>\n",
       "      <td>151.69</td>\n",
       "      <td>118.0</td>\n",
       "      <td>https://glovo.away.guru/test_photos/748d5921-3...</td>\n",
       "      <td>Wrap sandwich, filled with vegetables. Sushi r...</td>\n",
       "      <td>0.285508</td>\n",
       "    </tr>\n",
       "    <tr>\n",
       "      <th>3</th>\n",
       "      <td>59.88</td>\n",
       "      <td>72.0</td>\n",
       "      <td>https://glovo.away.guru/test_photos/1f111c7e-d...</td>\n",
       "      <td>Pasta with tomato-based sauce, and added veget...</td>\n",
       "      <td>0.168333</td>\n",
       "    </tr>\n",
       "    <tr>\n",
       "      <th>1</th>\n",
       "      <td>104.19</td>\n",
       "      <td>123.0</td>\n",
       "      <td>https://glovo.away.guru/test_photos/638301ac-0...</td>\n",
       "      <td>Seaweed, dried. Bitter melon, horseradish, jut...</td>\n",
       "      <td>0.152927</td>\n",
       "    </tr>\n",
       "    <tr>\n",
       "      <th>7</th>\n",
       "      <td>142.55</td>\n",
       "      <td>127.0</td>\n",
       "      <td>https://glovo.away.guru/test_photos/84dc856a-f...</td>\n",
       "      <td>Sushi roll, California. Sushi, topped with sal...</td>\n",
       "      <td>0.122441</td>\n",
       "    </tr>\n",
       "    <tr>\n",
       "      <th>8</th>\n",
       "      <td>255.40</td>\n",
       "      <td>237.0</td>\n",
       "      <td>https://glovo.away.guru/test_photos/6cc34ea4-6...</td>\n",
       "      <td>Pizza with pepperoni, from restaurant or fast ...</td>\n",
       "      <td>0.077637</td>\n",
       "    </tr>\n",
       "    <tr>\n",
       "      <th>9</th>\n",
       "      <td>220.22</td>\n",
       "      <td>234.0</td>\n",
       "      <td>https://glovo.away.guru/test_photos/1cce4755-4...</td>\n",
       "      <td>Egg and ham on biscuit. Crepe, filled with mea...</td>\n",
       "      <td>0.058889</td>\n",
       "    </tr>\n",
       "  </tbody>\n",
       "</table>\n",
       "</div>"
      ],
      "text/plain": [
       "   energy_f  energy                                                url  \\\n",
       "0    328.85   148.0  https://glovo.away.guru/test_photos/52ccafcc-e...   \n",
       "2    108.85   239.0  https://glovo.away.guru/test_photos/ecc8590f-a...   \n",
       "5    297.30   215.0  https://glovo.away.guru/test_photos/9a0acde1-3...   \n",
       "4    261.32   189.0  https://glovo.away.guru/test_photos/1855845c-5...   \n",
       "6    151.69   118.0  https://glovo.away.guru/test_photos/748d5921-3...   \n",
       "3     59.88    72.0  https://glovo.away.guru/test_photos/1f111c7e-d...   \n",
       "1    104.19   123.0  https://glovo.away.guru/test_photos/638301ac-0...   \n",
       "7    142.55   127.0  https://glovo.away.guru/test_photos/84dc856a-f...   \n",
       "8    255.40   237.0  https://glovo.away.guru/test_photos/6cc34ea4-6...   \n",
       "9    220.22   234.0  https://glovo.away.guru/test_photos/1cce4755-4...   \n",
       "\n",
       "                                         description     error  \n",
       "0  Tuna, fresh, coated, fried. Sushi roll, Califo...  1.221959  \n",
       "2  Chicken \"wings\" with other sauces or seasoning...  0.544561  \n",
       "5  Pasta with cream sauce, poultry, and added veg...  0.382791  \n",
       "4     Pie, pear, individual size or tart. Basil, raw  0.382646  \n",
       "6  Wrap sandwich, filled with vegetables. Sushi r...  0.285508  \n",
       "3  Pasta with tomato-based sauce, and added veget...  0.168333  \n",
       "1  Seaweed, dried. Bitter melon, horseradish, jut...  0.152927  \n",
       "7  Sushi roll, California. Sushi, topped with sal...  0.122441  \n",
       "8  Pizza with pepperoni, from restaurant or fast ...  0.077637  \n",
       "9  Egg and ham on biscuit. Crepe, filled with mea...  0.058889  "
      ]
     },
     "execution_count": 30,
     "metadata": {},
     "output_type": "execute_result"
    }
   ],
   "source": [
    "r = []\n",
    "fact = testdf.sample(10).reset_index(drop=True)\n",
    "for image in fact['url'].tolist():\n",
    "    r.append(search_image(image,env='prod'))\n",
    "rr = fact.join(pd.concat(r).reset_index(drop=True))\n",
    "rrr = rr[['energy_f','energy','url','description']]\n",
    "rrr['error'] = (rrr['energy_f']/rrr['energy']-1).abs()\n",
    "rrr = rrr.sort_values('error',ascending = False).reset_index(drop=True)\n"
   ]
  },
  {
   "cell_type": "code",
   "execution_count": null,
   "metadata": {},
   "outputs": [],
   "source": [
    "ккк"
   ]
  },
  {
   "cell_type": "code",
   "execution_count": 37,
   "metadata": {},
   "outputs": [
    {
     "data": {
      "text/plain": [
       "energy_f                                                   297.3\n",
       "energy                                                     215.0\n",
       "url            https://glovo.away.guru/test_photos/9a0acde1-3...\n",
       "description    Pasta with cream sauce, poultry, and added veg...\n",
       "error                                                   0.382791\n",
       "Name: 5, dtype: object"
      ]
     },
     "execution_count": 37,
     "metadata": {},
     "output_type": "execute_result"
    }
   ],
   "source": [
    "rrr.iloc[2]"
   ]
  },
  {
   "cell_type": "code",
   "execution_count": 38,
   "metadata": {},
   "outputs": [],
   "source": [
    "get_image_from_url(rrr.iloc[2]['url'])"
   ]
  },
  {
   "cell_type": "code",
   "execution_count": null,
   "metadata": {},
   "outputs": [],
   "source": []
  }
 ],
 "metadata": {
  "interpreter": {
   "hash": "1e1ee659a212ecca49d6a1809275141ef7642c152d6286fb803a43d965656456"
  },
  "kernelspec": {
   "display_name": "Python 3.9.7 ('food')",
   "language": "python",
   "name": "python3"
  },
  "language_info": {
   "codemirror_mode": {
    "name": "ipython",
    "version": 3
   },
   "file_extension": ".py",
   "mimetype": "text/x-python",
   "name": "python",
   "nbconvert_exporter": "python",
   "pygments_lexer": "ipython3",
   "version": "3.9.7"
  },
  "orig_nbformat": 4
 },
 "nbformat": 4,
 "nbformat_minor": 2
}
