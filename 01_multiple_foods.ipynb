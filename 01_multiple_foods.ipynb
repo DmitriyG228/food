{
 "cells": [
  {
   "cell_type": "code",
   "execution_count": 2,
   "metadata": {},
   "outputs": [],
   "source": [
    "%load_ext autoreload\n",
    "%autoreload 2"
   ]
  },
  {
   "cell_type": "code",
   "execution_count": 3,
   "metadata": {},
   "outputs": [],
   "source": [
    "#default_exp classify_image"
   ]
  },
  {
   "cell_type": "code",
   "execution_count": 4,
   "metadata": {},
   "outputs": [],
   "source": [
    "#export\n",
    "from food.tools import *\n",
    "from food.paths import *\n",
    "from food.psql import *\n",
    "import requests\n",
    "from food.qdrant import *"
   ]
  },
  {
   "cell_type": "code",
   "execution_count": 5,
   "metadata": {},
   "outputs": [],
   "source": [
    "collection_name = 'food'"
   ]
  },
  {
   "cell_type": "code",
   "execution_count": 6,
   "metadata": {},
   "outputs": [],
   "source": [
    "#export\n",
    "foods = read_sql('foods')\n",
    "# foods = foods.drop(columns = ['clip'])\n",
    "foods = foods.set_index('id')"
   ]
  },
  {
   "cell_type": "code",
   "execution_count": 7,
   "metadata": {},
   "outputs": [],
   "source": [
    "#export\n",
    "def search_image(url=None,head = 1):\n",
    "    image_clip = requests.post(f'http://127.0.0.1:8181/image2vector/?url={url}').json()\n",
    "    results = client.search(collection_name=collection_name,query_vector=image_clip,top=head)\n",
    "    df = foods.loc[[r.id for r in results]].copy()\n",
    "    df['score'] = [r.score for r in results]\n",
    "    df = df.sort_values('score',ascending=False)\n",
    "\n",
    "    return df.reset_index()"
   ]
  },
  {
   "cell_type": "code",
   "execution_count": 8,
   "metadata": {},
   "outputs": [],
   "source": [
    "import numpy as np\n",
    "import torch\n",
    "from torch.nn import CosineSimilarity\n",
    "cos = CosineSimilarity(dim=1, eps=1e-08)"
   ]
  },
  {
   "cell_type": "code",
   "execution_count": 11,
   "metadata": {},
   "outputs": [
    {
     "ename": "KeyboardInterrupt",
     "evalue": "",
     "output_type": "error",
     "traceback": [
      "\u001b[0;31m---------------------------------------------------------------------------\u001b[0m",
      "\u001b[0;31mKeyboardInterrupt\u001b[0m                         Traceback (most recent call last)",
      "\u001b[1;32m/home/dima/food/01_multiple_foods.ipynb Cell 8'\u001b[0m in \u001b[0;36m<cell line: 2>\u001b[0;34m()\u001b[0m\n\u001b[1;32m      <a href='vscode-notebook-cell://ssh-remote%2Bml2/home/dima/food/01_multiple_foods.ipynb#ch0000008vscode-remote?line=0'>1</a>\u001b[0m url \u001b[39m=\u001b[39m \u001b[39m'\u001b[39m\u001b[39mhttps://www.campbellsmeat.com/images/cms/large/142804413214140689200001550_nicknairnsperfectsteakandchipsrecipe.jpeg\u001b[39m\u001b[39m'\u001b[39m\n\u001b[0;32m----> <a href='vscode-notebook-cell://ssh-remote%2Bml2/home/dima/food/01_multiple_foods.ipynb#ch0000008vscode-remote?line=1'>2</a>\u001b[0m df \u001b[39m=\u001b[39m search_image(url,head\u001b[39m=\u001b[39;49m\u001b[39m70\u001b[39;49m)\n\u001b[1;32m      <a href='vscode-notebook-cell://ssh-remote%2Bml2/home/dima/food/01_multiple_foods.ipynb#ch0000008vscode-remote?line=2'>3</a>\u001b[0m clip \u001b[39m=\u001b[39m torch\u001b[39m.\u001b[39mtensor([np\u001b[39m.\u001b[39marray(c) \u001b[39mfor\u001b[39;00m c \u001b[39min\u001b[39;00m df[\u001b[39m'\u001b[39m\u001b[39mclip\u001b[39m\u001b[39m'\u001b[39m]\u001b[39m.\u001b[39mvalues])\n\u001b[1;32m      <a href='vscode-notebook-cell://ssh-remote%2Bml2/home/dima/food/01_multiple_foods.ipynb#ch0000008vscode-remote?line=3'>4</a>\u001b[0m best \u001b[39m=\u001b[39m df\u001b[39m.\u001b[39msort_values(\u001b[39m\"\u001b[39m\u001b[39mscore\u001b[39m\u001b[39m\"\u001b[39m,ascending\u001b[39m=\u001b[39m\u001b[39mFalse\u001b[39;00m)\u001b[39m.\u001b[39miloc[\u001b[39m0\u001b[39m]\u001b[39m.\u001b[39mname\n",
      "\u001b[1;32m/home/dima/food/01_multiple_foods.ipynb Cell 6'\u001b[0m in \u001b[0;36msearch_image\u001b[0;34m(url, head)\u001b[0m\n\u001b[1;32m      <a href='vscode-notebook-cell://ssh-remote%2Bml2/home/dima/food/01_multiple_foods.ipynb#ch0000005vscode-remote?line=1'>2</a>\u001b[0m \u001b[39mdef\u001b[39;00m \u001b[39msearch_image\u001b[39m(url\u001b[39m=\u001b[39m\u001b[39mNone\u001b[39;00m,head \u001b[39m=\u001b[39m \u001b[39m1\u001b[39m):\n\u001b[0;32m----> <a href='vscode-notebook-cell://ssh-remote%2Bml2/home/dima/food/01_multiple_foods.ipynb#ch0000005vscode-remote?line=2'>3</a>\u001b[0m     image_clip \u001b[39m=\u001b[39m requests\u001b[39m.\u001b[39;49mpost(\u001b[39mf\u001b[39;49m\u001b[39m'\u001b[39;49m\u001b[39mhttp://127.0.0.1:8181/image2vector/?url=\u001b[39;49m\u001b[39m{\u001b[39;49;00murl\u001b[39m}\u001b[39;49;00m\u001b[39m'\u001b[39;49m)\u001b[39m.\u001b[39mjson()\n\u001b[1;32m      <a href='vscode-notebook-cell://ssh-remote%2Bml2/home/dima/food/01_multiple_foods.ipynb#ch0000005vscode-remote?line=3'>4</a>\u001b[0m     results \u001b[39m=\u001b[39m client\u001b[39m.\u001b[39msearch(collection_name\u001b[39m=\u001b[39mcollection_name,query_vector\u001b[39m=\u001b[39mimage_clip,top\u001b[39m=\u001b[39mhead)\n\u001b[1;32m      <a href='vscode-notebook-cell://ssh-remote%2Bml2/home/dima/food/01_multiple_foods.ipynb#ch0000005vscode-remote?line=4'>5</a>\u001b[0m     df \u001b[39m=\u001b[39m foods\u001b[39m.\u001b[39mloc[[r\u001b[39m.\u001b[39mid \u001b[39mfor\u001b[39;00m r \u001b[39min\u001b[39;00m results]]\u001b[39m.\u001b[39mcopy()\n",
      "File \u001b[0;32m~/anaconda3/envs/food/lib/python3.9/site-packages/requests/api.py:119\u001b[0m, in \u001b[0;36mpost\u001b[0;34m(url, data, json, **kwargs)\u001b[0m\n\u001b[1;32m    <a href='file:///home/dima/anaconda3/envs/food/lib/python3.9/site-packages/requests/api.py?line=106'>107</a>\u001b[0m \u001b[39mdef\u001b[39;00m \u001b[39mpost\u001b[39m(url, data\u001b[39m=\u001b[39m\u001b[39mNone\u001b[39;00m, json\u001b[39m=\u001b[39m\u001b[39mNone\u001b[39;00m, \u001b[39m*\u001b[39m\u001b[39m*\u001b[39mkwargs):\n\u001b[1;32m    <a href='file:///home/dima/anaconda3/envs/food/lib/python3.9/site-packages/requests/api.py?line=107'>108</a>\u001b[0m     \u001b[39mr\u001b[39m\u001b[39m\"\"\"Sends a POST request.\u001b[39;00m\n\u001b[1;32m    <a href='file:///home/dima/anaconda3/envs/food/lib/python3.9/site-packages/requests/api.py?line=108'>109</a>\u001b[0m \n\u001b[1;32m    <a href='file:///home/dima/anaconda3/envs/food/lib/python3.9/site-packages/requests/api.py?line=109'>110</a>\u001b[0m \u001b[39m    :param url: URL for the new :class:`Request` object.\u001b[39;00m\n\u001b[0;32m   (...)\u001b[0m\n\u001b[1;32m    <a href='file:///home/dima/anaconda3/envs/food/lib/python3.9/site-packages/requests/api.py?line=115'>116</a>\u001b[0m \u001b[39m    :rtype: requests.Response\u001b[39;00m\n\u001b[1;32m    <a href='file:///home/dima/anaconda3/envs/food/lib/python3.9/site-packages/requests/api.py?line=116'>117</a>\u001b[0m \u001b[39m    \"\"\"\u001b[39;00m\n\u001b[0;32m--> <a href='file:///home/dima/anaconda3/envs/food/lib/python3.9/site-packages/requests/api.py?line=118'>119</a>\u001b[0m     \u001b[39mreturn\u001b[39;00m request(\u001b[39m'\u001b[39;49m\u001b[39mpost\u001b[39;49m\u001b[39m'\u001b[39;49m, url, data\u001b[39m=\u001b[39;49mdata, json\u001b[39m=\u001b[39;49mjson, \u001b[39m*\u001b[39;49m\u001b[39m*\u001b[39;49mkwargs)\n",
      "File \u001b[0;32m~/anaconda3/envs/food/lib/python3.9/site-packages/requests/api.py:61\u001b[0m, in \u001b[0;36mrequest\u001b[0;34m(method, url, **kwargs)\u001b[0m\n\u001b[1;32m     <a href='file:///home/dima/anaconda3/envs/food/lib/python3.9/site-packages/requests/api.py?line=56'>57</a>\u001b[0m \u001b[39m# By using the 'with' statement we are sure the session is closed, thus we\u001b[39;00m\n\u001b[1;32m     <a href='file:///home/dima/anaconda3/envs/food/lib/python3.9/site-packages/requests/api.py?line=57'>58</a>\u001b[0m \u001b[39m# avoid leaving sockets open which can trigger a ResourceWarning in some\u001b[39;00m\n\u001b[1;32m     <a href='file:///home/dima/anaconda3/envs/food/lib/python3.9/site-packages/requests/api.py?line=58'>59</a>\u001b[0m \u001b[39m# cases, and look like a memory leak in others.\u001b[39;00m\n\u001b[1;32m     <a href='file:///home/dima/anaconda3/envs/food/lib/python3.9/site-packages/requests/api.py?line=59'>60</a>\u001b[0m \u001b[39mwith\u001b[39;00m sessions\u001b[39m.\u001b[39mSession() \u001b[39mas\u001b[39;00m session:\n\u001b[0;32m---> <a href='file:///home/dima/anaconda3/envs/food/lib/python3.9/site-packages/requests/api.py?line=60'>61</a>\u001b[0m     \u001b[39mreturn\u001b[39;00m session\u001b[39m.\u001b[39;49mrequest(method\u001b[39m=\u001b[39;49mmethod, url\u001b[39m=\u001b[39;49murl, \u001b[39m*\u001b[39;49m\u001b[39m*\u001b[39;49mkwargs)\n",
      "File \u001b[0;32m~/anaconda3/envs/food/lib/python3.9/site-packages/requests/sessions.py:530\u001b[0m, in \u001b[0;36mSession.request\u001b[0;34m(self, method, url, params, data, headers, cookies, files, auth, timeout, allow_redirects, proxies, hooks, stream, verify, cert, json)\u001b[0m\n\u001b[1;32m    <a href='file:///home/dima/anaconda3/envs/food/lib/python3.9/site-packages/requests/sessions.py?line=524'>525</a>\u001b[0m send_kwargs \u001b[39m=\u001b[39m {\n\u001b[1;32m    <a href='file:///home/dima/anaconda3/envs/food/lib/python3.9/site-packages/requests/sessions.py?line=525'>526</a>\u001b[0m     \u001b[39m'\u001b[39m\u001b[39mtimeout\u001b[39m\u001b[39m'\u001b[39m: timeout,\n\u001b[1;32m    <a href='file:///home/dima/anaconda3/envs/food/lib/python3.9/site-packages/requests/sessions.py?line=526'>527</a>\u001b[0m     \u001b[39m'\u001b[39m\u001b[39mallow_redirects\u001b[39m\u001b[39m'\u001b[39m: allow_redirects,\n\u001b[1;32m    <a href='file:///home/dima/anaconda3/envs/food/lib/python3.9/site-packages/requests/sessions.py?line=527'>528</a>\u001b[0m }\n\u001b[1;32m    <a href='file:///home/dima/anaconda3/envs/food/lib/python3.9/site-packages/requests/sessions.py?line=528'>529</a>\u001b[0m send_kwargs\u001b[39m.\u001b[39mupdate(settings)\n\u001b[0;32m--> <a href='file:///home/dima/anaconda3/envs/food/lib/python3.9/site-packages/requests/sessions.py?line=529'>530</a>\u001b[0m resp \u001b[39m=\u001b[39m \u001b[39mself\u001b[39;49m\u001b[39m.\u001b[39;49msend(prep, \u001b[39m*\u001b[39;49m\u001b[39m*\u001b[39;49msend_kwargs)\n\u001b[1;32m    <a href='file:///home/dima/anaconda3/envs/food/lib/python3.9/site-packages/requests/sessions.py?line=531'>532</a>\u001b[0m \u001b[39mreturn\u001b[39;00m resp\n",
      "File \u001b[0;32m~/anaconda3/envs/food/lib/python3.9/site-packages/requests/sessions.py:643\u001b[0m, in \u001b[0;36mSession.send\u001b[0;34m(self, request, **kwargs)\u001b[0m\n\u001b[1;32m    <a href='file:///home/dima/anaconda3/envs/food/lib/python3.9/site-packages/requests/sessions.py?line=639'>640</a>\u001b[0m start \u001b[39m=\u001b[39m preferred_clock()\n\u001b[1;32m    <a href='file:///home/dima/anaconda3/envs/food/lib/python3.9/site-packages/requests/sessions.py?line=641'>642</a>\u001b[0m \u001b[39m# Send the request\u001b[39;00m\n\u001b[0;32m--> <a href='file:///home/dima/anaconda3/envs/food/lib/python3.9/site-packages/requests/sessions.py?line=642'>643</a>\u001b[0m r \u001b[39m=\u001b[39m adapter\u001b[39m.\u001b[39;49msend(request, \u001b[39m*\u001b[39;49m\u001b[39m*\u001b[39;49mkwargs)\n\u001b[1;32m    <a href='file:///home/dima/anaconda3/envs/food/lib/python3.9/site-packages/requests/sessions.py?line=644'>645</a>\u001b[0m \u001b[39m# Total elapsed time of the request (approximately)\u001b[39;00m\n\u001b[1;32m    <a href='file:///home/dima/anaconda3/envs/food/lib/python3.9/site-packages/requests/sessions.py?line=645'>646</a>\u001b[0m elapsed \u001b[39m=\u001b[39m preferred_clock() \u001b[39m-\u001b[39m start\n",
      "File \u001b[0;32m~/anaconda3/envs/food/lib/python3.9/site-packages/requests/adapters.py:439\u001b[0m, in \u001b[0;36mHTTPAdapter.send\u001b[0;34m(self, request, stream, timeout, verify, cert, proxies)\u001b[0m\n\u001b[1;32m    <a href='file:///home/dima/anaconda3/envs/food/lib/python3.9/site-packages/requests/adapters.py?line=436'>437</a>\u001b[0m \u001b[39mtry\u001b[39;00m:\n\u001b[1;32m    <a href='file:///home/dima/anaconda3/envs/food/lib/python3.9/site-packages/requests/adapters.py?line=437'>438</a>\u001b[0m     \u001b[39mif\u001b[39;00m \u001b[39mnot\u001b[39;00m chunked:\n\u001b[0;32m--> <a href='file:///home/dima/anaconda3/envs/food/lib/python3.9/site-packages/requests/adapters.py?line=438'>439</a>\u001b[0m         resp \u001b[39m=\u001b[39m conn\u001b[39m.\u001b[39;49murlopen(\n\u001b[1;32m    <a href='file:///home/dima/anaconda3/envs/food/lib/python3.9/site-packages/requests/adapters.py?line=439'>440</a>\u001b[0m             method\u001b[39m=\u001b[39;49mrequest\u001b[39m.\u001b[39;49mmethod,\n\u001b[1;32m    <a href='file:///home/dima/anaconda3/envs/food/lib/python3.9/site-packages/requests/adapters.py?line=440'>441</a>\u001b[0m             url\u001b[39m=\u001b[39;49murl,\n\u001b[1;32m    <a href='file:///home/dima/anaconda3/envs/food/lib/python3.9/site-packages/requests/adapters.py?line=441'>442</a>\u001b[0m             body\u001b[39m=\u001b[39;49mrequest\u001b[39m.\u001b[39;49mbody,\n\u001b[1;32m    <a href='file:///home/dima/anaconda3/envs/food/lib/python3.9/site-packages/requests/adapters.py?line=442'>443</a>\u001b[0m             headers\u001b[39m=\u001b[39;49mrequest\u001b[39m.\u001b[39;49mheaders,\n\u001b[1;32m    <a href='file:///home/dima/anaconda3/envs/food/lib/python3.9/site-packages/requests/adapters.py?line=443'>444</a>\u001b[0m             redirect\u001b[39m=\u001b[39;49m\u001b[39mFalse\u001b[39;49;00m,\n\u001b[1;32m    <a href='file:///home/dima/anaconda3/envs/food/lib/python3.9/site-packages/requests/adapters.py?line=444'>445</a>\u001b[0m             assert_same_host\u001b[39m=\u001b[39;49m\u001b[39mFalse\u001b[39;49;00m,\n\u001b[1;32m    <a href='file:///home/dima/anaconda3/envs/food/lib/python3.9/site-packages/requests/adapters.py?line=445'>446</a>\u001b[0m             preload_content\u001b[39m=\u001b[39;49m\u001b[39mFalse\u001b[39;49;00m,\n\u001b[1;32m    <a href='file:///home/dima/anaconda3/envs/food/lib/python3.9/site-packages/requests/adapters.py?line=446'>447</a>\u001b[0m             decode_content\u001b[39m=\u001b[39;49m\u001b[39mFalse\u001b[39;49;00m,\n\u001b[1;32m    <a href='file:///home/dima/anaconda3/envs/food/lib/python3.9/site-packages/requests/adapters.py?line=447'>448</a>\u001b[0m             retries\u001b[39m=\u001b[39;49m\u001b[39mself\u001b[39;49m\u001b[39m.\u001b[39;49mmax_retries,\n\u001b[1;32m    <a href='file:///home/dima/anaconda3/envs/food/lib/python3.9/site-packages/requests/adapters.py?line=448'>449</a>\u001b[0m             timeout\u001b[39m=\u001b[39;49mtimeout\n\u001b[1;32m    <a href='file:///home/dima/anaconda3/envs/food/lib/python3.9/site-packages/requests/adapters.py?line=449'>450</a>\u001b[0m         )\n\u001b[1;32m    <a href='file:///home/dima/anaconda3/envs/food/lib/python3.9/site-packages/requests/adapters.py?line=451'>452</a>\u001b[0m     \u001b[39m# Send the request.\u001b[39;00m\n\u001b[1;32m    <a href='file:///home/dima/anaconda3/envs/food/lib/python3.9/site-packages/requests/adapters.py?line=452'>453</a>\u001b[0m     \u001b[39melse\u001b[39;00m:\n\u001b[1;32m    <a href='file:///home/dima/anaconda3/envs/food/lib/python3.9/site-packages/requests/adapters.py?line=453'>454</a>\u001b[0m         \u001b[39mif\u001b[39;00m \u001b[39mhasattr\u001b[39m(conn, \u001b[39m'\u001b[39m\u001b[39mproxy_pool\u001b[39m\u001b[39m'\u001b[39m):\n",
      "File \u001b[0;32m~/anaconda3/envs/food/lib/python3.9/site-packages/urllib3/connectionpool.py:670\u001b[0m, in \u001b[0;36mHTTPConnectionPool.urlopen\u001b[0;34m(self, method, url, body, headers, retries, redirect, assert_same_host, timeout, pool_timeout, release_conn, chunked, body_pos, **response_kw)\u001b[0m\n\u001b[1;32m    <a href='file:///home/dima/anaconda3/envs/food/lib/python3.9/site-packages/urllib3/connectionpool.py?line=666'>667</a>\u001b[0m     \u001b[39mself\u001b[39m\u001b[39m.\u001b[39m_prepare_proxy(conn)\n\u001b[1;32m    <a href='file:///home/dima/anaconda3/envs/food/lib/python3.9/site-packages/urllib3/connectionpool.py?line=668'>669</a>\u001b[0m \u001b[39m# Make the request on the httplib connection object.\u001b[39;00m\n\u001b[0;32m--> <a href='file:///home/dima/anaconda3/envs/food/lib/python3.9/site-packages/urllib3/connectionpool.py?line=669'>670</a>\u001b[0m httplib_response \u001b[39m=\u001b[39m \u001b[39mself\u001b[39;49m\u001b[39m.\u001b[39;49m_make_request(\n\u001b[1;32m    <a href='file:///home/dima/anaconda3/envs/food/lib/python3.9/site-packages/urllib3/connectionpool.py?line=670'>671</a>\u001b[0m     conn,\n\u001b[1;32m    <a href='file:///home/dima/anaconda3/envs/food/lib/python3.9/site-packages/urllib3/connectionpool.py?line=671'>672</a>\u001b[0m     method,\n\u001b[1;32m    <a href='file:///home/dima/anaconda3/envs/food/lib/python3.9/site-packages/urllib3/connectionpool.py?line=672'>673</a>\u001b[0m     url,\n\u001b[1;32m    <a href='file:///home/dima/anaconda3/envs/food/lib/python3.9/site-packages/urllib3/connectionpool.py?line=673'>674</a>\u001b[0m     timeout\u001b[39m=\u001b[39;49mtimeout_obj,\n\u001b[1;32m    <a href='file:///home/dima/anaconda3/envs/food/lib/python3.9/site-packages/urllib3/connectionpool.py?line=674'>675</a>\u001b[0m     body\u001b[39m=\u001b[39;49mbody,\n\u001b[1;32m    <a href='file:///home/dima/anaconda3/envs/food/lib/python3.9/site-packages/urllib3/connectionpool.py?line=675'>676</a>\u001b[0m     headers\u001b[39m=\u001b[39;49mheaders,\n\u001b[1;32m    <a href='file:///home/dima/anaconda3/envs/food/lib/python3.9/site-packages/urllib3/connectionpool.py?line=676'>677</a>\u001b[0m     chunked\u001b[39m=\u001b[39;49mchunked,\n\u001b[1;32m    <a href='file:///home/dima/anaconda3/envs/food/lib/python3.9/site-packages/urllib3/connectionpool.py?line=677'>678</a>\u001b[0m )\n\u001b[1;32m    <a href='file:///home/dima/anaconda3/envs/food/lib/python3.9/site-packages/urllib3/connectionpool.py?line=679'>680</a>\u001b[0m \u001b[39m# If we're going to release the connection in ``finally:``, then\u001b[39;00m\n\u001b[1;32m    <a href='file:///home/dima/anaconda3/envs/food/lib/python3.9/site-packages/urllib3/connectionpool.py?line=680'>681</a>\u001b[0m \u001b[39m# the response doesn't need to know about the connection. Otherwise\u001b[39;00m\n\u001b[1;32m    <a href='file:///home/dima/anaconda3/envs/food/lib/python3.9/site-packages/urllib3/connectionpool.py?line=681'>682</a>\u001b[0m \u001b[39m# it will also try to release it and we'll have a double-release\u001b[39;00m\n\u001b[1;32m    <a href='file:///home/dima/anaconda3/envs/food/lib/python3.9/site-packages/urllib3/connectionpool.py?line=682'>683</a>\u001b[0m \u001b[39m# mess.\u001b[39;00m\n\u001b[1;32m    <a href='file:///home/dima/anaconda3/envs/food/lib/python3.9/site-packages/urllib3/connectionpool.py?line=683'>684</a>\u001b[0m response_conn \u001b[39m=\u001b[39m conn \u001b[39mif\u001b[39;00m \u001b[39mnot\u001b[39;00m release_conn \u001b[39melse\u001b[39;00m \u001b[39mNone\u001b[39;00m\n",
      "File \u001b[0;32m~/anaconda3/envs/food/lib/python3.9/site-packages/urllib3/connectionpool.py:426\u001b[0m, in \u001b[0;36mHTTPConnectionPool._make_request\u001b[0;34m(self, conn, method, url, timeout, chunked, **httplib_request_kw)\u001b[0m\n\u001b[1;32m    <a href='file:///home/dima/anaconda3/envs/food/lib/python3.9/site-packages/urllib3/connectionpool.py?line=420'>421</a>\u001b[0m             httplib_response \u001b[39m=\u001b[39m conn\u001b[39m.\u001b[39mgetresponse()\n\u001b[1;32m    <a href='file:///home/dima/anaconda3/envs/food/lib/python3.9/site-packages/urllib3/connectionpool.py?line=421'>422</a>\u001b[0m         \u001b[39mexcept\u001b[39;00m \u001b[39mBaseException\u001b[39;00m \u001b[39mas\u001b[39;00m e:\n\u001b[1;32m    <a href='file:///home/dima/anaconda3/envs/food/lib/python3.9/site-packages/urllib3/connectionpool.py?line=422'>423</a>\u001b[0m             \u001b[39m# Remove the TypeError from the exception chain in\u001b[39;00m\n\u001b[1;32m    <a href='file:///home/dima/anaconda3/envs/food/lib/python3.9/site-packages/urllib3/connectionpool.py?line=423'>424</a>\u001b[0m             \u001b[39m# Python 3 (including for exceptions like SystemExit).\u001b[39;00m\n\u001b[1;32m    <a href='file:///home/dima/anaconda3/envs/food/lib/python3.9/site-packages/urllib3/connectionpool.py?line=424'>425</a>\u001b[0m             \u001b[39m# Otherwise it looks like a bug in the code.\u001b[39;00m\n\u001b[0;32m--> <a href='file:///home/dima/anaconda3/envs/food/lib/python3.9/site-packages/urllib3/connectionpool.py?line=425'>426</a>\u001b[0m             six\u001b[39m.\u001b[39;49mraise_from(e, \u001b[39mNone\u001b[39;49;00m)\n\u001b[1;32m    <a href='file:///home/dima/anaconda3/envs/food/lib/python3.9/site-packages/urllib3/connectionpool.py?line=426'>427</a>\u001b[0m \u001b[39mexcept\u001b[39;00m (SocketTimeout, BaseSSLError, SocketError) \u001b[39mas\u001b[39;00m e:\n\u001b[1;32m    <a href='file:///home/dima/anaconda3/envs/food/lib/python3.9/site-packages/urllib3/connectionpool.py?line=427'>428</a>\u001b[0m     \u001b[39mself\u001b[39m\u001b[39m.\u001b[39m_raise_timeout(err\u001b[39m=\u001b[39me, url\u001b[39m=\u001b[39murl, timeout_value\u001b[39m=\u001b[39mread_timeout)\n",
      "File \u001b[0;32m<string>:3\u001b[0m, in \u001b[0;36mraise_from\u001b[0;34m(value, from_value)\u001b[0m\n",
      "File \u001b[0;32m~/anaconda3/envs/food/lib/python3.9/site-packages/urllib3/connectionpool.py:421\u001b[0m, in \u001b[0;36mHTTPConnectionPool._make_request\u001b[0;34m(self, conn, method, url, timeout, chunked, **httplib_request_kw)\u001b[0m\n\u001b[1;32m    <a href='file:///home/dima/anaconda3/envs/food/lib/python3.9/site-packages/urllib3/connectionpool.py?line=417'>418</a>\u001b[0m \u001b[39mexcept\u001b[39;00m \u001b[39mTypeError\u001b[39;00m:\n\u001b[1;32m    <a href='file:///home/dima/anaconda3/envs/food/lib/python3.9/site-packages/urllib3/connectionpool.py?line=418'>419</a>\u001b[0m     \u001b[39m# Python 3\u001b[39;00m\n\u001b[1;32m    <a href='file:///home/dima/anaconda3/envs/food/lib/python3.9/site-packages/urllib3/connectionpool.py?line=419'>420</a>\u001b[0m     \u001b[39mtry\u001b[39;00m:\n\u001b[0;32m--> <a href='file:///home/dima/anaconda3/envs/food/lib/python3.9/site-packages/urllib3/connectionpool.py?line=420'>421</a>\u001b[0m         httplib_response \u001b[39m=\u001b[39m conn\u001b[39m.\u001b[39;49mgetresponse()\n\u001b[1;32m    <a href='file:///home/dima/anaconda3/envs/food/lib/python3.9/site-packages/urllib3/connectionpool.py?line=421'>422</a>\u001b[0m     \u001b[39mexcept\u001b[39;00m \u001b[39mBaseException\u001b[39;00m \u001b[39mas\u001b[39;00m e:\n\u001b[1;32m    <a href='file:///home/dima/anaconda3/envs/food/lib/python3.9/site-packages/urllib3/connectionpool.py?line=422'>423</a>\u001b[0m         \u001b[39m# Remove the TypeError from the exception chain in\u001b[39;00m\n\u001b[1;32m    <a href='file:///home/dima/anaconda3/envs/food/lib/python3.9/site-packages/urllib3/connectionpool.py?line=423'>424</a>\u001b[0m         \u001b[39m# Python 3 (including for exceptions like SystemExit).\u001b[39;00m\n\u001b[1;32m    <a href='file:///home/dima/anaconda3/envs/food/lib/python3.9/site-packages/urllib3/connectionpool.py?line=424'>425</a>\u001b[0m         \u001b[39m# Otherwise it looks like a bug in the code.\u001b[39;00m\n\u001b[1;32m    <a href='file:///home/dima/anaconda3/envs/food/lib/python3.9/site-packages/urllib3/connectionpool.py?line=425'>426</a>\u001b[0m         six\u001b[39m.\u001b[39mraise_from(e, \u001b[39mNone\u001b[39;00m)\n",
      "File \u001b[0;32m~/anaconda3/envs/food/lib/python3.9/http/client.py:1371\u001b[0m, in \u001b[0;36mHTTPConnection.getresponse\u001b[0;34m(self)\u001b[0m\n\u001b[1;32m   <a href='file:///home/dima/anaconda3/envs/food/lib/python3.9/http/client.py?line=1368'>1369</a>\u001b[0m \u001b[39mtry\u001b[39;00m:\n\u001b[1;32m   <a href='file:///home/dima/anaconda3/envs/food/lib/python3.9/http/client.py?line=1369'>1370</a>\u001b[0m     \u001b[39mtry\u001b[39;00m:\n\u001b[0;32m-> <a href='file:///home/dima/anaconda3/envs/food/lib/python3.9/http/client.py?line=1370'>1371</a>\u001b[0m         response\u001b[39m.\u001b[39;49mbegin()\n\u001b[1;32m   <a href='file:///home/dima/anaconda3/envs/food/lib/python3.9/http/client.py?line=1371'>1372</a>\u001b[0m     \u001b[39mexcept\u001b[39;00m \u001b[39mConnectionError\u001b[39;00m:\n\u001b[1;32m   <a href='file:///home/dima/anaconda3/envs/food/lib/python3.9/http/client.py?line=1372'>1373</a>\u001b[0m         \u001b[39mself\u001b[39m\u001b[39m.\u001b[39mclose()\n",
      "File \u001b[0;32m~/anaconda3/envs/food/lib/python3.9/http/client.py:319\u001b[0m, in \u001b[0;36mHTTPResponse.begin\u001b[0;34m(self)\u001b[0m\n\u001b[1;32m    <a href='file:///home/dima/anaconda3/envs/food/lib/python3.9/http/client.py?line=316'>317</a>\u001b[0m \u001b[39m# read until we get a non-100 response\u001b[39;00m\n\u001b[1;32m    <a href='file:///home/dima/anaconda3/envs/food/lib/python3.9/http/client.py?line=317'>318</a>\u001b[0m \u001b[39mwhile\u001b[39;00m \u001b[39mTrue\u001b[39;00m:\n\u001b[0;32m--> <a href='file:///home/dima/anaconda3/envs/food/lib/python3.9/http/client.py?line=318'>319</a>\u001b[0m     version, status, reason \u001b[39m=\u001b[39m \u001b[39mself\u001b[39;49m\u001b[39m.\u001b[39;49m_read_status()\n\u001b[1;32m    <a href='file:///home/dima/anaconda3/envs/food/lib/python3.9/http/client.py?line=319'>320</a>\u001b[0m     \u001b[39mif\u001b[39;00m status \u001b[39m!=\u001b[39m CONTINUE:\n\u001b[1;32m    <a href='file:///home/dima/anaconda3/envs/food/lib/python3.9/http/client.py?line=320'>321</a>\u001b[0m         \u001b[39mbreak\u001b[39;00m\n",
      "File \u001b[0;32m~/anaconda3/envs/food/lib/python3.9/http/client.py:280\u001b[0m, in \u001b[0;36mHTTPResponse._read_status\u001b[0;34m(self)\u001b[0m\n\u001b[1;32m    <a href='file:///home/dima/anaconda3/envs/food/lib/python3.9/http/client.py?line=278'>279</a>\u001b[0m \u001b[39mdef\u001b[39;00m \u001b[39m_read_status\u001b[39m(\u001b[39mself\u001b[39m):\n\u001b[0;32m--> <a href='file:///home/dima/anaconda3/envs/food/lib/python3.9/http/client.py?line=279'>280</a>\u001b[0m     line \u001b[39m=\u001b[39m \u001b[39mstr\u001b[39m(\u001b[39mself\u001b[39;49m\u001b[39m.\u001b[39;49mfp\u001b[39m.\u001b[39;49mreadline(_MAXLINE \u001b[39m+\u001b[39;49m \u001b[39m1\u001b[39;49m), \u001b[39m\"\u001b[39m\u001b[39miso-8859-1\u001b[39m\u001b[39m\"\u001b[39m)\n\u001b[1;32m    <a href='file:///home/dima/anaconda3/envs/food/lib/python3.9/http/client.py?line=280'>281</a>\u001b[0m     \u001b[39mif\u001b[39;00m \u001b[39mlen\u001b[39m(line) \u001b[39m>\u001b[39m _MAXLINE:\n\u001b[1;32m    <a href='file:///home/dima/anaconda3/envs/food/lib/python3.9/http/client.py?line=281'>282</a>\u001b[0m         \u001b[39mraise\u001b[39;00m LineTooLong(\u001b[39m\"\u001b[39m\u001b[39mstatus line\u001b[39m\u001b[39m\"\u001b[39m)\n",
      "File \u001b[0;32m~/anaconda3/envs/food/lib/python3.9/socket.py:704\u001b[0m, in \u001b[0;36mSocketIO.readinto\u001b[0;34m(self, b)\u001b[0m\n\u001b[1;32m    <a href='file:///home/dima/anaconda3/envs/food/lib/python3.9/socket.py?line=701'>702</a>\u001b[0m \u001b[39mwhile\u001b[39;00m \u001b[39mTrue\u001b[39;00m:\n\u001b[1;32m    <a href='file:///home/dima/anaconda3/envs/food/lib/python3.9/socket.py?line=702'>703</a>\u001b[0m     \u001b[39mtry\u001b[39;00m:\n\u001b[0;32m--> <a href='file:///home/dima/anaconda3/envs/food/lib/python3.9/socket.py?line=703'>704</a>\u001b[0m         \u001b[39mreturn\u001b[39;00m \u001b[39mself\u001b[39;49m\u001b[39m.\u001b[39;49m_sock\u001b[39m.\u001b[39;49mrecv_into(b)\n\u001b[1;32m    <a href='file:///home/dima/anaconda3/envs/food/lib/python3.9/socket.py?line=704'>705</a>\u001b[0m     \u001b[39mexcept\u001b[39;00m timeout:\n\u001b[1;32m    <a href='file:///home/dima/anaconda3/envs/food/lib/python3.9/socket.py?line=705'>706</a>\u001b[0m         \u001b[39mself\u001b[39m\u001b[39m.\u001b[39m_timeout_occurred \u001b[39m=\u001b[39m \u001b[39mTrue\u001b[39;00m\n",
      "\u001b[0;31mKeyboardInterrupt\u001b[0m: "
     ]
    }
   ],
   "source": [
    "url = 'https://www.campbellsmeat.com/images/cms/large/142804413214140689200001550_nicknairnsperfectsteakandchipsrecipe.jpeg'\n",
    "df = search_image(url,head=70)\n",
    "clip = torch.tensor([np.array(c) for c in df['clip'].values])\n",
    "best = df.sort_values(\"score\",ascending=False).iloc[0].name\n",
    "df['score1'] =cos(clip, clip[best])\n",
    "df['score2'] =cos(clip, clip[df.sort_values(\"score1\",ascending=False).iloc[-1].name])\n",
    "for i in range(3,10):\n",
    "    df[f'score{i}'] =cos(clip, clip[df[df.columns[df.columns.str.contains('score')]]         .sum(1).sort_values().index[0]])\n",
    "df[(df[df.columns[df.columns.str.contains('score')]]==1).any(1)]['description'].drop_duplicates()"
   ]
  },
  {
   "cell_type": "code",
   "execution_count": 14,
   "metadata": {},
   "outputs": [
    {
     "data": {
      "text/plain": [
       "167"
      ]
     },
     "execution_count": 14,
     "metadata": {},
     "output_type": "execute_result"
    }
   ],
   "source": [
    "len(foods['category'].unique())"
   ]
  },
  {
   "cell_type": "code",
   "execution_count": 15,
   "metadata": {},
   "outputs": [
    {
     "data": {
      "text/html": [
       "<div>\n",
       "<style scoped>\n",
       "    .dataframe tbody tr th:only-of-type {\n",
       "        vertical-align: middle;\n",
       "    }\n",
       "\n",
       "    .dataframe tbody tr th {\n",
       "        vertical-align: top;\n",
       "    }\n",
       "\n",
       "    .dataframe thead th {\n",
       "        text-align: right;\n",
       "    }\n",
       "</style>\n",
       "<table border=\"1\" class=\"dataframe\">\n",
       "  <thead>\n",
       "    <tr style=\"text-align: right;\">\n",
       "      <th></th>\n",
       "      <th>description</th>\n",
       "      <th>category</th>\n",
       "      <th>energy</th>\n",
       "      <th>protein</th>\n",
       "      <th>carb</th>\n",
       "      <th>fat</th>\n",
       "      <th>clip</th>\n",
       "    </tr>\n",
       "    <tr>\n",
       "      <th>id</th>\n",
       "      <th></th>\n",
       "      <th></th>\n",
       "      <th></th>\n",
       "      <th></th>\n",
       "      <th></th>\n",
       "      <th></th>\n",
       "      <th></th>\n",
       "    </tr>\n",
       "  </thead>\n",
       "  <tbody>\n",
       "    <tr>\n",
       "      <th>1097524</th>\n",
       "      <td>Milk, lactose free, reduced fat (2%)</td>\n",
       "      <td>Milk, reduced fat</td>\n",
       "      <td>50.0</td>\n",
       "      <td>3.35</td>\n",
       "      <td>4.91</td>\n",
       "      <td>1.90</td>\n",
       "      <td>[0.015040726, 0.011575523, -0.011966778, 0.040...</td>\n",
       "    </tr>\n",
       "    <tr>\n",
       "      <th>1097525</th>\n",
       "      <td>Milk, lactose free, whole</td>\n",
       "      <td>Milk, whole</td>\n",
       "      <td>60.0</td>\n",
       "      <td>3.28</td>\n",
       "      <td>4.67</td>\n",
       "      <td>3.20</td>\n",
       "      <td>[0.014815284, -0.004186348, -0.007967781, 0.02...</td>\n",
       "    </tr>\n",
       "    <tr>\n",
       "      <th>1097603</th>\n",
       "      <td>Yogurt, whole milk, baby food</td>\n",
       "      <td>Baby food: yogurt</td>\n",
       "      <td>61.0</td>\n",
       "      <td>3.47</td>\n",
       "      <td>4.66</td>\n",
       "      <td>3.25</td>\n",
       "      <td>[0.0027644234, 0.0029128625, 0.022239361, 0.03...</td>\n",
       "    </tr>\n",
       "    <tr>\n",
       "      <th>1097700</th>\n",
       "      <td>Infant formula, NFS</td>\n",
       "      <td>Formula, ready-to-feed</td>\n",
       "      <td>66.0</td>\n",
       "      <td>1.38</td>\n",
       "      <td>7.12</td>\n",
       "      <td>3.56</td>\n",
       "      <td>[0.0023559248, 0.017568443, 0.033846956, 0.020...</td>\n",
       "    </tr>\n",
       "    <tr>\n",
       "      <th>1099619</th>\n",
       "      <td>Cabbage with ham hocks</td>\n",
       "      <td>Meat mixed dishes</td>\n",
       "      <td>71.0</td>\n",
       "      <td>7.97</td>\n",
       "      <td>4.50</td>\n",
       "      <td>2.49</td>\n",
       "      <td>[0.03035846, 0.0039041196, -0.014388906, 0.015...</td>\n",
       "    </tr>\n",
       "    <tr>\n",
       "      <th>...</th>\n",
       "      <td>...</td>\n",
       "      <td>...</td>\n",
       "      <td>...</td>\n",
       "      <td>...</td>\n",
       "      <td>...</td>\n",
       "      <td>...</td>\n",
       "      <td>...</td>\n",
       "    </tr>\n",
       "    <tr>\n",
       "      <th>1104568</th>\n",
       "      <td>Cheese as ingredient in sandwiches</td>\n",
       "      <td>Not included in a food category</td>\n",
       "      <td>360.0</td>\n",
       "      <td>20.76</td>\n",
       "      <td>4.32</td>\n",
       "      <td>28.93</td>\n",
       "      <td>[0.0047567077, 0.03878048, 0.043640774, -0.006...</td>\n",
       "    </tr>\n",
       "    <tr>\n",
       "      <th>1104569</th>\n",
       "      <td>Breakfast meat as ingredient in omelet</td>\n",
       "      <td>Not included in a food category</td>\n",
       "      <td>253.0</td>\n",
       "      <td>20.81</td>\n",
       "      <td>1.61</td>\n",
       "      <td>17.87</td>\n",
       "      <td>[0.0051773326, 0.019715708, 0.0039956337, -0.0...</td>\n",
       "    </tr>\n",
       "    <tr>\n",
       "      <th>1104570</th>\n",
       "      <td>Fish fillet, fried as ingredient in sandwiches</td>\n",
       "      <td>Not included in a food category</td>\n",
       "      <td>200.0</td>\n",
       "      <td>18.11</td>\n",
       "      <td>8.18</td>\n",
       "      <td>10.03</td>\n",
       "      <td>[0.009361401, 0.023042753, 0.011918317, 0.0034...</td>\n",
       "    </tr>\n",
       "    <tr>\n",
       "      <th>1104571</th>\n",
       "      <td>Breading or batter as ingredient in food</td>\n",
       "      <td>Not included in a food category</td>\n",
       "      <td>201.0</td>\n",
       "      <td>6.32</td>\n",
       "      <td>39.64</td>\n",
       "      <td>1.39</td>\n",
       "      <td>[-0.039442144, 0.017510977, 0.04945537, 0.0059...</td>\n",
       "    </tr>\n",
       "    <tr>\n",
       "      <th>1104572</th>\n",
       "      <td>Wheat bread as ingredient in sandwiches</td>\n",
       "      <td>Not included in a food category</td>\n",
       "      <td>264.0</td>\n",
       "      <td>11.40</td>\n",
       "      <td>45.42</td>\n",
       "      <td>3.98</td>\n",
       "      <td>[0.010234108, 0.04141648, 0.019048885, -0.0130...</td>\n",
       "    </tr>\n",
       "  </tbody>\n",
       "</table>\n",
       "<p>7083 rows × 7 columns</p>\n",
       "</div>"
      ],
      "text/plain": [
       "                                            description  \\\n",
       "id                                                        \n",
       "1097524            Milk, lactose free, reduced fat (2%)   \n",
       "1097525                       Milk, lactose free, whole   \n",
       "1097603                   Yogurt, whole milk, baby food   \n",
       "1097700                             Infant formula, NFS   \n",
       "1099619                          Cabbage with ham hocks   \n",
       "...                                                 ...   \n",
       "1104568              Cheese as ingredient in sandwiches   \n",
       "1104569          Breakfast meat as ingredient in omelet   \n",
       "1104570  Fish fillet, fried as ingredient in sandwiches   \n",
       "1104571        Breading or batter as ingredient in food   \n",
       "1104572         Wheat bread as ingredient in sandwiches   \n",
       "\n",
       "                                category  energy  protein   carb    fat  \\\n",
       "id                                                                        \n",
       "1097524                Milk, reduced fat    50.0     3.35   4.91   1.90   \n",
       "1097525                      Milk, whole    60.0     3.28   4.67   3.20   \n",
       "1097603                Baby food: yogurt    61.0     3.47   4.66   3.25   \n",
       "1097700           Formula, ready-to-feed    66.0     1.38   7.12   3.56   \n",
       "1099619                Meat mixed dishes    71.0     7.97   4.50   2.49   \n",
       "...                                  ...     ...      ...    ...    ...   \n",
       "1104568  Not included in a food category   360.0    20.76   4.32  28.93   \n",
       "1104569  Not included in a food category   253.0    20.81   1.61  17.87   \n",
       "1104570  Not included in a food category   200.0    18.11   8.18  10.03   \n",
       "1104571  Not included in a food category   201.0     6.32  39.64   1.39   \n",
       "1104572  Not included in a food category   264.0    11.40  45.42   3.98   \n",
       "\n",
       "                                                      clip  \n",
       "id                                                          \n",
       "1097524  [0.015040726, 0.011575523, -0.011966778, 0.040...  \n",
       "1097525  [0.014815284, -0.004186348, -0.007967781, 0.02...  \n",
       "1097603  [0.0027644234, 0.0029128625, 0.022239361, 0.03...  \n",
       "1097700  [0.0023559248, 0.017568443, 0.033846956, 0.020...  \n",
       "1099619  [0.03035846, 0.0039041196, -0.014388906, 0.015...  \n",
       "...                                                    ...  \n",
       "1104568  [0.0047567077, 0.03878048, 0.043640774, -0.006...  \n",
       "1104569  [0.0051773326, 0.019715708, 0.0039956337, -0.0...  \n",
       "1104570  [0.009361401, 0.023042753, 0.011918317, 0.0034...  \n",
       "1104571  [-0.039442144, 0.017510977, 0.04945537, 0.0059...  \n",
       "1104572  [0.010234108, 0.04141648, 0.019048885, -0.0130...  \n",
       "\n",
       "[7083 rows x 7 columns]"
      ]
     },
     "execution_count": 15,
     "metadata": {},
     "output_type": "execute_result"
    }
   ],
   "source": [
    "foods"
   ]
  },
  {
   "cell_type": "code",
   "execution_count": null,
   "metadata": {},
   "outputs": [],
   "source": []
  },
  {
   "cell_type": "code",
   "execution_count": 83,
   "metadata": {},
   "outputs": [
    {
     "ename": "ValueError",
     "evalue": "Item wrong length 8 instead of 30.",
     "output_type": "error",
     "traceback": [
      "\u001b[0;31m---------------------------------------------------------------------------\u001b[0m",
      "\u001b[0;31mValueError\u001b[0m                                Traceback (most recent call last)",
      "\u001b[1;32m/home/dima/food/01_classfy_image copy.ipynb Cell 17'\u001b[0m in \u001b[0;36m<cell line: 1>\u001b[0;34m()\u001b[0m\n\u001b[0;32m----> <a href='vscode-notebook-cell://ssh-remote%2Bml2/home/dima/food/01_classfy_image%20copy.ipynb#ch0000051vscode-remote?line=0'>1</a>\u001b[0m df[df\u001b[39m.\u001b[39;49mcolumns\u001b[39m.\u001b[39;49mstr\u001b[39m.\u001b[39;49mcontains(\u001b[39m'\u001b[39;49m\u001b[39mscore\u001b[39;49m\u001b[39m'\u001b[39;49m)]\n",
      "File \u001b[0;32m~/anaconda3/envs/food/lib/python3.9/site-packages/pandas/core/frame.py:3449\u001b[0m, in \u001b[0;36mDataFrame.__getitem__\u001b[0;34m(self, key)\u001b[0m\n\u001b[1;32m   <a href='file:///home/dima/anaconda3/envs/food/lib/python3.9/site-packages/pandas/core/frame.py?line=3446'>3447</a>\u001b[0m \u001b[39m# Do we have a (boolean) 1d indexer?\u001b[39;00m\n\u001b[1;32m   <a href='file:///home/dima/anaconda3/envs/food/lib/python3.9/site-packages/pandas/core/frame.py?line=3447'>3448</a>\u001b[0m \u001b[39mif\u001b[39;00m com\u001b[39m.\u001b[39mis_bool_indexer(key):\n\u001b[0;32m-> <a href='file:///home/dima/anaconda3/envs/food/lib/python3.9/site-packages/pandas/core/frame.py?line=3448'>3449</a>\u001b[0m     \u001b[39mreturn\u001b[39;00m \u001b[39mself\u001b[39;49m\u001b[39m.\u001b[39;49m_getitem_bool_array(key)\n\u001b[1;32m   <a href='file:///home/dima/anaconda3/envs/food/lib/python3.9/site-packages/pandas/core/frame.py?line=3450'>3451</a>\u001b[0m \u001b[39m# We are left with two options: a single key, and a collection of keys,\u001b[39;00m\n\u001b[1;32m   <a href='file:///home/dima/anaconda3/envs/food/lib/python3.9/site-packages/pandas/core/frame.py?line=3451'>3452</a>\u001b[0m \u001b[39m# We interpret tuples as collections only for non-MultiIndex\u001b[39;00m\n\u001b[1;32m   <a href='file:///home/dima/anaconda3/envs/food/lib/python3.9/site-packages/pandas/core/frame.py?line=3452'>3453</a>\u001b[0m is_single_key \u001b[39m=\u001b[39m \u001b[39misinstance\u001b[39m(key, \u001b[39mtuple\u001b[39m) \u001b[39mor\u001b[39;00m \u001b[39mnot\u001b[39;00m is_list_like(key)\n",
      "File \u001b[0;32m~/anaconda3/envs/food/lib/python3.9/site-packages/pandas/core/frame.py:3496\u001b[0m, in \u001b[0;36mDataFrame._getitem_bool_array\u001b[0;34m(self, key)\u001b[0m\n\u001b[1;32m   <a href='file:///home/dima/anaconda3/envs/food/lib/python3.9/site-packages/pandas/core/frame.py?line=3489'>3490</a>\u001b[0m     warnings\u001b[39m.\u001b[39mwarn(\n\u001b[1;32m   <a href='file:///home/dima/anaconda3/envs/food/lib/python3.9/site-packages/pandas/core/frame.py?line=3490'>3491</a>\u001b[0m         \u001b[39m\"\u001b[39m\u001b[39mBoolean Series key will be reindexed to match DataFrame index.\u001b[39m\u001b[39m\"\u001b[39m,\n\u001b[1;32m   <a href='file:///home/dima/anaconda3/envs/food/lib/python3.9/site-packages/pandas/core/frame.py?line=3491'>3492</a>\u001b[0m         \u001b[39mUserWarning\u001b[39;00m,\n\u001b[1;32m   <a href='file:///home/dima/anaconda3/envs/food/lib/python3.9/site-packages/pandas/core/frame.py?line=3492'>3493</a>\u001b[0m         stacklevel\u001b[39m=\u001b[39m\u001b[39m3\u001b[39m,\n\u001b[1;32m   <a href='file:///home/dima/anaconda3/envs/food/lib/python3.9/site-packages/pandas/core/frame.py?line=3493'>3494</a>\u001b[0m     )\n\u001b[1;32m   <a href='file:///home/dima/anaconda3/envs/food/lib/python3.9/site-packages/pandas/core/frame.py?line=3494'>3495</a>\u001b[0m \u001b[39melif\u001b[39;00m \u001b[39mlen\u001b[39m(key) \u001b[39m!=\u001b[39m \u001b[39mlen\u001b[39m(\u001b[39mself\u001b[39m\u001b[39m.\u001b[39mindex):\n\u001b[0;32m-> <a href='file:///home/dima/anaconda3/envs/food/lib/python3.9/site-packages/pandas/core/frame.py?line=3495'>3496</a>\u001b[0m     \u001b[39mraise\u001b[39;00m \u001b[39mValueError\u001b[39;00m(\n\u001b[1;32m   <a href='file:///home/dima/anaconda3/envs/food/lib/python3.9/site-packages/pandas/core/frame.py?line=3496'>3497</a>\u001b[0m         \u001b[39mf\u001b[39m\u001b[39m\"\u001b[39m\u001b[39mItem wrong length \u001b[39m\u001b[39m{\u001b[39;00m\u001b[39mlen\u001b[39m(key)\u001b[39m}\u001b[39;00m\u001b[39m instead of \u001b[39m\u001b[39m{\u001b[39;00m\u001b[39mlen\u001b[39m(\u001b[39mself\u001b[39m\u001b[39m.\u001b[39mindex)\u001b[39m}\u001b[39;00m\u001b[39m.\u001b[39m\u001b[39m\"\u001b[39m\n\u001b[1;32m   <a href='file:///home/dima/anaconda3/envs/food/lib/python3.9/site-packages/pandas/core/frame.py?line=3497'>3498</a>\u001b[0m     )\n\u001b[1;32m   <a href='file:///home/dima/anaconda3/envs/food/lib/python3.9/site-packages/pandas/core/frame.py?line=3499'>3500</a>\u001b[0m \u001b[39m# check_bool_indexer will throw exception if Series key cannot\u001b[39;00m\n\u001b[1;32m   <a href='file:///home/dima/anaconda3/envs/food/lib/python3.9/site-packages/pandas/core/frame.py?line=3500'>3501</a>\u001b[0m \u001b[39m# be reindexed to match DataFrame rows\u001b[39;00m\n\u001b[1;32m   <a href='file:///home/dima/anaconda3/envs/food/lib/python3.9/site-packages/pandas/core/frame.py?line=3501'>3502</a>\u001b[0m key \u001b[39m=\u001b[39m check_bool_indexer(\u001b[39mself\u001b[39m\u001b[39m.\u001b[39mindex, key)\n",
      "\u001b[0;31mValueError\u001b[0m: Item wrong length 8 instead of 30."
     ]
    }
   ],
   "source": [
    "df[df.columns.str.contains('score')]"
   ]
  },
  {
   "cell_type": "code",
   "execution_count": null,
   "metadata": {},
   "outputs": [],
   "source": []
  },
  {
   "cell_type": "code",
   "execution_count": null,
   "metadata": {},
   "outputs": [],
   "source": [
    "listing_id_pics['score_to_text'] = search('beautiful interior')\n",
    "best_to_text = listing_id_pics.sort_values(\"score_to_text\",ascending=False).iloc[0].name\n",
    "listing_id_pics['score1'] =cos(clip, clip[best_to_text])\n",
    "selected1 =listing_id_pics.sort_values(\"score1\",ascending=False).iloc[-1].name\n",
    "listing_id_pics['score2'] =cos(clip, clip[selected1])\n",
    "selected2 = listing_id_pics[['score1','score2']].sum(1).sort_values().index[0]\n",
    "listing_id_pics['score3'] =cos(clip, clip[selected2])\n",
    "selected3 = listing_id_pics[['score1','score2','score3']].sum(1).sort_values().index[0]\n",
    "listing_id_pics['score4'] =cos(clip, clip[selected3])"
   ]
  },
  {
   "cell_type": "code",
   "execution_count": null,
   "metadata": {},
   "outputs": [],
   "source": []
  },
  {
   "cell_type": "code",
   "execution_count": null,
   "metadata": {},
   "outputs": [],
   "source": []
  },
  {
   "cell_type": "code",
   "execution_count": null,
   "metadata": {},
   "outputs": [],
   "source": []
  },
  {
   "cell_type": "code",
   "execution_count": 28,
   "metadata": {},
   "outputs": [],
   "source": [
    "scores_to_best = cos(t[0],t)"
   ]
  },
  {
   "cell_type": "code",
   "execution_count": 30,
   "metadata": {},
   "outputs": [
    {
     "data": {
      "text/plain": [
       "tensor(0.5899, dtype=torch.float64)"
      ]
     },
     "execution_count": 30,
     "metadata": {},
     "output_type": "execute_result"
    }
   ],
   "source": [
    "scores_to_best.min()"
   ]
  },
  {
   "cell_type": "code",
   "execution_count": 37,
   "metadata": {},
   "outputs": [],
   "source": [
    "fartherst = np.argwhere(scores_to_best== scores_to_best.min())[0][0]"
   ]
  },
  {
   "cell_type": "code",
   "execution_count": 42,
   "metadata": {},
   "outputs": [
    {
     "data": {
      "text/plain": [
       "tensor(7)"
      ]
     },
     "execution_count": 42,
     "metadata": {},
     "output_type": "execute_result"
    }
   ],
   "source": [
    "fartherst"
   ]
  },
  {
   "cell_type": "code",
   "execution_count": 54,
   "metadata": {},
   "outputs": [],
   "source": [
    "n = torch.stack((t[0],t[fartherst]))"
   ]
  },
  {
   "cell_type": "code",
   "execution_count": 55,
   "metadata": {},
   "outputs": [
    {
     "data": {
      "text/plain": [
       "torch.Size([30, 768])"
      ]
     },
     "execution_count": 55,
     "metadata": {},
     "output_type": "execute_result"
    }
   ],
   "source": [
    "t.shape"
   ]
  },
  {
   "cell_type": "code",
   "execution_count": 56,
   "metadata": {},
   "outputs": [
    {
     "ename": "RuntimeError",
     "evalue": "The size of tensor a (2) must match the size of tensor b (30) at non-singleton dimension 0",
     "output_type": "error",
     "traceback": [
      "\u001b[0;31m---------------------------------------------------------------------------\u001b[0m",
      "\u001b[0;31mRuntimeError\u001b[0m                              Traceback (most recent call last)",
      "\u001b[1;32m/home/dima/food/01_classfy_image copy.ipynb Cell 19'\u001b[0m in \u001b[0;36m<cell line: 1>\u001b[0;34m()\u001b[0m\n\u001b[0;32m----> <a href='vscode-notebook-cell://ssh-remote%2Bml2/home/dima/food/01_classfy_image%20copy.ipynb#ch0000031vscode-remote?line=0'>1</a>\u001b[0m cos(n,t)\n",
      "File \u001b[0;32m~/anaconda3/envs/food/lib/python3.9/site-packages/torch/nn/modules/module.py:1102\u001b[0m, in \u001b[0;36mModule._call_impl\u001b[0;34m(self, *input, **kwargs)\u001b[0m\n\u001b[1;32m   <a href='file:///home/dima/anaconda3/envs/food/lib/python3.9/site-packages/torch/nn/modules/module.py?line=1097'>1098</a>\u001b[0m \u001b[39m# If we don't have any hooks, we want to skip the rest of the logic in\u001b[39;00m\n\u001b[1;32m   <a href='file:///home/dima/anaconda3/envs/food/lib/python3.9/site-packages/torch/nn/modules/module.py?line=1098'>1099</a>\u001b[0m \u001b[39m# this function, and just call forward.\u001b[39;00m\n\u001b[1;32m   <a href='file:///home/dima/anaconda3/envs/food/lib/python3.9/site-packages/torch/nn/modules/module.py?line=1099'>1100</a>\u001b[0m \u001b[39mif\u001b[39;00m \u001b[39mnot\u001b[39;00m (\u001b[39mself\u001b[39m\u001b[39m.\u001b[39m_backward_hooks \u001b[39mor\u001b[39;00m \u001b[39mself\u001b[39m\u001b[39m.\u001b[39m_forward_hooks \u001b[39mor\u001b[39;00m \u001b[39mself\u001b[39m\u001b[39m.\u001b[39m_forward_pre_hooks \u001b[39mor\u001b[39;00m _global_backward_hooks\n\u001b[1;32m   <a href='file:///home/dima/anaconda3/envs/food/lib/python3.9/site-packages/torch/nn/modules/module.py?line=1100'>1101</a>\u001b[0m         \u001b[39mor\u001b[39;00m _global_forward_hooks \u001b[39mor\u001b[39;00m _global_forward_pre_hooks):\n\u001b[0;32m-> <a href='file:///home/dima/anaconda3/envs/food/lib/python3.9/site-packages/torch/nn/modules/module.py?line=1101'>1102</a>\u001b[0m     \u001b[39mreturn\u001b[39;00m forward_call(\u001b[39m*\u001b[39;49m\u001b[39minput\u001b[39;49m, \u001b[39m*\u001b[39;49m\u001b[39m*\u001b[39;49mkwargs)\n\u001b[1;32m   <a href='file:///home/dima/anaconda3/envs/food/lib/python3.9/site-packages/torch/nn/modules/module.py?line=1102'>1103</a>\u001b[0m \u001b[39m# Do not call functions when jit is used\u001b[39;00m\n\u001b[1;32m   <a href='file:///home/dima/anaconda3/envs/food/lib/python3.9/site-packages/torch/nn/modules/module.py?line=1103'>1104</a>\u001b[0m full_backward_hooks, non_full_backward_hooks \u001b[39m=\u001b[39m [], []\n",
      "File \u001b[0;32m~/anaconda3/envs/food/lib/python3.9/site-packages/torch/nn/modules/distance.py:77\u001b[0m, in \u001b[0;36mCosineSimilarity.forward\u001b[0;34m(self, x1, x2)\u001b[0m\n\u001b[1;32m     <a href='file:///home/dima/anaconda3/envs/food/lib/python3.9/site-packages/torch/nn/modules/distance.py?line=75'>76</a>\u001b[0m \u001b[39mdef\u001b[39;00m \u001b[39mforward\u001b[39m(\u001b[39mself\u001b[39m, x1: Tensor, x2: Tensor) \u001b[39m-\u001b[39m\u001b[39m>\u001b[39m Tensor:\n\u001b[0;32m---> <a href='file:///home/dima/anaconda3/envs/food/lib/python3.9/site-packages/torch/nn/modules/distance.py?line=76'>77</a>\u001b[0m     \u001b[39mreturn\u001b[39;00m F\u001b[39m.\u001b[39;49mcosine_similarity(x1, x2, \u001b[39mself\u001b[39;49m\u001b[39m.\u001b[39;49mdim, \u001b[39mself\u001b[39;49m\u001b[39m.\u001b[39;49meps)\n",
      "\u001b[0;31mRuntimeError\u001b[0m: The size of tensor a (2) must match the size of tensor b (30) at non-singleton dimension 0"
     ]
    }
   ],
   "source": [
    "cos(n,t)"
   ]
  },
  {
   "cell_type": "code",
   "execution_count": null,
   "metadata": {},
   "outputs": [],
   "source": []
  },
  {
   "cell_type": "code",
   "execution_count": null,
   "metadata": {},
   "outputs": [],
   "source": []
  },
  {
   "cell_type": "code",
   "execution_count": null,
   "metadata": {},
   "outputs": [],
   "source": []
  },
  {
   "cell_type": "code",
   "execution_count": 32,
   "metadata": {},
   "outputs": [
    {
     "data": {
      "text/plain": [
       "tensor([1.0000, 0.7207, 0.6929, 0.7595, 0.7595, 0.6921, 0.7194, 0.5899, 0.5899,\n",
       "        0.6968, 0.6792, 0.6705, 0.6206, 0.6885, 0.6584, 0.7086, 0.6448, 0.6886,\n",
       "        0.6559, 0.6683, 0.6818, 0.6906, 0.7271, 0.7271, 0.6717, 0.6969, 0.6811,\n",
       "        0.6784, 0.7159, 0.6701], dtype=torch.float64)"
      ]
     },
     "execution_count": 32,
     "metadata": {},
     "output_type": "execute_result"
    }
   ],
   "source": [
    "scores_to_best"
   ]
  },
  {
   "cell_type": "code",
   "execution_count": 33,
   "metadata": {},
   "outputs": [
    {
     "data": {
      "text/html": [
       "<div>\n",
       "<style scoped>\n",
       "    .dataframe tbody tr th:only-of-type {\n",
       "        vertical-align: middle;\n",
       "    }\n",
       "\n",
       "    .dataframe tbody tr th {\n",
       "        vertical-align: top;\n",
       "    }\n",
       "\n",
       "    .dataframe thead th {\n",
       "        text-align: right;\n",
       "    }\n",
       "</style>\n",
       "<table border=\"1\" class=\"dataframe\">\n",
       "  <thead>\n",
       "    <tr style=\"text-align: right;\">\n",
       "      <th></th>\n",
       "      <th>id</th>\n",
       "      <th>description</th>\n",
       "      <th>clip</th>\n",
       "      <th>score</th>\n",
       "    </tr>\n",
       "  </thead>\n",
       "  <tbody>\n",
       "    <tr>\n",
       "      <th>0</th>\n",
       "      <td>41</td>\n",
       "      <td>Cheese, cottage, lowfat, 2% milkfat</td>\n",
       "      <td>[0.029066313, 0.018294085, -0.014341239, 0.003...</td>\n",
       "      <td>0.204797</td>\n",
       "    </tr>\n",
       "    <tr>\n",
       "      <th>1</th>\n",
       "      <td>165</td>\n",
       "      <td>Flour, soy, full-fat</td>\n",
       "      <td>[-0.0004145672, 0.010990089, -0.012770833, 0.0...</td>\n",
       "      <td>0.196780</td>\n",
       "    </tr>\n",
       "    <tr>\n",
       "      <th>2</th>\n",
       "      <td>207</td>\n",
       "      <td>Flour, semolina, fine</td>\n",
       "      <td>[0.004440714, -0.01190605, 0.017707396, 0.0257...</td>\n",
       "      <td>0.195567</td>\n",
       "    </tr>\n",
       "    <tr>\n",
       "      <th>3</th>\n",
       "      <td>100</td>\n",
       "      <td>Cheese, ricotta, whole milk</td>\n",
       "      <td>[0.039640594, 0.027213166, 0.022343373, 0.0154...</td>\n",
       "      <td>0.193412</td>\n",
       "    </tr>\n",
       "    <tr>\n",
       "      <th>4</th>\n",
       "      <td>11</td>\n",
       "      <td>Cheese, ricotta, whole milk</td>\n",
       "      <td>[0.039640594, 0.027213166, 0.022343373, 0.0154...</td>\n",
       "      <td>0.193412</td>\n",
       "    </tr>\n",
       "    <tr>\n",
       "      <th>5</th>\n",
       "      <td>168</td>\n",
       "      <td>Flour, pastry, unenriched, unbleached</td>\n",
       "      <td>[0.011388066, 0.025323315, 7.580683e-05, 0.024...</td>\n",
       "      <td>0.191500</td>\n",
       "    </tr>\n",
       "    <tr>\n",
       "      <th>6</th>\n",
       "      <td>205</td>\n",
       "      <td>Flour, spelt, whole grain</td>\n",
       "      <td>[-0.0024113043, 0.0023404257, -0.00039863735, ...</td>\n",
       "      <td>0.190714</td>\n",
       "    </tr>\n",
       "    <tr>\n",
       "      <th>7</th>\n",
       "      <td>192</td>\n",
       "      <td>Spinach, baby</td>\n",
       "      <td>[0.032259777, -0.029398972, 0.0034496144, -0.0...</td>\n",
       "      <td>0.182451</td>\n",
       "    </tr>\n",
       "    <tr>\n",
       "      <th>8</th>\n",
       "      <td>201</td>\n",
       "      <td>Spinach, baby</td>\n",
       "      <td>[0.032259777, -0.029398972, 0.0034496144, -0.0...</td>\n",
       "      <td>0.182451</td>\n",
       "    </tr>\n",
       "    <tr>\n",
       "      <th>9</th>\n",
       "      <td>152</td>\n",
       "      <td>Flour, wheat, all-purpose, enriched, unbleached</td>\n",
       "      <td>[0.0032659338, 0.025198318, -0.00913277, 0.043...</td>\n",
       "      <td>0.181778</td>\n",
       "    </tr>\n",
       "    <tr>\n",
       "      <th>10</th>\n",
       "      <td>13</td>\n",
       "      <td>Egg, whole, raw, frozen, pasteurized</td>\n",
       "      <td>[0.05671165, 0.04008497, 0.011062049, 0.027042...</td>\n",
       "      <td>0.181080</td>\n",
       "    </tr>\n",
       "    <tr>\n",
       "      <th>11</th>\n",
       "      <td>219</td>\n",
       "      <td>Mushroom, crimini</td>\n",
       "      <td>[0.059809633, 0.026994426, 0.022661524, 0.0117...</td>\n",
       "      <td>0.180703</td>\n",
       "    </tr>\n",
       "    <tr>\n",
       "      <th>12</th>\n",
       "      <td>157</td>\n",
       "      <td>Flour, corn, yellow, fine meal, enriched</td>\n",
       "      <td>[0.004385958, 0.019573336, 0.021559209, 0.0192...</td>\n",
       "      <td>0.179214</td>\n",
       "    </tr>\n",
       "    <tr>\n",
       "      <th>13</th>\n",
       "      <td>151</td>\n",
       "      <td>Flour, wheat, all-purpose, enriched, bleached</td>\n",
       "      <td>[-0.010427493, 0.03509618, -0.012185862, 0.038...</td>\n",
       "      <td>0.176677</td>\n",
       "    </tr>\n",
       "    <tr>\n",
       "      <th>14</th>\n",
       "      <td>44</td>\n",
       "      <td>Egg, yolk, raw, frozen, pasteurized</td>\n",
       "      <td>[0.05473558, 0.03172995, 0.01504384, 0.0130933...</td>\n",
       "      <td>0.175362</td>\n",
       "    </tr>\n",
       "    <tr>\n",
       "      <th>15</th>\n",
       "      <td>49</td>\n",
       "      <td>Oil, coconut</td>\n",
       "      <td>[-0.0032093117, 0.01762991, -0.0077107814, 0.0...</td>\n",
       "      <td>0.173962</td>\n",
       "    </tr>\n",
       "    <tr>\n",
       "      <th>16</th>\n",
       "      <td>191</td>\n",
       "      <td>Oil, olive, extra light</td>\n",
       "      <td>[0.029956121, 0.034155916, -0.0013634328, 0.00...</td>\n",
       "      <td>0.173242</td>\n",
       "    </tr>\n",
       "    <tr>\n",
       "      <th>17</th>\n",
       "      <td>143</td>\n",
       "      <td>Eggs, Grade A, Large, egg yolk</td>\n",
       "      <td>[0.026501708, 0.017200494, 0.028489707, 0.0121...</td>\n",
       "      <td>0.172323</td>\n",
       "    </tr>\n",
       "    <tr>\n",
       "      <th>18</th>\n",
       "      <td>148</td>\n",
       "      <td>Eggs, Grade A, Large, egg whole</td>\n",
       "      <td>[0.039003942, 0.025100458, 0.010049905, 0.0266...</td>\n",
       "      <td>0.171157</td>\n",
       "    </tr>\n",
       "    <tr>\n",
       "      <th>19</th>\n",
       "      <td>206</td>\n",
       "      <td>Flour, semolina, coarse and semi-coarse</td>\n",
       "      <td>[-0.0043198103, -0.00046838404, 0.0065214806, ...</td>\n",
       "      <td>0.170354</td>\n",
       "    </tr>\n",
       "    <tr>\n",
       "      <th>20</th>\n",
       "      <td>164</td>\n",
       "      <td>Flour, soy, defatted</td>\n",
       "      <td>[0.031205067, -0.006584518, 0.0005986342, -0.0...</td>\n",
       "      <td>0.169082</td>\n",
       "    </tr>\n",
       "    <tr>\n",
       "      <th>21</th>\n",
       "      <td>153</td>\n",
       "      <td>Flour, wheat, all-purpose, unenriched, unbleached</td>\n",
       "      <td>[0.004302305, 0.016979087, -0.016641248, 0.030...</td>\n",
       "      <td>0.168956</td>\n",
       "    </tr>\n",
       "    <tr>\n",
       "      <th>22</th>\n",
       "      <td>46</td>\n",
       "      <td>Cheese, dry white, queso seco</td>\n",
       "      <td>[0.016544128, 0.026695058, 0.01498491, -0.0051...</td>\n",
       "      <td>0.168623</td>\n",
       "    </tr>\n",
       "    <tr>\n",
       "      <th>23</th>\n",
       "      <td>99</td>\n",
       "      <td>Cheese, dry white, queso seco</td>\n",
       "      <td>[0.016544128, 0.026695058, 0.01498491, -0.0051...</td>\n",
       "      <td>0.168623</td>\n",
       "    </tr>\n",
       "    <tr>\n",
       "      <th>24</th>\n",
       "      <td>52</td>\n",
       "      <td>Chicken, broiler or fryers, breast, skinless, ...</td>\n",
       "      <td>[0.006809874, 0.042072985, -0.010238549, -0.00...</td>\n",
       "      <td>0.167687</td>\n",
       "    </tr>\n",
       "    <tr>\n",
       "      <th>25</th>\n",
       "      <td>14</td>\n",
       "      <td>Egg, white, raw, frozen, pasteurized</td>\n",
       "      <td>[0.047574345, 0.044542503, 0.0056249644, 0.030...</td>\n",
       "      <td>0.166238</td>\n",
       "    </tr>\n",
       "    <tr>\n",
       "      <th>26</th>\n",
       "      <td>142</td>\n",
       "      <td>Eggs, Grade A, Large, egg white</td>\n",
       "      <td>[0.022962725, 0.03988709, 0.0038031156, 0.0320...</td>\n",
       "      <td>0.165650</td>\n",
       "    </tr>\n",
       "    <tr>\n",
       "      <th>27</th>\n",
       "      <td>154</td>\n",
       "      <td>Flour, whole wheat, unenriched</td>\n",
       "      <td>[-0.017746057, 0.0042818026, -0.011816095, 0.0...</td>\n",
       "      <td>0.162899</td>\n",
       "    </tr>\n",
       "    <tr>\n",
       "      <th>28</th>\n",
       "      <td>21</td>\n",
       "      <td>Cheese, parmesan, grated</td>\n",
       "      <td>[0.012414084, -0.0072948313, 0.030408688, 0.01...</td>\n",
       "      <td>0.162767</td>\n",
       "    </tr>\n",
       "    <tr>\n",
       "      <th>29</th>\n",
       "      <td>158</td>\n",
       "      <td>Butter, stick, salted</td>\n",
       "      <td>[-0.012683423, 0.023756333, 0.013670274, -0.01...</td>\n",
       "      <td>0.162070</td>\n",
       "    </tr>\n",
       "  </tbody>\n",
       "</table>\n",
       "</div>"
      ],
      "text/plain": [
       "     id                                        description  \\\n",
       "0    41                Cheese, cottage, lowfat, 2% milkfat   \n",
       "1   165                               Flour, soy, full-fat   \n",
       "2   207                              Flour, semolina, fine   \n",
       "3   100                        Cheese, ricotta, whole milk   \n",
       "4    11                        Cheese, ricotta, whole milk   \n",
       "5   168              Flour, pastry, unenriched, unbleached   \n",
       "6   205                          Flour, spelt, whole grain   \n",
       "7   192                                      Spinach, baby   \n",
       "8   201                                      Spinach, baby   \n",
       "9   152    Flour, wheat, all-purpose, enriched, unbleached   \n",
       "10   13               Egg, whole, raw, frozen, pasteurized   \n",
       "11  219                                  Mushroom, crimini   \n",
       "12  157           Flour, corn, yellow, fine meal, enriched   \n",
       "13  151      Flour, wheat, all-purpose, enriched, bleached   \n",
       "14   44                Egg, yolk, raw, frozen, pasteurized   \n",
       "15   49                                       Oil, coconut   \n",
       "16  191                            Oil, olive, extra light   \n",
       "17  143                     Eggs, Grade A, Large, egg yolk   \n",
       "18  148                    Eggs, Grade A, Large, egg whole   \n",
       "19  206            Flour, semolina, coarse and semi-coarse   \n",
       "20  164                               Flour, soy, defatted   \n",
       "21  153  Flour, wheat, all-purpose, unenriched, unbleached   \n",
       "22   46                      Cheese, dry white, queso seco   \n",
       "23   99                      Cheese, dry white, queso seco   \n",
       "24   52  Chicken, broiler or fryers, breast, skinless, ...   \n",
       "25   14               Egg, white, raw, frozen, pasteurized   \n",
       "26  142                    Eggs, Grade A, Large, egg white   \n",
       "27  154                     Flour, whole wheat, unenriched   \n",
       "28   21                           Cheese, parmesan, grated   \n",
       "29  158                              Butter, stick, salted   \n",
       "\n",
       "                                                 clip     score  \n",
       "0   [0.029066313, 0.018294085, -0.014341239, 0.003...  0.204797  \n",
       "1   [-0.0004145672, 0.010990089, -0.012770833, 0.0...  0.196780  \n",
       "2   [0.004440714, -0.01190605, 0.017707396, 0.0257...  0.195567  \n",
       "3   [0.039640594, 0.027213166, 0.022343373, 0.0154...  0.193412  \n",
       "4   [0.039640594, 0.027213166, 0.022343373, 0.0154...  0.193412  \n",
       "5   [0.011388066, 0.025323315, 7.580683e-05, 0.024...  0.191500  \n",
       "6   [-0.0024113043, 0.0023404257, -0.00039863735, ...  0.190714  \n",
       "7   [0.032259777, -0.029398972, 0.0034496144, -0.0...  0.182451  \n",
       "8   [0.032259777, -0.029398972, 0.0034496144, -0.0...  0.182451  \n",
       "9   [0.0032659338, 0.025198318, -0.00913277, 0.043...  0.181778  \n",
       "10  [0.05671165, 0.04008497, 0.011062049, 0.027042...  0.181080  \n",
       "11  [0.059809633, 0.026994426, 0.022661524, 0.0117...  0.180703  \n",
       "12  [0.004385958, 0.019573336, 0.021559209, 0.0192...  0.179214  \n",
       "13  [-0.010427493, 0.03509618, -0.012185862, 0.038...  0.176677  \n",
       "14  [0.05473558, 0.03172995, 0.01504384, 0.0130933...  0.175362  \n",
       "15  [-0.0032093117, 0.01762991, -0.0077107814, 0.0...  0.173962  \n",
       "16  [0.029956121, 0.034155916, -0.0013634328, 0.00...  0.173242  \n",
       "17  [0.026501708, 0.017200494, 0.028489707, 0.0121...  0.172323  \n",
       "18  [0.039003942, 0.025100458, 0.010049905, 0.0266...  0.171157  \n",
       "19  [-0.0043198103, -0.00046838404, 0.0065214806, ...  0.170354  \n",
       "20  [0.031205067, -0.006584518, 0.0005986342, -0.0...  0.169082  \n",
       "21  [0.004302305, 0.016979087, -0.016641248, 0.030...  0.168956  \n",
       "22  [0.016544128, 0.026695058, 0.01498491, -0.0051...  0.168623  \n",
       "23  [0.016544128, 0.026695058, 0.01498491, -0.0051...  0.168623  \n",
       "24  [0.006809874, 0.042072985, -0.010238549, -0.00...  0.167687  \n",
       "25  [0.047574345, 0.044542503, 0.0056249644, 0.030...  0.166238  \n",
       "26  [0.022962725, 0.03988709, 0.0038031156, 0.0320...  0.165650  \n",
       "27  [-0.017746057, 0.0042818026, -0.011816095, 0.0...  0.162899  \n",
       "28  [0.012414084, -0.0072948313, 0.030408688, 0.01...  0.162767  \n",
       "29  [-0.012683423, 0.023756333, 0.013670274, -0.01...  0.162070  "
      ]
     },
     "execution_count": 33,
     "metadata": {},
     "output_type": "execute_result"
    }
   ],
   "source": [
    "r"
   ]
  },
  {
   "cell_type": "code",
   "execution_count": null,
   "metadata": {},
   "outputs": [],
   "source": []
  },
  {
   "cell_type": "code",
   "execution_count": null,
   "metadata": {},
   "outputs": [],
   "source": []
  },
  {
   "cell_type": "code",
   "execution_count": null,
   "metadata": {},
   "outputs": [],
   "source": []
  },
  {
   "cell_type": "code",
   "execution_count": 107,
   "metadata": {},
   "outputs": [
    {
     "name": "stdout",
     "output_type": "stream",
     "text": [
      "Converted 00_custom_pandas.ipynb.\n",
      "Converted 00_paths.ipynb.\n",
      "Converted 00_psql.ipynb.\n",
      "Converted 00_qdrant.ipynb.\n",
      "Converted 00_tools.ipynb.\n",
      "Converted 01_classfy_image.ipynb.\n",
      "Converted 0_template copy.ipynb.\n",
      "Converted 0_template.ipynb.\n",
      "Converted Untitled-1.ipynb.\n",
      "Converted inference.ipynb.\n",
      "Converted stats.ipynb.\n",
      "Converted usda_parsing.ipynb.\n"
     ]
    }
   ],
   "source": [
    "!nbdev_build_lib"
   ]
  },
  {
   "cell_type": "code",
   "execution_count": null,
   "metadata": {},
   "outputs": [],
   "source": []
  },
  {
   "cell_type": "code",
   "execution_count": 3,
   "metadata": {},
   "outputs": [
    {
     "data": {
      "text/plain": [
       "'https://api.telegram.org/file/bot5203882708:AAG3G_Y2oZSr-rMG2zoffDVtj3d0KkOFSts/photos/file_1040.jpg'"
      ]
     },
     "execution_count": 3,
     "metadata": {},
     "output_type": "execute_result"
    }
   ],
   "source": [
    "from_pickle('image_url')"
   ]
  },
  {
   "cell_type": "code",
   "execution_count": null,
   "metadata": {},
   "outputs": [],
   "source": []
  }
 ],
 "metadata": {
  "interpreter": {
   "hash": "1e1ee659a212ecca49d6a1809275141ef7642c152d6286fb803a43d965656456"
  },
  "kernelspec": {
   "display_name": "re",
   "language": "python",
   "name": "python3"
  },
  "language_info": {
   "codemirror_mode": {
    "name": "ipython",
    "version": 3
   },
   "file_extension": ".py",
   "mimetype": "text/x-python",
   "name": "python",
   "nbconvert_exporter": "python",
   "pygments_lexer": "ipython3",
   "version": "3.9.7"
  }
 },
 "nbformat": 4,
 "nbformat_minor": 4
}
