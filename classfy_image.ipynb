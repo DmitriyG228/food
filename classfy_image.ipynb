{
 "cells": [
  {
   "cell_type": "code",
   "execution_count": 1,
   "metadata": {},
   "outputs": [],
   "source": [
    "%load_ext autoreload\n",
    "%autoreload 2"
   ]
  },
  {
   "cell_type": "code",
   "execution_count": 2,
   "metadata": {},
   "outputs": [],
   "source": [
    "#default_exp classify_image"
   ]
  },
  {
   "cell_type": "code",
   "execution_count": 3,
   "metadata": {},
   "outputs": [],
   "source": [
    "#export\n",
    "from food.tools import *\n",
    "from food.paths import *\n",
    "\n",
    "import pandas as pd\n",
    "import numpy as np\n",
    "from food.psql import *\n",
    "\n",
    "# !nbdev_build_lib\n",
    "import requests\n",
    "from food.clipmodel import image2clip,text2clip\n",
    "from PIL import Image\n",
    "import torch"
   ]
  },
  {
   "cell_type": "code",
   "execution_count": 4,
   "metadata": {},
   "outputs": [],
   "source": [
    "#export\n",
    "def search_by_clip(clip, topk=5, query_expr='',search_params = {}): #32768\n",
    "    search_params = {\"metric_type\": \"IP\",\n",
    "                     \"params\": search_params}\n",
    "\n",
    "    print(query_expr)\n",
    "    results = collection.search(clip[None,], \"clip\", search_params, limit=topk, expr=query_expr, output_fields=[\"id\"])\n",
    "    results = results[0]\n",
    "    return list(results.distances), results.ids\n",
    "\n",
    "def get_metadata(ids):\n",
    "    q = f\"\"\"select * from foods where id in {tuple(ids)}\"\"\"\n",
    "    return pd.read_sql(q,engine)"
   ]
  },
  {
   "cell_type": "code",
   "execution_count": 5,
   "metadata": {},
   "outputs": [],
   "source": [
    "#export\n",
    "def get_calories(url=None,path=None):\n",
    "    r = search_image(url=url)\n",
    "    r = r[(r['energy_kcal_100g']>r['energy_kcal_100g'].quantile(0.3))&(r['energy_kcal_100g']<r['energy_kcal_100g'].quantile(0.9))]\n",
    "    rr = r[['energy_kcal_100g','proteins_100g','fat_100g','carbohydrates_100g']].mean().round(2)\n",
    "    rr['ids'] =  r['id'].tolist()\n",
    "    rr['scores'] =  r['score'].tolist()\n",
    "    rr['names']  =  r['product_name'].tolist()\n",
    "    return rr"
   ]
  },
  {
   "cell_type": "code",
   "execution_count": 7,
   "metadata": {},
   "outputs": [],
   "source": [
    "#export\n",
    "cos = torch.nn.CosineSimilarity(dim=-1, eps=1e-6)\n",
    "foods = pd.read_sql('select * from foods',engine)\n",
    "clip = torch.Tensor(foods['clip']).cuda(2).type(torch.float16)"
   ]
  },
  {
   "cell_type": "code",
   "execution_count": 11,
   "metadata": {},
   "outputs": [],
   "source": [
    "#export\n",
    "def search_image(url=None,path=None,milvus=False):\n",
    "    if url:\n",
    "        response = requests.get(url, stream=True)\n",
    "        image = Image.open(response.raw)\n",
    "    elif path:\n",
    "        image = Image.open(path)\n",
    "    image_clip = image2clip(image)\n",
    "    if milvus:\n",
    "        results = search_by_clip(clip.numpy())\n",
    "        df = get_metadata(results[1])\n",
    "        df['score'] = results[0]\n",
    "    else:\n",
    "        df = foods.drop(columns = ['clip'])\n",
    "        df['score'] = cos(clip, torch.Tensor(image_clip).cuda(2)).cpu().detach().numpy()\n",
    "        df = df.sort_values('score',ascending=False).head(1)\n",
    "\n",
    "    return df"
   ]
  },
  {
   "cell_type": "code",
   "execution_count": 12,
   "metadata": {},
   "outputs": [
    {
     "data": {
      "text/html": [
       "<div>\n",
       "<style scoped>\n",
       "    .dataframe tbody tr th:only-of-type {\n",
       "        vertical-align: middle;\n",
       "    }\n",
       "\n",
       "    .dataframe tbody tr th {\n",
       "        vertical-align: top;\n",
       "    }\n",
       "\n",
       "    .dataframe thead th {\n",
       "        text-align: right;\n",
       "    }\n",
       "</style>\n",
       "<table border=\"1\" class=\"dataframe\">\n",
       "  <thead>\n",
       "    <tr style=\"text-align: right;\">\n",
       "      <th></th>\n",
       "      <th>id</th>\n",
       "      <th>description</th>\n",
       "      <th>category</th>\n",
       "      <th>energy</th>\n",
       "      <th>protein</th>\n",
       "      <th>carb</th>\n",
       "      <th>fat</th>\n",
       "      <th>score</th>\n",
       "    </tr>\n",
       "  </thead>\n",
       "  <tbody>\n",
       "    <tr>\n",
       "      <th>4486</th>\n",
       "      <td>1101973</td>\n",
       "      <td>Pizza, cheese, from restaurant or fast food, t...</td>\n",
       "      <td>Pizza</td>\n",
       "      <td>271.0</td>\n",
       "      <td>10.81</td>\n",
       "      <td>33.17</td>\n",
       "      <td>10.54</td>\n",
       "      <td>0.240645</td>\n",
       "    </tr>\n",
       "  </tbody>\n",
       "</table>\n",
       "</div>"
      ],
      "text/plain": [
       "           id                                        description category  \\\n",
       "4486  1101973  Pizza, cheese, from restaurant or fast food, t...    Pizza   \n",
       "\n",
       "      energy  protein   carb    fat     score  \n",
       "4486   271.0    10.81  33.17  10.54  0.240645  "
      ]
     },
     "execution_count": 12,
     "metadata": {},
     "output_type": "execute_result"
    }
   ],
   "source": [
    "search_image('https://hips.hearstapps.com/hmg-prod.s3.amazonaws.com/images/classic-cheese-pizza-1617996277.jpg?crop=1.00xw:1.00xh;0,0&resize=980:*')"
   ]
  },
  {
   "cell_type": "code",
   "execution_count": 14,
   "metadata": {},
   "outputs": [
    {
     "name": "stdout",
     "output_type": "stream",
     "text": [
      "Converted 00_paths.ipynb.\n",
      "Converted 00_progress_check.ipynb.\n",
      "Converted 00_psql.ipynb.\n",
      "Converted 00_recreate_milvus.ipynb.\n",
      "Converted 00_tools.ipynb.\n",
      "Converted 04_milvus.ipynb.\n",
      "Converted 06_clip.ipynb.\n",
      "Converted 0_template copy.ipynb.\n",
      "Converted 0_template.ipynb.\n",
      "Converted bot.ipynb.\n",
      "Converted classfy_image.ipynb.\n",
      "Converted image_segmentation.ipynb.\n",
      "Converted inference.ipynb.\n",
      "Converted milvus_search_test.ipynb.\n",
      "Converted milvus_update.ipynb.\n",
      "Converted openfoodfacts_json_parsing.ipynb.\n",
      "Converted usda_parsing.ipynb.\n"
     ]
    }
   ],
   "source": [
    "!nbdev_build_lib"
   ]
  },
  {
   "cell_type": "code",
   "execution_count": null,
   "metadata": {},
   "outputs": [],
   "source": []
  }
 ],
 "metadata": {
  "interpreter": {
   "hash": "1e1ee659a212ecca49d6a1809275141ef7642c152d6286fb803a43d965656456"
  },
  "kernelspec": {
   "display_name": "re",
   "language": "python",
   "name": "python3"
  },
  "language_info": {
   "codemirror_mode": {
    "name": "ipython",
    "version": 3
   },
   "file_extension": ".py",
   "mimetype": "text/x-python",
   "name": "python",
   "nbconvert_exporter": "python",
   "pygments_lexer": "ipython3",
   "version": "3.9.7"
  }
 },
 "nbformat": 4,
 "nbformat_minor": 4
}
