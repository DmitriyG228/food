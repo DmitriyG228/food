{
 "cells": [
  {
   "cell_type": "code",
   "execution_count": 1,
   "metadata": {},
   "outputs": [],
   "source": [
    "%load_ext autoreload\n",
    "%autoreload 2"
   ]
  },
  {
   "cell_type": "code",
   "execution_count": 2,
   "metadata": {},
   "outputs": [],
   "source": [
    "#default_exp classify_image"
   ]
  },
  {
   "cell_type": "code",
   "execution_count": 41,
   "metadata": {},
   "outputs": [],
   "source": [
    "#export\n",
    "from food.tools import *\n",
    "from food.paths import *\n",
    "\n",
    "import pandas as pd\n",
    "import numpy as np\n",
    "from food.psql import *\n",
    "\n",
    "# !nbdev_build_lib\n",
    "import requests\n",
    "from food.clipmodel import image2clip,text2clip\n",
    "from PIL import Image"
   ]
  },
  {
   "cell_type": "code",
   "execution_count": 4,
   "metadata": {},
   "outputs": [
    {
     "data": {
      "text/plain": [
       "7083"
      ]
     },
     "execution_count": 4,
     "metadata": {},
     "output_type": "execute_result"
    }
   ],
   "source": [
    "#export\n",
    "from food.milvus import collection\n",
    "collection.load()\n",
    "collection.num_entities"
   ]
  },
  {
   "cell_type": "code",
   "execution_count": 5,
   "metadata": {},
   "outputs": [],
   "source": [
    "#export\n",
    "def search_by_clip(clip, topk=5, query_expr='',search_params = {}): #32768\n",
    "    search_params = {\"metric_type\": \"IP\",\n",
    "                     \"params\": search_params}\n",
    "\n",
    "    print(query_expr)\n",
    "    results = collection.search(clip[None,], \"clip\", search_params, limit=topk, expr=query_expr, output_fields=[\"id\"])\n",
    "    results = results[0]\n",
    "    return list(results.distances), results.ids\n",
    "\n",
    "def get_metadata(ids):\n",
    "    q = f\"\"\"select * from foods where id in {tuple(ids)}\"\"\"\n",
    "    return pd.read_sql(q,engine)"
   ]
  },
  {
   "cell_type": "code",
   "execution_count": 194,
   "metadata": {},
   "outputs": [],
   "source": [
    "#export\n",
    "def search_image(url=None,path=None):\n",
    "    if url:\n",
    "        response = requests.get(url, stream=True)\n",
    "        image = Image.open(response.raw)\n",
    "    elif path:\n",
    "        image = Image.open(path)\n",
    "    clip = image2clip(image)\n",
    "    results = search_by_clip(clip.numpy())\n",
    "    df = get_metadata(results[1])\n",
    "    df['score'] = results[0]\n",
    "    return df"
   ]
  },
  {
   "cell_type": "code",
   "execution_count": 189,
   "metadata": {},
   "outputs": [],
   "source": [
    "#export\n",
    "def get_calories(url=None,path=None):\n",
    "    r = search_image(url=url)\n",
    "    r = r[(r['energy_kcal_100g']>r['energy_kcal_100g'].quantile(0.3))&(r['energy_kcal_100g']<r['energy_kcal_100g'].quantile(0.9))]\n",
    "    rr = r[['energy_kcal_100g','proteins_100g','fat_100g','carbohydrates_100g']].mean().round(2)\n",
    "    rr['ids'] =  r['id'].tolist()\n",
    "    rr['scores'] =  r['score'].tolist()\n",
    "    rr['names']  =  r['product_name'].tolist()\n",
    "    return rr"
   ]
  },
  {
   "cell_type": "code",
   "execution_count": 193,
   "metadata": {},
   "outputs": [],
   "source": [
    "url = 'https://s3-ap-south-1.amazonaws.com/fooddata.image/12293.jpg'\n",
    "\n",
    "response = requests.get(url, stream=True)\n",
    "image = Image.open(response.raw)\n",
    "image_clip = image2clip(image)"
   ]
  },
  {
   "cell_type": "code",
   "execution_count": 205,
   "metadata": {},
   "outputs": [
    {
     "name": "stdout",
     "output_type": "stream",
     "text": [
      "\n"
     ]
    },
    {
     "data": {
      "text/html": [
       "<div>\n",
       "<style scoped>\n",
       "    .dataframe tbody tr th:only-of-type {\n",
       "        vertical-align: middle;\n",
       "    }\n",
       "\n",
       "    .dataframe tbody tr th {\n",
       "        vertical-align: top;\n",
       "    }\n",
       "\n",
       "    .dataframe thead th {\n",
       "        text-align: right;\n",
       "    }\n",
       "</style>\n",
       "<table border=\"1\" class=\"dataframe\">\n",
       "  <thead>\n",
       "    <tr style=\"text-align: right;\">\n",
       "      <th></th>\n",
       "      <th>id</th>\n",
       "      <th>description</th>\n",
       "      <th>category</th>\n",
       "      <th>energy</th>\n",
       "      <th>protein</th>\n",
       "      <th>carb</th>\n",
       "      <th>fat</th>\n",
       "      <th>clip</th>\n",
       "      <th>score</th>\n",
       "    </tr>\n",
       "  </thead>\n",
       "  <tbody>\n",
       "    <tr>\n",
       "      <th>0</th>\n",
       "      <td>1101144</td>\n",
       "      <td>Cobbler, apple</td>\n",
       "      <td>Cakes and pies</td>\n",
       "      <td>194.0</td>\n",
       "      <td>2.31</td>\n",
       "      <td>36.38</td>\n",
       "      <td>4.95</td>\n",
       "      <td>[0.03982123, -0.021529237, 0.030978544, -0.001...</td>\n",
       "      <td>0.255718</td>\n",
       "    </tr>\n",
       "    <tr>\n",
       "      <th>1</th>\n",
       "      <td>1101153</td>\n",
       "      <td>Fritter, apple</td>\n",
       "      <td>Doughnuts, sweet rolls, pastries</td>\n",
       "      <td>381.0</td>\n",
       "      <td>6.46</td>\n",
       "      <td>34.75</td>\n",
       "      <td>24.46</td>\n",
       "      <td>[0.057608202, 0.031312082, 0.02672885, -0.0110...</td>\n",
       "      <td>0.247006</td>\n",
       "    </tr>\n",
       "    <tr>\n",
       "      <th>2</th>\n",
       "      <td>1102644</td>\n",
       "      <td>Apple, raw</td>\n",
       "      <td>Apples</td>\n",
       "      <td>52.0</td>\n",
       "      <td>0.26</td>\n",
       "      <td>13.81</td>\n",
       "      <td>0.17</td>\n",
       "      <td>[0.03289434, 0.009451146, 0.04302109, -0.00526...</td>\n",
       "      <td>0.246747</td>\n",
       "    </tr>\n",
       "    <tr>\n",
       "      <th>3</th>\n",
       "      <td>1102782</td>\n",
       "      <td>Apples, baby food, toddler</td>\n",
       "      <td>Baby food: fruit</td>\n",
       "      <td>50.0</td>\n",
       "      <td>0.19</td>\n",
       "      <td>11.56</td>\n",
       "      <td>0.36</td>\n",
       "      <td>[0.0003478544, -0.022820584, 0.033641424, 0.00...</td>\n",
       "      <td>0.245858</td>\n",
       "    </tr>\n",
       "    <tr>\n",
       "      <th>4</th>\n",
       "      <td>1102813</td>\n",
       "      <td>Apples and pears, baby food, junior</td>\n",
       "      <td>Baby food: fruit</td>\n",
       "      <td>40.0</td>\n",
       "      <td>0.15</td>\n",
       "      <td>10.95</td>\n",
       "      <td>0.05</td>\n",
       "      <td>[0.017789599, 0.0068757446, 0.0164412, 0.01423...</td>\n",
       "      <td>0.243942</td>\n",
       "    </tr>\n",
       "  </tbody>\n",
       "</table>\n",
       "</div>"
      ],
      "text/plain": [
       "        id                          description  \\\n",
       "0  1101144                       Cobbler, apple   \n",
       "1  1101153                       Fritter, apple   \n",
       "2  1102644                           Apple, raw   \n",
       "3  1102782           Apples, baby food, toddler   \n",
       "4  1102813  Apples and pears, baby food, junior   \n",
       "\n",
       "                           category  energy  protein   carb    fat  \\\n",
       "0                    Cakes and pies   194.0     2.31  36.38   4.95   \n",
       "1  Doughnuts, sweet rolls, pastries   381.0     6.46  34.75  24.46   \n",
       "2                            Apples    52.0     0.26  13.81   0.17   \n",
       "3                  Baby food: fruit    50.0     0.19  11.56   0.36   \n",
       "4                  Baby food: fruit    40.0     0.15  10.95   0.05   \n",
       "\n",
       "                                                clip     score  \n",
       "0  [0.03982123, -0.021529237, 0.030978544, -0.001...  0.255718  \n",
       "1  [0.057608202, 0.031312082, 0.02672885, -0.0110...  0.247006  \n",
       "2  [0.03289434, 0.009451146, 0.04302109, -0.00526...  0.246747  \n",
       "3  [0.0003478544, -0.022820584, 0.033641424, 0.00...  0.245858  \n",
       "4  [0.017789599, 0.0068757446, 0.0164412, 0.01423...  0.243942  "
      ]
     },
     "execution_count": 205,
     "metadata": {},
     "output_type": "execute_result"
    }
   ],
   "source": [
    "#milvus search\n",
    "search_image(url)"
   ]
  },
  {
   "cell_type": "code",
   "execution_count": 206,
   "metadata": {},
   "outputs": [
    {
     "data": {
      "text/html": [
       "<div>\n",
       "<style scoped>\n",
       "    .dataframe tbody tr th:only-of-type {\n",
       "        vertical-align: middle;\n",
       "    }\n",
       "\n",
       "    .dataframe tbody tr th {\n",
       "        vertical-align: top;\n",
       "    }\n",
       "\n",
       "    .dataframe thead th {\n",
       "        text-align: right;\n",
       "    }\n",
       "</style>\n",
       "<table border=\"1\" class=\"dataframe\">\n",
       "  <thead>\n",
       "    <tr style=\"text-align: right;\">\n",
       "      <th></th>\n",
       "      <th>id</th>\n",
       "      <th>description</th>\n",
       "      <th>category</th>\n",
       "      <th>energy</th>\n",
       "      <th>protein</th>\n",
       "      <th>carb</th>\n",
       "      <th>fat</th>\n",
       "      <th>clip</th>\n",
       "      <th>score</th>\n",
       "    </tr>\n",
       "  </thead>\n",
       "  <tbody>\n",
       "    <tr>\n",
       "      <th>5143</th>\n",
       "      <td>1102644</td>\n",
       "      <td>Apple, raw</td>\n",
       "      <td>Apples</td>\n",
       "      <td>52.0</td>\n",
       "      <td>0.26</td>\n",
       "      <td>13.81</td>\n",
       "      <td>0.17</td>\n",
       "      <td>[0.03289434, 0.009451146, 0.04302109, -0.00526...</td>\n",
       "      <td>0.255692</td>\n",
       "    </tr>\n",
       "    <tr>\n",
       "      <th>5276</th>\n",
       "      <td>1102782</td>\n",
       "      <td>Apples, baby food, toddler</td>\n",
       "      <td>Baby food: fruit</td>\n",
       "      <td>50.0</td>\n",
       "      <td>0.19</td>\n",
       "      <td>11.56</td>\n",
       "      <td>0.36</td>\n",
       "      <td>[0.0003478544, -0.022820584, 0.033641424, 0.00...</td>\n",
       "      <td>0.246995</td>\n",
       "    </tr>\n",
       "    <tr>\n",
       "      <th>3639</th>\n",
       "      <td>1101144</td>\n",
       "      <td>Cobbler, apple</td>\n",
       "      <td>Cakes and pies</td>\n",
       "      <td>194.0</td>\n",
       "      <td>2.31</td>\n",
       "      <td>36.38</td>\n",
       "      <td>4.95</td>\n",
       "      <td>[0.03982123, -0.021529237, 0.030978544, -0.001...</td>\n",
       "      <td>0.246746</td>\n",
       "    </tr>\n",
       "    <tr>\n",
       "      <th>3648</th>\n",
       "      <td>1101153</td>\n",
       "      <td>Fritter, apple</td>\n",
       "      <td>Doughnuts, sweet rolls, pastries</td>\n",
       "      <td>381.0</td>\n",
       "      <td>6.46</td>\n",
       "      <td>34.75</td>\n",
       "      <td>24.46</td>\n",
       "      <td>[0.057608202, 0.031312082, 0.02672885, -0.0110...</td>\n",
       "      <td>0.245845</td>\n",
       "    </tr>\n",
       "    <tr>\n",
       "      <th>5307</th>\n",
       "      <td>1102813</td>\n",
       "      <td>Apples and pears, baby food, junior</td>\n",
       "      <td>Baby food: fruit</td>\n",
       "      <td>40.0</td>\n",
       "      <td>0.15</td>\n",
       "      <td>10.95</td>\n",
       "      <td>0.05</td>\n",
       "      <td>[0.017789599, 0.0068757446, 0.0164412, 0.01423...</td>\n",
       "      <td>0.243948</td>\n",
       "    </tr>\n",
       "  </tbody>\n",
       "</table>\n",
       "</div>"
      ],
      "text/plain": [
       "           id                          description  \\\n",
       "5143  1102644                           Apple, raw   \n",
       "5276  1102782           Apples, baby food, toddler   \n",
       "3639  1101144                       Cobbler, apple   \n",
       "3648  1101153                       Fritter, apple   \n",
       "5307  1102813  Apples and pears, baby food, junior   \n",
       "\n",
       "                              category  energy  protein   carb    fat  \\\n",
       "5143                            Apples    52.0     0.26  13.81   0.17   \n",
       "5276                  Baby food: fruit    50.0     0.19  11.56   0.36   \n",
       "3639                    Cakes and pies   194.0     2.31  36.38   4.95   \n",
       "3648  Doughnuts, sweet rolls, pastries   381.0     6.46  34.75  24.46   \n",
       "5307                  Baby food: fruit    40.0     0.15  10.95   0.05   \n",
       "\n",
       "                                                   clip     score  \n",
       "5143  [0.03289434, 0.009451146, 0.04302109, -0.00526...  0.255692  \n",
       "5276  [0.0003478544, -0.022820584, 0.033641424, 0.00...  0.246995  \n",
       "3639  [0.03982123, -0.021529237, 0.030978544, -0.001...  0.246746  \n",
       "3648  [0.057608202, 0.031312082, 0.02672885, -0.0110...  0.245845  \n",
       "5307  [0.017789599, 0.0068757446, 0.0164412, 0.01423...  0.243948  "
      ]
     },
     "execution_count": 206,
     "metadata": {},
     "output_type": "execute_result"
    }
   ],
   "source": [
    "cos = torch.nn.CosineSimilarity(dim=-1, eps=1e-6)\n",
    "foods = pd.read_sql('select * from foods',engine)\n",
    "clip = torch.Tensor(foods['clip']).cuda(2).type(torch.float16)\n",
    "foods['score'] = cos(clip, torch.Tensor(image_clip).cuda(2)).cpu().detach().numpy()\n",
    "truth = foods.sort_values('score',ascending=False).head(50)\n",
    "truth.head()"
   ]
  },
  {
   "cell_type": "code",
   "execution_count": null,
   "metadata": {},
   "outputs": [],
   "source": [
    "from food.milvus import collection"
   ]
  },
  {
   "cell_type": "code",
   "execution_count": 207,
   "metadata": {},
   "outputs": [
    {
     "data": {
      "text/plain": [
       "7083"
      ]
     },
     "execution_count": 207,
     "metadata": {},
     "output_type": "execute_result"
    }
   ],
   "source": [
    "collection.load()\n",
    "collection.num_entities"
   ]
  },
  {
   "cell_type": "code",
   "execution_count": null,
   "metadata": {},
   "outputs": [],
   "source": [
    "res = collection.query(\n",
    "  expr = \"id in [1102644]\", \n",
    "  output_fields = [\"clip\"],\n",
    "  consistency_level=\"Strong\"\n",
    ")"
   ]
  },
  {
   "cell_type": "code",
   "execution_count": 208,
   "metadata": {},
   "outputs": [
    {
     "data": {
      "text/plain": [
       "tensor(0.2557)"
      ]
     },
     "execution_count": 208,
     "metadata": {},
     "output_type": "execute_result"
    }
   ],
   "source": [
    "cos(torch.Tensor(res[0]['clip']),image_clip)"
   ]
  },
  {
   "cell_type": "code",
   "execution_count": 224,
   "metadata": {},
   "outputs": [
    {
     "data": {
      "text/plain": [
       "tensor(1.0000)"
      ]
     },
     "execution_count": 224,
     "metadata": {},
     "output_type": "execute_result"
    }
   ],
   "source": [
    "torch.linalg.norm(image_clip, dim=-1)"
   ]
  },
  {
   "cell_type": "code",
   "execution_count": 228,
   "metadata": {},
   "outputs": [
    {
     "data": {
      "text/plain": [
       "tensor(1.0000)"
      ]
     },
     "execution_count": 228,
     "metadata": {},
     "output_type": "execute_result"
    }
   ],
   "source": [
    "torch.linalg.norm(torch.Tensor(res[0]['clip']), dim=-1)"
   ]
  },
  {
   "cell_type": "code",
   "execution_count": 187,
   "metadata": {},
   "outputs": [
    {
     "name": "stdout",
     "output_type": "stream",
     "text": [
      "\n"
     ]
    },
    {
     "data": {
      "text/html": [
       "<div>\n",
       "<style scoped>\n",
       "    .dataframe tbody tr th:only-of-type {\n",
       "        vertical-align: middle;\n",
       "    }\n",
       "\n",
       "    .dataframe tbody tr th {\n",
       "        vertical-align: top;\n",
       "    }\n",
       "\n",
       "    .dataframe thead th {\n",
       "        text-align: right;\n",
       "    }\n",
       "</style>\n",
       "<table border=\"1\" class=\"dataframe\">\n",
       "  <thead>\n",
       "    <tr style=\"text-align: right;\">\n",
       "      <th></th>\n",
       "      <th>id</th>\n",
       "      <th>description</th>\n",
       "      <th>category</th>\n",
       "      <th>energy</th>\n",
       "      <th>protein</th>\n",
       "      <th>carb</th>\n",
       "      <th>fat</th>\n",
       "      <th>clip</th>\n",
       "      <th>score</th>\n",
       "    </tr>\n",
       "  </thead>\n",
       "  <tbody>\n",
       "    <tr>\n",
       "      <th>0</th>\n",
       "      <td>1101144</td>\n",
       "      <td>Cobbler, apple</td>\n",
       "      <td>Cakes and pies</td>\n",
       "      <td>194.0</td>\n",
       "      <td>2.31</td>\n",
       "      <td>36.38</td>\n",
       "      <td>4.95</td>\n",
       "      <td>[0.03982123, -0.021529237, 0.030978544, -0.001...</td>\n",
       "      <td>0.255718</td>\n",
       "    </tr>\n",
       "    <tr>\n",
       "      <th>1</th>\n",
       "      <td>1101153</td>\n",
       "      <td>Fritter, apple</td>\n",
       "      <td>Doughnuts, sweet rolls, pastries</td>\n",
       "      <td>381.0</td>\n",
       "      <td>6.46</td>\n",
       "      <td>34.75</td>\n",
       "      <td>24.46</td>\n",
       "      <td>[0.057608202, 0.031312082, 0.02672885, -0.0110...</td>\n",
       "      <td>0.247006</td>\n",
       "    </tr>\n",
       "    <tr>\n",
       "      <th>2</th>\n",
       "      <td>1102644</td>\n",
       "      <td>Apple, raw</td>\n",
       "      <td>Apples</td>\n",
       "      <td>52.0</td>\n",
       "      <td>0.26</td>\n",
       "      <td>13.81</td>\n",
       "      <td>0.17</td>\n",
       "      <td>[0.03289434, 0.009451146, 0.04302109, -0.00526...</td>\n",
       "      <td>0.246747</td>\n",
       "    </tr>\n",
       "    <tr>\n",
       "      <th>3</th>\n",
       "      <td>1102782</td>\n",
       "      <td>Apples, baby food, toddler</td>\n",
       "      <td>Baby food: fruit</td>\n",
       "      <td>50.0</td>\n",
       "      <td>0.19</td>\n",
       "      <td>11.56</td>\n",
       "      <td>0.36</td>\n",
       "      <td>[0.0003478544, -0.022820584, 0.033641424, 0.00...</td>\n",
       "      <td>0.245858</td>\n",
       "    </tr>\n",
       "    <tr>\n",
       "      <th>4</th>\n",
       "      <td>1102813</td>\n",
       "      <td>Apples and pears, baby food, junior</td>\n",
       "      <td>Baby food: fruit</td>\n",
       "      <td>40.0</td>\n",
       "      <td>0.15</td>\n",
       "      <td>10.95</td>\n",
       "      <td>0.05</td>\n",
       "      <td>[0.017789599, 0.0068757446, 0.0164412, 0.01423...</td>\n",
       "      <td>0.243942</td>\n",
       "    </tr>\n",
       "  </tbody>\n",
       "</table>\n",
       "</div>"
      ],
      "text/plain": [
       "        id                          description  \\\n",
       "0  1101144                       Cobbler, apple   \n",
       "1  1101153                       Fritter, apple   \n",
       "2  1102644                           Apple, raw   \n",
       "3  1102782           Apples, baby food, toddler   \n",
       "4  1102813  Apples and pears, baby food, junior   \n",
       "\n",
       "                           category  energy  protein   carb    fat  \\\n",
       "0                    Cakes and pies   194.0     2.31  36.38   4.95   \n",
       "1  Doughnuts, sweet rolls, pastries   381.0     6.46  34.75  24.46   \n",
       "2                            Apples    52.0     0.26  13.81   0.17   \n",
       "3                  Baby food: fruit    50.0     0.19  11.56   0.36   \n",
       "4                  Baby food: fruit    40.0     0.15  10.95   0.05   \n",
       "\n",
       "                                                clip     score  \n",
       "0  [0.03982123, -0.021529237, 0.030978544, -0.001...  0.255718  \n",
       "1  [0.057608202, 0.031312082, 0.02672885, -0.0110...  0.247006  \n",
       "2  [0.03289434, 0.009451146, 0.04302109, -0.00526...  0.246747  \n",
       "3  [0.0003478544, -0.022820584, 0.033641424, 0.00...  0.245858  \n",
       "4  [0.017789599, 0.0068757446, 0.0164412, 0.01423...  0.243942  "
      ]
     },
     "execution_count": 187,
     "metadata": {},
     "output_type": "execute_result"
    }
   ],
   "source": [
    "search_image(url)"
   ]
  },
  {
   "cell_type": "code",
   "execution_count": 13,
   "metadata": {},
   "outputs": [
    {
     "name": "stdout",
     "output_type": "stream",
     "text": [
      "\n"
     ]
    },
    {
     "data": {
      "text/plain": [
       "energy_kcal_100g                                                  588.5\n",
       "proteins_100g                                                     10.48\n",
       "fat_100g                                                          49.15\n",
       "carbohydrates_100g                                                22.06\n",
       "ids                   [227195, 227314, 546920, 670513, 2910991, 3177...\n",
       "scores                [0.3648509979248047, 0.36058855056762695, 0.35...\n",
       "names                 [Lindt Excellence Dark Chocolate Bar - 70%, Li...\n",
       "dtype: object"
      ]
     },
     "execution_count": 13,
     "metadata": {},
     "output_type": "execute_result"
    }
   ],
   "source": [
    "get_calories(url)"
   ]
  },
  {
   "cell_type": "code",
   "execution_count": 20,
   "metadata": {},
   "outputs": [
    {
     "data": {
      "text/html": [
       "<div>\n",
       "<style scoped>\n",
       "    .dataframe tbody tr th:only-of-type {\n",
       "        vertical-align: middle;\n",
       "    }\n",
       "\n",
       "    .dataframe tbody tr th {\n",
       "        vertical-align: top;\n",
       "    }\n",
       "\n",
       "    .dataframe thead th {\n",
       "        text-align: right;\n",
       "    }\n",
       "</style>\n",
       "<table border=\"1\" class=\"dataframe\">\n",
       "  <thead>\n",
       "    <tr style=\"text-align: right;\">\n",
       "      <th></th>\n",
       "      <th>count</th>\n",
       "    </tr>\n",
       "  </thead>\n",
       "  <tbody>\n",
       "    <tr>\n",
       "      <th>0</th>\n",
       "      <td>0</td>\n",
       "    </tr>\n",
       "  </tbody>\n",
       "</table>\n",
       "</div>"
      ],
      "text/plain": [
       "   count\n",
       "0      0"
      ]
     },
     "execution_count": 20,
     "metadata": {},
     "output_type": "execute_result"
    }
   ],
   "source": [
    "pd.read_sql(\"select count(*) from foods_big where energy_kcal_100g is null\",engine)"
   ]
  },
  {
   "cell_type": "code",
   "execution_count": null,
   "metadata": {},
   "outputs": [],
   "source": []
  },
  {
   "cell_type": "code",
   "execution_count": 118,
   "metadata": {},
   "outputs": [
    {
     "data": {
      "text/html": [
       "<div>\n",
       "<style scoped>\n",
       "    .dataframe tbody tr th:only-of-type {\n",
       "        vertical-align: middle;\n",
       "    }\n",
       "\n",
       "    .dataframe tbody tr th {\n",
       "        vertical-align: top;\n",
       "    }\n",
       "\n",
       "    .dataframe thead th {\n",
       "        text-align: right;\n",
       "    }\n",
       "</style>\n",
       "<table border=\"1\" class=\"dataframe\">\n",
       "  <thead>\n",
       "    <tr style=\"text-align: right;\">\n",
       "      <th></th>\n",
       "      <th>id</th>\n",
       "      <th>product_name</th>\n",
       "      <th>keywords</th>\n",
       "      <th>ingredients_text</th>\n",
       "      <th>categories</th>\n",
       "      <th>food_groups</th>\n",
       "      <th>energy_kcal_100g</th>\n",
       "      <th>proteins_100g</th>\n",
       "      <th>fat_100g</th>\n",
       "      <th>carbohydrates_100g</th>\n",
       "      <th>clip</th>\n",
       "    </tr>\n",
       "  </thead>\n",
       "  <tbody>\n",
       "  </tbody>\n",
       "</table>\n",
       "</div>"
      ],
      "text/plain": [
       "Empty DataFrame\n",
       "Columns: [id, product_name, keywords, ingredients_text, categories, food_groups, energy_kcal_100g, proteins_100g, fat_100g, carbohydrates_100g, clip]\n",
       "Index: []"
      ]
     },
     "execution_count": 118,
     "metadata": {},
     "output_type": "execute_result"
    }
   ],
   "source": [
    "pd.read_sql(\"select * from foods_big where clip is not null\",engine)"
   ]
  },
  {
   "cell_type": "code",
   "execution_count": 48,
   "metadata": {},
   "outputs": [],
   "source": [
    "df = pd.read_sql(\"select * from foods_big\",engine).set_index('id')"
   ]
  },
  {
   "cell_type": "code",
   "execution_count": null,
   "metadata": {},
   "outputs": [],
   "source": []
  },
  {
   "cell_type": "code",
   "execution_count": 103,
   "metadata": {},
   "outputs": [],
   "source": [
    "text = df[['product_name','keywords','ingredients_text','categories','food_groups']].fillna(\"\")\n",
    "for c in text.columns: text[c] = text[c].str.replace('NaN','')\n",
    "text = text['product_name']+ '. ' + text['food_groups']+ '. ' + text['keywords'] + '. ' + text['ingredients_text'] + '. '+ text['categories']"
   ]
  },
  {
   "cell_type": "code",
   "execution_count": 117,
   "metadata": {},
   "outputs": [
    {
     "data": {
      "text/plain": [
       "\"panna cotta fruits rouges. dairy-desserts. panna, de, au, produit, lacte, dessert, rouge, laitier, franprix, framboise, couli, la, fruit, cotta. Crème fraîche 31,7% - eau - sirop de glucose - framboises 10,4% - sucre - lait écrémé en poudre - huile de coco - alcool - amidon de tapioca - épaississants : carraghénanes, alginate de sodium - correcteur d’acidité : acide citrique - gélifiant : pectines - arômes naturels - émulsifiant : mono - et diglycérides d’acides gras - extrait de sureau - conservateur : sorbate de potassium.Teneur en alcool : 1,0%.Traces d'œuf et blé.Les informations en gras sont destinées aux personnes intolérantes ou allergiques.. Produits laitiers, Desserts, Desserts lactés, Panna cottas, Panna cottas au coulis de fruits, Panna cottas à la framboise\""
      ]
     },
     "execution_count": 117,
     "metadata": {},
     "output_type": "execute_result"
    }
   ],
   "source": [
    "text.loc[text.sample(1).index[0]]"
   ]
  },
  {
   "cell_type": "code",
   "execution_count": 14,
   "metadata": {},
   "outputs": [
    {
     "name": "stdout",
     "output_type": "stream",
     "text": [
      "Converted 00_paths.ipynb.\n",
      "Converted 00_progress_check.ipynb.\n",
      "Converted 00_psql.ipynb.\n",
      "Converted 00_tools.ipynb.\n",
      "Converted 04_milvus.ipynb.\n",
      "Converted 06_clip.ipynb.\n",
      "Converted 0_template.ipynb.\n",
      "Converted bot.ipynb.\n",
      "Converted classfy_image.ipynb.\n",
      "Converted inference.ipynb.\n",
      "Converted milvus_update.ipynb.\n",
      "Converted openfoodfacts_json_parsing.ipynb.\n"
     ]
    }
   ],
   "source": [
    "!nbdev_build_lib"
   ]
  },
  {
   "cell_type": "code",
   "execution_count": null,
   "metadata": {},
   "outputs": [],
   "source": []
  }
 ],
 "metadata": {
  "interpreter": {
   "hash": "1e1ee659a212ecca49d6a1809275141ef7642c152d6286fb803a43d965656456"
  },
  "kernelspec": {
   "display_name": "re",
   "language": "python",
   "name": "python3"
  },
  "language_info": {
   "codemirror_mode": {
    "name": "ipython",
    "version": 3
   },
   "file_extension": ".py",
   "mimetype": "text/x-python",
   "name": "python",
   "nbconvert_exporter": "python",
   "pygments_lexer": "ipython3",
   "version": "3.9.7"
  }
 },
 "nbformat": 4,
 "nbformat_minor": 4
}
