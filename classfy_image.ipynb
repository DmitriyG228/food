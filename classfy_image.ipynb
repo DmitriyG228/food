{
 "cells": [
  {
   "cell_type": "code",
   "execution_count": 4,
   "metadata": {},
   "outputs": [],
   "source": [
    "%load_ext autoreload\n",
    "%autoreload 2"
   ]
  },
  {
   "cell_type": "code",
   "execution_count": 5,
   "metadata": {},
   "outputs": [],
   "source": [
    "#default_exp classify_image"
   ]
  },
  {
   "cell_type": "code",
   "execution_count": 6,
   "metadata": {},
   "outputs": [],
   "source": [
    "#export\n",
    "from food.tools import *\n",
    "from food.paths import *\n",
    "\n",
    "import pandas as pd\n",
    "import numpy as np\n",
    "from food.psql import *\n",
    "\n",
    "# !nbdev_build_lib\n",
    "import requests\n",
    "from food.clipmodel import image2clip\n",
    "from PIL import Image"
   ]
  },
  {
   "cell_type": "code",
   "execution_count": 7,
   "metadata": {},
   "outputs": [],
   "source": [
    "#export\n",
    "from food.milvus import collection\n",
    "collection.load()"
   ]
  },
  {
   "cell_type": "code",
   "execution_count": 8,
   "metadata": {},
   "outputs": [],
   "source": [
    "#export\n",
    "def search_by_clip(clip, topk=10, query_expr='',search_params = {'ef':10000}): #32768\n",
    "    search_params = {\"metric_type\": \"IP\",\n",
    "                     \"params\": search_params}\n",
    "\n",
    "    print(query_expr)\n",
    "    results = collection.search(clip[None,], \"clip\", search_params, limit=topk, expr=query_expr, output_fields=[\"id\"])\n",
    "    results = results[0]\n",
    "    return list(results.distances), results.ids\n",
    "\n",
    "def get_metadata(ids):\n",
    "    q = f\"\"\"select * from foods_big where id in {tuple(ids)}\"\"\"\n",
    "    return pd.read_sql(q,engine)"
   ]
  },
  {
   "cell_type": "code",
   "execution_count": 9,
   "metadata": {},
   "outputs": [],
   "source": [
    "#export\n",
    "def search_image(url=None,path=None):\n",
    "    if url:\n",
    "        response = requests.get(url, stream=True)\n",
    "        image = Image.open(response.raw)\n",
    "    elif path:\n",
    "        image = Image.open(path)\n",
    "    clip = image2clip(image)\n",
    "    results = search_by_clip(clip.numpy())\n",
    "    df = get_metadata(results[1])\n",
    "    df['score'] = results[0]\n",
    "    return df"
   ]
  },
  {
   "cell_type": "code",
   "execution_count": 10,
   "metadata": {},
   "outputs": [],
   "source": [
    "#export\n",
    "def get_calories(url=None,path=None):\n",
    "    r = search_image(url=url)\n",
    "    r = r[(r['energy_kcal_100g']>r['energy_kcal_100g'].quantile(0.3))&(r['energy_kcal_100g']<r['energy_kcal_100g'].quantile(0.9))]\n",
    "    rr = r[['energy_kcal_100g','proteins_100g','fat_100g','carbohydrates_100g']].mean().round(2)\n",
    "    rr['ids'] =  r['id'].tolist()\n",
    "    rr['scores'] =  r['score'].tolist()\n",
    "    rr['names']  =  r['product_name'].tolist()\n",
    "    return rr"
   ]
  },
  {
   "cell_type": "code",
   "execution_count": 11,
   "metadata": {},
   "outputs": [],
   "source": [
    "url = 'https://cdn.shopify.com/s/files/1/0943/7472/products/12540011_0_640x640_b3b5eedd-b502-4b22-8fb4-70c040c4798b_x700.jpg?v=1614184159'"
   ]
  },
  {
   "cell_type": "code",
   "execution_count": 12,
   "metadata": {},
   "outputs": [
    {
     "name": "stdout",
     "output_type": "stream",
     "text": [
      "\n"
     ]
    },
    {
     "data": {
      "text/html": [
       "<div>\n",
       "<style scoped>\n",
       "    .dataframe tbody tr th:only-of-type {\n",
       "        vertical-align: middle;\n",
       "    }\n",
       "\n",
       "    .dataframe tbody tr th {\n",
       "        vertical-align: top;\n",
       "    }\n",
       "\n",
       "    .dataframe thead th {\n",
       "        text-align: right;\n",
       "    }\n",
       "</style>\n",
       "<table border=\"1\" class=\"dataframe\">\n",
       "  <thead>\n",
       "    <tr style=\"text-align: right;\">\n",
       "      <th></th>\n",
       "      <th>id</th>\n",
       "      <th>product_name</th>\n",
       "      <th>keywords</th>\n",
       "      <th>ingredients_text</th>\n",
       "      <th>categories</th>\n",
       "      <th>food_groups</th>\n",
       "      <th>energy_kcal_100g</th>\n",
       "      <th>proteins_100g</th>\n",
       "      <th>fat_100g</th>\n",
       "      <th>carbohydrates_100g</th>\n",
       "      <th>clip</th>\n",
       "      <th>score</th>\n",
       "    </tr>\n",
       "  </thead>\n",
       "  <tbody>\n",
       "    <tr>\n",
       "      <th>0</th>\n",
       "      <td>35872</td>\n",
       "      <td>Lindt, excellence, black currant dark chocolat...</td>\n",
       "      <td>bar, confectionerie, snack, dark, sweet, curra...</td>\n",
       "      <td>Sugar, chocolate, black currant pieces (black ...</td>\n",
       "      <td>Snacks, Sweet snacks, Confectioneries, Chocola...</td>\n",
       "      <td>sweets</td>\n",
       "      <td>500.00</td>\n",
       "      <td>5.0</td>\n",
       "      <td>30.000</td>\n",
       "      <td>57.500</td>\n",
       "      <td>[0.013169993, 0.039979216, 0.051202036, 0.0358...</td>\n",
       "      <td>0.379934</td>\n",
       "    </tr>\n",
       "    <tr>\n",
       "      <th>1</th>\n",
       "      <td>227195</td>\n",
       "      <td>Lindt Excellence Dark Chocolate Bar - 70%</td>\n",
       "      <td>ariel, snack, it, excellence, fine, vegan, bar...</td>\n",
       "      <td>cocoa mass, sugar, cocoa butter, natural bourb...</td>\n",
       "      <td>Snacks, Sweet snacks, Cocoa and its products, ...</td>\n",
       "      <td>chocolate-products</td>\n",
       "      <td>566.00</td>\n",
       "      <td>9.5</td>\n",
       "      <td>41.000</td>\n",
       "      <td>34.000</td>\n",
       "      <td>[-0.0012109026, 0.03580227, 0.032108422, 0.031...</td>\n",
       "      <td>0.364851</td>\n",
       "    </tr>\n",
       "    <tr>\n",
       "      <th>2</th>\n",
       "      <td>227314</td>\n",
       "      <td>Lindt excellence 90% cacao</td>\n",
       "      <td>noir, tablette, vert, derive, point, cacao, su...</td>\n",
       "      <td>pâte de cacao, beurre de cacao, cacao maigre, ...</td>\n",
       "      <td>Snacks,Snacks sucrés,Cacao et dérivés,Chocolat...</td>\n",
       "      <td>chocolate-products</td>\n",
       "      <td>592.00</td>\n",
       "      <td>10.0</td>\n",
       "      <td>55.000</td>\n",
       "      <td>14.000</td>\n",
       "      <td>[0.0117876865, 0.039992243, 0.040229462, -0.01...</td>\n",
       "      <td>0.360589</td>\n",
       "    </tr>\n",
       "    <tr>\n",
       "      <th>3</th>\n",
       "      <td>546920</td>\n",
       "      <td>Lindt Excellence Mild 85% Probierpreis -23%</td>\n",
       "      <td>85, dark-chocolate, 23, probierprei, mild, exc...</td>\n",
       "      <td>Kakao: 85% mindestens Zutaten: Kakaomasse, Kak...</td>\n",
       "      <td>Snacks, Snacks sucrés, Cacao et dérivés, Choco...</td>\n",
       "      <td>chocolate-products</td>\n",
       "      <td>603.00</td>\n",
       "      <td>8.9</td>\n",
       "      <td>55.000</td>\n",
       "      <td>19.000</td>\n",
       "      <td>[0.00069913967, 0.027529106, 0.02723215, 0.004...</td>\n",
       "      <td>0.359219</td>\n",
       "    </tr>\n",
       "    <tr>\n",
       "      <th>4</th>\n",
       "      <td>670513</td>\n",
       "      <td>Lindt EXCELLENCE 95% cocoa</td>\n",
       "      <td>95, snack, excellence, lindt, dark, sweet, cho...</td>\n",
       "      <td>cocoa mass, cocoa butter, cocoa powder, sugar,...</td>\n",
       "      <td>Snacks, Sweet snacks, Cocoa and its products, ...</td>\n",
       "      <td>chocolate-products</td>\n",
       "      <td>620.00</td>\n",
       "      <td>12.5</td>\n",
       "      <td>56.875</td>\n",
       "      <td>9.375</td>\n",
       "      <td>[0.010039008, 0.040425982, 0.051311944, 0.0554...</td>\n",
       "      <td>0.352891</td>\n",
       "    </tr>\n",
       "    <tr>\n",
       "      <th>5</th>\n",
       "      <td>865481</td>\n",
       "      <td>Lindt 95% cacao bold dark chocolate</td>\n",
       "      <td>lindt, 95, chocolate, cacao, dark, bold</td>\n",
       "      <td>NaN</td>\n",
       "      <td>NaN</td>\n",
       "      <td>NaN</td>\n",
       "      <td>625.00</td>\n",
       "      <td>12.5</td>\n",
       "      <td>56.250</td>\n",
       "      <td>25.000</td>\n",
       "      <td>[0.01681229, 0.015542973, 0.042658202, -0.0022...</td>\n",
       "      <td>0.349986</td>\n",
       "    </tr>\n",
       "    <tr>\n",
       "      <th>6</th>\n",
       "      <td>2910991</td>\n",
       "      <td>Lindt excellence 70% cacao noir intense</td>\n",
       "      <td>noir, chocolate, 70, product, sweet, excellenc...</td>\n",
       "      <td></td>\n",
       "      <td>Snacks,Sweet snacks,Cocoa and its products,Cho...</td>\n",
       "      <td>chocolate-products</td>\n",
       "      <td>566.00</td>\n",
       "      <td>9.5</td>\n",
       "      <td>41.000</td>\n",
       "      <td>34.000</td>\n",
       "      <td>[0.012975434, 0.03518995, 0.027368044, 0.01126...</td>\n",
       "      <td>0.348653</td>\n",
       "    </tr>\n",
       "    <tr>\n",
       "      <th>7</th>\n",
       "      <td>3016997</td>\n",
       "      <td>Lindt excellence mint intense</td>\n",
       "      <td>excellence, intense, mint, dark-chocolate, spr...</td>\n",
       "      <td>Sugar, cocoa mass, cocoa butter, anhydrous mil...</td>\n",
       "      <td>en:dark-chocolates</td>\n",
       "      <td>chocolate-products</td>\n",
       "      <td>537.00</td>\n",
       "      <td>5.7</td>\n",
       "      <td>32.000</td>\n",
       "      <td>52.000</td>\n",
       "      <td>[-0.017321825, 0.05865552, 0.07431627, 0.06800...</td>\n",
       "      <td>0.347456</td>\n",
       "    </tr>\n",
       "    <tr>\n",
       "      <th>8</th>\n",
       "      <td>3087811</td>\n",
       "      <td>Шоколад Lindt Excellence 85% какао</td>\n",
       "      <td>85, excellence, шоколад, lindt, какао</td>\n",
       "      <td>NaN</td>\n",
       "      <td>NaN</td>\n",
       "      <td>NaN</td>\n",
       "      <td>550.34</td>\n",
       "      <td>11.0</td>\n",
       "      <td>46.000</td>\n",
       "      <td>19.000</td>\n",
       "      <td>[0.005217102, 0.055546798, 0.030605648, 0.0267...</td>\n",
       "      <td>0.346110</td>\n",
       "    </tr>\n",
       "    <tr>\n",
       "      <th>9</th>\n",
       "      <td>3177210</td>\n",
       "      <td>85% cacao RICH DARK</td>\n",
       "      <td>lindt, 85, dark, excellence, rich, cacao</td>\n",
       "      <td>NaN</td>\n",
       "      <td>NaN</td>\n",
       "      <td>NaN</td>\n",
       "      <td>584.00</td>\n",
       "      <td>12.5</td>\n",
       "      <td>46.000</td>\n",
       "      <td>22.000</td>\n",
       "      <td>[0.044333573, 0.010418254, 0.033181865, -0.006...</td>\n",
       "      <td>0.344328</td>\n",
       "    </tr>\n",
       "  </tbody>\n",
       "</table>\n",
       "</div>"
      ],
      "text/plain": [
       "        id                                       product_name  \\\n",
       "0    35872  Lindt, excellence, black currant dark chocolat...   \n",
       "1   227195          Lindt Excellence Dark Chocolate Bar - 70%   \n",
       "2   227314                         Lindt excellence 90% cacao   \n",
       "3   546920        Lindt Excellence Mild 85% Probierpreis -23%   \n",
       "4   670513                         Lindt EXCELLENCE 95% cocoa   \n",
       "5   865481                Lindt 95% cacao bold dark chocolate   \n",
       "6  2910991            Lindt excellence 70% cacao noir intense   \n",
       "7  3016997                      Lindt excellence mint intense   \n",
       "8  3087811                 Шоколад Lindt Excellence 85% какао   \n",
       "9  3177210                                85% cacao RICH DARK   \n",
       "\n",
       "                                            keywords  \\\n",
       "0  bar, confectionerie, snack, dark, sweet, curra...   \n",
       "1  ariel, snack, it, excellence, fine, vegan, bar...   \n",
       "2  noir, tablette, vert, derive, point, cacao, su...   \n",
       "3  85, dark-chocolate, 23, probierprei, mild, exc...   \n",
       "4  95, snack, excellence, lindt, dark, sweet, cho...   \n",
       "5            lindt, 95, chocolate, cacao, dark, bold   \n",
       "6  noir, chocolate, 70, product, sweet, excellenc...   \n",
       "7  excellence, intense, mint, dark-chocolate, spr...   \n",
       "8              85, excellence, шоколад, lindt, какао   \n",
       "9           lindt, 85, dark, excellence, rich, cacao   \n",
       "\n",
       "                                    ingredients_text  \\\n",
       "0  Sugar, chocolate, black currant pieces (black ...   \n",
       "1  cocoa mass, sugar, cocoa butter, natural bourb...   \n",
       "2  pâte de cacao, beurre de cacao, cacao maigre, ...   \n",
       "3  Kakao: 85% mindestens Zutaten: Kakaomasse, Kak...   \n",
       "4  cocoa mass, cocoa butter, cocoa powder, sugar,...   \n",
       "5                                                NaN   \n",
       "6                                                      \n",
       "7  Sugar, cocoa mass, cocoa butter, anhydrous mil...   \n",
       "8                                                NaN   \n",
       "9                                                NaN   \n",
       "\n",
       "                                          categories         food_groups  \\\n",
       "0  Snacks, Sweet snacks, Confectioneries, Chocola...              sweets   \n",
       "1  Snacks, Sweet snacks, Cocoa and its products, ...  chocolate-products   \n",
       "2  Snacks,Snacks sucrés,Cacao et dérivés,Chocolat...  chocolate-products   \n",
       "3  Snacks, Snacks sucrés, Cacao et dérivés, Choco...  chocolate-products   \n",
       "4  Snacks, Sweet snacks, Cocoa and its products, ...  chocolate-products   \n",
       "5                                                NaN                 NaN   \n",
       "6  Snacks,Sweet snacks,Cocoa and its products,Cho...  chocolate-products   \n",
       "7                                 en:dark-chocolates  chocolate-products   \n",
       "8                                                NaN                 NaN   \n",
       "9                                                NaN                 NaN   \n",
       "\n",
       "   energy_kcal_100g  proteins_100g  fat_100g  carbohydrates_100g  \\\n",
       "0            500.00            5.0    30.000              57.500   \n",
       "1            566.00            9.5    41.000              34.000   \n",
       "2            592.00           10.0    55.000              14.000   \n",
       "3            603.00            8.9    55.000              19.000   \n",
       "4            620.00           12.5    56.875               9.375   \n",
       "5            625.00           12.5    56.250              25.000   \n",
       "6            566.00            9.5    41.000              34.000   \n",
       "7            537.00            5.7    32.000              52.000   \n",
       "8            550.34           11.0    46.000              19.000   \n",
       "9            584.00           12.5    46.000              22.000   \n",
       "\n",
       "                                                clip     score  \n",
       "0  [0.013169993, 0.039979216, 0.051202036, 0.0358...  0.379934  \n",
       "1  [-0.0012109026, 0.03580227, 0.032108422, 0.031...  0.364851  \n",
       "2  [0.0117876865, 0.039992243, 0.040229462, -0.01...  0.360589  \n",
       "3  [0.00069913967, 0.027529106, 0.02723215, 0.004...  0.359219  \n",
       "4  [0.010039008, 0.040425982, 0.051311944, 0.0554...  0.352891  \n",
       "5  [0.01681229, 0.015542973, 0.042658202, -0.0022...  0.349986  \n",
       "6  [0.012975434, 0.03518995, 0.027368044, 0.01126...  0.348653  \n",
       "7  [-0.017321825, 0.05865552, 0.07431627, 0.06800...  0.347456  \n",
       "8  [0.005217102, 0.055546798, 0.030605648, 0.0267...  0.346110  \n",
       "9  [0.044333573, 0.010418254, 0.033181865, -0.006...  0.344328  "
      ]
     },
     "execution_count": 12,
     "metadata": {},
     "output_type": "execute_result"
    }
   ],
   "source": [
    "search_image(url)"
   ]
  },
  {
   "cell_type": "code",
   "execution_count": 13,
   "metadata": {},
   "outputs": [
    {
     "name": "stdout",
     "output_type": "stream",
     "text": [
      "\n"
     ]
    },
    {
     "data": {
      "text/plain": [
       "energy_kcal_100g                                                  588.5\n",
       "proteins_100g                                                     10.48\n",
       "fat_100g                                                          49.15\n",
       "carbohydrates_100g                                                22.06\n",
       "ids                   [227195, 227314, 546920, 670513, 2910991, 3177...\n",
       "scores                [0.3648509979248047, 0.36058855056762695, 0.35...\n",
       "names                 [Lindt Excellence Dark Chocolate Bar - 70%, Li...\n",
       "dtype: object"
      ]
     },
     "execution_count": 13,
     "metadata": {},
     "output_type": "execute_result"
    }
   ],
   "source": [
    "get_calories(url)"
   ]
  },
  {
   "cell_type": "code",
   "execution_count": 20,
   "metadata": {},
   "outputs": [
    {
     "data": {
      "text/html": [
       "<div>\n",
       "<style scoped>\n",
       "    .dataframe tbody tr th:only-of-type {\n",
       "        vertical-align: middle;\n",
       "    }\n",
       "\n",
       "    .dataframe tbody tr th {\n",
       "        vertical-align: top;\n",
       "    }\n",
       "\n",
       "    .dataframe thead th {\n",
       "        text-align: right;\n",
       "    }\n",
       "</style>\n",
       "<table border=\"1\" class=\"dataframe\">\n",
       "  <thead>\n",
       "    <tr style=\"text-align: right;\">\n",
       "      <th></th>\n",
       "      <th>count</th>\n",
       "    </tr>\n",
       "  </thead>\n",
       "  <tbody>\n",
       "    <tr>\n",
       "      <th>0</th>\n",
       "      <td>0</td>\n",
       "    </tr>\n",
       "  </tbody>\n",
       "</table>\n",
       "</div>"
      ],
      "text/plain": [
       "   count\n",
       "0      0"
      ]
     },
     "execution_count": 20,
     "metadata": {},
     "output_type": "execute_result"
    }
   ],
   "source": [
    "pd.read_sql(\"select count(*) from foods_big where energy_kcal_100g is null\",engine)"
   ]
  },
  {
   "cell_type": "code",
   "execution_count": null,
   "metadata": {},
   "outputs": [],
   "source": []
  },
  {
   "cell_type": "code",
   "execution_count": 118,
   "metadata": {},
   "outputs": [
    {
     "data": {
      "text/html": [
       "<div>\n",
       "<style scoped>\n",
       "    .dataframe tbody tr th:only-of-type {\n",
       "        vertical-align: middle;\n",
       "    }\n",
       "\n",
       "    .dataframe tbody tr th {\n",
       "        vertical-align: top;\n",
       "    }\n",
       "\n",
       "    .dataframe thead th {\n",
       "        text-align: right;\n",
       "    }\n",
       "</style>\n",
       "<table border=\"1\" class=\"dataframe\">\n",
       "  <thead>\n",
       "    <tr style=\"text-align: right;\">\n",
       "      <th></th>\n",
       "      <th>id</th>\n",
       "      <th>product_name</th>\n",
       "      <th>keywords</th>\n",
       "      <th>ingredients_text</th>\n",
       "      <th>categories</th>\n",
       "      <th>food_groups</th>\n",
       "      <th>energy_kcal_100g</th>\n",
       "      <th>proteins_100g</th>\n",
       "      <th>fat_100g</th>\n",
       "      <th>carbohydrates_100g</th>\n",
       "      <th>clip</th>\n",
       "    </tr>\n",
       "  </thead>\n",
       "  <tbody>\n",
       "  </tbody>\n",
       "</table>\n",
       "</div>"
      ],
      "text/plain": [
       "Empty DataFrame\n",
       "Columns: [id, product_name, keywords, ingredients_text, categories, food_groups, energy_kcal_100g, proteins_100g, fat_100g, carbohydrates_100g, clip]\n",
       "Index: []"
      ]
     },
     "execution_count": 118,
     "metadata": {},
     "output_type": "execute_result"
    }
   ],
   "source": [
    "pd.read_sql(\"select * from foods_big where clip is not null\",engine)"
   ]
  },
  {
   "cell_type": "code",
   "execution_count": 48,
   "metadata": {},
   "outputs": [],
   "source": [
    "df = pd.read_sql(\"select * from foods_big\",engine).set_index('id')"
   ]
  },
  {
   "cell_type": "code",
   "execution_count": null,
   "metadata": {},
   "outputs": [],
   "source": []
  },
  {
   "cell_type": "code",
   "execution_count": 103,
   "metadata": {},
   "outputs": [],
   "source": [
    "text = df[['product_name','keywords','ingredients_text','categories','food_groups']].fillna(\"\")\n",
    "for c in text.columns: text[c] = text[c].str.replace('NaN','')\n",
    "text = text['product_name']+ '. ' + text['food_groups']+ '. ' + text['keywords'] + '. ' + text['ingredients_text'] + '. '+ text['categories']"
   ]
  },
  {
   "cell_type": "code",
   "execution_count": 117,
   "metadata": {},
   "outputs": [
    {
     "data": {
      "text/plain": [
       "\"panna cotta fruits rouges. dairy-desserts. panna, de, au, produit, lacte, dessert, rouge, laitier, franprix, framboise, couli, la, fruit, cotta. Crème fraîche 31,7% - eau - sirop de glucose - framboises 10,4% - sucre - lait écrémé en poudre - huile de coco - alcool - amidon de tapioca - épaississants : carraghénanes, alginate de sodium - correcteur d’acidité : acide citrique - gélifiant : pectines - arômes naturels - émulsifiant : mono - et diglycérides d’acides gras - extrait de sureau - conservateur : sorbate de potassium.Teneur en alcool : 1,0%.Traces d'œuf et blé.Les informations en gras sont destinées aux personnes intolérantes ou allergiques.. Produits laitiers, Desserts, Desserts lactés, Panna cottas, Panna cottas au coulis de fruits, Panna cottas à la framboise\""
      ]
     },
     "execution_count": 117,
     "metadata": {},
     "output_type": "execute_result"
    }
   ],
   "source": [
    "text.loc[text.sample(1).index[0]]"
   ]
  },
  {
   "cell_type": "code",
   "execution_count": 14,
   "metadata": {},
   "outputs": [
    {
     "name": "stdout",
     "output_type": "stream",
     "text": [
      "Converted 00_paths.ipynb.\n",
      "Converted 00_progress_check.ipynb.\n",
      "Converted 00_psql.ipynb.\n",
      "Converted 00_tools.ipynb.\n",
      "Converted 04_milvus.ipynb.\n",
      "Converted 06_clip.ipynb.\n",
      "Converted 0_template.ipynb.\n",
      "Converted bot.ipynb.\n",
      "Converted classfy_image.ipynb.\n",
      "Converted inference.ipynb.\n",
      "Converted milvus_update.ipynb.\n",
      "Converted openfoodfacts_json_parsing.ipynb.\n"
     ]
    }
   ],
   "source": [
    "!nbdev_build_lib"
   ]
  },
  {
   "cell_type": "code",
   "execution_count": null,
   "metadata": {},
   "outputs": [],
   "source": []
  }
 ],
 "metadata": {
  "interpreter": {
   "hash": "1e1ee659a212ecca49d6a1809275141ef7642c152d6286fb803a43d965656456"
  },
  "kernelspec": {
   "display_name": "re",
   "language": "python",
   "name": "python3"
  },
  "language_info": {
   "codemirror_mode": {
    "name": "ipython",
    "version": 3
   },
   "file_extension": ".py",
   "mimetype": "text/x-python",
   "name": "python",
   "nbconvert_exporter": "python",
   "pygments_lexer": "ipython3",
   "version": "3.9.7"
  }
 },
 "nbformat": 4,
 "nbformat_minor": 4
}
