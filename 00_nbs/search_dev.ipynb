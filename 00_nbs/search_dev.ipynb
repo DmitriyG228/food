{
 "cells": [
  {
   "cell_type": "code",
   "execution_count": 1,
   "id": "b13eabd2-0a61-42ad-a46a-ed5840db41cd",
   "metadata": {},
   "outputs": [],
   "source": [
    "%load_ext autoreload\n",
    "%autoreload 2"
   ]
  },
  {
   "cell_type": "code",
   "execution_count": 2,
   "id": "a7cd1cde-0371-4eb0-8787-552d50403701",
   "metadata": {},
   "outputs": [
    {
     "name": "stdout",
     "output_type": "stream",
     "text": [
      "dev\n",
      "Since no pretrained weights have been provided, we load the reference pretrained DINO weights.\n"
     ]
    },
    {
     "name": "stderr",
     "output_type": "stream",
     "text": [
      "/home/dima/anaconda3/envs/f4/lib/python3.9/site-packages/torchmetrics/utilities/prints.py:36: UserWarning: Torchmetrics v0.9 introduced a new argument class property called `full_state_update` that has\n",
      "                not been set for this class (UnsupervisedMetrics). The property determines if `update` by\n",
      "                default needs access to the full metric state. If this is not the case, significant speedups can be\n",
      "                achieved and we recommend setting this to `False`.\n",
      "                We provide an checking function\n",
      "                `from torchmetrics.utilities import check_forward_no_full_state`\n",
      "                that can be used to check if the `full_state_update=True` (old and potential slower behaviour,\n",
      "                default for now) or if `full_state_update=False` can be used safely.\n",
      "                \n",
      "  warnings.warn(*args, **kwargs)\n"
     ]
    },
    {
     "name": "stdout",
     "output_type": "stream",
     "text": [
      "/home/dima/FoodSeg103-Benchmark-v1/checkpoints/SETR_Naive_ReLeM\n"
     ]
    },
    {
     "name": "stderr",
     "output_type": "stream",
     "text": [
      "/home/dima/FoodSeg103-Benchmark-v1/mmseg/models/builder.py:59: UserWarning: train_cfg and test_cfg is deprecated, please specify them in model\n",
      "  warnings.warn(\n"
     ]
    },
    {
     "name": "stdout",
     "output_type": "stream",
     "text": [
      "load pre-trained weight from imagenet21k\n"
     ]
    }
   ],
   "source": [
    "import sys\n",
    "sys.path.insert(0,'..')\n",
    "from mytools.tools import *\n",
    "from food.paths import *\n",
    "from food.psql import *\n",
    "import requests\n",
    "import torch\n",
    "import numpy as np\n",
    "import pandas as pd\n",
    "from PIL import Image, ImageFont, ImageDraw, ImageEnhance\n",
    "from food.paths import *\n",
    "from stego.segment import get_food_segment\n",
    "from segmentor.segment import *"
   ]
  },
  {
   "cell_type": "code",
   "execution_count": 3,
   "id": "5c62d36c-9479-4319-8bb1-c199df002db3",
   "metadata": {},
   "outputs": [],
   "source": [
    "from mytools.visual import *"
   ]
  },
  {
   "cell_type": "code",
   "execution_count": 4,
   "id": "1eaaeba7-f6c4-4a25-8485-add2c52c92f4",
   "metadata": {},
   "outputs": [
    {
     "name": "stderr",
     "output_type": "stream",
     "text": [
      "/home/dima/mytools/mytools/tools.py:27: UserWarning: Creating a tensor from a list of numpy.ndarrays is extremely slow. Please consider converting the list to a single numpy.ndarray with numpy.array() before converting to a tensor. (Triggered internally at  ../torch/csrc/utils/tensor_new.cpp:201.)\n",
      "  series2tensor = lambda series:torch.tensor([np.array(c) for c in series.values])\n"
     ]
    }
   ],
   "source": [
    "bad_cats = ['Vegetables on a sandwich']\n",
    "\n",
    "\n",
    "foods = pd.read_sql(\"\"\"select f.*\n",
    "                        from food.foods_prompted f\"\"\",engine)\n",
    "\n",
    "# foods = foods.drop(columns = ['clip'])\n",
    "foods = foods.set_index('id')\n",
    "foods = foods.dropna()\n",
    "\n",
    "foods = foods[~foods['category'].isin(bad_cats)]\n",
    "\n",
    "food_clips = series2tensor(foods['clip'])"
   ]
  },
  {
   "cell_type": "code",
   "execution_count": 5,
   "id": "c9a7194d-787c-4e71-9765-87d37bf77e8f",
   "metadata": {},
   "outputs": [],
   "source": [
    "url = 'https://image.shutterstock.com/z/stock-photo-rice-porridgeon-milk-with-butter-2137740367.jpg'\n",
    "img = get_image_from_url(url)\n",
    "img = crop_image_to_square(img)\n",
    "total_size = img.size[0]*img.size[1]\n",
    "\n",
    "photo_id = url.split('/')[-1]"
   ]
  },
  {
   "cell_type": "code",
   "execution_count": 6,
   "id": "6ec12a19-c430-493b-9c22-bc646d0d85b1",
   "metadata": {
    "tags": []
   },
   "outputs": [
    {
     "name": "stderr",
     "output_type": "stream",
     "text": [
      "/home/dima/anaconda3/envs/f4/lib/python3.9/site-packages/torch/nn/functional.py:3509: UserWarning: nn.functional.upsample is deprecated. Use nn.functional.interpolate instead.\n",
      "  warnings.warn(\"nn.functional.upsample is deprecated. Use nn.functional.interpolate instead.\")\n",
      "/home/dima/anaconda3/envs/f4/lib/python3.9/site-packages/torch/nn/functional.py:3679: UserWarning: The default behavior for interpolate/upsample with float scale_factor changed in 1.6.0 to align with other frameworks/libraries, and now uses scale_factor directly, instead of relying on the computed output size. If you wish to restore the old behavior, please set recompute_scale_factor=True. See the documentation of nn.Upsample for details. \n",
      "  warnings.warn(\n"
     ]
    }
   ],
   "source": [
    "i = np.asarray(img, dtype=\"uint8\")\n",
    "i = np.flip(i,2)\n",
    "\n",
    "segmentor_mask = inference_segmentor(segment_model, i)[0]\n",
    "\n",
    "classes = np.unique(segmentor_mask)[1:]\n",
    "classes_ =[]\n",
    "urls = []\n",
    "for c in classes:\n",
    "    area = segmentor_mask[segmentor_mask==c].shape[0]\n",
    "    if area> 20*20:\n",
    "        class_mask = np.where(segmentor_mask==c,1,0)\n",
    "        class_mask = expand_boundaries(class_mask,times=5,factor=5)\n",
    "        img_arr = apply_mask(img,class_mask.T).astype(np.uint8)\n",
    "        img_arr = crop_zeros(img_arr)\n",
    "        img_arr[img_arr==[0,0,0]]=255 #replace black with while\n",
    "        fname = f'{photo_id}_{c}.jpg'\n",
    "\n",
    "        Image.fromarray(img_arr).save(fragment_reference_images_path/fname)\n",
    "        urls.append(f'https://dima.grankin.eu/fragment_reference_images/{fname}')\n",
    "        classes_.append(c+1)\n",
    "\n",
    "classes = classes_"
   ]
  },
  {
   "cell_type": "markdown",
   "id": "c65e9ab4-60cf-4561-b65e-5e188f80696b",
   "metadata": {
    "tags": []
   },
   "source": [
    "### inference with stego"
   ]
  },
  {
   "cell_type": "code",
   "execution_count": 7,
   "id": "c50935e7-99d4-47ca-8708-7a2534a2e26c",
   "metadata": {},
   "outputs": [
    {
     "name": "stderr",
     "output_type": "stream",
     "text": [
      "/home/dima/anaconda3/envs/f4/lib/python3.9/site-packages/torchvision/transforms/transforms.py:287: UserWarning: Argument interpolation should be of type InterpolationMode instead of int. Please, use InterpolationMode enum.\n",
      "  warnings.warn(\n",
      "/home/dima/anaconda3/envs/f4/lib/python3.9/site-packages/torch/nn/functional.py:3631: UserWarning: Default upsampling behavior when mode=bicubic is changed to align_corners=False since 0.4.0. Please specify align_corners=True if the old behavior is desired. See the documentation of nn.Upsample for details.\n",
      "  warnings.warn(\n"
     ]
    }
   ],
   "source": [
    "stego_img,stego_mask = get_food_segment(img)\n",
    "stego_img.save(fragment_reference_images_path/f'{photo_id}_stego.jpg')\n",
    "urls.append(f'https://dima.grankin.eu/fragment_reference_images/{photo_id}_stego.jpg')\n",
    "    "
   ]
  },
  {
   "cell_type": "code",
   "execution_count": 8,
   "id": "61caa7bb-0141-4fbe-8a36-6eb47e8ea05a",
   "metadata": {
    "tags": []
   },
   "outputs": [
    {
     "name": "stderr",
     "output_type": "stream",
     "text": [
      "/tmp/ipykernel_3118188/1127422320.py:3: FutureWarning: The frame.append method is deprecated and will be removed from pandas in a future version. Use pandas.concat instead.\n",
      "  clip_df = clip_df.append(search_clip(u,foods,food_clips,head = 1)[1])\n",
      "/tmp/ipykernel_3118188/1127422320.py:3: FutureWarning: The frame.append method is deprecated and will be removed from pandas in a future version. Use pandas.concat instead.\n",
      "  clip_df = clip_df.append(search_clip(u,foods,food_clips,head = 1)[1])\n",
      "/tmp/ipykernel_3118188/1127422320.py:3: FutureWarning: The frame.append method is deprecated and will be removed from pandas in a future version. Use pandas.concat instead.\n",
      "  clip_df = clip_df.append(search_clip(u,foods,food_clips,head = 1)[1])\n"
     ]
    }
   ],
   "source": [
    "clip_df = pd.DataFrame()\n",
    "for u in urls:\n",
    "    clip_df = clip_df.append(search_clip(u,foods,food_clips,head = 1)[1])\n",
    "clip_df=clip_df.reset_index(drop=True)\n",
    "clip_df['classes'] = classes+[1]\n",
    "# clip_df = clip_df[:-1][clip_df[:-1]['score']>0.24].append(clip_df.iloc[-1])"
   ]
  },
  {
   "cell_type": "code",
   "execution_count": 9,
   "id": "d42680fd",
   "metadata": {},
   "outputs": [
    {
     "data": {
      "text/html": [
       "<div>\n",
       "<style scoped>\n",
       "    .dataframe tbody tr th:only-of-type {\n",
       "        vertical-align: middle;\n",
       "    }\n",
       "\n",
       "    .dataframe tbody tr th {\n",
       "        vertical-align: top;\n",
       "    }\n",
       "\n",
       "    .dataframe thead th {\n",
       "        text-align: right;\n",
       "    }\n",
       "</style>\n",
       "<table border=\"1\" class=\"dataframe\">\n",
       "  <thead>\n",
       "    <tr style=\"text-align: right;\">\n",
       "      <th></th>\n",
       "      <th>id</th>\n",
       "      <th>description</th>\n",
       "      <th>category</th>\n",
       "      <th>energy</th>\n",
       "      <th>protein</th>\n",
       "      <th>carb</th>\n",
       "      <th>fat</th>\n",
       "      <th>text</th>\n",
       "      <th>clip</th>\n",
       "      <th>score</th>\n",
       "      <th>classes</th>\n",
       "    </tr>\n",
       "  </thead>\n",
       "  <tbody>\n",
       "    <tr>\n",
       "      <th>0</th>\n",
       "      <td>1103833</td>\n",
       "      <td>Margarine-oil blend, tub, light</td>\n",
       "      <td>Margarine</td>\n",
       "      <td>346.0</td>\n",
       "      <td>0.33</td>\n",
       "      <td>1.22</td>\n",
       "      <td>37.91</td>\n",
       "      <td>the food is margarine . it has a little bit of...</td>\n",
       "      <td>[0.009067799, -0.00876648, -0.008507334, 0.015...</td>\n",
       "      <td>0.256926</td>\n",
       "      <td>9</td>\n",
       "    </tr>\n",
       "    <tr>\n",
       "      <th>1</th>\n",
       "      <td>1102548</td>\n",
       "      <td>Rice soup, NFS</td>\n",
       "      <td>Soups</td>\n",
       "      <td>34.0</td>\n",
       "      <td>0.92</td>\n",
       "      <td>5.80</td>\n",
       "      <td>0.78</td>\n",
       "      <td>the food is soups . it has a little bit of   n...</td>\n",
       "      <td>[0.033272248, -0.013115205, 0.010876191, -0.00...</td>\n",
       "      <td>0.277195</td>\n",
       "      <td>16</td>\n",
       "    </tr>\n",
       "    <tr>\n",
       "      <th>2</th>\n",
       "      <td>1102517</td>\n",
       "      <td>Upma, Indian breakfast dish</td>\n",
       "      <td>Grits and other cooked cereals</td>\n",
       "      <td>86.0</td>\n",
       "      <td>1.98</td>\n",
       "      <td>13.81</td>\n",
       "      <td>2.64</td>\n",
       "      <td>the food is grits and other cooked cereals . i...</td>\n",
       "      <td>[-0.0018043444, -0.031428985, -0.018850923, 0....</td>\n",
       "      <td>0.271844</td>\n",
       "      <td>1</td>\n",
       "    </tr>\n",
       "  </tbody>\n",
       "</table>\n",
       "</div>"
      ],
      "text/plain": [
       "        id                      description                        category  \\\n",
       "0  1103833  Margarine-oil blend, tub, light                       Margarine   \n",
       "1  1102548                   Rice soup, NFS                           Soups   \n",
       "2  1102517      Upma, Indian breakfast dish  Grits and other cooked cereals   \n",
       "\n",
       "   energy  protein   carb    fat  \\\n",
       "0   346.0     0.33   1.22  37.91   \n",
       "1    34.0     0.92   5.80   0.78   \n",
       "2    86.0     1.98  13.81   2.64   \n",
       "\n",
       "                                                text  \\\n",
       "0  the food is margarine . it has a little bit of...   \n",
       "1  the food is soups . it has a little bit of   n...   \n",
       "2  the food is grits and other cooked cereals . i...   \n",
       "\n",
       "                                                clip     score  classes  \n",
       "0  [0.009067799, -0.00876648, -0.008507334, 0.015...  0.256926        9  \n",
       "1  [0.033272248, -0.013115205, 0.010876191, -0.00...  0.277195       16  \n",
       "2  [-0.0018043444, -0.031428985, -0.018850923, 0....  0.271844        1  "
      ]
     },
     "execution_count": 9,
     "metadata": {},
     "output_type": "execute_result"
    }
   ],
   "source": [
    "clip_df"
   ]
  },
  {
   "cell_type": "code",
   "execution_count": 10,
   "id": "333a6430-da21-4a5e-9dd0-b2207d418b55",
   "metadata": {},
   "outputs": [],
   "source": [
    "mask = stego_mask+segmentor_mask"
   ]
  },
  {
   "cell_type": "code",
   "execution_count": 11,
   "id": "66dea375-b8b4-4cd5-bed5-d90dbb9fda0b",
   "metadata": {},
   "outputs": [],
   "source": [
    "calories_dict = clip_df[['classes','energy']].set_index(\"classes\")['energy'].to_dict()\n",
    "for c in np.unique(mask):\n",
    "    if c not in calories_dict.keys():\n",
    "        mask[mask==c]=0\n",
    "for k,v in calories_dict.items():\n",
    "    mask[mask == k] = v"
   ]
  },
  {
   "cell_type": "code",
   "execution_count": 12,
   "id": "b6ff101b",
   "metadata": {},
   "outputs": [
    {
     "data": {
      "text/plain": [
       "tensor(90.6102, dtype=torch.float64)"
      ]
     },
     "execution_count": 12,
     "metadata": {},
     "output_type": "execute_result"
    }
   ],
   "source": [
    "mask[mask!=0].mean()"
   ]
  },
  {
   "cell_type": "code",
   "execution_count": 13,
   "id": "066f4027-f326-4a2a-8857-90fadd1c02bb",
   "metadata": {
    "tags": []
   },
   "outputs": [
    {
     "name": "stderr",
     "output_type": "stream",
     "text": [
      "/home/dima/anaconda3/envs/f4/lib/python3.9/site-packages/torch/nn/functional.py:3509: UserWarning: nn.functional.upsample is deprecated. Use nn.functional.interpolate instead.\n",
      "  warnings.warn(\"nn.functional.upsample is deprecated. Use nn.functional.interpolate instead.\")\n"
     ]
    },
    {
     "data": {
      "image/png": "[encoded data removed]",
      "text/plain": [
       "<Figure size 432x288 with 2 Axes>"
      ]
     },
     "metadata": {
      "needs_background": "light"
     },
     "output_type": "display_data"
    }
   ],
   "source": [
    "i = visualize_array(mask.numpy(),img).resize((500,500))"
   ]
  },
  {
   "cell_type": "code",
   "execution_count": null,
   "id": "e296be7e-b2e2-45e2-b5fd-ab9a0824d728",
   "metadata": {},
   "outputs": [],
   "source": []
  }
 ],
 "metadata": {
  "kernelspec": {
   "display_name": "f4",
   "language": "python",
   "name": "f4"
  },
  "language_info": {
   "codemirror_mode": {
    "name": "ipython",
    "version": 3
   },
   "file_extension": ".py",
   "mimetype": "text/x-python",
   "name": "python",
   "nbconvert_exporter": "python",
   "pygments_lexer": "ipython3",
   "version": "3.9.13"
  }
 },
 "nbformat": 4,
 "nbformat_minor": 5
}
