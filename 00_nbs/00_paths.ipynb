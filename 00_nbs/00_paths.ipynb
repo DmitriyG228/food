{
 "cells": [
  {
   "cell_type": "code",
   "execution_count": 2,
   "metadata": {},
   "outputs": [],
   "source": [
    "#| default_exp paths"
   ]
  },
  {
   "cell_type": "code",
   "execution_count": 3,
   "metadata": {},
   "outputs": [],
   "source": [
    "#| export\n",
    "from pathlib import Path\n",
    "import os"
   ]
  },
  {
   "cell_type": "code",
   "execution_count": 4,
   "metadata": {},
   "outputs": [],
   "source": [
    "#| export\n",
    "\n",
    "branch = 'dev'\n",
    "bot_token = '5203882708:AAG3G_Y2oZSr-rMG2zoffDVtj3d0KkOFSts'   if branch == 'prod' else \"5091011572:AAG4NfkC_zZjcsaAFkwLm4ZXOvhEqyLpQhY\"\n",
    "\n",
    "domain = 'https://dima.skynet.center'\n"
   ]
  },
  {
   "cell_type": "code",
   "execution_count": 5,
   "metadata": {},
   "outputs": [],
   "source": [
    "#| export\n",
    "from mytools.paths import *\n",
    "from mytools.tools import *\n",
    "\n",
    "from segmentor.paths import checkpoints_path"
   ]
  },
  {
   "cell_type": "code",
   "execution_count": 6,
   "metadata": {},
   "outputs": [],
   "source": [
    "#| export\n",
    "local_data_path = data_path/'food_dev'\n",
    "docker_v_path = local_data_path/'docker_psql'\n",
    "psql_backup_path = local_data_path/'psql_backup'\n",
    "\n",
    "\n",
    "checkpoints_path = checkpoints_path\n",
    "\n",
    "\n",
    "\n",
    "reference_images_path           = local_data_path/'reference_images'\n",
    "fragment_reference_images_path  = local_data_path/'fragment_reference_images'\n",
    "\n",
    "test_path                       =datasets_path/'mnogolasosya'"
   ]
  },
  {
   "cell_type": "code",
   "execution_count": 7,
   "metadata": {},
   "outputs": [
    {
     "data": {
      "text/plain": [
       "PosixPath('/home/dima/new/data/food_dev/reference_images')"
      ]
     },
     "execution_count": 7,
     "metadata": {},
     "output_type": "execute_result"
    }
   ],
   "source": [
    "reference_images_path"
   ]
  },
  {
   "cell_type": "code",
   "execution_count": null,
   "metadata": {},
   "outputs": [],
   "source": []
  },
  {
   "cell_type": "code",
   "execution_count": 14,
   "metadata": {},
   "outputs": [
    {
     "data": {
      "text/plain": [
       "[PosixPath('/home/dima/new/data/datasets/mnogolasosya/test_photos'),\n",
       " PosixPath('/home/dima/new/data/datasets/mnogolasosya/test_set.csv')]"
      ]
     },
     "execution_count": 14,
     "metadata": {},
     "output_type": "execute_result"
    }
   ],
   "source": [
    "test_path.ls()"
   ]
  },
  {
   "cell_type": "code",
   "execution_count": 10,
   "metadata": {},
   "outputs": [
    {
     "data": {
      "text/plain": [
       "PosixPath('/home/dima/new/data/food_dev/reference_images')"
      ]
     },
     "execution_count": 10,
     "metadata": {},
     "output_type": "execute_result"
    }
   ],
   "source": [
    "reference_images_path"
   ]
  },
  {
   "cell_type": "code",
   "execution_count": 16,
   "metadata": {},
   "outputs": [
    {
     "data": {
      "text/plain": [
       "[PosixPath('/home/dima/new/data/food_dev/fragment_reference_images/AgACAgIAAxkBAAIL7mLxJX58-2XMtZOBGyaHGUj9uEl6AALKvjEbfXeISzH4QNnAbm31AQADAgADeQADKQQ_20.jpg'),\n",
       " PosixPath('/home/dima/new/data/food_dev/fragment_reference_images/AgACAgIAAxkBAAIL7mLxJX58-2XMtZOBGyaHGUj9uEl6AALKvjEbfXeISzH4QNnAbm31AQADAgADeQADKQQ_16.jpg'),\n",
       " PosixPath('/home/dima/new/data/food_dev/fragment_reference_images/AgACAgIAAxkBAAIL7mLxJX58-2XMtZOBGyaHGUj9uEl6AALKvjEbfXeISzH4QNnAbm31AQADAgADeQADKQQ_85.jpg'),\n",
       " PosixPath('/home/dima/new/data/food_dev/fragment_reference_images/AgACAgIAAxkBAAIL7mLxJX58-2XMtZOBGyaHGUj9uEl6AALKvjEbfXeISzH4QNnAbm31AQADAgADeQADKQQ_79.jpg'),\n",
       " PosixPath('/home/dima/new/data/food_dev/fragment_reference_images/AgACAgIAAxkBAAIL7mLxJX58-2XMtZOBGyaHGUj9uEl6AALKvjEbfXeISzH4QNnAbm31AQADAgADeQADKQQ_92.jpg'),\n",
       " PosixPath('/home/dima/new/data/food_dev/fragment_reference_images/AgACAgIAAxkBAAIL7mLxJX58-2XMtZOBGyaHGUj9uEl6AALKvjEbfXeISzH4QNnAbm31AQADAgADeQADKQQ_18.jpg'),\n",
       " PosixPath('/home/dima/new/data/food_dev/fragment_reference_images/AgACAgIAAxkBAAIL7mLxJX58-2XMtZOBGyaHGUj9uEl6AALKvjEbfXeISzH4QNnAbm31AQADAgADeQADKQQ_102.jpg'),\n",
       " PosixPath('/home/dima/new/data/food_dev/fragment_reference_images/AgACAgIAAxkBAAIL7mLxJX58-2XMtZOBGyaHGUj9uEl6AALKvjEbfXeISzH4QNnAbm31AQADAgADeQADKQQ_81.jpg')]"
      ]
     },
     "execution_count": 16,
     "metadata": {},
     "output_type": "execute_result"
    }
   ],
   "source": [
    "fragment_reference_images_path.ls()"
   ]
  },
  {
   "cell_type": "code",
   "execution_count": null,
   "metadata": {},
   "outputs": [],
   "source": []
  },
  {
   "cell_type": "code",
   "execution_count": null,
   "metadata": {},
   "outputs": [],
   "source": [
    "/home/dima/new/data/food_dev/"
   ]
  },
  {
   "cell_type": "code",
   "execution_count": 18,
   "metadata": {},
   "outputs": [],
   "source": [
    "reference_images_path.mkdir(exist_ok=True)\n",
    "fragment_reference_images_path.mkdir(exist_ok=True)"
   ]
  },
  {
   "cell_type": "code",
   "execution_count": 17,
   "metadata": {},
   "outputs": [],
   "source": [
    "!nbdev_export"
   ]
  },
  {
   "cell_type": "code",
   "execution_count": null,
   "metadata": {},
   "outputs": [],
   "source": []
  },
  {
   "cell_type": "code",
   "execution_count": 12,
   "metadata": {},
   "outputs": [
    {
     "data": {
      "text/plain": [
       "[PosixPath('/home/dima/ssd/food/fragment_reference_images/stock-photo-fresh-tasty-burger-isolated-on-white-background-705104968.jpg_0.jpg')]"
      ]
     },
     "execution_count": 12,
     "metadata": {},
     "output_type": "execute_result"
    }
   ],
   "source": [
    "fragment_reference_images_path.ls()"
   ]
  },
  {
   "cell_type": "code",
   "execution_count": null,
   "metadata": {},
   "outputs": [],
   "source": []
  }
 ],
 "metadata": {
  "interpreter": {
   "hash": "1e1ee659a212ecca49d6a1809275141ef7642c152d6286fb803a43d965656456"
  },
  "kernelspec": {
   "display_name": "f1",
   "language": "python",
   "name": "f1"
  },
  "language_info": {
   "codemirror_mode": {
    "name": "ipython",
    "version": 3
   },
   "file_extension": ".py",
   "mimetype": "text/x-python",
   "name": "python",
   "nbconvert_exporter": "python",
   "pygments_lexer": "ipython3",
   "version": "3.9.12"
  }
 },
 "nbformat": 4,
 "nbformat_minor": 4
}
