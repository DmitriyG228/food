{
 "cells": [
  {
   "cell_type": "code",
   "execution_count": 1,
   "id": "b66567b4-19bc-4601-9335-f31dd39d2542",
   "metadata": {},
   "outputs": [],
   "source": [
    "import sys\n",
    "sys.path.insert(0,'..')"
   ]
  },
  {
   "cell_type": "code",
   "execution_count": 2,
   "id": "22b737cb-c381-4c24-992c-19f94132a55b",
   "metadata": {},
   "outputs": [
    {
     "name": "stdout",
     "output_type": "stream",
     "text": [
      "dev\n"
     ]
    }
   ],
   "source": [
    "from food.psql import *\n",
    "from mytools.tools import get_logger\n",
    "logger = get_logger(engine,'bot_logs','food')\n",
    "logger.debug({'msg':'starting bot'})\n",
    "from aiogram import Bot, Dispatcher, executor, types\n",
    "from aiogram.types import ContentType\n",
    "from aiogram.dispatcher.filters.state import State, StatesGroup\n",
    "from aiogram.types.message import ContentTypes\n",
    "from aiogram.dispatcher import FSMContext\n",
    "from aiogram.contrib.fsm_storage.memory import MemoryStorage\n",
    "from sqlalchemy import update\n",
    "from aiogram.dispatcher.filters.state import State, StatesGroup\n",
    "from aiogram.utils.callback_data import CallbackData\n",
    "import typing\n",
    "import numpy as np\n",
    "import io\n",
    "\n",
    "\n",
    "from food.paths import *\n",
    "\n",
    "\n",
    "API_TOKEN = bot_token\n",
    "\n",
    "from food.paths import *\n",
    "#from food.search import *\n",
    "import pandas as  pd\n",
    "import pytz\n",
    "timezones = pytz.all_timezones\n",
    "import requests\n",
    "from requests.structures import CaseInsensitiveDict\n",
    "import urllib\n",
    "from tzwhere import tzwhere\n",
    "\n",
    "import nest_asyncio\n",
    "nest_asyncio.apply()\n"
   ]
  },
  {
   "cell_type": "code",
   "execution_count": 3,
   "id": "ecd78ec5-9a9a-4119-b592-9ae63346774e",
   "metadata": {},
   "outputs": [
    {
     "name": "stdout",
     "output_type": "stream",
     "text": [
      "Since no pretrained weights have been provided, we load the reference pretrained DINO weights.\n"
     ]
    },
    {
     "name": "stderr",
     "output_type": "stream",
     "text": [
      "/home/dima/anaconda3/envs/f4/lib/python3.9/site-packages/torchmetrics/utilities/prints.py:36: UserWarning: Torchmetrics v0.9 introduced a new argument class property called `full_state_update` that has\n",
      "                not been set for this class (UnsupervisedMetrics). The property determines if `update` by\n",
      "                default needs access to the full metric state. If this is not the case, significant speedups can be\n",
      "                achieved and we recommend setting this to `False`.\n",
      "                We provide an checking function\n",
      "                `from torchmetrics.utilities import check_forward_no_full_state`\n",
      "                that can be used to check if the `full_state_update=True` (old and potential slower behaviour,\n",
      "                default for now) or if `full_state_update=False` can be used safely.\n",
      "                \n",
      "  warnings.warn(*args, **kwargs)\n"
     ]
    },
    {
     "name": "stdout",
     "output_type": "stream",
     "text": [
      "/home/dima/FoodSeg103-Benchmark-v1/checkpoints/SETR_Naive_ReLeM\n"
     ]
    },
    {
     "name": "stderr",
     "output_type": "stream",
     "text": [
      "/home/dima/FoodSeg103-Benchmark-v1/mmseg/models/builder.py:59: UserWarning: train_cfg and test_cfg is deprecated, please specify them in model\n",
      "  warnings.warn(\n"
     ]
    },
    {
     "name": "stdout",
     "output_type": "stream",
     "text": [
      "load pre-trained weight from imagenet21k\n"
     ]
    },
    {
     "name": "stderr",
     "output_type": "stream",
     "text": [
      "/home/dima/mytools/mytools/visual.py:24: UserWarning: Creating a tensor from a list of numpy.ndarrays is extremely slow. Please consider converting the list to a single numpy.ndarray with numpy.array() before converting to a tensor. (Triggered internally at  ../torch/csrc/utils/tensor_new.cpp:201.)\n",
      "  series2tensor = lambda series:torch.tensor([np.array(c) for c in series.values])\n"
     ]
    }
   ],
   "source": [
    "\n",
    "from food.search import *\n",
    "from mytools.psql import *"
   ]
  },
  {
   "cell_type": "code",
   "execution_count": 4,
   "id": "7547fd2e-e5e9-40e2-8f0c-6454333003ca",
   "metadata": {},
   "outputs": [],
   "source": [
    "async def  async_insert_on_conflict(*args, **qwargs):\n",
    "    return insert_on_conflict(*args, **qwargs)"
   ]
  },
  {
   "cell_type": "code",
   "execution_count": 5,
   "id": "7ae1d9bb-7291-44f3-ad78-5c8dc1d50528",
   "metadata": {},
   "outputs": [],
   "source": [
    "async def add_sender(message):\n",
    "    logger.debug({'func':'add_sender','id_key':'user_id','id_value':message['from']['id'],'msg':'add_sender'})\n",
    "    sender = message['from'].to_python()\n",
    "    sender = pd.DataFrame(sender,index=[0]).drop(columns =['is_bot'])\n",
    "    await async_insert_on_conflict(sender,'users',unique_cols=['id'],engine = engine)"
   ]
  },
  {
   "cell_type": "code",
   "execution_count": 6,
   "id": "65badfc3-3f7e-4895-902e-3f84afcf8e02",
   "metadata": {},
   "outputs": [],
   "source": [
    "def plot_nutrition(masks):\n",
    "    attributes = ['energy','protein','carb','fat']\n",
    "    nutrition ={}\n",
    "    for m,a in zip(masks,attributes): nutrition[a] = float(m[m!=0].mean())\n",
    "    return pd.DataFrame(nutrition,index = ['']).fillna(0).astype(int).to_string()"
   ]
  },
  {
   "cell_type": "code",
   "execution_count": 7,
   "id": "2607047b-76bf-4982-b3a2-7db9bf9df478",
   "metadata": {},
   "outputs": [],
   "source": [
    "def image2file_obj(img):\n",
    "    o = io.BytesIO()\n",
    "    f = img.format if img.format else 'jpeg'\n",
    "    img.save(o, format=f)\n",
    "    return o.getvalue()"
   ]
  },
  {
   "cell_type": "code",
   "execution_count": 8,
   "id": "4a042e2d-0bb8-48ba-a448-99e1f871064d",
   "metadata": {},
   "outputs": [],
   "source": [
    "async def async_image2file_obj(img):\n",
    "    return image2file_obj(img)\n",
    "\n",
    "async def async_search(url):\n",
    "    return search(url)\n",
    "\n",
    "async def async_visualize_array(*args,**kwargs):\n",
    "    return visualize_array(*args,**kwargs)"
   ]
  },
  {
   "cell_type": "code",
   "execution_count": 23,
   "id": "84c1810d-777b-4f12-93f5-86a8d5cf4bd8",
   "metadata": {},
   "outputs": [],
   "source": [
    "bot = Bot(token=API_TOKEN)\n",
    "storage = MemoryStorage()\n",
    "dp = Dispatcher(bot, storage=storage)"
   ]
  },
  {
   "cell_type": "code",
   "execution_count": 24,
   "id": "ecc41be3-0d97-4a34-81d7-8843ae3fbe3e",
   "metadata": {},
   "outputs": [],
   "source": [
    "dishes_table = Dishes.__table__\n",
    "\n",
    "add_dish_cb     = CallbackData('add to food log', 'action')\n",
    "remove_cb       = CallbackData('remove from food log', 'action')"
   ]
  },
  {
   "cell_type": "code",
   "execution_count": 25,
   "id": "f6734b0e-048d-4ae6-b020-b8f684f06f5b",
   "metadata": {},
   "outputs": [],
   "source": [
    "def attribute_score(cals,values,scores):\n",
    "    arrays = []\n",
    "    for n in range(len(values)-1):\n",
    "        arrays.append(np.stack([np.linspace(values[n],values[n+1]),np.flip(np.linspace(scores[n+1],scores[n]))]))\n",
    "        formula = np.concatenate(arrays,axis=1)\n",
    "        c = formula[0][formula[0] <cals][-1]\n",
    "\n",
    "    return formula[1][formula[0]==c].astype(np.int32)[0]"
   ]
  },
  {
   "cell_type": "code",
   "execution_count": 26,
   "id": "1becb44c-098b-4390-906c-8d699fd4b48d",
   "metadata": {},
   "outputs": [],
   "source": [
    "def get_food_score(cals,protein):\n",
    "    return attribute_score(cals   ,calore_scores[0],calore_scores[1]),attribute_score(protein,protein_scores[0],protein_scores[1])"
   ]
  },
  {
   "cell_type": "code",
   "execution_count": 27,
   "id": "45539968-0992-47aa-9808-5ac6de5e0aec",
   "metadata": {},
   "outputs": [],
   "source": [
    "protein_scores = ([0,10,20,35],\n",
    "                  [0,80,100,80])\n",
    "calore_scores  = ([0,  80, 100,150,200,300,400],\n",
    "                  [100,100, 90,70 ,60 ,50 ,30])"
   ]
  },
  {
   "cell_type": "code",
   "execution_count": 28,
   "id": "b4d9e031-c746-43cc-9d85-7f11b54e59bf",
   "metadata": {
    "tags": []
   },
   "outputs": [],
   "source": [
    "def get_keyboard(t, unit = None):\n",
    "    markup = types.InlineKeyboardMarkup()\n",
    "    if t == 'add to food log' :  \n",
    "        markup.add(types.InlineKeyboardButton('add to food log', callback_data=add_dish_cb.new(action='add_dish')))\n",
    "         \n",
    "\n",
    "    elif t == 'remove from food log':\n",
    "\n",
    "        btns_text = ('remove from food log',)\n",
    "        markup.add(types.InlineKeyboardButton('remove from food log', callback_data=remove_cb.new(action='remove')))\n",
    "        \n",
    "        \n",
    "        # markup.add(*(types.InlineKeyboardButton(text, callback_data=remove_cb.new(action=text)) for text in btns_text))\n",
    "\n",
    "    return markup "
   ]
  },
  {
   "cell_type": "code",
   "execution_count": 29,
   "id": "04f95193-57d2-44e1-b333-8af5d894f02f",
   "metadata": {},
   "outputs": [],
   "source": [
    "@dp.message_handler(commands=['start'])\n",
    "async def start_command(message: types.Message):\n",
    "    global m \n",
    "    m = message\n",
    "    logger.debug({'func':'start_command','id_key':'user_id','id_value':message['from']['id'],'msg':'start_command'})\n",
    "    await add_sender(message)\n",
    "\n",
    "    await message.reply(\"\"\" Take <b>food pictures</b> to improve your diet.\\n \n",
    "\n",
    "No  more calorie counting, food weight measurement, manual food logging. <b>A single picture per dish is the only thing you need to do</b> .\\n\n",
    "Your photos are returned back to you colorised as a heat map. Just choose more of coloured in green  next time and less of colorer in  red.\\n\n",
    "Get your <b>nutrition score</b> updated with every meal, try to keep it high.\\n\n",
    "<b>Calorie density</b> is a scientific approach that allows to <b>eat till satisfaction while still cutting back on calories</b>. That idea is implemented <b>with the power of AI</b> to be as easy to follow as taking pictures.\\n\n",
    "\n",
    "\n",
    "<b>how it gain great results:</b>\\n\n",
    "- take photos of all the foods <b>from the same distance</b> and with the same focus distance each time\\n\n",
    "- <b>use flash</b>\\n\n",
    "\n",
    "Now <b>take a picture of your next dish</b> with the bot!\"\"\",parse_mode = 'HTML')"
   ]
  },
  {
   "cell_type": "code",
   "execution_count": 30,
   "id": "c19d9955-e683-4445-9bf0-166d684b3bfb",
   "metadata": {},
   "outputs": [],
   "source": [
    "# Take <b>pictures of your food</b> to know how healthy it is with the power of <b>AI</b>.\\n\\\n",
    "    \n",
    "#     Get your <b>nutrition score</b> updated every time you take a meal.\\n \\\n",
    "#     Keep high food score to stay fit and healthy.\\n<b>Take a picture of your next dish with the bot!</b>"
   ]
  },
  {
   "cell_type": "code",
   "execution_count": 31,
   "id": "220cad28-8e94-4dcb-8fb4-5621d52c8239",
   "metadata": {},
   "outputs": [],
   "source": [
    "@dp.message_handler(content_types=ContentType.PHOTO,state='*')\n",
    "async def process_photo(message: types.Message, state: FSMContext):\n",
    "    logger.debug({'func':'process_photo','id_key':'user_id','id_value':message['from']['id'],'msg':'process_photo started'})\n",
    "    \n",
    "    processing_reply = await message.reply(\"\"\"\\xa0 your picture is being processed ...\"\"\",\n",
    "                           parse_mode = 'HTML')\n",
    "    \n",
    "    await types.ChatActions.upload_photo()\n",
    "    photo  = message['photo'][-1]\n",
    "    await photo.download(reference_images_path/photo['file_id'])\n",
    "    \n",
    "    # image_url    = await photo.get_url()\n",
    "    image_url      = f'https://dima.grankin.eu/reference_images/{photo[\"file_id\"]}'\n",
    "    \n",
    "    img,clip_df,masks,urls,stats = await async_search(image_url)\n",
    "    \n",
    "    print('after search')\n",
    "\n",
    "    dish = clip_df[['id','score','area']]\n",
    "    dish['photo_id']         = photo['file_id']\n",
    "    dish['photo_message_id'] = message['message_id']\n",
    "    sender = message['from'].to_python()\n",
    "    dish['user_id'] = sender['id']\n",
    "    dish['ml_version'] = 0.4 \n",
    "    dish['timestamp']=pd.Timestamp.utcnow()\n",
    "    dish = dish.rename(columns = {\"id\":'food_id'})\n",
    "    \n",
    "    output = '; '.join(clip_df['description'].tolist())\n",
    "\n",
    "    print('downloaded')\n",
    "\n",
    "    img_o = await async_image2file_obj(img)\n",
    "    \n",
    "    await processing_reply.delete()\n",
    "    reply = await message.reply_photo(img_o,caption=f'<i>per 100 gram</i>:\\n{plot_nutrition(masks)} \\n\\n{output}', reply_markup=get_keyboard('add to food log'),parse_mode = 'HTML')\n",
    "    dish['message_id'] = reply['message_id']\n",
    "    \n",
    "    dish.to_sql('dishes',con=engine,if_exists='append',index = False,schema = 'food')\n",
    "    \n",
    "    logger.debug({'func':'process_photo','id_key':'user_id','id_value':message['from']['id'],'msg':'process_photo finished'})\n",
    "    \n",
    "    "
   ]
  },
  {
   "cell_type": "code",
   "execution_count": 32,
   "id": "1e58770c-f5a0-496f-83e1-1b2f18e3eec2",
   "metadata": {},
   "outputs": [],
   "source": [
    "async def get_today_consumed(user_id):\n",
    "\n",
    "    today_consumed = pd.read_sql( f\"\"\"select f.energy, f.protein, d.area,d.timestamp\n",
    "                           from food.foods f\n",
    "                           join food.dishes d on (f.id = d.food_id)\n",
    "                           where d.user_id = {user_id} and \n",
    "                                 d.timestamp > now() - interval '24 hours' and\n",
    "                                 d.added is true\"\"\" ,engine).set_index(\"timestamp\")\n",
    "\n",
    "    \n",
    "    area = today_consumed['area'].sum()\n",
    "    if area>0:\n",
    "        cals = np.average(today_consumed['energy'],weights=today_consumed['area'])\n",
    "        prts = np.average(today_consumed['protein'],weights=today_consumed['area'])\n",
    "        cals_score, prts_score =  get_food_score(cals,prts)\n",
    "        food_score = int((cals_score*2+prts_score)/3)\n",
    "\n",
    "\n",
    "        return int(food_score),int(cals),int(prts),area\n",
    "    \n",
    "    else: return None,None,None,0"
   ]
  },
  {
   "cell_type": "code",
   "execution_count": 33,
   "id": "3c406640-e6d1-4887-9c34-f57c6c74f162",
   "metadata": {},
   "outputs": [],
   "source": [
    "async def add_remove(query,add):\n",
    "    \n",
    "    msg = query.to_python()['message']['caption']\n",
    "    msg = msg.split('\\xa0')[0] if '\\xa0' in msg else msg\n",
    "    \n",
    "    stmt = (\n",
    "        dishes_table.update()\n",
    "                    .where(dishes_table.c.message_id == query['message']['message_id'])\n",
    "                    .values(added=add)\n",
    "                    .returning(dishes_table.c.id)\n",
    "        )\n",
    "    session.execute(stmt)\n",
    "    session.commit()\n",
    "    \n",
    "    user_id = query['from']['id']\n",
    "    \n",
    "    food_score,cals,prts,area = await get_today_consumed(user_id)\n",
    "    \n",
    "    if add:\n",
    "        if area>300000: \n",
    "            msg = f\"{msg}\\n\\n\\xa0your <b>nutrition score</b> for the last 24 hours is <b>{food_score}</b>\"\n",
    "        else:\n",
    "            msg = f\"{msg}\\n\\n\\xa0keep adding your dishes to get your food score\"\n",
    "            \n",
    "        \n",
    "    keyboard = 'remove from food log' if add else 'add to food log' \n",
    "\n",
    "    await bot.edit_message_caption(query.from_user.id,\n",
    "                                    query.message.message_id,\n",
    "                                    caption = msg,\n",
    "                                    reply_markup=get_keyboard(keyboard),\n",
    "                                    parse_mode = 'HTML')\n",
    "    "
   ]
  },
  {
   "cell_type": "code",
   "execution_count": 34,
   "id": "ab9d2645-5b53-4854-a2ec-31e697394565",
   "metadata": {},
   "outputs": [],
   "source": [
    "#add_dish pushed\n",
    "@dp.callback_query_handler(add_dish_cb.filter(action=['add_dish']))\n",
    "async def add_dish(query: types.CallbackQuery, callback_data: typing.Dict[str, str]):\n",
    "    logger.debug({'func':'add_dish','id_key':'user_id','id_value':query['from']['id'],'msg':'add_dish'})\n",
    "    \n",
    "    await add_remove(query,True)"
   ]
  },
  {
   "cell_type": "code",
   "execution_count": 35,
   "id": "dabd7641-30e2-4897-b499-0b83604f8a3d",
   "metadata": {},
   "outputs": [],
   "source": [
    "#remove_dish pushed\n",
    "@dp.callback_query_handler(remove_cb.filter(action=['remove']))\n",
    "async def remove_dish(query: types.CallbackQuery, callback_data: typing.Dict[str, str]):\n",
    "    logger.debug({'func':'remove_dish','id_key':'user_id','id_value':query['from']['id'],'msg':'remove_dish'})\n",
    "    \n",
    "    await add_remove(query,False)"
   ]
  },
  {
   "cell_type": "code",
   "execution_count": null,
   "id": "22f1ab84-9b82-4e2d-9674-ba3ca836e8c1",
   "metadata": {
    "tags": []
   },
   "outputs": [
    {
     "name": "stderr",
     "output_type": "stream",
     "text": [
      "Polling is stopped.\n"
     ]
    }
   ],
   "source": [
    "if __name__ == '__main__': executor.start_polling(dp)"
   ]
  },
  {
   "cell_type": "code",
   "execution_count": 57,
   "id": "8780a3e7-9ac9-4a9b-892f-20b40456a79c",
   "metadata": {},
   "outputs": [],
   "source": [
    "message = m"
   ]
  },
  {
   "cell_type": "code",
   "execution_count": null,
   "id": "decb2aa0-4dd7-4b3c-8ea0-f21865cf35db",
   "metadata": {},
   "outputs": [],
   "source": []
  }
 ],
 "metadata": {
  "kernelspec": {
   "display_name": "f4",
   "language": "python",
   "name": "f4"
  },
  "language_info": {
   "codemirror_mode": {
    "name": "ipython",
    "version": 3
   },
   "file_extension": ".py",
   "mimetype": "text/x-python",
   "name": "python",
   "nbconvert_exporter": "python",
   "pygments_lexer": "ipython3",
   "version": "3.9.13"
  }
 },
 "nbformat": 4,
 "nbformat_minor": 5
}
