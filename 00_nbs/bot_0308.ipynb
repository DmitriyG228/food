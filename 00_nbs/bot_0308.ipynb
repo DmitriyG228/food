{
 "cells": [
  {
   "cell_type": "code",
   "execution_count": 1,
   "id": "b66567b4-19bc-4601-9335-f31dd39d2542",
   "metadata": {},
   "outputs": [],
   "source": [
    "import sys\n",
    "sys.path.insert(0,'..')"
   ]
  },
  {
   "cell_type": "code",
   "execution_count": 2,
   "id": "22b737cb-c381-4c24-992c-19f94132a55b",
   "metadata": {},
   "outputs": [],
   "source": [
    "#from food.psql import *\n",
    "from mytools.tools import get_logger\n",
    "# logger = get_logger(engine,'bot_logs','food')\n",
    "# logger.debug({'msg':'starting bot'})\n",
    "from aiogram import Bot, Dispatcher, executor, types\n",
    "from aiogram.types import ContentType\n",
    "from aiogram.dispatcher.filters.state import State, StatesGroup\n",
    "from aiogram.types.message import ContentTypes\n",
    "from aiogram.dispatcher import FSMContext\n",
    "from aiogram.contrib.fsm_storage.memory import MemoryStorage\n",
    "from sqlalchemy import update\n",
    "from aiogram.dispatcher.filters.state import State, StatesGroup\n",
    "from aiogram.utils.callback_data import CallbackData\n",
    "import typing\n",
    "import numpy as np\n",
    "import io\n",
    "\n",
    "\n",
    "from food.paths import *\n",
    "\n",
    "\n",
    "API_TOKEN = bot_token\n",
    "\n",
    "from food.paths import *\n",
    "#from food.search import *\n",
    "import pandas as  pd\n",
    "import pytz\n",
    "timezones = pytz.all_timezones\n",
    "import requests\n",
    "from requests.structures import CaseInsensitiveDict\n",
    "import urllib\n",
    "from tzwhere import tzwhere\n",
    "\n",
    "import nest_asyncio\n",
    "nest_asyncio.apply()\n"
   ]
  },
  {
   "cell_type": "code",
   "execution_count": 3,
   "id": "00cb38b3-3452-42c5-a86f-096a3b4bd72f",
   "metadata": {},
   "outputs": [
    {
     "name": "stdout",
     "output_type": "stream",
     "text": [
      "dev\n",
      "Since no pretrained weights have been provided, we load the reference pretrained DINO weights.\n"
     ]
    },
    {
     "name": "stderr",
     "output_type": "stream",
     "text": [
      "/home/dima/anaconda3/envs/f4/lib/python3.9/site-packages/torchmetrics/utilities/prints.py:36: UserWarning: Torchmetrics v0.9 introduced a new argument class property called `full_state_update` that has\n",
      "                not been set for this class (UnsupervisedMetrics). The property determines if `update` by\n",
      "                default needs access to the full metric state. If this is not the case, significant speedups can be\n",
      "                achieved and we recommend setting this to `False`.\n",
      "                We provide an checking function\n",
      "                `from torchmetrics.utilities import check_forward_no_full_state`\n",
      "                that can be used to check if the `full_state_update=True` (old and potential slower behaviour,\n",
      "                default for now) or if `full_state_update=False` can be used safely.\n",
      "                \n",
      "  warnings.warn(*args, **kwargs)\n"
     ]
    },
    {
     "name": "stdout",
     "output_type": "stream",
     "text": [
      "/home/dima/FoodSeg103-Benchmark-v1/checkpoints/SETR_Naive_ReLeM\n"
     ]
    },
    {
     "name": "stderr",
     "output_type": "stream",
     "text": [
      "/home/dima/FoodSeg103-Benchmark-v1/mmseg/models/builder.py:59: UserWarning: train_cfg and test_cfg is deprecated, please specify them in model\n",
      "  warnings.warn(\n"
     ]
    },
    {
     "name": "stdout",
     "output_type": "stream",
     "text": [
      "load pre-trained weight from imagenet21k\n"
     ]
    },
    {
     "name": "stderr",
     "output_type": "stream",
     "text": [
      "/home/dima/mytools/mytools/visual.py:24: UserWarning: Creating a tensor from a list of numpy.ndarrays is extremely slow. Please consider converting the list to a single numpy.ndarray with numpy.array() before converting to a tensor. (Triggered internally at  ../torch/csrc/utils/tensor_new.cpp:201.)\n",
      "  series2tensor = lambda series:torch.tensor([np.array(c) for c in series.values])\n"
     ]
    }
   ],
   "source": [
    "from food.psql import *\n",
    "\n",
    "from food.search import *"
   ]
  },
  {
   "cell_type": "code",
   "execution_count": 4,
   "id": "65badfc3-3f7e-4895-902e-3f84afcf8e02",
   "metadata": {},
   "outputs": [],
   "source": [
    "def plot_nutrition(masks):\n",
    "    attributes = ['energy','protein','carb','fat']\n",
    "    nutrition ={}\n",
    "    for m,a in zip(masks,attributes): nutrition[a] = int(m[m!=0].mean())\n",
    "    return pd.DataFrame(nutrition,index = ['']).to_string()"
   ]
  },
  {
   "cell_type": "code",
   "execution_count": 5,
   "id": "2607047b-76bf-4982-b3a2-7db9bf9df478",
   "metadata": {},
   "outputs": [],
   "source": [
    "def image2file_obj(img):\n",
    "    o = io.BytesIO()\n",
    "    f = img.format if img.format else 'jpeg'\n",
    "    img.save(o, format=f)\n",
    "    return o.getvalue()"
   ]
  },
  {
   "cell_type": "code",
   "execution_count": 6,
   "id": "4a042e2d-0bb8-48ba-a448-99e1f871064d",
   "metadata": {},
   "outputs": [],
   "source": [
    "async def async_image2file_obj(img):\n",
    "    return image2file_obj(img)\n",
    "\n",
    "async def async_search(url):\n",
    "    return search(url)\n",
    "\n",
    "async def async_visualize_array(*args,**kwargs):\n",
    "    return visualize_array(*args,**kwargs)"
   ]
  },
  {
   "cell_type": "code",
   "execution_count": 7,
   "id": "84c1810d-777b-4f12-93f5-86a8d5cf4bd8",
   "metadata": {},
   "outputs": [],
   "source": [
    "bot = Bot(token=API_TOKEN)\n",
    "storage = MemoryStorage()\n",
    "dp = Dispatcher(bot, storage=storage)"
   ]
  },
  {
   "cell_type": "code",
   "execution_count": 8,
   "id": "ecc41be3-0d97-4a34-81d7-8843ae3fbe3e",
   "metadata": {},
   "outputs": [],
   "source": [
    "dishes_table = Dishes.__table__\n",
    "\n",
    "add_dish_cb     = CallbackData('add dish', 'action')\n",
    "edit_dish_cb    = CallbackData('edit_dish', 'action')"
   ]
  },
  {
   "cell_type": "code",
   "execution_count": 13,
   "id": "b4d9e031-c746-43cc-9d85-7f11b54e59bf",
   "metadata": {},
   "outputs": [
    {
     "name": "stderr",
     "output_type": "stream",
     "text": [
      "Cause exception while getting updates.\n",
      "Traceback (most recent call last):\n",
      "  File \"/home/dima/anaconda3/envs/f4/lib/python3.9/site-packages/aiogram/bot/api.py\", line 139, in make_request\n",
      "    async with session.post(url, data=req, **kwargs) as response:\n",
      "  File \"/home/dima/anaconda3/envs/f4/lib/python3.9/site-packages/aiohttp/client.py\", line 1138, in __aenter__\n",
      "    self._resp = await self._coro\n",
      "  File \"/home/dima/anaconda3/envs/f4/lib/python3.9/site-packages/aiohttp/client.py\", line 559, in _request\n",
      "    await resp.start(conn)\n",
      "  File \"/home/dima/anaconda3/envs/f4/lib/python3.9/site-packages/aiohttp/client_reqrep.py\", line 898, in start\n",
      "    message, payload = await protocol.read()  # type: ignore[union-attr]\n",
      "  File \"/home/dima/anaconda3/envs/f4/lib/python3.9/site-packages/aiohttp/streams.py\", line 616, in read\n",
      "    await self._waiter\n",
      "  File \"/home/dima/anaconda3/envs/f4/lib/python3.9/asyncio/futures.py\", line 284, in __await__\n",
      "    yield self  # This tells Task to wait for completion.\n",
      "  File \"/home/dima/anaconda3/envs/f4/lib/python3.9/asyncio/tasks.py\", line 328, in __wakeup\n",
      "    future.result()\n",
      "  File \"/home/dima/anaconda3/envs/f4/lib/python3.9/asyncio/futures.py\", line 201, in result\n",
      "    raise self._exception\n",
      "aiohttp.client_exceptions.ClientOSError: [Errno 1] [SSL: APPLICATION_DATA_AFTER_CLOSE_NOTIFY] application data after close notify (_ssl.c:2756)\n",
      "\n",
      "During handling of the above exception, another exception occurred:\n",
      "\n",
      "Traceback (most recent call last):\n",
      "  File \"/home/dima/anaconda3/envs/f4/lib/python3.9/site-packages/aiogram/dispatcher/dispatcher.py\", line 381, in start_polling\n",
      "    updates = await self.bot.get_updates(\n",
      "  File \"/home/dima/anaconda3/envs/f4/lib/python3.9/site-packages/aiogram/bot/bot.py\", line 110, in get_updates\n",
      "    result = await self.request(api.Methods.GET_UPDATES, payload)\n",
      "  File \"/home/dima/anaconda3/envs/f4/lib/python3.9/site-packages/aiogram/bot/base.py\", line 231, in request\n",
      "    return await api.make_request(await self.get_session(), self.server, self.__token, method, data, files,\n",
      "  File \"/home/dima/anaconda3/envs/f4/lib/python3.9/site-packages/aiogram/bot/api.py\", line 142, in make_request\n",
      "    raise exceptions.NetworkError(f\"aiohttp client throws an error: {e.__class__.__name__}: {e}\")\n",
      "aiogram.utils.exceptions.NetworkError: Aiohttp client throws an error: ClientOSError: [Errno 1] [SSL: APPLICATION_DATA_AFTER_CLOSE_NOTIFY] application data after close notify (_ssl.c:2756)\n"
     ]
    }
   ],
   "source": [
    "def get_keyboard(t, unit = None):\n",
    "    markup = types.InlineKeyboardMarkup()\n",
    "    if t == 'add dish' :  \n",
    "        markup.add(types.InlineKeyboardButton('add dish', callback_data=add_dish_cb.new(action='add_dish')))\n",
    "         \n",
    "\n",
    "    elif t == 'edit_dish':\n",
    "\n",
    "        btns_text = ('remove',)\n",
    "        markup.add(*(types.InlineKeyboardButton(text, callback_data=edit_dish_cb.new(action=text)) for text in btns_text))\n",
    "\n",
    "    return markup "
   ]
  },
  {
   "cell_type": "code",
   "execution_count": 10,
   "id": "220cad28-8e94-4dcb-8fb4-5621d52c8239",
   "metadata": {},
   "outputs": [],
   "source": [
    "@dp.message_handler(content_types=ContentType.PHOTO,state='*')\n",
    "async def process_photo(message: types.Message, state: FSMContext):\n",
    "\n",
    "    \n",
    "    await types.ChatActions.upload_photo()\n",
    "    photo  = message['photo'][-1]\n",
    "    await photo.download(reference_images_path/photo['file_id'])\n",
    "    # image_url    = await photo.get_url()\n",
    "    image_url      = f'https://dima.grankin.eu/reference_images/{photo[\"file_id\"]}'\n",
    "    \n",
    "    img,clip_df,masks,urls,stats = await async_search(image_url)\n",
    "    \n",
    "\n",
    "    img_o = await async_image2file_obj(img)\n",
    "    await message.reply_photo(img_o,caption=f'{plot_nutrition(masks)} \\n', reply_markup=get_keyboard('add dish'))"
   ]
  },
  {
   "cell_type": "code",
   "execution_count": 11,
   "id": "9cbb543d-448a-4751-ac1f-85a5a2da0d82",
   "metadata": {},
   "outputs": [],
   "source": [
    "#add_dish pushed\n",
    "@dp.callback_query_handler(add_dish_cb.filter(action=['add_dish']))\n",
    "async def add_dish(query: types.CallbackQuery, callback_data: typing.Dict[str, str]):\n",
    "    \n",
    "    # calc food score\n",
    "\n",
    "    msg = query.to_python()['message']['caption']\n",
    "    msg = msg.split('\\xa0')[0] if '\\xa0' in msg else msg\n",
    "    # msg = f\"{msg}\\n \\xa0 some other appendix\"\n",
    "\n",
    "\n",
    "    await bot.edit_message_caption(query.from_user.id,\n",
    "                                    query.message.message_id,\n",
    "                                    caption = msg,\n",
    "                                    reply_markup=get_keyboard('edit_dish'))"
   ]
  },
  {
   "cell_type": "code",
   "execution_count": null,
   "id": "22f1ab84-9b82-4e2d-9674-ba3ca836e8c1",
   "metadata": {
    "tags": []
   },
   "outputs": [
    {
     "name": "stderr",
     "output_type": "stream",
     "text": [
      "Cause exception while getting updates.\n",
      "Traceback (most recent call last):\n",
      "  File \"/home/dima/anaconda3/envs/f4/lib/python3.9/site-packages/aiogram/dispatcher/dispatcher.py\", line 381, in start_polling\n",
      "    updates = await self.bot.get_updates(\n",
      "  File \"/home/dima/anaconda3/envs/f4/lib/python3.9/site-packages/aiogram/bot/bot.py\", line 110, in get_updates\n",
      "    result = await self.request(api.Methods.GET_UPDATES, payload)\n",
      "  File \"/home/dima/anaconda3/envs/f4/lib/python3.9/site-packages/aiogram/bot/base.py\", line 231, in request\n",
      "    return await api.make_request(await self.get_session(), self.server, self.__token, method, data, files,\n",
      "  File \"/home/dima/anaconda3/envs/f4/lib/python3.9/site-packages/aiogram/bot/api.py\", line 140, in make_request\n",
      "    return check_result(method, response.content_type, response.status, await response.text())\n",
      "  File \"/home/dima/anaconda3/envs/f4/lib/python3.9/site-packages/aiogram/bot/api.py\", line 119, in check_result\n",
      "    exceptions.ConflictError.detect(description)\n",
      "  File \"/home/dima/anaconda3/envs/f4/lib/python3.9/site-packages/aiogram/utils/exceptions.py\", line 140, in detect\n",
      "    raise err(cls.text or description)\n",
      "aiogram.utils.exceptions.TerminatedByOtherGetUpdates: Terminated by other getupdates request; make sure that only one bot instance is running\n",
      "Cause exception while getting updates.\n",
      "Traceback (most recent call last):\n",
      "  File \"/home/dima/anaconda3/envs/f4/lib/python3.9/site-packages/aiogram/dispatcher/dispatcher.py\", line 381, in start_polling\n",
      "    updates = await self.bot.get_updates(\n",
      "  File \"/home/dima/anaconda3/envs/f4/lib/python3.9/site-packages/aiogram/bot/bot.py\", line 110, in get_updates\n",
      "    result = await self.request(api.Methods.GET_UPDATES, payload)\n",
      "  File \"/home/dima/anaconda3/envs/f4/lib/python3.9/site-packages/aiogram/bot/base.py\", line 231, in request\n",
      "    return await api.make_request(await self.get_session(), self.server, self.__token, method, data, files,\n",
      "  File \"/home/dima/anaconda3/envs/f4/lib/python3.9/site-packages/aiogram/bot/api.py\", line 140, in make_request\n",
      "    return check_result(method, response.content_type, response.status, await response.text())\n",
      "  File \"/home/dima/anaconda3/envs/f4/lib/python3.9/site-packages/aiogram/bot/api.py\", line 119, in check_result\n",
      "    exceptions.ConflictError.detect(description)\n",
      "  File \"/home/dima/anaconda3/envs/f4/lib/python3.9/site-packages/aiogram/utils/exceptions.py\", line 140, in detect\n",
      "    raise err(cls.text or description)\n",
      "aiogram.utils.exceptions.TerminatedByOtherGetUpdates: Terminated by other getupdates request; make sure that only one bot instance is running\n",
      "Cause exception while getting updates.\n",
      "Traceback (most recent call last):\n",
      "  File \"/home/dima/anaconda3/envs/f4/lib/python3.9/site-packages/aiogram/dispatcher/dispatcher.py\", line 381, in start_polling\n",
      "    updates = await self.bot.get_updates(\n",
      "  File \"/home/dima/anaconda3/envs/f4/lib/python3.9/site-packages/aiogram/bot/bot.py\", line 110, in get_updates\n",
      "    result = await self.request(api.Methods.GET_UPDATES, payload)\n",
      "  File \"/home/dima/anaconda3/envs/f4/lib/python3.9/site-packages/aiogram/bot/base.py\", line 231, in request\n",
      "    return await api.make_request(await self.get_session(), self.server, self.__token, method, data, files,\n",
      "  File \"/home/dima/anaconda3/envs/f4/lib/python3.9/site-packages/aiogram/bot/api.py\", line 140, in make_request\n",
      "    return check_result(method, response.content_type, response.status, await response.text())\n",
      "  File \"/home/dima/anaconda3/envs/f4/lib/python3.9/site-packages/aiogram/bot/api.py\", line 119, in check_result\n",
      "    exceptions.ConflictError.detect(description)\n",
      "  File \"/home/dima/anaconda3/envs/f4/lib/python3.9/site-packages/aiogram/utils/exceptions.py\", line 140, in detect\n",
      "    raise err(cls.text or description)\n",
      "aiogram.utils.exceptions.TerminatedByOtherGetUpdates: Terminated by other getupdates request; make sure that only one bot instance is running\n",
      "Cause exception while getting updates.\n",
      "Traceback (most recent call last):\n",
      "  File \"/home/dima/anaconda3/envs/f4/lib/python3.9/site-packages/aiogram/dispatcher/dispatcher.py\", line 381, in start_polling\n",
      "    updates = await self.bot.get_updates(\n",
      "  File \"/home/dima/anaconda3/envs/f4/lib/python3.9/site-packages/aiogram/bot/bot.py\", line 110, in get_updates\n",
      "    result = await self.request(api.Methods.GET_UPDATES, payload)\n",
      "  File \"/home/dima/anaconda3/envs/f4/lib/python3.9/site-packages/aiogram/bot/base.py\", line 231, in request\n",
      "    return await api.make_request(await self.get_session(), self.server, self.__token, method, data, files,\n",
      "  File \"/home/dima/anaconda3/envs/f4/lib/python3.9/site-packages/aiogram/bot/api.py\", line 140, in make_request\n",
      "    return check_result(method, response.content_type, response.status, await response.text())\n",
      "  File \"/home/dima/anaconda3/envs/f4/lib/python3.9/site-packages/aiogram/bot/api.py\", line 119, in check_result\n",
      "    exceptions.ConflictError.detect(description)\n",
      "  File \"/home/dima/anaconda3/envs/f4/lib/python3.9/site-packages/aiogram/utils/exceptions.py\", line 140, in detect\n",
      "    raise err(cls.text or description)\n",
      "aiogram.utils.exceptions.TerminatedByOtherGetUpdates: Terminated by other getupdates request; make sure that only one bot instance is running\n",
      "Cause exception while getting updates.\n",
      "Traceback (most recent call last):\n",
      "  File \"/home/dima/anaconda3/envs/f4/lib/python3.9/site-packages/aiogram/dispatcher/dispatcher.py\", line 381, in start_polling\n",
      "    updates = await self.bot.get_updates(\n",
      "  File \"/home/dima/anaconda3/envs/f4/lib/python3.9/site-packages/aiogram/bot/bot.py\", line 110, in get_updates\n",
      "    result = await self.request(api.Methods.GET_UPDATES, payload)\n",
      "  File \"/home/dima/anaconda3/envs/f4/lib/python3.9/site-packages/aiogram/bot/base.py\", line 231, in request\n",
      "    return await api.make_request(await self.get_session(), self.server, self.__token, method, data, files,\n",
      "  File \"/home/dima/anaconda3/envs/f4/lib/python3.9/site-packages/aiogram/bot/api.py\", line 140, in make_request\n",
      "    return check_result(method, response.content_type, response.status, await response.text())\n",
      "  File \"/home/dima/anaconda3/envs/f4/lib/python3.9/site-packages/aiogram/bot/api.py\", line 119, in check_result\n",
      "    exceptions.ConflictError.detect(description)\n",
      "  File \"/home/dima/anaconda3/envs/f4/lib/python3.9/site-packages/aiogram/utils/exceptions.py\", line 140, in detect\n",
      "    raise err(cls.text or description)\n",
      "aiogram.utils.exceptions.TerminatedByOtherGetUpdates: Terminated by other getupdates request; make sure that only one bot instance is running\n",
      "Cause exception while getting updates.\n",
      "Traceback (most recent call last):\n",
      "  File \"/home/dima/anaconda3/envs/f4/lib/python3.9/site-packages/aiogram/dispatcher/dispatcher.py\", line 381, in start_polling\n",
      "    updates = await self.bot.get_updates(\n",
      "  File \"/home/dima/anaconda3/envs/f4/lib/python3.9/site-packages/aiogram/bot/bot.py\", line 110, in get_updates\n",
      "    result = await self.request(api.Methods.GET_UPDATES, payload)\n",
      "  File \"/home/dima/anaconda3/envs/f4/lib/python3.9/site-packages/aiogram/bot/base.py\", line 231, in request\n",
      "    return await api.make_request(await self.get_session(), self.server, self.__token, method, data, files,\n",
      "  File \"/home/dima/anaconda3/envs/f4/lib/python3.9/site-packages/aiogram/bot/api.py\", line 140, in make_request\n",
      "    return check_result(method, response.content_type, response.status, await response.text())\n",
      "  File \"/home/dima/anaconda3/envs/f4/lib/python3.9/site-packages/aiogram/bot/api.py\", line 119, in check_result\n",
      "    exceptions.ConflictError.detect(description)\n",
      "  File \"/home/dima/anaconda3/envs/f4/lib/python3.9/site-packages/aiogram/utils/exceptions.py\", line 140, in detect\n",
      "    raise err(cls.text or description)\n",
      "aiogram.utils.exceptions.TerminatedByOtherGetUpdates: Terminated by other getupdates request; make sure that only one bot instance is running\n",
      "Cause exception while getting updates.\n",
      "Traceback (most recent call last):\n",
      "  File \"/home/dima/anaconda3/envs/f4/lib/python3.9/site-packages/aiogram/dispatcher/dispatcher.py\", line 381, in start_polling\n",
      "    updates = await self.bot.get_updates(\n",
      "  File \"/home/dima/anaconda3/envs/f4/lib/python3.9/site-packages/aiogram/bot/bot.py\", line 110, in get_updates\n",
      "    result = await self.request(api.Methods.GET_UPDATES, payload)\n",
      "  File \"/home/dima/anaconda3/envs/f4/lib/python3.9/site-packages/aiogram/bot/base.py\", line 231, in request\n",
      "    return await api.make_request(await self.get_session(), self.server, self.__token, method, data, files,\n",
      "  File \"/home/dima/anaconda3/envs/f4/lib/python3.9/site-packages/aiogram/bot/api.py\", line 140, in make_request\n",
      "    return check_result(method, response.content_type, response.status, await response.text())\n",
      "  File \"/home/dima/anaconda3/envs/f4/lib/python3.9/site-packages/aiogram/bot/api.py\", line 119, in check_result\n",
      "    exceptions.ConflictError.detect(description)\n",
      "  File \"/home/dima/anaconda3/envs/f4/lib/python3.9/site-packages/aiogram/utils/exceptions.py\", line 140, in detect\n",
      "    raise err(cls.text or description)\n",
      "aiogram.utils.exceptions.TerminatedByOtherGetUpdates: Terminated by other getupdates request; make sure that only one bot instance is running\n",
      "Cause exception while getting updates.\n",
      "Traceback (most recent call last):\n",
      "  File \"/home/dima/anaconda3/envs/f4/lib/python3.9/site-packages/aiogram/dispatcher/dispatcher.py\", line 381, in start_polling\n",
      "    updates = await self.bot.get_updates(\n",
      "  File \"/home/dima/anaconda3/envs/f4/lib/python3.9/site-packages/aiogram/bot/bot.py\", line 110, in get_updates\n",
      "    result = await self.request(api.Methods.GET_UPDATES, payload)\n",
      "  File \"/home/dima/anaconda3/envs/f4/lib/python3.9/site-packages/aiogram/bot/base.py\", line 231, in request\n",
      "    return await api.make_request(await self.get_session(), self.server, self.__token, method, data, files,\n",
      "  File \"/home/dima/anaconda3/envs/f4/lib/python3.9/site-packages/aiogram/bot/api.py\", line 140, in make_request\n",
      "    return check_result(method, response.content_type, response.status, await response.text())\n",
      "  File \"/home/dima/anaconda3/envs/f4/lib/python3.9/site-packages/aiogram/bot/api.py\", line 119, in check_result\n",
      "    exceptions.ConflictError.detect(description)\n",
      "  File \"/home/dima/anaconda3/envs/f4/lib/python3.9/site-packages/aiogram/utils/exceptions.py\", line 140, in detect\n",
      "    raise err(cls.text or description)\n",
      "aiogram.utils.exceptions.TerminatedByOtherGetUpdates: Terminated by other getupdates request; make sure that only one bot instance is running\n",
      "Cause exception while getting updates.\n",
      "Traceback (most recent call last):\n",
      "  File \"/home/dima/anaconda3/envs/f4/lib/python3.9/site-packages/aiogram/dispatcher/dispatcher.py\", line 381, in start_polling\n",
      "    updates = await self.bot.get_updates(\n",
      "  File \"/home/dima/anaconda3/envs/f4/lib/python3.9/site-packages/aiogram/bot/bot.py\", line 110, in get_updates\n",
      "    result = await self.request(api.Methods.GET_UPDATES, payload)\n",
      "  File \"/home/dima/anaconda3/envs/f4/lib/python3.9/site-packages/aiogram/bot/base.py\", line 231, in request\n",
      "    return await api.make_request(await self.get_session(), self.server, self.__token, method, data, files,\n",
      "  File \"/home/dima/anaconda3/envs/f4/lib/python3.9/site-packages/aiogram/bot/api.py\", line 140, in make_request\n",
      "    return check_result(method, response.content_type, response.status, await response.text())\n",
      "  File \"/home/dima/anaconda3/envs/f4/lib/python3.9/site-packages/aiogram/bot/api.py\", line 119, in check_result\n",
      "    exceptions.ConflictError.detect(description)\n",
      "  File \"/home/dima/anaconda3/envs/f4/lib/python3.9/site-packages/aiogram/utils/exceptions.py\", line 140, in detect\n",
      "    raise err(cls.text or description)\n",
      "aiogram.utils.exceptions.TerminatedByOtherGetUpdates: Terminated by other getupdates request; make sure that only one bot instance is running\n"
     ]
    }
   ],
   "source": [
    "if __name__ == '__main__': executor.start_polling(dp)"
   ]
  },
  {
   "cell_type": "code",
   "execution_count": null,
   "id": "40984d3f-194e-4572-8a2f-db1f698cc40a",
   "metadata": {},
   "outputs": [],
   "source": []
  },
  {
   "cell_type": "code",
   "execution_count": null,
   "id": "d9d8d4d5-6b50-4e72-8f7f-41af24cbb3a7",
   "metadata": {},
   "outputs": [],
   "source": []
  },
  {
   "cell_type": "code",
   "execution_count": null,
   "id": "cc5f755b-aa52-44e1-b7dd-9bb287237571",
   "metadata": {},
   "outputs": [],
   "source": []
  },
  {
   "cell_type": "code",
   "execution_count": null,
   "id": "5f5f8dd3-fcd2-4ebf-a59e-d413f1b8969b",
   "metadata": {},
   "outputs": [],
   "source": []
  },
  {
   "cell_type": "code",
   "execution_count": null,
   "id": "37334d14-9d57-437d-9845-43c0d07cf062",
   "metadata": {},
   "outputs": [],
   "source": []
  },
  {
   "cell_type": "code",
   "execution_count": 20,
   "id": "b22a448d-acb3-48ff-98db-84ca573baf06",
   "metadata": {
    "tags": []
   },
   "outputs": [],
   "source": [
    "query = q"
   ]
  },
  {
   "cell_type": "code",
   "execution_count": 23,
   "id": "e7a6475f-c282-4117-8ca6-5c9e47fdcfd0",
   "metadata": {},
   "outputs": [
    {
     "data": {
      "text/plain": [
       "\u001b[0;31mSignature:\u001b[0m\n",
       "\u001b[0mbot\u001b[0m\u001b[0;34m.\u001b[0m\u001b[0medit_message_caption\u001b[0m\u001b[0;34m(\u001b[0m\u001b[0;34m\u001b[0m\n",
       "\u001b[0;34m\u001b[0m    \u001b[0mchat_id\u001b[0m\u001b[0;34m:\u001b[0m \u001b[0;34m'typing.Union[base.Integer, base.String, None]'\u001b[0m \u001b[0;34m=\u001b[0m \u001b[0;32mNone\u001b[0m\u001b[0;34m,\u001b[0m\u001b[0;34m\u001b[0m\n",
       "\u001b[0;34m\u001b[0m    \u001b[0mmessage_id\u001b[0m\u001b[0;34m:\u001b[0m \u001b[0;34m'typing.Optional[base.Integer]'\u001b[0m \u001b[0;34m=\u001b[0m \u001b[0;32mNone\u001b[0m\u001b[0;34m,\u001b[0m\u001b[0;34m\u001b[0m\n",
       "\u001b[0;34m\u001b[0m    \u001b[0minline_message_id\u001b[0m\u001b[0;34m:\u001b[0m \u001b[0;34m'typing.Optional[base.String]'\u001b[0m \u001b[0;34m=\u001b[0m \u001b[0;32mNone\u001b[0m\u001b[0;34m,\u001b[0m\u001b[0;34m\u001b[0m\n",
       "\u001b[0;34m\u001b[0m    \u001b[0mcaption\u001b[0m\u001b[0;34m:\u001b[0m \u001b[0;34m'typing.Optional[base.String]'\u001b[0m \u001b[0;34m=\u001b[0m \u001b[0;32mNone\u001b[0m\u001b[0;34m,\u001b[0m\u001b[0;34m\u001b[0m\n",
       "\u001b[0;34m\u001b[0m    \u001b[0mparse_mode\u001b[0m\u001b[0;34m:\u001b[0m \u001b[0;34m'typing.Optional[base.String]'\u001b[0m \u001b[0;34m=\u001b[0m \u001b[0;32mNone\u001b[0m\u001b[0;34m,\u001b[0m\u001b[0;34m\u001b[0m\n",
       "\u001b[0;34m\u001b[0m    \u001b[0mcaption_entities\u001b[0m\u001b[0;34m:\u001b[0m \u001b[0;34m'typing.Optional[typing.List[types.MessageEntity]]'\u001b[0m \u001b[0;34m=\u001b[0m \u001b[0;32mNone\u001b[0m\u001b[0;34m,\u001b[0m\u001b[0;34m\u001b[0m\n",
       "\u001b[0;34m\u001b[0m    \u001b[0mreply_markup\u001b[0m\u001b[0;34m:\u001b[0m \u001b[0;34m'typing.Union[types.InlineKeyboardMarkup, None]'\u001b[0m \u001b[0;34m=\u001b[0m \u001b[0;32mNone\u001b[0m\u001b[0;34m,\u001b[0m\u001b[0;34m\u001b[0m\n",
       "\u001b[0;34m\u001b[0m\u001b[0;34m)\u001b[0m \u001b[0;34m->\u001b[0m \u001b[0;34m'types.Message or base.Boolean'\u001b[0m\u001b[0;34m\u001b[0m\u001b[0;34m\u001b[0m\u001b[0m\n",
       "\u001b[0;31mDocstring:\u001b[0m\n",
       "Use this method to edit captions of messages sent by the bot or via the bot (for inline bots).\n",
       "\n",
       "Source: https://core.telegram.org/bots/api#editmessagecaption\n",
       "\n",
       ":param chat_id: Required if inline_message_id is not specified\n",
       "    Unique identifier for the target chat or username of the target channel\n",
       ":type chat_id: :obj:`typing.Union[base.Integer, base.String, None]`\n",
       "\n",
       ":param message_id: Required if inline_message_id is not specified. Identifier of the sent message\n",
       ":type message_id: :obj:`typing.Optional[base.Integer]`\n",
       "\n",
       ":param inline_message_id: Required if chat_id and message_id are not specified. Identifier of the inline message\n",
       ":type inline_message_id: :obj:`typing.Optional[base.String]`\n",
       "\n",
       ":param caption: New caption of the message\n",
       ":type caption: :obj:`typing.Optional[base.String]`\n",
       "\n",
       ":param parse_mode: Send Markdown or HTML, if you want Telegram apps to show bold, italic,\n",
       "    fixed-width text or inline URLs in your bot's message.\n",
       ":type parse_mode: :obj:`typing.Optional[base.String]`\n",
       "\n",
       ":param caption_entities: List of special entities that appear in message text,\n",
       "    which can be specified instead of parse_mode\n",
       ":type caption_entities: :obj:`typing.Optional[typing.List[types.MessageEntity]]`\n",
       "\n",
       ":param reply_markup: A JSON-serialized object for an inline keyboard\n",
       ":type reply_markup: :obj:`typing.Optional[types.InlineKeyboardMarkup]`\n",
       "\n",
       ":return: On success, if edited message is sent by the bot, the edited Message is returned,\n",
       "    otherwise True is returned.\n",
       ":rtype: :obj:`typing.Union[types.Message, base.Boolean]`\n",
       "\u001b[0;31mFile:\u001b[0m      ~/anaconda3/envs/f4/lib/python3.9/site-packages/aiogram/bot/bot.py\n",
       "\u001b[0;31mType:\u001b[0m      method\n"
      ]
     },
     "metadata": {},
     "output_type": "display_data"
    }
   ],
   "source": [
    "bot.edit_message_caption?"
   ]
  },
  {
   "cell_type": "code",
   "execution_count": 25,
   "id": "a10a9b8e-c728-4d40-95ba-118b83d92c72",
   "metadata": {},
   "outputs": [
    {
     "data": {
      "text/plain": [
       "<Message {\"message_id\": 2628, \"from\": {\"id\": 5091011572, \"is_bot\": true, \"first_name\": \"calorie_bot\", \"username\": \"food_classifier_bot\"}, \"chat\": {\"id\": 78882798, \"first_name\": \"Dmitry\", \"last_name\": \"Grankin\", \"username\": \"dmitry_grankin\", \"type\": \"private\"}, \"date\": 1659544989, \"edit_date\": 1659545079, \"photo\": [{\"file_id\": \"AgACAgIAAxkDAAIKRGLqpff3cTl_AAEIBk4CXYqRpV3Q_gACEb0xG9sOWEuYoKV9mZeLvgEAAwIAA3MAAykE\", \"file_unique_id\": \"AQADEb0xG9sOWEt4\", \"file_size\": 1083, \"width\": 90, \"height\": 51}, {\"file_id\": \"AgACAgIAAxkDAAIKRGLqpff3cTl_AAEIBk4CXYqRpV3Q_gACEb0xG9sOWEuYoKV9mZeLvgEAAwIAA20AAykE\", \"file_unique_id\": \"AQADEb0xG9sOWEty\", \"file_size\": 13000, \"width\": 320, \"height\": 180}, {\"file_id\": \"AgACAgIAAxkDAAIKRGLqpff3cTl_AAEIBk4CXYqRpV3Q_gACEb0xG9sOWEuYoKV9mZeLvgEAAwIAA3gAAykE\", \"file_unique_id\": \"AQADEb0xG9sOWEt9\", \"file_size\": 54516, \"width\": 800, \"height\": 450}, {\"file_id\": \"AgACAgIAAxkDAAIKRGLqpff3cTl_AAEIBk4CXYqRpV3Q_gACEb0xG9sOWEuYoKV9mZeLvgEAAwIAA3kAAykE\", \"file_unique_id\": \"AQADEb0xG9sOWEt-\", \"file_size\": 77859, \"width\": 1280, \"height\": 720}], \"caption\": \"energy  protein  carb  fat\\n     169        9    16    7\\n   please choose unit for your food weight measurement\", \"reply_markup\": {\"inline_keyboard\": [[{\"text\": \"remove\", \"callback_data\": \"edit_dish:remove\"}, {\"text\": \"edit weight\", \"callback_data\": \"edit_dish:edit weight\"}, {\"text\": \"add again\", \"callback_data\": \"edit_dish:add again\"}]]}}>"
      ]
     },
     "execution_count": 25,
     "metadata": {},
     "output_type": "execute_result"
    }
   ],
   "source": []
  },
  {
   "cell_type": "code",
   "execution_count": null,
   "id": "ac14303f-8698-425f-a78a-8986b2c91e80",
   "metadata": {},
   "outputs": [],
   "source": []
  },
  {
   "cell_type": "code",
   "execution_count": null,
   "id": "e817320e-6b22-408a-aa12-76767302366f",
   "metadata": {},
   "outputs": [],
   "source": []
  },
  {
   "cell_type": "code",
   "execution_count": 15,
   "id": "a1b04897-1c79-405f-8fc4-24ff11cbb9cb",
   "metadata": {
    "tags": []
   },
   "outputs": [
    {
     "data": {
      "text/plain": [
       "'energy  protein  carb  fat\\n     169        9    16    7'"
      ]
     },
     "execution_count": 15,
     "metadata": {},
     "output_type": "execute_result"
    }
   ],
   "source": [
    "query.to_python()['message']['caption']"
   ]
  },
  {
   "cell_type": "code",
   "execution_count": 17,
   "id": "7e3e71fe-1517-4abf-9642-9692b7876a6e",
   "metadata": {
    "tags": []
   },
   "outputs": [
    {
     "name": "stdout",
     "output_type": "stream",
     "text": [
      "here\n"
     ]
    },
    {
     "ename": "ChatNotFound",
     "evalue": "Chat not found",
     "output_type": "error",
     "traceback": [
      "\u001b[0;31m---------------------------------------------------------------------------\u001b[0m",
      "\u001b[0;31mChatNotFound\u001b[0m                              Traceback (most recent call last)",
      "Input \u001b[0;32mIn [17]\u001b[0m, in \u001b[0;36m<cell line: 8>\u001b[0;34m()\u001b[0m\n\u001b[1;32m      3\u001b[0m msg \u001b[38;5;241m=\u001b[39m \u001b[38;5;124mf\u001b[39m\u001b[38;5;124m\"\u001b[39m\u001b[38;5;132;01m{\u001b[39;00mmsg\u001b[38;5;132;01m}\u001b[39;00m\u001b[38;5;130;01m\\n\u001b[39;00m\u001b[38;5;124m \u001b[39m\u001b[38;5;130;01m\\xa0\u001b[39;00m\u001b[38;5;124m please choose unit for your food weight measurement\u001b[39m\u001b[38;5;124m\"\u001b[39m\n\u001b[1;32m      5\u001b[0m \u001b[38;5;28mprint\u001b[39m (\u001b[38;5;124m'\u001b[39m\u001b[38;5;124mhere\u001b[39m\u001b[38;5;124m'\u001b[39m)\n\u001b[0;32m----> 8\u001b[0m \u001b[38;5;28;01mawait\u001b[39;00m bot\u001b[38;5;241m.\u001b[39medit_message_caption(msg,\n\u001b[1;32m      9\u001b[0m                             query\u001b[38;5;241m.\u001b[39mfrom_user\u001b[38;5;241m.\u001b[39mid,\n\u001b[1;32m     10\u001b[0m                             query\u001b[38;5;241m.\u001b[39mmessage\u001b[38;5;241m.\u001b[39mmessage_id,\n\u001b[1;32m     11\u001b[0m                             reply_markup\u001b[38;5;241m=\u001b[39mget_keyboard(\u001b[38;5;124m'\u001b[39m\u001b[38;5;124medit_dish\u001b[39m\u001b[38;5;124m'\u001b[39m))\n",
      "File \u001b[0;32m~/anaconda3/envs/f4/lib/python3.9/site-packages/aiogram/bot/bot.py:2792\u001b[0m, in \u001b[0;36mBot.edit_message_caption\u001b[0;34m(self, chat_id, message_id, inline_message_id, caption, parse_mode, caption_entities, reply_markup)\u001b[0m\n\u001b[1;32m   2789\u001b[0m \u001b[38;5;28;01mif\u001b[39;00m \u001b[38;5;28mself\u001b[39m\u001b[38;5;241m.\u001b[39mparse_mode \u001b[38;5;129;01mand\u001b[39;00m caption_entities \u001b[38;5;129;01mis\u001b[39;00m \u001b[38;5;28;01mNone\u001b[39;00m:\n\u001b[1;32m   2790\u001b[0m     payload\u001b[38;5;241m.\u001b[39msetdefault(\u001b[38;5;124m'\u001b[39m\u001b[38;5;124mparse_mode\u001b[39m\u001b[38;5;124m'\u001b[39m, \u001b[38;5;28mself\u001b[39m\u001b[38;5;241m.\u001b[39mparse_mode)\n\u001b[0;32m-> 2792\u001b[0m result \u001b[38;5;241m=\u001b[39m \u001b[38;5;28;01mawait\u001b[39;00m \u001b[38;5;28mself\u001b[39m\u001b[38;5;241m.\u001b[39mrequest(api\u001b[38;5;241m.\u001b[39mMethods\u001b[38;5;241m.\u001b[39mEDIT_MESSAGE_CAPTION, payload)\n\u001b[1;32m   2793\u001b[0m \u001b[38;5;28;01mif\u001b[39;00m \u001b[38;5;28misinstance\u001b[39m(result, \u001b[38;5;28mbool\u001b[39m):\n\u001b[1;32m   2794\u001b[0m     \u001b[38;5;28;01mreturn\u001b[39;00m result\n",
      "File \u001b[0;32m~/anaconda3/envs/f4/lib/python3.9/site-packages/aiogram/bot/base.py:231\u001b[0m, in \u001b[0;36mBaseBot.request\u001b[0;34m(self, method, data, files, **kwargs)\u001b[0m\n\u001b[1;32m    212\u001b[0m \u001b[38;5;28;01masync\u001b[39;00m \u001b[38;5;28;01mdef\u001b[39;00m \u001b[38;5;21mrequest\u001b[39m(\u001b[38;5;28mself\u001b[39m, method: base\u001b[38;5;241m.\u001b[39mString,\n\u001b[1;32m    213\u001b[0m                   data: Optional[Dict] \u001b[38;5;241m=\u001b[39m \u001b[38;5;28;01mNone\u001b[39;00m,\n\u001b[1;32m    214\u001b[0m                   files: Optional[Dict] \u001b[38;5;241m=\u001b[39m \u001b[38;5;28;01mNone\u001b[39;00m, \u001b[38;5;241m*\u001b[39m\u001b[38;5;241m*\u001b[39mkwargs) \u001b[38;5;241m-\u001b[39m\u001b[38;5;241m>\u001b[39m Union[List, Dict, base\u001b[38;5;241m.\u001b[39mBoolean]:\n\u001b[1;32m    215\u001b[0m     \u001b[38;5;124;03m\"\"\"\u001b[39;00m\n\u001b[1;32m    216\u001b[0m \u001b[38;5;124;03m    Make an request to Telegram Bot API\u001b[39;00m\n\u001b[1;32m    217\u001b[0m \n\u001b[0;32m   (...)\u001b[0m\n\u001b[1;32m    228\u001b[0m \u001b[38;5;124;03m    :raise: :obj:`aiogram.exceptions.TelegramApiError`\u001b[39;00m\n\u001b[1;32m    229\u001b[0m \u001b[38;5;124;03m    \"\"\"\u001b[39;00m\n\u001b[0;32m--> 231\u001b[0m     \u001b[38;5;28;01mreturn\u001b[39;00m \u001b[38;5;28;01mawait\u001b[39;00m api\u001b[38;5;241m.\u001b[39mmake_request(\u001b[38;5;28;01mawait\u001b[39;00m \u001b[38;5;28mself\u001b[39m\u001b[38;5;241m.\u001b[39mget_session(), \u001b[38;5;28mself\u001b[39m\u001b[38;5;241m.\u001b[39mserver, \u001b[38;5;28mself\u001b[39m\u001b[38;5;241m.\u001b[39m__token, method, data, files,\n\u001b[1;32m    232\u001b[0m                                   proxy\u001b[38;5;241m=\u001b[39m\u001b[38;5;28mself\u001b[39m\u001b[38;5;241m.\u001b[39mproxy, proxy_auth\u001b[38;5;241m=\u001b[39m\u001b[38;5;28mself\u001b[39m\u001b[38;5;241m.\u001b[39mproxy_auth, timeout\u001b[38;5;241m=\u001b[39m\u001b[38;5;28mself\u001b[39m\u001b[38;5;241m.\u001b[39mtimeout, \u001b[38;5;241m*\u001b[39m\u001b[38;5;241m*\u001b[39mkwargs)\n",
      "File \u001b[0;32m~/anaconda3/envs/f4/lib/python3.9/site-packages/aiogram/bot/api.py:140\u001b[0m, in \u001b[0;36mmake_request\u001b[0;34m(session, server, token, method, data, files, **kwargs)\u001b[0m\n\u001b[1;32m    138\u001b[0m \u001b[38;5;28;01mtry\u001b[39;00m:\n\u001b[1;32m    139\u001b[0m     \u001b[38;5;28;01masync\u001b[39;00m \u001b[38;5;28;01mwith\u001b[39;00m session\u001b[38;5;241m.\u001b[39mpost(url, data\u001b[38;5;241m=\u001b[39mreq, \u001b[38;5;241m*\u001b[39m\u001b[38;5;241m*\u001b[39mkwargs) \u001b[38;5;28;01mas\u001b[39;00m response:\n\u001b[0;32m--> 140\u001b[0m         \u001b[38;5;28;01mreturn\u001b[39;00m \u001b[43mcheck_result\u001b[49m\u001b[43m(\u001b[49m\u001b[43mmethod\u001b[49m\u001b[43m,\u001b[49m\u001b[43m \u001b[49m\u001b[43mresponse\u001b[49m\u001b[38;5;241;43m.\u001b[39;49m\u001b[43mcontent_type\u001b[49m\u001b[43m,\u001b[49m\u001b[43m \u001b[49m\u001b[43mresponse\u001b[49m\u001b[38;5;241;43m.\u001b[39;49m\u001b[43mstatus\u001b[49m\u001b[43m,\u001b[49m\u001b[43m \u001b[49m\u001b[38;5;28;43;01mawait\u001b[39;49;00m\u001b[43m \u001b[49m\u001b[43mresponse\u001b[49m\u001b[38;5;241;43m.\u001b[39;49m\u001b[43mtext\u001b[49m\u001b[43m(\u001b[49m\u001b[43m)\u001b[49m\u001b[43m)\u001b[49m\n\u001b[1;32m    141\u001b[0m \u001b[38;5;28;01mexcept\u001b[39;00m aiohttp\u001b[38;5;241m.\u001b[39mClientError \u001b[38;5;28;01mas\u001b[39;00m e:\n\u001b[1;32m    142\u001b[0m     \u001b[38;5;28;01mraise\u001b[39;00m exceptions\u001b[38;5;241m.\u001b[39mNetworkError(\u001b[38;5;124mf\u001b[39m\u001b[38;5;124m\"\u001b[39m\u001b[38;5;124maiohttp client throws an error: \u001b[39m\u001b[38;5;132;01m{\u001b[39;00me\u001b[38;5;241m.\u001b[39m\u001b[38;5;18m__class__\u001b[39m\u001b[38;5;241m.\u001b[39m\u001b[38;5;18m__name__\u001b[39m\u001b[38;5;132;01m}\u001b[39;00m\u001b[38;5;124m: \u001b[39m\u001b[38;5;132;01m{\u001b[39;00me\u001b[38;5;132;01m}\u001b[39;00m\u001b[38;5;124m\"\u001b[39m)\n",
      "File \u001b[0;32m~/anaconda3/envs/f4/lib/python3.9/site-packages/aiogram/bot/api.py:115\u001b[0m, in \u001b[0;36mcheck_result\u001b[0;34m(method_name, content_type, status_code, body)\u001b[0m\n\u001b[1;32m    113\u001b[0m     \u001b[38;5;28;01mraise\u001b[39;00m exceptions\u001b[38;5;241m.\u001b[39mMigrateToChat(parameters\u001b[38;5;241m.\u001b[39mmigrate_to_chat_id)\n\u001b[1;32m    114\u001b[0m \u001b[38;5;28;01melif\u001b[39;00m status_code \u001b[38;5;241m==\u001b[39m HTTPStatus\u001b[38;5;241m.\u001b[39mBAD_REQUEST:\n\u001b[0;32m--> 115\u001b[0m     \u001b[43mexceptions\u001b[49m\u001b[38;5;241;43m.\u001b[39;49m\u001b[43mBadRequest\u001b[49m\u001b[38;5;241;43m.\u001b[39;49m\u001b[43mdetect\u001b[49m\u001b[43m(\u001b[49m\u001b[43mdescription\u001b[49m\u001b[43m)\u001b[49m\n\u001b[1;32m    116\u001b[0m \u001b[38;5;28;01melif\u001b[39;00m status_code \u001b[38;5;241m==\u001b[39m HTTPStatus\u001b[38;5;241m.\u001b[39mNOT_FOUND:\n\u001b[1;32m    117\u001b[0m     exceptions\u001b[38;5;241m.\u001b[39mNotFound\u001b[38;5;241m.\u001b[39mdetect(description)\n",
      "File \u001b[0;32m~/anaconda3/envs/f4/lib/python3.9/site-packages/aiogram/utils/exceptions.py:140\u001b[0m, in \u001b[0;36m_MatchErrorMixin.detect\u001b[0;34m(cls, description)\u001b[0m\n\u001b[1;32m    138\u001b[0m         \u001b[38;5;28;01mcontinue\u001b[39;00m\n\u001b[1;32m    139\u001b[0m     \u001b[38;5;28;01mif\u001b[39;00m err\u001b[38;5;241m.\u001b[39mcheck(description):\n\u001b[0;32m--> 140\u001b[0m         \u001b[38;5;28;01mraise\u001b[39;00m err(\u001b[38;5;28mcls\u001b[39m\u001b[38;5;241m.\u001b[39mtext \u001b[38;5;129;01mor\u001b[39;00m description)\n\u001b[1;32m    141\u001b[0m \u001b[38;5;28;01mraise\u001b[39;00m \u001b[38;5;28mcls\u001b[39m(description)\n",
      "\u001b[0;31mChatNotFound\u001b[0m: Chat not found"
     ]
    }
   ],
   "source": [
    "msg = query.to_python()['message']['caption']\n",
    "msg = msg.split('\\xa0')[0] if '\\xa0' in msg else msg\n",
    "msg = f\"{msg}\\n \\xa0 please choose unit for your food weight measurement\"\n",
    "\n",
    "print ('here')\n",
    "\n",
    "\n",
    "await bot.edit_message_caption(msg,\n",
    "                            query.from_user.id,\n",
    "                            query.message.message_id,\n",
    "                            reply_markup=get_keyboard('edit_dish'))"
   ]
  },
  {
   "cell_type": "code",
   "execution_count": null,
   "id": "662bea3a-b96d-4df3-87ea-10e4b4e343f2",
   "metadata": {},
   "outputs": [],
   "source": [
    "bot.edit_message_caption"
   ]
  },
  {
   "cell_type": "code",
   "execution_count": 15,
   "id": "3f202374-df89-4e7b-a958-286c5e9c275e",
   "metadata": {},
   "outputs": [
    {
     "name": "stderr",
     "output_type": "stream",
     "text": [
      "Task exception was never retrieved\n",
      "future: <Task finished name='Task-15' coro=<Dispatcher._process_polling_updates() done, defined at /home/dima/anaconda3/envs/f4/lib/python3.9/site-packages/aiogram/dispatcher/dispatcher.py:407> exception=KeyError('text')>\n",
      "Traceback (most recent call last):\n",
      "  File \"/home/dima/anaconda3/envs/f4/lib/python3.9/asyncio/tasks.py\", line 258, in __step\n",
      "    result = coro.throw(exc)\n",
      "  File \"/home/dima/anaconda3/envs/f4/lib/python3.9/site-packages/aiogram/dispatcher/dispatcher.py\", line 415, in _process_polling_updates\n",
      "    for responses in itertools.chain.from_iterable(await self.process_updates(updates, fast)):\n",
      "  File \"/home/dima/anaconda3/envs/f4/lib/python3.9/site-packages/aiogram/dispatcher/dispatcher.py\", line 235, in process_updates\n",
      "    return await asyncio.gather(*tasks)\n",
      "  File \"/home/dima/anaconda3/envs/f4/lib/python3.9/asyncio/tasks.py\", line 328, in __wakeup\n",
      "    future.result()\n",
      "  File \"/home/dima/anaconda3/envs/f4/lib/python3.9/asyncio/tasks.py\", line 256, in __step\n",
      "    result = coro.send(None)\n",
      "  File \"/home/dima/anaconda3/envs/f4/lib/python3.9/site-packages/aiogram/dispatcher/handler.py\", line 116, in notify\n",
      "    response = await handler_obj.handler(*args, **partial_data)\n",
      "  File \"/home/dima/anaconda3/envs/f4/lib/python3.9/site-packages/aiogram/dispatcher/dispatcher.py\", line 283, in process_update\n",
      "    return await self.callback_query_handlers.notify(update.callback_query)\n",
      "  File \"/home/dima/anaconda3/envs/f4/lib/python3.9/site-packages/aiogram/dispatcher/handler.py\", line 116, in notify\n",
      "    response = await handler_obj.handler(*args, **partial_data)\n",
      "  File \"/tmp/ipykernel_511806/2960853093.py\", line 9, in add_dish\n",
      "    msg = query.to_python()['message']['text']\n",
      "KeyError: 'text'\n",
      "Task exception was never retrieved\n",
      "future: <Task finished name='Task-18' coro=<Dispatcher._process_polling_updates() done, defined at /home/dima/anaconda3/envs/f4/lib/python3.9/site-packages/aiogram/dispatcher/dispatcher.py:407> exception=KeyError('text')>\n",
      "Traceback (most recent call last):\n",
      "  File \"/home/dima/anaconda3/envs/f4/lib/python3.9/asyncio/tasks.py\", line 258, in __step\n",
      "    result = coro.throw(exc)\n",
      "  File \"/home/dima/anaconda3/envs/f4/lib/python3.9/site-packages/aiogram/dispatcher/dispatcher.py\", line 415, in _process_polling_updates\n",
      "    for responses in itertools.chain.from_iterable(await self.process_updates(updates, fast)):\n",
      "  File \"/home/dima/anaconda3/envs/f4/lib/python3.9/site-packages/aiogram/dispatcher/dispatcher.py\", line 235, in process_updates\n",
      "    return await asyncio.gather(*tasks)\n",
      "  File \"/home/dima/anaconda3/envs/f4/lib/python3.9/asyncio/tasks.py\", line 328, in __wakeup\n",
      "    future.result()\n",
      "  File \"/home/dima/anaconda3/envs/f4/lib/python3.9/asyncio/tasks.py\", line 256, in __step\n",
      "    result = coro.send(None)\n",
      "  File \"/home/dima/anaconda3/envs/f4/lib/python3.9/site-packages/aiogram/dispatcher/handler.py\", line 116, in notify\n",
      "    response = await handler_obj.handler(*args, **partial_data)\n",
      "  File \"/home/dima/anaconda3/envs/f4/lib/python3.9/site-packages/aiogram/dispatcher/dispatcher.py\", line 283, in process_update\n",
      "    return await self.callback_query_handlers.notify(update.callback_query)\n",
      "  File \"/home/dima/anaconda3/envs/f4/lib/python3.9/site-packages/aiogram/dispatcher/handler.py\", line 116, in notify\n",
      "    response = await handler_obj.handler(*args, **partial_data)\n",
      "  File \"/tmp/ipykernel_511806/2960853093.py\", line 9, in add_dish\n",
      "    msg = query.to_python()['message']['text']\n",
      "KeyError: 'text'\n"
     ]
    },
    {
     "ename": "KeyError",
     "evalue": "'text'",
     "output_type": "error",
     "traceback": [
      "\u001b[0;31m---------------------------------------------------------------------------\u001b[0m",
      "\u001b[0;31mKeyError\u001b[0m                                  Traceback (most recent call last)",
      "Input \u001b[0;32mIn [15]\u001b[0m, in \u001b[0;36m<cell line: 1>\u001b[0;34m()\u001b[0m\n\u001b[0;32m----> 1\u001b[0m msg \u001b[38;5;241m=\u001b[39m \u001b[43mquery\u001b[49m\u001b[38;5;241;43m.\u001b[39;49m\u001b[43mto_python\u001b[49m\u001b[43m(\u001b[49m\u001b[43m)\u001b[49m\u001b[43m[\u001b[49m\u001b[38;5;124;43m'\u001b[39;49m\u001b[38;5;124;43mmessage\u001b[39;49m\u001b[38;5;124;43m'\u001b[39;49m\u001b[43m]\u001b[49m\u001b[43m[\u001b[49m\u001b[38;5;124;43m'\u001b[39;49m\u001b[38;5;124;43mtext\u001b[39;49m\u001b[38;5;124;43m'\u001b[39;49m\u001b[43m]\u001b[49m\n\u001b[1;32m      2\u001b[0m msg \u001b[38;5;241m=\u001b[39m msg\u001b[38;5;241m.\u001b[39msplit(\u001b[38;5;124m'\u001b[39m\u001b[38;5;130;01m\\xa0\u001b[39;00m\u001b[38;5;124m'\u001b[39m)[\u001b[38;5;241m0\u001b[39m] \u001b[38;5;28;01mif\u001b[39;00m \u001b[38;5;124m'\u001b[39m\u001b[38;5;130;01m\\xa0\u001b[39;00m\u001b[38;5;124m'\u001b[39m \u001b[38;5;129;01min\u001b[39;00m msg \u001b[38;5;28;01melse\u001b[39;00m msg\n\u001b[1;32m      3\u001b[0m msg \u001b[38;5;241m=\u001b[39m \u001b[38;5;124mf\u001b[39m\u001b[38;5;124m\"\u001b[39m\u001b[38;5;132;01m{\u001b[39;00mmsg\u001b[38;5;132;01m}\u001b[39;00m\u001b[38;5;130;01m\\n\u001b[39;00m\u001b[38;5;124m \u001b[39m\u001b[38;5;130;01m\\xa0\u001b[39;00m\u001b[38;5;124m please choose unit for your food weight measurement\u001b[39m\u001b[38;5;124m\"\u001b[39m\n",
      "\u001b[0;31mKeyError\u001b[0m: 'text'"
     ]
    }
   ],
   "source": [
    "msg = query.to_python()['message']['text']\n",
    "msg = msg.split('\\xa0')[0] if '\\xa0' in msg else msg\n",
    "msg = f\"{msg}\\n \\xa0 please choose unit for your food weight measurement\""
   ]
  },
  {
   "cell_type": "code",
   "execution_count": null,
   "id": "bd16edec-3a19-4905-beb5-1b8a31c51cb3",
   "metadata": {},
   "outputs": [],
   "source": []
  }
 ],
 "metadata": {
  "kernelspec": {
   "display_name": "f4",
   "language": "python",
   "name": "f4"
  },
  "language_info": {
   "codemirror_mode": {
    "name": "ipython",
    "version": 3
   },
   "file_extension": ".py",
   "mimetype": "text/x-python",
   "name": "python",
   "nbconvert_exporter": "python",
   "pygments_lexer": "ipython3",
   "version": "3.9.13"
  }
 },
 "nbformat": 4,
 "nbformat_minor": 5
}
