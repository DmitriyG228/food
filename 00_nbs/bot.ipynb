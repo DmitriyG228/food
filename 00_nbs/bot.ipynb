{
 "cells": [
  {
   "cell_type": "code",
   "execution_count": 1,
   "id": "86a4bbf2-7a69-446c-aa95-ee21ad34a54e",
   "metadata": {},
   "outputs": [],
   "source": [
    "import sys\n",
    "sys.path.insert(0,'..')"
   ]
  },
  {
   "cell_type": "code",
   "execution_count": 3,
   "id": "5417ec7e-d182-42c8-a6d8-44fc96a03232",
   "metadata": {
    "tags": []
   },
   "outputs": [
    {
     "name": "stderr",
     "output_type": "stream",
     "text": [
      "/home/dima/anaconda3/envs/f4/lib/python3.9/site-packages/aiogram/types/mixins.py:40: DeprecationWarning: destination parameter is deprecated, please use destination_dir or destination_file.\n",
      "  warn_deprecated(\n",
      "/home/dima/anaconda3/envs/f4/lib/python3.9/site-packages/torch/nn/functional.py:3509: UserWarning: nn.functional.upsample is deprecated. Use nn.functional.interpolate instead.\n",
      "  warnings.warn(\"nn.functional.upsample is deprecated. Use nn.functional.interpolate instead.\")\n",
      "/home/dima/anaconda3/envs/f4/lib/python3.9/site-packages/torch/nn/functional.py:3679: UserWarning: The default behavior for interpolate/upsample with float scale_factor changed in 1.6.0 to align with other frameworks/libraries, and now uses scale_factor directly, instead of relying on the computed output size. If you wish to restore the old behavior, please set recompute_scale_factor=True. See the documentation of nn.Upsample for details. \n",
      "  warnings.warn(\n",
      "/home/dima/anaconda3/envs/f4/lib/python3.9/site-packages/aiogram/types/mixins.py:40: DeprecationWarning: destination parameter is deprecated, please use destination_dir or destination_file.\n",
      "  warn_deprecated(\n",
      "Goodbye!\n"
     ]
    }
   ],
   "source": [
    "#from food.psql import *\n",
    "from mytools.tools import get_logger\n",
    "# logger = get_logger(engine,'bot_logs','food')\n",
    "# logger.debug({'msg':'starting bot'})\n",
    "from aiogram import Bot, Dispatcher, executor, types\n",
    "from aiogram.types import ContentType\n",
    "from aiogram.dispatcher.filters.state import State, StatesGroup\n",
    "from aiogram.types.message import ContentTypes\n",
    "from aiogram.dispatcher import FSMContext\n",
    "from aiogram.contrib.fsm_storage.memory import MemoryStorage\n",
    "from sqlalchemy import update\n",
    "from aiogram.dispatcher.filters.state import State, StatesGroup\n",
    "from aiogram.utils.callback_data import CallbackData\n",
    "import typing\n",
    "import numpy as np\n",
    "import io\n",
    "\n",
    "\n",
    "from food.paths import *\n",
    "\n",
    "\n",
    "API_TOKEN = bot_token\n",
    "\n",
    "from food.paths import *\n",
    "from food.search import *\n",
    "import pandas as  pd\n",
    "import pytz\n",
    "timezones = pytz.all_timezones\n",
    "import requests\n",
    "from requests.structures import CaseInsensitiveDict\n",
    "import urllib\n",
    "from tzwhere import tzwhere\n",
    "\n",
    "import nest_asyncio\n",
    "nest_asyncio.apply()\n",
    "\n",
    "def image2file_obj(img):\n",
    "    o = io.BytesIO()\n",
    "    img.save(o, format=i.format)\n",
    "    return o.getvalue()\n",
    "\n",
    "async def async_image2file_obj(img):\n",
    "    return image2file_obj(img)\n",
    "\n",
    "\n",
    "\n",
    "async def async_search(url):\n",
    "    return search(url)\n",
    "\n",
    "\n",
    "\n",
    "bot = Bot(token=API_TOKEN)\n",
    "storage = MemoryStorage()\n",
    "dp = Dispatcher(bot, storage=storage)\n",
    "\n",
    "\n",
    "\n",
    "@dp.message_handler(content_types=ContentType.PHOTO,state='*')\n",
    "async def process_photo(message: types.Message, state: FSMContext):\n",
    "    await message.reply('yes')\n",
    "    global m \n",
    "    global i\n",
    "    m = message\n",
    "\n",
    "\n",
    "    photo  = message['photo'][-1]\n",
    "    await photo.download(reference_images_path/photo['file_id'])\n",
    "    # image_url    = await photo.get_url()\n",
    "    image_url      = f'https://dima.grankin.eu/reference_images/{photo[\"file_id\"]}'\n",
    "    \n",
    "    img,clip_df,masks,urls = async_search(image_url)\n",
    "    \n",
    "    i = img\n",
    "    \n",
    "    print('started')\n",
    "    \n",
    "    img_o = await async_image2file_obj(img)\n",
    "   \n",
    "    await message.reply_photo(img_o)\n",
    "    await message.reply(' '.join(df['description'].tolist()))\n",
    "    await message.reply(mask[mask!=0].mean())\n",
    "    \n",
    "    print('finished')\n",
    "\n",
    "if __name__ == '__main__': executor.start_polling(dp)"
   ]
  },
  {
   "cell_type": "code",
   "execution_count": 10,
   "id": "8e0832fb-5b6d-4d38-b95a-3025ec476083",
   "metadata": {},
   "outputs": [
    {
     "name": "stderr",
     "output_type": "stream",
     "text": [
      "/home/dima/anaconda3/envs/f4/lib/python3.9/site-packages/aiogram/types/mixins.py:40: DeprecationWarning: destination parameter is deprecated, please use destination_dir or destination_file.\n",
      "  warn_deprecated(\n"
     ]
    }
   ],
   "source": [
    "photo  = m['photo'][-1]\n",
    "await photo.download(reference_images_path/photo['file_id'])\n",
    "# image_url    = await photo.get_url()\n",
    "image_url      = f'https://dima.grankin.eu/reference_images/{photo[\"file_id\"]}'"
   ]
  },
  {
   "cell_type": "code",
   "execution_count": 14,
   "id": "5a527fc3-93d0-44ac-ba3f-0cf8fbd3d102",
   "metadata": {},
   "outputs": [
    {
     "data": {
      "text/plain": [
       "'https://dima.grankin.eu/reference_images/AgACAgIAAxkBAAIKAmLhn0SdD55hleSPR5q57eb-6Lb2AAIZvzEb6jQQS7YEy1gu7EwnAQADAgADeQADKQQ'"
      ]
     },
     "execution_count": 14,
     "metadata": {},
     "output_type": "execute_result"
    }
   ],
   "source": [
    "image_url"
   ]
  },
  {
   "cell_type": "code",
   "execution_count": 12,
   "id": "9e9b18b3-a16b-45b3-bfd3-a06c1d5acafd",
   "metadata": {},
   "outputs": [
    {
     "name": "stderr",
     "output_type": "stream",
     "text": [
      "/home/dima/anaconda3/envs/f4/lib/python3.9/site-packages/torch/nn/functional.py:3509: UserWarning: nn.functional.upsample is deprecated. Use nn.functional.interpolate instead.\n",
      "  warnings.warn(\"nn.functional.upsample is deprecated. Use nn.functional.interpolate instead.\")\n",
      "/home/dima/anaconda3/envs/f4/lib/python3.9/site-packages/torch/nn/functional.py:3679: UserWarning: The default behavior for interpolate/upsample with float scale_factor changed in 1.6.0 to align with other frameworks/libraries, and now uses scale_factor directly, instead of relying on the computed output size. If you wish to restore the old behavior, please set recompute_scale_factor=True. See the documentation of nn.Upsample for details. \n",
      "  warnings.warn(\n"
     ]
    },
    {
     "ename": "ValueError",
     "evalue": "operands could not be broadcast together with shapes (1280,1279,3) (1280,1280,3) ",
     "output_type": "error",
     "traceback": [
      "\u001b[0;31m---------------------------------------------------------------------------\u001b[0m",
      "\u001b[0;31mValueError\u001b[0m                                Traceback (most recent call last)",
      "Input \u001b[0;32mIn [12]\u001b[0m, in \u001b[0;36m<cell line: 1>\u001b[0;34m()\u001b[0m\n\u001b[0;32m----> 1\u001b[0m img,clip_df,masks,urls \u001b[38;5;241m=\u001b[39m \u001b[43msearch\u001b[49m\u001b[43m(\u001b[49m\u001b[43mimage_url\u001b[49m\u001b[43m)\u001b[49m\n",
      "File \u001b[0;32m~/food/00_nbs/../food/search.py:56\u001b[0m, in \u001b[0;36msearch\u001b[0;34m(url)\u001b[0m\n\u001b[1;32m     54\u001b[0m \u001b[38;5;28;01mif\u001b[39;00m area\u001b[38;5;241m>\u001b[39m \u001b[38;5;241m20\u001b[39m\u001b[38;5;241m*\u001b[39m\u001b[38;5;241m20\u001b[39m:\n\u001b[1;32m     55\u001b[0m     class_mask \u001b[38;5;241m=\u001b[39m np\u001b[38;5;241m.\u001b[39mwhere(segmentor_mask\u001b[38;5;241m==\u001b[39mc,\u001b[38;5;241m1\u001b[39m,\u001b[38;5;241m0\u001b[39m)\n\u001b[0;32m---> 56\u001b[0m     class_mask \u001b[38;5;241m=\u001b[39m expand_boundaries(class_mask,times\u001b[38;5;241m=\u001b[39m\u001b[38;5;241m5\u001b[39m,factor\u001b[38;5;241m=\u001b[39m\u001b[38;5;241m5\u001b[39m)\n\u001b[1;32m     57\u001b[0m     img_arr \u001b[38;5;241m=\u001b[39m apply_mask(img,class_mask\u001b[38;5;241m.\u001b[39mT)\u001b[38;5;241m.\u001b[39mastype(np\u001b[38;5;241m.\u001b[39muint8)\n\u001b[1;32m     58\u001b[0m     img_arr \u001b[38;5;241m=\u001b[39m crop_zeros(img_arr)\n",
      "File \u001b[0;32m~/mytools/mytools/visual.py:96\u001b[0m, in \u001b[0;36mapply_mask\u001b[0;34m(img, mask)\u001b[0m\n\u001b[1;32m     94\u001b[0m \u001b[38;5;28;01mdef\u001b[39;00m \u001b[38;5;21mapply_mask\u001b[39m(img,mask):\n\u001b[1;32m     95\u001b[0m     mask \u001b[38;5;241m=\u001b[39m np\u001b[38;5;241m.\u001b[39marray(mask)\u001b[38;5;241m.\u001b[39mastype(\u001b[38;5;124m'\u001b[39m\u001b[38;5;124mint\u001b[39m\u001b[38;5;124m'\u001b[39m)\n\u001b[0;32m---> 96\u001b[0m     \u001b[38;5;28;01mreturn\u001b[39;00m \u001b[43mnp\u001b[49m\u001b[38;5;241;43m.\u001b[39;49m\u001b[43marray\u001b[49m\u001b[43m(\u001b[49m\u001b[43mimg\u001b[49m\u001b[43m)\u001b[49m\u001b[43m \u001b[49m\u001b[38;5;241;43m*\u001b[39;49m\u001b[43m \u001b[49m\u001b[43mnp\u001b[49m\u001b[38;5;241;43m.\u001b[39;49m\u001b[43mstack\u001b[49m\u001b[43m(\u001b[49m\u001b[43m[\u001b[49m\u001b[43mmask\u001b[49m\u001b[43m]\u001b[49m\u001b[38;5;241;43m*\u001b[39;49m\u001b[38;5;241;43m3\u001b[39;49m\u001b[43m)\u001b[49m\u001b[38;5;241;43m.\u001b[39;49m\u001b[43mT\u001b[49m\n",
      "\u001b[0;31mValueError\u001b[0m: operands could not be broadcast together with shapes (1280,1279,3) (1280,1280,3) "
     ]
    }
   ],
   "source": [
    "img,clip_df,masks,urls = search(image_url)"
   ]
  },
  {
   "cell_type": "code",
   "execution_count": 13,
   "id": "f1368559-4d5b-4e90-87d2-39da9cd6e2f0",
   "metadata": {},
   "outputs": [
    {
     "ename": "NameError",
     "evalue": "name 'expand_boundaries' is not defined",
     "output_type": "error",
     "traceback": [
      "\u001b[0;31m---------------------------------------------------------------------------\u001b[0m",
      "\u001b[0;31mNameError\u001b[0m                                 Traceback (most recent call last)",
      "Input \u001b[0;32mIn [13]\u001b[0m, in \u001b[0;36m<cell line: 1>\u001b[0;34m()\u001b[0m\n\u001b[0;32m----> 1\u001b[0m \u001b[43mexpand_boundaries\u001b[49m\n",
      "\u001b[0;31mNameError\u001b[0m: name 'expand_boundaries' is not defined"
     ]
    }
   ],
   "source": [
    "expand_boundaries"
   ]
  },
  {
   "cell_type": "code",
   "execution_count": null,
   "id": "1afff0dc-9a25-4bc5-90c3-e9745fa79b11",
   "metadata": {},
   "outputs": [],
   "source": []
  },
  {
   "cell_type": "code",
   "execution_count": null,
   "id": "fa20ed1d-ba7a-49dd-86f0-f0466ebe1516",
   "metadata": {},
   "outputs": [],
   "source": []
  },
  {
   "cell_type": "code",
   "execution_count": null,
   "id": "429320dd-12f5-4146-a25c-edb3d21c0f95",
   "metadata": {},
   "outputs": [],
   "source": [
    "img_o = await async_image2file_obj(i)"
   ]
  },
  {
   "cell_type": "code",
   "execution_count": 8,
   "id": "9cd2f920-2f50-4502-a4eb-1adb0bf04f8a",
   "metadata": {},
   "outputs": [
    {
     "data": {
      "text/plain": [
       "<Message {\"message_id\": 2478, \"from\": {\"id\": 5091011572, \"is_bot\": true, \"first_name\": \"calorie_bot\", \"username\": \"food_classifier_bot\"}, \"chat\": {\"id\": 78882798, \"first_name\": \"Dmitry\", \"last_name\": \"Grankin\", \"username\": \"dmitry_grankin\", \"type\": \"private\"}, \"date\": 1658772535, \"reply_to_message\": {\"message_id\": 2476, \"from\": {\"id\": 78882798, \"is_bot\": false, \"first_name\": \"Dmitry\", \"last_name\": \"Grankin\", \"username\": \"dmitry_grankin\", \"language_code\": \"en\"}, \"chat\": {\"id\": 78882798, \"first_name\": \"Dmitry\", \"last_name\": \"Grankin\", \"username\": \"dmitry_grankin\", \"type\": \"private\"}, \"date\": 1658772488, \"photo\": [{\"file_id\": \"AgACAgIAAxkBAAIJrGLe3Ahpju7CG2OfAjf0NNzEkNMCAAJCvTEbQxXxSkgVFMe0cp5XAQADAgADcwADKQQ\", \"file_unique_id\": \"AQADQr0xG0MV8Up4\", \"file_size\": 1212, \"width\": 90, \"height\": 51}, {\"file_id\": \"AgACAgIAAxkBAAIJrGLe3Ahpju7CG2OfAjf0NNzEkNMCAAJCvTEbQxXxSkgVFMe0cp5XAQADAgADbQADKQQ\", \"file_unique_id\": \"AQADQr0xG0MV8Upy\", \"file_size\": 16703, \"width\": 320, \"height\": 180}, {\"file_id\": \"AgACAgIAAxkBAAIJrGLe3Ahpju7CG2OfAjf0NNzEkNMCAAJCvTEbQxXxSkgVFMe0cp5XAQADAgADeAADKQQ\", \"file_unique_id\": \"AQADQr0xG0MV8Up9\", \"file_size\": 72700, \"width\": 800, \"height\": 450}, {\"file_id\": \"AgACAgIAAxkBAAIJrGLe3Ahpju7CG2OfAjf0NNzEkNMCAAJCvTEbQxXxSkgVFMe0cp5XAQADAgADeQADKQQ\", \"file_unique_id\": \"AQADQr0xG0MV8Up-\", \"file_size\": 138520, \"width\": 1280, \"height\": 720}]}, \"photo\": [{\"file_id\": \"AgACAgIAAxkDAAIJrmLe3DcN33fodxvNuM0dvxZSBgHFAAIGwTEb8n74Sujj_nsqO7ghAQADAgADcwADKQQ\", \"file_unique_id\": \"AQADBsExG_J--Ep4\", \"file_size\": 915, \"width\": 90, \"height\": 60}, {\"file_id\": \"AgACAgIAAxkDAAIJrmLe3DcN33fodxvNuM0dvxZSBgHFAAIGwTEb8n74Sujj_nsqO7ghAQADAgADbQADKQQ\", \"file_unique_id\": \"AQADBsExG_J--Epy\", \"file_size\": 7975, \"width\": 320, \"height\": 213}, {\"file_id\": \"AgACAgIAAxkDAAIJrmLe3DcN33fodxvNuM0dvxZSBgHFAAIGwTEb8n74Sujj_nsqO7ghAQADAgADeAADKQQ\", \"file_unique_id\": \"AQADBsExG_J--Ep9\", \"file_size\": 12155, \"width\": 432, \"height\": 288}]}>"
      ]
     },
     "execution_count": 8,
     "metadata": {},
     "output_type": "execute_result"
    }
   ],
   "source": [
    "await m.reply_photo(img_o)"
   ]
  },
  {
   "cell_type": "code",
   "execution_count": 5,
   "id": "50b10f23-549c-4b0a-94c5-003c423a4e42",
   "metadata": {},
   "outputs": [
    {
     "ename": "NameError",
     "evalue": "name 'i' is not defined",
     "output_type": "error",
     "traceback": [
      "\u001b[0;31m---------------------------------------------------------------------------\u001b[0m",
      "\u001b[0;31mNameError\u001b[0m                                 Traceback (most recent call last)",
      "Input \u001b[0;32mIn [5]\u001b[0m, in \u001b[0;36m<cell line: 1>\u001b[0;34m()\u001b[0m\n\u001b[0;32m----> 1\u001b[0m \u001b[43mi\u001b[49m\n",
      "\u001b[0;31mNameError\u001b[0m: name 'i' is not defined"
     ]
    }
   ],
   "source": [
    "i"
   ]
  },
  {
   "cell_type": "code",
   "execution_count": null,
   "id": "64de2f29-dc31-4c78-8f48-9a76ad2865a4",
   "metadata": {},
   "outputs": [],
   "source": []
  },
  {
   "cell_type": "code",
   "execution_count": null,
   "id": "0faf4d12-5ec1-474a-9a04-2091f011c6f5",
   "metadata": {
    "collapsed": true,
    "jupyter": {
     "outputs_hidden": true
    },
    "tags": []
   },
   "outputs": [],
   "source": []
  },
  {
   "cell_type": "code",
   "execution_count": 87,
   "id": "01f0a629-6ec0-4a67-bc55-522cbac085e8",
   "metadata": {},
   "outputs": [
    {
     "data": {
      "text/plain": [
       "<Message {\"message_id\": 2446, \"from\": {\"id\": 5091011572, \"is_bot\": true, \"first_name\": \"calorie_bot\", \"username\": \"food_classifier_bot\"}, \"chat\": {\"id\": 78882798, \"first_name\": \"Dmitry\", \"last_name\": \"Grankin\", \"username\": \"dmitry_grankin\", \"type\": \"private\"}, \"date\": 1658770476, \"reply_to_message\": {\"message_id\": 2445, \"from\": {\"id\": 78882798, \"is_bot\": false, \"first_name\": \"Dmitry\", \"last_name\": \"Grankin\", \"username\": \"dmitry_grankin\", \"language_code\": \"en\"}, \"chat\": {\"id\": 78882798, \"first_name\": \"Dmitry\", \"last_name\": \"Grankin\", \"username\": \"dmitry_grankin\", \"type\": \"private\"}, \"date\": 1658770438, \"photo\": [{\"file_id\": \"AgACAgIAAxkBAAIJjWLe1AYnqWxItAqPc6Oab3GKfY-pAAJCvTEbQxXxSkgVFMe0cp5XAQADAgADcwADKQQ\", \"file_unique_id\": \"AQADQr0xG0MV8Up4\", \"file_size\": 1212, \"width\": 90, \"height\": 51}, {\"file_id\": \"AgACAgIAAxkBAAIJjWLe1AYnqWxItAqPc6Oab3GKfY-pAAJCvTEbQxXxSkgVFMe0cp5XAQADAgADbQADKQQ\", \"file_unique_id\": \"AQADQr0xG0MV8Upy\", \"file_size\": 16703, \"width\": 320, \"height\": 180}, {\"file_id\": \"AgACAgIAAxkBAAIJjWLe1AYnqWxItAqPc6Oab3GKfY-pAAJCvTEbQxXxSkgVFMe0cp5XAQADAgADeAADKQQ\", \"file_unique_id\": \"AQADQr0xG0MV8Up9\", \"file_size\": 72700, \"width\": 800, \"height\": 450}, {\"file_id\": \"AgACAgIAAxkBAAIJjWLe1AYnqWxItAqPc6Oab3GKfY-pAAJCvTEbQxXxSkgVFMe0cp5XAQADAgADeQADKQQ\", \"file_unique_id\": \"AQADQr0xG0MV8Up-\", \"file_size\": 138520, \"width\": 1280, \"height\": 720}]}, \"photo\": [{\"file_id\": \"AgACAgIAAxkDAAIJjmLe1CwIC92Gr2rWxZhZnC_IpJbgAALnwDEb8n74SiiQuOgRRpWVAQADAgADcwADKQQ\", \"file_unique_id\": \"AQAD58AxG_J--Ep4\", \"file_size\": 908, \"width\": 90, \"height\": 60}, {\"file_id\": \"AgACAgIAAxkDAAIJjmLe1CwIC92Gr2rWxZhZnC_IpJbgAALnwDEb8n74SiiQuOgRRpWVAQADAgADbQADKQQ\", \"file_unique_id\": \"AQAD58AxG_J--Epy\", \"file_size\": 7956, \"width\": 320, \"height\": 213}, {\"file_id\": \"AgACAgIAAxkDAAIJjmLe1CwIC92Gr2rWxZhZnC_IpJbgAALnwDEb8n74SiiQuOgRRpWVAQADAgADeAADKQQ\", \"file_unique_id\": \"AQAD58AxG_J--Ep9\", \"file_size\": 12210, \"width\": 432, \"height\": 288}]}>"
      ]
     },
     "execution_count": 87,
     "metadata": {},
     "output_type": "execute_result"
    },
    {
     "name": "stderr",
     "output_type": "stream",
     "text": [
      "Cause exception while getting updates.\n",
      "Traceback (most recent call last):\n",
      "  File \"/home/dima/anaconda3/envs/f4/lib/python3.9/site-packages/aiogram/bot/api.py\", line 139, in make_request\n",
      "    async with session.post(url, data=req, **kwargs) as response:\n",
      "  File \"/home/dima/anaconda3/envs/f4/lib/python3.9/site-packages/aiohttp/client.py\", line 1138, in __aenter__\n",
      "    self._resp = await self._coro\n",
      "  File \"/home/dima/anaconda3/envs/f4/lib/python3.9/site-packages/aiohttp/client.py\", line 559, in _request\n",
      "    await resp.start(conn)\n",
      "  File \"/home/dima/anaconda3/envs/f4/lib/python3.9/site-packages/aiohttp/client_reqrep.py\", line 898, in start\n",
      "    message, payload = await protocol.read()  # type: ignore[union-attr]\n",
      "  File \"/home/dima/anaconda3/envs/f4/lib/python3.9/site-packages/aiohttp/streams.py\", line 616, in read\n",
      "    await self._waiter\n",
      "  File \"/home/dima/anaconda3/envs/f4/lib/python3.9/asyncio/futures.py\", line 284, in __await__\n",
      "    yield self  # This tells Task to wait for completion.\n",
      "  File \"/home/dima/anaconda3/envs/f4/lib/python3.9/asyncio/tasks.py\", line 328, in __wakeup\n",
      "    future.result()\n",
      "  File \"/home/dima/anaconda3/envs/f4/lib/python3.9/asyncio/futures.py\", line 201, in result\n",
      "    raise self._exception\n",
      "aiohttp.client_exceptions.ClientOSError: [Errno 1] [SSL: APPLICATION_DATA_AFTER_CLOSE_NOTIFY] application data after close notify (_ssl.c:2756)\n",
      "\n",
      "During handling of the above exception, another exception occurred:\n",
      "\n",
      "Traceback (most recent call last):\n",
      "  File \"/home/dima/anaconda3/envs/f4/lib/python3.9/site-packages/aiogram/dispatcher/dispatcher.py\", line 381, in start_polling\n",
      "    updates = await self.bot.get_updates(\n",
      "  File \"/home/dima/anaconda3/envs/f4/lib/python3.9/site-packages/aiogram/bot/bot.py\", line 110, in get_updates\n",
      "    result = await self.request(api.Methods.GET_UPDATES, payload)\n",
      "  File \"/home/dima/anaconda3/envs/f4/lib/python3.9/site-packages/aiogram/bot/base.py\", line 231, in request\n",
      "    return await api.make_request(await self.get_session(), self.server, self.__token, method, data, files,\n",
      "  File \"/home/dima/anaconda3/envs/f4/lib/python3.9/site-packages/aiogram/bot/api.py\", line 142, in make_request\n",
      "    raise exceptions.NetworkError(f\"aiohttp client throws an error: {e.__class__.__name__}: {e}\")\n",
      "aiogram.utils.exceptions.NetworkError: Aiohttp client throws an error: ClientOSError: [Errno 1] [SSL: APPLICATION_DATA_AFTER_CLOSE_NOTIFY] application data after close notify (_ssl.c:2756)\n"
     ]
    }
   ],
   "source": [
    "await m.reply_photo(image2file_obj(i))"
   ]
  },
  {
   "cell_type": "code",
   "execution_count": 81,
   "id": "c99c059f-1315-4e9f-85ea-e44d085c3d62",
   "metadata": {},
   "outputs": [
    {
     "data": {
      "image/png": "[encoded data removed]",
      "text/plain": [
       "<PIL.PngImagePlugin.PngImageFile image mode=RGBA size=432x288>"
      ]
     },
     "execution_count": 81,
     "metadata": {},
     "output_type": "execute_result"
    },
    {
     "name": "stderr",
     "output_type": "stream",
     "text": [
      "Cause exception while getting updates.\n",
      "Traceback (most recent call last):\n",
      "  File \"/home/dima/anaconda3/envs/f4/lib/python3.9/site-packages/aiogram/bot/api.py\", line 139, in make_request\n",
      "    async with session.post(url, data=req, **kwargs) as response:\n",
      "  File \"/home/dima/anaconda3/envs/f4/lib/python3.9/site-packages/aiohttp/client.py\", line 1138, in __aenter__\n",
      "    self._resp = await self._coro\n",
      "  File \"/home/dima/anaconda3/envs/f4/lib/python3.9/site-packages/aiohttp/client.py\", line 559, in _request\n",
      "    await resp.start(conn)\n",
      "  File \"/home/dima/anaconda3/envs/f4/lib/python3.9/site-packages/aiohttp/client_reqrep.py\", line 898, in start\n",
      "    message, payload = await protocol.read()  # type: ignore[union-attr]\n",
      "  File \"/home/dima/anaconda3/envs/f4/lib/python3.9/site-packages/aiohttp/streams.py\", line 616, in read\n",
      "    await self._waiter\n",
      "  File \"/home/dima/anaconda3/envs/f4/lib/python3.9/asyncio/futures.py\", line 284, in __await__\n",
      "    yield self  # This tells Task to wait for completion.\n",
      "  File \"/home/dima/anaconda3/envs/f4/lib/python3.9/asyncio/tasks.py\", line 328, in __wakeup\n",
      "    future.result()\n",
      "  File \"/home/dima/anaconda3/envs/f4/lib/python3.9/asyncio/futures.py\", line 201, in result\n",
      "    raise self._exception\n",
      "aiohttp.client_exceptions.ClientOSError: [Errno 1] [SSL: APPLICATION_DATA_AFTER_CLOSE_NOTIFY] application data after close notify (_ssl.c:2756)\n",
      "\n",
      "During handling of the above exception, another exception occurred:\n",
      "\n",
      "Traceback (most recent call last):\n",
      "  File \"/home/dima/anaconda3/envs/f4/lib/python3.9/site-packages/aiogram/dispatcher/dispatcher.py\", line 381, in start_polling\n",
      "    updates = await self.bot.get_updates(\n",
      "  File \"/home/dima/anaconda3/envs/f4/lib/python3.9/site-packages/aiogram/bot/bot.py\", line 110, in get_updates\n",
      "    result = await self.request(api.Methods.GET_UPDATES, payload)\n",
      "  File \"/home/dima/anaconda3/envs/f4/lib/python3.9/site-packages/aiogram/bot/base.py\", line 231, in request\n",
      "    return await api.make_request(await self.get_session(), self.server, self.__token, method, data, files,\n",
      "  File \"/home/dima/anaconda3/envs/f4/lib/python3.9/site-packages/aiogram/bot/api.py\", line 142, in make_request\n",
      "    raise exceptions.NetworkError(f\"aiohttp client throws an error: {e.__class__.__name__}: {e}\")\n",
      "aiogram.utils.exceptions.NetworkError: Aiohttp client throws an error: ClientOSError: [Errno 1] [SSL: APPLICATION_DATA_AFTER_CLOSE_NOTIFY] application data after close notify (_ssl.c:2756)\n"
     ]
    }
   ],
   "source": [
    "i"
   ]
  },
  {
   "cell_type": "code",
   "execution_count": null,
   "id": "a808c4af-00ee-4cd9-ad5c-9dc76d29b946",
   "metadata": {},
   "outputs": [],
   "source": []
  },
  {
   "cell_type": "code",
   "execution_count": 69,
   "id": "5fb628ba-c674-423f-bff7-fe7f5e1b4bc5",
   "metadata": {},
   "outputs": [],
   "source": [
    "import io"
   ]
  },
  {
   "cell_type": "code",
   "execution_count": 78,
   "id": "209099cf-3fdd-4872-a261-978827f04308",
   "metadata": {},
   "outputs": [],
   "source": [
    "\n",
    "    "
   ]
  },
  {
   "cell_type": "code",
   "execution_count": 76,
   "id": "a232e2e6-dd5e-444c-894b-8ffae89e86c2",
   "metadata": {},
   "outputs": [],
   "source": [
    "o = io.BytesIO()\n",
    "i.save(o, format=i.format)\n",
    "o = o.getvalue()"
   ]
  },
  {
   "cell_type": "code",
   "execution_count": 77,
   "id": "7e72de79-0cf9-4f56-b236-3d95c4c110fb",
   "metadata": {},
   "outputs": [
    {
     "data": {
      "text/plain": [
       "<Message {\"message_id\": 2441, \"from\": {\"id\": 5091011572, \"is_bot\": true, \"first_name\": \"calorie_bot\", \"username\": \"food_classifier_bot\"}, \"chat\": {\"id\": 78882798, \"first_name\": \"Dmitry\", \"last_name\": \"Grankin\", \"username\": \"dmitry_grankin\", \"type\": \"private\"}, \"date\": 1658769360, \"reply_to_message\": {\"message_id\": 2438, \"from\": {\"id\": 78882798, \"is_bot\": false, \"first_name\": \"Dmitry\", \"last_name\": \"Grankin\", \"username\": \"dmitry_grankin\", \"language_code\": \"en\"}, \"chat\": {\"id\": 78882798, \"first_name\": \"Dmitry\", \"last_name\": \"Grankin\", \"username\": \"dmitry_grankin\", \"type\": \"private\"}, \"date\": 1658768961, \"photo\": [{\"file_id\": \"AgACAgIAAxkBAAIJhmLezkE6uExbu6e-IDmI92c9eV7_AALAwDEb8n74ShMXBTVsclUgAQADAgADcwADKQQ\", \"file_unique_id\": \"AQADwMAxG_J--Ep4\", \"file_size\": 1209, \"width\": 90, \"height\": 51}, {\"file_id\": \"AgACAgIAAxkBAAIJhmLezkE6uExbu6e-IDmI92c9eV7_AALAwDEb8n74ShMXBTVsclUgAQADAgADbQADKQQ\", \"file_unique_id\": \"AQADwMAxG_J--Epy\", \"file_size\": 16215, \"width\": 320, \"height\": 180}, {\"file_id\": \"AgACAgIAAxkBAAIJhmLezkE6uExbu6e-IDmI92c9eV7_AALAwDEb8n74ShMXBTVsclUgAQADAgADeAADKQQ\", \"file_unique_id\": \"AQADwMAxG_J--Ep9\", \"file_size\": 73712, \"width\": 800, \"height\": 450}, {\"file_id\": \"AgACAgIAAxkBAAIJhmLezkE6uExbu6e-IDmI92c9eV7_AALAwDEb8n74ShMXBTVsclUgAQADAgADeQADKQQ\", \"file_unique_id\": \"AQADwMAxG_J--Ep-\", \"file_size\": 117447, \"width\": 1280, \"height\": 720}]}, \"photo\": [{\"file_id\": \"AgACAgIAAxkDAAIJiWLez9B6zwoG_JWrDEHamM9hYIt_AALXwDEb8n74SiTyGf1ihtiXAQADAgADcwADKQQ\", \"file_unique_id\": \"AQAD18AxG_J--Ep4\", \"file_size\": 881, \"width\": 90, \"height\": 60}, {\"file_id\": \"AgACAgIAAxkDAAIJiWLez9B6zwoG_JWrDEHamM9hYIt_AALXwDEb8n74SiTyGf1ihtiXAQADAgADbQADKQQ\", \"file_unique_id\": \"AQAD18AxG_J--Epy\", \"file_size\": 7468, \"width\": 320, \"height\": 213}, {\"file_id\": \"AgACAgIAAxkDAAIJiWLez9B6zwoG_JWrDEHamM9hYIt_AALXwDEb8n74SiTyGf1ihtiXAQADAgADeAADKQQ\", \"file_unique_id\": \"AQAD18AxG_J--Ep9\", \"file_size\": 11483, \"width\": 432, \"height\": 288}]}>"
      ]
     },
     "execution_count": 77,
     "metadata": {},
     "output_type": "execute_result"
    }
   ],
   "source": [
    "await m.reply_photo(o)"
   ]
  },
  {
   "cell_type": "code",
   "execution_count": 64,
   "id": "619fb668-4880-440c-af06-1e7ea8cd4384",
   "metadata": {},
   "outputs": [
    {
     "name": "stderr",
     "output_type": "stream",
     "text": [
      "Task exception was never retrieved\n",
      "future: <Task finished name='Task-119' coro=<Dispatcher._process_polling_updates() done, defined at /home/dima/anaconda3/envs/f4/lib/python3.9/site-packages/aiogram/dispatcher/dispatcher.py:407> exception=TypeError(\"Can not serialize value type: <class 'PIL.PngImagePlugin.PngImageFile'>\\n headers: {}\\n value: <PIL.PngImagePlugin.PngImageFile image mode=RGBA size=432x288 at 0x7FCDBC3F4AC0>\")>\n",
      "Traceback (most recent call last):\n",
      "  File \"/home/dima/anaconda3/envs/f4/lib/python3.9/site-packages/aiohttp/formdata.py\", line 145, in _gen_form_data\n",
      "    part = payload.get_payload(\n",
      "  File \"/home/dima/anaconda3/envs/f4/lib/python3.9/site-packages/aiohttp/payload.py\", line 71, in get_payload\n",
      "    return PAYLOAD_REGISTRY.get(data, *args, **kwargs)\n",
      "  File \"/home/dima/anaconda3/envs/f4/lib/python3.9/site-packages/aiohttp/payload.py\", line 118, in get\n",
      "    raise LookupError()\n",
      "aiohttp.payload.LookupError\n",
      "\n",
      "The above exception was the direct cause of the following exception:\n",
      "\n",
      "Traceback (most recent call last):\n",
      "  File \"/home/dima/anaconda3/envs/f4/lib/python3.9/asyncio/tasks.py\", line 258, in __step\n",
      "    result = coro.throw(exc)\n",
      "  File \"/home/dima/anaconda3/envs/f4/lib/python3.9/site-packages/aiogram/dispatcher/dispatcher.py\", line 415, in _process_polling_updates\n",
      "    for responses in itertools.chain.from_iterable(await self.process_updates(updates, fast)):\n",
      "  File \"/home/dima/anaconda3/envs/f4/lib/python3.9/site-packages/aiogram/dispatcher/dispatcher.py\", line 235, in process_updates\n",
      "    return await asyncio.gather(*tasks)\n",
      "  File \"/home/dima/anaconda3/envs/f4/lib/python3.9/asyncio/tasks.py\", line 328, in __wakeup\n",
      "    future.result()\n",
      "  File \"/home/dima/anaconda3/envs/f4/lib/python3.9/asyncio/tasks.py\", line 256, in __step\n",
      "    result = coro.send(None)\n",
      "  File \"/home/dima/anaconda3/envs/f4/lib/python3.9/site-packages/aiogram/dispatcher/handler.py\", line 116, in notify\n",
      "    response = await handler_obj.handler(*args, **partial_data)\n",
      "  File \"/home/dima/anaconda3/envs/f4/lib/python3.9/site-packages/aiogram/dispatcher/dispatcher.py\", line 256, in process_update\n",
      "    return await self.message_handlers.notify(update.message)\n",
      "  File \"/home/dima/anaconda3/envs/f4/lib/python3.9/site-packages/aiogram/dispatcher/handler.py\", line 116, in notify\n",
      "    response = await handler_obj.handler(*args, **partial_data)\n",
      "  File \"/tmp/ipykernel_3198376/3870659058.py\", line 16, in process_photo\n",
      "    await bot.send_photo(message.from_user.id, img)\n",
      "  File \"/home/dima/anaconda3/envs/f4/lib/python3.9/site-packages/aiogram/bot/bot.py\", line 532, in send_photo\n",
      "    result = await self.request(api.Methods.SEND_PHOTO, payload, files)\n",
      "  File \"/home/dima/anaconda3/envs/f4/lib/python3.9/site-packages/aiogram/bot/base.py\", line 231, in request\n",
      "    return await api.make_request(await self.get_session(), self.server, self.__token, method, data, files,\n",
      "  File \"/home/dima/anaconda3/envs/f4/lib/python3.9/site-packages/aiogram/bot/api.py\", line 139, in make_request\n",
      "    async with session.post(url, data=req, **kwargs) as response:\n",
      "  File \"/home/dima/anaconda3/envs/f4/lib/python3.9/site-packages/aiohttp/client.py\", line 1138, in __aenter__\n",
      "    self._resp = await self._coro\n",
      "  File \"/home/dima/anaconda3/envs/f4/lib/python3.9/site-packages/aiohttp/client.py\", line 507, in _request\n",
      "    req = self._request_class(\n",
      "  File \"/home/dima/anaconda3/envs/f4/lib/python3.9/site-packages/aiohttp/client_reqrep.py\", line 313, in __init__\n",
      "    self.update_body_from_data(data)\n",
      "  File \"/home/dima/anaconda3/envs/f4/lib/python3.9/site-packages/aiohttp/client_reqrep.py\", line 507, in update_body_from_data\n",
      "    body = body()\n",
      "  File \"/home/dima/anaconda3/envs/f4/lib/python3.9/site-packages/aiohttp/formdata.py\", line 170, in __call__\n",
      "    return self._gen_form_data()\n",
      "  File \"/home/dima/anaconda3/envs/f4/lib/python3.9/site-packages/aiohttp/formdata.py\", line 149, in _gen_form_data\n",
      "    raise TypeError(\n",
      "TypeError: Can not serialize value type: <class 'PIL.PngImagePlugin.PngImageFile'>\n",
      " headers: {}\n",
      " value: <PIL.PngImagePlugin.PngImageFile image mode=RGBA size=432x288 at 0x7FCDBC3F4AC0>\n",
      "Task exception was never retrieved\n",
      "future: <Task finished name='Task-116' coro=<Dispatcher.start_polling() done, defined at /home/dima/anaconda3/envs/f4/lib/python3.9/site-packages/aiogram/dispatcher/dispatcher.py:335> exception=InvalidStateError('FINISHED: <Future finished result=None>')>\n",
      "Traceback (most recent call last):\n",
      "  File \"/home/dima/anaconda3/envs/f4/lib/python3.9/asyncio/tasks.py\", line 256, in __step\n",
      "    result = coro.send(None)\n",
      "  File \"/home/dima/anaconda3/envs/f4/lib/python3.9/site-packages/aiogram/dispatcher/dispatcher.py\", line 404, in start_polling\n",
      "    self._close_waiter.set_result(None)\n",
      "  File \"/home/dima/anaconda3/envs/f4/lib/python3.9/asyncio/futures.py\", line 258, in set_result\n",
      "    raise exceptions.InvalidStateError(f'{self._state}: {self!r}')\n",
      "asyncio.exceptions.InvalidStateError: FINISHED: <Future finished result=None>\n",
      "Task exception was never retrieved\n",
      "future: <Task finished name='Task-136' coro=<Dispatcher._process_polling_updates() done, defined at /home/dima/anaconda3/envs/f4/lib/python3.9/site-packages/aiogram/dispatcher/dispatcher.py:407> exception=TypeError(\"Can not serialize value type: <class 'PIL.PngImagePlugin.PngImageFile'>\\n headers: {}\\n value: <PIL.PngImagePlugin.PngImageFile image mode=RGBA size=432x288 at 0x7FCDB479C4F0>\")>\n",
      "Traceback (most recent call last):\n",
      "  File \"/home/dima/anaconda3/envs/f4/lib/python3.9/site-packages/aiohttp/formdata.py\", line 145, in _gen_form_data\n",
      "    part = payload.get_payload(\n",
      "  File \"/home/dima/anaconda3/envs/f4/lib/python3.9/site-packages/aiohttp/payload.py\", line 71, in get_payload\n",
      "    return PAYLOAD_REGISTRY.get(data, *args, **kwargs)\n",
      "  File \"/home/dima/anaconda3/envs/f4/lib/python3.9/site-packages/aiohttp/payload.py\", line 118, in get\n",
      "    raise LookupError()\n",
      "aiohttp.payload.LookupError\n",
      "\n",
      "The above exception was the direct cause of the following exception:\n",
      "\n",
      "Traceback (most recent call last):\n",
      "  File \"/home/dima/anaconda3/envs/f4/lib/python3.9/asyncio/tasks.py\", line 258, in __step\n",
      "    result = coro.throw(exc)\n",
      "  File \"/home/dima/anaconda3/envs/f4/lib/python3.9/site-packages/aiogram/dispatcher/dispatcher.py\", line 415, in _process_polling_updates\n",
      "    for responses in itertools.chain.from_iterable(await self.process_updates(updates, fast)):\n",
      "  File \"/home/dima/anaconda3/envs/f4/lib/python3.9/site-packages/aiogram/dispatcher/dispatcher.py\", line 235, in process_updates\n",
      "    return await asyncio.gather(*tasks)\n",
      "  File \"/home/dima/anaconda3/envs/f4/lib/python3.9/asyncio/tasks.py\", line 328, in __wakeup\n",
      "    future.result()\n",
      "  File \"/home/dima/anaconda3/envs/f4/lib/python3.9/asyncio/tasks.py\", line 256, in __step\n",
      "    result = coro.send(None)\n",
      "  File \"/home/dima/anaconda3/envs/f4/lib/python3.9/site-packages/aiogram/dispatcher/handler.py\", line 116, in notify\n",
      "    response = await handler_obj.handler(*args, **partial_data)\n",
      "  File \"/home/dima/anaconda3/envs/f4/lib/python3.9/site-packages/aiogram/dispatcher/dispatcher.py\", line 256, in process_update\n",
      "    return await self.message_handlers.notify(update.message)\n",
      "  File \"/home/dima/anaconda3/envs/f4/lib/python3.9/site-packages/aiogram/dispatcher/handler.py\", line 116, in notify\n",
      "    response = await handler_obj.handler(*args, **partial_data)\n",
      "  File \"/tmp/ipykernel_3198376/3870659058.py\", line 16, in process_photo\n",
      "    await bot.send_photo(message.from_user.id, img)\n",
      "  File \"/home/dima/anaconda3/envs/f4/lib/python3.9/site-packages/aiogram/bot/bot.py\", line 532, in send_photo\n",
      "    result = await self.request(api.Methods.SEND_PHOTO, payload, files)\n",
      "  File \"/home/dima/anaconda3/envs/f4/lib/python3.9/site-packages/aiogram/bot/base.py\", line 231, in request\n",
      "    return await api.make_request(await self.get_session(), self.server, self.__token, method, data, files,\n",
      "  File \"/home/dima/anaconda3/envs/f4/lib/python3.9/site-packages/aiogram/bot/api.py\", line 139, in make_request\n",
      "    async with session.post(url, data=req, **kwargs) as response:\n",
      "  File \"/home/dima/anaconda3/envs/f4/lib/python3.9/site-packages/aiohttp/client.py\", line 1138, in __aenter__\n",
      "    self._resp = await self._coro\n",
      "  File \"/home/dima/anaconda3/envs/f4/lib/python3.9/site-packages/aiohttp/client.py\", line 507, in _request\n",
      "    req = self._request_class(\n",
      "  File \"/home/dima/anaconda3/envs/f4/lib/python3.9/site-packages/aiohttp/client_reqrep.py\", line 313, in __init__\n",
      "    self.update_body_from_data(data)\n",
      "  File \"/home/dima/anaconda3/envs/f4/lib/python3.9/site-packages/aiohttp/client_reqrep.py\", line 507, in update_body_from_data\n",
      "    body = body()\n",
      "  File \"/home/dima/anaconda3/envs/f4/lib/python3.9/site-packages/aiohttp/formdata.py\", line 170, in __call__\n",
      "    return self._gen_form_data()\n",
      "  File \"/home/dima/anaconda3/envs/f4/lib/python3.9/site-packages/aiohttp/formdata.py\", line 149, in _gen_form_data\n",
      "    raise TypeError(\n",
      "TypeError: Can not serialize value type: <class 'PIL.PngImagePlugin.PngImageFile'>\n",
      " headers: {}\n",
      " value: <PIL.PngImagePlugin.PngImageFile image mode=RGBA size=432x288 at 0x7FCDB479C4F0>\n",
      "Task exception was never retrieved\n",
      "future: <Task finished name='Task-163' coro=<Dispatcher._process_polling_updates() done, defined at /home/dima/anaconda3/envs/f4/lib/python3.9/site-packages/aiogram/dispatcher/dispatcher.py:407> exception=TypeError(\"Can not serialize value type: <class 'PIL.PngImagePlugin.PngImageFile'>\\n headers: {}\\n value: <PIL.PngImagePlugin.PngImageFile image mode=RGBA size=432x288 at 0x7FCDBC4D7EB0>\")>\n",
      "Traceback (most recent call last):\n",
      "  File \"/home/dima/anaconda3/envs/f4/lib/python3.9/site-packages/aiohttp/formdata.py\", line 145, in _gen_form_data\n",
      "    part = payload.get_payload(\n",
      "  File \"/home/dima/anaconda3/envs/f4/lib/python3.9/site-packages/aiohttp/payload.py\", line 71, in get_payload\n",
      "    return PAYLOAD_REGISTRY.get(data, *args, **kwargs)\n",
      "  File \"/home/dima/anaconda3/envs/f4/lib/python3.9/site-packages/aiohttp/payload.py\", line 118, in get\n",
      "    raise LookupError()\n",
      "aiohttp.payload.LookupError\n",
      "\n",
      "The above exception was the direct cause of the following exception:\n",
      "\n",
      "Traceback (most recent call last):\n",
      "  File \"/home/dima/anaconda3/envs/f4/lib/python3.9/asyncio/tasks.py\", line 258, in __step\n",
      "    result = coro.throw(exc)\n",
      "  File \"/home/dima/anaconda3/envs/f4/lib/python3.9/site-packages/aiogram/dispatcher/dispatcher.py\", line 415, in _process_polling_updates\n",
      "    for responses in itertools.chain.from_iterable(await self.process_updates(updates, fast)):\n",
      "  File \"/home/dima/anaconda3/envs/f4/lib/python3.9/site-packages/aiogram/dispatcher/dispatcher.py\", line 235, in process_updates\n",
      "    return await asyncio.gather(*tasks)\n",
      "  File \"/home/dima/anaconda3/envs/f4/lib/python3.9/asyncio/tasks.py\", line 328, in __wakeup\n",
      "    future.result()\n",
      "  File \"/home/dima/anaconda3/envs/f4/lib/python3.9/asyncio/tasks.py\", line 256, in __step\n",
      "    result = coro.send(None)\n",
      "  File \"/home/dima/anaconda3/envs/f4/lib/python3.9/site-packages/aiogram/dispatcher/handler.py\", line 116, in notify\n",
      "    response = await handler_obj.handler(*args, **partial_data)\n",
      "  File \"/home/dima/anaconda3/envs/f4/lib/python3.9/site-packages/aiogram/dispatcher/dispatcher.py\", line 256, in process_update\n",
      "    return await self.message_handlers.notify(update.message)\n",
      "  File \"/home/dima/anaconda3/envs/f4/lib/python3.9/site-packages/aiogram/dispatcher/handler.py\", line 116, in notify\n",
      "    response = await handler_obj.handler(*args, **partial_data)\n",
      "  File \"/tmp/ipykernel_3198376/3870659058.py\", line 16, in process_photo\n",
      "    await bot.send_photo(message.from_user.id, img)\n",
      "  File \"/home/dima/anaconda3/envs/f4/lib/python3.9/site-packages/aiogram/bot/bot.py\", line 532, in send_photo\n",
      "    result = await self.request(api.Methods.SEND_PHOTO, payload, files)\n",
      "  File \"/home/dima/anaconda3/envs/f4/lib/python3.9/site-packages/aiogram/bot/base.py\", line 231, in request\n",
      "    return await api.make_request(await self.get_session(), self.server, self.__token, method, data, files,\n",
      "  File \"/home/dima/anaconda3/envs/f4/lib/python3.9/site-packages/aiogram/bot/api.py\", line 139, in make_request\n",
      "    async with session.post(url, data=req, **kwargs) as response:\n",
      "  File \"/home/dima/anaconda3/envs/f4/lib/python3.9/site-packages/aiohttp/client.py\", line 1138, in __aenter__\n",
      "    self._resp = await self._coro\n",
      "  File \"/home/dima/anaconda3/envs/f4/lib/python3.9/site-packages/aiohttp/client.py\", line 507, in _request\n",
      "    req = self._request_class(\n",
      "  File \"/home/dima/anaconda3/envs/f4/lib/python3.9/site-packages/aiohttp/client_reqrep.py\", line 313, in __init__\n",
      "    self.update_body_from_data(data)\n",
      "  File \"/home/dima/anaconda3/envs/f4/lib/python3.9/site-packages/aiohttp/client_reqrep.py\", line 507, in update_body_from_data\n",
      "    body = body()\n",
      "  File \"/home/dima/anaconda3/envs/f4/lib/python3.9/site-packages/aiohttp/formdata.py\", line 170, in __call__\n",
      "    return self._gen_form_data()\n",
      "  File \"/home/dima/anaconda3/envs/f4/lib/python3.9/site-packages/aiohttp/formdata.py\", line 149, in _gen_form_data\n",
      "    raise TypeError(\n",
      "TypeError: Can not serialize value type: <class 'PIL.PngImagePlugin.PngImageFile'>\n",
      " headers: {}\n",
      " value: <PIL.PngImagePlugin.PngImageFile image mode=RGBA size=432x288 at 0x7FCDBC4D7EB0>\n",
      "Task exception was never retrieved\n",
      "future: <Task finished name='Task-159' coro=<Dispatcher.start_polling() done, defined at /home/dima/anaconda3/envs/f4/lib/python3.9/site-packages/aiogram/dispatcher/dispatcher.py:335> exception=InvalidStateError('FINISHED: <Future finished result=None>')>\n",
      "Traceback (most recent call last):\n",
      "  File \"/home/dima/anaconda3/envs/f4/lib/python3.9/asyncio/tasks.py\", line 256, in __step\n",
      "    result = coro.send(None)\n",
      "  File \"/home/dima/anaconda3/envs/f4/lib/python3.9/site-packages/aiogram/dispatcher/dispatcher.py\", line 404, in start_polling\n",
      "    self._close_waiter.set_result(None)\n",
      "  File \"/home/dima/anaconda3/envs/f4/lib/python3.9/asyncio/futures.py\", line 258, in set_result\n",
      "    raise exceptions.InvalidStateError(f'{self._state}: {self!r}')\n",
      "asyncio.exceptions.InvalidStateError: FINISHED: <Future finished result=None>\n",
      "Task exception was never retrieved\n",
      "future: <Task finished name='Task-178' coro=<Dispatcher._process_polling_updates() done, defined at /home/dima/anaconda3/envs/f4/lib/python3.9/site-packages/aiogram/dispatcher/dispatcher.py:407> exception=TypeError(\"Can not serialize value type: <class 'PIL.PngImagePlugin.PngImageFile'>\\n headers: {}\\n value: <PIL.PngImagePlugin.PngImageFile image mode=RGBA size=432x288 at 0x7FCDAC6FA4F0>\")>\n",
      "Traceback (most recent call last):\n",
      "  File \"/home/dima/anaconda3/envs/f4/lib/python3.9/site-packages/aiohttp/formdata.py\", line 145, in _gen_form_data\n",
      "    part = payload.get_payload(\n",
      "  File \"/home/dima/anaconda3/envs/f4/lib/python3.9/site-packages/aiohttp/payload.py\", line 71, in get_payload\n",
      "    return PAYLOAD_REGISTRY.get(data, *args, **kwargs)\n",
      "  File \"/home/dima/anaconda3/envs/f4/lib/python3.9/site-packages/aiohttp/payload.py\", line 118, in get\n",
      "    raise LookupError()\n",
      "aiohttp.payload.LookupError\n",
      "\n",
      "The above exception was the direct cause of the following exception:\n",
      "\n",
      "Traceback (most recent call last):\n",
      "  File \"/home/dima/anaconda3/envs/f4/lib/python3.9/asyncio/tasks.py\", line 258, in __step\n",
      "    result = coro.throw(exc)\n",
      "  File \"/home/dima/anaconda3/envs/f4/lib/python3.9/site-packages/aiogram/dispatcher/dispatcher.py\", line 415, in _process_polling_updates\n",
      "    for responses in itertools.chain.from_iterable(await self.process_updates(updates, fast)):\n",
      "  File \"/home/dima/anaconda3/envs/f4/lib/python3.9/site-packages/aiogram/dispatcher/dispatcher.py\", line 235, in process_updates\n",
      "    return await asyncio.gather(*tasks)\n",
      "  File \"/home/dima/anaconda3/envs/f4/lib/python3.9/asyncio/tasks.py\", line 328, in __wakeup\n",
      "    future.result()\n",
      "  File \"/home/dima/anaconda3/envs/f4/lib/python3.9/asyncio/tasks.py\", line 256, in __step\n",
      "    result = coro.send(None)\n",
      "  File \"/home/dima/anaconda3/envs/f4/lib/python3.9/site-packages/aiogram/dispatcher/handler.py\", line 116, in notify\n",
      "    response = await handler_obj.handler(*args, **partial_data)\n",
      "  File \"/home/dima/anaconda3/envs/f4/lib/python3.9/site-packages/aiogram/dispatcher/dispatcher.py\", line 256, in process_update\n",
      "    return await self.message_handlers.notify(update.message)\n",
      "  File \"/home/dima/anaconda3/envs/f4/lib/python3.9/site-packages/aiogram/dispatcher/handler.py\", line 116, in notify\n",
      "    response = await handler_obj.handler(*args, **partial_data)\n",
      "  File \"/tmp/ipykernel_3198376/3870659058.py\", line 16, in process_photo\n",
      "    await bot.send_photo(message.from_user.id, img)\n",
      "  File \"/home/dima/anaconda3/envs/f4/lib/python3.9/site-packages/aiogram/bot/bot.py\", line 532, in send_photo\n",
      "    result = await self.request(api.Methods.SEND_PHOTO, payload, files)\n",
      "  File \"/home/dima/anaconda3/envs/f4/lib/python3.9/site-packages/aiogram/bot/base.py\", line 231, in request\n",
      "    return await api.make_request(await self.get_session(), self.server, self.__token, method, data, files,\n",
      "  File \"/home/dima/anaconda3/envs/f4/lib/python3.9/site-packages/aiogram/bot/api.py\", line 139, in make_request\n",
      "    async with session.post(url, data=req, **kwargs) as response:\n",
      "  File \"/home/dima/anaconda3/envs/f4/lib/python3.9/site-packages/aiohttp/client.py\", line 1138, in __aenter__\n",
      "    self._resp = await self._coro\n",
      "  File \"/home/dima/anaconda3/envs/f4/lib/python3.9/site-packages/aiohttp/client.py\", line 507, in _request\n",
      "    req = self._request_class(\n",
      "  File \"/home/dima/anaconda3/envs/f4/lib/python3.9/site-packages/aiohttp/client_reqrep.py\", line 313, in __init__\n",
      "    self.update_body_from_data(data)\n",
      "  File \"/home/dima/anaconda3/envs/f4/lib/python3.9/site-packages/aiohttp/client_reqrep.py\", line 507, in update_body_from_data\n",
      "    body = body()\n",
      "  File \"/home/dima/anaconda3/envs/f4/lib/python3.9/site-packages/aiohttp/formdata.py\", line 170, in __call__\n",
      "    return self._gen_form_data()\n",
      "  File \"/home/dima/anaconda3/envs/f4/lib/python3.9/site-packages/aiohttp/formdata.py\", line 149, in _gen_form_data\n",
      "    raise TypeError(\n",
      "TypeError: Can not serialize value type: <class 'PIL.PngImagePlugin.PngImageFile'>\n",
      " headers: {}\n",
      " value: <PIL.PngImagePlugin.PngImageFile image mode=RGBA size=432x288 at 0x7FCDAC6FA4F0>\n",
      "Task exception was never retrieved\n",
      "future: <Task finished name='Task-174' coro=<Dispatcher.start_polling() done, defined at /home/dima/anaconda3/envs/f4/lib/python3.9/site-packages/aiogram/dispatcher/dispatcher.py:335> exception=InvalidStateError('FINISHED: <Future finished result=None>')>\n",
      "Traceback (most recent call last):\n",
      "  File \"/home/dima/anaconda3/envs/f4/lib/python3.9/asyncio/tasks.py\", line 256, in __step\n",
      "    result = coro.send(None)\n",
      "  File \"/home/dima/anaconda3/envs/f4/lib/python3.9/site-packages/aiogram/dispatcher/dispatcher.py\", line 404, in start_polling\n",
      "    self._close_waiter.set_result(None)\n",
      "  File \"/home/dima/anaconda3/envs/f4/lib/python3.9/asyncio/futures.py\", line 258, in set_result\n",
      "    raise exceptions.InvalidStateError(f'{self._state}: {self!r}')\n",
      "asyncio.exceptions.InvalidStateError: FINISHED: <Future finished result=None>\n"
     ]
    },
    {
     "ename": "TypeError",
     "evalue": "Can not serialize value type: <class 'PIL.PngImagePlugin.PngImageFile'>\n headers: {}\n value: <PIL.PngImagePlugin.PngImageFile image mode=RGBA size=432x288 at 0x7FCDAC6FA4F0>",
     "output_type": "error",
     "traceback": [
      "\u001b[0;31m---------------------------------------------------------------------------\u001b[0m",
      "\u001b[0;31mLookupError\u001b[0m                               Traceback (most recent call last)",
      "File \u001b[0;32m~/anaconda3/envs/f4/lib/python3.9/site-packages/aiohttp/formdata.py:145\u001b[0m, in \u001b[0;36mFormData._gen_form_data\u001b[0;34m(self)\u001b[0m\n\u001b[1;32m    144\u001b[0m     \u001b[38;5;28;01melse\u001b[39;00m:\n\u001b[0;32m--> 145\u001b[0m         part \u001b[38;5;241m=\u001b[39m \u001b[43mpayload\u001b[49m\u001b[38;5;241;43m.\u001b[39;49m\u001b[43mget_payload\u001b[49m\u001b[43m(\u001b[49m\n\u001b[1;32m    146\u001b[0m \u001b[43m            \u001b[49m\u001b[43mvalue\u001b[49m\u001b[43m,\u001b[49m\u001b[43m \u001b[49m\u001b[43mheaders\u001b[49m\u001b[38;5;241;43m=\u001b[39;49m\u001b[43mheaders\u001b[49m\u001b[43m,\u001b[49m\u001b[43m \u001b[49m\u001b[43mencoding\u001b[49m\u001b[38;5;241;43m=\u001b[39;49m\u001b[38;5;28;43mself\u001b[39;49m\u001b[38;5;241;43m.\u001b[39;49m\u001b[43m_charset\u001b[49m\n\u001b[1;32m    147\u001b[0m \u001b[43m        \u001b[49m\u001b[43m)\u001b[49m\n\u001b[1;32m    148\u001b[0m \u001b[38;5;28;01mexcept\u001b[39;00m \u001b[38;5;167;01mException\u001b[39;00m \u001b[38;5;28;01mas\u001b[39;00m exc:\n",
      "File \u001b[0;32m~/anaconda3/envs/f4/lib/python3.9/site-packages/aiohttp/payload.py:71\u001b[0m, in \u001b[0;36mget_payload\u001b[0;34m(data, *args, **kwargs)\u001b[0m\n\u001b[1;32m     70\u001b[0m \u001b[38;5;28;01mdef\u001b[39;00m \u001b[38;5;21mget_payload\u001b[39m(data: Any, \u001b[38;5;241m*\u001b[39margs: Any, \u001b[38;5;241m*\u001b[39m\u001b[38;5;241m*\u001b[39mkwargs: Any) \u001b[38;5;241m-\u001b[39m\u001b[38;5;241m>\u001b[39m \u001b[38;5;124m\"\u001b[39m\u001b[38;5;124mPayload\u001b[39m\u001b[38;5;124m\"\u001b[39m:\n\u001b[0;32m---> 71\u001b[0m     \u001b[38;5;28;01mreturn\u001b[39;00m \u001b[43mPAYLOAD_REGISTRY\u001b[49m\u001b[38;5;241;43m.\u001b[39;49m\u001b[43mget\u001b[49m\u001b[43m(\u001b[49m\u001b[43mdata\u001b[49m\u001b[43m,\u001b[49m\u001b[43m \u001b[49m\u001b[38;5;241;43m*\u001b[39;49m\u001b[43margs\u001b[49m\u001b[43m,\u001b[49m\u001b[43m \u001b[49m\u001b[38;5;241;43m*\u001b[39;49m\u001b[38;5;241;43m*\u001b[39;49m\u001b[43mkwargs\u001b[49m\u001b[43m)\u001b[49m\n",
      "File \u001b[0;32m~/anaconda3/envs/f4/lib/python3.9/site-packages/aiohttp/payload.py:118\u001b[0m, in \u001b[0;36mPayloadRegistry.get\u001b[0;34m(self, data, _CHAIN, *args, **kwargs)\u001b[0m\n\u001b[1;32m    116\u001b[0m         \u001b[38;5;28;01mreturn\u001b[39;00m factory(data, \u001b[38;5;241m*\u001b[39margs, \u001b[38;5;241m*\u001b[39m\u001b[38;5;241m*\u001b[39mkwargs)\n\u001b[0;32m--> 118\u001b[0m \u001b[38;5;28;01mraise\u001b[39;00m \u001b[38;5;167;01mLookupError\u001b[39;00m()\n",
      "\u001b[0;31mLookupError\u001b[0m: ",
      "\nThe above exception was the direct cause of the following exception:\n",
      "\u001b[0;31mTypeError\u001b[0m                                 Traceback (most recent call last)",
      "Input \u001b[0;32mIn [64]\u001b[0m, in \u001b[0;36m<cell line: 1>\u001b[0;34m()\u001b[0m\n\u001b[0;32m----> 1\u001b[0m \u001b[38;5;28;01mawait\u001b[39;00m m\u001b[38;5;241m.\u001b[39mreply_photo(i)\n",
      "File \u001b[0;32m~/anaconda3/envs/f4/lib/python3.9/site-packages/aiogram/types/message.py:1700\u001b[0m, in \u001b[0;36mMessage.reply_photo\u001b[0;34m(self, photo, caption, parse_mode, caption_entities, disable_notification, protect_content, allow_sending_without_reply, reply_markup, reply)\u001b[0m\n\u001b[1;32m   1641\u001b[0m \u001b[38;5;28;01masync\u001b[39;00m \u001b[38;5;28;01mdef\u001b[39;00m \u001b[38;5;21mreply_photo\u001b[39m(\n\u001b[1;32m   1642\u001b[0m         \u001b[38;5;28mself\u001b[39m,\n\u001b[1;32m   1643\u001b[0m         photo: typing\u001b[38;5;241m.\u001b[39mUnion[base\u001b[38;5;241m.\u001b[39mInputFile, base\u001b[38;5;241m.\u001b[39mString],\n\u001b[0;32m   (...)\u001b[0m\n\u001b[1;32m   1657\u001b[0m         reply: base\u001b[38;5;241m.\u001b[39mBoolean \u001b[38;5;241m=\u001b[39m \u001b[38;5;28;01mTrue\u001b[39;00m,\n\u001b[1;32m   1658\u001b[0m ) \u001b[38;5;241m-\u001b[39m\u001b[38;5;241m>\u001b[39m Message:\n\u001b[1;32m   1659\u001b[0m     \u001b[38;5;124;03m\"\"\"\u001b[39;00m\n\u001b[1;32m   1660\u001b[0m \u001b[38;5;124;03m    Use this method to send photos.\u001b[39;00m\n\u001b[1;32m   1661\u001b[0m \n\u001b[0;32m   (...)\u001b[0m\n\u001b[1;32m   1698\u001b[0m \u001b[38;5;124;03m    :rtype: :obj:`types.Message`\u001b[39;00m\n\u001b[1;32m   1699\u001b[0m \u001b[38;5;124;03m    \"\"\"\u001b[39;00m\n\u001b[0;32m-> 1700\u001b[0m     \u001b[38;5;28;01mreturn\u001b[39;00m \u001b[38;5;28;01mawait\u001b[39;00m \u001b[38;5;28mself\u001b[39m\u001b[38;5;241m.\u001b[39mbot\u001b[38;5;241m.\u001b[39msend_photo(\n\u001b[1;32m   1701\u001b[0m         chat_id\u001b[38;5;241m=\u001b[39m\u001b[38;5;28mself\u001b[39m\u001b[38;5;241m.\u001b[39mchat\u001b[38;5;241m.\u001b[39mid,\n\u001b[1;32m   1702\u001b[0m         photo\u001b[38;5;241m=\u001b[39mphoto,\n\u001b[1;32m   1703\u001b[0m         caption\u001b[38;5;241m=\u001b[39mcaption,\n\u001b[1;32m   1704\u001b[0m         parse_mode\u001b[38;5;241m=\u001b[39mparse_mode,\n\u001b[1;32m   1705\u001b[0m         caption_entities\u001b[38;5;241m=\u001b[39mcaption_entities,\n\u001b[1;32m   1706\u001b[0m         disable_notification\u001b[38;5;241m=\u001b[39mdisable_notification,\n\u001b[1;32m   1707\u001b[0m         protect_content\u001b[38;5;241m=\u001b[39mprotect_content,\n\u001b[1;32m   1708\u001b[0m         reply_to_message_id\u001b[38;5;241m=\u001b[39m\u001b[38;5;28mself\u001b[39m\u001b[38;5;241m.\u001b[39mmessage_id \u001b[38;5;28;01mif\u001b[39;00m reply \u001b[38;5;28;01melse\u001b[39;00m \u001b[38;5;28;01mNone\u001b[39;00m,\n\u001b[1;32m   1709\u001b[0m         allow_sending_without_reply\u001b[38;5;241m=\u001b[39mallow_sending_without_reply,\n\u001b[1;32m   1710\u001b[0m         reply_markup\u001b[38;5;241m=\u001b[39mreply_markup,\n\u001b[1;32m   1711\u001b[0m     )\n",
      "File \u001b[0;32m~/anaconda3/envs/f4/lib/python3.9/site-packages/aiogram/bot/bot.py:532\u001b[0m, in \u001b[0;36mBot.send_photo\u001b[0;34m(self, chat_id, photo, caption, parse_mode, caption_entities, disable_notification, protect_content, reply_to_message_id, allow_sending_without_reply, reply_markup)\u001b[0m\n\u001b[1;32m    529\u001b[0m files \u001b[38;5;241m=\u001b[39m {}\n\u001b[1;32m    530\u001b[0m prepare_file(payload, files, \u001b[38;5;124m'\u001b[39m\u001b[38;5;124mphoto\u001b[39m\u001b[38;5;124m'\u001b[39m, photo)\n\u001b[0;32m--> 532\u001b[0m result \u001b[38;5;241m=\u001b[39m \u001b[38;5;28;01mawait\u001b[39;00m \u001b[38;5;28mself\u001b[39m\u001b[38;5;241m.\u001b[39mrequest(api\u001b[38;5;241m.\u001b[39mMethods\u001b[38;5;241m.\u001b[39mSEND_PHOTO, payload, files)\n\u001b[1;32m    533\u001b[0m \u001b[38;5;28;01mreturn\u001b[39;00m types\u001b[38;5;241m.\u001b[39mMessage(\u001b[38;5;241m*\u001b[39m\u001b[38;5;241m*\u001b[39mresult)\n",
      "File \u001b[0;32m~/anaconda3/envs/f4/lib/python3.9/site-packages/aiogram/bot/base.py:231\u001b[0m, in \u001b[0;36mBaseBot.request\u001b[0;34m(self, method, data, files, **kwargs)\u001b[0m\n\u001b[1;32m    212\u001b[0m \u001b[38;5;28;01masync\u001b[39;00m \u001b[38;5;28;01mdef\u001b[39;00m \u001b[38;5;21mrequest\u001b[39m(\u001b[38;5;28mself\u001b[39m, method: base\u001b[38;5;241m.\u001b[39mString,\n\u001b[1;32m    213\u001b[0m                   data: Optional[Dict] \u001b[38;5;241m=\u001b[39m \u001b[38;5;28;01mNone\u001b[39;00m,\n\u001b[1;32m    214\u001b[0m                   files: Optional[Dict] \u001b[38;5;241m=\u001b[39m \u001b[38;5;28;01mNone\u001b[39;00m, \u001b[38;5;241m*\u001b[39m\u001b[38;5;241m*\u001b[39mkwargs) \u001b[38;5;241m-\u001b[39m\u001b[38;5;241m>\u001b[39m Union[List, Dict, base\u001b[38;5;241m.\u001b[39mBoolean]:\n\u001b[1;32m    215\u001b[0m     \u001b[38;5;124;03m\"\"\"\u001b[39;00m\n\u001b[1;32m    216\u001b[0m \u001b[38;5;124;03m    Make an request to Telegram Bot API\u001b[39;00m\n\u001b[1;32m    217\u001b[0m \n\u001b[0;32m   (...)\u001b[0m\n\u001b[1;32m    228\u001b[0m \u001b[38;5;124;03m    :raise: :obj:`aiogram.exceptions.TelegramApiError`\u001b[39;00m\n\u001b[1;32m    229\u001b[0m \u001b[38;5;124;03m    \"\"\"\u001b[39;00m\n\u001b[0;32m--> 231\u001b[0m     \u001b[38;5;28;01mreturn\u001b[39;00m \u001b[38;5;28;01mawait\u001b[39;00m api\u001b[38;5;241m.\u001b[39mmake_request(\u001b[38;5;28;01mawait\u001b[39;00m \u001b[38;5;28mself\u001b[39m\u001b[38;5;241m.\u001b[39mget_session(), \u001b[38;5;28mself\u001b[39m\u001b[38;5;241m.\u001b[39mserver, \u001b[38;5;28mself\u001b[39m\u001b[38;5;241m.\u001b[39m__token, method, data, files,\n\u001b[1;32m    232\u001b[0m                                   proxy\u001b[38;5;241m=\u001b[39m\u001b[38;5;28mself\u001b[39m\u001b[38;5;241m.\u001b[39mproxy, proxy_auth\u001b[38;5;241m=\u001b[39m\u001b[38;5;28mself\u001b[39m\u001b[38;5;241m.\u001b[39mproxy_auth, timeout\u001b[38;5;241m=\u001b[39m\u001b[38;5;28mself\u001b[39m\u001b[38;5;241m.\u001b[39mtimeout, \u001b[38;5;241m*\u001b[39m\u001b[38;5;241m*\u001b[39mkwargs)\n",
      "File \u001b[0;32m~/anaconda3/envs/f4/lib/python3.9/site-packages/aiogram/bot/api.py:139\u001b[0m, in \u001b[0;36mmake_request\u001b[0;34m(session, server, token, method, data, files, **kwargs)\u001b[0m\n\u001b[1;32m    137\u001b[0m req \u001b[38;5;241m=\u001b[39m compose_data(data, files)\n\u001b[1;32m    138\u001b[0m \u001b[38;5;28;01mtry\u001b[39;00m:\n\u001b[0;32m--> 139\u001b[0m     \u001b[38;5;28;01masync\u001b[39;00m \u001b[38;5;28;01mwith\u001b[39;00m session\u001b[38;5;241m.\u001b[39mpost(url, data\u001b[38;5;241m=\u001b[39mreq, \u001b[38;5;241m*\u001b[39m\u001b[38;5;241m*\u001b[39mkwargs) \u001b[38;5;28;01mas\u001b[39;00m response:\n\u001b[1;32m    140\u001b[0m         \u001b[38;5;28;01mreturn\u001b[39;00m check_result(method, response\u001b[38;5;241m.\u001b[39mcontent_type, response\u001b[38;5;241m.\u001b[39mstatus, \u001b[38;5;28;01mawait\u001b[39;00m response\u001b[38;5;241m.\u001b[39mtext())\n\u001b[1;32m    141\u001b[0m \u001b[38;5;28;01mexcept\u001b[39;00m aiohttp\u001b[38;5;241m.\u001b[39mClientError \u001b[38;5;28;01mas\u001b[39;00m e:\n",
      "File \u001b[0;32m~/anaconda3/envs/f4/lib/python3.9/site-packages/aiohttp/client.py:1138\u001b[0m, in \u001b[0;36m_BaseRequestContextManager.__aenter__\u001b[0;34m(self)\u001b[0m\n\u001b[1;32m   1137\u001b[0m \u001b[38;5;28;01masync\u001b[39;00m \u001b[38;5;28;01mdef\u001b[39;00m \u001b[38;5;21m__aenter__\u001b[39m(\u001b[38;5;28mself\u001b[39m) \u001b[38;5;241m-\u001b[39m\u001b[38;5;241m>\u001b[39m _RetType:\n\u001b[0;32m-> 1138\u001b[0m     \u001b[38;5;28mself\u001b[39m\u001b[38;5;241m.\u001b[39m_resp \u001b[38;5;241m=\u001b[39m \u001b[38;5;28;01mawait\u001b[39;00m \u001b[38;5;28mself\u001b[39m\u001b[38;5;241m.\u001b[39m_coro\n\u001b[1;32m   1139\u001b[0m     \u001b[38;5;28;01mreturn\u001b[39;00m \u001b[38;5;28mself\u001b[39m\u001b[38;5;241m.\u001b[39m_resp\n",
      "File \u001b[0;32m~/anaconda3/envs/f4/lib/python3.9/site-packages/aiohttp/client.py:507\u001b[0m, in \u001b[0;36mClientSession._request\u001b[0;34m(self, method, str_or_url, params, data, json, cookies, headers, skip_auto_headers, auth, allow_redirects, max_redirects, compress, chunked, expect100, raise_for_status, read_until_eof, proxy, proxy_auth, timeout, verify_ssl, fingerprint, ssl_context, ssl, proxy_headers, trace_request_ctx, read_bufsize)\u001b[0m\n\u001b[1;32m    504\u001b[0m     \u001b[38;5;28;01mwith\u001b[39;00m suppress(\u001b[38;5;167;01mLookupError\u001b[39;00m):\n\u001b[1;32m    505\u001b[0m         proxy, proxy_auth \u001b[38;5;241m=\u001b[39m get_env_proxy_for_url(url)\n\u001b[0;32m--> 507\u001b[0m req \u001b[38;5;241m=\u001b[39m \u001b[38;5;28;43mself\u001b[39;49m\u001b[38;5;241;43m.\u001b[39;49m\u001b[43m_request_class\u001b[49m\u001b[43m(\u001b[49m\n\u001b[1;32m    508\u001b[0m \u001b[43m    \u001b[49m\u001b[43mmethod\u001b[49m\u001b[43m,\u001b[49m\n\u001b[1;32m    509\u001b[0m \u001b[43m    \u001b[49m\u001b[43murl\u001b[49m\u001b[43m,\u001b[49m\n\u001b[1;32m    510\u001b[0m \u001b[43m    \u001b[49m\u001b[43mparams\u001b[49m\u001b[38;5;241;43m=\u001b[39;49m\u001b[43mparams\u001b[49m\u001b[43m,\u001b[49m\n\u001b[1;32m    511\u001b[0m \u001b[43m    \u001b[49m\u001b[43mheaders\u001b[49m\u001b[38;5;241;43m=\u001b[39;49m\u001b[43mheaders\u001b[49m\u001b[43m,\u001b[49m\n\u001b[1;32m    512\u001b[0m \u001b[43m    \u001b[49m\u001b[43mskip_auto_headers\u001b[49m\u001b[38;5;241;43m=\u001b[39;49m\u001b[43mskip_headers\u001b[49m\u001b[43m,\u001b[49m\n\u001b[1;32m    513\u001b[0m \u001b[43m    \u001b[49m\u001b[43mdata\u001b[49m\u001b[38;5;241;43m=\u001b[39;49m\u001b[43mdata\u001b[49m\u001b[43m,\u001b[49m\n\u001b[1;32m    514\u001b[0m \u001b[43m    \u001b[49m\u001b[43mcookies\u001b[49m\u001b[38;5;241;43m=\u001b[39;49m\u001b[43mall_cookies\u001b[49m\u001b[43m,\u001b[49m\n\u001b[1;32m    515\u001b[0m \u001b[43m    \u001b[49m\u001b[43mauth\u001b[49m\u001b[38;5;241;43m=\u001b[39;49m\u001b[43mauth\u001b[49m\u001b[43m,\u001b[49m\n\u001b[1;32m    516\u001b[0m \u001b[43m    \u001b[49m\u001b[43mversion\u001b[49m\u001b[38;5;241;43m=\u001b[39;49m\u001b[43mversion\u001b[49m\u001b[43m,\u001b[49m\n\u001b[1;32m    517\u001b[0m \u001b[43m    \u001b[49m\u001b[43mcompress\u001b[49m\u001b[38;5;241;43m=\u001b[39;49m\u001b[43mcompress\u001b[49m\u001b[43m,\u001b[49m\n\u001b[1;32m    518\u001b[0m \u001b[43m    \u001b[49m\u001b[43mchunked\u001b[49m\u001b[38;5;241;43m=\u001b[39;49m\u001b[43mchunked\u001b[49m\u001b[43m,\u001b[49m\n\u001b[1;32m    519\u001b[0m \u001b[43m    \u001b[49m\u001b[43mexpect100\u001b[49m\u001b[38;5;241;43m=\u001b[39;49m\u001b[43mexpect100\u001b[49m\u001b[43m,\u001b[49m\n\u001b[1;32m    520\u001b[0m \u001b[43m    \u001b[49m\u001b[43mloop\u001b[49m\u001b[38;5;241;43m=\u001b[39;49m\u001b[38;5;28;43mself\u001b[39;49m\u001b[38;5;241;43m.\u001b[39;49m\u001b[43m_loop\u001b[49m\u001b[43m,\u001b[49m\n\u001b[1;32m    521\u001b[0m \u001b[43m    \u001b[49m\u001b[43mresponse_class\u001b[49m\u001b[38;5;241;43m=\u001b[39;49m\u001b[38;5;28;43mself\u001b[39;49m\u001b[38;5;241;43m.\u001b[39;49m\u001b[43m_response_class\u001b[49m\u001b[43m,\u001b[49m\n\u001b[1;32m    522\u001b[0m \u001b[43m    \u001b[49m\u001b[43mproxy\u001b[49m\u001b[38;5;241;43m=\u001b[39;49m\u001b[43mproxy\u001b[49m\u001b[43m,\u001b[49m\n\u001b[1;32m    523\u001b[0m \u001b[43m    \u001b[49m\u001b[43mproxy_auth\u001b[49m\u001b[38;5;241;43m=\u001b[39;49m\u001b[43mproxy_auth\u001b[49m\u001b[43m,\u001b[49m\n\u001b[1;32m    524\u001b[0m \u001b[43m    \u001b[49m\u001b[43mtimer\u001b[49m\u001b[38;5;241;43m=\u001b[39;49m\u001b[43mtimer\u001b[49m\u001b[43m,\u001b[49m\n\u001b[1;32m    525\u001b[0m \u001b[43m    \u001b[49m\u001b[43msession\u001b[49m\u001b[38;5;241;43m=\u001b[39;49m\u001b[38;5;28;43mself\u001b[39;49m\u001b[43m,\u001b[49m\n\u001b[1;32m    526\u001b[0m \u001b[43m    \u001b[49m\u001b[43mssl\u001b[49m\u001b[38;5;241;43m=\u001b[39;49m\u001b[43mssl\u001b[49m\u001b[43m,\u001b[49m\n\u001b[1;32m    527\u001b[0m \u001b[43m    \u001b[49m\u001b[43mproxy_headers\u001b[49m\u001b[38;5;241;43m=\u001b[39;49m\u001b[43mproxy_headers\u001b[49m\u001b[43m,\u001b[49m\n\u001b[1;32m    528\u001b[0m \u001b[43m    \u001b[49m\u001b[43mtraces\u001b[49m\u001b[38;5;241;43m=\u001b[39;49m\u001b[43mtraces\u001b[49m\u001b[43m,\u001b[49m\n\u001b[1;32m    529\u001b[0m \u001b[43m\u001b[49m\u001b[43m)\u001b[49m\n\u001b[1;32m    531\u001b[0m \u001b[38;5;66;03m# connection timeout\u001b[39;00m\n\u001b[1;32m    532\u001b[0m \u001b[38;5;28;01mtry\u001b[39;00m:\n",
      "File \u001b[0;32m~/anaconda3/envs/f4/lib/python3.9/site-packages/aiohttp/client_reqrep.py:313\u001b[0m, in \u001b[0;36mClientRequest.__init__\u001b[0;34m(self, method, url, params, headers, skip_auto_headers, data, cookies, auth, version, compress, chunked, expect100, loop, response_class, proxy, proxy_auth, timer, session, ssl, proxy_headers, traces)\u001b[0m\n\u001b[1;32m    310\u001b[0m \u001b[38;5;28mself\u001b[39m\u001b[38;5;241m.\u001b[39mupdate_auth(auth)\n\u001b[1;32m    311\u001b[0m \u001b[38;5;28mself\u001b[39m\u001b[38;5;241m.\u001b[39mupdate_proxy(proxy, proxy_auth, proxy_headers)\n\u001b[0;32m--> 313\u001b[0m \u001b[38;5;28;43mself\u001b[39;49m\u001b[38;5;241;43m.\u001b[39;49m\u001b[43mupdate_body_from_data\u001b[49m\u001b[43m(\u001b[49m\u001b[43mdata\u001b[49m\u001b[43m)\u001b[49m\n\u001b[1;32m    314\u001b[0m \u001b[38;5;28;01mif\u001b[39;00m data \u001b[38;5;129;01mis\u001b[39;00m \u001b[38;5;129;01mnot\u001b[39;00m \u001b[38;5;28;01mNone\u001b[39;00m \u001b[38;5;129;01mor\u001b[39;00m \u001b[38;5;28mself\u001b[39m\u001b[38;5;241m.\u001b[39mmethod \u001b[38;5;129;01mnot\u001b[39;00m \u001b[38;5;129;01min\u001b[39;00m \u001b[38;5;28mself\u001b[39m\u001b[38;5;241m.\u001b[39mGET_METHODS:\n\u001b[1;32m    315\u001b[0m     \u001b[38;5;28mself\u001b[39m\u001b[38;5;241m.\u001b[39mupdate_transfer_encoding()\n",
      "File \u001b[0;32m~/anaconda3/envs/f4/lib/python3.9/site-packages/aiohttp/client_reqrep.py:507\u001b[0m, in \u001b[0;36mClientRequest.update_body_from_data\u001b[0;34m(self, body)\u001b[0m\n\u001b[1;32m    505\u001b[0m \u001b[38;5;66;03m# FormData\u001b[39;00m\n\u001b[1;32m    506\u001b[0m \u001b[38;5;28;01mif\u001b[39;00m \u001b[38;5;28misinstance\u001b[39m(body, FormData):\n\u001b[0;32m--> 507\u001b[0m     body \u001b[38;5;241m=\u001b[39m \u001b[43mbody\u001b[49m\u001b[43m(\u001b[49m\u001b[43m)\u001b[49m\n\u001b[1;32m    509\u001b[0m \u001b[38;5;28;01mtry\u001b[39;00m:\n\u001b[1;32m    510\u001b[0m     body \u001b[38;5;241m=\u001b[39m payload\u001b[38;5;241m.\u001b[39mPAYLOAD_REGISTRY\u001b[38;5;241m.\u001b[39mget(body, disposition\u001b[38;5;241m=\u001b[39m\u001b[38;5;28;01mNone\u001b[39;00m)\n",
      "File \u001b[0;32m~/anaconda3/envs/f4/lib/python3.9/site-packages/aiohttp/formdata.py:170\u001b[0m, in \u001b[0;36mFormData.__call__\u001b[0;34m(self)\u001b[0m\n\u001b[1;32m    168\u001b[0m \u001b[38;5;28;01mdef\u001b[39;00m \u001b[38;5;21m__call__\u001b[39m(\u001b[38;5;28mself\u001b[39m) \u001b[38;5;241m-\u001b[39m\u001b[38;5;241m>\u001b[39m Payload:\n\u001b[1;32m    169\u001b[0m     \u001b[38;5;28;01mif\u001b[39;00m \u001b[38;5;28mself\u001b[39m\u001b[38;5;241m.\u001b[39m_is_multipart:\n\u001b[0;32m--> 170\u001b[0m         \u001b[38;5;28;01mreturn\u001b[39;00m \u001b[38;5;28;43mself\u001b[39;49m\u001b[38;5;241;43m.\u001b[39;49m\u001b[43m_gen_form_data\u001b[49m\u001b[43m(\u001b[49m\u001b[43m)\u001b[49m\n\u001b[1;32m    171\u001b[0m     \u001b[38;5;28;01melse\u001b[39;00m:\n\u001b[1;32m    172\u001b[0m         \u001b[38;5;28;01mreturn\u001b[39;00m \u001b[38;5;28mself\u001b[39m\u001b[38;5;241m.\u001b[39m_gen_form_urlencoded()\n",
      "File \u001b[0;32m~/anaconda3/envs/f4/lib/python3.9/site-packages/aiohttp/formdata.py:149\u001b[0m, in \u001b[0;36mFormData._gen_form_data\u001b[0;34m(self)\u001b[0m\n\u001b[1;32m    145\u001b[0m         part \u001b[38;5;241m=\u001b[39m payload\u001b[38;5;241m.\u001b[39mget_payload(\n\u001b[1;32m    146\u001b[0m             value, headers\u001b[38;5;241m=\u001b[39mheaders, encoding\u001b[38;5;241m=\u001b[39m\u001b[38;5;28mself\u001b[39m\u001b[38;5;241m.\u001b[39m_charset\n\u001b[1;32m    147\u001b[0m         )\n\u001b[1;32m    148\u001b[0m \u001b[38;5;28;01mexcept\u001b[39;00m \u001b[38;5;167;01mException\u001b[39;00m \u001b[38;5;28;01mas\u001b[39;00m exc:\n\u001b[0;32m--> 149\u001b[0m     \u001b[38;5;28;01mraise\u001b[39;00m \u001b[38;5;167;01mTypeError\u001b[39;00m(\n\u001b[1;32m    150\u001b[0m         \u001b[38;5;124m\"\u001b[39m\u001b[38;5;124mCan not serialize value type: \u001b[39m\u001b[38;5;132;01m%r\u001b[39;00m\u001b[38;5;130;01m\\n\u001b[39;00m\u001b[38;5;124m \u001b[39m\u001b[38;5;124m\"\u001b[39m\n\u001b[1;32m    151\u001b[0m         \u001b[38;5;124m\"\u001b[39m\u001b[38;5;124mheaders: \u001b[39m\u001b[38;5;132;01m%r\u001b[39;00m\u001b[38;5;130;01m\\n\u001b[39;00m\u001b[38;5;124m value: \u001b[39m\u001b[38;5;132;01m%r\u001b[39;00m\u001b[38;5;124m\"\u001b[39m \u001b[38;5;241m%\u001b[39m (\u001b[38;5;28mtype\u001b[39m(value), headers, value)\n\u001b[1;32m    152\u001b[0m     ) \u001b[38;5;28;01mfrom\u001b[39;00m \u001b[38;5;21;01mexc\u001b[39;00m\n\u001b[1;32m    154\u001b[0m \u001b[38;5;28;01mif\u001b[39;00m dispparams:\n\u001b[1;32m    155\u001b[0m     part\u001b[38;5;241m.\u001b[39mset_content_disposition(\n\u001b[1;32m    156\u001b[0m         \u001b[38;5;124m\"\u001b[39m\u001b[38;5;124mform-data\u001b[39m\u001b[38;5;124m\"\u001b[39m, quote_fields\u001b[38;5;241m=\u001b[39m\u001b[38;5;28mself\u001b[39m\u001b[38;5;241m.\u001b[39m_quote_fields, \u001b[38;5;241m*\u001b[39m\u001b[38;5;241m*\u001b[39mdispparams\n\u001b[1;32m    157\u001b[0m     )\n",
      "\u001b[0;31mTypeError\u001b[0m: Can not serialize value type: <class 'PIL.PngImagePlugin.PngImageFile'>\n headers: {}\n value: <PIL.PngImagePlugin.PngImageFile image mode=RGBA size=432x288 at 0x7FCDAC6FA4F0>"
     ]
    }
   ],
   "source": [
    "await m.reply_photo(i)"
   ]
  },
  {
   "cell_type": "code",
   "execution_count": null,
   "id": "83c0cfeb-faff-4695-af33-def2b73aaaa5",
   "metadata": {},
   "outputs": [],
   "source": []
  },
  {
   "cell_type": "code",
   "execution_count": 23,
   "id": "600d42e4-a752-4a9e-a75d-3b872aa7c934",
   "metadata": {},
   "outputs": [],
   "source": [
    "i = None\n",
    "m = None"
   ]
  },
  {
   "cell_type": "code",
   "execution_count": 31,
   "id": "532cd1fa-4b03-4fce-922a-c5a407763bf4",
   "metadata": {},
   "outputs": [],
   "source": [
    "i"
   ]
  },
  {
   "cell_type": "code",
   "execution_count": 33,
   "id": "400f0f81-c76e-469f-9501-3b030c17d174",
   "metadata": {},
   "outputs": [],
   "source": [
    "m"
   ]
  },
  {
   "cell_type": "code",
   "execution_count": 19,
   "id": "75668b5c-17ff-4ad7-9206-6586c804ba52",
   "metadata": {},
   "outputs": [
    {
     "ename": "NameError",
     "evalue": "name 'message' is not defined",
     "output_type": "error",
     "traceback": [
      "\u001b[0;31m---------------------------------------------------------------------------\u001b[0m",
      "\u001b[0;31mNameError\u001b[0m                                 Traceback (most recent call last)",
      "Input \u001b[0;32mIn [19]\u001b[0m, in \u001b[0;36m<cell line: 1>\u001b[0;34m()\u001b[0m\n\u001b[0;32m----> 1\u001b[0m \u001b[38;5;28;01mawait\u001b[39;00m bot\u001b[38;5;241m.\u001b[39msend_photo(message\u001b[38;5;241m.\u001b[39mfrom_user\u001b[38;5;241m.\u001b[39mid, img)\n",
      "\u001b[0;31mNameError\u001b[0m: name 'message' is not defined"
     ]
    }
   ],
   "source": [
    "await bot.send_photo(message.from_user.id, img)"
   ]
  },
  {
   "cell_type": "code",
   "execution_count": null,
   "id": "fde61f58-5942-41a6-92a4-1fa06e027a04",
   "metadata": {},
   "outputs": [],
   "source": []
  },
  {
   "cell_type": "code",
   "execution_count": null,
   "id": "f43b091e-e531-4e1d-b773-59807ffe077c",
   "metadata": {},
   "outputs": [],
   "source": [
    "await bot.send_photo(message.from_user.id, img)"
   ]
  },
  {
   "cell_type": "code",
   "execution_count": null,
   "id": "41e02892-ecf2-487e-923e-fa7b755bce76",
   "metadata": {},
   "outputs": [],
   "source": []
  }
 ],
 "metadata": {
  "kernelspec": {
   "display_name": "f4",
   "language": "python",
   "name": "f4"
  },
  "language_info": {
   "codemirror_mode": {
    "name": "ipython",
    "version": 3
   },
   "file_extension": ".py",
   "mimetype": "text/x-python",
   "name": "python",
   "nbconvert_exporter": "python",
   "pygments_lexer": "ipython3",
   "version": "3.9.13"
  }
 },
 "nbformat": 4,
 "nbformat_minor": 5
}
