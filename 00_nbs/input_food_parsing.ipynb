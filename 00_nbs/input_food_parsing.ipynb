{
 "cells": [
  {
   "cell_type": "code",
   "execution_count": 1,
   "id": "d42795e4-ea0a-4b27-8ac4-c1015dd082b6",
   "metadata": {},
   "outputs": [],
   "source": [
    "%load_ext autoreload\n",
    "%autoreload 2"
   ]
  },
  {
   "cell_type": "code",
   "execution_count": 2,
   "id": "c60da8c3-5181-4cb4-86c2-a5d4ed15d9e5",
   "metadata": {},
   "outputs": [],
   "source": [
    "import sys\n",
    "sys.path.insert(0,'..')"
   ]
  },
  {
   "cell_type": "code",
   "execution_count": 55,
   "id": "9a19ef4f-fb8c-4bc3-8d90-6af2b25f2f4f",
   "metadata": {},
   "outputs": [],
   "source": [
    "from food.tools import *\n",
    "from food.paths import *\n",
    "from food.psql import *\n",
    "\n",
    "import pandas as pd\n",
    "import numpy as np\n",
    "\n",
    "# !nbdev_build_lib\n",
    "from pathlib import Path"
   ]
  },
  {
   "cell_type": "code",
   "execution_count": 56,
   "id": "f2539f77-fae6-413b-ae35-a3a44e5e150b",
   "metadata": {},
   "outputs": [],
   "source": [
    "data_path = Path('../food_dataset')"
   ]
  },
  {
   "cell_type": "code",
   "execution_count": 76,
   "id": "7a7d922d-b875-4758-8cc9-b544b7091725",
   "metadata": {},
   "outputs": [],
   "source": [
    "input_food = (pd.read_csv(data_path/'input_food.csv').set_index('fdc_id')[['gram_weight','sr_description']]\n",
    "              .rename(columns = {'sr_description':'input','gram_weight':'input_weight'})\n",
    "              .sort_values('input_weight'))"
   ]
  },
  {
   "cell_type": "code",
   "execution_count": 85,
   "id": "485c184c-dd37-49c2-b7c3-487492cbe7c2",
   "metadata": {},
   "outputs": [],
   "source": [
    "food = pd.read_csv(data_path/'food.csv')"
   ]
  },
  {
   "cell_type": "code",
   "execution_count": 86,
   "id": "dc57cf26-cdef-4713-934e-384607fd07da",
   "metadata": {},
   "outputs": [],
   "source": [
    "food = food[food['data_type']=='survey_fndds_food'].set_index('fdc_id')[['description']]"
   ]
  },
  {
   "cell_type": "code",
   "execution_count": 87,
   "id": "b5832e15-3afe-415d-8268-96da130f18a4",
   "metadata": {},
   "outputs": [],
   "source": [
    "food = food.join(input_food)"
   ]
  },
  {
   "cell_type": "code",
   "execution_count": 88,
   "id": "96f00edd-0339-4ab4-aa83-cb579578bd61",
   "metadata": {},
   "outputs": [],
   "source": [
    "def func(g):\n",
    "    g = g.sort_values('input_weight')\n",
    "    g['cumsum'] = g['input_weight'].cumsum()/g['input_weight'].sum()\n",
    "    g = g.sort_values('cumsum',ascending = False)\n",
    "    \n",
    "    g = g[g['cumsum']>0.05]\n",
    "    return g"
   ]
  },
  {
   "cell_type": "code",
   "execution_count": 89,
   "id": "8f7aae4a-3c73-4ded-b159-c343740f17e7",
   "metadata": {},
   "outputs": [],
   "source": [
    "food = food.groupby('fdc_id').apply(func)"
   ]
  },
  {
   "cell_type": "code",
   "execution_count": 90,
   "id": "de4dac50-ea58-4931-b959-0568226ab8f1",
   "metadata": {},
   "outputs": [],
   "source": [
    "food = food.sort_values('input_weight',ascending = False)"
   ]
  },
  {
   "cell_type": "code",
   "execution_count": 92,
   "id": "2f0b0915-8611-4f00-adcd-564a95839312",
   "metadata": {},
   "outputs": [],
   "source": [
    "food.index = [i[1] for i in food.index]"
   ]
  },
  {
   "cell_type": "code",
   "execution_count": 93,
   "id": "d54f6c40-9b69-4146-acae-300dab366b4f",
   "metadata": {},
   "outputs": [
    {
     "data": {
      "text/html": [
       "<div>\n",
       "<style scoped>\n",
       "    .dataframe tbody tr th:only-of-type {\n",
       "        vertical-align: middle;\n",
       "    }\n",
       "\n",
       "    .dataframe tbody tr th {\n",
       "        vertical-align: top;\n",
       "    }\n",
       "\n",
       "    .dataframe thead th {\n",
       "        text-align: right;\n",
       "    }\n",
       "</style>\n",
       "<table border=\"1\" class=\"dataframe\">\n",
       "  <thead>\n",
       "    <tr style=\"text-align: right;\">\n",
       "      <th></th>\n",
       "      <th>description</th>\n",
       "      <th>input_weight</th>\n",
       "      <th>input</th>\n",
       "      <th>cumsum</th>\n",
       "    </tr>\n",
       "  </thead>\n",
       "  <tbody>\n",
       "    <tr>\n",
       "      <th>1100629</th>\n",
       "      <td>Bread, native, water, Puerto Rican style</td>\n",
       "      <td>4540.00</td>\n",
       "      <td>Wheat flour, white, bread, enriched</td>\n",
       "      <td>1.000000</td>\n",
       "    </tr>\n",
       "    <tr>\n",
       "      <th>1100106</th>\n",
       "      <td>Meat and corn hominy soup, home recipe, Mexica...</td>\n",
       "      <td>2970.00</td>\n",
       "      <td>Soup, stock, chicken, home-prepared</td>\n",
       "      <td>1.000000</td>\n",
       "    </tr>\n",
       "    <tr>\n",
       "      <th>1100133</th>\n",
       "      <td>Chicken or turkey and corn hominy soup,  home ...</td>\n",
       "      <td>2970.00</td>\n",
       "      <td>Soup, stock, chicken, home-prepared</td>\n",
       "      <td>1.000000</td>\n",
       "    </tr>\n",
       "    <tr>\n",
       "      <th>1097981</th>\n",
       "      <td>Firni, Indian pudding</td>\n",
       "      <td>2928.00</td>\n",
       "      <td>Milk, whole, 3.25% milkfat, with added vitamin D</td>\n",
       "      <td>1.000000</td>\n",
       "    </tr>\n",
       "    <tr>\n",
       "      <th>1099656</th>\n",
       "      <td>Chicken or turkey creole, without rice</td>\n",
       "      <td>2880.00</td>\n",
       "      <td>Chicken, NS as to part, rotisserie, skin not e...</td>\n",
       "      <td>1.000000</td>\n",
       "    </tr>\n",
       "    <tr>\n",
       "      <th>...</th>\n",
       "      <td>...</td>\n",
       "      <td>...</td>\n",
       "      <td>...</td>\n",
       "      <td>...</td>\n",
       "    </tr>\n",
       "    <tr>\n",
       "      <th>1102172</th>\n",
       "      <td>Tortellini, cheese-filled, meatless, with toma...</td>\n",
       "      <td>1.40</td>\n",
       "      <td>Onions, cooked, as ingredient</td>\n",
       "      <td>0.093280</td>\n",
       "    </tr>\n",
       "    <tr>\n",
       "      <th>1104254</th>\n",
       "      <td>Coffee, instant, decaffeinated, pre-lightened ...</td>\n",
       "      <td>1.00</td>\n",
       "      <td>Sweeteners, tabletop, sucralose, SPLENDA packets</td>\n",
       "      <td>0.155836</td>\n",
       "    </tr>\n",
       "    <tr>\n",
       "      <th>1102170</th>\n",
       "      <td>Tortellini, meat-filled, with tomato sauce, ca...</td>\n",
       "      <td>0.70</td>\n",
       "      <td>Beef, ground, 75% lean meat / 25% fat, crumble...</td>\n",
       "      <td>0.051043</td>\n",
       "    </tr>\n",
       "    <tr>\n",
       "      <th>1102170</th>\n",
       "      <td>Tortellini, meat-filled, with tomato sauce, ca...</td>\n",
       "      <td>0.70</td>\n",
       "      <td>Salt, table, iodized</td>\n",
       "      <td>0.058132</td>\n",
       "    </tr>\n",
       "    <tr>\n",
       "      <th>1104249</th>\n",
       "      <td>Coffee, mocha, instant, pre-lightened and pre-...</td>\n",
       "      <td>0.39</td>\n",
       "      <td>Beverages, coffee, instant, regular, powder</td>\n",
       "      <td>0.061033</td>\n",
       "    </tr>\n",
       "  </tbody>\n",
       "</table>\n",
       "<p>17859 rows × 4 columns</p>\n",
       "</div>"
      ],
      "text/plain": [
       "                                               description  input_weight  \\\n",
       "1100629           Bread, native, water, Puerto Rican style       4540.00   \n",
       "1100106  Meat and corn hominy soup, home recipe, Mexica...       2970.00   \n",
       "1100133  Chicken or turkey and corn hominy soup,  home ...       2970.00   \n",
       "1097981                              Firni, Indian pudding       2928.00   \n",
       "1099656             Chicken or turkey creole, without rice       2880.00   \n",
       "...                                                    ...           ...   \n",
       "1102172  Tortellini, cheese-filled, meatless, with toma...          1.40   \n",
       "1104254  Coffee, instant, decaffeinated, pre-lightened ...          1.00   \n",
       "1102170  Tortellini, meat-filled, with tomato sauce, ca...          0.70   \n",
       "1102170  Tortellini, meat-filled, with tomato sauce, ca...          0.70   \n",
       "1104249  Coffee, mocha, instant, pre-lightened and pre-...          0.39   \n",
       "\n",
       "                                                     input    cumsum  \n",
       "1100629                Wheat flour, white, bread, enriched  1.000000  \n",
       "1100106                Soup, stock, chicken, home-prepared  1.000000  \n",
       "1100133                Soup, stock, chicken, home-prepared  1.000000  \n",
       "1097981   Milk, whole, 3.25% milkfat, with added vitamin D  1.000000  \n",
       "1099656  Chicken, NS as to part, rotisserie, skin not e...  1.000000  \n",
       "...                                                    ...       ...  \n",
       "1102172                      Onions, cooked, as ingredient  0.093280  \n",
       "1104254   Sweeteners, tabletop, sucralose, SPLENDA packets  0.155836  \n",
       "1102170  Beef, ground, 75% lean meat / 25% fat, crumble...  0.051043  \n",
       "1102170                               Salt, table, iodized  0.058132  \n",
       "1104249        Beverages, coffee, instant, regular, powder  0.061033  \n",
       "\n",
       "[17859 rows x 4 columns]"
      ]
     },
     "execution_count": 93,
     "metadata": {},
     "output_type": "execute_result"
    }
   ],
   "source": [
    "food.reset_index().groupby('index')."
   ]
  },
  {
   "cell_type": "code",
   "execution_count": null,
   "id": "c615b700-15a0-434d-a1db-ad389e561d37",
   "metadata": {},
   "outputs": [],
   "source": []
  },
  {
   "cell_type": "code",
   "execution_count": null,
   "id": "d3482608-9a10-4af3-b14b-83b84df9ce6c",
   "metadata": {},
   "outputs": [],
   "source": []
  },
  {
   "cell_type": "code",
   "execution_count": null,
   "id": "7b000730-99fd-43e1-ab3b-5222e7031c0c",
   "metadata": {},
   "outputs": [],
   "source": []
  },
  {
   "cell_type": "code",
   "execution_count": null,
   "id": "39925f7c-7802-4e67-9fd1-6b3dc9e600ae",
   "metadata": {},
   "outputs": [],
   "source": []
  },
  {
   "cell_type": "code",
   "execution_count": null,
   "id": "569a18ce-1e9b-4584-a82f-baec67664842",
   "metadata": {},
   "outputs": [],
   "source": []
  },
  {
   "cell_type": "code",
   "execution_count": 136,
   "id": "bc1becf9-ac61-4970-afa1-9a1a3fc9ac9e",
   "metadata": {},
   "outputs": [],
   "source": [
    "def func(g):\n",
    "    g =g.sort_values('gram_weight',ascending=False)\n",
    "    g = g[g['gram_weight'].cumsum()<g['gram_weight'].sum()*0.9]\n",
    "    g['sr_description'] = ' ,'.join(g['sr_description'].tolist())\n",
    "    \n",
    "    return g.drop_duplicates('sr_description')[['sr_description','description']]\n",
    "    "
   ]
  },
  {
   "cell_type": "code",
   "execution_count": 137,
   "id": "e14c8291-7c05-4012-93af-d27fbb566a76",
   "metadata": {},
   "outputs": [],
   "source": [
    "food_ = food.reset_index().groupby('fdc_id').apply(func)"
   ]
  },
  {
   "cell_type": "code",
   "execution_count": 138,
   "id": "2459b086-436a-4775-b9c6-a4a9d80c8b56",
   "metadata": {},
   "outputs": [],
   "source": [
    "f = food_.sample(1)"
   ]
  },
  {
   "cell_type": "code",
   "execution_count": 140,
   "id": "eb9280f1-3819-4b33-9382-93b5e57a2a3f",
   "metadata": {},
   "outputs": [
    {
     "data": {
      "text/plain": [
       "'Air filled fritter or fried puff, without syrup, Puerto Rican style'"
      ]
     },
     "execution_count": 140,
     "metadata": {},
     "output_type": "execute_result"
    }
   ],
   "source": [
    "f['description'].iloc[0]"
   ]
  },
  {
   "cell_type": "code",
   "execution_count": 139,
   "id": "a49364b8-042d-4a81-845a-eba74bffe96b",
   "metadata": {},
   "outputs": [
    {
     "data": {
      "text/plain": [
       "'Beverages, water, tap, drinking ,Egg, whole, raw, fresh ,Sugars, granulated ,Wheat flour, white, all-purpose, enriched, bleached'"
      ]
     },
     "execution_count": 139,
     "metadata": {},
     "output_type": "execute_result"
    }
   ],
   "source": [
    "f['sr_description'].iloc[0]"
   ]
  },
  {
   "cell_type": "code",
   "execution_count": 142,
   "id": "8edf1059-f2c8-4e94-8ddd-ce6db0673b6a",
   "metadata": {},
   "outputs": [
    {
     "data": {
      "text/html": [
       "<div>\n",
       "<style scoped>\n",
       "    .dataframe tbody tr th:only-of-type {\n",
       "        vertical-align: middle;\n",
       "    }\n",
       "\n",
       "    .dataframe tbody tr th {\n",
       "        vertical-align: top;\n",
       "    }\n",
       "\n",
       "    .dataframe thead th {\n",
       "        text-align: right;\n",
       "    }\n",
       "</style>\n",
       "<table border=\"1\" class=\"dataframe\">\n",
       "  <thead>\n",
       "    <tr style=\"text-align: right;\">\n",
       "      <th></th>\n",
       "      <th>description</th>\n",
       "      <th>gram_weight</th>\n",
       "      <th>sr_description</th>\n",
       "    </tr>\n",
       "    <tr>\n",
       "      <th>fdc_id</th>\n",
       "      <th></th>\n",
       "      <th></th>\n",
       "      <th></th>\n",
       "    </tr>\n",
       "  </thead>\n",
       "  <tbody>\n",
       "    <tr>\n",
       "      <th>1101164</th>\n",
       "      <td>Air filled fritter or fried puff, without syru...</td>\n",
       "      <td>6.0</td>\n",
       "      <td>Salt, table, iodized</td>\n",
       "    </tr>\n",
       "    <tr>\n",
       "      <th>1101164</th>\n",
       "      <td>Air filled fritter or fried puff, without syru...</td>\n",
       "      <td>28.0</td>\n",
       "      <td>Vegetable oil, NFS</td>\n",
       "    </tr>\n",
       "    <tr>\n",
       "      <th>1101164</th>\n",
       "      <td>Air filled fritter or fried puff, without syru...</td>\n",
       "      <td>113.4</td>\n",
       "      <td>Margarine, stick</td>\n",
       "    </tr>\n",
       "    <tr>\n",
       "      <th>1101164</th>\n",
       "      <td>Air filled fritter or fried puff, without syru...</td>\n",
       "      <td>125.0</td>\n",
       "      <td>Wheat flour, white, all-purpose, enriched, ble...</td>\n",
       "    </tr>\n",
       "    <tr>\n",
       "      <th>1101164</th>\n",
       "      <td>Air filled fritter or fried puff, without syru...</td>\n",
       "      <td>200.0</td>\n",
       "      <td>Egg, whole, raw, fresh</td>\n",
       "    </tr>\n",
       "    <tr>\n",
       "      <th>1101164</th>\n",
       "      <td>Air filled fritter or fried puff, without syru...</td>\n",
       "      <td>200.0</td>\n",
       "      <td>Sugars, granulated</td>\n",
       "    </tr>\n",
       "    <tr>\n",
       "      <th>1101164</th>\n",
       "      <td>Air filled fritter or fried puff, without syru...</td>\n",
       "      <td>237.0</td>\n",
       "      <td>Beverages, water, tap, drinking</td>\n",
       "    </tr>\n",
       "  </tbody>\n",
       "</table>\n",
       "</div>"
      ],
      "text/plain": [
       "                                               description  gram_weight  \\\n",
       "fdc_id                                                                    \n",
       "1101164  Air filled fritter or fried puff, without syru...          6.0   \n",
       "1101164  Air filled fritter or fried puff, without syru...         28.0   \n",
       "1101164  Air filled fritter or fried puff, without syru...        113.4   \n",
       "1101164  Air filled fritter or fried puff, without syru...        125.0   \n",
       "1101164  Air filled fritter or fried puff, without syru...        200.0   \n",
       "1101164  Air filled fritter or fried puff, without syru...        200.0   \n",
       "1101164  Air filled fritter or fried puff, without syru...        237.0   \n",
       "\n",
       "                                            sr_description  \n",
       "fdc_id                                                      \n",
       "1101164                               Salt, table, iodized  \n",
       "1101164                                 Vegetable oil, NFS  \n",
       "1101164                                   Margarine, stick  \n",
       "1101164  Wheat flour, white, all-purpose, enriched, ble...  \n",
       "1101164                             Egg, whole, raw, fresh  \n",
       "1101164                                 Sugars, granulated  \n",
       "1101164                    Beverages, water, tap, drinking  "
      ]
     },
     "execution_count": 142,
     "metadata": {},
     "output_type": "execute_result"
    }
   ],
   "source": [
    "food[food.index == f.reset_index()['fdc_id'][0]]"
   ]
  },
  {
   "cell_type": "code",
   "execution_count": 134,
   "id": "ff423a3c-60b2-40ab-ac08-c4e84f7a0c55",
   "metadata": {},
   "outputs": [
    {
     "data": {
      "text/html": [
       "<div>\n",
       "<style scoped>\n",
       "    .dataframe tbody tr th:only-of-type {\n",
       "        vertical-align: middle;\n",
       "    }\n",
       "\n",
       "    .dataframe tbody tr th {\n",
       "        vertical-align: top;\n",
       "    }\n",
       "\n",
       "    .dataframe thead th {\n",
       "        text-align: right;\n",
       "    }\n",
       "</style>\n",
       "<table border=\"1\" class=\"dataframe\">\n",
       "  <thead>\n",
       "    <tr style=\"text-align: right;\">\n",
       "      <th></th>\n",
       "      <th>fdc_id</th>\n",
       "      <th>level_1</th>\n",
       "      <th>sr_description</th>\n",
       "      <th>description</th>\n",
       "    </tr>\n",
       "  </thead>\n",
       "  <tbody>\n",
       "    <tr>\n",
       "      <th>0</th>\n",
       "      <td>1102457</td>\n",
       "      <td>19214</td>\n",
       "      <td>Salt, table, iodized ,Vegetable oil, NFS ,Gree...</td>\n",
       "      <td>Rice, brown, with other vegetables, NS as to fat</td>\n",
       "    </tr>\n",
       "  </tbody>\n",
       "</table>\n",
       "</div>"
      ],
      "text/plain": [
       "    fdc_id  level_1                                     sr_description  \\\n",
       "0  1102457    19214  Salt, table, iodized ,Vegetable oil, NFS ,Gree...   \n",
       "\n",
       "                                        description  \n",
       "0  Rice, brown, with other vegetables, NS as to fat  "
      ]
     },
     "execution_count": 134,
     "metadata": {},
     "output_type": "execute_result"
    }
   ],
   "source": [
    "f.reset_index()"
   ]
  },
  {
   "cell_type": "code",
   "execution_count": 131,
   "id": "5547b7b9-39a7-4938-b388-75807be75fcd",
   "metadata": {},
   "outputs": [
    {
     "data": {
      "text/html": [
       "<div>\n",
       "<style scoped>\n",
       "    .dataframe tbody tr th:only-of-type {\n",
       "        vertical-align: middle;\n",
       "    }\n",
       "\n",
       "    .dataframe tbody tr th {\n",
       "        vertical-align: top;\n",
       "    }\n",
       "\n",
       "    .dataframe thead th {\n",
       "        text-align: right;\n",
       "    }\n",
       "</style>\n",
       "<table border=\"1\" class=\"dataframe\">\n",
       "  <thead>\n",
       "    <tr style=\"text-align: right;\">\n",
       "      <th></th>\n",
       "      <th>description</th>\n",
       "      <th>gram_weight</th>\n",
       "      <th>sr_description</th>\n",
       "    </tr>\n",
       "    <tr>\n",
       "      <th>fdc_id</th>\n",
       "      <th></th>\n",
       "      <th></th>\n",
       "      <th></th>\n",
       "    </tr>\n",
       "  </thead>\n",
       "  <tbody>\n",
       "    <tr>\n",
       "      <th>1097510</th>\n",
       "      <td>Milk, human</td>\n",
       "      <td>100.0</td>\n",
       "      <td>Milk, human, mature, fluid</td>\n",
       "    </tr>\n",
       "    <tr>\n",
       "      <th>1097511</th>\n",
       "      <td>Milk, NFS</td>\n",
       "      <td>11.0</td>\n",
       "      <td>Milk, nonfat, fluid, with added vitamin A and ...</td>\n",
       "    </tr>\n",
       "    <tr>\n",
       "      <th>1097511</th>\n",
       "      <td>Milk, NFS</td>\n",
       "      <td>17.0</td>\n",
       "      <td>Milk, lowfat, fluid, 1% milkfat, with added vi...</td>\n",
       "    </tr>\n",
       "    <tr>\n",
       "      <th>1097511</th>\n",
       "      <td>Milk, NFS</td>\n",
       "      <td>35.0</td>\n",
       "      <td>Milk, whole, 3.25% milkfat, with added vitamin D</td>\n",
       "    </tr>\n",
       "    <tr>\n",
       "      <th>1097511</th>\n",
       "      <td>Milk, NFS</td>\n",
       "      <td>37.0</td>\n",
       "      <td>Milk, reduced fat, fluid, 2% milkfat, with add...</td>\n",
       "    </tr>\n",
       "    <tr>\n",
       "      <th>...</th>\n",
       "      <td>...</td>\n",
       "      <td>...</td>\n",
       "      <td>...</td>\n",
       "    </tr>\n",
       "    <tr>\n",
       "      <th>1104591</th>\n",
       "      <td>Sauce as ingredient in hamburgers</td>\n",
       "      <td>60.0</td>\n",
       "      <td>Catsup</td>\n",
       "    </tr>\n",
       "    <tr>\n",
       "      <th>1104592</th>\n",
       "      <td>Industrial oil as ingredient in food</td>\n",
       "      <td>25.0</td>\n",
       "      <td>Oil, industrial, soy, fully hydrogenated</td>\n",
       "    </tr>\n",
       "    <tr>\n",
       "      <th>1104592</th>\n",
       "      <td>Industrial oil as ingredient in food</td>\n",
       "      <td>25.0</td>\n",
       "      <td>Oil, industrial, soy, low linolenic</td>\n",
       "    </tr>\n",
       "    <tr>\n",
       "      <th>1104592</th>\n",
       "      <td>Industrial oil as ingredient in food</td>\n",
       "      <td>25.0</td>\n",
       "      <td>Oil, industrial, canola, high oleic</td>\n",
       "    </tr>\n",
       "    <tr>\n",
       "      <th>1104592</th>\n",
       "      <td>Industrial oil as ingredient in food</td>\n",
       "      <td>25.0</td>\n",
       "      <td>Oil, industrial, soy, ultra low linolenic</td>\n",
       "    </tr>\n",
       "  </tbody>\n",
       "</table>\n",
       "<p>24896 rows × 3 columns</p>\n",
       "</div>"
      ],
      "text/plain": [
       "                                  description  gram_weight  \\\n",
       "fdc_id                                                       \n",
       "1097510                           Milk, human        100.0   \n",
       "1097511                             Milk, NFS         11.0   \n",
       "1097511                             Milk, NFS         17.0   \n",
       "1097511                             Milk, NFS         35.0   \n",
       "1097511                             Milk, NFS         37.0   \n",
       "...                                       ...          ...   \n",
       "1104591     Sauce as ingredient in hamburgers         60.0   \n",
       "1104592  Industrial oil as ingredient in food         25.0   \n",
       "1104592  Industrial oil as ingredient in food         25.0   \n",
       "1104592  Industrial oil as ingredient in food         25.0   \n",
       "1104592  Industrial oil as ingredient in food         25.0   \n",
       "\n",
       "                                            sr_description  \n",
       "fdc_id                                                      \n",
       "1097510                         Milk, human, mature, fluid  \n",
       "1097511  Milk, nonfat, fluid, with added vitamin A and ...  \n",
       "1097511  Milk, lowfat, fluid, 1% milkfat, with added vi...  \n",
       "1097511   Milk, whole, 3.25% milkfat, with added vitamin D  \n",
       "1097511  Milk, reduced fat, fluid, 2% milkfat, with add...  \n",
       "...                                                    ...  \n",
       "1104591                                             Catsup  \n",
       "1104592           Oil, industrial, soy, fully hydrogenated  \n",
       "1104592                Oil, industrial, soy, low linolenic  \n",
       "1104592                Oil, industrial, canola, high oleic  \n",
       "1104592          Oil, industrial, soy, ultra low linolenic  \n",
       "\n",
       "[24896 rows x 3 columns]"
      ]
     },
     "execution_count": 131,
     "metadata": {},
     "output_type": "execute_result"
    }
   ],
   "source": [
    "food"
   ]
  },
  {
   "cell_type": "code",
   "execution_count": null,
   "id": "6e86251a-405f-481b-a995-c751b461aa1b",
   "metadata": {},
   "outputs": [],
   "source": []
  },
  {
   "cell_type": "code",
   "execution_count": null,
   "id": "c065de78-5fde-4da8-99ce-ccff62545d7c",
   "metadata": {},
   "outputs": [],
   "source": []
  },
  {
   "cell_type": "code",
   "execution_count": 75,
   "id": "f89af316-8b9a-478b-8fd1-fbd8ca1657be",
   "metadata": {},
   "outputs": [],
   "source": [
    "food = food.reset_index().groupby('fdc_id').agg({'description':'first','sr_description':lambda l:' ,'.join(list(l))})"
   ]
  },
  {
   "cell_type": "code",
   "execution_count": 77,
   "id": "66b982d5-1020-4703-80a8-fae4cf961a4a",
   "metadata": {},
   "outputs": [
    {
     "data": {
      "text/html": [
       "<div>\n",
       "<style scoped>\n",
       "    .dataframe tbody tr th:only-of-type {\n",
       "        vertical-align: middle;\n",
       "    }\n",
       "\n",
       "    .dataframe tbody tr th {\n",
       "        vertical-align: top;\n",
       "    }\n",
       "\n",
       "    .dataframe thead th {\n",
       "        text-align: right;\n",
       "    }\n",
       "</style>\n",
       "<table border=\"1\" class=\"dataframe\">\n",
       "  <thead>\n",
       "    <tr style=\"text-align: right;\">\n",
       "      <th></th>\n",
       "      <th>description</th>\n",
       "      <th>sr_description</th>\n",
       "    </tr>\n",
       "    <tr>\n",
       "      <th>fdc_id</th>\n",
       "      <th></th>\n",
       "      <th></th>\n",
       "    </tr>\n",
       "  </thead>\n",
       "  <tbody>\n",
       "    <tr>\n",
       "      <th>1099526</th>\n",
       "      <td>Chicken or turkey, potatoes, and vegetables ex...</td>\n",
       "      <td>Tomato products, canned, sauce ,Corn, sweet, y...</td>\n",
       "    </tr>\n",
       "  </tbody>\n",
       "</table>\n",
       "</div>"
      ],
      "text/plain": [
       "                                               description  \\\n",
       "fdc_id                                                       \n",
       "1099526  Chicken or turkey, potatoes, and vegetables ex...   \n",
       "\n",
       "                                            sr_description  \n",
       "fdc_id                                                      \n",
       "1099526  Tomato products, canned, sauce ,Corn, sweet, y...  "
      ]
     },
     "execution_count": 77,
     "metadata": {},
     "output_type": "execute_result"
    }
   ],
   "source": [
    "food.sample(1)"
   ]
  },
  {
   "cell_type": "code",
   "execution_count": null,
   "id": "7e18e94d-4d34-4242-bdcb-4df8c748bde8",
   "metadata": {},
   "outputs": [],
   "source": []
  },
  {
   "cell_type": "code",
   "execution_count": 46,
   "id": "1d509fe7-7aab-4571-a67f-a8f00cbfd3b5",
   "metadata": {},
   "outputs": [
    {
     "data": {
      "text/html": [
       "<div>\n",
       "<style scoped>\n",
       "    .dataframe tbody tr th:only-of-type {\n",
       "        vertical-align: middle;\n",
       "    }\n",
       "\n",
       "    .dataframe tbody tr th {\n",
       "        vertical-align: top;\n",
       "    }\n",
       "\n",
       "    .dataframe thead th {\n",
       "        text-align: right;\n",
       "    }\n",
       "</style>\n",
       "<table border=\"1\" class=\"dataframe\">\n",
       "  <thead>\n",
       "    <tr style=\"text-align: right;\">\n",
       "      <th></th>\n",
       "      <th>fdc_id</th>\n",
       "      <th>data_type</th>\n",
       "      <th>description</th>\n",
       "      <th>food_category_id</th>\n",
       "      <th>publication_date</th>\n",
       "    </tr>\n",
       "  </thead>\n",
       "  <tbody>\n",
       "    <tr>\n",
       "      <th>559101</th>\n",
       "      <td>1097510</td>\n",
       "      <td>survey_fndds_food</td>\n",
       "      <td>Milk, human</td>\n",
       "      <td>9602.0</td>\n",
       "      <td>2020-10-30</td>\n",
       "    </tr>\n",
       "    <tr>\n",
       "      <th>559102</th>\n",
       "      <td>1097511</td>\n",
       "      <td>survey_fndds_food</td>\n",
       "      <td>Milk, NFS</td>\n",
       "      <td>1004.0</td>\n",
       "      <td>2020-10-30</td>\n",
       "    </tr>\n",
       "    <tr>\n",
       "      <th>559103</th>\n",
       "      <td>1097512</td>\n",
       "      <td>survey_fndds_food</td>\n",
       "      <td>Milk, whole</td>\n",
       "      <td>1002.0</td>\n",
       "      <td>2020-10-30</td>\n",
       "    </tr>\n",
       "    <tr>\n",
       "      <th>559104</th>\n",
       "      <td>1097513</td>\n",
       "      <td>survey_fndds_food</td>\n",
       "      <td>Milk, low sodium, whole</td>\n",
       "      <td>1002.0</td>\n",
       "      <td>2020-10-30</td>\n",
       "    </tr>\n",
       "    <tr>\n",
       "      <th>559105</th>\n",
       "      <td>1097514</td>\n",
       "      <td>survey_fndds_food</td>\n",
       "      <td>Milk, calcium fortified, whole</td>\n",
       "      <td>1002.0</td>\n",
       "      <td>2020-10-30</td>\n",
       "    </tr>\n",
       "    <tr>\n",
       "      <th>...</th>\n",
       "      <td>...</td>\n",
       "      <td>...</td>\n",
       "      <td>...</td>\n",
       "      <td>...</td>\n",
       "      <td>...</td>\n",
       "    </tr>\n",
       "    <tr>\n",
       "      <th>566179</th>\n",
       "      <td>1104588</td>\n",
       "      <td>survey_fndds_food</td>\n",
       "      <td>Tomatoes as ingredient in omelet</td>\n",
       "      <td>9999.0</td>\n",
       "      <td>2020-10-30</td>\n",
       "    </tr>\n",
       "    <tr>\n",
       "      <th>566180</th>\n",
       "      <td>1104589</td>\n",
       "      <td>survey_fndds_food</td>\n",
       "      <td>Other vegetables as ingredient in omelet</td>\n",
       "      <td>9999.0</td>\n",
       "      <td>2020-10-30</td>\n",
       "    </tr>\n",
       "    <tr>\n",
       "      <th>566181</th>\n",
       "      <td>1104590</td>\n",
       "      <td>survey_fndds_food</td>\n",
       "      <td>Vegetables as ingredient in curry</td>\n",
       "      <td>9999.0</td>\n",
       "      <td>2020-10-30</td>\n",
       "    </tr>\n",
       "    <tr>\n",
       "      <th>566182</th>\n",
       "      <td>1104591</td>\n",
       "      <td>survey_fndds_food</td>\n",
       "      <td>Sauce as ingredient in hamburgers</td>\n",
       "      <td>9999.0</td>\n",
       "      <td>2020-10-30</td>\n",
       "    </tr>\n",
       "    <tr>\n",
       "      <th>566183</th>\n",
       "      <td>1104592</td>\n",
       "      <td>survey_fndds_food</td>\n",
       "      <td>Industrial oil as ingredient in food</td>\n",
       "      <td>9999.0</td>\n",
       "      <td>2020-10-30</td>\n",
       "    </tr>\n",
       "  </tbody>\n",
       "</table>\n",
       "<p>7083 rows × 5 columns</p>\n",
       "</div>"
      ],
      "text/plain": [
       "         fdc_id          data_type                               description  \\\n",
       "559101  1097510  survey_fndds_food                               Milk, human   \n",
       "559102  1097511  survey_fndds_food                                 Milk, NFS   \n",
       "559103  1097512  survey_fndds_food                               Milk, whole   \n",
       "559104  1097513  survey_fndds_food                   Milk, low sodium, whole   \n",
       "559105  1097514  survey_fndds_food            Milk, calcium fortified, whole   \n",
       "...         ...                ...                                       ...   \n",
       "566179  1104588  survey_fndds_food          Tomatoes as ingredient in omelet   \n",
       "566180  1104589  survey_fndds_food  Other vegetables as ingredient in omelet   \n",
       "566181  1104590  survey_fndds_food         Vegetables as ingredient in curry   \n",
       "566182  1104591  survey_fndds_food         Sauce as ingredient in hamburgers   \n",
       "566183  1104592  survey_fndds_food      Industrial oil as ingredient in food   \n",
       "\n",
       "        food_category_id publication_date  \n",
       "559101            9602.0       2020-10-30  \n",
       "559102            1004.0       2020-10-30  \n",
       "559103            1002.0       2020-10-30  \n",
       "559104            1002.0       2020-10-30  \n",
       "559105            1002.0       2020-10-30  \n",
       "...                  ...              ...  \n",
       "566179            9999.0       2020-10-30  \n",
       "566180            9999.0       2020-10-30  \n",
       "566181            9999.0       2020-10-30  \n",
       "566182            9999.0       2020-10-30  \n",
       "566183            9999.0       2020-10-30  \n",
       "\n",
       "[7083 rows x 5 columns]"
      ]
     },
     "execution_count": 46,
     "metadata": {},
     "output_type": "execute_result"
    }
   ],
   "source": [
    "food"
   ]
  },
  {
   "cell_type": "code",
   "execution_count": 33,
   "id": "9e4b2fd1-9277-4f41-91c8-20c95b312f00",
   "metadata": {},
   "outputs": [
    {
     "data": {
      "text/plain": [
       "Int64Index([1097510, 1097511, 1097512, 1097513, 1097514, 1097515, 1097516,\n",
       "            1097517, 1097518, 1097519,\n",
       "            ...\n",
       "            1104583, 1104584, 1104585, 1104586, 1104587, 1104588, 1104589,\n",
       "            1104590, 1104591, 1104592],\n",
       "           dtype='int64', name='fdc_id', length=7083)"
      ]
     },
     "execution_count": 33,
     "metadata": {},
     "output_type": "execute_result"
    }
   ],
   "source": [
    "food.index"
   ]
  },
  {
   "cell_type": "code",
   "execution_count": null,
   "id": "3474a428-d4ac-4d4e-9dc5-8a7b19d5bc5b",
   "metadata": {},
   "outputs": [],
   "source": []
  }
 ],
 "metadata": {
  "kernelspec": {
   "display_name": "f4",
   "language": "python",
   "name": "f4"
  },
  "language_info": {
   "codemirror_mode": {
    "name": "ipython",
    "version": 3
   },
   "file_extension": ".py",
   "mimetype": "text/x-python",
   "name": "python",
   "nbconvert_exporter": "python",
   "pygments_lexer": "ipython3",
   "version": "3.9.13"
  }
 },
 "nbformat": 4,
 "nbformat_minor": 5
}
