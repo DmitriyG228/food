{
 "cells": [
  {
   "cell_type": "code",
   "execution_count": 1,
   "id": "224b597e-f55b-4fd5-85f0-f3595211de95",
   "metadata": {},
   "outputs": [],
   "source": [
    "%load_ext autoreload\n",
    "%autoreload 2"
   ]
  },
  {
   "cell_type": "code",
   "execution_count": 2,
   "id": "50219bce-9c91-4cf3-8530-d0507933e848",
   "metadata": {},
   "outputs": [],
   "source": [
    "#default_exp search"
   ]
  },
  {
   "cell_type": "code",
   "execution_count": 3,
   "id": "f317ff83-5b2e-451b-a5bb-5268ffe2f75a",
   "metadata": {
    "tags": []
   },
   "outputs": [
    {
     "name": "stdout",
     "output_type": "stream",
     "text": [
      "dev\n",
      "Since no pretrained weights have been provided, we load the reference pretrained DINO weights.\n"
     ]
    },
    {
     "name": "stderr",
     "output_type": "stream",
     "text": [
      "/home/dima/anaconda3/envs/f4/lib/python3.9/site-packages/torchmetrics/utilities/prints.py:36: UserWarning: Torchmetrics v0.9 introduced a new argument class property called `full_state_update` that has\n",
      "                not been set for this class (UnsupervisedMetrics). The property determines if `update` by\n",
      "                default needs access to the full metric state. If this is not the case, significant speedups can be\n",
      "                achieved and we recommend setting this to `False`.\n",
      "                We provide an checking function\n",
      "                `from torchmetrics.utilities import check_forward_no_full_state`\n",
      "                that can be used to check if the `full_state_update=True` (old and potential slower behaviour,\n",
      "                default for now) or if `full_state_update=False` can be used safely.\n",
      "                \n",
      "  warnings.warn(*args, **kwargs)\n"
     ]
    },
    {
     "name": "stdout",
     "output_type": "stream",
     "text": [
      "/home/dima/FoodSeg103-Benchmark-v1/checkpoints/SETR_Naive_ReLeM\n"
     ]
    },
    {
     "name": "stderr",
     "output_type": "stream",
     "text": [
      "/home/dima/FoodSeg103-Benchmark-v1/mmseg/models/builder.py:59: UserWarning: train_cfg and test_cfg is deprecated, please specify them in model\n",
      "  warnings.warn(\n"
     ]
    },
    {
     "name": "stdout",
     "output_type": "stream",
     "text": [
      "load pre-trained weight from imagenet21k\n"
     ]
    }
   ],
   "source": [
    "#export\n",
    "import sys\n",
    "sys.path.insert(0,'..')\n",
    "from mytools.tools import *\n",
    "from food.paths import *\n",
    "from food.psql import *\n",
    "import requests\n",
    "import torch\n",
    "import numpy as np\n",
    "import pandas as pd\n",
    "from PIL import Image, ImageFont, ImageDraw, ImageEnhance\n",
    "from food.paths import *\n",
    "from stego.segment import get_food_segment\n",
    "from segmentor.segment import *\n",
    "\n",
    "from mytools.visual import *"
   ]
  },
  {
   "cell_type": "code",
   "execution_count": 4,
   "id": "a0d95457-c328-479f-8212-4e4c1dec94e6",
   "metadata": {},
   "outputs": [
    {
     "name": "stderr",
     "output_type": "stream",
     "text": [
      "/home/dima/mytools/mytools/tools.py:27: UserWarning: Creating a tensor from a list of numpy.ndarrays is extremely slow. Please consider converting the list to a single numpy.ndarray with numpy.array() before converting to a tensor. (Triggered internally at  ../torch/csrc/utils/tensor_new.cpp:201.)\n",
      "  series2tensor = lambda series:torch.tensor([np.array(c) for c in series.values])\n"
     ]
    }
   ],
   "source": [
    "#export\n",
    "bad_cats = ['Vegetables on a sandwich','Candy containing chocolate','Baby juice']\n",
    "bad_descs = ['Banana, fried']\n",
    "\n",
    "\n",
    "foods = pd.read_sql(\"\"\"select f.*\n",
    "                        from food.foods_prompted f\"\"\",engine)\n",
    "\n",
    "# foods = foods.drop(columns = ['clip'])\n",
    "foods = foods.set_index('id')\n",
    "foods = foods.dropna()\n",
    "\n",
    "foods = foods[~foods['category'].isin(bad_cats)]\n",
    "foods = foods[~foods['description'].isin(bad_descs)]\n",
    "\n",
    "food_clips = series2tensor(foods['clip'])"
   ]
  },
  {
   "cell_type": "code",
   "execution_count": 39,
   "id": "8dd61d70-91fe-4ecf-826a-3e0f79c03a26",
   "metadata": {},
   "outputs": [],
   "source": [
    "#export\n",
    "def search(url):\n",
    "    img = get_image_from_url(url)\n",
    "    img = crop_image_to_square(img)\n",
    "    photo_id = url.split('/')[-1]\n",
    "    i = np.asarray(img, dtype=\"uint8\")\n",
    "    i = np.flip(i,2)\n",
    "    segmentor_mask = inference_segmentor(segment_model, i)[0]\n",
    "\n",
    "    classes = np.unique(segmentor_mask)[1:]\n",
    "    classes_ =[]\n",
    "    urls = []\n",
    "    for c in classes:\n",
    "        area = segmentor_mask[segmentor_mask==c].shape[0]\n",
    "        if area> 20*20:\n",
    "            class_mask = np.where(segmentor_mask==c,1,0)\n",
    "            class_mask = expand_boundaries(class_mask,times=5,factor=5)\n",
    "            img_arr = apply_mask(img,class_mask.T).astype(np.uint8)\n",
    "            img_arr = crop_zeros(img_arr)\n",
    "            img_arr[img_arr==[0,0,0]]=255 #replace black with while\n",
    "            fname = f'{photo_id}_{c}.jpg'\n",
    "\n",
    "            Image.fromarray(img_arr).save(fragment_reference_images_path/fname)\n",
    "            urls.append(f'https://dima.grankin.eu/fragment_reference_images/{fname}')\n",
    "            classes_.append(c+1)\n",
    "\n",
    "    classes = classes_\n",
    "    stego_img,stego_mask = get_food_segment(img)\n",
    "    stego_img.save(fragment_reference_images_path/f'{photo_id}_stego.jpg')\n",
    "    urls.append(f'https://dima.grankin.eu/fragment_reference_images/{photo_id}_stego.jpg')\n",
    "\n",
    "    clip_df = pd.DataFrame()\n",
    "    for u in urls:\n",
    "        clip_df = clip_df.append(search_clip(u,foods,food_clips,head = 1)[1])\n",
    "    clip_df=clip_df.reset_index(drop=True)\n",
    "    clip_df['classes'] = classes+[1]\n",
    "\n",
    "    mask = stego_mask+segmentor_mask\n",
    "    calorie_mask   = mask\n",
    "    fat_mask       = mask\n",
    "    carbs_mask     = mask\n",
    "    protein_mask   = mask\n",
    "    \n",
    "    \n",
    "    dicts =[]\n",
    "    masks =[]\n",
    "    \n",
    "    for col in ['energy','protein','carb','fat']:\n",
    "        dicts.append(clip_df[['classes',col]].set_index(\"classes\")[col].to_dict())\n",
    "        masks.append(torch.clone(mask))\n",
    "        \n",
    "    for c in np.unique(mask):\n",
    "        if c not in dicts[0].keys():\n",
    "            for mask in masks:\n",
    "                mask[mask==c]=0\n",
    "                \n",
    "                \n",
    "    for d,mask in zip(dicts,masks):\n",
    "        for k,v in d.items(): mask[mask == k] = v\n",
    "        \n",
    "    \n",
    "    return img,clip_df,masks"
   ]
  },
  {
   "cell_type": "code",
   "execution_count": 40,
   "id": "7cf866ed-a8bb-4ea8-b223-a67efa5c036a",
   "metadata": {
    "tags": []
   },
   "outputs": [
    {
     "data": {
      "text/plain": [
       "[None, None, None, None]"
      ]
     },
     "execution_count": 40,
     "metadata": {},
     "output_type": "execute_result"
    }
   ],
   "source": [
    "[f.unlink() for f in fragment_reference_images_path.ls()]"
   ]
  },
  {
   "cell_type": "code",
   "execution_count": null,
   "id": "013af842-1db3-40c3-8c93-3112bb858bc0",
   "metadata": {},
   "outputs": [],
   "source": []
  },
  {
   "cell_type": "code",
   "execution_count": 41,
   "id": "cab97414-dca9-42d4-bd43-17e141a5ea56",
   "metadata": {},
   "outputs": [],
   "source": [
    "url = 'https://staticfanpage.akamaized.net/wp-content/uploads/sites/22/2022/03/Porridge-9-1200x675.jpg'"
   ]
  },
  {
   "cell_type": "code",
   "execution_count": 43,
   "id": "522bd173-605a-4670-985c-bf7b3c2d7472",
   "metadata": {
    "tags": []
   },
   "outputs": [
    {
     "name": "stderr",
     "output_type": "stream",
     "text": [
      "/home/dima/anaconda3/envs/f4/lib/python3.9/site-packages/torch/nn/functional.py:3509: UserWarning: nn.functional.upsample is deprecated. Use nn.functional.interpolate instead.\n",
      "  warnings.warn(\"nn.functional.upsample is deprecated. Use nn.functional.interpolate instead.\")\n",
      "/home/dima/anaconda3/envs/f4/lib/python3.9/site-packages/torch/nn/functional.py:3679: UserWarning: The default behavior for interpolate/upsample with float scale_factor changed in 1.6.0 to align with other frameworks/libraries, and now uses scale_factor directly, instead of relying on the computed output size. If you wish to restore the old behavior, please set recompute_scale_factor=True. See the documentation of nn.Upsample for details. \n",
      "  warnings.warn(\n",
      "/home/dima/anaconda3/envs/f4/lib/python3.9/site-packages/torchvision/transforms/transforms.py:287: UserWarning: Argument interpolation should be of type InterpolationMode instead of int. Please, use InterpolationMode enum.\n",
      "  warnings.warn(\n",
      "/home/dima/anaconda3/envs/f4/lib/python3.9/site-packages/torch/nn/functional.py:3631: UserWarning: Default upsampling behavior when mode=bicubic is changed to align_corners=False since 0.4.0. Please specify align_corners=True if the old behavior is desired. See the documentation of nn.Upsample for details.\n",
      "  warnings.warn(\n",
      "/tmp/ipykernel_3462295/2333163863.py:34: FutureWarning: The frame.append method is deprecated and will be removed from pandas in a future version. Use pandas.concat instead.\n",
      "  clip_df = clip_df.append(search_clip(u,foods,food_clips,head = 1)[1])\n",
      "/tmp/ipykernel_3462295/2333163863.py:34: FutureWarning: The frame.append method is deprecated and will be removed from pandas in a future version. Use pandas.concat instead.\n",
      "  clip_df = clip_df.append(search_clip(u,foods,food_clips,head = 1)[1])\n",
      "/tmp/ipykernel_3462295/2333163863.py:34: FutureWarning: The frame.append method is deprecated and will be removed from pandas in a future version. Use pandas.concat instead.\n",
      "  clip_df = clip_df.append(search_clip(u,foods,food_clips,head = 1)[1])\n",
      "/tmp/ipykernel_3462295/2333163863.py:34: FutureWarning: The frame.append method is deprecated and will be removed from pandas in a future version. Use pandas.concat instead.\n",
      "  clip_df = clip_df.append(search_clip(u,foods,food_clips,head = 1)[1])\n"
     ]
    }
   ],
   "source": [
    "img,clip_df,masks = search(url)"
   ]
  },
  {
   "cell_type": "code",
   "execution_count": null,
   "id": "9fffb512-3169-4120-983d-6988b1b5999e",
   "metadata": {},
   "outputs": [],
   "source": []
  },
  {
   "cell_type": "code",
   "execution_count": 57,
   "id": "c218bf94-bdb2-4f58-8ab1-9d64f1de4cbe",
   "metadata": {},
   "outputs": [
    {
     "data": {
      "text/plain": [
       "[64.1, 1.7, 10.7, 1.9]"
      ]
     },
     "execution_count": 57,
     "metadata": {},
     "output_type": "execute_result"
    }
   ],
   "source": [
    "[round(float(mask[mask!=0].mean()),1) for mask in masks]"
   ]
  },
  {
   "cell_type": "code",
   "execution_count": 48,
   "id": "be809a9f-6956-4f3e-9926-c51b060a9e4e",
   "metadata": {},
   "outputs": [
    {
     "ename": "IndexError",
     "evalue": "list index out of range",
     "output_type": "error",
     "traceback": [
      "\u001b[0;31m---------------------------------------------------------------------------\u001b[0m",
      "\u001b[0;31mIndexError\u001b[0m                                Traceback (most recent call last)",
      "Input \u001b[0;32mIn [48]\u001b[0m, in \u001b[0;36m<cell line: 1>\u001b[0;34m()\u001b[0m\n\u001b[0;32m----> 1\u001b[0m visualize_array(\u001b[43mmasks\u001b[49m\u001b[43m[\u001b[49m\u001b[38;5;241;43m4\u001b[39;49m\u001b[43m]\u001b[49m\u001b[38;5;241m.\u001b[39mnumpy(),img)\n",
      "\u001b[0;31mIndexError\u001b[0m: list index out of range"
     ]
    }
   ],
   "source": [
    "visualize_array(masks[4].numpy(),img)"
   ]
  },
  {
   "cell_type": "code",
   "execution_count": null,
   "id": "5978d46e-2343-416f-bc68-45e802e083da",
   "metadata": {},
   "outputs": [],
   "source": []
  },
  {
   "cell_type": "code",
   "execution_count": null,
   "id": "f508d32d-48dd-4740-9e61-85049ee1a8fd",
   "metadata": {},
   "outputs": [],
   "source": []
  },
  {
   "cell_type": "code",
   "execution_count": 9,
   "id": "b2cede90-724b-41d5-a4c5-9610cca639c7",
   "metadata": {},
   "outputs": [
    {
     "data": {
      "text/plain": [
       "'Berries, NFS Berries, NFS Oatmeal, NS as to regular, quick, or instant, NS as to fat Oatmeal, NS as to regular, quick, or instant, NS as to fat'"
      ]
     },
     "execution_count": 9,
     "metadata": {},
     "output_type": "execute_result"
    }
   ],
   "source": [
    "' '.join(df['description'].tolist())"
   ]
  },
  {
   "cell_type": "code",
   "execution_count": 23,
   "id": "8b2c3353-b3b8-4004-bc0c-7f5f80e8e604",
   "metadata": {},
   "outputs": [
    {
     "data": {
      "text/plain": [
       "tensor([[0., 0., 0.,  ..., 0., 0., 0.],\n",
       "        [0., 0., 0.,  ..., 0., 0., 0.],\n",
       "        [0., 0., 0.,  ..., 0., 0., 0.],\n",
       "        ...,\n",
       "        [0., 0., 0.,  ..., 0., 0., 0.],\n",
       "        [0., 0., 0.,  ..., 0., 0., 0.],\n",
       "        [0., 0., 0.,  ..., 0., 0., 0.]], dtype=torch.float64)"
      ]
     },
     "execution_count": 24,
     "metadata": {},
     "output_type": "execute_result"
    }
   ],
   "source": []
  },
  {
   "cell_type": "code",
   "execution_count": 12,
   "id": "b1735eb7-d197-4359-a256-e12f9504ed93",
   "metadata": {},
   "outputs": [
    {
     "data": {
      "text/plain": [
       "tensor(64.1507, dtype=torch.float64)"
      ]
     },
     "execution_count": 12,
     "metadata": {},
     "output_type": "execute_result"
    }
   ],
   "source": [
    "mask[mask!=0].mean()"
   ]
  },
  {
   "cell_type": "code",
   "execution_count": 11,
   "id": "828f99e8-0997-4eda-b2ae-5113f4ecc04e",
   "metadata": {},
   "outputs": [
    {
     "data": {
      "text/html": [
       "<div>\n",
       "<style scoped>\n",
       "    .dataframe tbody tr th:only-of-type {\n",
       "        vertical-align: middle;\n",
       "    }\n",
       "\n",
       "    .dataframe tbody tr th {\n",
       "        vertical-align: top;\n",
       "    }\n",
       "\n",
       "    .dataframe thead th {\n",
       "        text-align: right;\n",
       "    }\n",
       "</style>\n",
       "<table border=\"1\" class=\"dataframe\">\n",
       "  <thead>\n",
       "    <tr style=\"text-align: right;\">\n",
       "      <th></th>\n",
       "      <th>id</th>\n",
       "      <th>description</th>\n",
       "      <th>category</th>\n",
       "      <th>energy</th>\n",
       "      <th>protein</th>\n",
       "      <th>carb</th>\n",
       "      <th>fat</th>\n",
       "      <th>text</th>\n",
       "      <th>clip</th>\n",
       "      <th>score</th>\n",
       "      <th>classes</th>\n",
       "    </tr>\n",
       "  </thead>\n",
       "  <tbody>\n",
       "    <tr>\n",
       "      <th>0</th>\n",
       "      <td>1102699</td>\n",
       "      <td>Berries, NFS</td>\n",
       "      <td>Blueberries and other berries</td>\n",
       "      <td>40.0</td>\n",
       "      <td>0.69</td>\n",
       "      <td>9.72</td>\n",
       "      <td>0.31</td>\n",
       "      <td>the food is blueberries and other berries . it...</td>\n",
       "      <td>[0.045548365, -0.0103531685, 0.019558156, 0.00...</td>\n",
       "      <td>0.260989</td>\n",
       "      <td>32</td>\n",
       "    </tr>\n",
       "    <tr>\n",
       "      <th>1</th>\n",
       "      <td>1102699</td>\n",
       "      <td>Berries, NFS</td>\n",
       "      <td>Blueberries and other berries</td>\n",
       "      <td>40.0</td>\n",
       "      <td>0.69</td>\n",
       "      <td>9.72</td>\n",
       "      <td>0.31</td>\n",
       "      <td>the food is blueberries and other berries . it...</td>\n",
       "      <td>[0.045548365, -0.0103531685, 0.019558156, 0.00...</td>\n",
       "      <td>0.266057</td>\n",
       "      <td>33</td>\n",
       "    </tr>\n",
       "    <tr>\n",
       "      <th>2</th>\n",
       "      <td>1101576</td>\n",
       "      <td>Oatmeal, NS as to regular, quick, or instant, ...</td>\n",
       "      <td>Oatmeal</td>\n",
       "      <td>76.0</td>\n",
       "      <td>2.18</td>\n",
       "      <td>11.17</td>\n",
       "      <td>2.61</td>\n",
       "      <td>the food is oatmeal . it has a little bit of  ...</td>\n",
       "      <td>[0.0011570271, 5.0268736e-06, -0.0030068187, 0...</td>\n",
       "      <td>0.280790</td>\n",
       "      <td>53</td>\n",
       "    </tr>\n",
       "    <tr>\n",
       "      <th>3</th>\n",
       "      <td>1101576</td>\n",
       "      <td>Oatmeal, NS as to regular, quick, or instant, ...</td>\n",
       "      <td>Oatmeal</td>\n",
       "      <td>76.0</td>\n",
       "      <td>2.18</td>\n",
       "      <td>11.17</td>\n",
       "      <td>2.61</td>\n",
       "      <td>the food is oatmeal . it has a little bit of  ...</td>\n",
       "      <td>[0.0011570271, 5.0268736e-06, -0.0030068187, 0...</td>\n",
       "      <td>0.284375</td>\n",
       "      <td>1</td>\n",
       "    </tr>\n",
       "  </tbody>\n",
       "</table>\n",
       "</div>"
      ],
      "text/plain": [
       "        id                                        description  \\\n",
       "0  1102699                                       Berries, NFS   \n",
       "1  1102699                                       Berries, NFS   \n",
       "2  1101576  Oatmeal, NS as to regular, quick, or instant, ...   \n",
       "3  1101576  Oatmeal, NS as to regular, quick, or instant, ...   \n",
       "\n",
       "                        category  energy  protein   carb   fat  \\\n",
       "0  Blueberries and other berries    40.0     0.69   9.72  0.31   \n",
       "1  Blueberries and other berries    40.0     0.69   9.72  0.31   \n",
       "2                        Oatmeal    76.0     2.18  11.17  2.61   \n",
       "3                        Oatmeal    76.0     2.18  11.17  2.61   \n",
       "\n",
       "                                                text  \\\n",
       "0  the food is blueberries and other berries . it...   \n",
       "1  the food is blueberries and other berries . it...   \n",
       "2  the food is oatmeal . it has a little bit of  ...   \n",
       "3  the food is oatmeal . it has a little bit of  ...   \n",
       "\n",
       "                                                clip     score  classes  \n",
       "0  [0.045548365, -0.0103531685, 0.019558156, 0.00...  0.260989       32  \n",
       "1  [0.045548365, -0.0103531685, 0.019558156, 0.00...  0.266057       33  \n",
       "2  [0.0011570271, 5.0268736e-06, -0.0030068187, 0...  0.280790       53  \n",
       "3  [0.0011570271, 5.0268736e-06, -0.0030068187, 0...  0.284375        1  "
      ]
     },
     "execution_count": 11,
     "metadata": {},
     "output_type": "execute_result"
    }
   ],
   "source": [
    "df"
   ]
  },
  {
   "cell_type": "code",
   "execution_count": 42,
   "id": "6c5badd7-143e-4157-a2f6-803debc36915",
   "metadata": {},
   "outputs": [
    {
     "name": "stdout",
     "output_type": "stream",
     "text": [
      "Converted 00_paths.ipynb.\n",
      "Converted 00_psql.ipynb.\n",
      "Converted 01_search.ipynb.\n",
      "Converted bot.ipynb.\n",
      "Converted inference.ipynb.\n",
      "Converted search_dev.ipynb.\n",
      "Converted search_segmented_stable.ipynb.\n",
      "Converted stats.ipynb.\n",
      "Converted usda_parsing.ipynb.\n"
     ]
    }
   ],
   "source": [
    "!conda activate f4; nbdev_build_lib"
   ]
  },
  {
   "cell_type": "code",
   "execution_count": null,
   "id": "24703207-aefd-43eb-bc9b-e29acc624741",
   "metadata": {},
   "outputs": [],
   "source": []
  }
 ],
 "metadata": {
  "kernelspec": {
   "display_name": "f4",
   "language": "python",
   "name": "f4"
  },
  "language_info": {
   "codemirror_mode": {
    "name": "ipython",
    "version": 3
   },
   "file_extension": ".py",
   "mimetype": "text/x-python",
   "name": "python",
   "nbconvert_exporter": "python",
   "pygments_lexer": "ipython3",
   "version": "3.9.13"
  }
 },
 "nbformat": 4,
 "nbformat_minor": 5
}
