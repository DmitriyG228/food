{
 "cells": [
  {
   "cell_type": "code",
   "execution_count": 1,
   "id": "a7cd1cde-0371-4eb0-8787-552d50403701",
   "metadata": {},
   "outputs": [
    {
     "name": "stdout",
     "output_type": "stream",
     "text": [
      "dev\n"
     ]
    }
   ],
   "source": [
    "import sys\n",
    "sys.path.insert(0,'..')\n",
    "from mytools.tools import *\n",
    "from food.paths import *\n",
    "from food.psql import *\n",
    "import requests\n",
    "import torch\n",
    "import numpy as np\n",
    "import pandas as pd\n",
    "from PIL import Image, ImageFont, ImageDraw, ImageEnhance"
   ]
  },
  {
   "cell_type": "code",
   "execution_count": 2,
   "id": "ed9cadde-7c33-4b6c-89e8-4df7b839346e",
   "metadata": {},
   "outputs": [
    {
     "data": {
      "text/plain": [
       "5434"
      ]
     },
     "execution_count": 2,
     "metadata": {},
     "output_type": "execute_result"
    }
   ],
   "source": [
    "port"
   ]
  },
  {
   "cell_type": "code",
   "execution_count": 3,
   "id": "04d65829-151f-493e-9c49-7e7b456fa836",
   "metadata": {},
   "outputs": [],
   "source": [
    "def crop_image_to_square(img):\n",
    "    height = img.size[1]//2*2\n",
    "    left  = int((img.size[0]-height)/2)\n",
    "    right =      img.size[0]-left\n",
    "    return img.crop((left,0,right,height))"
   ]
  },
  {
   "cell_type": "code",
   "execution_count": 6,
   "id": "1eaaeba7-f6c4-4a25-8485-add2c52c92f4",
   "metadata": {},
   "outputs": [],
   "source": [
    "foods = pd.read_sql(\"\"\"select f.*\n",
    "                        from food.foods_prompted f\"\"\",engine)\n",
    "\n",
    "# foods = foods.drop(columns = ['clip'])\n",
    "foods = foods.set_index('id')\n",
    "foods = foods.dropna()"
   ]
  },
  {
   "cell_type": "code",
   "execution_count": 8,
   "id": "70a9c49e-bebd-4a4f-81e1-97c2c764caad",
   "metadata": {},
   "outputs": [],
   "source": [
    "def search_clip(url,head = 1):\n",
    "    image_clip = requests.post(f'http://127.0.0.1:8182/image2vector/?url={url}').json()\n",
    "    image_clip = torch.tensor(image_clip)\n",
    "    df = foods.copy()\n",
    "    df['score'] = cos(food_clips,image_clip)\n",
    "    df = df.sort_values('score',ascending=False)[:head]\n",
    "\n",
    "    return image_clip,df.reset_index()"
   ]
  },
  {
   "cell_type": "code",
   "execution_count": 9,
   "id": "695c787a-7419-4174-aba1-a4c2f03a79d4",
   "metadata": {},
   "outputs": [],
   "source": [
    "url = 'https://image.shutterstock.com/z/stock-photo-healhty-vegan-lunch-bowl-avocado-quinoa-sweet-potato-tomato-spinach-and-chickpeas-vegetables-753381028.jpg'\n",
    "image = get_image_from_url(url)\n",
    "image = crop_image_to_square(image)\n",
    "total_size = image.size[0]*image.size[1]"
   ]
  },
  {
   "cell_type": "code",
   "execution_count": null,
   "id": "0c52b2c9-e72f-4b7c-a4fc-2d2b1249935f",
   "metadata": {},
   "outputs": [],
   "source": []
  },
  {
   "cell_type": "code",
   "execution_count": null,
   "id": "472abbf7-dfcb-42ef-b57d-8bd75c011a67",
   "metadata": {},
   "outputs": [],
   "source": []
  },
  {
   "cell_type": "code",
   "execution_count": null,
   "id": "bc23304f-020e-451d-862e-8364beaf4f19",
   "metadata": {},
   "outputs": [],
   "source": []
  },
  {
   "cell_type": "code",
   "execution_count": null,
   "id": "9548fc27-c5c7-4e9c-809a-39e90d8c5e08",
   "metadata": {},
   "outputs": [],
   "source": []
  }
 ],
 "metadata": {
  "kernelspec": {
   "display_name": "f3",
   "language": "python",
   "name": "f3"
  },
  "language_info": {
   "codemirror_mode": {
    "name": "ipython",
    "version": 3
   },
   "file_extension": ".py",
   "mimetype": "text/x-python",
   "name": "python",
   "nbconvert_exporter": "python",
   "pygments_lexer": "ipython3",
   "version": "3.9.13"
  }
 },
 "nbformat": 4,
 "nbformat_minor": 5
}
