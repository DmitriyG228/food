{
 "cells": [
  {
   "cell_type": "code",
   "execution_count": null,
   "metadata": {
    "vscode": {
     "languageId": "plaintext"
    }
   },
   "outputs": [],
   "source": []
  },
  {
   "cell_type": "code",
   "execution_count": null,
   "metadata": {
    "vscode": {
     "languageId": "plaintext"
    }
   },
   "outputs": [],
   "source": []
  },
  {
   "cell_type": "code",
   "execution_count": null,
   "metadata": {
    "vscode": {
     "languageId": "plaintext"
    }
   },
   "outputs": [],
   "source": []
  },
  {
   "cell_type": "code",
   "execution_count": null,
   "metadata": {
    "vscode": {
     "languageId": "plaintext"
    }
   },
   "outputs": [],
   "source": []
  },
  {
   "cell_type": "markdown",
   "metadata": {},
   "source": [
    "\n",
    "if  `/start` recieved:\n",
    "\tsend text: \"Counting calories as easy as taking pictures. Just capture everything before you eat it\"\n",
    "\tsend text: \"Now send a photo of your meal to try\"\n",
    "\n",
    "\n",
    "if  type `location` recieved:\n",
    "\tsave user locaiton\n",
    "\n",
    "\n",
    "\n",
    "if  `/help` recieved\n",
    "\tsend text:\"join our community group https://t.me/+nIBkPkw3vpM0NDJi\"\n",
    "\n",
    "\n",
    "if `/cancel` recieved\n",
    "\tsend text: \"cancalled\"\n",
    "\tcancel current dish input\n",
    "\n",
    "if type `photo` recieved\n",
    "\tsend action `typing`\n",
    "\tsend `descrition of food`\n",
    "\tsend `nutrient value`\n",
    "\tsend text `set weight of the dish you are going to eat`\n",
    "\tsend `selection of grams values` to choose from (10-400 grams with step of 10)\n",
    "\n",
    "\n",
    "if type `text` recieved:\n",
    "\tif `text` is a number and photo has been provided (than it's considered da gram value)\n",
    "\t\tsave the dish to database\n",
    "\t\tif no location prefiously provided:\n",
    "\t\t\tsend text \"Please send your location to that we know your local time\"\n",
    "\n",
    "\t\tsend text \"`number of grams` of `food description` added\"\n",
    "\t\tsend text \"You have consumed {today_consumed} kcall today\"\n",
    "\n",
    "\t\n",
    "\tif `text` is not a number or photo has not been previously provided:\n",
    "\t\tsend text \"Please take a photo of your dish\""
   ]
  }
 ],
 "metadata": {
  "interpreter": {
   "hash": "1e1ee659a212ecca49d6a1809275141ef7642c152d6286fb803a43d965656456"
  },
  "kernelspec": {
   "display_name": "Python 3.9.7 ('food')",
   "language": "python",
   "name": "python3"
  },
  "language_info": {
   "name": "python",
   "version": "3.9.7"
  },
  "orig_nbformat": 4
 },
 "nbformat": 4,
 "nbformat_minor": 2
}
