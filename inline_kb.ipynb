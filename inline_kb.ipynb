{
 "cells": [
  {
   "cell_type": "code",
   "execution_count": 1,
   "metadata": {},
   "outputs": [],
   "source": [
    "from aiogram import Bot, Dispatcher, executor, types\n",
    "from aiogram.types import ContentType\n",
    "from aiogram.dispatcher.filters.state import State, StatesGroup\n",
    "from aiogram.types.message import ContentTypes\n",
    "from aiogram.dispatcher import FSMContext\n",
    "from aiogram.contrib.fsm_storage.memory import MemoryStorage\n",
    "from sqlalchemy import update\n",
    "from aiogram.dispatcher.filters.state import State, StatesGroup\n",
    "\n",
    "API_TOKEN = \"5091011572:AAG4NfkC_zZjcsaAFkwLm4ZXOvhEqyLpQhY\"\n"
   ]
  },
  {
   "cell_type": "code",
   "execution_count": 2,
   "metadata": {},
   "outputs": [],
   "source": [
    "from food.paths import *\n",
    "from food.search import *\n",
    "import pandas as  pd\n",
    "from food.psql import *\n",
    "import pytz\n",
    "timezones = pytz.all_timezones\n",
    "import requests\n",
    "from requests.structures import CaseInsensitiveDict\n",
    "import urllib\n",
    "from tzwhere import tzwhere"
   ]
  },
  {
   "cell_type": "code",
   "execution_count": 3,
   "metadata": {},
   "outputs": [],
   "source": [
    "import nest_asyncio\n",
    "nest_asyncio.apply()"
   ]
  },
  {
   "cell_type": "code",
   "execution_count": 4,
   "metadata": {},
   "outputs": [],
   "source": [
    "bot = Bot(token=API_TOKEN)\n",
    "storage = MemoryStorage()\n",
    "dp = Dispatcher(bot, storage=storage)\n",
    "\n",
    "dishes_table = Dishes.__table__"
   ]
  },
  {
   "cell_type": "code",
   "execution_count": 5,
   "metadata": {},
   "outputs": [],
   "source": [
    "from aiogram.utils.callback_data import CallbackData\n",
    "import typing"
   ]
  },
  {
   "cell_type": "code",
   "execution_count": 6,
   "metadata": {},
   "outputs": [],
   "source": [
    "def geocode(q):\n",
    "    geocoding_key = '5d96ac126bcb462cb373297924ab2cb4'\n",
    "    url = \"https://api.geoapify.com/v1/geocode/search?\"\n",
    "\n",
    "    params = {\"apiKey\":geocoding_key, \n",
    "            \"text\":q}\n",
    "\n",
    "    resp = requests.get(url + urllib.parse.urlencode(params)).json()\n",
    "    return  pd.json_normalize(resp['features']).sort_values('properties.rank.importance',ascending = False)[['properties.lat','properties.lon']].iloc[0].to_list()\n",
    "   "
   ]
  },
  {
   "cell_type": "code",
   "execution_count": 7,
   "metadata": {},
   "outputs": [],
   "source": [
    "def get_tz(q):\n",
    "    lat,lon = geocode(q)\n",
    "    return tzwhere.tzwhere().tzNameAt(lat,lon)"
   ]
  },
  {
   "cell_type": "code",
   "execution_count": 8,
   "metadata": {},
   "outputs": [],
   "source": [
    "async def async_get_tz(q):\n",
    "    return get_tz(q)"
   ]
  },
  {
   "cell_type": "code",
   "execution_count": 9,
   "metadata": {},
   "outputs": [],
   "source": [
    "async def async_search_image(url, env='prod'):\n",
    "    return search_image(url,env)"
   ]
  },
  {
   "cell_type": "code",
   "execution_count": 10,
   "metadata": {},
   "outputs": [],
   "source": [
    "async def async_geocode(q):\n",
    "    return geocode(q)"
   ]
  },
  {
   "cell_type": "code",
   "execution_count": 11,
   "metadata": {},
   "outputs": [],
   "source": [
    "async def  async_insert_on_conflict(*args, **qwargs):\n",
    "    return insert_on_conflict(*args, **qwargs)"
   ]
  },
  {
   "cell_type": "code",
   "execution_count": 12,
   "metadata": {},
   "outputs": [],
   "source": [
    "async def add_sender(message):\n",
    "    sender = message['from'].to_python()\n",
    "    sender = pd.DataFrame(sender,index=[0]).drop(columns =['is_bot'])\n",
    "    await async_insert_on_conflict(sender,'users',unique_cols=['id'])"
   ]
  },
  {
   "cell_type": "code",
   "execution_count": null,
   "metadata": {},
   "outputs": [],
   "source": []
  },
  {
   "cell_type": "code",
   "execution_count": null,
   "metadata": {},
   "outputs": [],
   "source": []
  },
  {
   "cell_type": "code",
   "execution_count": null,
   "metadata": {},
   "outputs": [],
   "source": []
  },
  {
   "cell_type": "code",
   "execution_count": 13,
   "metadata": {},
   "outputs": [],
   "source": [
    "add_dish_cb   = CallbackData('add_dish', 'action')\n",
    "measurment_cb = CallbackData('measurment', 'weight')\n",
    "edit_dish_cb  = CallbackData('edit_dish', 'action')\n",
    "\n",
    "ml_version = 0.2"
   ]
  },
  {
   "cell_type": "code",
   "execution_count": 14,
   "metadata": {},
   "outputs": [],
   "source": [
    "def get_keyboard(t):\n",
    "    markup = types.InlineKeyboardMarkup()\n",
    "    if t == 'add_dish' :  \n",
    "        markup.add(types.InlineKeyboardButton('add_dish', callback_data=add_dish_cb.new(action='yes')))\n",
    "         \n",
    "    elif t == 'measurment':\n",
    "\n",
    "        markup = types.InlineKeyboardMarkup(row_width=8)\n",
    "        btns_text = tuple([(str(p)) for p in range(10,510,10)])\n",
    "        markup.add(*(types.InlineKeyboardButton(text, callback_data=measurment_cb.new(weight=text)) for text in btns_text))\n",
    "\n",
    "    elif t == 'edit_dish':\n",
    "\n",
    "        btns_text = ('remove','edit_weight','add again')\n",
    "        markup.add(*(types.InlineKeyboardButton(text, callback_data=edit_dish_cb.new(action=text)) for text in btns_text))\n",
    "\n",
    "\n",
    "    \n",
    "\n",
    "    return markup \n"
   ]
  },
  {
   "cell_type": "code",
   "execution_count": 15,
   "metadata": {},
   "outputs": [],
   "source": [
    "#photo recieved\n",
    "@dp.message_handler(content_types=ContentType.PHOTO)\n",
    "async def process_photo(message: types.Message, state: FSMContext):\n",
    "    await types.ChatActions.typing()\n",
    "\n",
    "    await add_sender(message)\n",
    "\n",
    "    photo  = message['photo'][-1]\n",
    "    await photo.download(reference_images_path/photo['file_id'])\n",
    "    image_url = await photo.get_url()\n",
    "    dish = await async_search_image(url=image_url, env='prod')\n",
    "\n",
    "    dish['photo_id']   = photo['file_id']\n",
    "    dish['message_id'] = message['message_id']\n",
    "    sender = message['from'].to_python()\n",
    "    dish['user_id'] = sender['id']\n",
    "    dish['ml_version'] = ml_version \n",
    "    dish['timestamp']=pd.Timestamp.utcnow()\n",
    "    print(2)\n",
    "\n",
    "    # async with state.proxy() as data: data['dish'] = dish.to_dict(orient = 'records')[0]\n",
    "\n",
    "    dish.to_sql('dishes',schema = schema,if_exists = 'append',index = False,con=engine)\n",
    "    plot_numtients = dish[['energy','protein','carb','fat']].reset_index(drop=True)\n",
    "    plot_numtients.index = ['']\n",
    "    \n",
    "    msg = plot_numtients.astype(int).to_string()\n",
    "    async with state.proxy() as data: data['msg'] = msg\n",
    "    await message.reply(msg, reply_markup=get_keyboard('add_dish'))"
   ]
  },
  {
   "cell_type": "code",
   "execution_count": 16,
   "metadata": {},
   "outputs": [],
   "source": [
    "#add_dish pushed\n",
    "@dp.message_handler(state='*')\n",
    "@dp.callback_query_handler(add_dish_cb.filter(action=['yes']))\n",
    "async def callback_vote_action(query: types.CallbackQuery, callback_data: typing.Dict[str, str], state: FSMContext):\n",
    "    await query.answer()\n",
    "    async with state.proxy() as data:  msg = data['msg']\n",
    "    await bot.edit_message_text(\n",
    "        msg,\n",
    "        query.from_user.id,\n",
    "        query.message.message_id,\n",
    "        reply_markup=get_keyboard('measurment'),\n",
    "    )"
   ]
  },
  {
   "cell_type": "code",
   "execution_count": 17,
   "metadata": {},
   "outputs": [],
   "source": [
    "#measure provided\n",
    "@dp.message_handler(state='*')\n",
    "@dp.callback_query_handler(measurment_cb.filter(weight=[str(p) for p in range(10,510,10)]))\n",
    "async def callback_vote_action(query: types.CallbackQuery, callback_data: typing.Dict[str, str], state: FSMContext):\n",
    "    await query.answer()\n",
    "    async with state.proxy() as data:  msg = data['msg']\n",
    "    msg = f\"{msg}\\n consumed {callback_data['weight']} grams\"\n",
    "    async with state.proxy() as data:  data['msg'] = msg\n",
    "\n",
    "    await bot.edit_message_text(\n",
    "        msg,\n",
    "        query.from_user.id,\n",
    "        query.message.message_id,\n",
    "        reply_markup=get_keyboard('edit_dish')\n",
    "    )\n",
    "    "
   ]
  },
  {
   "cell_type": "code",
   "execution_count": 18,
   "metadata": {},
   "outputs": [],
   "source": [
    "#remove pushed\n",
    "@dp.message_handler(state='*')\n",
    "@dp.callback_query_handler(edit_dish_cb.filter(action=['remove']))\n",
    "async def callback_vote_action(query: types.CallbackQuery, callback_data: typing.Dict[str, str], state: FSMContext):\n",
    "\n",
    "    async with state.proxy() as data:  msg = data['msg']\n",
    "\n",
    "\n",
    "    msg = ''.join(msg.split('\\n')[:-1])\n",
    "    msg = f\"{msg}\"\n",
    "    async with state.proxy() as data:  data['msg'] = msg\n",
    "\n",
    "    await query.answer()\n",
    "    await bot.edit_message_text(\n",
    "        msg,\n",
    "        query.from_user.id,\n",
    "        query.message.message_id,\n",
    "        reply_markup=get_keyboard('add_dish'))"
   ]
  },
  {
   "cell_type": "code",
   "execution_count": 19,
   "metadata": {},
   "outputs": [],
   "source": [
    "# @dp.message_handler(state='*')\n",
    "# @dp.callback_query_handler(edit_dish_cb.filter(action=['remove','edit_weight','add again']))\n",
    "# async def callback_vote_action(query: types.CallbackQuery, callback_data: typing.Dict[str, str], state: FSMContext):\n",
    "\n",
    "#     async with state.proxy() as data:  msg = data['msg']\n",
    "#     msg = f\"{msg}, eated {callback_data['weight']}\"\n",
    "#     async with state.proxy() as data:  data['msg'] = msg\n",
    "\n",
    "#     await query.answer()\n",
    "#     await bot.edit_message_text(\n",
    "#         msg,\n",
    "#         query.from_user.id,\n",
    "#         query.message.message_id,\n",
    "#         reply_markup=get_keyboard('edit_dish'))"
   ]
  },
  {
   "cell_type": "code",
   "execution_count": 20,
   "metadata": {},
   "outputs": [
    {
     "data": {
      "text/plain": [
       "<InlineKeyboardMarkup {\"inline_keyboard\":[]}>"
      ]
     },
     "execution_count": 20,
     "metadata": {},
     "output_type": "execute_result"
    }
   ],
   "source": [
    "types.InlineKeyboardMarkup(row_width=50)"
   ]
  },
  {
   "cell_type": "code",
   "execution_count": 21,
   "metadata": {},
   "outputs": [],
   "source": [
    "\n",
    "if __name__ == '__main__':\n",
    "    executor.start_polling(dp)"
   ]
  },
  {
   "cell_type": "code",
   "execution_count": null,
   "metadata": {},
   "outputs": [
    {
     "ename": "NameError",
     "evalue": "name 'm' is not defined",
     "output_type": "error",
     "traceback": [
      "\u001b[0;31m---------------------------------------------------------------------------\u001b[0m",
      "\u001b[0;31mNameError\u001b[0m                                 Traceback (most recent call last)",
      "\u001b[1;32m/home/dima/food_main/inline_kb.ipynb Cell 14'\u001b[0m in \u001b[0;36m<cell line: 1>\u001b[0;34m()\u001b[0m\n\u001b[0;32m----> <a href='vscode-notebook-cell://ssh-remote%2Bml2/home/dima/food_main/inline_kb.ipynb#ch0000011vscode-remote?line=0'>1</a>\u001b[0m m\n",
      "\u001b[0;31mNameError\u001b[0m: name 'm' is not defined"
     ]
    }
   ],
   "source": [
    "m"
   ]
  },
  {
   "cell_type": "code",
   "execution_count": null,
   "metadata": {},
   "outputs": [],
   "source": []
  }
 ],
 "metadata": {
  "kernelspec": {
   "display_name": "Python 3.9.7 ('food')",
   "language": "python",
   "name": "python3"
  },
  "language_info": {
   "codemirror_mode": {
    "name": "ipython",
    "version": 3
   },
   "file_extension": ".py",
   "mimetype": "text/x-python",
   "name": "python",
   "nbconvert_exporter": "python",
   "pygments_lexer": "ipython3",
   "version": "3.9.7"
  },
  "orig_nbformat": 4,
  "vscode": {
   "interpreter": {
    "hash": "1e1ee659a212ecca49d6a1809275141ef7642c152d6286fb803a43d965656456"
   }
  }
 },
 "nbformat": 4,
 "nbformat_minor": 2
}
