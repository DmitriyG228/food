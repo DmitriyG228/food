{
 "cells": [
  {
   "cell_type": "code",
   "execution_count": 1,
   "metadata": {},
   "outputs": [],
   "source": [
    "from food.psql import *\n",
    "from food.tools import get_logger\n",
    "logger = get_logger(engine,'bot_logs','food')\n",
    "logger.debug({'msg':'starting bot'})"
   ]
  },
  {
   "cell_type": "code",
   "execution_count": 2,
   "metadata": {},
   "outputs": [],
   "source": [
    "from aiogram import Bot, Dispatcher, executor, types\n",
    "from aiogram.types import ContentType\n",
    "from aiogram.dispatcher.filters.state import State, StatesGroup\n",
    "from aiogram.types.message import ContentTypes\n",
    "from aiogram.dispatcher import FSMContext\n",
    "from aiogram.contrib.fsm_storage.memory import MemoryStorage\n",
    "from sqlalchemy import update\n",
    "from aiogram.dispatcher.filters.state import State, StatesGroup\n",
    "from aiogram.utils.callback_data import CallbackData\n",
    "import typing\n",
    "import numpy as np\n",
    "\n",
    "\n",
    "API_TOKEN = \"5091011572:AAG4NfkC_zZjcsaAFkwLm4ZXOvhEqyLpQhY\"\n"
   ]
  },
  {
   "cell_type": "code",
   "execution_count": 3,
   "metadata": {},
   "outputs": [],
   "source": [
    "from food.paths import *\n",
    "from food.search import *\n",
    "import pandas as  pd\n",
    "import pytz\n",
    "timezones = pytz.all_timezones\n",
    "import requests\n",
    "from requests.structures import CaseInsensitiveDict\n",
    "import urllib\n",
    "from tzwhere import tzwhere\n"
   ]
  },
  {
   "cell_type": "code",
   "execution_count": 4,
   "metadata": {},
   "outputs": [],
   "source": [
    "import nest_asyncio\n",
    "nest_asyncio.apply()\n"
   ]
  },
  {
   "cell_type": "code",
   "execution_count": 5,
   "metadata": {},
   "outputs": [],
   "source": [
    "def geocode(q):\n",
    "    geocoding_key = '5d96ac126bcb462cb373297924ab2cb4'\n",
    "    url = \"https://api.geoapify.com/v1/geocode/search?\"\n",
    "\n",
    "    params = {\"apiKey\":geocoding_key, \n",
    "              \"text\":q}\n",
    "\n",
    "    resp = requests.get(url + urllib.parse.urlencode(params)).json()\n",
    "    return  pd.json_normalize(resp['features']).sort_values('properties.rank.importance',ascending = False)[['properties.lat','properties.lon']].iloc[0].to_list()\n",
    "   "
   ]
  },
  {
   "cell_type": "code",
   "execution_count": 6,
   "metadata": {},
   "outputs": [],
   "source": [
    "def get_tz(q):\n",
    "    lat,lon = geocode(q)\n",
    "    return tzwhere.tzwhere().tzNameAt(lat,lon)"
   ]
  },
  {
   "cell_type": "code",
   "execution_count": 7,
   "metadata": {},
   "outputs": [],
   "source": [
    "async def async_get_tz(q):\n",
    "    return get_tz(q)"
   ]
  },
  {
   "cell_type": "code",
   "execution_count": 8,
   "metadata": {},
   "outputs": [],
   "source": [
    "async def async_search_image(url, env='prod'):\n",
    "    return search_image(url,env)"
   ]
  },
  {
   "cell_type": "code",
   "execution_count": 9,
   "metadata": {},
   "outputs": [],
   "source": [
    "async def async_geocode(q):\n",
    "    return geocode(q)"
   ]
  },
  {
   "cell_type": "code",
   "execution_count": 10,
   "metadata": {},
   "outputs": [],
   "source": [
    "async def  async_insert_on_conflict(*args, **qwargs):\n",
    "    return insert_on_conflict(*args, **qwargs)"
   ]
  },
  {
   "cell_type": "code",
   "execution_count": 11,
   "metadata": {},
   "outputs": [],
   "source": [
    "async def add_sender(message):\n",
    "    sender = message['from'].to_python()\n",
    "    sender = pd.DataFrame(sender,index=[0]).drop(columns =['is_bot'])\n",
    "    await async_insert_on_conflict(sender,'users',unique_cols=['id'])"
   ]
  },
  {
   "cell_type": "code",
   "execution_count": 12,
   "metadata": {},
   "outputs": [],
   "source": [
    "def get_msg(query):\n",
    "    dish = pd.read_sql(f\"\"\"select energy,protein,carb,fat from food.dishes \n",
    "                                where user_id={query['from']['id']} and \n",
    "                                message_id = {query['message']['message_id']}\n",
    "                                order by id desc limit 1\"\"\",engine)\n",
    "    plot_numtients = dish[['energy','protein','carb','fat']].reset_index(drop=True)\n",
    "    plot_numtients.index = ['']\n",
    "    return plot_numtients.astype(int).to_string()"
   ]
  },
  {
   "cell_type": "code",
   "execution_count": 13,
   "metadata": {},
   "outputs": [],
   "source": [
    "def get_today_consumed(user_id):\n",
    "    today_consumed = pd.read_sql(f\"\"\"select energy,grams,timestamp from {schema}.dishes\n",
    "                                    where user_id = {user_id} and timestamp > now() - interval '24 hours'\n",
    "                                    and grams is not null;\"\"\",engine).set_index(\"timestamp\")\n",
    "    today_consumed= today_consumed['energy']/100*today_consumed['grams']\n",
    "    user_tz = engine.execute(f\"\"\"select value from food.user_properties \n",
    "                                where user_id={user_id} and\n",
    "                                property='tz'\n",
    "                                order by id desc limit 1\"\"\").first()\n",
    "\n",
    "    user_tz = user_tz[0] if user_tz else 'UTC'\n",
    "    today_consumed = today_consumed.tz_convert(user_tz)\n",
    "    now = pd.Timestamp.now(tz = user_tz)\n",
    "    today_consumed = today_consumed.reset_index()\t\n",
    "    this_morning = pd.Timestamp(year = now.year,month = now.month,day = now.day,hour = 3,tz = user_tz)\n",
    "    today_consumed = today_consumed[today_consumed['timestamp'] > pd.Timestamp(this_morning)][0].sum()\n",
    "    return int(today_consumed),user_tz"
   ]
  },
  {
   "cell_type": "code",
   "execution_count": 14,
   "metadata": {},
   "outputs": [],
   "source": [
    "\n",
    "\n",
    "bot = Bot(token=API_TOKEN)\n",
    "storage = MemoryStorage()\n",
    "dp = Dispatcher(bot, storage=storage)\n",
    "\n",
    "dishes_table = Dishes.__table__\n",
    "\n",
    "add_dish_cb   = CallbackData('add dish', 'action')\n",
    "measurment_cb = CallbackData('measurment', 'weight')\n",
    "edit_dish_cb  = CallbackData('edit_dish', 'action')\n",
    "choose_metr_cb  = CallbackData('choose_metr', 'choice')\n",
    "\n",
    "ml_version = 0.2\n",
    "\n",
    "\n",
    "set_timezone_command = types.BotCommand('set_timezone','set you timezone so that we know when your day starts')\n",
    "commands = [set_timezone_command]\n",
    "await bot.set_my_commands(commands)\n",
    "\n",
    "grams_grid  = list(np.arange(10,1000,10)[:56])\n",
    "grams_grid = [str(int(v)) for v in grams_grid]\n",
    "ounces_grid = list(np.arange(0.4,23,0.4)[:56])\n",
    "ounces_grid = [str(round(v,1)) for v in ounces_grid]\n",
    "grid_values = list(set(grams_grid+ounces_grid))"
   ]
  },
  {
   "cell_type": "code",
   "execution_count": 15,
   "metadata": {},
   "outputs": [],
   "source": [
    "def get_keyboard(t, unit = None):\n",
    "    markup = types.InlineKeyboardMarkup()\n",
    "    if t == 'add dish' :  \n",
    "        markup.add(types.InlineKeyboardButton('add dish', callback_data=add_dish_cb.new(action='add_dish')))\n",
    "         \n",
    "    elif t == 'measurment':\n",
    "\n",
    "        btns_text = tuple(ounces_grid) if unit == 'ounces' else grams_grid\n",
    "\n",
    "\n",
    "        markup = types.InlineKeyboardMarkup(row_width=8)\n",
    "        \n",
    "        markup.add(*(types.InlineKeyboardButton(text, callback_data=measurment_cb.new(weight=text)) for text in btns_text))\n",
    "\n",
    "    elif t == 'edit_dish':\n",
    "\n",
    "        btns_text = ('remove','edit weight','add again')\n",
    "        markup.add(*(types.InlineKeyboardButton(text, callback_data=edit_dish_cb.new(action=text)) for text in btns_text))\n",
    "\n",
    "\n",
    "    elif t == 'choose_metr':\n",
    "\n",
    "        btns_text = ('grams','ounces')\n",
    "        markup.add(*(types.InlineKeyboardButton(text, callback_data=choose_metr_cb.new(choice=text)) for text in btns_text))\n",
    "\n",
    "\n",
    "    \n",
    "\n",
    "    return markup \n"
   ]
  },
  {
   "cell_type": "code",
   "execution_count": 16,
   "metadata": {},
   "outputs": [],
   "source": [
    "async def measurment(unit, query: types.CallbackQuery, callback_data: typing.Dict[str, str]):\n",
    "    logger.debug({'func':'measurment','id_key':'user_id','id_value':query['from']['id'],'msg':'measurment'})\n",
    "\n",
    "\n",
    "    await query.answer()\n",
    "\n",
    "    msg = query.to_python()['message']['text']\n",
    "    msg = msg.split('\\xa0')[0] if '\\xa0' in msg else msg\n",
    "    msg = f\"{msg}\\n \\xa0 please choose weight of the dish in {unit}\"\n",
    "\n",
    "    await bot.edit_message_text(\n",
    "        msg,\n",
    "        query.from_user.id,\n",
    "        query.message.message_id,\n",
    "        reply_markup=get_keyboard('measurment',unit),\n",
    "    )"
   ]
  },
  {
   "cell_type": "code",
   "execution_count": 17,
   "metadata": {},
   "outputs": [],
   "source": [
    "def get_update(query,weight):\n",
    "    energy = engine.execute(f\"\"\"select energy from food.dishes \n",
    "                                    where user_id={query['from']['id']}\n",
    "                                    and message_id = {query['message']['message_id']}\n",
    "                                    order by id desc limit 1\"\"\").first()[0]\n",
    "    stmt = (\n",
    "                dishes_table.update()\n",
    "                            .where(dishes_table.c.message_id == query['message']['message_id'])\n",
    "                            .values(grams=weight)\n",
    "                            .returning(dishes_table.c.id)\n",
    "        )\n",
    "    session.execute(stmt)\n",
    "    session.commit()\n",
    "\n",
    "    return int(energy)\n"
   ]
  },
  {
   "cell_type": "code",
   "execution_count": 18,
   "metadata": {},
   "outputs": [],
   "source": [
    "#photo recieved\n",
    "@dp.message_handler(content_types=ContentType.PHOTO,state='*')\n",
    "async def process_photo(message: types.Message, state: FSMContext):\n",
    "    logger.debug({'func':'process_photo','id_key':'user_id','id_value':message['from']['id'],'msg':'process_photo started'})\n",
    "    \n",
    "\n",
    "    await state.finish()\n",
    "\n",
    "    \n",
    "    await types.ChatActions.typing()\n",
    "\n",
    "    await add_sender(message)\n",
    "\n",
    "    photo  = message['photo'][-1]\n",
    "    await photo.download(reference_images_path/photo['file_id'])\n",
    "    image_url = await photo.get_url()\n",
    "    dish = await async_search_image(url=image_url, env='prod')\n",
    "    description = dish['description'].iloc[0]\n",
    "\n",
    "\n",
    "    dish['photo_id']         = photo['file_id']\n",
    "    dish['photo_message_id'] = message['message_id']\n",
    "    sender = message['from'].to_python()\n",
    "    dish['user_id'] = sender['id']\n",
    "    dish['ml_version'] = ml_version \n",
    "    dish['timestamp']=pd.Timestamp.utcnow()\n",
    "\n",
    "    \n",
    "    plot_numtients = dish[['energy','protein','carb','fat']].reset_index(drop=True)\n",
    "    plot_numtients.index = ['']\n",
    "\n",
    "    msg = f'{description}, per 100 gram \\n {plot_numtients.astype(int).to_string()}'\n",
    "    \n",
    "    # msg = description + '\\n'+ plot_numtients.astype(int).to_string()\n",
    "\n",
    "    reply_message = await message.reply(msg, reply_markup=get_keyboard('add dish'))\n",
    "    dish['message_id'] = reply_message['message_id']\n",
    "    \n",
    "    dish.to_sql('dishes',schema = schema,if_exists = 'append',index = False,con=engine)\n",
    "\n",
    "    logger.debug({'func':'process_photo','id_key':'user_id','id_value':message['from']['id'],'msg':'process_photo finished'})\n",
    "\n",
    "\n",
    "\n",
    "   "
   ]
  },
  {
   "cell_type": "code",
   "execution_count": 19,
   "metadata": {},
   "outputs": [],
   "source": [
    "class CState(StatesGroup): \n",
    "    set_timezone    = State()"
   ]
  },
  {
   "cell_type": "code",
   "execution_count": 20,
   "metadata": {},
   "outputs": [],
   "source": [
    "@dp.message_handler(commands=['set_timezone'])\n",
    "async def set_timezone_command(message: types.Message, state: FSMContext):\n",
    "    logger.debug({'func':'set_timezone_command','id_key':'user_id','id_value':message['from']['id'],'msg':'set_timezone pushed'})\n",
    "    await CState.set_timezone.set()\n",
    "    await message.reply(f\"please search your town to set timezone\")"
   ]
  },
  {
   "cell_type": "code",
   "execution_count": 21,
   "metadata": {},
   "outputs": [],
   "source": [
    "@dp.message_handler(state=CState.set_timezone)\n",
    "async def set_timezone(message: types.Message, state: FSMContext):\n",
    "    logger.debug({'func':'set_timezone','id_key':'user_id','id_value':message['from']['id'],'msg':f'set_timezone to {message.text} started'})\n",
    "    await types.ChatActions.typing()\n",
    "    await add_sender(message)\n",
    "    tz = await async_get_tz(message.text)\n",
    "\n",
    "    df = pd.DataFrame([[message['from']['id'],'tz',tz,pd.Timestamp.utcnow()]],columns = ['user_id','property','value','timestamp'])\n",
    "    df.to_sql('user_properties',schema = schema,con = engine,if_exists = 'append',index = False)\n",
    "\n",
    "    await state.finish()\n",
    "\n",
    "    await message.reply(f\"your tz is set to {tz}\")\n",
    "\n",
    "    logger.debug({'func':'set_timezone','id_key':'user_id','id_value':message['from']['id'],'msg':f'set_timezone to {message.text} finished'})\n"
   ]
  },
  {
   "cell_type": "code",
   "execution_count": 22,
   "metadata": {},
   "outputs": [],
   "source": [
    "def get_metric_unit(user_id):\n",
    "    unit = engine.execute(f\"\"\"select value from food.user_properties \n",
    "                                where user_id={user_id} and\n",
    "                                property='metric_unit'\n",
    "                                order by id desc limit 1\"\"\").first()\n",
    "\n",
    "    return unit[0] if unit else None\n"
   ]
  },
  {
   "cell_type": "code",
   "execution_count": 23,
   "metadata": {},
   "outputs": [],
   "source": [
    "@dp.message_handler(commands=['start'])\n",
    "async def start_command(message: types.Message):\n",
    "\n",
    "    logger.debug({'func':'start_command','id_key':'user_id','id_value':message['from']['id'],'msg':'start'})\n",
    "    \n",
    "    await message.reply(\"\"\"Counting calories as easy as taking pictures. Just capture everything before you eat it\\n\n",
    "                          Now send a photo of your meal to try\"\"\")"
   ]
  },
  {
   "cell_type": "code",
   "execution_count": 24,
   "metadata": {},
   "outputs": [],
   "source": [
    "#add_dish pushed\n",
    "@dp.callback_query_handler(add_dish_cb.filter(action=['add_dish']))\n",
    "async def add_dish(query: types.CallbackQuery, callback_data: typing.Dict[str, str]):\n",
    "    logger.debug({'func':'add_dish','id_key':'user_id','id_value':query['from']['id'],'msg':'add_dish'})\n",
    "\n",
    "    unit = get_metric_unit(query['from']['id'])\n",
    "    if not unit:\n",
    "\n",
    "        msg = query.to_python()['message']['text']\n",
    "        msg = msg.split('\\xa0')[0] if '\\xa0' in msg else msg\n",
    "        msg = f\"{msg}\\n \\xa0 please choose unit for your food weight measurement\"\n",
    "\n",
    "\n",
    "        await bot.edit_message_text(\n",
    "        msg,\n",
    "        query.from_user.id,\n",
    "        query.message.message_id,\n",
    "        reply_markup=get_keyboard('choose_metr'))\n",
    "\n",
    "    else:   \n",
    "        await measurment(unit,query, callback_data)"
   ]
  },
  {
   "cell_type": "code",
   "execution_count": 25,
   "metadata": {},
   "outputs": [],
   "source": [
    "#add_dish pushed and no metric selected\n",
    "@dp.callback_query_handler(choose_metr_cb.filter(choice=['grams']))\n",
    "async def select_metric_grams(query: types.CallbackQuery, callback_data: typing.Dict[str, str]):\n",
    "    logger.debug({'func':'select_metric_grams','id_key':'user_id','id_value':query['from']['id'],'msg':'select_metric_grams'})\n",
    "    \n",
    "    df = pd.DataFrame([[query['from']['id'],'metric_unit','grams',pd.Timestamp.utcnow()]],columns = ['user_id','property','value','timestamp'])\n",
    "    df.to_sql('user_properties',schema = schema,con = engine,if_exists = 'append',index = False)\n",
    "\n",
    "    await measurment('grams',query, callback_data)"
   ]
  },
  {
   "cell_type": "code",
   "execution_count": 26,
   "metadata": {},
   "outputs": [],
   "source": [
    "#add_dish pushed and no metric selected\n",
    "@dp.callback_query_handler(choose_metr_cb.filter(choice=['ounces']))\n",
    "async def callback_vote_action(query: types.CallbackQuery, callback_data: typing.Dict[str, str]):\n",
    "    logger.debug({'func':'select_metric_ounces','id_key':'user_id','id_value':query['from']['id'],'msg':'select_metric_ounces'})\n",
    "\n",
    "    df = pd.DataFrame([[query['from']['id'],'metric_unit','ounces',pd.Timestamp.utcnow()]],columns = ['user_id','property','value','timestamp'])\n",
    "    df.to_sql('user_properties',schema = schema,con = engine,if_exists = 'append',index = False)\n",
    "\n",
    "    await measurment('ounces',query, callback_data)"
   ]
  },
  {
   "cell_type": "code",
   "execution_count": 27,
   "metadata": {},
   "outputs": [],
   "source": [
    "#add_dish pushed\n",
    "@dp.callback_query_handler(edit_dish_cb.filter(action=['edit weight']))\n",
    "async def edit_weight(query: types.CallbackQuery, callback_data: typing.Dict[str, str]):\n",
    "    logger.debug({'func':'edit_weight','id_key':'user_id','id_value':query['from']['id'],'msg':'edit_weight'})\n",
    "    unit = get_metric_unit(query['from']['id'])\n",
    "    await measurment(unit,query, callback_data)"
   ]
  },
  {
   "cell_type": "code",
   "execution_count": 28,
   "metadata": {},
   "outputs": [],
   "source": [
    "#measure provided\n",
    "@dp.callback_query_handler(measurment_cb.filter(weight=grid_values))\n",
    "async def weight_processing(query: types.CallbackQuery, callback_data: typing.Dict[str, str]):\n",
    "\n",
    "    logger.debug({'func':'weight_processing','id_key':'user_id','id_value':query['from']['id'],'msg':'weight_processing started'})\n",
    "\n",
    "    await query.answer()\n",
    "\n",
    "\n",
    "    t = 'ounces' if 'ounces' in query.to_python()['message']['text'] else 'grams'\n",
    "    u = 28.3495 if t == 'ounces' else 1\n",
    "\n",
    "    weight = float(callback_data['weight'])\n",
    "\n",
    "    energy = get_update(query,weight)\n",
    "\n",
    "    msg = query.to_python()['message']['text']\n",
    "    msg = msg.split('\\xa0')[0] if '\\xa0' in msg else msg #\n",
    "\n",
    "    msg = f\"{msg} \\xa0 \\n consumed {weight} {t}  \\xa0 \\n  {int(energy/100*u*weight)} kcall\"\n",
    "\n",
    "    today_consumed,usertz = get_today_consumed(query['from']['id'])\n",
    "    msg = f\"{msg}  \\xa0 \\n today consumed {today_consumed}\"\n",
    "    if usertz=='UTC': \n",
    "        msg = f\"{msg}  \\xa0 \\n  please /set_timezone so bot knows when your day is started\"\n",
    "        # await bot.send_message(chat_id=query['from']['id'], \n",
    "        #                        text='please /set_timezone so bot knows when your day is started')\n",
    "\n",
    "    \n",
    "\n",
    "    await bot.edit_message_text(\n",
    "        msg,\n",
    "        query.from_user.id,\n",
    "        query.message.message_id,\n",
    "        reply_markup=get_keyboard('edit_dish')\n",
    "    )\n",
    "\n",
    "    logger.debug({'func':'weight_processing','id_key':'user_id','id_value':query['from']['id'],'msg':'weight_processing finished'})\n",
    "    "
   ]
  },
  {
   "cell_type": "code",
   "execution_count": 29,
   "metadata": {},
   "outputs": [],
   "source": [
    "#remove pushed\n",
    "@dp.callback_query_handler(edit_dish_cb.filter(action=['remove']))\n",
    "async def remove_dish(query: types.CallbackQuery, callback_data: typing.Dict[str, str]):\n",
    "    logger.debug({'func':'remove_dish','id_key':'user_id','id_value':query['from']['id'],'msg':'remove_dish'})\n",
    "    _ = get_update(query,0)\n",
    "\n",
    "\n",
    "    msg = query.to_python()['message']['text']\n",
    "    msg = msg.split('\\xa0')[0] if '\\xa0' in msg else msg\n",
    "\n",
    "    today_consumed,usertz = get_today_consumed(query['from']['id'])\n",
    "    msg = f\"{msg}  \\xa0 \\n today consumed {today_consumed}\"\n",
    "    if usertz=='UTC': \n",
    "        msg = f\"{msg}  \\xa0 \\n  please /set_timezone so bot knows when your day is started\"\n",
    "        # await bot.send_message(chat_id=query['from']['id'], \n",
    "        #                        text='please /set_timezone so bot knows when your day is started')\n",
    "\n",
    "\n",
    "    await query.answer()\n",
    "    await bot.edit_message_text(\n",
    "        msg,\n",
    "        query.from_user.id,\n",
    "        query.message.message_id,\n",
    "        reply_markup=get_keyboard('add dish'))"
   ]
  },
  {
   "cell_type": "code",
   "execution_count": 30,
   "metadata": {},
   "outputs": [],
   "source": [
    "#add again pushed\n",
    "@dp.callback_query_handler(edit_dish_cb.filter(action=['add again']))\n",
    "async def add_again(query: types.CallbackQuery, callback_data: typing.Dict[str, str]):\n",
    "    logger.debug({'func':'add_again','id_key':'user_id','id_value':query['from']['id'],'msg':'add_again'})\n",
    "\n",
    "\n",
    "    dish = pd.read_sql(f\"\"\"select description,energy,protein,carb,fat,score,photo_id,user_id,ml_version,photo_message_id\n",
    "                from food.dishes \n",
    "                                                    where user_id={query['from']['id']}\n",
    "                                                    and message_id = {query['message']['message_id']} limit 1\"\"\",engine)\n",
    "    dish['timestamp'] = pd.Timestamp.utcnow()\n",
    "\n",
    "\n",
    "    msg = query.to_python()['message']['text']\n",
    "    msg = msg.split('\\xa0')[0] if '\\xa0' in msg else msg\n",
    "\n",
    "    today_consumed,usertz = get_today_consumed(query['from']['id'])\n",
    "    msg = f\"{msg}  \\xa0 \\n today consumed {today_consumed}\"\n",
    "    if usertz=='UTC': \n",
    "        msg = f\"{msg}  \\xa0 \\n  please /set_timezone so bot knows when your day is started\"\n",
    "\n",
    "\n",
    "        # await bot.send_message(chat_id=query['from']['id'], \n",
    "        #                        text='please /set_timezone so bot knows when your day is started')\n",
    "\n",
    "\n",
    "\n",
    "    await query.answer()\n",
    "    message = await bot.send_message(chat_id=query['from']['id'], \n",
    "                                     reply_to_message_id = dish['photo_message_id'].iloc[0],\n",
    "                                     text=msg, \n",
    "                                     reply_markup=get_keyboard('add dish'))\n",
    "\n",
    "    dish['message_id'] = message['message_id']\n",
    "    dish.to_sql('dishes',schema = schema,if_exists = 'append',index = False,con=engine)\n",
    "    \n",
    "    "
   ]
  },
  {
   "cell_type": "code",
   "execution_count": 31,
   "metadata": {},
   "outputs": [
    {
     "name": "stderr",
     "output_type": "stream",
     "text": [
      "/home/dima/anaconda3/envs/food/lib/python3.9/site-packages/aiogram/types/mixins.py:40: DeprecationWarning: destination parameter is deprecated, please use destination_dir or destination_file.\n",
      "  warn_deprecated(\n",
      "/home/dima/food_main/food/search.py:48: UserWarning: Creating a tensor from a list of numpy.ndarrays is extremely slow. Please consider converting the list to a single numpy.ndarray with numpy.array() before converting to a tensor. (Triggered internally at  /opt/conda/conda-bld/pytorch_1640811803361/work/torch/csrc/utils/tensor_new.cpp:201.)\n",
      "  series2tensor = lambda series:torch.tensor([np.array(c) for c in series.values])\n"
     ]
    },
    {
     "name": "stdout",
     "output_type": "stream",
     "text": [
      "0.1944759494043158\n",
      "0.2362212067524723\n",
      "0.25757215831099495\n",
      "0.26052786785124477\n",
      "0.26053633016658656\n",
      "0.26053633016658656\n"
     ]
    }
   ],
   "source": [
    "\n",
    "if __name__ == '__main__':\n",
    "    executor.start_polling(dp)"
   ]
  },
  {
   "cell_type": "code",
   "execution_count": null,
   "metadata": {},
   "outputs": [],
   "source": []
  },
  {
   "cell_type": "code",
   "execution_count": null,
   "metadata": {},
   "outputs": [],
   "source": []
  },
  {
   "cell_type": "code",
   "execution_count": null,
   "metadata": {},
   "outputs": [],
   "source": []
  }
 ],
 "metadata": {
  "kernelspec": {
   "display_name": "Python 3.9.7 ('food')",
   "language": "python",
   "name": "python3"
  },
  "language_info": {
   "codemirror_mode": {
    "name": "ipython",
    "version": 3
   },
   "file_extension": ".py",
   "mimetype": "text/x-python",
   "name": "python",
   "nbconvert_exporter": "python",
   "pygments_lexer": "ipython3",
   "version": "3.9.7"
  },
  "orig_nbformat": 4,
  "vscode": {
   "interpreter": {
    "hash": "1e1ee659a212ecca49d6a1809275141ef7642c152d6286fb803a43d965656456"
   }
  }
 },
 "nbformat": 4,
 "nbformat_minor": 2
}
