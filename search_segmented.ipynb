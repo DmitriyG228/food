{
 "cells": [
  {
   "cell_type": "code",
   "execution_count": 1,
   "metadata": {},
   "outputs": [
    {
     "name": "stdout",
     "output_type": "stream",
     "text": [
      "dev\n"
     ]
    }
   ],
   "source": [
    "from food.tools import *\n",
    "from food.paths import *\n",
    "from food.psql import *\n",
    "import requests\n",
    "from food.qdrant import *\n",
    "import torch\n",
    "from torch.nn import CosineSimilarity\n",
    "cos = CosineSimilarity(dim=1, eps=1e-08)\n",
    "import numpy as np\n",
    "import pandas as pd\n",
    "from PIL import Image, ImageFont, ImageDraw, ImageEnhance\n",
    "\n",
    "import shapely\n",
    "import shapely.geometry\n",
    "from PIL import ImageFont, ImageDraw, Image"
   ]
  },
  {
   "cell_type": "code",
   "execution_count": 2,
   "metadata": {},
   "outputs": [],
   "source": [
    "def read_image_from_url(url=None,path=None):\n",
    "    if url: response = requests.get(url, stream=True)\n",
    "    if path: pass\n",
    "    return Image.open(response.raw)"
   ]
  },
  {
   "cell_type": "code",
   "execution_count": 3,
   "metadata": {},
   "outputs": [],
   "source": [
    "def crop_image_to_square(img):\n",
    "    height = img.size[1]//2*2\n",
    "    left  = int((img.size[0]-height)/2)\n",
    "    right =      img.size[0]-left\n",
    "    return img.crop((left,0,right,height))"
   ]
  },
  {
   "cell_type": "code",
   "execution_count": 4,
   "metadata": {},
   "outputs": [],
   "source": [
    "def box_area(box):\n",
    "    return (box[2]-box[0])*(box[3]-box[1])"
   ]
  },
  {
   "cell_type": "code",
   "execution_count": 5,
   "metadata": {},
   "outputs": [],
   "source": [
    "foods = read_sql('foods')\n",
    "# foods = foods.drop(columns = ['clip'])\n",
    "foods = foods.set_index('id')"
   ]
  },
  {
   "cell_type": "code",
   "execution_count": 6,
   "metadata": {},
   "outputs": [],
   "source": [
    "series2tensor = lambda series:torch.tensor([np.array(c) for c in series.values])"
   ]
  },
  {
   "cell_type": "code",
   "execution_count": 7,
   "metadata": {},
   "outputs": [
    {
     "name": "stderr",
     "output_type": "stream",
     "text": [
      "/tmp/ipykernel_111454/2423156918.py:1: UserWarning: Creating a tensor from a list of numpy.ndarrays is extremely slow. Please consider converting the list to a single numpy.ndarray with numpy.array() before converting to a tensor. (Triggered internally at  /opt/conda/conda-bld/pytorch_1640811803361/work/torch/csrc/utils/tensor_new.cpp:201.)\n",
      "  series2tensor = lambda series:torch.tensor([np.array(c) for c in series.values])\n"
     ]
    }
   ],
   "source": [
    "food_clips = series2tensor(foods['clip'])"
   ]
  },
  {
   "cell_type": "code",
   "execution_count": 8,
   "metadata": {},
   "outputs": [],
   "source": [
    "def search_clip(url,head = 1):\n",
    "    image_clip = requests.post(f'https://guru.skynet.center/image2vector/?url={url}').json()\n",
    "    image_clip = torch.tensor(image_clip)\n",
    "    df = foods.copy()\n",
    "    df['score'] = cos(food_clips,image_clip)\n",
    "    df = df.sort_values('score',ascending=False)[:head]\n",
    "\n",
    "    return image_clip,df.reset_index()"
   ]
  },
  {
   "cell_type": "code",
   "execution_count": 9,
   "metadata": {},
   "outputs": [],
   "source": [
    "import numpy as np\n",
    "from matplotlib import pyplot as plt\n",
    "plt.rcParams[\"figure.figsize\"] = [15.00, 15.0]\n",
    "plt.rcParams[\"figure.autolayout\"] = True"
   ]
  },
  {
   "cell_type": "code",
   "execution_count": null,
   "metadata": {},
   "outputs": [],
   "source": []
  },
  {
   "cell_type": "code",
   "execution_count": null,
   "metadata": {},
   "outputs": [],
   "source": []
  },
  {
   "cell_type": "code",
   "execution_count": null,
   "metadata": {},
   "outputs": [],
   "source": []
  },
  {
   "cell_type": "code",
   "execution_count": null,
   "metadata": {},
   "outputs": [],
   "source": [
    "url = 'https://image.shutterstock.com/z/stock-photo-top-view-of-a-restaurant-table-served-with-a-multi-course-set-lunch-and-drink-complex-lunch-1846351336.jpg'\n",
    "image = get_image_from_url(url)\n",
    "image = crop_image_to_square(image)\n",
    "total_size = image.size[0]*image.size[1]"
   ]
  },
  {
   "cell_type": "code",
   "execution_count": null,
   "metadata": {},
   "outputs": [],
   "source": [
    "thershold = 0.0003\n",
    "params = {'url':url,'thershold':thershold}\n",
    "boxes,mask = requests.post('http://127.0.0.1:8185/get_boxes/?',params = params).json()\n",
    "mask = np.array(mask)"
   ]
  },
  {
   "cell_type": "code",
   "execution_count": null,
   "metadata": {},
   "outputs": [],
   "source": [
    "df = pd.DataFrame()\n",
    "df['area'] = [box_area(box) for box in boxes]\n",
    "df['boxes'] = boxes\n",
    "df = df.reset_index()"
   ]
  },
  {
   "cell_type": "code",
   "execution_count": null,
   "metadata": {},
   "outputs": [],
   "source": [
    "photo_id = url.split('/')[-1]\n",
    "urls = []\n",
    "for d in df[['index','boxes']].to_dict('records'):\n",
    "    id,box = d.values()\n",
    "    urls.append(f'https://glovo.away.guru/fragment_reference_images/{photo_id}_{id}.jpg')\n",
    "clip_df = pd.DataFrame()\n",
    "for u in urls:\n",
    "    clip_df = clip_df.append(search_clip(u,head = 1)[1])\n",
    "clip_df = clip_df.reset_index(drop = True)[['description','category','energy','protein','carb','fat','score']]"
   ]
  },
  {
   "cell_type": "code",
   "execution_count": null,
   "metadata": {},
   "outputs": [],
   "source": [
    "df = clip_df.join(df)\n",
    "df = df[df['score']>0.24]\n",
    "df = df.sort_values('area',ascending = False)\n",
    "df = df.reset_index(drop=True).reset_index()\n",
    "df = df.rename(columns = {'level_0':'box_area_rank'})\n",
    "# df = df.sort_values('box_area_rank',ascending = False)\n",
    "df['boxes'] = df['boxes'].apply(lambda b:[int(bb) for bb in b])"
   ]
  },
  {
   "cell_type": "code",
   "execution_count": null,
   "metadata": {},
   "outputs": [],
   "source": [
    "arrays= []\n",
    "for row in df[['box_area_rank','energy','boxes']].iterrows():\n",
    "    \n",
    "    row = row[1]\n",
    "    b = row['boxes']\n",
    "    rank   = np.zeros(image.size)\n",
    "    rank  [b[1]:b[3],b[0]:b[2]] = row['box_area_rank']\n",
    "    \n",
    "    energy = np.zeros(image.size)\n",
    "    energy  [b[1]:b[3],b[0]:b[2]]= row['energy']\n",
    "    \n",
    "    row_array = np.stack([rank,energy])\n",
    "    arrays.append(row_array)\n",
    "arrays = np.stack(arrays)\n",
    "arrays = arrays*mask.T"
   ]
  },
  {
   "cell_type": "code",
   "execution_count": null,
   "metadata": {},
   "outputs": [],
   "source": [
    "classes =  arrays[:,0,:,:].max(0)"
   ]
  },
  {
   "cell_type": "code",
   "execution_count": null,
   "metadata": {},
   "outputs": [],
   "source": [
    "df_count_classes = df[['box_area_rank','description']].set_index('box_area_rank').reindex(classes.reshape(classes.shape[0]*classes.shape[0]))\n",
    "df_count_classes = df_count_classes.dropna().reset_index().groupby('description').count().sort_values('box_area_rank',ascending = False).head(20)"
   ]
  },
  {
   "cell_type": "code",
   "execution_count": null,
   "metadata": {},
   "outputs": [],
   "source": [
    "df_count_classes['%'] = (df_count_classes['box_area_rank']/df_count_classes['box_area_rank'].sum()).round(2)\n",
    "r = df_count_classes[['%']].join(df.drop_duplicates('description').set_index('description')[['category','energy','protein','carb','fat']])"
   ]
  },
  {
   "cell_type": "code",
   "execution_count": null,
   "metadata": {},
   "outputs": [
    {
     "data": {
      "text/html": [
       "<div>\n",
       "<style scoped>\n",
       "    .dataframe tbody tr th:only-of-type {\n",
       "        vertical-align: middle;\n",
       "    }\n",
       "\n",
       "    .dataframe tbody tr th {\n",
       "        vertical-align: top;\n",
       "    }\n",
       "\n",
       "    .dataframe thead th {\n",
       "        text-align: right;\n",
       "    }\n",
       "</style>\n",
       "<table border=\"1\" class=\"dataframe\">\n",
       "  <thead>\n",
       "    <tr style=\"text-align: right;\">\n",
       "      <th></th>\n",
       "      <th>%</th>\n",
       "      <th>category</th>\n",
       "      <th>energy</th>\n",
       "      <th>protein</th>\n",
       "      <th>carb</th>\n",
       "      <th>fat</th>\n",
       "    </tr>\n",
       "    <tr>\n",
       "      <th>description</th>\n",
       "      <th></th>\n",
       "      <th></th>\n",
       "      <th></th>\n",
       "      <th></th>\n",
       "      <th></th>\n",
       "      <th></th>\n",
       "    </tr>\n",
       "  </thead>\n",
       "  <tbody>\n",
       "    <tr>\n",
       "      <th>Chicken or turkey, noodles, and vegetables including carrots, broccoli, and/or dark-green leafy; cheese sauce</th>\n",
       "      <td>0.68</td>\n",
       "      <td>Poultry mixed dishes</td>\n",
       "      <td>145.0</td>\n",
       "      <td>8.90</td>\n",
       "      <td>14.16</td>\n",
       "      <td>5.97</td>\n",
       "    </tr>\n",
       "    <tr>\n",
       "      <th>Egg omelet or scrambled egg, with cheese, made with cooking spray</th>\n",
       "      <td>0.06</td>\n",
       "      <td>Eggs and omelets</td>\n",
       "      <td>176.0</td>\n",
       "      <td>13.48</td>\n",
       "      <td>1.35</td>\n",
       "      <td>12.58</td>\n",
       "    </tr>\n",
       "    <tr>\n",
       "      <th>Bread, Italian, Grecian, Armenian</th>\n",
       "      <td>0.05</td>\n",
       "      <td>Yeast breads</td>\n",
       "      <td>259.0</td>\n",
       "      <td>9.49</td>\n",
       "      <td>48.11</td>\n",
       "      <td>2.73</td>\n",
       "    </tr>\n",
       "    <tr>\n",
       "      <th>Tuna salad, made with any type of fat free dressing</th>\n",
       "      <td>0.03</td>\n",
       "      <td>Seafood mixed dishes</td>\n",
       "      <td>74.0</td>\n",
       "      <td>9.64</td>\n",
       "      <td>6.18</td>\n",
       "      <td>1.15</td>\n",
       "    </tr>\n",
       "    <tr>\n",
       "      <th>Garlic bread, from fast food / restaurant</th>\n",
       "      <td>0.02</td>\n",
       "      <td>Yeast breads</td>\n",
       "      <td>349.0</td>\n",
       "      <td>8.34</td>\n",
       "      <td>41.64</td>\n",
       "      <td>16.58</td>\n",
       "    </tr>\n",
       "    <tr>\n",
       "      <th>Bread, reduced calorie and/or high fiber, white or NFS, with fruit and/or nuts</th>\n",
       "      <td>0.02</td>\n",
       "      <td>Yeast breads</td>\n",
       "      <td>222.0</td>\n",
       "      <td>7.83</td>\n",
       "      <td>49.95</td>\n",
       "      <td>2.14</td>\n",
       "    </tr>\n",
       "    <tr>\n",
       "      <th>Chicken breast, baked, broiled, or roasted, skin eaten, from raw</th>\n",
       "      <td>0.02</td>\n",
       "      <td>Chicken, whole pieces</td>\n",
       "      <td>192.0</td>\n",
       "      <td>26.25</td>\n",
       "      <td>0.00</td>\n",
       "      <td>8.80</td>\n",
       "    </tr>\n",
       "    <tr>\n",
       "      <th>Egg omelet or scrambled egg, with dark-green vegetables, NS as to fat</th>\n",
       "      <td>0.02</td>\n",
       "      <td>Eggs and omelets</td>\n",
       "      <td>165.0</td>\n",
       "      <td>10.65</td>\n",
       "      <td>1.26</td>\n",
       "      <td>12.82</td>\n",
       "    </tr>\n",
       "    <tr>\n",
       "      <th>Chicken breast, grilled without sauce, skin eaten</th>\n",
       "      <td>0.02</td>\n",
       "      <td>Chicken, whole pieces</td>\n",
       "      <td>206.0</td>\n",
       "      <td>25.72</td>\n",
       "      <td>0.00</td>\n",
       "      <td>10.62</td>\n",
       "    </tr>\n",
       "    <tr>\n",
       "      <th>Chicken or turkey with cream sauce</th>\n",
       "      <td>0.02</td>\n",
       "      <td>Poultry mixed dishes</td>\n",
       "      <td>156.0</td>\n",
       "      <td>19.81</td>\n",
       "      <td>2.74</td>\n",
       "      <td>7.41</td>\n",
       "    </tr>\n",
       "    <tr>\n",
       "      <th>Lettuce, salad with assorted vegetables excluding tomatoes and carrots, no dressing</th>\n",
       "      <td>0.01</td>\n",
       "      <td>Lettuce and lettuce salads</td>\n",
       "      <td>19.0</td>\n",
       "      <td>1.42</td>\n",
       "      <td>3.76</td>\n",
       "      <td>0.20</td>\n",
       "    </tr>\n",
       "    <tr>\n",
       "      <th>Pasta with cream sauce and poultry, home recipe</th>\n",
       "      <td>0.01</td>\n",
       "      <td>Pasta mixed dishes, excludes macaroni and cheese</td>\n",
       "      <td>156.0</td>\n",
       "      <td>6.43</td>\n",
       "      <td>16.58</td>\n",
       "      <td>7.02</td>\n",
       "    </tr>\n",
       "    <tr>\n",
       "      <th>Cheese sauce</th>\n",
       "      <td>0.01</td>\n",
       "      <td>Dips, gravies, other sauces</td>\n",
       "      <td>160.0</td>\n",
       "      <td>3.24</td>\n",
       "      <td>7.66</td>\n",
       "      <td>13.02</td>\n",
       "    </tr>\n",
       "    <tr>\n",
       "      <th>Pepper, raw, NFS</th>\n",
       "      <td>0.01</td>\n",
       "      <td>Other vegetables and combinations</td>\n",
       "      <td>22.0</td>\n",
       "      <td>0.91</td>\n",
       "      <td>5.13</td>\n",
       "      <td>0.22</td>\n",
       "    </tr>\n",
       "    <tr>\n",
       "      <th>Alfredo sauce with poultry</th>\n",
       "      <td>0.01</td>\n",
       "      <td>Dips, gravies, other sauces</td>\n",
       "      <td>153.0</td>\n",
       "      <td>7.10</td>\n",
       "      <td>1.20</td>\n",
       "      <td>13.59</td>\n",
       "    </tr>\n",
       "    <tr>\n",
       "      <th>Vegetable and fruit juice, 100% juice, with high vitamin C</th>\n",
       "      <td>0.01</td>\n",
       "      <td>Other fruit juice</td>\n",
       "      <td>46.0</td>\n",
       "      <td>0.30</td>\n",
       "      <td>11.15</td>\n",
       "      <td>0.01</td>\n",
       "    </tr>\n",
       "    <tr>\n",
       "      <th>Pizza, cheese, with fruit, thin crust</th>\n",
       "      <td>0.01</td>\n",
       "      <td>Pizza</td>\n",
       "      <td>259.0</td>\n",
       "      <td>10.73</td>\n",
       "      <td>28.08</td>\n",
       "      <td>11.56</td>\n",
       "    </tr>\n",
       "    <tr>\n",
       "      <th>Chicken or turkey and vegetables including carrots, broccoli, and/or dark-green leafy; no potatoes, tomato-based sauce</th>\n",
       "      <td>0.01</td>\n",
       "      <td>Poultry mixed dishes</td>\n",
       "      <td>112.0</td>\n",
       "      <td>7.23</td>\n",
       "      <td>4.42</td>\n",
       "      <td>7.80</td>\n",
       "    </tr>\n",
       "    <tr>\n",
       "      <th>Lettuce, salad with avocado, tomato, and/or carrots, with or without other vegetables, no dressing</th>\n",
       "      <td>0.01</td>\n",
       "      <td>Lettuce and lettuce salads</td>\n",
       "      <td>51.0</td>\n",
       "      <td>1.44</td>\n",
       "      <td>5.23</td>\n",
       "      <td>3.39</td>\n",
       "    </tr>\n",
       "    <tr>\n",
       "      <th>Chicken breast, baked or broiled, skin not eaten, from fast food / restaurant</th>\n",
       "      <td>0.01</td>\n",
       "      <td>Chicken, whole pieces</td>\n",
       "      <td>175.0</td>\n",
       "      <td>29.56</td>\n",
       "      <td>0.00</td>\n",
       "      <td>5.44</td>\n",
       "    </tr>\n",
       "  </tbody>\n",
       "</table>\n",
       "</div>"
      ],
      "text/plain": [
       "                                                       %  \\\n",
       "description                                                \n",
       "Chicken or turkey, noodles, and vegetables incl...  0.68   \n",
       "Egg omelet or scrambled egg, with cheese, made ...  0.06   \n",
       "Bread, Italian, Grecian, Armenian                   0.05   \n",
       "Tuna salad, made with any type of fat free dres...  0.03   \n",
       "Garlic bread, from fast food / restaurant           0.02   \n",
       "Bread, reduced calorie and/or high fiber, white...  0.02   \n",
       "Chicken breast, baked, broiled, or roasted, ski...  0.02   \n",
       "Egg omelet or scrambled egg, with dark-green ve...  0.02   \n",
       "Chicken breast, grilled without sauce, skin eaten   0.02   \n",
       "Chicken or turkey with cream sauce                  0.02   \n",
       "Lettuce, salad with assorted vegetables excludi...  0.01   \n",
       "Pasta with cream sauce and poultry, home recipe     0.01   \n",
       "Cheese sauce                                        0.01   \n",
       "Pepper, raw, NFS                                    0.01   \n",
       "Alfredo sauce with poultry                          0.01   \n",
       "Vegetable and fruit juice, 100% juice, with hig...  0.01   \n",
       "Pizza, cheese, with fruit, thin crust               0.01   \n",
       "Chicken or turkey and vegetables including carr...  0.01   \n",
       "Lettuce, salad with avocado, tomato, and/or car...  0.01   \n",
       "Chicken breast, baked or broiled, skin not eate...  0.01   \n",
       "\n",
       "                                                                                            category  \\\n",
       "description                                                                                            \n",
       "Chicken or turkey, noodles, and vegetables incl...                              Poultry mixed dishes   \n",
       "Egg omelet or scrambled egg, with cheese, made ...                                  Eggs and omelets   \n",
       "Bread, Italian, Grecian, Armenian                                                       Yeast breads   \n",
       "Tuna salad, made with any type of fat free dres...                              Seafood mixed dishes   \n",
       "Garlic bread, from fast food / restaurant                                               Yeast breads   \n",
       "Bread, reduced calorie and/or high fiber, white...                                      Yeast breads   \n",
       "Chicken breast, baked, broiled, or roasted, ski...                             Chicken, whole pieces   \n",
       "Egg omelet or scrambled egg, with dark-green ve...                                  Eggs and omelets   \n",
       "Chicken breast, grilled without sauce, skin eaten                              Chicken, whole pieces   \n",
       "Chicken or turkey with cream sauce                                              Poultry mixed dishes   \n",
       "Lettuce, salad with assorted vegetables excludi...                        Lettuce and lettuce salads   \n",
       "Pasta with cream sauce and poultry, home recipe     Pasta mixed dishes, excludes macaroni and cheese   \n",
       "Cheese sauce                                                             Dips, gravies, other sauces   \n",
       "Pepper, raw, NFS                                                   Other vegetables and combinations   \n",
       "Alfredo sauce with poultry                                               Dips, gravies, other sauces   \n",
       "Vegetable and fruit juice, 100% juice, with hig...                                 Other fruit juice   \n",
       "Pizza, cheese, with fruit, thin crust                                                          Pizza   \n",
       "Chicken or turkey and vegetables including carr...                              Poultry mixed dishes   \n",
       "Lettuce, salad with avocado, tomato, and/or car...                        Lettuce and lettuce salads   \n",
       "Chicken breast, baked or broiled, skin not eate...                             Chicken, whole pieces   \n",
       "\n",
       "                                                    energy  protein   carb  \\\n",
       "description                                                                  \n",
       "Chicken or turkey, noodles, and vegetables incl...   145.0     8.90  14.16   \n",
       "Egg omelet or scrambled egg, with cheese, made ...   176.0    13.48   1.35   \n",
       "Bread, Italian, Grecian, Armenian                    259.0     9.49  48.11   \n",
       "Tuna salad, made with any type of fat free dres...    74.0     9.64   6.18   \n",
       "Garlic bread, from fast food / restaurant            349.0     8.34  41.64   \n",
       "Bread, reduced calorie and/or high fiber, white...   222.0     7.83  49.95   \n",
       "Chicken breast, baked, broiled, or roasted, ski...   192.0    26.25   0.00   \n",
       "Egg omelet or scrambled egg, with dark-green ve...   165.0    10.65   1.26   \n",
       "Chicken breast, grilled without sauce, skin eaten    206.0    25.72   0.00   \n",
       "Chicken or turkey with cream sauce                   156.0    19.81   2.74   \n",
       "Lettuce, salad with assorted vegetables excludi...    19.0     1.42   3.76   \n",
       "Pasta with cream sauce and poultry, home recipe      156.0     6.43  16.58   \n",
       "Cheese sauce                                         160.0     3.24   7.66   \n",
       "Pepper, raw, NFS                                      22.0     0.91   5.13   \n",
       "Alfredo sauce with poultry                           153.0     7.10   1.20   \n",
       "Vegetable and fruit juice, 100% juice, with hig...    46.0     0.30  11.15   \n",
       "Pizza, cheese, with fruit, thin crust                259.0    10.73  28.08   \n",
       "Chicken or turkey and vegetables including carr...   112.0     7.23   4.42   \n",
       "Lettuce, salad with avocado, tomato, and/or car...    51.0     1.44   5.23   \n",
       "Chicken breast, baked or broiled, skin not eate...   175.0    29.56   0.00   \n",
       "\n",
       "                                                      fat  \n",
       "description                                                \n",
       "Chicken or turkey, noodles, and vegetables incl...   5.97  \n",
       "Egg omelet or scrambled egg, with cheese, made ...  12.58  \n",
       "Bread, Italian, Grecian, Armenian                    2.73  \n",
       "Tuna salad, made with any type of fat free dres...   1.15  \n",
       "Garlic bread, from fast food / restaurant           16.58  \n",
       "Bread, reduced calorie and/or high fiber, white...   2.14  \n",
       "Chicken breast, baked, broiled, or roasted, ski...   8.80  \n",
       "Egg omelet or scrambled egg, with dark-green ve...  12.82  \n",
       "Chicken breast, grilled without sauce, skin eaten   10.62  \n",
       "Chicken or turkey with cream sauce                   7.41  \n",
       "Lettuce, salad with assorted vegetables excludi...   0.20  \n",
       "Pasta with cream sauce and poultry, home recipe      7.02  \n",
       "Cheese sauce                                        13.02  \n",
       "Pepper, raw, NFS                                     0.22  \n",
       "Alfredo sauce with poultry                          13.59  \n",
       "Vegetable and fruit juice, 100% juice, with hig...   0.01  \n",
       "Pizza, cheese, with fruit, thin crust               11.56  \n",
       "Chicken or turkey and vegetables including carr...   7.80  \n",
       "Lettuce, salad with avocado, tomato, and/or car...   3.39  \n",
       "Chicken breast, baked or broiled, skin not eate...   5.44  "
      ]
     },
     "execution_count": 153,
     "metadata": {},
     "output_type": "execute_result"
    }
   ],
   "source": [
    "r"
   ]
  },
  {
   "cell_type": "code",
   "execution_count": null,
   "metadata": {},
   "outputs": [
    {
     "data": {
      "text/plain": [
       "171.07388225998605"
      ]
     },
     "execution_count": 133,
     "metadata": {},
     "output_type": "execute_result"
    }
   ],
   "source": [
    "colories_tensor = np.where((arrays[:,0,:,:] == arrays[:,0,:,:].max(0)),arrays[:,1,:,:],0).max(0)\n",
    "colories_tensor[colories_tensor!=0].mean()"
   ]
  },
  {
   "cell_type": "code",
   "execution_count": null,
   "metadata": {},
   "outputs": [
    {
     "data": {
      "text/html": [
       "<div>\n",
       "<style scoped>\n",
       "    .dataframe tbody tr th:only-of-type {\n",
       "        vertical-align: middle;\n",
       "    }\n",
       "\n",
       "    .dataframe tbody tr th {\n",
       "        vertical-align: top;\n",
       "    }\n",
       "\n",
       "    .dataframe thead th {\n",
       "        text-align: right;\n",
       "    }\n",
       "</style>\n",
       "<table border=\"1\" class=\"dataframe\">\n",
       "  <thead>\n",
       "    <tr style=\"text-align: right;\">\n",
       "      <th></th>\n",
       "      <th>box_area_rank</th>\n",
       "    </tr>\n",
       "    <tr>\n",
       "      <th>description</th>\n",
       "      <th></th>\n",
       "    </tr>\n",
       "  </thead>\n",
       "  <tbody>\n",
       "    <tr>\n",
       "      <th>Chicken or turkey, noodles, and vegetables including carrots, broccoli, and/or dark-green leafy; cheese sauce</th>\n",
       "      <td>811167</td>\n",
       "    </tr>\n",
       "    <tr>\n",
       "      <th>Egg omelet or scrambled egg, with cheese, made with cooking spray</th>\n",
       "      <td>67499</td>\n",
       "    </tr>\n",
       "    <tr>\n",
       "      <th>Bread, Italian, Grecian, Armenian</th>\n",
       "      <td>56881</td>\n",
       "    </tr>\n",
       "    <tr>\n",
       "      <th>Tuna salad, made with any type of fat free dressing</th>\n",
       "      <td>31829</td>\n",
       "    </tr>\n",
       "    <tr>\n",
       "      <th>Garlic bread, from fast food / restaurant</th>\n",
       "      <td>29684</td>\n",
       "    </tr>\n",
       "    <tr>\n",
       "      <th>Bread, reduced calorie and/or high fiber, white or NFS, with fruit and/or nuts</th>\n",
       "      <td>25262</td>\n",
       "    </tr>\n",
       "    <tr>\n",
       "      <th>Chicken breast, baked, broiled, or roasted, skin eaten, from raw</th>\n",
       "      <td>23389</td>\n",
       "    </tr>\n",
       "    <tr>\n",
       "      <th>Egg omelet or scrambled egg, with dark-green vegetables, NS as to fat</th>\n",
       "      <td>20079</td>\n",
       "    </tr>\n",
       "    <tr>\n",
       "      <th>Chicken breast, grilled without sauce, skin eaten</th>\n",
       "      <td>19762</td>\n",
       "    </tr>\n",
       "    <tr>\n",
       "      <th>Chicken or turkey with cream sauce</th>\n",
       "      <td>19640</td>\n",
       "    </tr>\n",
       "    <tr>\n",
       "      <th>Lettuce, salad with assorted vegetables excluding tomatoes and carrots, no dressing</th>\n",
       "      <td>16032</td>\n",
       "    </tr>\n",
       "    <tr>\n",
       "      <th>Pasta with cream sauce and poultry, home recipe</th>\n",
       "      <td>15777</td>\n",
       "    </tr>\n",
       "    <tr>\n",
       "      <th>Cheese sauce</th>\n",
       "      <td>12313</td>\n",
       "    </tr>\n",
       "    <tr>\n",
       "      <th>Pepper, raw, NFS</th>\n",
       "      <td>9162</td>\n",
       "    </tr>\n",
       "    <tr>\n",
       "      <th>Alfredo sauce with poultry</th>\n",
       "      <td>8208</td>\n",
       "    </tr>\n",
       "    <tr>\n",
       "      <th>Vegetable and fruit juice, 100% juice, with high vitamin C</th>\n",
       "      <td>8150</td>\n",
       "    </tr>\n",
       "    <tr>\n",
       "      <th>Pizza, cheese, with fruit, thin crust</th>\n",
       "      <td>7244</td>\n",
       "    </tr>\n",
       "    <tr>\n",
       "      <th>Chicken or turkey and vegetables including carrots, broccoli, and/or dark-green leafy; no potatoes, tomato-based sauce</th>\n",
       "      <td>6777</td>\n",
       "    </tr>\n",
       "    <tr>\n",
       "      <th>Lettuce, salad with avocado, tomato, and/or carrots, with or without other vegetables, no dressing</th>\n",
       "      <td>6197</td>\n",
       "    </tr>\n",
       "    <tr>\n",
       "      <th>Chicken breast, baked or broiled, skin not eaten, from fast food / restaurant</th>\n",
       "      <td>6191</td>\n",
       "    </tr>\n",
       "  </tbody>\n",
       "</table>\n",
       "</div>"
      ],
      "text/plain": [
       "                                                    box_area_rank\n",
       "description                                                      \n",
       "Chicken or turkey, noodles, and vegetables incl...         811167\n",
       "Egg omelet or scrambled egg, with cheese, made ...          67499\n",
       "Bread, Italian, Grecian, Armenian                           56881\n",
       "Tuna salad, made with any type of fat free dres...          31829\n",
       "Garlic bread, from fast food / restaurant                   29684\n",
       "Bread, reduced calorie and/or high fiber, white...          25262\n",
       "Chicken breast, baked, broiled, or roasted, ski...          23389\n",
       "Egg omelet or scrambled egg, with dark-green ve...          20079\n",
       "Chicken breast, grilled without sauce, skin eaten           19762\n",
       "Chicken or turkey with cream sauce                          19640\n",
       "Lettuce, salad with assorted vegetables excludi...          16032\n",
       "Pasta with cream sauce and poultry, home recipe             15777\n",
       "Cheese sauce                                                12313\n",
       "Pepper, raw, NFS                                             9162\n",
       "Alfredo sauce with poultry                                   8208\n",
       "Vegetable and fruit juice, 100% juice, with hig...           8150\n",
       "Pizza, cheese, with fruit, thin crust                        7244\n",
       "Chicken or turkey and vegetables including carr...           6777\n",
       "Lettuce, salad with avocado, tomato, and/or car...           6197\n",
       "Chicken breast, baked or broiled, skin not eate...           6191"
      ]
     },
     "execution_count": 136,
     "metadata": {},
     "output_type": "execute_result"
    }
   ],
   "source": [
    "df_count_classes"
   ]
  },
  {
   "cell_type": "code",
   "execution_count": null,
   "metadata": {},
   "outputs": [],
   "source": [
    "image"
   ]
  },
  {
   "cell_type": "code",
   "execution_count": null,
   "metadata": {},
   "outputs": [
    {
     "data": {
      "text/plain": [
       "<matplotlib.image.AxesImage at 0x7fb247f0b160>"
      ]
     },
     "execution_count": 137,
     "metadata": {},
     "output_type": "execute_result"
    },
    {
     "data": {
      "image/png": "[encoded data removed]",
      "text/plain": [
       "<Figure size 1080x1080 with 1 Axes>"
      ]
     },
     "metadata": {
      "needs_background": "light"
     },
     "output_type": "display_data"
    }
   ],
   "source": [
    "fig, ax = plt.subplots()\n",
    "ax.imshow(image)\n",
    "ax.imshow(colories_tensor, interpolation='none', alpha=1)"
   ]
  },
  {
   "cell_type": "code",
   "execution_count": null,
   "metadata": {},
   "outputs": [],
   "source": []
  }
 ],
 "metadata": {
  "kernelspec": {
   "display_name": "Python 3.9.7 ('food')",
   "language": "python",
   "name": "python3"
  },
  "language_info": {
   "codemirror_mode": {
    "name": "ipython",
    "version": 3
   },
   "file_extension": ".py",
   "mimetype": "text/x-python",
   "name": "python",
   "nbconvert_exporter": "python",
   "pygments_lexer": "ipython3",
   "version": "3.9.7"
  },
  "orig_nbformat": 4,
  "vscode": {
   "interpreter": {
    "hash": "1e1ee659a212ecca49d6a1809275141ef7642c152d6286fb803a43d965656456"
   }
  }
 },
 "nbformat": 4,
 "nbformat_minor": 2
}
