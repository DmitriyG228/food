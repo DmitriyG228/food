{
 "cells": [
  {
   "cell_type": "markdown",
   "metadata": {},
   "source": [
    "how to make a great multiple recognition system\n",
    "\n",
    "- first filter out the classes, the search from the allowed classes only\n",
    "- search though photoclips, not text clips\n",
    "    neew to have photos for all the food classes first. Can  be done be inferencing glovo dataset"
   ]
  }
 ],
 "metadata": {
  "interpreter": {
   "hash": "1e1ee659a212ecca49d6a1809275141ef7642c152d6286fb803a43d965656456"
  },
  "kernelspec": {
   "display_name": "Python 3.9.7 ('food')",
   "language": "python",
   "name": "python3"
  },
  "language_info": {
   "name": "python",
   "version": "3.9.7"
  },
  "orig_nbformat": 4
 },
 "nbformat": 4,
 "nbformat_minor": 2
}
