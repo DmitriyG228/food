{
 "cells": [
  {
   "cell_type": "code",
   "execution_count": 13,
   "metadata": {},
   "outputs": [],
   "source": [
    "#default_exp qdrant"
   ]
  },
  {
   "cell_type": "code",
   "execution_count": 14,
   "metadata": {},
   "outputs": [],
   "source": [
    "#export\n",
    "from food.tools import *\n",
    "from food.paths import *\n",
    "from food.psql import *\n",
    "\n",
    "import pandas as pd\n",
    "import numpy as np\n",
    "from tqdm import tqdm\n",
    "\n",
    "from qdrant_client import QdrantClient\n",
    "import qdrant_client\n",
    "collection_name = \"food_images\"\n"
   ]
  },
  {
   "cell_type": "markdown",
   "metadata": {},
   "source": [
    "##### production\n",
    "cd\n",
    "docker run -p 6333:6333 \\\n",
    "    -v $(pwd)/qdrant_storage_prod:/qdrant/storage \\\n",
    "    --name qdrant_prod \\\n",
    "    qdrant/qdrant\n",
    "docker update --restart unless-stopped qdrant_prod"
   ]
  },
  {
   "cell_type": "code",
   "execution_count": 15,
   "metadata": {},
   "outputs": [],
   "source": [
    "# !pip install --upgrade qdrant_client"
   ]
  },
  {
   "cell_type": "code",
   "execution_count": 16,
   "metadata": {},
   "outputs": [],
   "source": [
    "#export\n",
    "dim = 768 #+ onehot.n_dim()\n",
    "QdrantClient.get_collections = lambda self: [c['name'] for c in self.http.collections_api.get_collections().dict()['result']['collections']]\n",
    "QdrantClient.collection_len = lambda self, name: self.http.collections_api.get_collection(name).dict()['result']['vectors_count']"
   ]
  },
  {
   "cell_type": "code",
   "execution_count": 17,
   "metadata": {},
   "outputs": [],
   "source": [
    "#export\n",
    "prod_client = QdrantClient(host='localhost', port=6333)\n",
    "dev_client  = QdrantClient(host='localhost', port=6334)\n"
   ]
  },
  {
   "cell_type": "code",
   "execution_count": 18,
   "metadata": {},
   "outputs": [],
   "source": [
    "client = prod_client"
   ]
  },
  {
   "cell_type": "code",
   "execution_count": 19,
   "metadata": {},
   "outputs": [
    {
     "data": {
      "text/plain": [
       "'food_images'"
      ]
     },
     "execution_count": 19,
     "metadata": {},
     "output_type": "execute_result"
    }
   ],
   "source": [
    "collection_name"
   ]
  },
  {
   "cell_type": "code",
   "execution_count": 21,
   "metadata": {},
   "outputs": [
    {
     "data": {
      "text/plain": [
       "<qdrant_client.qdrant_client.QdrantClient at 0x7f0afb022130>"
      ]
     },
     "execution_count": 21,
     "metadata": {},
     "output_type": "execute_result"
    }
   ],
   "source": [
    "client"
   ]
  },
  {
   "cell_type": "code",
   "execution_count": 22,
   "metadata": {},
   "outputs": [
    {
     "name": "stdout",
     "output_type": "stream",
     "text": [
      "{\n",
      "  \"vector_size\": 768,\n",
      "  \"distance\": \"Dot\",\n",
      "  \"shard_number\": null,\n",
      "  \"on_disk_payload\": null,\n",
      "  \"hnsw_config\": null,\n",
      "  \"wal_config\": null,\n",
      "  \"optimizers_config\": null\n",
      "}\n"
     ]
    },
    {
     "ename": "UnexpectedResponse",
     "evalue": "Unexpected Response: 422 (Unprocessable Entity)\nRaw response content:\nb'Json deserialize error: invalid type: null, expected u32 at line 1 column 60'",
     "output_type": "error",
     "traceback": [
      "\u001b[0;31m---------------------------------------------------------------------------\u001b[0m",
      "\u001b[0;31mUnexpectedResponse\u001b[0m                        Traceback (most recent call last)",
      "\u001b[1;32m/home/dima/food/00_qdrant.ipynb Cell 10'\u001b[0m in \u001b[0;36m<cell line: 1>\u001b[0;34m()\u001b[0m\n\u001b[0;32m----> <a href='vscode-notebook-cell://ssh-remote%2Bml2/home/dima/food/00_qdrant.ipynb#ch0000007vscode-remote?line=0'>1</a>\u001b[0m client\u001b[39m.\u001b[39;49mrecreate_collection(collection_name,dim,qdrant_client\u001b[39m.\u001b[39;49mhttp\u001b[39m.\u001b[39;49mmodels\u001b[39m.\u001b[39;49mDistance\u001b[39m.\u001b[39;49mDOT)\n",
      "File \u001b[0;32m~/anaconda3/envs/food_product/lib/python3.9/site-packages/qdrant_client/qdrant_client.py:942\u001b[0m, in \u001b[0;36mQdrantClient.recreate_collection\u001b[0;34m(self, collection_name, vector_size, distance, shard_number, on_disk_payload, hnsw_config, optimizers_config, wal_config, timeout)\u001b[0m\n\u001b[1;32m    <a href='file:///home/dima/anaconda3/envs/food_product/lib/python3.9/site-packages/qdrant_client/qdrant_client.py?line=929'>930</a>\u001b[0m create_collection_request \u001b[39m=\u001b[39m rest\u001b[39m.\u001b[39mCreateCollection(\n\u001b[1;32m    <a href='file:///home/dima/anaconda3/envs/food_product/lib/python3.9/site-packages/qdrant_client/qdrant_client.py?line=930'>931</a>\u001b[0m     distance\u001b[39m=\u001b[39mdistance,\n\u001b[1;32m    <a href='file:///home/dima/anaconda3/envs/food_product/lib/python3.9/site-packages/qdrant_client/qdrant_client.py?line=931'>932</a>\u001b[0m     vector_size\u001b[39m=\u001b[39mvector_size,\n\u001b[0;32m   (...)\u001b[0m\n\u001b[1;32m    <a href='file:///home/dima/anaconda3/envs/food_product/lib/python3.9/site-packages/qdrant_client/qdrant_client.py?line=936'>937</a>\u001b[0m     wal_config\u001b[39m=\u001b[39mwal_config\n\u001b[1;32m    <a href='file:///home/dima/anaconda3/envs/food_product/lib/python3.9/site-packages/qdrant_client/qdrant_client.py?line=937'>938</a>\u001b[0m )\n\u001b[1;32m    <a href='file:///home/dima/anaconda3/envs/food_product/lib/python3.9/site-packages/qdrant_client/qdrant_client.py?line=939'>940</a>\u001b[0m \u001b[39mprint\u001b[39m(json\u001b[39m.\u001b[39mdumps(create_collection_request\u001b[39m.\u001b[39mdict(), indent\u001b[39m=\u001b[39m\u001b[39m2\u001b[39m))\n\u001b[0;32m--> <a href='file:///home/dima/anaconda3/envs/food_product/lib/python3.9/site-packages/qdrant_client/qdrant_client.py?line=941'>942</a>\u001b[0m \u001b[39mself\u001b[39;49m\u001b[39m.\u001b[39;49mhttp\u001b[39m.\u001b[39;49mcollections_api\u001b[39m.\u001b[39;49mcreate_collection(\n\u001b[1;32m    <a href='file:///home/dima/anaconda3/envs/food_product/lib/python3.9/site-packages/qdrant_client/qdrant_client.py?line=942'>943</a>\u001b[0m     collection_name\u001b[39m=\u001b[39;49mcollection_name,\n\u001b[1;32m    <a href='file:///home/dima/anaconda3/envs/food_product/lib/python3.9/site-packages/qdrant_client/qdrant_client.py?line=943'>944</a>\u001b[0m     create_collection\u001b[39m=\u001b[39;49mcreate_collection_request,\n\u001b[1;32m    <a href='file:///home/dima/anaconda3/envs/food_product/lib/python3.9/site-packages/qdrant_client/qdrant_client.py?line=944'>945</a>\u001b[0m     timeout\u001b[39m=\u001b[39;49mtimeout\n\u001b[1;32m    <a href='file:///home/dima/anaconda3/envs/food_product/lib/python3.9/site-packages/qdrant_client/qdrant_client.py?line=945'>946</a>\u001b[0m )\n",
      "File \u001b[0;32m~/anaconda3/envs/food_product/lib/python3.9/site-packages/qdrant_client/http/api/collections_api.py:449\u001b[0m, in \u001b[0;36mSyncCollectionsApi.create_collection\u001b[0;34m(self, collection_name, timeout, create_collection)\u001b[0m\n\u001b[1;32m    <a href='file:///home/dima/anaconda3/envs/food_product/lib/python3.9/site-packages/qdrant_client/http/api/collections_api.py?line=439'>440</a>\u001b[0m \u001b[39mdef\u001b[39;00m \u001b[39mcreate_collection\u001b[39m(\n\u001b[1;32m    <a href='file:///home/dima/anaconda3/envs/food_product/lib/python3.9/site-packages/qdrant_client/http/api/collections_api.py?line=440'>441</a>\u001b[0m     \u001b[39mself\u001b[39m,\n\u001b[1;32m    <a href='file:///home/dima/anaconda3/envs/food_product/lib/python3.9/site-packages/qdrant_client/http/api/collections_api.py?line=441'>442</a>\u001b[0m     collection_name: \u001b[39mstr\u001b[39m,\n\u001b[1;32m    <a href='file:///home/dima/anaconda3/envs/food_product/lib/python3.9/site-packages/qdrant_client/http/api/collections_api.py?line=442'>443</a>\u001b[0m     timeout: \u001b[39mint\u001b[39m \u001b[39m=\u001b[39m \u001b[39mNone\u001b[39;00m,\n\u001b[1;32m    <a href='file:///home/dima/anaconda3/envs/food_product/lib/python3.9/site-packages/qdrant_client/http/api/collections_api.py?line=443'>444</a>\u001b[0m     create_collection: m\u001b[39m.\u001b[39mCreateCollection \u001b[39m=\u001b[39m \u001b[39mNone\u001b[39;00m,\n\u001b[1;32m    <a href='file:///home/dima/anaconda3/envs/food_product/lib/python3.9/site-packages/qdrant_client/http/api/collections_api.py?line=444'>445</a>\u001b[0m ) \u001b[39m-\u001b[39m\u001b[39m>\u001b[39m m\u001b[39m.\u001b[39mInlineResponse2003:\n\u001b[1;32m    <a href='file:///home/dima/anaconda3/envs/food_product/lib/python3.9/site-packages/qdrant_client/http/api/collections_api.py?line=445'>446</a>\u001b[0m     \u001b[39m\"\"\"\u001b[39;00m\n\u001b[1;32m    <a href='file:///home/dima/anaconda3/envs/food_product/lib/python3.9/site-packages/qdrant_client/http/api/collections_api.py?line=446'>447</a>\u001b[0m \u001b[39m    Create new collection with given parameters\u001b[39;00m\n\u001b[1;32m    <a href='file:///home/dima/anaconda3/envs/food_product/lib/python3.9/site-packages/qdrant_client/http/api/collections_api.py?line=447'>448</a>\u001b[0m \u001b[39m    \"\"\"\u001b[39;00m\n\u001b[0;32m--> <a href='file:///home/dima/anaconda3/envs/food_product/lib/python3.9/site-packages/qdrant_client/http/api/collections_api.py?line=448'>449</a>\u001b[0m     \u001b[39mreturn\u001b[39;00m \u001b[39mself\u001b[39;49m\u001b[39m.\u001b[39;49m_build_for_create_collection(\n\u001b[1;32m    <a href='file:///home/dima/anaconda3/envs/food_product/lib/python3.9/site-packages/qdrant_client/http/api/collections_api.py?line=449'>450</a>\u001b[0m         collection_name\u001b[39m=\u001b[39;49mcollection_name,\n\u001b[1;32m    <a href='file:///home/dima/anaconda3/envs/food_product/lib/python3.9/site-packages/qdrant_client/http/api/collections_api.py?line=450'>451</a>\u001b[0m         timeout\u001b[39m=\u001b[39;49mtimeout,\n\u001b[1;32m    <a href='file:///home/dima/anaconda3/envs/food_product/lib/python3.9/site-packages/qdrant_client/http/api/collections_api.py?line=451'>452</a>\u001b[0m         create_collection\u001b[39m=\u001b[39;49mcreate_collection,\n\u001b[1;32m    <a href='file:///home/dima/anaconda3/envs/food_product/lib/python3.9/site-packages/qdrant_client/http/api/collections_api.py?line=452'>453</a>\u001b[0m     )\n",
      "File \u001b[0;32m~/anaconda3/envs/food_product/lib/python3.9/site-packages/qdrant_client/http/api/collections_api.py:174\u001b[0m, in \u001b[0;36m_CollectionsApi._build_for_create_collection\u001b[0;34m(self, collection_name, timeout, create_collection)\u001b[0m\n\u001b[1;32m    <a href='file:///home/dima/anaconda3/envs/food_product/lib/python3.9/site-packages/qdrant_client/http/api/collections_api.py?line=169'>170</a>\u001b[0m     query_params[\u001b[39m\"\u001b[39m\u001b[39mtimeout\u001b[39m\u001b[39m\"\u001b[39m] \u001b[39m=\u001b[39m \u001b[39mstr\u001b[39m(timeout)\n\u001b[1;32m    <a href='file:///home/dima/anaconda3/envs/food_product/lib/python3.9/site-packages/qdrant_client/http/api/collections_api.py?line=171'>172</a>\u001b[0m body \u001b[39m=\u001b[39m jsonable_encoder(create_collection)\n\u001b[0;32m--> <a href='file:///home/dima/anaconda3/envs/food_product/lib/python3.9/site-packages/qdrant_client/http/api/collections_api.py?line=173'>174</a>\u001b[0m \u001b[39mreturn\u001b[39;00m \u001b[39mself\u001b[39;49m\u001b[39m.\u001b[39;49mapi_client\u001b[39m.\u001b[39;49mrequest(\n\u001b[1;32m    <a href='file:///home/dima/anaconda3/envs/food_product/lib/python3.9/site-packages/qdrant_client/http/api/collections_api.py?line=174'>175</a>\u001b[0m     type_\u001b[39m=\u001b[39;49mm\u001b[39m.\u001b[39;49mInlineResponse2003,\n\u001b[1;32m    <a href='file:///home/dima/anaconda3/envs/food_product/lib/python3.9/site-packages/qdrant_client/http/api/collections_api.py?line=175'>176</a>\u001b[0m     method\u001b[39m=\u001b[39;49m\u001b[39m\"\u001b[39;49m\u001b[39mPUT\u001b[39;49m\u001b[39m\"\u001b[39;49m,\n\u001b[1;32m    <a href='file:///home/dima/anaconda3/envs/food_product/lib/python3.9/site-packages/qdrant_client/http/api/collections_api.py?line=176'>177</a>\u001b[0m     url\u001b[39m=\u001b[39;49m\u001b[39m\"\u001b[39;49m\u001b[39m/collections/\u001b[39;49m\u001b[39m{collection_name}\u001b[39;49;00m\u001b[39m\"\u001b[39;49m,\n\u001b[1;32m    <a href='file:///home/dima/anaconda3/envs/food_product/lib/python3.9/site-packages/qdrant_client/http/api/collections_api.py?line=177'>178</a>\u001b[0m     path_params\u001b[39m=\u001b[39;49mpath_params,\n\u001b[1;32m    <a href='file:///home/dima/anaconda3/envs/food_product/lib/python3.9/site-packages/qdrant_client/http/api/collections_api.py?line=178'>179</a>\u001b[0m     params\u001b[39m=\u001b[39;49mquery_params,\n\u001b[1;32m    <a href='file:///home/dima/anaconda3/envs/food_product/lib/python3.9/site-packages/qdrant_client/http/api/collections_api.py?line=179'>180</a>\u001b[0m     json\u001b[39m=\u001b[39;49mbody,\n\u001b[1;32m    <a href='file:///home/dima/anaconda3/envs/food_product/lib/python3.9/site-packages/qdrant_client/http/api/collections_api.py?line=180'>181</a>\u001b[0m )\n",
      "File \u001b[0;32m~/anaconda3/envs/food_product/lib/python3.9/site-packages/qdrant_client/http/api_client.py:62\u001b[0m, in \u001b[0;36mApiClient.request\u001b[0;34m(self, type_, method, url, path_params, **kwargs)\u001b[0m\n\u001b[1;32m     <a href='file:///home/dima/anaconda3/envs/food_product/lib/python3.9/site-packages/qdrant_client/http/api_client.py?line=59'>60</a>\u001b[0m url \u001b[39m=\u001b[39m (\u001b[39mself\u001b[39m\u001b[39m.\u001b[39mhost \u001b[39mor\u001b[39;00m \u001b[39m\"\u001b[39m\u001b[39m\"\u001b[39m) \u001b[39m+\u001b[39m url\u001b[39m.\u001b[39mformat(\u001b[39m*\u001b[39m\u001b[39m*\u001b[39mpath_params)\n\u001b[1;32m     <a href='file:///home/dima/anaconda3/envs/food_product/lib/python3.9/site-packages/qdrant_client/http/api_client.py?line=60'>61</a>\u001b[0m request \u001b[39m=\u001b[39m Request(method, url, \u001b[39m*\u001b[39m\u001b[39m*\u001b[39mkwargs)\n\u001b[0;32m---> <a href='file:///home/dima/anaconda3/envs/food_product/lib/python3.9/site-packages/qdrant_client/http/api_client.py?line=61'>62</a>\u001b[0m \u001b[39mreturn\u001b[39;00m \u001b[39mself\u001b[39;49m\u001b[39m.\u001b[39;49msend(request, type_)\n",
      "File \u001b[0;32m~/anaconda3/envs/food_product/lib/python3.9/site-packages/qdrant_client/http/api_client.py:85\u001b[0m, in \u001b[0;36mApiClient.send\u001b[0;34m(self, request, type_)\u001b[0m\n\u001b[1;32m     <a href='file:///home/dima/anaconda3/envs/food_product/lib/python3.9/site-packages/qdrant_client/http/api_client.py?line=82'>83</a>\u001b[0m     \u001b[39mexcept\u001b[39;00m ValidationError \u001b[39mas\u001b[39;00m e:\n\u001b[1;32m     <a href='file:///home/dima/anaconda3/envs/food_product/lib/python3.9/site-packages/qdrant_client/http/api_client.py?line=83'>84</a>\u001b[0m         \u001b[39mraise\u001b[39;00m ResponseHandlingException(e)\n\u001b[0;32m---> <a href='file:///home/dima/anaconda3/envs/food_product/lib/python3.9/site-packages/qdrant_client/http/api_client.py?line=84'>85</a>\u001b[0m \u001b[39mraise\u001b[39;00m UnexpectedResponse\u001b[39m.\u001b[39mfor_response(response)\n",
      "\u001b[0;31mUnexpectedResponse\u001b[0m: Unexpected Response: 422 (Unprocessable Entity)\nRaw response content:\nb'Json deserialize error: invalid type: null, expected u32 at line 1 column 60'"
     ]
    }
   ],
   "source": [
    "client.recreate_collection(collection_name,dim,qdrant_client.http.models.Distance.DOT)"
   ]
  },
  {
   "cell_type": "code",
   "execution_count": 12,
   "metadata": {},
   "outputs": [
    {
     "data": {
      "text/plain": [
       "[]"
      ]
     },
     "execution_count": 12,
     "metadata": {},
     "output_type": "execute_result"
    }
   ],
   "source": [
    "client.get_collections()"
   ]
  },
  {
   "cell_type": "code",
   "execution_count": 34,
   "metadata": {},
   "outputs": [
    {
     "data": {
      "text/plain": [
       "'food_images'"
      ]
     },
     "execution_count": 34,
     "metadata": {},
     "output_type": "execute_result"
    }
   ],
   "source": [
    "collection_name"
   ]
  },
  {
   "cell_type": "code",
   "execution_count": 35,
   "metadata": {},
   "outputs": [
    {
     "data": {
      "text/plain": [
       "0"
      ]
     },
     "execution_count": 35,
     "metadata": {},
     "output_type": "execute_result"
    }
   ],
   "source": [
    "client.collection_len(collection_name)"
   ]
  },
  {
   "cell_type": "code",
   "execution_count": 36,
   "metadata": {},
   "outputs": [
    {
     "name": "stdout",
     "output_type": "stream",
     "text": [
      "Converted 00_clipmodel.ipynb.\n",
      "Converted 00_custom_pandas.ipynb.\n",
      "Converted 00_paths.ipynb.\n",
      "Converted 00_progress_check.ipynb.\n",
      "Converted 00_psql.ipynb.\n",
      "Converted 00_qdrant.ipynb.\n",
      "Converted 00_tools.ipynb.\n",
      "Converted 01_multiple_foods.ipynb.\n",
      "Converted 01_multiple_foods_segmantation.ipynb.\n",
      "Converted 01_search.ipynb.\n",
      "Converted 0_template copy 2.ipynb.\n",
      "Converted 0_template copy.ipynb.\n",
      "Converted 0_template.ipynb.\n",
      "Converted OFA.ipynb.\n",
      "Converted Untitled-1.ipynb.\n",
      "Converted bot pseudocode.ipynb.\n",
      "Converted bot_test.ipynb.\n",
      "Converted classifying_glovo_images.ipynb.\n",
      "Converted foods_prompted_tosql.ipynb.\n",
      "Converted ideas.ipynb.\n",
      "Converted inference.ipynb.\n",
      "Converted multiple3105.ipynb.\n",
      "Converted multiple_3005.ipynb.\n",
      "No export destination, ignored:\n",
      "#export\n",
      "def search_image(url=None,head = 1):\n",
      "    image_clip = requests.post(f'https://guru.skynet.center/image2vector/?url={url}').json()\n",
      "    results = client.search(collection_name=collection_name,query_vector=image_clip,top=head)\n",
      "    image_clip = torch.Tensor(image_clip)\n",
      "    df = foods.loc[[r.id for r in results]].copy()\n",
      "    df['score'] = [r.score for r in results]\n",
      "    df = df.sort_values('score',ascending=False)\n",
      "\n",
      "    return image_clip,df.reset_index()\n",
      "\n",
      "series2tensor = lambda series:torch.tensor([np.array(c) for c in series.values])\n",
      "Warning: Exporting to \"None.py\" but this module is not part of this build\n",
      "Traceback (most recent call last):\n",
      "  File \"/home/dima/anaconda3/envs/food/bin/nbdev_build_lib\", line 8, in <module>\n",
      "    sys.exit(nbdev_build_lib())\n",
      "  File \"/home/dima/anaconda3/envs/food/lib/python3.9/site-packages/fastcore/script.py\", line 112, in _f\n",
      "    tfunc(**merge(args, args_from_prog(func, xtra)))\n",
      "  File \"/home/dima/anaconda3/envs/food/lib/python3.9/site-packages/nbdev/export2html.py\", line 465, in nbdev_build_lib\n",
      "    notebook2script(fname=fname, bare=bare)\n",
      "  File \"/home/dima/anaconda3/envs/food/lib/python3.9/site-packages/nbdev/export.py\", line 430, in notebook2script\n",
      "    for f in sorted(files): d = _notebook2script(f, modules, silent=silent, to_dict=d, bare=bare)\n",
      "  File \"/home/dima/anaconda3/envs/food/lib/python3.9/site-packages/nbdev/export.py\", line 357, in _notebook2script\n",
      "    if to_dict is None: _add2all(fname_out, [f\"'{f}'\" for f in names if '.' not in f and len(f) > 0] + extra)\n",
      "  File \"/home/dima/anaconda3/envs/food/lib/python3.9/site-packages/nbdev/export.py\", line 208, in _add2all\n",
      "    with open(fname, 'r', encoding='utf8') as f: text = f.read()\n",
      "FileNotFoundError: [Errno 2] No such file or directory: '/home/dima/food/food/None.py'\n"
     ]
    }
   ],
   "source": [
    "!nbdev_build_lib"
   ]
  },
  {
   "cell_type": "code",
   "execution_count": null,
   "metadata": {},
   "outputs": [],
   "source": []
  }
 ],
 "metadata": {
  "interpreter": {
   "hash": "a6bc20d2add50d5c329c18ce5ec32cd5b675a44c2b91567030c7aa8b463bccb4"
  },
  "kernelspec": {
   "display_name": "Python 3.9.12 ('food_product')",
   "language": "python",
   "name": "python3"
  },
  "language_info": {
   "codemirror_mode": {
    "name": "ipython",
    "version": 3
   },
   "file_extension": ".py",
   "mimetype": "text/x-python",
   "name": "python",
   "nbconvert_exporter": "python",
   "pygments_lexer": "ipython3",
   "version": "3.9.12"
  },
  "orig_nbformat": 4
 },
 "nbformat": 4,
 "nbformat_minor": 2
}
