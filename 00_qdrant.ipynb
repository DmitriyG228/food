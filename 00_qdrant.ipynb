{
 "cells": [
  {
   "cell_type": "code",
   "execution_count": 1,
   "metadata": {},
   "outputs": [],
   "source": [
    "#default_exp qdrant"
   ]
  },
  {
   "cell_type": "code",
   "execution_count": 2,
   "metadata": {},
   "outputs": [
    {
     "name": "stdout",
     "output_type": "stream",
     "text": [
      "dev\n"
     ]
    }
   ],
   "source": [
    "#export\n",
    "from food.tools import *\n",
    "from food.paths import *\n",
    "from food.psql import *\n",
    "\n",
    "import pandas as pd\n",
    "import numpy as np\n",
    "from tqdm import tqdm\n",
    "\n",
    "from qdrant_client import QdrantClient\n",
    "import qdrant_client\n",
    "collection_name = \"food_images\"\n",
    "\n",
    "# collection_name = \"food_categories\"\n",
    "\n"
   ]
  },
  {
   "cell_type": "markdown",
   "metadata": {},
   "source": [
    "##### production\n",
    "docker pull qdrant/qdrant:master\n",
    "docker run -p 6335:6333 \\\n",
    "    -v $(pwd)/qdrant_prod_2206_storage:/qdrant/storage \\\n",
    "    --name qdrant_prod_2206 \\\n",
    "    qdrant/qdrant\n",
    "docker update --restart unless-stopped qdrant_prod_2206"
   ]
  },
  {
   "cell_type": "markdown",
   "metadata": {},
   "source": [
    "##### dev\n",
    "docker pull qdrant/qdrant:master\n",
    "docker run -p 6334:6333 \\\n",
    "    -v $(pwd)/qdrant_storage_dev:/qdrant/storage \\\n",
    "    --name qdrant_dev \\\n",
    "    qdrant/qdrant\n",
    "docker update --restart unless-stopped qdrant_dev"
   ]
  },
  {
   "cell_type": "code",
   "execution_count": 3,
   "metadata": {},
   "outputs": [
    {
     "name": "stdout",
     "output_type": "stream",
     "text": [
      "Requirement already satisfied: qdrant_client in /home/dima/anaconda3/envs/food_product/lib/python3.9/site-packages (0.8.0)\n",
      "Requirement already satisfied: pydantic<2.0,>=1.8 in /home/dima/anaconda3/envs/food_product/lib/python3.9/site-packages (from qdrant_client) (1.9.0)\n",
      "Requirement already satisfied: betterproto==2.0.0b4 in /home/dima/anaconda3/envs/food_product/lib/python3.9/site-packages (from qdrant_client) (2.0.0b4)\n",
      "Requirement already satisfied: grpcio<2.0.0,>=1.46.0 in /home/dima/anaconda3/envs/food_product/lib/python3.9/site-packages (from qdrant_client) (1.46.3)\n",
      "Requirement already satisfied: loguru<0.6.0,>=0.5.3 in /home/dima/anaconda3/envs/food_product/lib/python3.9/site-packages (from qdrant_client) (0.5.3)\n",
      "Requirement already satisfied: tqdm<5.0.0,>=4.56.0 in /home/dima/anaconda3/envs/food_product/lib/python3.9/site-packages (from qdrant_client) (4.64.0)\n",
      "Requirement already satisfied: httpx<0.24.0,>=0.23.0 in /home/dima/anaconda3/envs/food_product/lib/python3.9/site-packages (from qdrant_client) (0.23.0)\n",
      "Requirement already satisfied: numpy<2.0,>=1.21 in /home/dima/anaconda3/envs/food_product/lib/python3.9/site-packages (from qdrant_client) (1.22.3)\n",
      "Requirement already satisfied: typing-extensions<4.0.0,>=3.10.0 in /home/dima/anaconda3/envs/food_product/lib/python3.9/site-packages (from qdrant_client) (3.10.0.2)\n",
      "Requirement already satisfied: grpclib<0.5.0,>=0.4.1 in /home/dima/anaconda3/envs/food_product/lib/python3.9/site-packages (from betterproto==2.0.0b4->qdrant_client) (0.4.2)\n",
      "Requirement already satisfied: python-dateutil<3.0,>=2.8 in /home/dima/anaconda3/envs/food_product/lib/python3.9/site-packages (from betterproto==2.0.0b4->qdrant_client) (2.8.2)\n",
      "Requirement already satisfied: six>=1.5.2 in /home/dima/anaconda3/envs/food_product/lib/python3.9/site-packages (from grpcio<2.0.0,>=1.46.0->qdrant_client) (1.16.0)\n",
      "Requirement already satisfied: multidict in /home/dima/anaconda3/envs/food_product/lib/python3.9/site-packages (from grpclib<0.5.0,>=0.4.1->betterproto==2.0.0b4->qdrant_client) (6.0.2)\n",
      "Requirement already satisfied: h2<5,>=3.1.0 in /home/dima/anaconda3/envs/food_product/lib/python3.9/site-packages (from grpclib<0.5.0,>=0.4.1->betterproto==2.0.0b4->qdrant_client) (4.1.0)\n",
      "Requirement already satisfied: hyperframe<7,>=6.0 in /home/dima/anaconda3/envs/food_product/lib/python3.9/site-packages (from h2<5,>=3.1.0->grpclib<0.5.0,>=0.4.1->betterproto==2.0.0b4->qdrant_client) (6.0.1)\n",
      "Requirement already satisfied: hpack<5,>=4.0 in /home/dima/anaconda3/envs/food_product/lib/python3.9/site-packages (from h2<5,>=3.1.0->grpclib<0.5.0,>=0.4.1->betterproto==2.0.0b4->qdrant_client) (4.0.0)\n",
      "Requirement already satisfied: certifi in /home/dima/anaconda3/envs/food_product/lib/python3.9/site-packages (from httpx<0.24.0,>=0.23.0->qdrant_client) (2022.5.18.1)\n",
      "Requirement already satisfied: rfc3986[idna2008]<2,>=1.3 in /home/dima/anaconda3/envs/food_product/lib/python3.9/site-packages (from httpx<0.24.0,>=0.23.0->qdrant_client) (1.5.0)\n",
      "Requirement already satisfied: httpcore<0.16.0,>=0.15.0 in /home/dima/anaconda3/envs/food_product/lib/python3.9/site-packages (from httpx<0.24.0,>=0.23.0->qdrant_client) (0.15.0)\n",
      "Requirement already satisfied: sniffio in /home/dima/anaconda3/envs/food_product/lib/python3.9/site-packages (from httpx<0.24.0,>=0.23.0->qdrant_client) (1.2.0)\n",
      "Requirement already satisfied: anyio==3.* in /home/dima/anaconda3/envs/food_product/lib/python3.9/site-packages (from httpcore<0.16.0,>=0.15.0->httpx<0.24.0,>=0.23.0->qdrant_client) (3.5.0)\n",
      "Requirement already satisfied: h11<0.13,>=0.11 in /home/dima/anaconda3/envs/food_product/lib/python3.9/site-packages (from httpcore<0.16.0,>=0.15.0->httpx<0.24.0,>=0.23.0->qdrant_client) (0.12.0)\n",
      "Requirement already satisfied: idna>=2.8 in /home/dima/anaconda3/envs/food_product/lib/python3.9/site-packages (from anyio==3.*->httpcore<0.16.0,>=0.15.0->httpx<0.24.0,>=0.23.0->qdrant_client) (3.3)\n"
     ]
    }
   ],
   "source": [
    "!pip install --upgrade qdrant_client"
   ]
  },
  {
   "cell_type": "code",
   "execution_count": 4,
   "metadata": {},
   "outputs": [],
   "source": [
    "#export\n",
    "dim = 768 #+ onehot.n_dim()\n",
    "QdrantClient.get_collections = lambda self: [c['name'] for c in self.http.collections_api.get_collections().dict()['result']['collections']]\n",
    "QdrantClient.collection_len = lambda self, name: self.http.collections_api.get_collection(name).dict()['result']['vectors_count']"
   ]
  },
  {
   "cell_type": "code",
   "execution_count": 5,
   "metadata": {},
   "outputs": [],
   "source": [
    "#export\n",
    "prod_client = QdrantClient(host='localhost', port=6335)\n",
    "dev_client  = QdrantClient(host='localhost', port=6334)\n",
    "client = prod_client if branch == \"prod\" else dev_client\n"
   ]
  },
  {
   "cell_type": "code",
   "execution_count": 6,
   "metadata": {},
   "outputs": [
    {
     "data": {
      "text/plain": [
       "(['food_images'], ['glovo', 'food_images'])"
      ]
     },
     "execution_count": 6,
     "metadata": {},
     "output_type": "execute_result"
    }
   ],
   "source": [
    "prod_client.get_collections(),dev_client.get_collections()"
   ]
  },
  {
   "cell_type": "code",
   "execution_count": 7,
   "metadata": {},
   "outputs": [],
   "source": [
    "# client.recreate_collection(collection_name,dim,qdrant_client.http.models.Distance.DOT)"
   ]
  },
  {
   "cell_type": "code",
   "execution_count": 8,
   "metadata": {},
   "outputs": [
    {
     "data": {
      "text/plain": [
       "'food_images'"
      ]
     },
     "execution_count": 8,
     "metadata": {},
     "output_type": "execute_result"
    }
   ],
   "source": [
    "collection_name"
   ]
  },
  {
   "cell_type": "code",
   "execution_count": 9,
   "metadata": {},
   "outputs": [
    {
     "data": {
      "text/plain": [
       "104276"
      ]
     },
     "execution_count": 9,
     "metadata": {},
     "output_type": "execute_result"
    }
   ],
   "source": [
    "client.collection_len(collection_name)"
   ]
  },
  {
   "cell_type": "code",
   "execution_count": 10,
   "metadata": {},
   "outputs": [
    {
     "name": "stdout",
     "output_type": "stream",
     "text": [
      "Converted 00_clipmodel.ipynb.\n",
      "Converted 00_custom_pandas.ipynb.\n",
      "Converted 00_paths.ipynb.\n",
      "Converted 00_progress_check.ipynb.\n",
      "Converted 00_psql.ipynb.\n",
      "Converted 00_qdrant.ipynb.\n",
      "Converted 00_tools.ipynb.\n",
      "Converted 01_search.ipynb.\n",
      "Converted inference.ipynb.\n",
      "Converted stats.ipynb.\n"
     ]
    }
   ],
   "source": [
    "!nbdev_build_lib"
   ]
  },
  {
   "cell_type": "code",
   "execution_count": null,
   "metadata": {},
   "outputs": [],
   "source": []
  }
 ],
 "metadata": {
  "kernelspec": {
   "display_name": "Python 3.9.12 ('food_product')",
   "language": "python",
   "name": "python3"
  },
  "language_info": {
   "codemirror_mode": {
    "name": "ipython",
    "version": 3
   },
   "file_extension": ".py",
   "mimetype": "text/x-python",
   "name": "python",
   "nbconvert_exporter": "python",
   "pygments_lexer": "ipython3",
   "version": "3.9.12"
  },
  "orig_nbformat": 4,
  "vscode": {
   "interpreter": {
    "hash": "a6bc20d2add50d5c329c18ce5ec32cd5b675a44c2b91567030c7aa8b463bccb4"
   }
  }
 },
 "nbformat": 4,
 "nbformat_minor": 2
}
