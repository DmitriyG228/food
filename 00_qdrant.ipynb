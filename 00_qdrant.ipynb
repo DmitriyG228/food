{
 "cells": [
  {
   "cell_type": "code",
   "execution_count": 2,
   "metadata": {},
   "outputs": [],
   "source": [
    "#default_exp qdrant"
   ]
  },
  {
   "cell_type": "code",
   "execution_count": 3,
   "metadata": {},
   "outputs": [
    {
     "name": "stdout",
     "output_type": "stream",
     "text": [
      "dev\n"
     ]
    }
   ],
   "source": [
    "#export\n",
    "from food.tools import *\n",
    "from food.paths import *\n",
    "from food.psql import *\n",
    "\n",
    "import pandas as pd\n",
    "import numpy as np\n",
    "from tqdm import tqdm\n",
    "\n",
    "from qdrant_client import QdrantClient\n",
    "import qdrant_client\n",
    "# collection_name = \"food_images\"\n",
    "collection_name = \"food_text\"\n",
    "\n",
    "# collection_name = \"food_categories\"\n",
    "\n"
   ]
  },
  {
   "cell_type": "markdown",
   "metadata": {},
   "source": [
    "##### production\n",
    "docker pull qdrant/qdrant:master\n",
    "docker run -p 6335:6333 \\\n",
    "    -v $(pwd)/qdrant_prod_2206_storage:/qdrant/storage \\\n",
    "    --name qdrant_prod_2206 \\\n",
    "    qdrant/qdrant\n",
    "docker update --restart unless-stopped qdrant_prod_2206"
   ]
  },
  {
   "cell_type": "markdown",
   "metadata": {},
   "source": [
    "##### dev\n",
    "docker pull qdrant/qdrant:master\n",
    "docker run -p 6334:6333 \\\n",
    "    -v $(pwd)/qdrant_storage_dev:/qdrant/storage \\\n",
    "    --name qdrant_dev \\\n",
    "    qdrant/qdrant\n",
    "docker update --restart unless-stopped qdrant_dev"
   ]
  },
  {
   "cell_type": "code",
   "execution_count": 4,
   "metadata": {},
   "outputs": [
    {
     "name": "stdout",
     "output_type": "stream",
     "text": [
      "Requirement already satisfied: qdrant_client in /home/dima/anaconda3/envs/food_product/lib/python3.9/site-packages (0.8.0)\n",
      "Requirement already satisfied: httpx<0.24.0,>=0.23.0 in /home/dima/anaconda3/envs/food_product/lib/python3.9/site-packages (from qdrant_client) (0.23.0)\n",
      "Requirement already satisfied: grpcio<2.0.0,>=1.46.0 in /home/dima/anaconda3/envs/food_product/lib/python3.9/site-packages (from qdrant_client) (1.46.3)\n",
      "Requirement already satisfied: numpy<2.0,>=1.21 in /home/dima/anaconda3/envs/food_product/lib/python3.9/site-packages (from qdrant_client) (1.22.3)\n",
      "Requirement already satisfied: tqdm<5.0.0,>=4.56.0 in /home/dima/anaconda3/envs/food_product/lib/python3.9/site-packages (from qdrant_client) (4.64.0)\n",
      "Requirement already satisfied: betterproto==2.0.0b4 in /home/dima/anaconda3/envs/food_product/lib/python3.9/site-packages (from qdrant_client) (2.0.0b4)\n",
      "Requirement already satisfied: typing-extensions<4.0.0,>=3.10.0 in /home/dima/anaconda3/envs/food_product/lib/python3.9/site-packages (from qdrant_client) (3.10.0.2)\n",
      "Requirement already satisfied: pydantic<2.0,>=1.8 in /home/dima/anaconda3/envs/food_product/lib/python3.9/site-packages (from qdrant_client) (1.9.0)\n",
      "Requirement already satisfied: loguru<0.6.0,>=0.5.3 in /home/dima/anaconda3/envs/food_product/lib/python3.9/site-packages (from qdrant_client) (0.5.3)\n",
      "Requirement already satisfied: python-dateutil<3.0,>=2.8 in /home/dima/anaconda3/envs/food_product/lib/python3.9/site-packages (from betterproto==2.0.0b4->qdrant_client) (2.8.2)\n",
      "Requirement already satisfied: grpclib<0.5.0,>=0.4.1 in /home/dima/anaconda3/envs/food_product/lib/python3.9/site-packages (from betterproto==2.0.0b4->qdrant_client) (0.4.2)\n",
      "Requirement already satisfied: six>=1.5.2 in /home/dima/anaconda3/envs/food_product/lib/python3.9/site-packages (from grpcio<2.0.0,>=1.46.0->qdrant_client) (1.16.0)\n",
      "Requirement already satisfied: multidict in /home/dima/anaconda3/envs/food_product/lib/python3.9/site-packages (from grpclib<0.5.0,>=0.4.1->betterproto==2.0.0b4->qdrant_client) (6.0.2)\n",
      "Requirement already satisfied: h2<5,>=3.1.0 in /home/dima/anaconda3/envs/food_product/lib/python3.9/site-packages (from grpclib<0.5.0,>=0.4.1->betterproto==2.0.0b4->qdrant_client) (4.1.0)\n",
      "Requirement already satisfied: hyperframe<7,>=6.0 in /home/dima/anaconda3/envs/food_product/lib/python3.9/site-packages (from h2<5,>=3.1.0->grpclib<0.5.0,>=0.4.1->betterproto==2.0.0b4->qdrant_client) (6.0.1)\n",
      "Requirement already satisfied: hpack<5,>=4.0 in /home/dima/anaconda3/envs/food_product/lib/python3.9/site-packages (from h2<5,>=3.1.0->grpclib<0.5.0,>=0.4.1->betterproto==2.0.0b4->qdrant_client) (4.0.0)\n",
      "Requirement already satisfied: certifi in /home/dima/anaconda3/envs/food_product/lib/python3.9/site-packages (from httpx<0.24.0,>=0.23.0->qdrant_client) (2022.5.18.1)\n",
      "Requirement already satisfied: rfc3986[idna2008]<2,>=1.3 in /home/dima/anaconda3/envs/food_product/lib/python3.9/site-packages (from httpx<0.24.0,>=0.23.0->qdrant_client) (1.5.0)\n",
      "Requirement already satisfied: httpcore<0.16.0,>=0.15.0 in /home/dima/anaconda3/envs/food_product/lib/python3.9/site-packages (from httpx<0.24.0,>=0.23.0->qdrant_client) (0.15.0)\n",
      "Requirement already satisfied: sniffio in /home/dima/anaconda3/envs/food_product/lib/python3.9/site-packages (from httpx<0.24.0,>=0.23.0->qdrant_client) (1.2.0)\n",
      "Requirement already satisfied: anyio==3.* in /home/dima/anaconda3/envs/food_product/lib/python3.9/site-packages (from httpcore<0.16.0,>=0.15.0->httpx<0.24.0,>=0.23.0->qdrant_client) (3.5.0)\n",
      "Requirement already satisfied: h11<0.13,>=0.11 in /home/dima/anaconda3/envs/food_product/lib/python3.9/site-packages (from httpcore<0.16.0,>=0.15.0->httpx<0.24.0,>=0.23.0->qdrant_client) (0.12.0)\n",
      "Requirement already satisfied: idna>=2.8 in /home/dima/anaconda3/envs/food_product/lib/python3.9/site-packages (from anyio==3.*->httpcore<0.16.0,>=0.15.0->httpx<0.24.0,>=0.23.0->qdrant_client) (3.3)\n"
     ]
    }
   ],
   "source": [
    "!pip install --upgrade qdrant_client"
   ]
  },
  {
   "cell_type": "code",
   "execution_count": 5,
   "metadata": {},
   "outputs": [],
   "source": [
    "#export\n",
    "dim = 768 #+ onehot.n_dim()\n",
    "QdrantClient.get_collections = lambda self: [c['name'] for c in self.http.collections_api.get_collections().dict()['result']['collections']]\n",
    "QdrantClient.collection_len = lambda self, name: self.http.collections_api.get_collection(name).dict()['result']['vectors_count']"
   ]
  },
  {
   "cell_type": "code",
   "execution_count": 6,
   "metadata": {},
   "outputs": [],
   "source": [
    "#export\n",
    "prod_client = QdrantClient(host='localhost', port=6335)\n",
    "dev_client  = QdrantClient(host='localhost', port=6334)\n",
    "client = prod_client if branch == \"prod\" else dev_client\n"
   ]
  },
  {
   "cell_type": "code",
   "execution_count": 12,
   "metadata": {},
   "outputs": [
    {
     "ename": "ResponseHandlingException",
     "evalue": "[Errno 111] Connection refused",
     "output_type": "error",
     "traceback": [
      "\u001b[0;31m---------------------------------------------------------------------------\u001b[0m",
      "\u001b[0;31mConnectionRefusedError\u001b[0m                    Traceback (most recent call last)",
      "File \u001b[0;32m~/anaconda3/envs/food_product/lib/python3.9/site-packages/httpcore/_exceptions.py:8\u001b[0m, in \u001b[0;36mmap_exceptions\u001b[0;34m(map)\u001b[0m\n\u001b[1;32m      7\u001b[0m \u001b[39mtry\u001b[39;00m:\n\u001b[0;32m----> 8\u001b[0m     \u001b[39myield\u001b[39;00m\n\u001b[1;32m      9\u001b[0m \u001b[39mexcept\u001b[39;00m \u001b[39mException\u001b[39;00m \u001b[39mas\u001b[39;00m exc:  \u001b[39m# noqa: PIE786\u001b[39;00m\n",
      "File \u001b[0;32m~/anaconda3/envs/food_product/lib/python3.9/site-packages/httpcore/backends/sync.py:86\u001b[0m, in \u001b[0;36mSyncBackend.connect_tcp\u001b[0;34m(self, host, port, timeout, local_address)\u001b[0m\n\u001b[1;32m     85\u001b[0m \u001b[39mwith\u001b[39;00m map_exceptions(exc_map):\n\u001b[0;32m---> 86\u001b[0m     sock \u001b[39m=\u001b[39m socket\u001b[39m.\u001b[39;49mcreate_connection(\n\u001b[1;32m     87\u001b[0m         address, timeout, source_address\u001b[39m=\u001b[39;49msource_address\n\u001b[1;32m     88\u001b[0m     )\n\u001b[1;32m     89\u001b[0m \u001b[39mreturn\u001b[39;00m SyncStream(sock)\n",
      "File \u001b[0;32m~/anaconda3/envs/food_product/lib/python3.9/socket.py:844\u001b[0m, in \u001b[0;36mcreate_connection\u001b[0;34m(address, timeout, source_address)\u001b[0m\n\u001b[1;32m    843\u001b[0m \u001b[39mtry\u001b[39;00m:\n\u001b[0;32m--> 844\u001b[0m     \u001b[39mraise\u001b[39;00m err\n\u001b[1;32m    845\u001b[0m \u001b[39mfinally\u001b[39;00m:\n\u001b[1;32m    846\u001b[0m     \u001b[39m# Break explicitly a reference cycle\u001b[39;00m\n",
      "File \u001b[0;32m~/anaconda3/envs/food_product/lib/python3.9/socket.py:832\u001b[0m, in \u001b[0;36mcreate_connection\u001b[0;34m(address, timeout, source_address)\u001b[0m\n\u001b[1;32m    831\u001b[0m     sock\u001b[39m.\u001b[39mbind(source_address)\n\u001b[0;32m--> 832\u001b[0m sock\u001b[39m.\u001b[39;49mconnect(sa)\n\u001b[1;32m    833\u001b[0m \u001b[39m# Break explicitly a reference cycle\u001b[39;00m\n",
      "\u001b[0;31mConnectionRefusedError\u001b[0m: [Errno 111] Connection refused",
      "\nDuring handling of the above exception, another exception occurred:\n",
      "\u001b[0;31mConnectError\u001b[0m                              Traceback (most recent call last)",
      "File \u001b[0;32m~/anaconda3/envs/food_product/lib/python3.9/site-packages/httpx/_transports/default.py:60\u001b[0m, in \u001b[0;36mmap_httpcore_exceptions\u001b[0;34m()\u001b[0m\n\u001b[1;32m     59\u001b[0m \u001b[39mtry\u001b[39;00m:\n\u001b[0;32m---> 60\u001b[0m     \u001b[39myield\u001b[39;00m\n\u001b[1;32m     61\u001b[0m \u001b[39mexcept\u001b[39;00m \u001b[39mException\u001b[39;00m \u001b[39mas\u001b[39;00m exc:  \u001b[39m# noqa: PIE-786\u001b[39;00m\n",
      "File \u001b[0;32m~/anaconda3/envs/food_product/lib/python3.9/site-packages/httpx/_transports/default.py:218\u001b[0m, in \u001b[0;36mHTTPTransport.handle_request\u001b[0;34m(self, request)\u001b[0m\n\u001b[1;32m    217\u001b[0m \u001b[39mwith\u001b[39;00m map_httpcore_exceptions():\n\u001b[0;32m--> 218\u001b[0m     resp \u001b[39m=\u001b[39m \u001b[39mself\u001b[39;49m\u001b[39m.\u001b[39;49m_pool\u001b[39m.\u001b[39;49mhandle_request(req)\n\u001b[1;32m    220\u001b[0m \u001b[39massert\u001b[39;00m \u001b[39misinstance\u001b[39m(resp\u001b[39m.\u001b[39mstream, typing\u001b[39m.\u001b[39mIterable)\n",
      "File \u001b[0;32m~/anaconda3/envs/food_product/lib/python3.9/site-packages/httpcore/_sync/connection_pool.py:253\u001b[0m, in \u001b[0;36mConnectionPool.handle_request\u001b[0;34m(self, request)\u001b[0m\n\u001b[1;32m    252\u001b[0m     \u001b[39mself\u001b[39m\u001b[39m.\u001b[39mresponse_closed(status)\n\u001b[0;32m--> 253\u001b[0m     \u001b[39mraise\u001b[39;00m exc\n\u001b[1;32m    254\u001b[0m \u001b[39melse\u001b[39;00m:\n",
      "File \u001b[0;32m~/anaconda3/envs/food_product/lib/python3.9/site-packages/httpcore/_sync/connection_pool.py:237\u001b[0m, in \u001b[0;36mConnectionPool.handle_request\u001b[0;34m(self, request)\u001b[0m\n\u001b[1;32m    236\u001b[0m \u001b[39mtry\u001b[39;00m:\n\u001b[0;32m--> 237\u001b[0m     response \u001b[39m=\u001b[39m connection\u001b[39m.\u001b[39;49mhandle_request(request)\n\u001b[1;32m    238\u001b[0m \u001b[39mexcept\u001b[39;00m ConnectionNotAvailable:\n\u001b[1;32m    239\u001b[0m     \u001b[39m# The ConnectionNotAvailable exception is a special case, that\u001b[39;00m\n\u001b[1;32m    240\u001b[0m     \u001b[39m# indicates we need to retry the request on a new connection.\u001b[39;00m\n\u001b[0;32m   (...)\u001b[0m\n\u001b[1;32m    244\u001b[0m     \u001b[39m# might end up as an HTTP/2 connection, but which actually ends\u001b[39;00m\n\u001b[1;32m    245\u001b[0m     \u001b[39m# up as HTTP/1.1.\u001b[39;00m\n",
      "File \u001b[0;32m~/anaconda3/envs/food_product/lib/python3.9/site-packages/httpcore/_sync/connection.py:86\u001b[0m, in \u001b[0;36mHTTPConnection.handle_request\u001b[0;34m(self, request)\u001b[0m\n\u001b[1;32m     85\u001b[0m         \u001b[39mself\u001b[39m\u001b[39m.\u001b[39m_connect_failed \u001b[39m=\u001b[39m \u001b[39mTrue\u001b[39;00m\n\u001b[0;32m---> 86\u001b[0m         \u001b[39mraise\u001b[39;00m exc\n\u001b[1;32m     87\u001b[0m \u001b[39melif\u001b[39;00m \u001b[39mnot\u001b[39;00m \u001b[39mself\u001b[39m\u001b[39m.\u001b[39m_connection\u001b[39m.\u001b[39mis_available():\n",
      "File \u001b[0;32m~/anaconda3/envs/food_product/lib/python3.9/site-packages/httpcore/_sync/connection.py:63\u001b[0m, in \u001b[0;36mHTTPConnection.handle_request\u001b[0;34m(self, request)\u001b[0m\n\u001b[1;32m     62\u001b[0m \u001b[39mtry\u001b[39;00m:\n\u001b[0;32m---> 63\u001b[0m     stream \u001b[39m=\u001b[39m \u001b[39mself\u001b[39;49m\u001b[39m.\u001b[39;49m_connect(request)\n\u001b[1;32m     65\u001b[0m     ssl_object \u001b[39m=\u001b[39m stream\u001b[39m.\u001b[39mget_extra_info(\u001b[39m\"\u001b[39m\u001b[39mssl_object\u001b[39m\u001b[39m\"\u001b[39m)\n",
      "File \u001b[0;32m~/anaconda3/envs/food_product/lib/python3.9/site-packages/httpcore/_sync/connection.py:111\u001b[0m, in \u001b[0;36mHTTPConnection._connect\u001b[0;34m(self, request)\u001b[0m\n\u001b[1;32m    108\u001b[0m \u001b[39mwith\u001b[39;00m Trace(\n\u001b[1;32m    109\u001b[0m     \u001b[39m\"\u001b[39m\u001b[39mconnection.connect_tcp\u001b[39m\u001b[39m\"\u001b[39m, request, kwargs\n\u001b[1;32m    110\u001b[0m ) \u001b[39mas\u001b[39;00m trace:\n\u001b[0;32m--> 111\u001b[0m     stream \u001b[39m=\u001b[39m \u001b[39mself\u001b[39;49m\u001b[39m.\u001b[39;49m_network_backend\u001b[39m.\u001b[39;49mconnect_tcp(\u001b[39m*\u001b[39;49m\u001b[39m*\u001b[39;49mkwargs)\n\u001b[1;32m    112\u001b[0m     trace\u001b[39m.\u001b[39mreturn_value \u001b[39m=\u001b[39m stream\n",
      "File \u001b[0;32m~/anaconda3/envs/food_product/lib/python3.9/site-packages/httpcore/backends/sync.py:86\u001b[0m, in \u001b[0;36mSyncBackend.connect_tcp\u001b[0;34m(self, host, port, timeout, local_address)\u001b[0m\n\u001b[1;32m     85\u001b[0m \u001b[39mwith\u001b[39;00m map_exceptions(exc_map):\n\u001b[0;32m---> 86\u001b[0m     sock \u001b[39m=\u001b[39m socket\u001b[39m.\u001b[39mcreate_connection(\n\u001b[1;32m     87\u001b[0m         address, timeout, source_address\u001b[39m=\u001b[39msource_address\n\u001b[1;32m     88\u001b[0m     )\n\u001b[1;32m     89\u001b[0m \u001b[39mreturn\u001b[39;00m SyncStream(sock)\n",
      "File \u001b[0;32m~/anaconda3/envs/food_product/lib/python3.9/contextlib.py:137\u001b[0m, in \u001b[0;36m_GeneratorContextManager.__exit__\u001b[0;34m(self, typ, value, traceback)\u001b[0m\n\u001b[1;32m    136\u001b[0m \u001b[39mtry\u001b[39;00m:\n\u001b[0;32m--> 137\u001b[0m     \u001b[39mself\u001b[39;49m\u001b[39m.\u001b[39;49mgen\u001b[39m.\u001b[39;49mthrow(typ, value, traceback)\n\u001b[1;32m    138\u001b[0m \u001b[39mexcept\u001b[39;00m \u001b[39mStopIteration\u001b[39;00m \u001b[39mas\u001b[39;00m exc:\n\u001b[1;32m    139\u001b[0m     \u001b[39m# Suppress StopIteration *unless* it's the same exception that\u001b[39;00m\n\u001b[1;32m    140\u001b[0m     \u001b[39m# was passed to throw().  This prevents a StopIteration\u001b[39;00m\n\u001b[1;32m    141\u001b[0m     \u001b[39m# raised inside the \"with\" statement from being suppressed.\u001b[39;00m\n",
      "File \u001b[0;32m~/anaconda3/envs/food_product/lib/python3.9/site-packages/httpcore/_exceptions.py:12\u001b[0m, in \u001b[0;36mmap_exceptions\u001b[0;34m(map)\u001b[0m\n\u001b[1;32m     11\u001b[0m     \u001b[39mif\u001b[39;00m \u001b[39misinstance\u001b[39m(exc, from_exc):\n\u001b[0;32m---> 12\u001b[0m         \u001b[39mraise\u001b[39;00m to_exc(exc)\n\u001b[1;32m     13\u001b[0m \u001b[39mraise\u001b[39;00m\n",
      "\u001b[0;31mConnectError\u001b[0m: [Errno 111] Connection refused",
      "\nThe above exception was the direct cause of the following exception:\n",
      "\u001b[0;31mConnectError\u001b[0m                              Traceback (most recent call last)",
      "File \u001b[0;32m~/anaconda3/envs/food_product/lib/python3.9/site-packages/qdrant_client/http/api_client.py:89\u001b[0m, in \u001b[0;36mApiClient.send_inner\u001b[0;34m(self, request)\u001b[0m\n\u001b[1;32m     88\u001b[0m \u001b[39mtry\u001b[39;00m:\n\u001b[0;32m---> 89\u001b[0m     response \u001b[39m=\u001b[39m \u001b[39mself\u001b[39;49m\u001b[39m.\u001b[39;49m_client\u001b[39m.\u001b[39;49msend(request)\n\u001b[1;32m     90\u001b[0m \u001b[39mexcept\u001b[39;00m \u001b[39mException\u001b[39;00m \u001b[39mas\u001b[39;00m e:\n",
      "File \u001b[0;32m~/anaconda3/envs/food_product/lib/python3.9/site-packages/httpx/_client.py:902\u001b[0m, in \u001b[0;36mClient.send\u001b[0;34m(self, request, stream, auth, follow_redirects)\u001b[0m\n\u001b[1;32m    900\u001b[0m auth \u001b[39m=\u001b[39m \u001b[39mself\u001b[39m\u001b[39m.\u001b[39m_build_request_auth(request, auth)\n\u001b[0;32m--> 902\u001b[0m response \u001b[39m=\u001b[39m \u001b[39mself\u001b[39;49m\u001b[39m.\u001b[39;49m_send_handling_auth(\n\u001b[1;32m    903\u001b[0m     request,\n\u001b[1;32m    904\u001b[0m     auth\u001b[39m=\u001b[39;49mauth,\n\u001b[1;32m    905\u001b[0m     follow_redirects\u001b[39m=\u001b[39;49mfollow_redirects,\n\u001b[1;32m    906\u001b[0m     history\u001b[39m=\u001b[39;49m[],\n\u001b[1;32m    907\u001b[0m )\n\u001b[1;32m    908\u001b[0m \u001b[39mtry\u001b[39;00m:\n",
      "File \u001b[0;32m~/anaconda3/envs/food_product/lib/python3.9/site-packages/httpx/_client.py:930\u001b[0m, in \u001b[0;36mClient._send_handling_auth\u001b[0;34m(self, request, auth, follow_redirects, history)\u001b[0m\n\u001b[1;32m    929\u001b[0m \u001b[39mwhile\u001b[39;00m \u001b[39mTrue\u001b[39;00m:\n\u001b[0;32m--> 930\u001b[0m     response \u001b[39m=\u001b[39m \u001b[39mself\u001b[39;49m\u001b[39m.\u001b[39;49m_send_handling_redirects(\n\u001b[1;32m    931\u001b[0m         request,\n\u001b[1;32m    932\u001b[0m         follow_redirects\u001b[39m=\u001b[39;49mfollow_redirects,\n\u001b[1;32m    933\u001b[0m         history\u001b[39m=\u001b[39;49mhistory,\n\u001b[1;32m    934\u001b[0m     )\n\u001b[1;32m    935\u001b[0m     \u001b[39mtry\u001b[39;00m:\n",
      "File \u001b[0;32m~/anaconda3/envs/food_product/lib/python3.9/site-packages/httpx/_client.py:967\u001b[0m, in \u001b[0;36mClient._send_handling_redirects\u001b[0;34m(self, request, follow_redirects, history)\u001b[0m\n\u001b[1;32m    965\u001b[0m     hook(request)\n\u001b[0;32m--> 967\u001b[0m response \u001b[39m=\u001b[39m \u001b[39mself\u001b[39;49m\u001b[39m.\u001b[39;49m_send_single_request(request)\n\u001b[1;32m    968\u001b[0m \u001b[39mtry\u001b[39;00m:\n",
      "File \u001b[0;32m~/anaconda3/envs/food_product/lib/python3.9/site-packages/httpx/_client.py:1003\u001b[0m, in \u001b[0;36mClient._send_single_request\u001b[0;34m(self, request)\u001b[0m\n\u001b[1;32m   1002\u001b[0m \u001b[39mwith\u001b[39;00m request_context(request\u001b[39m=\u001b[39mrequest):\n\u001b[0;32m-> 1003\u001b[0m     response \u001b[39m=\u001b[39m transport\u001b[39m.\u001b[39;49mhandle_request(request)\n\u001b[1;32m   1005\u001b[0m \u001b[39massert\u001b[39;00m \u001b[39misinstance\u001b[39m(response\u001b[39m.\u001b[39mstream, SyncByteStream)\n",
      "File \u001b[0;32m~/anaconda3/envs/food_product/lib/python3.9/site-packages/httpx/_transports/default.py:218\u001b[0m, in \u001b[0;36mHTTPTransport.handle_request\u001b[0;34m(self, request)\u001b[0m\n\u001b[1;32m    217\u001b[0m \u001b[39mwith\u001b[39;00m map_httpcore_exceptions():\n\u001b[0;32m--> 218\u001b[0m     resp \u001b[39m=\u001b[39m \u001b[39mself\u001b[39m\u001b[39m.\u001b[39m_pool\u001b[39m.\u001b[39mhandle_request(req)\n\u001b[1;32m    220\u001b[0m \u001b[39massert\u001b[39;00m \u001b[39misinstance\u001b[39m(resp\u001b[39m.\u001b[39mstream, typing\u001b[39m.\u001b[39mIterable)\n",
      "File \u001b[0;32m~/anaconda3/envs/food_product/lib/python3.9/contextlib.py:137\u001b[0m, in \u001b[0;36m_GeneratorContextManager.__exit__\u001b[0;34m(self, typ, value, traceback)\u001b[0m\n\u001b[1;32m    136\u001b[0m \u001b[39mtry\u001b[39;00m:\n\u001b[0;32m--> 137\u001b[0m     \u001b[39mself\u001b[39;49m\u001b[39m.\u001b[39;49mgen\u001b[39m.\u001b[39;49mthrow(typ, value, traceback)\n\u001b[1;32m    138\u001b[0m \u001b[39mexcept\u001b[39;00m \u001b[39mStopIteration\u001b[39;00m \u001b[39mas\u001b[39;00m exc:\n\u001b[1;32m    139\u001b[0m     \u001b[39m# Suppress StopIteration *unless* it's the same exception that\u001b[39;00m\n\u001b[1;32m    140\u001b[0m     \u001b[39m# was passed to throw().  This prevents a StopIteration\u001b[39;00m\n\u001b[1;32m    141\u001b[0m     \u001b[39m# raised inside the \"with\" statement from being suppressed.\u001b[39;00m\n",
      "File \u001b[0;32m~/anaconda3/envs/food_product/lib/python3.9/site-packages/httpx/_transports/default.py:77\u001b[0m, in \u001b[0;36mmap_httpcore_exceptions\u001b[0;34m()\u001b[0m\n\u001b[1;32m     76\u001b[0m message \u001b[39m=\u001b[39m \u001b[39mstr\u001b[39m(exc)\n\u001b[0;32m---> 77\u001b[0m \u001b[39mraise\u001b[39;00m mapped_exc(message) \u001b[39mfrom\u001b[39;00m \u001b[39mexc\u001b[39;00m\n",
      "\u001b[0;31mConnectError\u001b[0m: [Errno 111] Connection refused",
      "\nDuring handling of the above exception, another exception occurred:\n",
      "\u001b[0;31mResponseHandlingException\u001b[0m                 Traceback (most recent call last)",
      "\u001b[1;32m/home/dima/food_main/00_qdrant.ipynb Cell 8'\u001b[0m in \u001b[0;36m<cell line: 1>\u001b[0;34m()\u001b[0m\n\u001b[0;32m----> <a href='vscode-notebook-cell://ssh-remote%2Bml2/home/dima/food_main/00_qdrant.ipynb#ch0000007vscode-remote?line=0'>1</a>\u001b[0m prod_client\u001b[39m.\u001b[39mget_collections(),dev_client\u001b[39m.\u001b[39;49mget_collections()\n",
      "\u001b[1;32m/home/dima/food_main/00_qdrant.ipynb Cell 6'\u001b[0m in \u001b[0;36m<lambda>\u001b[0;34m(self)\u001b[0m\n\u001b[1;32m      <a href='vscode-notebook-cell://ssh-remote%2Bml2/home/dima/food_main/00_qdrant.ipynb#ch0000005vscode-remote?line=0'>1</a>\u001b[0m \u001b[39m#export\u001b[39;00m\n\u001b[1;32m      <a href='vscode-notebook-cell://ssh-remote%2Bml2/home/dima/food_main/00_qdrant.ipynb#ch0000005vscode-remote?line=1'>2</a>\u001b[0m dim \u001b[39m=\u001b[39m \u001b[39m768\u001b[39m \u001b[39m#+ onehot.n_dim()\u001b[39;00m\n\u001b[0;32m----> <a href='vscode-notebook-cell://ssh-remote%2Bml2/home/dima/food_main/00_qdrant.ipynb#ch0000005vscode-remote?line=2'>3</a>\u001b[0m QdrantClient\u001b[39m.\u001b[39mget_collections \u001b[39m=\u001b[39m \u001b[39mlambda\u001b[39;00m \u001b[39mself\u001b[39m: [c[\u001b[39m'\u001b[39m\u001b[39mname\u001b[39m\u001b[39m'\u001b[39m] \u001b[39mfor\u001b[39;00m c \u001b[39min\u001b[39;00m \u001b[39mself\u001b[39;49m\u001b[39m.\u001b[39;49mhttp\u001b[39m.\u001b[39;49mcollections_api\u001b[39m.\u001b[39;49mget_collections()\u001b[39m.\u001b[39mdict()[\u001b[39m'\u001b[39m\u001b[39mresult\u001b[39m\u001b[39m'\u001b[39m][\u001b[39m'\u001b[39m\u001b[39mcollections\u001b[39m\u001b[39m'\u001b[39m]]\n\u001b[1;32m      <a href='vscode-notebook-cell://ssh-remote%2Bml2/home/dima/food_main/00_qdrant.ipynb#ch0000005vscode-remote?line=3'>4</a>\u001b[0m QdrantClient\u001b[39m.\u001b[39mcollection_len \u001b[39m=\u001b[39m \u001b[39mlambda\u001b[39;00m \u001b[39mself\u001b[39m, name: \u001b[39mself\u001b[39m\u001b[39m.\u001b[39mhttp\u001b[39m.\u001b[39mcollections_api\u001b[39m.\u001b[39mget_collection(name)\u001b[39m.\u001b[39mdict()[\u001b[39m'\u001b[39m\u001b[39mresult\u001b[39m\u001b[39m'\u001b[39m][\u001b[39m'\u001b[39m\u001b[39mvectors_count\u001b[39m\u001b[39m'\u001b[39m]\n",
      "File \u001b[0;32m~/anaconda3/envs/food_product/lib/python3.9/site-packages/qdrant_client/http/api/collections_api.py:515\u001b[0m, in \u001b[0;36mSyncCollectionsApi.get_collections\u001b[0;34m(self)\u001b[0m\n\u001b[1;32m    509\u001b[0m \u001b[39mdef\u001b[39;00m \u001b[39mget_collections\u001b[39m(\n\u001b[1;32m    510\u001b[0m     \u001b[39mself\u001b[39m,\n\u001b[1;32m    511\u001b[0m ) \u001b[39m-\u001b[39m\u001b[39m>\u001b[39m m\u001b[39m.\u001b[39mInlineResponse2001:\n\u001b[1;32m    512\u001b[0m     \u001b[39m\"\"\"\u001b[39;00m\n\u001b[1;32m    513\u001b[0m \u001b[39m    Get list name of all existing collections\u001b[39;00m\n\u001b[1;32m    514\u001b[0m \u001b[39m    \"\"\"\u001b[39;00m\n\u001b[0;32m--> 515\u001b[0m     \u001b[39mreturn\u001b[39;00m \u001b[39mself\u001b[39;49m\u001b[39m.\u001b[39;49m_build_for_get_collections()\n",
      "File \u001b[0;32m~/anaconda3/envs/food_product/lib/python3.9/site-packages/qdrant_client/http/api/collections_api.py:285\u001b[0m, in \u001b[0;36m_CollectionsApi._build_for_get_collections\u001b[0;34m(self)\u001b[0m\n\u001b[1;32m    279\u001b[0m \u001b[39mdef\u001b[39;00m \u001b[39m_build_for_get_collections\u001b[39m(\n\u001b[1;32m    280\u001b[0m     \u001b[39mself\u001b[39m,\n\u001b[1;32m    281\u001b[0m ):\n\u001b[1;32m    282\u001b[0m     \u001b[39m\"\"\"\u001b[39;00m\n\u001b[1;32m    283\u001b[0m \u001b[39m    Get list name of all existing collections\u001b[39;00m\n\u001b[1;32m    284\u001b[0m \u001b[39m    \"\"\"\u001b[39;00m\n\u001b[0;32m--> 285\u001b[0m     \u001b[39mreturn\u001b[39;00m \u001b[39mself\u001b[39;49m\u001b[39m.\u001b[39;49mapi_client\u001b[39m.\u001b[39;49mrequest(\n\u001b[1;32m    286\u001b[0m         type_\u001b[39m=\u001b[39;49mm\u001b[39m.\u001b[39;49mInlineResponse2001,\n\u001b[1;32m    287\u001b[0m         method\u001b[39m=\u001b[39;49m\u001b[39m\"\u001b[39;49m\u001b[39mGET\u001b[39;49m\u001b[39m\"\u001b[39;49m,\n\u001b[1;32m    288\u001b[0m         url\u001b[39m=\u001b[39;49m\u001b[39m\"\u001b[39;49m\u001b[39m/collections\u001b[39;49m\u001b[39m\"\u001b[39;49m,\n\u001b[1;32m    289\u001b[0m     )\n",
      "File \u001b[0;32m~/anaconda3/envs/food_product/lib/python3.9/site-packages/qdrant_client/http/api_client.py:62\u001b[0m, in \u001b[0;36mApiClient.request\u001b[0;34m(self, type_, method, url, path_params, **kwargs)\u001b[0m\n\u001b[1;32m     60\u001b[0m url \u001b[39m=\u001b[39m (\u001b[39mself\u001b[39m\u001b[39m.\u001b[39mhost \u001b[39mor\u001b[39;00m \u001b[39m\"\u001b[39m\u001b[39m\"\u001b[39m) \u001b[39m+\u001b[39m url\u001b[39m.\u001b[39mformat(\u001b[39m*\u001b[39m\u001b[39m*\u001b[39mpath_params)\n\u001b[1;32m     61\u001b[0m request \u001b[39m=\u001b[39m Request(method, url, \u001b[39m*\u001b[39m\u001b[39m*\u001b[39mkwargs)\n\u001b[0;32m---> 62\u001b[0m \u001b[39mreturn\u001b[39;00m \u001b[39mself\u001b[39;49m\u001b[39m.\u001b[39;49msend(request, type_)\n",
      "File \u001b[0;32m~/anaconda3/envs/food_product/lib/python3.9/site-packages/qdrant_client/http/api_client.py:79\u001b[0m, in \u001b[0;36mApiClient.send\u001b[0;34m(self, request, type_)\u001b[0m\n\u001b[1;32m     78\u001b[0m \u001b[39mdef\u001b[39;00m \u001b[39msend\u001b[39m(\u001b[39mself\u001b[39m, request: Request, type_: Type[T]) \u001b[39m-\u001b[39m\u001b[39m>\u001b[39m T:\n\u001b[0;32m---> 79\u001b[0m     response \u001b[39m=\u001b[39m \u001b[39mself\u001b[39;49m\u001b[39m.\u001b[39;49mmiddleware(request, \u001b[39mself\u001b[39;49m\u001b[39m.\u001b[39;49msend_inner)\n\u001b[1;32m     80\u001b[0m     \u001b[39mif\u001b[39;00m response\u001b[39m.\u001b[39mstatus_code \u001b[39min\u001b[39;00m [\u001b[39m200\u001b[39m, \u001b[39m201\u001b[39m]:\n\u001b[1;32m     81\u001b[0m         \u001b[39mtry\u001b[39;00m:\n",
      "File \u001b[0;32m~/anaconda3/envs/food_product/lib/python3.9/site-packages/qdrant_client/http/api_client.py:182\u001b[0m, in \u001b[0;36mBaseMiddleware.__call__\u001b[0;34m(self, request, call_next)\u001b[0m\n\u001b[1;32m    181\u001b[0m \u001b[39mdef\u001b[39;00m \u001b[39m__call__\u001b[39m(\u001b[39mself\u001b[39m, request: Request, call_next: Send) \u001b[39m-\u001b[39m\u001b[39m>\u001b[39m Response:\n\u001b[0;32m--> 182\u001b[0m     \u001b[39mreturn\u001b[39;00m call_next(request)\n",
      "File \u001b[0;32m~/anaconda3/envs/food_product/lib/python3.9/site-packages/qdrant_client/http/api_client.py:91\u001b[0m, in \u001b[0;36mApiClient.send_inner\u001b[0;34m(self, request)\u001b[0m\n\u001b[1;32m     89\u001b[0m     response \u001b[39m=\u001b[39m \u001b[39mself\u001b[39m\u001b[39m.\u001b[39m_client\u001b[39m.\u001b[39msend(request)\n\u001b[1;32m     90\u001b[0m \u001b[39mexcept\u001b[39;00m \u001b[39mException\u001b[39;00m \u001b[39mas\u001b[39;00m e:\n\u001b[0;32m---> 91\u001b[0m     \u001b[39mraise\u001b[39;00m ResponseHandlingException(e)\n\u001b[1;32m     92\u001b[0m \u001b[39mreturn\u001b[39;00m response\n",
      "\u001b[0;31mResponseHandlingException\u001b[0m: [Errno 111] Connection refused"
     ]
    }
   ],
   "source": [
    "prod_client.get_collections(),dev_client.get_collections()"
   ]
  },
  {
   "cell_type": "code",
   "execution_count": null,
   "metadata": {},
   "outputs": [],
   "source": [
    "# client.recreate_collection(collection_name,dim,qdrant_client.http.models.Distance.DOT)"
   ]
  },
  {
   "cell_type": "code",
   "execution_count": null,
   "metadata": {},
   "outputs": [],
   "source": [
    "collection_name"
   ]
  },
  {
   "cell_type": "code",
   "execution_count": 15,
   "metadata": {},
   "outputs": [
    {
     "data": {
      "text/plain": [
       "7083"
      ]
     },
     "execution_count": 15,
     "metadata": {},
     "output_type": "execute_result"
    }
   ],
   "source": [
    "client.collection_len(collection_name)"
   ]
  },
  {
   "cell_type": "code",
   "execution_count": 12,
   "metadata": {},
   "outputs": [
    {
     "name": "stdout",
     "output_type": "stream",
     "text": [
      "Converted 00_clipmodel.ipynb.\n",
      "Converted 00_custom_pandas.ipynb.\n",
      "Converted 00_paths.ipynb.\n",
      "Converted 00_progress_check.ipynb.\n",
      "Converted 00_psql.ipynb.\n",
      "Converted 00_qdrant.ipynb.\n",
      "Converted 00_tools.ipynb.\n",
      "Converted 01_search copy.ipynb.\n",
      "Converted 01_search.ipynb.\n",
      "Converted inference.ipynb.\n",
      "Converted stats.ipynb.\n",
      "Converted weird_results_of_image2image.ipynb.\n"
     ]
    }
   ],
   "source": [
    "!nbdev_build_lib"
   ]
  },
  {
   "cell_type": "code",
   "execution_count": null,
   "metadata": {},
   "outputs": [],
   "source": []
  }
 ],
 "metadata": {
  "kernelspec": {
   "display_name": "Python 3.9.12 ('food_product')",
   "language": "python",
   "name": "python3"
  },
  "language_info": {
   "codemirror_mode": {
    "name": "ipython",
    "version": 3
   },
   "file_extension": ".py",
   "mimetype": "text/x-python",
   "name": "python",
   "nbconvert_exporter": "python",
   "pygments_lexer": "ipython3",
   "version": "3.9.12"
  },
  "vscode": {
   "interpreter": {
    "hash": "a6bc20d2add50d5c329c18ce5ec32cd5b675a44c2b91567030c7aa8b463bccb4"
   }
  }
 },
 "nbformat": 4,
 "nbformat_minor": 4
}
