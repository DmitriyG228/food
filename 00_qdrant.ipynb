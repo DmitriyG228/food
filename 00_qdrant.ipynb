{
 "cells": [
  {
   "cell_type": "code",
   "execution_count": 1,
   "metadata": {},
   "outputs": [],
   "source": [
    "#default_exp qdrant"
   ]
  },
  {
   "cell_type": "code",
   "execution_count": 2,
   "metadata": {},
   "outputs": [],
   "source": [
    "#export\n",
    "from food.tools import *\n",
    "from food.paths import *\n",
    "from food.psql import *\n",
    "\n",
    "import pandas as pd\n",
    "import numpy as np\n",
    "from tqdm import tqdm\n",
    "\n",
    "from qdrant_client import QdrantClient\n",
    "import qdrant_client\n",
    "collection_name = \"food_images\"\n"
   ]
  },
  {
   "cell_type": "markdown",
   "metadata": {},
   "source": [
    "##### production\n",
    "cd\n",
    "docker run -p 6333:6333 \\\n",
    "    -v $(pwd)/qdrant_storage_prod:/qdrant/storage \\\n",
    "    --name qdrant_prod \\\n",
    "    qdrant/qdrant\n",
    "docker update --restart unless-stopped qdrant_prod"
   ]
  },
  {
   "cell_type": "code",
   "execution_count": 20,
   "metadata": {},
   "outputs": [],
   "source": [
    "# !pip install --upgrade qdrant_client"
   ]
  },
  {
   "cell_type": "code",
   "execution_count": 10,
   "metadata": {},
   "outputs": [],
   "source": [
    "#export\n",
    "dim = 768 #+ onehot.n_dim()\n",
    "QdrantClient.get_collections = lambda self: [c['name'] for c in self.http.collections_api.get_collections().dict()['result']['collections']]\n",
    "QdrantClient.collection_len = lambda self, name: self.http.collections_api.get_collection(name).dict()['result']['vectors_count']"
   ]
  },
  {
   "cell_type": "code",
   "execution_count": 11,
   "metadata": {},
   "outputs": [],
   "source": [
    "#export\n",
    "prod_client = QdrantClient(host='localhost', port=6333)\n",
    "dev_client  = QdrantClient(host='localhost', port=6334)\n"
   ]
  },
  {
   "cell_type": "code",
   "execution_count": 12,
   "metadata": {},
   "outputs": [],
   "source": [
    "client = prod_client"
   ]
  },
  {
   "cell_type": "code",
   "execution_count": 16,
   "metadata": {},
   "outputs": [
    {
     "data": {
      "text/plain": [
       "'food_images'"
      ]
     },
     "execution_count": 16,
     "metadata": {},
     "output_type": "execute_result"
    }
   ],
   "source": [
    "collection_name"
   ]
  },
  {
   "cell_type": "code",
   "execution_count": 17,
   "metadata": {},
   "outputs": [
    {
     "ename": "ResponseHandlingException",
     "evalue": "[Errno 104] Connection reset by peer",
     "output_type": "error",
     "traceback": [
      "\u001b[0;31m---------------------------------------------------------------------------\u001b[0m",
      "\u001b[0;31mConnectionResetError\u001b[0m                      Traceback (most recent call last)",
      "File \u001b[0;32m~/anaconda3/envs/food/lib/python3.9/site-packages/httpcore/_exceptions.py:8\u001b[0m, in \u001b[0;36mmap_exceptions\u001b[0;34m(map)\u001b[0m\n\u001b[1;32m      <a href='file:///home/dima/anaconda3/envs/food/lib/python3.9/site-packages/httpcore/_exceptions.py?line=6'>7</a>\u001b[0m \u001b[39mtry\u001b[39;00m:\n\u001b[0;32m----> <a href='file:///home/dima/anaconda3/envs/food/lib/python3.9/site-packages/httpcore/_exceptions.py?line=7'>8</a>\u001b[0m     \u001b[39myield\u001b[39;00m\n\u001b[1;32m      <a href='file:///home/dima/anaconda3/envs/food/lib/python3.9/site-packages/httpcore/_exceptions.py?line=8'>9</a>\u001b[0m \u001b[39mexcept\u001b[39;00m \u001b[39mException\u001b[39;00m \u001b[39mas\u001b[39;00m exc:  \u001b[39m# noqa: PIE786\u001b[39;00m\n",
      "File \u001b[0;32m~/anaconda3/envs/food/lib/python3.9/site-packages/httpcore/backends/sync.py:26\u001b[0m, in \u001b[0;36mSyncStream.read\u001b[0;34m(self, max_bytes, timeout)\u001b[0m\n\u001b[1;32m     <a href='file:///home/dima/anaconda3/envs/food/lib/python3.9/site-packages/httpcore/backends/sync.py?line=24'>25</a>\u001b[0m \u001b[39mself\u001b[39m\u001b[39m.\u001b[39m_sock\u001b[39m.\u001b[39msettimeout(timeout)\n\u001b[0;32m---> <a href='file:///home/dima/anaconda3/envs/food/lib/python3.9/site-packages/httpcore/backends/sync.py?line=25'>26</a>\u001b[0m \u001b[39mreturn\u001b[39;00m \u001b[39mself\u001b[39;49m\u001b[39m.\u001b[39;49m_sock\u001b[39m.\u001b[39;49mrecv(max_bytes)\n",
      "\u001b[0;31mConnectionResetError\u001b[0m: [Errno 104] Connection reset by peer",
      "\nDuring handling of the above exception, another exception occurred:\n",
      "\u001b[0;31mReadError\u001b[0m                                 Traceback (most recent call last)",
      "File \u001b[0;32m~/anaconda3/envs/food/lib/python3.9/site-packages/httpx/_transports/default.py:60\u001b[0m, in \u001b[0;36mmap_httpcore_exceptions\u001b[0;34m()\u001b[0m\n\u001b[1;32m     <a href='file:///home/dima/anaconda3/envs/food/lib/python3.9/site-packages/httpx/_transports/default.py?line=58'>59</a>\u001b[0m \u001b[39mtry\u001b[39;00m:\n\u001b[0;32m---> <a href='file:///home/dima/anaconda3/envs/food/lib/python3.9/site-packages/httpx/_transports/default.py?line=59'>60</a>\u001b[0m     \u001b[39myield\u001b[39;00m\n\u001b[1;32m     <a href='file:///home/dima/anaconda3/envs/food/lib/python3.9/site-packages/httpx/_transports/default.py?line=60'>61</a>\u001b[0m \u001b[39mexcept\u001b[39;00m \u001b[39mException\u001b[39;00m \u001b[39mas\u001b[39;00m exc:  \u001b[39m# noqa: PIE-786\u001b[39;00m\n",
      "File \u001b[0;32m~/anaconda3/envs/food/lib/python3.9/site-packages/httpx/_transports/default.py:218\u001b[0m, in \u001b[0;36mHTTPTransport.handle_request\u001b[0;34m(self, request)\u001b[0m\n\u001b[1;32m    <a href='file:///home/dima/anaconda3/envs/food/lib/python3.9/site-packages/httpx/_transports/default.py?line=216'>217</a>\u001b[0m \u001b[39mwith\u001b[39;00m map_httpcore_exceptions():\n\u001b[0;32m--> <a href='file:///home/dima/anaconda3/envs/food/lib/python3.9/site-packages/httpx/_transports/default.py?line=217'>218</a>\u001b[0m     resp \u001b[39m=\u001b[39m \u001b[39mself\u001b[39;49m\u001b[39m.\u001b[39;49m_pool\u001b[39m.\u001b[39;49mhandle_request(req)\n\u001b[1;32m    <a href='file:///home/dima/anaconda3/envs/food/lib/python3.9/site-packages/httpx/_transports/default.py?line=219'>220</a>\u001b[0m \u001b[39massert\u001b[39;00m \u001b[39misinstance\u001b[39m(resp\u001b[39m.\u001b[39mstream, typing\u001b[39m.\u001b[39mIterable)\n",
      "File \u001b[0;32m~/anaconda3/envs/food/lib/python3.9/site-packages/httpcore/_sync/connection_pool.py:253\u001b[0m, in \u001b[0;36mConnectionPool.handle_request\u001b[0;34m(self, request)\u001b[0m\n\u001b[1;32m    <a href='file:///home/dima/anaconda3/envs/food/lib/python3.9/site-packages/httpcore/_sync/connection_pool.py?line=251'>252</a>\u001b[0m     \u001b[39mself\u001b[39m\u001b[39m.\u001b[39mresponse_closed(status)\n\u001b[0;32m--> <a href='file:///home/dima/anaconda3/envs/food/lib/python3.9/site-packages/httpcore/_sync/connection_pool.py?line=252'>253</a>\u001b[0m     \u001b[39mraise\u001b[39;00m exc\n\u001b[1;32m    <a href='file:///home/dima/anaconda3/envs/food/lib/python3.9/site-packages/httpcore/_sync/connection_pool.py?line=253'>254</a>\u001b[0m \u001b[39melse\u001b[39;00m:\n",
      "File \u001b[0;32m~/anaconda3/envs/food/lib/python3.9/site-packages/httpcore/_sync/connection_pool.py:237\u001b[0m, in \u001b[0;36mConnectionPool.handle_request\u001b[0;34m(self, request)\u001b[0m\n\u001b[1;32m    <a href='file:///home/dima/anaconda3/envs/food/lib/python3.9/site-packages/httpcore/_sync/connection_pool.py?line=235'>236</a>\u001b[0m \u001b[39mtry\u001b[39;00m:\n\u001b[0;32m--> <a href='file:///home/dima/anaconda3/envs/food/lib/python3.9/site-packages/httpcore/_sync/connection_pool.py?line=236'>237</a>\u001b[0m     response \u001b[39m=\u001b[39m connection\u001b[39m.\u001b[39;49mhandle_request(request)\n\u001b[1;32m    <a href='file:///home/dima/anaconda3/envs/food/lib/python3.9/site-packages/httpcore/_sync/connection_pool.py?line=237'>238</a>\u001b[0m \u001b[39mexcept\u001b[39;00m ConnectionNotAvailable:\n\u001b[1;32m    <a href='file:///home/dima/anaconda3/envs/food/lib/python3.9/site-packages/httpcore/_sync/connection_pool.py?line=238'>239</a>\u001b[0m     \u001b[39m# The ConnectionNotAvailable exception is a special case, that\u001b[39;00m\n\u001b[1;32m    <a href='file:///home/dima/anaconda3/envs/food/lib/python3.9/site-packages/httpcore/_sync/connection_pool.py?line=239'>240</a>\u001b[0m     \u001b[39m# indicates we need to retry the request on a new connection.\u001b[39;00m\n\u001b[0;32m   (...)\u001b[0m\n\u001b[1;32m    <a href='file:///home/dima/anaconda3/envs/food/lib/python3.9/site-packages/httpcore/_sync/connection_pool.py?line=243'>244</a>\u001b[0m     \u001b[39m# might end up as an HTTP/2 connection, but which actually ends\u001b[39;00m\n\u001b[1;32m    <a href='file:///home/dima/anaconda3/envs/food/lib/python3.9/site-packages/httpcore/_sync/connection_pool.py?line=244'>245</a>\u001b[0m     \u001b[39m# up as HTTP/1.1.\u001b[39;00m\n",
      "File \u001b[0;32m~/anaconda3/envs/food/lib/python3.9/site-packages/httpcore/_sync/connection.py:90\u001b[0m, in \u001b[0;36mHTTPConnection.handle_request\u001b[0;34m(self, request)\u001b[0m\n\u001b[1;32m     <a href='file:///home/dima/anaconda3/envs/food/lib/python3.9/site-packages/httpcore/_sync/connection.py?line=87'>88</a>\u001b[0m         \u001b[39mraise\u001b[39;00m ConnectionNotAvailable()\n\u001b[0;32m---> <a href='file:///home/dima/anaconda3/envs/food/lib/python3.9/site-packages/httpcore/_sync/connection.py?line=89'>90</a>\u001b[0m \u001b[39mreturn\u001b[39;00m \u001b[39mself\u001b[39;49m\u001b[39m.\u001b[39;49m_connection\u001b[39m.\u001b[39;49mhandle_request(request)\n",
      "File \u001b[0;32m~/anaconda3/envs/food/lib/python3.9/site-packages/httpcore/_sync/http11.py:102\u001b[0m, in \u001b[0;36mHTTP11Connection.handle_request\u001b[0;34m(self, request)\u001b[0m\n\u001b[1;32m    <a href='file:///home/dima/anaconda3/envs/food/lib/python3.9/site-packages/httpcore/_sync/http11.py?line=100'>101</a>\u001b[0m     \u001b[39mself\u001b[39m\u001b[39m.\u001b[39m_response_closed()\n\u001b[0;32m--> <a href='file:///home/dima/anaconda3/envs/food/lib/python3.9/site-packages/httpcore/_sync/http11.py?line=101'>102</a>\u001b[0m \u001b[39mraise\u001b[39;00m exc\n",
      "File \u001b[0;32m~/anaconda3/envs/food/lib/python3.9/site-packages/httpcore/_sync/http11.py:81\u001b[0m, in \u001b[0;36mHTTP11Connection.handle_request\u001b[0;34m(self, request)\u001b[0m\n\u001b[1;32m     <a href='file:///home/dima/anaconda3/envs/food/lib/python3.9/site-packages/httpcore/_sync/http11.py?line=72'>73</a>\u001b[0m \u001b[39mwith\u001b[39;00m Trace(\n\u001b[1;32m     <a href='file:///home/dima/anaconda3/envs/food/lib/python3.9/site-packages/httpcore/_sync/http11.py?line=73'>74</a>\u001b[0m     \u001b[39m\"\u001b[39m\u001b[39mhttp11.receive_response_headers\u001b[39m\u001b[39m\"\u001b[39m, request, kwargs\n\u001b[1;32m     <a href='file:///home/dima/anaconda3/envs/food/lib/python3.9/site-packages/httpcore/_sync/http11.py?line=74'>75</a>\u001b[0m ) \u001b[39mas\u001b[39;00m trace:\n\u001b[1;32m     <a href='file:///home/dima/anaconda3/envs/food/lib/python3.9/site-packages/httpcore/_sync/http11.py?line=75'>76</a>\u001b[0m     (\n\u001b[1;32m     <a href='file:///home/dima/anaconda3/envs/food/lib/python3.9/site-packages/httpcore/_sync/http11.py?line=76'>77</a>\u001b[0m         http_version,\n\u001b[1;32m     <a href='file:///home/dima/anaconda3/envs/food/lib/python3.9/site-packages/httpcore/_sync/http11.py?line=77'>78</a>\u001b[0m         status,\n\u001b[1;32m     <a href='file:///home/dima/anaconda3/envs/food/lib/python3.9/site-packages/httpcore/_sync/http11.py?line=78'>79</a>\u001b[0m         reason_phrase,\n\u001b[1;32m     <a href='file:///home/dima/anaconda3/envs/food/lib/python3.9/site-packages/httpcore/_sync/http11.py?line=79'>80</a>\u001b[0m         headers,\n\u001b[0;32m---> <a href='file:///home/dima/anaconda3/envs/food/lib/python3.9/site-packages/httpcore/_sync/http11.py?line=80'>81</a>\u001b[0m     ) \u001b[39m=\u001b[39m \u001b[39mself\u001b[39;49m\u001b[39m.\u001b[39;49m_receive_response_headers(\u001b[39m*\u001b[39;49m\u001b[39m*\u001b[39;49mkwargs)\n\u001b[1;32m     <a href='file:///home/dima/anaconda3/envs/food/lib/python3.9/site-packages/httpcore/_sync/http11.py?line=81'>82</a>\u001b[0m     trace\u001b[39m.\u001b[39mreturn_value \u001b[39m=\u001b[39m (\n\u001b[1;32m     <a href='file:///home/dima/anaconda3/envs/food/lib/python3.9/site-packages/httpcore/_sync/http11.py?line=82'>83</a>\u001b[0m         http_version,\n\u001b[1;32m     <a href='file:///home/dima/anaconda3/envs/food/lib/python3.9/site-packages/httpcore/_sync/http11.py?line=83'>84</a>\u001b[0m         status,\n\u001b[1;32m     <a href='file:///home/dima/anaconda3/envs/food/lib/python3.9/site-packages/httpcore/_sync/http11.py?line=84'>85</a>\u001b[0m         reason_phrase,\n\u001b[1;32m     <a href='file:///home/dima/anaconda3/envs/food/lib/python3.9/site-packages/httpcore/_sync/http11.py?line=85'>86</a>\u001b[0m         headers,\n\u001b[1;32m     <a href='file:///home/dima/anaconda3/envs/food/lib/python3.9/site-packages/httpcore/_sync/http11.py?line=86'>87</a>\u001b[0m     )\n",
      "File \u001b[0;32m~/anaconda3/envs/food/lib/python3.9/site-packages/httpcore/_sync/http11.py:143\u001b[0m, in \u001b[0;36mHTTP11Connection._receive_response_headers\u001b[0;34m(self, request)\u001b[0m\n\u001b[1;32m    <a href='file:///home/dima/anaconda3/envs/food/lib/python3.9/site-packages/httpcore/_sync/http11.py?line=141'>142</a>\u001b[0m \u001b[39mwhile\u001b[39;00m \u001b[39mTrue\u001b[39;00m:\n\u001b[0;32m--> <a href='file:///home/dima/anaconda3/envs/food/lib/python3.9/site-packages/httpcore/_sync/http11.py?line=142'>143</a>\u001b[0m     event \u001b[39m=\u001b[39m \u001b[39mself\u001b[39;49m\u001b[39m.\u001b[39;49m_receive_event(timeout\u001b[39m=\u001b[39;49mtimeout)\n\u001b[1;32m    <a href='file:///home/dima/anaconda3/envs/food/lib/python3.9/site-packages/httpcore/_sync/http11.py?line=143'>144</a>\u001b[0m     \u001b[39mif\u001b[39;00m \u001b[39misinstance\u001b[39m(event, h11\u001b[39m.\u001b[39mResponse):\n",
      "File \u001b[0;32m~/anaconda3/envs/food/lib/python3.9/site-packages/httpcore/_sync/http11.py:172\u001b[0m, in \u001b[0;36mHTTP11Connection._receive_event\u001b[0;34m(self, timeout)\u001b[0m\n\u001b[1;32m    <a href='file:///home/dima/anaconda3/envs/food/lib/python3.9/site-packages/httpcore/_sync/http11.py?line=170'>171</a>\u001b[0m \u001b[39mif\u001b[39;00m event \u001b[39mis\u001b[39;00m h11\u001b[39m.\u001b[39mNEED_DATA:\n\u001b[0;32m--> <a href='file:///home/dima/anaconda3/envs/food/lib/python3.9/site-packages/httpcore/_sync/http11.py?line=171'>172</a>\u001b[0m     data \u001b[39m=\u001b[39m \u001b[39mself\u001b[39;49m\u001b[39m.\u001b[39;49m_network_stream\u001b[39m.\u001b[39;49mread(\n\u001b[1;32m    <a href='file:///home/dima/anaconda3/envs/food/lib/python3.9/site-packages/httpcore/_sync/http11.py?line=172'>173</a>\u001b[0m         \u001b[39mself\u001b[39;49m\u001b[39m.\u001b[39;49mREAD_NUM_BYTES, timeout\u001b[39m=\u001b[39;49mtimeout\n\u001b[1;32m    <a href='file:///home/dima/anaconda3/envs/food/lib/python3.9/site-packages/httpcore/_sync/http11.py?line=173'>174</a>\u001b[0m     )\n\u001b[1;32m    <a href='file:///home/dima/anaconda3/envs/food/lib/python3.9/site-packages/httpcore/_sync/http11.py?line=175'>176</a>\u001b[0m     \u001b[39m# If we feed this case through h11 we'll raise an exception like:\u001b[39;00m\n\u001b[1;32m    <a href='file:///home/dima/anaconda3/envs/food/lib/python3.9/site-packages/httpcore/_sync/http11.py?line=176'>177</a>\u001b[0m     \u001b[39m#\u001b[39;00m\n\u001b[1;32m    <a href='file:///home/dima/anaconda3/envs/food/lib/python3.9/site-packages/httpcore/_sync/http11.py?line=177'>178</a>\u001b[0m     \u001b[39m#     httpcore.RemoteProtocolError: can't handle event type\u001b[39;00m\n\u001b[0;32m   (...)\u001b[0m\n\u001b[1;32m    <a href='file:///home/dima/anaconda3/envs/food/lib/python3.9/site-packages/httpcore/_sync/http11.py?line=181'>182</a>\u001b[0m     \u001b[39m# perspective. Instead we handle this case distinctly and treat\u001b[39;00m\n\u001b[1;32m    <a href='file:///home/dima/anaconda3/envs/food/lib/python3.9/site-packages/httpcore/_sync/http11.py?line=182'>183</a>\u001b[0m     \u001b[39m# it as a ConnectError.\u001b[39;00m\n",
      "File \u001b[0;32m~/anaconda3/envs/food/lib/python3.9/site-packages/httpcore/backends/sync.py:26\u001b[0m, in \u001b[0;36mSyncStream.read\u001b[0;34m(self, max_bytes, timeout)\u001b[0m\n\u001b[1;32m     <a href='file:///home/dima/anaconda3/envs/food/lib/python3.9/site-packages/httpcore/backends/sync.py?line=24'>25</a>\u001b[0m \u001b[39mself\u001b[39m\u001b[39m.\u001b[39m_sock\u001b[39m.\u001b[39msettimeout(timeout)\n\u001b[0;32m---> <a href='file:///home/dima/anaconda3/envs/food/lib/python3.9/site-packages/httpcore/backends/sync.py?line=25'>26</a>\u001b[0m \u001b[39mreturn\u001b[39;00m \u001b[39mself\u001b[39m\u001b[39m.\u001b[39m_sock\u001b[39m.\u001b[39mrecv(max_bytes)\n",
      "File \u001b[0;32m~/anaconda3/envs/food/lib/python3.9/contextlib.py:137\u001b[0m, in \u001b[0;36m_GeneratorContextManager.__exit__\u001b[0;34m(self, typ, value, traceback)\u001b[0m\n\u001b[1;32m    <a href='file:///home/dima/anaconda3/envs/food/lib/python3.9/contextlib.py?line=135'>136</a>\u001b[0m \u001b[39mtry\u001b[39;00m:\n\u001b[0;32m--> <a href='file:///home/dima/anaconda3/envs/food/lib/python3.9/contextlib.py?line=136'>137</a>\u001b[0m     \u001b[39mself\u001b[39;49m\u001b[39m.\u001b[39;49mgen\u001b[39m.\u001b[39;49mthrow(typ, value, traceback)\n\u001b[1;32m    <a href='file:///home/dima/anaconda3/envs/food/lib/python3.9/contextlib.py?line=137'>138</a>\u001b[0m \u001b[39mexcept\u001b[39;00m \u001b[39mStopIteration\u001b[39;00m \u001b[39mas\u001b[39;00m exc:\n\u001b[1;32m    <a href='file:///home/dima/anaconda3/envs/food/lib/python3.9/contextlib.py?line=138'>139</a>\u001b[0m     \u001b[39m# Suppress StopIteration *unless* it's the same exception that\u001b[39;00m\n\u001b[1;32m    <a href='file:///home/dima/anaconda3/envs/food/lib/python3.9/contextlib.py?line=139'>140</a>\u001b[0m     \u001b[39m# was passed to throw().  This prevents a StopIteration\u001b[39;00m\n\u001b[1;32m    <a href='file:///home/dima/anaconda3/envs/food/lib/python3.9/contextlib.py?line=140'>141</a>\u001b[0m     \u001b[39m# raised inside the \"with\" statement from being suppressed.\u001b[39;00m\n",
      "File \u001b[0;32m~/anaconda3/envs/food/lib/python3.9/site-packages/httpcore/_exceptions.py:12\u001b[0m, in \u001b[0;36mmap_exceptions\u001b[0;34m(map)\u001b[0m\n\u001b[1;32m     <a href='file:///home/dima/anaconda3/envs/food/lib/python3.9/site-packages/httpcore/_exceptions.py?line=10'>11</a>\u001b[0m     \u001b[39mif\u001b[39;00m \u001b[39misinstance\u001b[39m(exc, from_exc):\n\u001b[0;32m---> <a href='file:///home/dima/anaconda3/envs/food/lib/python3.9/site-packages/httpcore/_exceptions.py?line=11'>12</a>\u001b[0m         \u001b[39mraise\u001b[39;00m to_exc(exc)\n\u001b[1;32m     <a href='file:///home/dima/anaconda3/envs/food/lib/python3.9/site-packages/httpcore/_exceptions.py?line=12'>13</a>\u001b[0m \u001b[39mraise\u001b[39;00m\n",
      "\u001b[0;31mReadError\u001b[0m: [Errno 104] Connection reset by peer",
      "\nThe above exception was the direct cause of the following exception:\n",
      "\u001b[0;31mReadError\u001b[0m                                 Traceback (most recent call last)",
      "File \u001b[0;32m~/anaconda3/envs/food/lib/python3.9/site-packages/qdrant_client/http/api_client.py:86\u001b[0m, in \u001b[0;36mApiClient.send_inner\u001b[0;34m(self, request)\u001b[0m\n\u001b[1;32m     <a href='file:///home/dima/anaconda3/envs/food/lib/python3.9/site-packages/qdrant_client/http/api_client.py?line=84'>85</a>\u001b[0m \u001b[39mtry\u001b[39;00m:\n\u001b[0;32m---> <a href='file:///home/dima/anaconda3/envs/food/lib/python3.9/site-packages/qdrant_client/http/api_client.py?line=85'>86</a>\u001b[0m     response \u001b[39m=\u001b[39m \u001b[39mself\u001b[39;49m\u001b[39m.\u001b[39;49m_client\u001b[39m.\u001b[39;49msend(request)\n\u001b[1;32m     <a href='file:///home/dima/anaconda3/envs/food/lib/python3.9/site-packages/qdrant_client/http/api_client.py?line=86'>87</a>\u001b[0m \u001b[39mexcept\u001b[39;00m \u001b[39mException\u001b[39;00m \u001b[39mas\u001b[39;00m e:\n",
      "File \u001b[0;32m~/anaconda3/envs/food/lib/python3.9/site-packages/httpx/_client.py:889\u001b[0m, in \u001b[0;36mClient.send\u001b[0;34m(self, request, stream, auth, follow_redirects)\u001b[0m\n\u001b[1;32m    <a href='file:///home/dima/anaconda3/envs/food/lib/python3.9/site-packages/httpx/_client.py?line=886'>887</a>\u001b[0m auth \u001b[39m=\u001b[39m \u001b[39mself\u001b[39m\u001b[39m.\u001b[39m_build_request_auth(request, auth)\n\u001b[0;32m--> <a href='file:///home/dima/anaconda3/envs/food/lib/python3.9/site-packages/httpx/_client.py?line=888'>889</a>\u001b[0m response \u001b[39m=\u001b[39m \u001b[39mself\u001b[39;49m\u001b[39m.\u001b[39;49m_send_handling_auth(\n\u001b[1;32m    <a href='file:///home/dima/anaconda3/envs/food/lib/python3.9/site-packages/httpx/_client.py?line=889'>890</a>\u001b[0m     request,\n\u001b[1;32m    <a href='file:///home/dima/anaconda3/envs/food/lib/python3.9/site-packages/httpx/_client.py?line=890'>891</a>\u001b[0m     auth\u001b[39m=\u001b[39;49mauth,\n\u001b[1;32m    <a href='file:///home/dima/anaconda3/envs/food/lib/python3.9/site-packages/httpx/_client.py?line=891'>892</a>\u001b[0m     follow_redirects\u001b[39m=\u001b[39;49mfollow_redirects,\n\u001b[1;32m    <a href='file:///home/dima/anaconda3/envs/food/lib/python3.9/site-packages/httpx/_client.py?line=892'>893</a>\u001b[0m     history\u001b[39m=\u001b[39;49m[],\n\u001b[1;32m    <a href='file:///home/dima/anaconda3/envs/food/lib/python3.9/site-packages/httpx/_client.py?line=893'>894</a>\u001b[0m )\n\u001b[1;32m    <a href='file:///home/dima/anaconda3/envs/food/lib/python3.9/site-packages/httpx/_client.py?line=894'>895</a>\u001b[0m \u001b[39mtry\u001b[39;00m:\n",
      "File \u001b[0;32m~/anaconda3/envs/food/lib/python3.9/site-packages/httpx/_client.py:917\u001b[0m, in \u001b[0;36mClient._send_handling_auth\u001b[0;34m(self, request, auth, follow_redirects, history)\u001b[0m\n\u001b[1;32m    <a href='file:///home/dima/anaconda3/envs/food/lib/python3.9/site-packages/httpx/_client.py?line=915'>916</a>\u001b[0m \u001b[39mwhile\u001b[39;00m \u001b[39mTrue\u001b[39;00m:\n\u001b[0;32m--> <a href='file:///home/dima/anaconda3/envs/food/lib/python3.9/site-packages/httpx/_client.py?line=916'>917</a>\u001b[0m     response \u001b[39m=\u001b[39m \u001b[39mself\u001b[39;49m\u001b[39m.\u001b[39;49m_send_handling_redirects(\n\u001b[1;32m    <a href='file:///home/dima/anaconda3/envs/food/lib/python3.9/site-packages/httpx/_client.py?line=917'>918</a>\u001b[0m         request,\n\u001b[1;32m    <a href='file:///home/dima/anaconda3/envs/food/lib/python3.9/site-packages/httpx/_client.py?line=918'>919</a>\u001b[0m         follow_redirects\u001b[39m=\u001b[39;49mfollow_redirects,\n\u001b[1;32m    <a href='file:///home/dima/anaconda3/envs/food/lib/python3.9/site-packages/httpx/_client.py?line=919'>920</a>\u001b[0m         history\u001b[39m=\u001b[39;49mhistory,\n\u001b[1;32m    <a href='file:///home/dima/anaconda3/envs/food/lib/python3.9/site-packages/httpx/_client.py?line=920'>921</a>\u001b[0m     )\n\u001b[1;32m    <a href='file:///home/dima/anaconda3/envs/food/lib/python3.9/site-packages/httpx/_client.py?line=921'>922</a>\u001b[0m     \u001b[39mtry\u001b[39;00m:\n",
      "File \u001b[0;32m~/anaconda3/envs/food/lib/python3.9/site-packages/httpx/_client.py:954\u001b[0m, in \u001b[0;36mClient._send_handling_redirects\u001b[0;34m(self, request, follow_redirects, history)\u001b[0m\n\u001b[1;32m    <a href='file:///home/dima/anaconda3/envs/food/lib/python3.9/site-packages/httpx/_client.py?line=951'>952</a>\u001b[0m     hook(request)\n\u001b[0;32m--> <a href='file:///home/dima/anaconda3/envs/food/lib/python3.9/site-packages/httpx/_client.py?line=953'>954</a>\u001b[0m response \u001b[39m=\u001b[39m \u001b[39mself\u001b[39;49m\u001b[39m.\u001b[39;49m_send_single_request(request)\n\u001b[1;32m    <a href='file:///home/dima/anaconda3/envs/food/lib/python3.9/site-packages/httpx/_client.py?line=954'>955</a>\u001b[0m \u001b[39mtry\u001b[39;00m:\n",
      "File \u001b[0;32m~/anaconda3/envs/food/lib/python3.9/site-packages/httpx/_client.py:990\u001b[0m, in \u001b[0;36mClient._send_single_request\u001b[0;34m(self, request)\u001b[0m\n\u001b[1;32m    <a href='file:///home/dima/anaconda3/envs/food/lib/python3.9/site-packages/httpx/_client.py?line=988'>989</a>\u001b[0m \u001b[39mwith\u001b[39;00m request_context(request\u001b[39m=\u001b[39mrequest):\n\u001b[0;32m--> <a href='file:///home/dima/anaconda3/envs/food/lib/python3.9/site-packages/httpx/_client.py?line=989'>990</a>\u001b[0m     response \u001b[39m=\u001b[39m transport\u001b[39m.\u001b[39;49mhandle_request(request)\n\u001b[1;32m    <a href='file:///home/dima/anaconda3/envs/food/lib/python3.9/site-packages/httpx/_client.py?line=991'>992</a>\u001b[0m \u001b[39massert\u001b[39;00m \u001b[39misinstance\u001b[39m(response\u001b[39m.\u001b[39mstream, SyncByteStream)\n",
      "File \u001b[0;32m~/anaconda3/envs/food/lib/python3.9/site-packages/httpx/_transports/default.py:218\u001b[0m, in \u001b[0;36mHTTPTransport.handle_request\u001b[0;34m(self, request)\u001b[0m\n\u001b[1;32m    <a href='file:///home/dima/anaconda3/envs/food/lib/python3.9/site-packages/httpx/_transports/default.py?line=216'>217</a>\u001b[0m \u001b[39mwith\u001b[39;00m map_httpcore_exceptions():\n\u001b[0;32m--> <a href='file:///home/dima/anaconda3/envs/food/lib/python3.9/site-packages/httpx/_transports/default.py?line=217'>218</a>\u001b[0m     resp \u001b[39m=\u001b[39m \u001b[39mself\u001b[39m\u001b[39m.\u001b[39m_pool\u001b[39m.\u001b[39mhandle_request(req)\n\u001b[1;32m    <a href='file:///home/dima/anaconda3/envs/food/lib/python3.9/site-packages/httpx/_transports/default.py?line=219'>220</a>\u001b[0m \u001b[39massert\u001b[39;00m \u001b[39misinstance\u001b[39m(resp\u001b[39m.\u001b[39mstream, typing\u001b[39m.\u001b[39mIterable)\n",
      "File \u001b[0;32m~/anaconda3/envs/food/lib/python3.9/contextlib.py:137\u001b[0m, in \u001b[0;36m_GeneratorContextManager.__exit__\u001b[0;34m(self, typ, value, traceback)\u001b[0m\n\u001b[1;32m    <a href='file:///home/dima/anaconda3/envs/food/lib/python3.9/contextlib.py?line=135'>136</a>\u001b[0m \u001b[39mtry\u001b[39;00m:\n\u001b[0;32m--> <a href='file:///home/dima/anaconda3/envs/food/lib/python3.9/contextlib.py?line=136'>137</a>\u001b[0m     \u001b[39mself\u001b[39;49m\u001b[39m.\u001b[39;49mgen\u001b[39m.\u001b[39;49mthrow(typ, value, traceback)\n\u001b[1;32m    <a href='file:///home/dima/anaconda3/envs/food/lib/python3.9/contextlib.py?line=137'>138</a>\u001b[0m \u001b[39mexcept\u001b[39;00m \u001b[39mStopIteration\u001b[39;00m \u001b[39mas\u001b[39;00m exc:\n\u001b[1;32m    <a href='file:///home/dima/anaconda3/envs/food/lib/python3.9/contextlib.py?line=138'>139</a>\u001b[0m     \u001b[39m# Suppress StopIteration *unless* it's the same exception that\u001b[39;00m\n\u001b[1;32m    <a href='file:///home/dima/anaconda3/envs/food/lib/python3.9/contextlib.py?line=139'>140</a>\u001b[0m     \u001b[39m# was passed to throw().  This prevents a StopIteration\u001b[39;00m\n\u001b[1;32m    <a href='file:///home/dima/anaconda3/envs/food/lib/python3.9/contextlib.py?line=140'>141</a>\u001b[0m     \u001b[39m# raised inside the \"with\" statement from being suppressed.\u001b[39;00m\n",
      "File \u001b[0;32m~/anaconda3/envs/food/lib/python3.9/site-packages/httpx/_transports/default.py:77\u001b[0m, in \u001b[0;36mmap_httpcore_exceptions\u001b[0;34m()\u001b[0m\n\u001b[1;32m     <a href='file:///home/dima/anaconda3/envs/food/lib/python3.9/site-packages/httpx/_transports/default.py?line=75'>76</a>\u001b[0m message \u001b[39m=\u001b[39m \u001b[39mstr\u001b[39m(exc)\n\u001b[0;32m---> <a href='file:///home/dima/anaconda3/envs/food/lib/python3.9/site-packages/httpx/_transports/default.py?line=76'>77</a>\u001b[0m \u001b[39mraise\u001b[39;00m mapped_exc(message) \u001b[39mfrom\u001b[39;00m \u001b[39mexc\u001b[39;00m\n",
      "\u001b[0;31mReadError\u001b[0m: [Errno 104] Connection reset by peer",
      "\nDuring handling of the above exception, another exception occurred:\n",
      "\u001b[0;31mResponseHandlingException\u001b[0m                 Traceback (most recent call last)",
      "\u001b[1;32m/home/dima/food/00_qdrant.ipynb Cell 9'\u001b[0m in \u001b[0;36m<cell line: 1>\u001b[0;34m()\u001b[0m\n\u001b[0;32m----> <a href='vscode-notebook-cell://ssh-remote%2Bml2/home/dima/food/00_qdrant.ipynb#ch0000007vscode-remote?line=0'>1</a>\u001b[0m client\u001b[39m.\u001b[39;49mrecreate_collection(collection_name,dim,qdrant_client\u001b[39m.\u001b[39;49mhttp\u001b[39m.\u001b[39;49mmodels\u001b[39m.\u001b[39;49mDistance\u001b[39m.\u001b[39;49mDOT)\n",
      "File \u001b[0;32m~/anaconda3/envs/food/lib/python3.9/site-packages/qdrant_client/qdrant_client.py:233\u001b[0m, in \u001b[0;36mQdrantClient.recreate_collection\u001b[0;34m(self, collection_name, vector_size, distance, hnsw_config, optimizers_config, wal_config)\u001b[0m\n\u001b[1;32m    <a href='file:///home/dima/anaconda3/envs/food/lib/python3.9/site-packages/qdrant_client/qdrant_client.py?line=229'>230</a>\u001b[0m \u001b[39mif\u001b[39;00m \u001b[39misinstance\u001b[39m(wal_config, grpc\u001b[39m.\u001b[39mWalConfigDiff):\n\u001b[1;32m    <a href='file:///home/dima/anaconda3/envs/food/lib/python3.9/site-packages/qdrant_client/qdrant_client.py?line=230'>231</a>\u001b[0m     wal_config \u001b[39m=\u001b[39m GrpcToRest\u001b[39m.\u001b[39mconvert_wal_config_diff(wal_config)\n\u001b[0;32m--> <a href='file:///home/dima/anaconda3/envs/food/lib/python3.9/site-packages/qdrant_client/qdrant_client.py?line=232'>233</a>\u001b[0m \u001b[39mself\u001b[39;49m\u001b[39m.\u001b[39;49mdelete_collection(collection_name)\n\u001b[1;32m    <a href='file:///home/dima/anaconda3/envs/food/lib/python3.9/site-packages/qdrant_client/qdrant_client.py?line=234'>235</a>\u001b[0m \u001b[39mself\u001b[39m\u001b[39m.\u001b[39mhttp\u001b[39m.\u001b[39mcollections_api\u001b[39m.\u001b[39mcreate_collection(\n\u001b[1;32m    <a href='file:///home/dima/anaconda3/envs/food/lib/python3.9/site-packages/qdrant_client/qdrant_client.py?line=235'>236</a>\u001b[0m     collection_name\u001b[39m=\u001b[39mcollection_name,\n\u001b[1;32m    <a href='file:///home/dima/anaconda3/envs/food/lib/python3.9/site-packages/qdrant_client/qdrant_client.py?line=236'>237</a>\u001b[0m     create_collection\u001b[39m=\u001b[39mrest\u001b[39m.\u001b[39mCreateCollection(\n\u001b[0;32m   (...)\u001b[0m\n\u001b[1;32m    <a href='file:///home/dima/anaconda3/envs/food/lib/python3.9/site-packages/qdrant_client/qdrant_client.py?line=242'>243</a>\u001b[0m     )\n\u001b[1;32m    <a href='file:///home/dima/anaconda3/envs/food/lib/python3.9/site-packages/qdrant_client/qdrant_client.py?line=243'>244</a>\u001b[0m )\n",
      "File \u001b[0;32m~/anaconda3/envs/food/lib/python3.9/site-packages/qdrant_client/qdrant_client.py:197\u001b[0m, in \u001b[0;36mQdrantClient.delete_collection\u001b[0;34m(self, collection_name)\u001b[0m\n\u001b[1;32m    <a href='file:///home/dima/anaconda3/envs/food/lib/python3.9/site-packages/qdrant_client/qdrant_client.py?line=186'>187</a>\u001b[0m \u001b[39mdef\u001b[39;00m \u001b[39mdelete_collection\u001b[39m(\u001b[39mself\u001b[39m, collection_name: \u001b[39mstr\u001b[39m):\n\u001b[1;32m    <a href='file:///home/dima/anaconda3/envs/food/lib/python3.9/site-packages/qdrant_client/qdrant_client.py?line=187'>188</a>\u001b[0m     \u001b[39m\"\"\"Removes collection and all it's data\u001b[39;00m\n\u001b[1;32m    <a href='file:///home/dima/anaconda3/envs/food/lib/python3.9/site-packages/qdrant_client/qdrant_client.py?line=188'>189</a>\u001b[0m \n\u001b[1;32m    <a href='file:///home/dima/anaconda3/envs/food/lib/python3.9/site-packages/qdrant_client/qdrant_client.py?line=189'>190</a>\u001b[0m \u001b[39m    Args:\u001b[39;00m\n\u001b[0;32m   (...)\u001b[0m\n\u001b[1;32m    <a href='file:///home/dima/anaconda3/envs/food/lib/python3.9/site-packages/qdrant_client/qdrant_client.py?line=193'>194</a>\u001b[0m \u001b[39m        Operation result\u001b[39;00m\n\u001b[1;32m    <a href='file:///home/dima/anaconda3/envs/food/lib/python3.9/site-packages/qdrant_client/qdrant_client.py?line=194'>195</a>\u001b[0m \u001b[39m    \"\"\"\u001b[39;00m\n\u001b[0;32m--> <a href='file:///home/dima/anaconda3/envs/food/lib/python3.9/site-packages/qdrant_client/qdrant_client.py?line=196'>197</a>\u001b[0m     \u001b[39mreturn\u001b[39;00m \u001b[39mself\u001b[39;49m\u001b[39m.\u001b[39;49mhttp\u001b[39m.\u001b[39;49mcollections_api\u001b[39m.\u001b[39;49mdelete_collection(collection_name)\n",
      "File \u001b[0;32m~/anaconda3/envs/food/lib/python3.9/site-packages/qdrant_client/http/api/collections_api.py:464\u001b[0m, in \u001b[0;36mSyncCollectionsApi.delete_collection\u001b[0;34m(self, collection_name)\u001b[0m\n\u001b[1;32m    <a href='file:///home/dima/anaconda3/envs/food/lib/python3.9/site-packages/qdrant_client/http/api/collections_api.py?line=456'>457</a>\u001b[0m \u001b[39mdef\u001b[39;00m \u001b[39mdelete_collection\u001b[39m(\n\u001b[1;32m    <a href='file:///home/dima/anaconda3/envs/food/lib/python3.9/site-packages/qdrant_client/http/api/collections_api.py?line=457'>458</a>\u001b[0m     \u001b[39mself\u001b[39m,\n\u001b[1;32m    <a href='file:///home/dima/anaconda3/envs/food/lib/python3.9/site-packages/qdrant_client/http/api/collections_api.py?line=458'>459</a>\u001b[0m     collection_name: \u001b[39mstr\u001b[39m,\n\u001b[1;32m    <a href='file:///home/dima/anaconda3/envs/food/lib/python3.9/site-packages/qdrant_client/http/api/collections_api.py?line=459'>460</a>\u001b[0m ) \u001b[39m-\u001b[39m\u001b[39m>\u001b[39m m\u001b[39m.\u001b[39mInlineResponse2001:\n\u001b[1;32m    <a href='file:///home/dima/anaconda3/envs/food/lib/python3.9/site-packages/qdrant_client/http/api/collections_api.py?line=460'>461</a>\u001b[0m     \u001b[39m\"\"\"\u001b[39;00m\n\u001b[1;32m    <a href='file:///home/dima/anaconda3/envs/food/lib/python3.9/site-packages/qdrant_client/http/api/collections_api.py?line=461'>462</a>\u001b[0m \u001b[39m    Drop collection and all associated data\u001b[39;00m\n\u001b[1;32m    <a href='file:///home/dima/anaconda3/envs/food/lib/python3.9/site-packages/qdrant_client/http/api/collections_api.py?line=462'>463</a>\u001b[0m \u001b[39m    \"\"\"\u001b[39;00m\n\u001b[0;32m--> <a href='file:///home/dima/anaconda3/envs/food/lib/python3.9/site-packages/qdrant_client/http/api/collections_api.py?line=463'>464</a>\u001b[0m     \u001b[39mreturn\u001b[39;00m \u001b[39mself\u001b[39;49m\u001b[39m.\u001b[39;49m_build_for_delete_collection(\n\u001b[1;32m    <a href='file:///home/dima/anaconda3/envs/food/lib/python3.9/site-packages/qdrant_client/http/api/collections_api.py?line=464'>465</a>\u001b[0m         collection_name\u001b[39m=\u001b[39;49mcollection_name,\n\u001b[1;32m    <a href='file:///home/dima/anaconda3/envs/food/lib/python3.9/site-packages/qdrant_client/http/api/collections_api.py?line=465'>466</a>\u001b[0m     )\n",
      "File \u001b[0;32m~/anaconda3/envs/food/lib/python3.9/site-packages/qdrant_client/http/api/collections_api.py:216\u001b[0m, in \u001b[0;36m_CollectionsApi._build_for_delete_collection\u001b[0;34m(self, collection_name)\u001b[0m\n\u001b[1;32m    <a href='file:///home/dima/anaconda3/envs/food/lib/python3.9/site-packages/qdrant_client/http/api/collections_api.py?line=208'>209</a>\u001b[0m \u001b[39m\"\"\"\u001b[39;00m\n\u001b[1;32m    <a href='file:///home/dima/anaconda3/envs/food/lib/python3.9/site-packages/qdrant_client/http/api/collections_api.py?line=209'>210</a>\u001b[0m \u001b[39mDrop collection and all associated data\u001b[39;00m\n\u001b[1;32m    <a href='file:///home/dima/anaconda3/envs/food/lib/python3.9/site-packages/qdrant_client/http/api/collections_api.py?line=210'>211</a>\u001b[0m \u001b[39m\"\"\"\u001b[39;00m\n\u001b[1;32m    <a href='file:///home/dima/anaconda3/envs/food/lib/python3.9/site-packages/qdrant_client/http/api/collections_api.py?line=211'>212</a>\u001b[0m path_params \u001b[39m=\u001b[39m {\n\u001b[1;32m    <a href='file:///home/dima/anaconda3/envs/food/lib/python3.9/site-packages/qdrant_client/http/api/collections_api.py?line=212'>213</a>\u001b[0m     \u001b[39m\"\u001b[39m\u001b[39mcollection_name\u001b[39m\u001b[39m\"\u001b[39m: \u001b[39mstr\u001b[39m(collection_name),\n\u001b[1;32m    <a href='file:///home/dima/anaconda3/envs/food/lib/python3.9/site-packages/qdrant_client/http/api/collections_api.py?line=213'>214</a>\u001b[0m }\n\u001b[0;32m--> <a href='file:///home/dima/anaconda3/envs/food/lib/python3.9/site-packages/qdrant_client/http/api/collections_api.py?line=215'>216</a>\u001b[0m \u001b[39mreturn\u001b[39;00m \u001b[39mself\u001b[39;49m\u001b[39m.\u001b[39;49mapi_client\u001b[39m.\u001b[39;49mrequest(\n\u001b[1;32m    <a href='file:///home/dima/anaconda3/envs/food/lib/python3.9/site-packages/qdrant_client/http/api/collections_api.py?line=216'>217</a>\u001b[0m     type_\u001b[39m=\u001b[39;49mm\u001b[39m.\u001b[39;49mInlineResponse2001,\n\u001b[1;32m    <a href='file:///home/dima/anaconda3/envs/food/lib/python3.9/site-packages/qdrant_client/http/api/collections_api.py?line=217'>218</a>\u001b[0m     method\u001b[39m=\u001b[39;49m\u001b[39m\"\u001b[39;49m\u001b[39mDELETE\u001b[39;49m\u001b[39m\"\u001b[39;49m,\n\u001b[1;32m    <a href='file:///home/dima/anaconda3/envs/food/lib/python3.9/site-packages/qdrant_client/http/api/collections_api.py?line=218'>219</a>\u001b[0m     url\u001b[39m=\u001b[39;49m\u001b[39m\"\u001b[39;49m\u001b[39m/collections/\u001b[39;49m\u001b[39m{collection_name}\u001b[39;49;00m\u001b[39m\"\u001b[39;49m,\n\u001b[1;32m    <a href='file:///home/dima/anaconda3/envs/food/lib/python3.9/site-packages/qdrant_client/http/api/collections_api.py?line=219'>220</a>\u001b[0m     path_params\u001b[39m=\u001b[39;49mpath_params,\n\u001b[1;32m    <a href='file:///home/dima/anaconda3/envs/food/lib/python3.9/site-packages/qdrant_client/http/api/collections_api.py?line=220'>221</a>\u001b[0m )\n",
      "File \u001b[0;32m~/anaconda3/envs/food/lib/python3.9/site-packages/qdrant_client/http/api_client.py:59\u001b[0m, in \u001b[0;36mApiClient.request\u001b[0;34m(self, type_, method, url, path_params, **kwargs)\u001b[0m\n\u001b[1;32m     <a href='file:///home/dima/anaconda3/envs/food/lib/python3.9/site-packages/qdrant_client/http/api_client.py?line=56'>57</a>\u001b[0m url \u001b[39m=\u001b[39m (\u001b[39mself\u001b[39m\u001b[39m.\u001b[39mhost \u001b[39mor\u001b[39;00m \u001b[39m\"\u001b[39m\u001b[39m\"\u001b[39m) \u001b[39m+\u001b[39m url\u001b[39m.\u001b[39mformat(\u001b[39m*\u001b[39m\u001b[39m*\u001b[39mpath_params)\n\u001b[1;32m     <a href='file:///home/dima/anaconda3/envs/food/lib/python3.9/site-packages/qdrant_client/http/api_client.py?line=57'>58</a>\u001b[0m request \u001b[39m=\u001b[39m Request(method, url, \u001b[39m*\u001b[39m\u001b[39m*\u001b[39mkwargs)\n\u001b[0;32m---> <a href='file:///home/dima/anaconda3/envs/food/lib/python3.9/site-packages/qdrant_client/http/api_client.py?line=58'>59</a>\u001b[0m \u001b[39mreturn\u001b[39;00m \u001b[39mself\u001b[39;49m\u001b[39m.\u001b[39;49msend(request, type_)\n",
      "File \u001b[0;32m~/anaconda3/envs/food/lib/python3.9/site-packages/qdrant_client/http/api_client.py:76\u001b[0m, in \u001b[0;36mApiClient.send\u001b[0;34m(self, request, type_)\u001b[0m\n\u001b[1;32m     <a href='file:///home/dima/anaconda3/envs/food/lib/python3.9/site-packages/qdrant_client/http/api_client.py?line=74'>75</a>\u001b[0m \u001b[39mdef\u001b[39;00m \u001b[39msend\u001b[39m(\u001b[39mself\u001b[39m, request: Request, type_: Type[T]) \u001b[39m-\u001b[39m\u001b[39m>\u001b[39m T:\n\u001b[0;32m---> <a href='file:///home/dima/anaconda3/envs/food/lib/python3.9/site-packages/qdrant_client/http/api_client.py?line=75'>76</a>\u001b[0m     response \u001b[39m=\u001b[39m \u001b[39mself\u001b[39;49m\u001b[39m.\u001b[39;49mmiddleware(request, \u001b[39mself\u001b[39;49m\u001b[39m.\u001b[39;49msend_inner)\n\u001b[1;32m     <a href='file:///home/dima/anaconda3/envs/food/lib/python3.9/site-packages/qdrant_client/http/api_client.py?line=76'>77</a>\u001b[0m     \u001b[39mif\u001b[39;00m response\u001b[39m.\u001b[39mstatus_code \u001b[39min\u001b[39;00m [\u001b[39m200\u001b[39m, \u001b[39m201\u001b[39m]:\n\u001b[1;32m     <a href='file:///home/dima/anaconda3/envs/food/lib/python3.9/site-packages/qdrant_client/http/api_client.py?line=77'>78</a>\u001b[0m         \u001b[39mtry\u001b[39;00m:\n",
      "File \u001b[0;32m~/anaconda3/envs/food/lib/python3.9/site-packages/qdrant_client/http/api_client.py:179\u001b[0m, in \u001b[0;36mBaseMiddleware.__call__\u001b[0;34m(self, request, call_next)\u001b[0m\n\u001b[1;32m    <a href='file:///home/dima/anaconda3/envs/food/lib/python3.9/site-packages/qdrant_client/http/api_client.py?line=177'>178</a>\u001b[0m \u001b[39mdef\u001b[39;00m \u001b[39m__call__\u001b[39m(\u001b[39mself\u001b[39m, request: Request, call_next: Send) \u001b[39m-\u001b[39m\u001b[39m>\u001b[39m Response:\n\u001b[0;32m--> <a href='file:///home/dima/anaconda3/envs/food/lib/python3.9/site-packages/qdrant_client/http/api_client.py?line=178'>179</a>\u001b[0m     \u001b[39mreturn\u001b[39;00m call_next(request)\n",
      "File \u001b[0;32m~/anaconda3/envs/food/lib/python3.9/site-packages/qdrant_client/http/api_client.py:88\u001b[0m, in \u001b[0;36mApiClient.send_inner\u001b[0;34m(self, request)\u001b[0m\n\u001b[1;32m     <a href='file:///home/dima/anaconda3/envs/food/lib/python3.9/site-packages/qdrant_client/http/api_client.py?line=85'>86</a>\u001b[0m     response \u001b[39m=\u001b[39m \u001b[39mself\u001b[39m\u001b[39m.\u001b[39m_client\u001b[39m.\u001b[39msend(request)\n\u001b[1;32m     <a href='file:///home/dima/anaconda3/envs/food/lib/python3.9/site-packages/qdrant_client/http/api_client.py?line=86'>87</a>\u001b[0m \u001b[39mexcept\u001b[39;00m \u001b[39mException\u001b[39;00m \u001b[39mas\u001b[39;00m e:\n\u001b[0;32m---> <a href='file:///home/dima/anaconda3/envs/food/lib/python3.9/site-packages/qdrant_client/http/api_client.py?line=87'>88</a>\u001b[0m     \u001b[39mraise\u001b[39;00m ResponseHandlingException(e)\n\u001b[1;32m     <a href='file:///home/dima/anaconda3/envs/food/lib/python3.9/site-packages/qdrant_client/http/api_client.py?line=88'>89</a>\u001b[0m \u001b[39mreturn\u001b[39;00m response\n",
      "\u001b[0;31mResponseHandlingException\u001b[0m: [Errno 104] Connection reset by peer"
     ]
    }
   ],
   "source": [
    "client.recreate_collection(collection_name,dim,qdrant_client.http.models.Distance.DOT)"
   ]
  },
  {
   "cell_type": "code",
   "execution_count": 14,
   "metadata": {},
   "outputs": [
    {
     "data": {
      "text/plain": [
       "(['food_prompted'], ['food_images', 'glovo'])"
      ]
     },
     "execution_count": 14,
     "metadata": {},
     "output_type": "execute_result"
    }
   ],
   "source": [
    "prod_client.get_collections(),dev_client.get_collections()"
   ]
  },
  {
   "cell_type": "code",
   "execution_count": 15,
   "metadata": {},
   "outputs": [
    {
     "data": {
      "text/plain": [
       "'food_images'"
      ]
     },
     "execution_count": 15,
     "metadata": {},
     "output_type": "execute_result"
    }
   ],
   "source": [
    "collection_name"
   ]
  },
  {
   "cell_type": "code",
   "execution_count": 16,
   "metadata": {},
   "outputs": [
    {
     "data": {
      "text/plain": [
       "0"
      ]
     },
     "execution_count": 16,
     "metadata": {},
     "output_type": "execute_result"
    }
   ],
   "source": [
    "dev_client.collection_len(collection_name)"
   ]
  },
  {
   "cell_type": "code",
   "execution_count": 17,
   "metadata": {},
   "outputs": [
    {
     "name": "stdout",
     "output_type": "stream",
     "text": [
      "Converted 00_clipmodel.ipynb.\n",
      "Converted 00_custom_pandas.ipynb.\n",
      "Converted 00_paths.ipynb.\n",
      "Converted 00_progress_check.ipynb.\n",
      "Converted 00_psql.ipynb.\n",
      "Converted 00_qdrant.ipynb.\n",
      "Converted 00_tools.ipynb.\n",
      "Converted 01_multiple_foods.ipynb.\n",
      "Converted 01_multiple_foods_segmantation.ipynb.\n",
      "Converted 01_search.ipynb.\n",
      "Converted 0_template copy 2.ipynb.\n",
      "Converted 0_template copy.ipynb.\n",
      "Converted 0_template.ipynb.\n",
      "Converted OFA.ipynb.\n",
      "Converted Untitled-1.ipynb.\n",
      "Converted bot pseudocode.ipynb.\n",
      "Converted bot_test.ipynb.\n",
      "Converted classifying_glovo_images.ipynb.\n",
      "Converted foodd dataset.ipynb.\n",
      "Converted foods_prompted_tosql.ipynb.\n",
      "Converted ideas.ipynb.\n",
      "Converted inference.ipynb.\n",
      "Converted multiple3105.ipynb.\n",
      "Converted multiple_3005.ipynb.\n",
      "No export destination, ignored:\n",
      "#export\n",
      "def search_image(url=None,head = 1):\n",
      "    image_clip = requests.post(f'https://guru.skynet.center/image2vector/?url={url}').json()\n",
      "    results = client.search(collection_name=collection_name,query_vector=image_clip,top=head)\n",
      "    image_clip = torch.Tensor(image_clip)\n",
      "    df = foods.loc[[r.id for r in results]].copy()\n",
      "    df['score'] = [r.score for r in results]\n",
      "    df = df.sort_values('score',ascending=False)\n",
      "\n",
      "    return image_clip,df.reset_index()\n",
      "\n",
      "series2tensor = lambda series:torch.tensor([np.array(c) for c in series.values])\n",
      "Warning: Exporting to \"None.py\" but this module is not part of this build\n",
      "Traceback (most recent call last):\n",
      "  File \"/home/dima/anaconda3/envs/food/bin/nbdev_build_lib\", line 8, in <module>\n",
      "    sys.exit(nbdev_build_lib())\n",
      "  File \"/home/dima/anaconda3/envs/food/lib/python3.9/site-packages/fastcore/script.py\", line 112, in _f\n",
      "    tfunc(**merge(args, args_from_prog(func, xtra)))\n",
      "  File \"/home/dima/anaconda3/envs/food/lib/python3.9/site-packages/nbdev/export2html.py\", line 465, in nbdev_build_lib\n",
      "    notebook2script(fname=fname, bare=bare)\n",
      "  File \"/home/dima/anaconda3/envs/food/lib/python3.9/site-packages/nbdev/export.py\", line 430, in notebook2script\n",
      "    for f in sorted(files): d = _notebook2script(f, modules, silent=silent, to_dict=d, bare=bare)\n",
      "  File \"/home/dima/anaconda3/envs/food/lib/python3.9/site-packages/nbdev/export.py\", line 357, in _notebook2script\n",
      "    if to_dict is None: _add2all(fname_out, [f\"'{f}'\" for f in names if '.' not in f and len(f) > 0] + extra)\n",
      "  File \"/home/dima/anaconda3/envs/food/lib/python3.9/site-packages/nbdev/export.py\", line 208, in _add2all\n",
      "    with open(fname, 'r', encoding='utf8') as f: text = f.read()\n",
      "FileNotFoundError: [Errno 2] No such file or directory: '/home/dima/food/food/None.py'\n"
     ]
    }
   ],
   "source": [
    "!nbdev_build_lib"
   ]
  },
  {
   "cell_type": "code",
   "execution_count": null,
   "metadata": {},
   "outputs": [],
   "source": []
  }
 ],
 "metadata": {
  "interpreter": {
   "hash": "1e1ee659a212ecca49d6a1809275141ef7642c152d6286fb803a43d965656456"
  },
  "kernelspec": {
   "display_name": "Python 3.9.7 ('food')",
   "language": "python",
   "name": "python3"
  },
  "language_info": {
   "codemirror_mode": {
    "name": "ipython",
    "version": 3
   },
   "file_extension": ".py",
   "mimetype": "text/x-python",
   "name": "python",
   "nbconvert_exporter": "python",
   "pygments_lexer": "ipython3",
   "version": "3.9.7"
  },
  "orig_nbformat": 4
 },
 "nbformat": 4,
 "nbformat_minor": 2
}
