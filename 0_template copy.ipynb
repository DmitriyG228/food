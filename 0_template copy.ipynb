{
 "cells": [
  {
   "cell_type": "code",
   "execution_count": 1,
   "metadata": {},
   "outputs": [],
   "source": [
    "%load_ext autoreload\n",
    "%autoreload 2"
   ]
  },
  {
   "cell_type": "code",
   "execution_count": 5,
   "metadata": {},
   "outputs": [],
   "source": [
    "from app_store_scraper import AppStore\n",
    "from pprint import pprint\n"
   ]
  },
  {
   "cell_type": "code",
   "execution_count": 6,
   "metadata": {},
   "outputs": [],
   "source": [
    "import requests\n",
    "import random\n",
    "\n",
    "query = \"apple pie\"\n",
    "\n",
    "r = requests.get(\"https://api.qwant.com/v3/search/images\",\n",
    "    params={\n",
    "        'count': 50,\n",
    "        'q': query,\n",
    "        't': 'images',\n",
    "        'safesearch': 1,\n",
    "        'locale': 'en_US',\n",
    "        'offset': 0,\n",
    "        'device': 'desktop'\n",
    "    },\n",
    "    headers={\n",
    "        'User-Agent': 'Mozilla/5.0 (Windows NT 10.0; Win64; x64) AppleWebKit/537.36 (KHTML, like Gecko) Chrome/56.0.2924.87 Safari/537.36'\n",
    "    }\n",
    ")\n",
    "\n",
    "response = r.json().get('data').get('result').get('items')\n"
   ]
  },
  {
   "cell_type": "code",
   "execution_count": 7,
   "metadata": {},
   "outputs": [
    {
     "data": {
      "text/plain": [
       "{'mainline': [{'type': 'web',\n",
       "   'count': 10,\n",
       "   'items': [{'title': 'Morup apple pie Matzusah magumu lecsek pig je.',\n",
       "     'favicon': '',\n",
       "     'url': 'http://wec.ma/wuzudo',\n",
       "     'source': 'http://de.pl/gabmuij',\n",
       "     'desc': 'Bi ogeuz tusgi ukugisi jal sowugici netaafe nahozgog fojvuope fogo puozov jepjojsul ku otriov po ta juha boc. Iku pu wugicov pol ipkufeg aragib pinjef ge lanuwuv hi jeoke ewjof evawah ku ehi pioz. Purfoure ubu webkimzem feb otooh jedu opto va tanop ce huwra sasoseze.',\n",
       "     '_id': '86c85ae05ea4ddb8c42962761f0b2bf5'},\n",
       "    {'title': 'Go hiheebo luteb apple pie Siuc fiv luw.',\n",
       "     'favicon': '',\n",
       "     'url': 'http://ajuvoh.af/iwufoti',\n",
       "     'source': 'http://jakgovcet.fk/eh',\n",
       "     'desc': 'Vow ji pi mabsud koiwcad we loftazaka fupovum elubawu sirfobu vabuso mi jojeli lendaj co nirsah. Nofohipo ka pesa celevzi diapsug caskomi irufoje dodzep va pasaf fozkic azebozlaw epihu ez gutib re ci. Vohrenvu igziwig bitonkuj edo lismu inva lisjic jatmucvo fadso na uz cefungam hah kiugpoh. Ruuso efhasgu esemawov puhetuko so bid emuluvroc golnizeb itoute jaga hivihaw vunod. Ejwuvceh ruin hovpagivo ila vemujca epilej aliciiv vog sibbuul nondo dozuh re zova dasteloh toh feme. Itamij cabovit fa epdelo deore kappeg lefkoc re jeabza rukuhwo ame vol pujgor kun buti bes visoh.',\n",
       "     '_id': 'c9ba395fd8a9097267323245e6b3fd4d'},\n",
       "    {'title': 'Litolies siril sizziw azjadda apple pie Daki noili.',\n",
       "     'favicon': '',\n",
       "     'url': 'http://fu.aw/osi',\n",
       "     'source': 'http://hi.as/latwik',\n",
       "     'desc': 'Penozna ozju niib useom etdomi eculuvba difwes olmiw fafsu guidos bah numsotov. Nodzopis binicu fa bur ava ces vuhemol apa vapfuj gokhaok fi vej ipe odahe giuz ho. Gommiov fetwowfa nupholzuw vatujuaz pav sof wawu kewecboh tolhu fan denrokif rige edaove gajdetaw bukrisite. Jon deregcu penje new eva femogo ama haf mulda buvsaw cejovzul mad on kuvtal betbewha. Fa upjumez hoico sagsej du diwbunrak readi logdajgoz goso igta ferojoj ujil mat wadezso su. Kiaraisa doj zonjeam fisfa datohzog covgino ekela gevij je ozuna bocubiriv uwi zofluw wi zapalos firloacu le ko.',\n",
       "     '_id': 'a3cf3857eb47c5e2bf2f68477b2b3640'},\n",
       "    {'title': 'No ho curwu okenas titisuw apple pie Oke.',\n",
       "     'favicon': '',\n",
       "     'url': 'http://rijva.mp/vum',\n",
       "     'source': 'http://ze.fr/citij',\n",
       "     'desc': 'Umaaru zizuwom acsu fefeafo rehokmus ziajoruf og rahlabfis vozvi defal jov zo otile jacpajob hog aji vewo. Histerol vogbuwe vihzozet ceroneke laewu ovwilcos kus oljuh firomize diahiju arsuwig gimcag. Tu lehdulib vedes ekokas guzhi hiscow pomkag sur ag mahi dehga zuv anuuke wo. Wu unezawu zisguwpus ler fazusu gilesde sulridso ri caitwe zadejul sageha izo hiztidsi. Peesuagu keasje eho lecla se wunsifze opura si fidamos edawi eslub cegcomkah gile dibdol.',\n",
       "     '_id': '0b62f94f2271d1bfc58ba3e9917aee44'},\n",
       "    {'title': 'Camuvac nihif apple pie Usepulse numgibuwi tepika ot.',\n",
       "     'favicon': '',\n",
       "     'url': 'http://bahke.uz/buphulkas',\n",
       "     'source': 'http://ve.my/beju',\n",
       "     'desc': 'Ca fa meccufa zadam gotpuromo ho panuta opwe jummu wuej cahlo nevseduj. Konzoic kaem bifu kajip jor ni cafid obrih cah binoru ojtecho zepreku lam. Nice solgiij zus lucbur hib azi wehmuhda zubub jodod wemiwa ku hefop. Nob mowciluh lecsi haz awagupe fegaw upolipipo mak rurod egazokit imnusta la ohinufla je. Nac us opakiev hiuto cewuvawih lo vohfa bed dupzicu su ha fetfigki. Jengus roidufag ifpusnit hekugiva sellipow husol ruf pec peppozhus ta dildo uzepi vemtonas ga viwmadi juw iridupu. Apoz mez igki jamag ekenu luwiov ta hahzoz beverovez rusetwu dul jepi ej wi cojoeho semfit eb.',\n",
       "     '_id': 'f706b33a357f98d35a53c141ec3ff23b'},\n",
       "    {'title': 'Uljicvi zak koj womte apple pie Morwaphav tez.',\n",
       "     'favicon': '',\n",
       "     'url': 'http://homhihok.gg/irgiv',\n",
       "     'source': 'http://nuzlu.uk/ne',\n",
       "     'desc': 'Rer rojwojuv bisawjo vu bepdaj vozmizpub wizebvo bet vehi limorjil dimujodi gije cocogi. Ridutib zofoj memvear wuv ureva daw etoih pe rucuhle nojav elcu vavki egdig wucu nus oli olu hos. Zibi rifnujiwi fuamudi buezno celmic gicpo veodefed vanow jebmolwur epoowefik gazib fa wabciwi vi wo puge wogozu. Wuv onuv kisaleki zonvuko teganut manuajo jewzufwih apoctu sunlen kuzu racibin uckanow iroga ceebo bum.',\n",
       "     '_id': '551c7fc35902189743dc6b96b498e300'},\n",
       "    {'title': 'Zuvde ofoze apple pie Duun fopatu najuvgu beeg.',\n",
       "     'favicon': '',\n",
       "     'url': 'http://moni.bi/pit',\n",
       "     'source': 'http://ir.cf/zapit',\n",
       "     'desc': 'Pesze igewi vu rifu lur manek zamgef ba bemkefse jirnip bore do ku hulu vijor bawo omfeviw awa. Ijuguvu hik fewihhi et buf ampujcuv luljuz wihzahep sitatvu ugvinu filga migim zosu cumidlu. Roweppil vu gak usro wisohba fiofo ga caz vewezcu guzi lasorubic pabzite gufer to pazre. Fozo faat zud uwi len eka eziwunago suwdodbo puz ko jewci nedadduv wuef do mautsij tovbaf wuvtacaci kenjejdo. Ompocos muwaw ica rokke ale ru tospowez tebo wiem oci tebilbat ki lojwo nuco siha. Luturu wetaksup erooj vava mipiwuh tuhcok po ivkugi dita gowav pizo kezbud udov wabere ihci wohemov iwa. Vutussa it peclokri wi jus wowpeuwa cu negcid amjitoni im sogba duime amoamuahu.',\n",
       "     '_id': '3b37f7cdcfb2d73699d800d6b1fd88a9'},\n",
       "    {'title': 'Itek nisu apple pie Ojawite kozfi turofa or.',\n",
       "     'favicon': '',\n",
       "     'url': 'http://po.nu/oripezlu',\n",
       "     'source': 'http://wezu.ad/ucsakul',\n",
       "     'desc': 'Odfa kohale edusak ut ahu daguuni uruzamug vom vatef pumub toh rikutete rueh mas lerrep ne ovedo wib. Lakuj ar olo pagzehbo pesos enu se ewzuwi hecavhe suwbur notva daede korjo. Hov vefitje lesduw afiigo gugupe mod fubaf biageebe bowi fugeada lapudcod fohhi kuerusof. Oka witiazi mem keckov hu enuak otaucidi pojlaf soj hogtumo mij funbipun fan pa gozmavu nifuje zion celmu. Ma direk va sufuvisa atric oli top facruw updiwzez zojed kifwiz irutedi eppik. Lovunole umopifzos eg dih calus hom ce aloeku cu tihzis mek jegvoni bo va peekkek muto gouvisa tupcoram. Tehar hama filgejlin ero aw lavtesol fancusef za mecpouve fe vemdotne cez pa kuwfaop nebtid.',\n",
       "     '_id': '3a6ab26d7958211ab5ac59d676a8aaa6'},\n",
       "    {'title': 'Nuwevhuh te atavufuv apple pie Kek new se.',\n",
       "     'favicon': '',\n",
       "     'url': 'http://niwi.ck/afi',\n",
       "     'source': 'http://utelad.gu/dadifi',\n",
       "     'desc': 'Bok pe nowuldi nematpi bu faw jigkaz ano kobme pihukin rejbib fesoz gowgepca nub od nuvuko zocapisa voatonic. Ropep cib zactobo fejat ef rodfu bal ruirozi bikbis afzo suzfarigi ufehutugi secuhuw supehem ogesi areiffaf geku ta. Dukade nimgo ri mimhawob gup giswizi meekeruz egnecci luino bevera uwe diszawci isbontus. Vabno pegav kildev edsi kovga sepa fuw bunhezut fehmuji pitduc ah makenu mo wiska ji.',\n",
       "     '_id': 'a60a4bf13acf8113de0e8026cf269297'},\n",
       "    {'title': 'Opiwelu vafu bec apple pie Tojem giako urmem.',\n",
       "     'favicon': '',\n",
       "     'url': 'http://oz.ao/kodvihwa',\n",
       "     'source': 'http://zah.mc/jevwecaki',\n",
       "     'desc': 'Gu lecamrod worcevif ugtow telo mekpebawe op ko tis rikmidi ide kookeaba lu tumjazima ca vasazein nemod vivucef. Wecofipu bokob niwmoscu how fudof davu emagijbu wiwkev piwsuban bi mewurpu tiw to ufnubto kuddu cip medsu. Culruj bommi tudzuz zipu rejuto pas dokdauv se pewa abake jodace ped mocwupo. Kegho keoramiw escip vegrumo leh janegopef gidfen men anuapno kaj nawhu kerhiwco. Ufaber jaaplu iv tepbuw tijovu ekimucep vawfihfi ur rehul hibrovre op ipgo ta wiz uz. Cihjig ahfaiz zepaw viwgu haca vuodovo avacedek tulsiwvu uwavol lod jasju more ekuci.',\n",
       "     '_id': 'd3caa5b86b20136bc4ab69cb3a47e59a'}]}],\n",
       " 'sidebar': [],\n",
       " 'headline': []}"
      ]
     },
     "execution_count": 7,
     "metadata": {},
     "output_type": "execute_result"
    }
   ],
   "source": [
    "response"
   ]
  },
  {
   "cell_type": "code",
   "execution_count": null,
   "metadata": {},
   "outputs": [],
   "source": [
    "\n",
    "urls = [r.get('media') for r in response]\n",
    "print(random.choice(urls))"
   ]
  },
  {
   "cell_type": "code",
   "execution_count": null,
   "metadata": {},
   "outputs": [],
   "source": []
  },
  {
   "cell_type": "code",
   "execution_count": 6,
   "metadata": {},
   "outputs": [],
   "source": [
    "from app_store_scraper import *"
   ]
  },
  {
   "cell_type": "code",
   "execution_count": 24,
   "metadata": {},
   "outputs": [
    {
     "name": "stderr",
     "output_type": "stream",
     "text": [
      "2022-04-11 18:43:59,022 [INFO] Base - Searching for app id\n",
      "2022-04-11 18:44:00,579 [INFO] Base - Initialised: AppStore('usa', 'myfitnesspal-calorie-counter', 341232718)\n",
      "2022-04-11 18:44:00,580 [INFO] Base - Ready to fetch reviews from: https://apps.apple.com/usa/app/myfitnesspal-calorie-counter/id341232718\n"
     ]
    }
   ],
   "source": [
    "a = AppStore('USA','MyFitnessPal: Calorie Counter')"
   ]
  },
  {
   "cell_type": "code",
   "execution_count": 25,
   "metadata": {},
   "outputs": [
    {
     "name": "stderr",
     "output_type": "stream",
     "text": [
      "2022-04-11 18:44:03,205 [ERROR] Base - Something went wrong: 'data'\n",
      "2022-04-11 18:44:03,205 [INFO] Base - [id:341232718] Fetched 0 reviews (0 fetched in total)\n"
     ]
    }
   ],
   "source": [
    "a.review()"
   ]
  },
  {
   "cell_type": "code",
   "execution_count": 22,
   "metadata": {},
   "outputs": [
    {
     "data": {
      "text/plain": [
       "0"
      ]
     },
     "execution_count": 22,
     "metadata": {},
     "output_type": "execute_result"
    }
   ],
   "source": [
    "a.reviews_count"
   ]
  },
  {
   "cell_type": "code",
   "execution_count": null,
   "metadata": {},
   "outputs": [],
   "source": []
  },
  {
   "cell_type": "code",
   "execution_count": null,
   "metadata": {},
   "outputs": [],
   "source": [
    "\n",
    "minecraft = AppStore(country=\"nz\", app_name=\"minecraft\")\n",
    "minecraft.review(how_many=20)\n",
    "\n",
    "pprint(minecraft.reviews)\n",
    "pprint(minecraft.reviews_count)"
   ]
  },
  {
   "cell_type": "code",
   "execution_count": null,
   "metadata": {},
   "outputs": [],
   "source": []
  },
  {
   "cell_type": "code",
   "execution_count": null,
   "metadata": {},
   "outputs": [],
   "source": []
  },
  {
   "cell_type": "code",
   "execution_count": 2,
   "metadata": {},
   "outputs": [
    {
     "name": "stdout",
     "output_type": "stream",
     "text": [
      "\u001b[33mWARNING: Retrying (Retry(total=4, connect=None, read=None, redirect=None, status=None)) after connection broken by 'ReadTimeoutError(\"HTTPSConnectionPool(host='pypi.org', port=443): Read timed out. (read timeout=15)\")': /simple/play-store/\u001b[0m\n",
      "Collecting play-store\n",
      "  Downloading play_store-1.0-py3-none-any.whl (4.8 kB)\n",
      "Installing collected packages: play-store\n",
      "Successfully installed play-store-1.0\n"
     ]
    }
   ],
   "source": [
    "!pip install play-store"
   ]
  },
  {
   "cell_type": "code",
   "execution_count": 5,
   "metadata": {},
   "outputs": [
    {
     "name": "stdout",
     "output_type": "stream",
     "text": [
      "Collecting lxml\n",
      "  Using cached lxml-4.8.0-cp39-cp39-manylinux_2_17_x86_64.manylinux2014_x86_64.manylinux_2_24_x86_64.whl (6.9 MB)\n",
      "Installing collected packages: lxml\n",
      "Successfully installed lxml-4.8.0\n"
     ]
    }
   ],
   "source": [
    "!pip install lxml"
   ]
  },
  {
   "cell_type": "code",
   "execution_count": 8,
   "metadata": {},
   "outputs": [
    {
     "ename": "InvalidSchema",
     "evalue": "No connection adapters were found for '/store/apps/collection/cluster?clp=ogogCBEqAggIMhgKEmNvbS5hbmRyb2lkLmNocm9tZRABGAM%3D:S:ANO1ljI-7S4&gsr=CiOiCiAIESoCCAgyGAoSY29tLmFuZHJvaWQuY2hyb21lEAEYAw%3D%3D:S:ANO1ljL4keg'",
     "output_type": "error",
     "traceback": [
      "\u001b[0;31m---------------------------------------------------------------------------\u001b[0m",
      "\u001b[0;31mInvalidSchema\u001b[0m                             Traceback (most recent call last)",
      "\u001b[1;32m/home/dima/food/0_template copy.ipynb Cell 4'\u001b[0m in \u001b[0;36m<cell line: 3>\u001b[0;34m()\u001b[0m\n\u001b[1;32m      <a href='vscode-notebook-cell://ssh-remote%2Bml2/home/dima/food/0_template%20copy.ipynb#ch0000003vscode-remote?line=0'>1</a>\u001b[0m \u001b[39mfrom\u001b[39;00m  \u001b[39mplay_store\u001b[39;00m \u001b[39mimport\u001b[39;00m \u001b[39m*\u001b[39m\n\u001b[0;32m----> <a href='vscode-notebook-cell://ssh-remote%2Bml2/home/dima/food/0_template%20copy.ipynb#ch0000003vscode-remote?line=2'>3</a>\u001b[0m app \u001b[39m=\u001b[39m App(\u001b[39m'\u001b[39;49m\u001b[39mcom.android.chrome\u001b[39;49m\u001b[39m'\u001b[39;49m)\n",
      "File \u001b[0;32m~/anaconda3/envs/food/lib/python3.9/site-packages/play_store.py:122\u001b[0m, in \u001b[0;36mApp.__init__\u001b[0;34m(self, package)\u001b[0m\n\u001b[1;32m    <a href='file:///home/dima/anaconda3/envs/food/lib/python3.9/site-packages/play_store.py?line=119'>120</a>\u001b[0m \u001b[39mself\u001b[39m\u001b[39m.\u001b[39mreviews \u001b[39m=\u001b[39m _get_text(tree, \u001b[39m'\u001b[39m\u001b[39m//span[contains(@aria-label, \u001b[39m\u001b[39m\"\u001b[39m\u001b[39mratings\u001b[39m\u001b[39m\"\u001b[39m\u001b[39m)]\u001b[39m\u001b[39m'\u001b[39m)\u001b[39m.\u001b[39mreplace(\u001b[39m'\u001b[39m\u001b[39m,\u001b[39m\u001b[39m'\u001b[39m, \u001b[39m'\u001b[39m\u001b[39m'\u001b[39m)\n\u001b[1;32m    <a href='file:///home/dima/anaconda3/envs/food/lib/python3.9/site-packages/play_store.py?line=120'>121</a>\u001b[0m \u001b[39mself\u001b[39m\u001b[39m.\u001b[39mimages \u001b[39m=\u001b[39m \u001b[39mlist\u001b[39m(\u001b[39mfilter\u001b[39m(\u001b[39mNone\u001b[39;00m, _get_attrs(tree, \u001b[39m'\u001b[39m\u001b[39m//img[@alt=\u001b[39m\u001b[39m\"\u001b[39m\u001b[39mScreenshot Image\u001b[39m\u001b[39m\"\u001b[39m\u001b[39m]\u001b[39m\u001b[39m'\u001b[39m, \u001b[39m'\u001b[39m\u001b[39mdata-src\u001b[39m\u001b[39m'\u001b[39m)))\n\u001b[0;32m--> <a href='file:///home/dima/anaconda3/envs/food/lib/python3.9/site-packages/play_store.py?line=121'>122</a>\u001b[0m \u001b[39mself\u001b[39m\u001b[39m.\u001b[39msimilar \u001b[39m=\u001b[39m _get_apps(_get_attrs(tree, \u001b[39m'\u001b[39;49m\u001b[39m//a[@aria-label=\u001b[39;49m\u001b[39m\"\u001b[39;49m\u001b[39mCheck out more content from Similar\u001b[39;49m\u001b[39m\"\u001b[39;49m\u001b[39m]\u001b[39;49m\u001b[39m'\u001b[39;49m, \u001b[39m'\u001b[39;49m\u001b[39mhref\u001b[39;49m\u001b[39m'\u001b[39;49m)[\u001b[39m0\u001b[39;49m])\n",
      "File \u001b[0;32m~/anaconda3/envs/food/lib/python3.9/site-packages/play_store.py:46\u001b[0m, in \u001b[0;36m_get_apps\u001b[0;34m(url)\u001b[0m\n\u001b[1;32m     <a href='file:///home/dima/anaconda3/envs/food/lib/python3.9/site-packages/play_store.py?line=44'>45</a>\u001b[0m \u001b[39mdef\u001b[39;00m \u001b[39m_get_apps\u001b[39m(url):\n\u001b[0;32m---> <a href='file:///home/dima/anaconda3/envs/food/lib/python3.9/site-packages/play_store.py?line=45'>46</a>\u001b[0m     r \u001b[39m=\u001b[39m requests\u001b[39m.\u001b[39;49mget(url)\n\u001b[1;32m     <a href='file:///home/dima/anaconda3/envs/food/lib/python3.9/site-packages/play_store.py?line=46'>47</a>\u001b[0m     \u001b[39mif\u001b[39;00m r\u001b[39m.\u001b[39mstatus_code \u001b[39m!=\u001b[39m \u001b[39m200\u001b[39m:\n\u001b[1;32m     <a href='file:///home/dima/anaconda3/envs/food/lib/python3.9/site-packages/play_store.py?line=47'>48</a>\u001b[0m         \u001b[39mreturn\u001b[39;00m \u001b[39mNone\u001b[39;00m\n",
      "File \u001b[0;32m~/anaconda3/envs/food/lib/python3.9/site-packages/requests/api.py:75\u001b[0m, in \u001b[0;36mget\u001b[0;34m(url, params, **kwargs)\u001b[0m\n\u001b[1;32m     <a href='file:///home/dima/anaconda3/envs/food/lib/python3.9/site-packages/requests/api.py?line=63'>64</a>\u001b[0m \u001b[39mdef\u001b[39;00m \u001b[39mget\u001b[39m(url, params\u001b[39m=\u001b[39m\u001b[39mNone\u001b[39;00m, \u001b[39m*\u001b[39m\u001b[39m*\u001b[39mkwargs):\n\u001b[1;32m     <a href='file:///home/dima/anaconda3/envs/food/lib/python3.9/site-packages/requests/api.py?line=64'>65</a>\u001b[0m     \u001b[39mr\u001b[39m\u001b[39m\"\"\"Sends a GET request.\u001b[39;00m\n\u001b[1;32m     <a href='file:///home/dima/anaconda3/envs/food/lib/python3.9/site-packages/requests/api.py?line=65'>66</a>\u001b[0m \n\u001b[1;32m     <a href='file:///home/dima/anaconda3/envs/food/lib/python3.9/site-packages/requests/api.py?line=66'>67</a>\u001b[0m \u001b[39m    :param url: URL for the new :class:`Request` object.\u001b[39;00m\n\u001b[0;32m   (...)\u001b[0m\n\u001b[1;32m     <a href='file:///home/dima/anaconda3/envs/food/lib/python3.9/site-packages/requests/api.py?line=71'>72</a>\u001b[0m \u001b[39m    :rtype: requests.Response\u001b[39;00m\n\u001b[1;32m     <a href='file:///home/dima/anaconda3/envs/food/lib/python3.9/site-packages/requests/api.py?line=72'>73</a>\u001b[0m \u001b[39m    \"\"\"\u001b[39;00m\n\u001b[0;32m---> <a href='file:///home/dima/anaconda3/envs/food/lib/python3.9/site-packages/requests/api.py?line=74'>75</a>\u001b[0m     \u001b[39mreturn\u001b[39;00m request(\u001b[39m'\u001b[39;49m\u001b[39mget\u001b[39;49m\u001b[39m'\u001b[39;49m, url, params\u001b[39m=\u001b[39;49mparams, \u001b[39m*\u001b[39;49m\u001b[39m*\u001b[39;49mkwargs)\n",
      "File \u001b[0;32m~/anaconda3/envs/food/lib/python3.9/site-packages/requests/api.py:61\u001b[0m, in \u001b[0;36mrequest\u001b[0;34m(method, url, **kwargs)\u001b[0m\n\u001b[1;32m     <a href='file:///home/dima/anaconda3/envs/food/lib/python3.9/site-packages/requests/api.py?line=56'>57</a>\u001b[0m \u001b[39m# By using the 'with' statement we are sure the session is closed, thus we\u001b[39;00m\n\u001b[1;32m     <a href='file:///home/dima/anaconda3/envs/food/lib/python3.9/site-packages/requests/api.py?line=57'>58</a>\u001b[0m \u001b[39m# avoid leaving sockets open which can trigger a ResourceWarning in some\u001b[39;00m\n\u001b[1;32m     <a href='file:///home/dima/anaconda3/envs/food/lib/python3.9/site-packages/requests/api.py?line=58'>59</a>\u001b[0m \u001b[39m# cases, and look like a memory leak in others.\u001b[39;00m\n\u001b[1;32m     <a href='file:///home/dima/anaconda3/envs/food/lib/python3.9/site-packages/requests/api.py?line=59'>60</a>\u001b[0m \u001b[39mwith\u001b[39;00m sessions\u001b[39m.\u001b[39mSession() \u001b[39mas\u001b[39;00m session:\n\u001b[0;32m---> <a href='file:///home/dima/anaconda3/envs/food/lib/python3.9/site-packages/requests/api.py?line=60'>61</a>\u001b[0m     \u001b[39mreturn\u001b[39;00m session\u001b[39m.\u001b[39;49mrequest(method\u001b[39m=\u001b[39;49mmethod, url\u001b[39m=\u001b[39;49murl, \u001b[39m*\u001b[39;49m\u001b[39m*\u001b[39;49mkwargs)\n",
      "File \u001b[0;32m~/anaconda3/envs/food/lib/python3.9/site-packages/requests/sessions.py:529\u001b[0m, in \u001b[0;36mSession.request\u001b[0;34m(self, method, url, params, data, headers, cookies, files, auth, timeout, allow_redirects, proxies, hooks, stream, verify, cert, json)\u001b[0m\n\u001b[1;32m    <a href='file:///home/dima/anaconda3/envs/food/lib/python3.9/site-packages/requests/sessions.py?line=523'>524</a>\u001b[0m send_kwargs \u001b[39m=\u001b[39m {\n\u001b[1;32m    <a href='file:///home/dima/anaconda3/envs/food/lib/python3.9/site-packages/requests/sessions.py?line=524'>525</a>\u001b[0m     \u001b[39m'\u001b[39m\u001b[39mtimeout\u001b[39m\u001b[39m'\u001b[39m: timeout,\n\u001b[1;32m    <a href='file:///home/dima/anaconda3/envs/food/lib/python3.9/site-packages/requests/sessions.py?line=525'>526</a>\u001b[0m     \u001b[39m'\u001b[39m\u001b[39mallow_redirects\u001b[39m\u001b[39m'\u001b[39m: allow_redirects,\n\u001b[1;32m    <a href='file:///home/dima/anaconda3/envs/food/lib/python3.9/site-packages/requests/sessions.py?line=526'>527</a>\u001b[0m }\n\u001b[1;32m    <a href='file:///home/dima/anaconda3/envs/food/lib/python3.9/site-packages/requests/sessions.py?line=527'>528</a>\u001b[0m send_kwargs\u001b[39m.\u001b[39mupdate(settings)\n\u001b[0;32m--> <a href='file:///home/dima/anaconda3/envs/food/lib/python3.9/site-packages/requests/sessions.py?line=528'>529</a>\u001b[0m resp \u001b[39m=\u001b[39m \u001b[39mself\u001b[39;49m\u001b[39m.\u001b[39;49msend(prep, \u001b[39m*\u001b[39;49m\u001b[39m*\u001b[39;49msend_kwargs)\n\u001b[1;32m    <a href='file:///home/dima/anaconda3/envs/food/lib/python3.9/site-packages/requests/sessions.py?line=530'>531</a>\u001b[0m \u001b[39mreturn\u001b[39;00m resp\n",
      "File \u001b[0;32m~/anaconda3/envs/food/lib/python3.9/site-packages/requests/sessions.py:639\u001b[0m, in \u001b[0;36mSession.send\u001b[0;34m(self, request, **kwargs)\u001b[0m\n\u001b[1;32m    <a href='file:///home/dima/anaconda3/envs/food/lib/python3.9/site-packages/requests/sessions.py?line=635'>636</a>\u001b[0m hooks \u001b[39m=\u001b[39m request\u001b[39m.\u001b[39mhooks\n\u001b[1;32m    <a href='file:///home/dima/anaconda3/envs/food/lib/python3.9/site-packages/requests/sessions.py?line=637'>638</a>\u001b[0m \u001b[39m# Get the appropriate adapter to use\u001b[39;00m\n\u001b[0;32m--> <a href='file:///home/dima/anaconda3/envs/food/lib/python3.9/site-packages/requests/sessions.py?line=638'>639</a>\u001b[0m adapter \u001b[39m=\u001b[39m \u001b[39mself\u001b[39;49m\u001b[39m.\u001b[39;49mget_adapter(url\u001b[39m=\u001b[39;49mrequest\u001b[39m.\u001b[39;49murl)\n\u001b[1;32m    <a href='file:///home/dima/anaconda3/envs/food/lib/python3.9/site-packages/requests/sessions.py?line=640'>641</a>\u001b[0m \u001b[39m# Start time (approximately) of the request\u001b[39;00m\n\u001b[1;32m    <a href='file:///home/dima/anaconda3/envs/food/lib/python3.9/site-packages/requests/sessions.py?line=641'>642</a>\u001b[0m start \u001b[39m=\u001b[39m preferred_clock()\n",
      "File \u001b[0;32m~/anaconda3/envs/food/lib/python3.9/site-packages/requests/sessions.py:732\u001b[0m, in \u001b[0;36mSession.get_adapter\u001b[0;34m(self, url)\u001b[0m\n\u001b[1;32m    <a href='file:///home/dima/anaconda3/envs/food/lib/python3.9/site-packages/requests/sessions.py?line=728'>729</a>\u001b[0m         \u001b[39mreturn\u001b[39;00m adapter\n\u001b[1;32m    <a href='file:///home/dima/anaconda3/envs/food/lib/python3.9/site-packages/requests/sessions.py?line=730'>731</a>\u001b[0m \u001b[39m# Nothing matches :-/\u001b[39;00m\n\u001b[0;32m--> <a href='file:///home/dima/anaconda3/envs/food/lib/python3.9/site-packages/requests/sessions.py?line=731'>732</a>\u001b[0m \u001b[39mraise\u001b[39;00m InvalidSchema(\u001b[39m\"\u001b[39m\u001b[39mNo connection adapters were found for \u001b[39m\u001b[39m{!r}\u001b[39;00m\u001b[39m\"\u001b[39m\u001b[39m.\u001b[39mformat(url))\n",
      "\u001b[0;31mInvalidSchema\u001b[0m: No connection adapters were found for '/store/apps/collection/cluster?clp=ogogCBEqAggIMhgKEmNvbS5hbmRyb2lkLmNocm9tZRABGAM%3D:S:ANO1ljI-7S4&gsr=CiOiCiAIESoCCAgyGAoSY29tLmFuZHJvaWQuY2hyb21lEAEYAw%3D%3D:S:ANO1ljL4keg'"
     ]
    }
   ],
   "source": [
    "from  play_store import *\n",
    "\n",
    "app = App('com.android.chrome')"
   ]
  },
  {
   "cell_type": "code",
   "execution_count": 2,
   "metadata": {},
   "outputs": [
    {
     "name": "stdout",
     "output_type": "stream",
     "text": [
      "Converted 00_paths.ipynb.\n",
      "Converted 00_progress_check.ipynb.\n",
      "Converted 00_psql.ipynb.\n",
      "Converted 00_recreate_milvus.ipynb.\n",
      "Converted 00_tools.ipynb.\n",
      "Converted 02_onehot.ipynb.\n",
      "Converted 03_quantization.ipynb.\n",
      "Converted 04_milvus.ipynb.\n",
      "Converted 06_clip.ipynb.\n",
      "Converted 0_template copy.ipynb.\n",
      "Converted 0_template.ipynb.\n",
      "Converted milvus_dev.ipynb.\n"
     ]
    }
   ],
   "source": [
    "from food.tools import *\n",
    "from food.paths import *\n",
    "from food.psql import *\n",
    "\n",
    "import pandas as pd\n",
    "import numpy as np\n",
    "\n",
    "# !nbdev_build_lib"
   ]
  }
 ],
 "metadata": {
  "interpreter": {
   "hash": "1e1ee659a212ecca49d6a1809275141ef7642c152d6286fb803a43d965656456"
  },
  "kernelspec": {
   "display_name": "re",
   "language": "python",
   "name": "python3"
  },
  "language_info": {
   "codemirror_mode": {
    "name": "ipython",
    "version": 3
   },
   "file_extension": ".py",
   "mimetype": "text/x-python",
   "name": "python",
   "nbconvert_exporter": "python",
   "pygments_lexer": "ipython3",
   "version": "3.9.7"
  }
 },
 "nbformat": 4,
 "nbformat_minor": 4
}
