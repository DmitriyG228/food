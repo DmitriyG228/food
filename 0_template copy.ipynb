{
 "cells": [
  {
   "cell_type": "code",
   "execution_count": 1,
   "metadata": {},
   "outputs": [],
   "source": [
    "%load_ext autoreload\n",
    "%autoreload 2"
   ]
  },
  {
   "cell_type": "code",
   "execution_count": 5,
   "metadata": {},
   "outputs": [],
   "source": [
    "from app_store_scraper import AppStore\n",
    "from pprint import pprint\n"
   ]
  },
  {
   "cell_type": "code",
   "execution_count": 6,
   "metadata": {},
   "outputs": [],
   "source": [
    "from app_store_scraper import *"
   ]
  },
  {
   "cell_type": "code",
   "execution_count": 24,
   "metadata": {},
   "outputs": [
    {
     "name": "stderr",
     "output_type": "stream",
     "text": [
      "2022-04-11 18:43:59,022 [INFO] Base - Searching for app id\n",
      "2022-04-11 18:44:00,579 [INFO] Base - Initialised: AppStore('usa', 'myfitnesspal-calorie-counter', 341232718)\n",
      "2022-04-11 18:44:00,580 [INFO] Base - Ready to fetch reviews from: https://apps.apple.com/usa/app/myfitnesspal-calorie-counter/id341232718\n"
     ]
    }
   ],
   "source": [
    "a = AppStore('USA','MyFitnessPal: Calorie Counter')"
   ]
  },
  {
   "cell_type": "code",
   "execution_count": 25,
   "metadata": {},
   "outputs": [
    {
     "name": "stderr",
     "output_type": "stream",
     "text": [
      "2022-04-11 18:44:03,205 [ERROR] Base - Something went wrong: 'data'\n",
      "2022-04-11 18:44:03,205 [INFO] Base - [id:341232718] Fetched 0 reviews (0 fetched in total)\n"
     ]
    }
   ],
   "source": [
    "a.review()"
   ]
  },
  {
   "cell_type": "code",
   "execution_count": 22,
   "metadata": {},
   "outputs": [
    {
     "data": {
      "text/plain": [
       "0"
      ]
     },
     "execution_count": 22,
     "metadata": {},
     "output_type": "execute_result"
    }
   ],
   "source": [
    "a.reviews_count"
   ]
  },
  {
   "cell_type": "code",
   "execution_count": null,
   "metadata": {},
   "outputs": [],
   "source": []
  },
  {
   "cell_type": "code",
   "execution_count": null,
   "metadata": {},
   "outputs": [],
   "source": [
    "\n",
    "minecraft = AppStore(country=\"nz\", app_name=\"minecraft\")\n",
    "minecraft.review(how_many=20)\n",
    "\n",
    "pprint(minecraft.reviews)\n",
    "pprint(minecraft.reviews_count)"
   ]
  },
  {
   "cell_type": "code",
   "execution_count": null,
   "metadata": {},
   "outputs": [],
   "source": []
  },
  {
   "cell_type": "code",
   "execution_count": null,
   "metadata": {},
   "outputs": [],
   "source": []
  },
  {
   "cell_type": "code",
   "execution_count": 2,
   "metadata": {},
   "outputs": [
    {
     "name": "stdout",
     "output_type": "stream",
     "text": [
      "\u001b[33mWARNING: Retrying (Retry(total=4, connect=None, read=None, redirect=None, status=None)) after connection broken by 'ReadTimeoutError(\"HTTPSConnectionPool(host='pypi.org', port=443): Read timed out. (read timeout=15)\")': /simple/play-store/\u001b[0m\n",
      "Collecting play-store\n",
      "  Downloading play_store-1.0-py3-none-any.whl (4.8 kB)\n",
      "Installing collected packages: play-store\n",
      "Successfully installed play-store-1.0\n"
     ]
    }
   ],
   "source": [
    "!pip install play-store"
   ]
  },
  {
   "cell_type": "code",
   "execution_count": 5,
   "metadata": {},
   "outputs": [
    {
     "name": "stdout",
     "output_type": "stream",
     "text": [
      "Collecting lxml\n",
      "  Using cached lxml-4.8.0-cp39-cp39-manylinux_2_17_x86_64.manylinux2014_x86_64.manylinux_2_24_x86_64.whl (6.9 MB)\n",
      "Installing collected packages: lxml\n",
      "Successfully installed lxml-4.8.0\n"
     ]
    }
   ],
   "source": [
    "!pip install lxml"
   ]
  },
  {
   "cell_type": "code",
   "execution_count": 8,
   "metadata": {},
   "outputs": [
    {
     "ename": "InvalidSchema",
     "evalue": "No connection adapters were found for '/store/apps/collection/cluster?clp=ogogCBEqAggIMhgKEmNvbS5hbmRyb2lkLmNocm9tZRABGAM%3D:S:ANO1ljI-7S4&gsr=CiOiCiAIESoCCAgyGAoSY29tLmFuZHJvaWQuY2hyb21lEAEYAw%3D%3D:S:ANO1ljL4keg'",
     "output_type": "error",
     "traceback": [
      "\u001b[0;31m---------------------------------------------------------------------------\u001b[0m",
      "\u001b[0;31mInvalidSchema\u001b[0m                             Traceback (most recent call last)",
      "\u001b[1;32m/home/dima/food/0_template copy.ipynb Cell 4'\u001b[0m in \u001b[0;36m<cell line: 3>\u001b[0;34m()\u001b[0m\n\u001b[1;32m      <a href='vscode-notebook-cell://ssh-remote%2Bml2/home/dima/food/0_template%20copy.ipynb#ch0000003vscode-remote?line=0'>1</a>\u001b[0m \u001b[39mfrom\u001b[39;00m  \u001b[39mplay_store\u001b[39;00m \u001b[39mimport\u001b[39;00m \u001b[39m*\u001b[39m\n\u001b[0;32m----> <a href='vscode-notebook-cell://ssh-remote%2Bml2/home/dima/food/0_template%20copy.ipynb#ch0000003vscode-remote?line=2'>3</a>\u001b[0m app \u001b[39m=\u001b[39m App(\u001b[39m'\u001b[39;49m\u001b[39mcom.android.chrome\u001b[39;49m\u001b[39m'\u001b[39;49m)\n",
      "File \u001b[0;32m~/anaconda3/envs/food/lib/python3.9/site-packages/play_store.py:122\u001b[0m, in \u001b[0;36mApp.__init__\u001b[0;34m(self, package)\u001b[0m\n\u001b[1;32m    <a href='file:///home/dima/anaconda3/envs/food/lib/python3.9/site-packages/play_store.py?line=119'>120</a>\u001b[0m \u001b[39mself\u001b[39m\u001b[39m.\u001b[39mreviews \u001b[39m=\u001b[39m _get_text(tree, \u001b[39m'\u001b[39m\u001b[39m//span[contains(@aria-label, \u001b[39m\u001b[39m\"\u001b[39m\u001b[39mratings\u001b[39m\u001b[39m\"\u001b[39m\u001b[39m)]\u001b[39m\u001b[39m'\u001b[39m)\u001b[39m.\u001b[39mreplace(\u001b[39m'\u001b[39m\u001b[39m,\u001b[39m\u001b[39m'\u001b[39m, \u001b[39m'\u001b[39m\u001b[39m'\u001b[39m)\n\u001b[1;32m    <a href='file:///home/dima/anaconda3/envs/food/lib/python3.9/site-packages/play_store.py?line=120'>121</a>\u001b[0m \u001b[39mself\u001b[39m\u001b[39m.\u001b[39mimages \u001b[39m=\u001b[39m \u001b[39mlist\u001b[39m(\u001b[39mfilter\u001b[39m(\u001b[39mNone\u001b[39;00m, _get_attrs(tree, \u001b[39m'\u001b[39m\u001b[39m//img[@alt=\u001b[39m\u001b[39m\"\u001b[39m\u001b[39mScreenshot Image\u001b[39m\u001b[39m\"\u001b[39m\u001b[39m]\u001b[39m\u001b[39m'\u001b[39m, \u001b[39m'\u001b[39m\u001b[39mdata-src\u001b[39m\u001b[39m'\u001b[39m)))\n\u001b[0;32m--> <a href='file:///home/dima/anaconda3/envs/food/lib/python3.9/site-packages/play_store.py?line=121'>122</a>\u001b[0m \u001b[39mself\u001b[39m\u001b[39m.\u001b[39msimilar \u001b[39m=\u001b[39m _get_apps(_get_attrs(tree, \u001b[39m'\u001b[39;49m\u001b[39m//a[@aria-label=\u001b[39;49m\u001b[39m\"\u001b[39;49m\u001b[39mCheck out more content from Similar\u001b[39;49m\u001b[39m\"\u001b[39;49m\u001b[39m]\u001b[39;49m\u001b[39m'\u001b[39;49m, \u001b[39m'\u001b[39;49m\u001b[39mhref\u001b[39;49m\u001b[39m'\u001b[39;49m)[\u001b[39m0\u001b[39;49m])\n",
      "File \u001b[0;32m~/anaconda3/envs/food/lib/python3.9/site-packages/play_store.py:46\u001b[0m, in \u001b[0;36m_get_apps\u001b[0;34m(url)\u001b[0m\n\u001b[1;32m     <a href='file:///home/dima/anaconda3/envs/food/lib/python3.9/site-packages/play_store.py?line=44'>45</a>\u001b[0m \u001b[39mdef\u001b[39;00m \u001b[39m_get_apps\u001b[39m(url):\n\u001b[0;32m---> <a href='file:///home/dima/anaconda3/envs/food/lib/python3.9/site-packages/play_store.py?line=45'>46</a>\u001b[0m     r \u001b[39m=\u001b[39m requests\u001b[39m.\u001b[39;49mget(url)\n\u001b[1;32m     <a href='file:///home/dima/anaconda3/envs/food/lib/python3.9/site-packages/play_store.py?line=46'>47</a>\u001b[0m     \u001b[39mif\u001b[39;00m r\u001b[39m.\u001b[39mstatus_code \u001b[39m!=\u001b[39m \u001b[39m200\u001b[39m:\n\u001b[1;32m     <a href='file:///home/dima/anaconda3/envs/food/lib/python3.9/site-packages/play_store.py?line=47'>48</a>\u001b[0m         \u001b[39mreturn\u001b[39;00m \u001b[39mNone\u001b[39;00m\n",
      "File \u001b[0;32m~/anaconda3/envs/food/lib/python3.9/site-packages/requests/api.py:75\u001b[0m, in \u001b[0;36mget\u001b[0;34m(url, params, **kwargs)\u001b[0m\n\u001b[1;32m     <a href='file:///home/dima/anaconda3/envs/food/lib/python3.9/site-packages/requests/api.py?line=63'>64</a>\u001b[0m \u001b[39mdef\u001b[39;00m \u001b[39mget\u001b[39m(url, params\u001b[39m=\u001b[39m\u001b[39mNone\u001b[39;00m, \u001b[39m*\u001b[39m\u001b[39m*\u001b[39mkwargs):\n\u001b[1;32m     <a href='file:///home/dima/anaconda3/envs/food/lib/python3.9/site-packages/requests/api.py?line=64'>65</a>\u001b[0m     \u001b[39mr\u001b[39m\u001b[39m\"\"\"Sends a GET request.\u001b[39;00m\n\u001b[1;32m     <a href='file:///home/dima/anaconda3/envs/food/lib/python3.9/site-packages/requests/api.py?line=65'>66</a>\u001b[0m \n\u001b[1;32m     <a href='file:///home/dima/anaconda3/envs/food/lib/python3.9/site-packages/requests/api.py?line=66'>67</a>\u001b[0m \u001b[39m    :param url: URL for the new :class:`Request` object.\u001b[39;00m\n\u001b[0;32m   (...)\u001b[0m\n\u001b[1;32m     <a href='file:///home/dima/anaconda3/envs/food/lib/python3.9/site-packages/requests/api.py?line=71'>72</a>\u001b[0m \u001b[39m    :rtype: requests.Response\u001b[39;00m\n\u001b[1;32m     <a href='file:///home/dima/anaconda3/envs/food/lib/python3.9/site-packages/requests/api.py?line=72'>73</a>\u001b[0m \u001b[39m    \"\"\"\u001b[39;00m\n\u001b[0;32m---> <a href='file:///home/dima/anaconda3/envs/food/lib/python3.9/site-packages/requests/api.py?line=74'>75</a>\u001b[0m     \u001b[39mreturn\u001b[39;00m request(\u001b[39m'\u001b[39;49m\u001b[39mget\u001b[39;49m\u001b[39m'\u001b[39;49m, url, params\u001b[39m=\u001b[39;49mparams, \u001b[39m*\u001b[39;49m\u001b[39m*\u001b[39;49mkwargs)\n",
      "File \u001b[0;32m~/anaconda3/envs/food/lib/python3.9/site-packages/requests/api.py:61\u001b[0m, in \u001b[0;36mrequest\u001b[0;34m(method, url, **kwargs)\u001b[0m\n\u001b[1;32m     <a href='file:///home/dima/anaconda3/envs/food/lib/python3.9/site-packages/requests/api.py?line=56'>57</a>\u001b[0m \u001b[39m# By using the 'with' statement we are sure the session is closed, thus we\u001b[39;00m\n\u001b[1;32m     <a href='file:///home/dima/anaconda3/envs/food/lib/python3.9/site-packages/requests/api.py?line=57'>58</a>\u001b[0m \u001b[39m# avoid leaving sockets open which can trigger a ResourceWarning in some\u001b[39;00m\n\u001b[1;32m     <a href='file:///home/dima/anaconda3/envs/food/lib/python3.9/site-packages/requests/api.py?line=58'>59</a>\u001b[0m \u001b[39m# cases, and look like a memory leak in others.\u001b[39;00m\n\u001b[1;32m     <a href='file:///home/dima/anaconda3/envs/food/lib/python3.9/site-packages/requests/api.py?line=59'>60</a>\u001b[0m \u001b[39mwith\u001b[39;00m sessions\u001b[39m.\u001b[39mSession() \u001b[39mas\u001b[39;00m session:\n\u001b[0;32m---> <a href='file:///home/dima/anaconda3/envs/food/lib/python3.9/site-packages/requests/api.py?line=60'>61</a>\u001b[0m     \u001b[39mreturn\u001b[39;00m session\u001b[39m.\u001b[39;49mrequest(method\u001b[39m=\u001b[39;49mmethod, url\u001b[39m=\u001b[39;49murl, \u001b[39m*\u001b[39;49m\u001b[39m*\u001b[39;49mkwargs)\n",
      "File \u001b[0;32m~/anaconda3/envs/food/lib/python3.9/site-packages/requests/sessions.py:529\u001b[0m, in \u001b[0;36mSession.request\u001b[0;34m(self, method, url, params, data, headers, cookies, files, auth, timeout, allow_redirects, proxies, hooks, stream, verify, cert, json)\u001b[0m\n\u001b[1;32m    <a href='file:///home/dima/anaconda3/envs/food/lib/python3.9/site-packages/requests/sessions.py?line=523'>524</a>\u001b[0m send_kwargs \u001b[39m=\u001b[39m {\n\u001b[1;32m    <a href='file:///home/dima/anaconda3/envs/food/lib/python3.9/site-packages/requests/sessions.py?line=524'>525</a>\u001b[0m     \u001b[39m'\u001b[39m\u001b[39mtimeout\u001b[39m\u001b[39m'\u001b[39m: timeout,\n\u001b[1;32m    <a href='file:///home/dima/anaconda3/envs/food/lib/python3.9/site-packages/requests/sessions.py?line=525'>526</a>\u001b[0m     \u001b[39m'\u001b[39m\u001b[39mallow_redirects\u001b[39m\u001b[39m'\u001b[39m: allow_redirects,\n\u001b[1;32m    <a href='file:///home/dima/anaconda3/envs/food/lib/python3.9/site-packages/requests/sessions.py?line=526'>527</a>\u001b[0m }\n\u001b[1;32m    <a href='file:///home/dima/anaconda3/envs/food/lib/python3.9/site-packages/requests/sessions.py?line=527'>528</a>\u001b[0m send_kwargs\u001b[39m.\u001b[39mupdate(settings)\n\u001b[0;32m--> <a href='file:///home/dima/anaconda3/envs/food/lib/python3.9/site-packages/requests/sessions.py?line=528'>529</a>\u001b[0m resp \u001b[39m=\u001b[39m \u001b[39mself\u001b[39;49m\u001b[39m.\u001b[39;49msend(prep, \u001b[39m*\u001b[39;49m\u001b[39m*\u001b[39;49msend_kwargs)\n\u001b[1;32m    <a href='file:///home/dima/anaconda3/envs/food/lib/python3.9/site-packages/requests/sessions.py?line=530'>531</a>\u001b[0m \u001b[39mreturn\u001b[39;00m resp\n",
      "File \u001b[0;32m~/anaconda3/envs/food/lib/python3.9/site-packages/requests/sessions.py:639\u001b[0m, in \u001b[0;36mSession.send\u001b[0;34m(self, request, **kwargs)\u001b[0m\n\u001b[1;32m    <a href='file:///home/dima/anaconda3/envs/food/lib/python3.9/site-packages/requests/sessions.py?line=635'>636</a>\u001b[0m hooks \u001b[39m=\u001b[39m request\u001b[39m.\u001b[39mhooks\n\u001b[1;32m    <a href='file:///home/dima/anaconda3/envs/food/lib/python3.9/site-packages/requests/sessions.py?line=637'>638</a>\u001b[0m \u001b[39m# Get the appropriate adapter to use\u001b[39;00m\n\u001b[0;32m--> <a href='file:///home/dima/anaconda3/envs/food/lib/python3.9/site-packages/requests/sessions.py?line=638'>639</a>\u001b[0m adapter \u001b[39m=\u001b[39m \u001b[39mself\u001b[39;49m\u001b[39m.\u001b[39;49mget_adapter(url\u001b[39m=\u001b[39;49mrequest\u001b[39m.\u001b[39;49murl)\n\u001b[1;32m    <a href='file:///home/dima/anaconda3/envs/food/lib/python3.9/site-packages/requests/sessions.py?line=640'>641</a>\u001b[0m \u001b[39m# Start time (approximately) of the request\u001b[39;00m\n\u001b[1;32m    <a href='file:///home/dima/anaconda3/envs/food/lib/python3.9/site-packages/requests/sessions.py?line=641'>642</a>\u001b[0m start \u001b[39m=\u001b[39m preferred_clock()\n",
      "File \u001b[0;32m~/anaconda3/envs/food/lib/python3.9/site-packages/requests/sessions.py:732\u001b[0m, in \u001b[0;36mSession.get_adapter\u001b[0;34m(self, url)\u001b[0m\n\u001b[1;32m    <a href='file:///home/dima/anaconda3/envs/food/lib/python3.9/site-packages/requests/sessions.py?line=728'>729</a>\u001b[0m         \u001b[39mreturn\u001b[39;00m adapter\n\u001b[1;32m    <a href='file:///home/dima/anaconda3/envs/food/lib/python3.9/site-packages/requests/sessions.py?line=730'>731</a>\u001b[0m \u001b[39m# Nothing matches :-/\u001b[39;00m\n\u001b[0;32m--> <a href='file:///home/dima/anaconda3/envs/food/lib/python3.9/site-packages/requests/sessions.py?line=731'>732</a>\u001b[0m \u001b[39mraise\u001b[39;00m InvalidSchema(\u001b[39m\"\u001b[39m\u001b[39mNo connection adapters were found for \u001b[39m\u001b[39m{!r}\u001b[39;00m\u001b[39m\"\u001b[39m\u001b[39m.\u001b[39mformat(url))\n",
      "\u001b[0;31mInvalidSchema\u001b[0m: No connection adapters were found for '/store/apps/collection/cluster?clp=ogogCBEqAggIMhgKEmNvbS5hbmRyb2lkLmNocm9tZRABGAM%3D:S:ANO1ljI-7S4&gsr=CiOiCiAIESoCCAgyGAoSY29tLmFuZHJvaWQuY2hyb21lEAEYAw%3D%3D:S:ANO1ljL4keg'"
     ]
    }
   ],
   "source": [
    "from  play_store import *\n",
    "\n",
    "app = App('com.android.chrome')"
   ]
  },
  {
   "cell_type": "code",
   "execution_count": 2,
   "metadata": {},
   "outputs": [
    {
     "name": "stdout",
     "output_type": "stream",
     "text": [
      "Converted 00_paths.ipynb.\n",
      "Converted 00_progress_check.ipynb.\n",
      "Converted 00_psql.ipynb.\n",
      "Converted 00_recreate_milvus.ipynb.\n",
      "Converted 00_tools.ipynb.\n",
      "Converted 02_onehot.ipynb.\n",
      "Converted 03_quantization.ipynb.\n",
      "Converted 04_milvus.ipynb.\n",
      "Converted 06_clip.ipynb.\n",
      "Converted 0_template copy.ipynb.\n",
      "Converted 0_template.ipynb.\n",
      "Converted milvus_dev.ipynb.\n"
     ]
    }
   ],
   "source": [
    "from food.tools import *\n",
    "from food.paths import *\n",
    "from food.psql import *\n",
    "\n",
    "import pandas as pd\n",
    "import numpy as np\n",
    "\n",
    "# !nbdev_build_lib"
   ]
  }
 ],
 "metadata": {
  "interpreter": {
   "hash": "1e1ee659a212ecca49d6a1809275141ef7642c152d6286fb803a43d965656456"
  },
  "kernelspec": {
   "display_name": "re",
   "language": "python",
   "name": "python3"
  },
  "language_info": {
   "codemirror_mode": {
    "name": "ipython",
    "version": 3
   },
   "file_extension": ".py",
   "mimetype": "text/x-python",
   "name": "python",
   "nbconvert_exporter": "python",
   "pygments_lexer": "ipython3",
   "version": "3.9.7"
  }
 },
 "nbformat": 4,
 "nbformat_minor": 4
}
