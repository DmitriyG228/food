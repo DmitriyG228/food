{
 "cells": [
  {
   "cell_type": "code",
   "execution_count": 19,
   "metadata": {},
   "outputs": [],
   "source": [
    "%load_ext autoreload\n",
    "%autoreload 2"
   ]
  },
  {
   "cell_type": "code",
   "execution_count": 20,
   "metadata": {},
   "outputs": [],
   "source": [
    "from food.qdrant import *"
   ]
  },
  {
   "cell_type": "code",
   "execution_count": 16,
   "metadata": {},
   "outputs": [],
   "source": [
    "from food.paths import *\n",
    "import pandas as pd\n",
    "from food.psql import *\n",
    "from food.tools import *"
   ]
  },
  {
   "cell_type": "code",
   "execution_count": 17,
   "metadata": {},
   "outputs": [
    {
     "data": {
      "text/plain": [
       "[PosixPath('/home/dima/data/reserence_images'),\n",
       " PosixPath('/home/dima/data/full'),\n",
       " PosixPath('/home/dima/data/app1.log'),\n",
       " PosixPath('/home/dima/data/branded'),\n",
       " PosixPath('/home/dima/data/FoundationFoods'),\n",
       " PosixPath('/home/dima/data/FNDDS'),\n",
       " PosixPath('/home/dima/data/support_data')]"
      ]
     },
     "execution_count": 17,
     "metadata": {},
     "output_type": "execute_result"
    }
   ],
   "source": [
    "data_path.ls()"
   ]
  },
  {
   "cell_type": "code",
   "execution_count": 18,
   "metadata": {},
   "outputs": [],
   "source": [
    "ff = (data_path/'full')"
   ]
  },
  {
   "cell_type": "code",
   "execution_count": 24,
   "metadata": {},
   "outputs": [],
   "source": [
    "df = pd.read_csv(ff/'food.csv')"
   ]
  },
  {
   "cell_type": "code",
   "execution_count": 47,
   "metadata": {},
   "outputs": [],
   "source": [
    "df = df[df['data_type']=='foundation_food']"
   ]
  },
  {
   "cell_type": "code",
   "execution_count": 61,
   "metadata": {},
   "outputs": [],
   "source": [
    "df = df[['description']].reset_index()\n",
    "df = df.rename(columns = {'index':'id'})"
   ]
  },
  {
   "cell_type": "code",
   "execution_count": 67,
   "metadata": {},
   "outputs": [
    {
     "data": {
      "text/html": [
       "<div>\n",
       "<style scoped>\n",
       "    .dataframe tbody tr th:only-of-type {\n",
       "        vertical-align: middle;\n",
       "    }\n",
       "\n",
       "    .dataframe tbody tr th {\n",
       "        vertical-align: top;\n",
       "    }\n",
       "\n",
       "    .dataframe thead th {\n",
       "        text-align: right;\n",
       "    }\n",
       "</style>\n",
       "<table border=\"1\" class=\"dataframe\">\n",
       "  <thead>\n",
       "    <tr style=\"text-align: right;\">\n",
       "      <th></th>\n",
       "      <th>id</th>\n",
       "      <th>description</th>\n",
       "    </tr>\n",
       "  </thead>\n",
       "  <tbody>\n",
       "    <tr>\n",
       "      <th>0</th>\n",
       "      <td>0</td>\n",
       "      <td>Hummus, commercial</td>\n",
       "    </tr>\n",
       "    <tr>\n",
       "      <th>1</th>\n",
       "      <td>1</td>\n",
       "      <td>Milk, reduced fat, fluid, 2% milkfat, with add...</td>\n",
       "    </tr>\n",
       "    <tr>\n",
       "      <th>2</th>\n",
       "      <td>2</td>\n",
       "      <td>Tomatoes, grape, raw</td>\n",
       "    </tr>\n",
       "    <tr>\n",
       "      <th>3</th>\n",
       "      <td>3</td>\n",
       "      <td>Salt, table, iodized</td>\n",
       "    </tr>\n",
       "    <tr>\n",
       "      <th>4</th>\n",
       "      <td>4</td>\n",
       "      <td>Beans, snap, green, canned, regular pack, drai...</td>\n",
       "    </tr>\n",
       "    <tr>\n",
       "      <th>...</th>\n",
       "      <td>...</td>\n",
       "      <td>...</td>\n",
       "    </tr>\n",
       "    <tr>\n",
       "      <th>218</th>\n",
       "      <td>218</td>\n",
       "      <td>Mushroom, enoki</td>\n",
       "    </tr>\n",
       "    <tr>\n",
       "      <th>219</th>\n",
       "      <td>219</td>\n",
       "      <td>Mushroom, crimini</td>\n",
       "    </tr>\n",
       "    <tr>\n",
       "      <th>220</th>\n",
       "      <td>220</td>\n",
       "      <td>Mushroom, maitake</td>\n",
       "    </tr>\n",
       "    <tr>\n",
       "      <th>221</th>\n",
       "      <td>221</td>\n",
       "      <td>Mushroom, beech</td>\n",
       "    </tr>\n",
       "    <tr>\n",
       "      <th>222</th>\n",
       "      <td>222</td>\n",
       "      <td>Mushroom, pioppini</td>\n",
       "    </tr>\n",
       "  </tbody>\n",
       "</table>\n",
       "<p>223 rows × 2 columns</p>\n",
       "</div>"
      ],
      "text/plain": [
       "      id                                        description\n",
       "0      0                                 Hummus, commercial\n",
       "1      1  Milk, reduced fat, fluid, 2% milkfat, with add...\n",
       "2      2                               Tomatoes, grape, raw\n",
       "3      3                               Salt, table, iodized\n",
       "4      4  Beans, snap, green, canned, regular pack, drai...\n",
       "..   ...                                                ...\n",
       "218  218                                    Mushroom, enoki\n",
       "219  219                                  Mushroom, crimini\n",
       "220  220                                  Mushroom, maitake\n",
       "221  221                                    Mushroom, beech\n",
       "222  222                                 Mushroom, pioppini\n",
       "\n",
       "[223 rows x 2 columns]"
      ]
     },
     "execution_count": 67,
     "metadata": {},
     "output_type": "execute_result"
    }
   ],
   "source": [
    "df"
   ]
  },
  {
   "cell_type": "code",
   "execution_count": 68,
   "metadata": {},
   "outputs": [],
   "source": [
    "df.to_sql('fundation_foods',schema='food',if_exists='append',con=engine,index=False)"
   ]
  },
  {
   "cell_type": "code",
   "execution_count": 42,
   "metadata": {},
   "outputs": [],
   "source": [
    "from food.qdrant import *"
   ]
  },
  {
   "cell_type": "code",
   "execution_count": 71,
   "metadata": {},
   "outputs": [],
   "source": [
    "from food.tools import *\n",
    "from food.paths import *\n",
    "from food.psql import *\n",
    "\n",
    "import pandas as pd\n",
    "import numpy as np\n",
    "from tqdm import tqdm\n",
    "import food.custom_pandas as cpd\n",
    "\n",
    "from food.qdrant import *\n",
    "\n",
    "\n",
    "project_name = \"food\"\n",
    "dim = 768\n",
    "limit = 100000\n",
    "\n"
   ]
  },
  {
   "cell_type": "code",
   "execution_count": 90,
   "metadata": {},
   "outputs": [],
   "source": [
    "table = 'fundation_foods'"
   ]
  },
  {
   "cell_type": "code",
   "execution_count": 91,
   "metadata": {},
   "outputs": [
    {
     "data": {
      "text/plain": [
       "'food'"
      ]
     },
     "execution_count": 91,
     "metadata": {},
     "output_type": "execute_result"
    }
   ],
   "source": [
    "project_name"
   ]
  },
  {
   "cell_type": "code",
   "execution_count": 92,
   "metadata": {},
   "outputs": [
    {
     "data": {
      "text/html": [
       "<div>\n",
       "<style scoped>\n",
       "    .dataframe tbody tr th:only-of-type {\n",
       "        vertical-align: middle;\n",
       "    }\n",
       "\n",
       "    .dataframe tbody tr th {\n",
       "        vertical-align: top;\n",
       "    }\n",
       "\n",
       "    .dataframe thead th {\n",
       "        text-align: right;\n",
       "    }\n",
       "</style>\n",
       "<table border=\"1\" class=\"dataframe\">\n",
       "  <thead>\n",
       "    <tr style=\"text-align: right;\">\n",
       "      <th></th>\n",
       "      <th>id</th>\n",
       "      <th>description</th>\n",
       "      <th>clip</th>\n",
       "    </tr>\n",
       "  </thead>\n",
       "  <tbody>\n",
       "    <tr>\n",
       "      <th>0</th>\n",
       "      <td>0</td>\n",
       "      <td>Hummus, commercial</td>\n",
       "      <td>[-0.02546718, -0.013269787, -0.009073956, -0.0...</td>\n",
       "    </tr>\n",
       "    <tr>\n",
       "      <th>1</th>\n",
       "      <td>1</td>\n",
       "      <td>Milk, reduced fat, fluid, 2% milkfat, with add...</td>\n",
       "      <td>[0.0063349595, 0.013251174, 0.006614223, 0.056...</td>\n",
       "    </tr>\n",
       "    <tr>\n",
       "      <th>2</th>\n",
       "      <td>2</td>\n",
       "      <td>Tomatoes, grape, raw</td>\n",
       "      <td>[0.06749406, 0.011973576, 0.0036271457, -0.016...</td>\n",
       "    </tr>\n",
       "    <tr>\n",
       "      <th>3</th>\n",
       "      <td>3</td>\n",
       "      <td>Salt, table, iodized</td>\n",
       "      <td>[0.0014464495, 0.04146881, 0.0153899435, -0.02...</td>\n",
       "    </tr>\n",
       "    <tr>\n",
       "      <th>4</th>\n",
       "      <td>4</td>\n",
       "      <td>Beans, snap, green, canned, regular pack, drai...</td>\n",
       "      <td>[0.030651499, 0.045894135, 0.029624652, 0.0097...</td>\n",
       "    </tr>\n",
       "    <tr>\n",
       "      <th>...</th>\n",
       "      <td>...</td>\n",
       "      <td>...</td>\n",
       "      <td>...</td>\n",
       "    </tr>\n",
       "    <tr>\n",
       "      <th>218</th>\n",
       "      <td>218</td>\n",
       "      <td>Mushroom, enoki</td>\n",
       "      <td>[0.06986512, 0.023284465, 0.02792236, -0.00119...</td>\n",
       "    </tr>\n",
       "    <tr>\n",
       "      <th>219</th>\n",
       "      <td>219</td>\n",
       "      <td>Mushroom, crimini</td>\n",
       "      <td>[0.059809633, 0.026994426, 0.022661524, 0.0117...</td>\n",
       "    </tr>\n",
       "    <tr>\n",
       "      <th>220</th>\n",
       "      <td>220</td>\n",
       "      <td>Mushroom, maitake</td>\n",
       "      <td>[0.051199224, 0.0240749, 0.023576245, 0.008109...</td>\n",
       "    </tr>\n",
       "    <tr>\n",
       "      <th>221</th>\n",
       "      <td>221</td>\n",
       "      <td>Mushroom, beech</td>\n",
       "      <td>[0.05649968, 0.06563859, 0.018384956, 0.004621...</td>\n",
       "    </tr>\n",
       "    <tr>\n",
       "      <th>222</th>\n",
       "      <td>222</td>\n",
       "      <td>Mushroom, pioppini</td>\n",
       "      <td>[0.06863687, 0.018124226, 0.02678829, -0.00303...</td>\n",
       "    </tr>\n",
       "  </tbody>\n",
       "</table>\n",
       "<p>223 rows × 3 columns</p>\n",
       "</div>"
      ],
      "text/plain": [
       "      id                                        description  \\\n",
       "0      0                                 Hummus, commercial   \n",
       "1      1  Milk, reduced fat, fluid, 2% milkfat, with add...   \n",
       "2      2                               Tomatoes, grape, raw   \n",
       "3      3                               Salt, table, iodized   \n",
       "4      4  Beans, snap, green, canned, regular pack, drai...   \n",
       "..   ...                                                ...   \n",
       "218  218                                    Mushroom, enoki   \n",
       "219  219                                  Mushroom, crimini   \n",
       "220  220                                  Mushroom, maitake   \n",
       "221  221                                    Mushroom, beech   \n",
       "222  222                                 Mushroom, pioppini   \n",
       "\n",
       "                                                  clip  \n",
       "0    [-0.02546718, -0.013269787, -0.009073956, -0.0...  \n",
       "1    [0.0063349595, 0.013251174, 0.006614223, 0.056...  \n",
       "2    [0.06749406, 0.011973576, 0.0036271457, -0.016...  \n",
       "3    [0.0014464495, 0.04146881, 0.0153899435, -0.02...  \n",
       "4    [0.030651499, 0.045894135, 0.029624652, 0.0097...  \n",
       "..                                                 ...  \n",
       "218  [0.06986512, 0.023284465, 0.02792236, -0.00119...  \n",
       "219  [0.059809633, 0.026994426, 0.022661524, 0.0117...  \n",
       "220  [0.051199224, 0.0240749, 0.023576245, 0.008109...  \n",
       "221  [0.05649968, 0.06563859, 0.018384956, 0.004621...  \n",
       "222  [0.06863687, 0.018124226, 0.02678829, -0.00303...  \n",
       "\n",
       "[223 rows x 3 columns]"
      ]
     },
     "execution_count": 92,
     "metadata": {},
     "output_type": "execute_result"
    }
   ],
   "source": [
    "df"
   ]
  },
  {
   "cell_type": "code",
   "execution_count": 95,
   "metadata": {},
   "outputs": [
    {
     "name": "stderr",
     "output_type": "stream",
     "text": [
      "qdrant_update {project_name}: 0it [00:00, ?it/s]2022-05-16 00:37:37.825 | INFO     | qdrant_client.parallel_processor:_worker:45 - Reader worker: 0 PID: 121242\n",
      "2022-05-16 00:37:37.844 | INFO     | qdrant_client.parallel_processor:_worker:45 - Reader worker: 1 PID: 121245\n",
      "2022-05-16 00:37:37.860 | INFO     | qdrant_client.parallel_processor:_worker:45 - Reader worker: 2 PID: 121248\n",
      "2022-05-16 00:37:37.875 | INFO     | qdrant_client.parallel_processor:_worker:45 - Reader worker: 3 PID: 121251\n",
      "\n",
      "2022-05-16 00:37:37.967 | INFO     | qdrant_client.parallel_processor:_worker:77 - Reader worker 3 finished2022-05-16 00:37:38.034 | INFO     | qdrant_client.parallel_processor:_worker:77 - Reader worker 1 finished\n",
      "2022-05-16 00:37:38.075 | INFO     | qdrant_client.parallel_processor:_worker:77 - Reader worker 0 finished\n",
      "4it [00:00, 14.61it/s]\n",
      "qdrant_update {project_name}: 1it [00:00,  3.06it/s]2022-05-16 00:37:38.080 | INFO     | qdrant_client.parallel_processor:_worker:77 - Reader worker 2 finished\n",
      "qdrant_update {project_name}: 1it [00:00,  3.04it/s]\n"
     ]
    }
   ],
   "source": [
    "\n",
    "\n",
    "query = f\"\"\"select f.id,f.description, f.clip as clip\n",
    "        FROM      {project_name}.{table}    f\n",
    "\n",
    "        WHERE clip    is not null\n",
    "        \"\"\"\n",
    "\n",
    "\n",
    "\n",
    "for df in tqdm(cpd.read_sql_query(query, engine, chunksize=limit), desc=\"qdrant_update {project_name}\"):\n",
    "\n",
    "    ids = df['id'].tolist()\n",
    "    clip = df['clip']\n",
    "    clip = np.array([np.array(c) for c in clip.values])\n",
    "\n",
    "    df = df.fillna('0')\n",
    "\n",
    "\n",
    "    payload = df.drop(columns = ['id','clip']).to_dict('records')\n",
    "\n",
    "    client.upload_collection(\n",
    "        collection_name='fundation_food',\n",
    "        vectors=clip,\n",
    "        payload=payload,\n",
    "        ids=ids,\n",
    "        parallel=4\n",
    "    )"
   ]
  },
  {
   "cell_type": "code",
   "execution_count": 96,
   "metadata": {},
   "outputs": [
    {
     "data": {
      "text/plain": [
       "223"
      ]
     },
     "execution_count": 96,
     "metadata": {},
     "output_type": "execute_result"
    }
   ],
   "source": [
    "client.collection_len('fundation_food')"
   ]
  },
  {
   "cell_type": "code",
   "execution_count": null,
   "metadata": {},
   "outputs": [],
   "source": []
  }
 ],
 "metadata": {
  "interpreter": {
   "hash": "1e1ee659a212ecca49d6a1809275141ef7642c152d6286fb803a43d965656456"
  },
  "kernelspec": {
   "display_name": "re",
   "language": "python",
   "name": "python3"
  },
  "language_info": {
   "codemirror_mode": {
    "name": "ipython",
    "version": 3
   },
   "file_extension": ".py",
   "mimetype": "text/x-python",
   "name": "python",
   "nbconvert_exporter": "python",
   "pygments_lexer": "ipython3",
   "version": "3.9.7"
  }
 },
 "nbformat": 4,
 "nbformat_minor": 4
}
