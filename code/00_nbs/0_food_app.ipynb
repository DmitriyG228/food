{
 "cells": [
  {
   "cell_type": "code",
   "execution_count": 1,
   "id": "4b2ed1d5-12f2-48ea-9241-97d59ca2d602",
   "metadata": {},
   "outputs": [],
   "source": [
    "#| default_exp food_app"
   ]
  },
  {
   "cell_type": "code",
   "execution_count": 2,
   "id": "afd162fd-8798-4453-8fac-1151a4c4e464",
   "metadata": {},
   "outputs": [],
   "source": [
    "# cd; conda activate food_product; cd food_prod; python 0_food_app.py &>>$HOME/app1.log & disown\n"
   ]
  },
  {
   "cell_type": "code",
   "execution_count": 3,
   "id": "9d1d258f-571b-4ab3-964a-757d8af64c85",
   "metadata": {},
   "outputs": [],
   "source": [
    "import sys\n",
    "sys.path.insert(0,'..')"
   ]
  },
  {
   "cell_type": "code",
   "execution_count": 4,
   "id": "29a55dcb-bd6d-4cc5-9159-caebb00b7e0f",
   "metadata": {},
   "outputs": [],
   "source": [
    "from food.paths import *\n",
    "from food.paths import bot_token,env"
   ]
  },
  {
   "cell_type": "code",
   "execution_count": 5,
   "id": "5b818662-9c0b-44b4-a660-7f1c7f126ed1",
   "metadata": {},
   "outputs": [
    {
     "name": "stdout",
     "output_type": "stream",
     "text": [
      "dev\n"
     ]
    },
    {
     "data": {
      "text/plain": [
       "[Every 5 seconds do functools.partial(<function <lambda> at 0x7fb51c5f4550>, 'bot')('bot') (last run: [never], next run: 2022-08-23 20:39:16)]"
      ]
     },
     "execution_count": 5,
     "metadata": {},
     "output_type": "execute_result"
    }
   ],
   "source": [
    "#| export\n",
    "# cd; conda activate food_product; cd food_prod; python 0_food_app.py &>>$HOME/app1.log & disown\n",
    "\n",
    "from tendo import singleton\n",
    "me = singleton.SingleInstance()\n",
    "\n",
    "import pandas as pd\n",
    "import numpy as np\n",
    "from mytools.tools import *\n",
    "from food.psql import *\n",
    "from food.paths import *\n",
    "\n",
    "from time import sleep\n",
    "\n",
    "######default_exp psql\n",
    "\n",
    "import os\n",
    "os.environ['MKL_THREADING_LAYER'] = 'GNU'\n",
    "import schedule\n",
    "from pathlib import Path\n",
    "import os\n",
    "from functools import partial\n",
    "\n",
    "bash_command       = lambda x : os.system(f'cd ; conda run -n {env} python $HOME/{location}/00_scripts/\"{x}\".py &>>$HOME/output/\"{x}\".log')\n",
    "kill_command       = lambda x : os.system(f'pkill -f {x}')\n",
    "\n",
    "\n",
    "scheduler = schedule.Scheduler()\n",
    "\n",
    "constant_procs = ['bot']\n",
    "\n",
    "\n",
    "[scheduler.every(5).seconds.do(partial(bash_command,p)) for p in constant_procs]"
   ]
  },
  {
   "cell_type": "code",
   "execution_count": 9,
   "id": "7334a7f6-f6d6-4ebf-b2b9-f621c3d52b9e",
   "metadata": {},
   "outputs": [
    {
     "data": {
      "text/plain": [
       "'food_dev/code'"
      ]
     },
     "execution_count": 9,
     "metadata": {},
     "output_type": "execute_result"
    }
   ],
   "source": [
    "location"
   ]
  },
  {
   "cell_type": "code",
   "execution_count": 6,
   "id": "7fa11e87-9527-4028-ac4b-60710e2d7e1d",
   "metadata": {},
   "outputs": [
    {
     "data": {
      "text/plain": [
       "0"
      ]
     },
     "execution_count": 6,
     "metadata": {},
     "output_type": "execute_result"
    },
    {
     "name": "stderr",
     "output_type": "stream",
     "text": [
      "Traceback (most recent call last):\n",
      "  File \"/home/dima/food_dev/code/00_scripts/bot.py\", line 3, in <module>\n",
      "    from food.bot import *\n",
      "ModuleNotFoundError: No module named 'food'\n",
      "\n",
      "ERROR conda.cli.main_run:execute(49): `conda run python /home/dima/food_dev/code/00_scripts/bot.py` failed. (See above for error)\n"
     ]
    }
   ],
   "source": [
    "bash_command('bot')"
   ]
  },
  {
   "cell_type": "code",
   "execution_count": null,
   "id": "e015a0f2-3fc2-4af0-b7c0-a69f43205a37",
   "metadata": {},
   "outputs": [],
   "source": []
  },
  {
   "cell_type": "code",
   "execution_count": null,
   "id": "d7238359-d10f-4cf6-b7cf-ba8cc7269f2b",
   "metadata": {},
   "outputs": [],
   "source": [
    "while True: \n",
    "    scheduler.run_pending()\n",
    "    sleep(5)"
   ]
  }
 ],
 "metadata": {
  "kernelspec": {
   "display_name": "f1",
   "language": "python",
   "name": "f1"
  },
  "language_info": {
   "codemirror_mode": {
    "name": "ipython",
    "version": 3
   },
   "file_extension": ".py",
   "mimetype": "text/x-python",
   "name": "python",
   "nbconvert_exporter": "python",
   "pygments_lexer": "ipython3",
   "version": "3.9.12"
  }
 },
 "nbformat": 4,
 "nbformat_minor": 5
}
