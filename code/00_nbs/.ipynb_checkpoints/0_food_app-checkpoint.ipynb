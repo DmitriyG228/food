{
 "cells": [
  {
   "cell_type": "code",
   "execution_count": 6,
   "id": "4b2ed1d5-12f2-48ea-9241-97d59ca2d602",
   "metadata": {},
   "outputs": [],
   "source": [
    "#| default_exp food_app"
   ]
  },
  {
   "cell_type": "code",
   "execution_count": 7,
   "id": "afd162fd-8798-4453-8fac-1151a4c4e464",
   "metadata": {},
   "outputs": [],
   "source": [
    "# cd; conda activate food_product; cd food_prod; python 0_food_app.py &>>$HOME/app1.log & disown\n"
   ]
  },
  {
   "cell_type": "code",
   "execution_count": 8,
   "id": "9d1d258f-571b-4ab3-964a-757d8af64c85",
   "metadata": {},
   "outputs": [],
   "source": [
    "import sys\n",
    "sys.path.insert(0,'..')"
   ]
  },
  {
   "cell_type": "code",
   "execution_count": 9,
   "id": "cc2718c4-7b47-4c2f-9241-c296acb00ef2",
   "metadata": {},
   "outputs": [],
   "source": [
    "from food.paths import *"
   ]
  },
  {
   "cell_type": "code",
   "execution_count": 10,
   "id": "6513a40d-5753-4a83-9ce0-d657c2267a18",
   "metadata": {},
   "outputs": [
    {
     "data": {
      "text/plain": [
       "'food_dev/code'"
      ]
     },
     "execution_count": 10,
     "metadata": {},
     "output_type": "execute_result"
    }
   ],
   "source": [
    "location"
   ]
  },
  {
   "cell_type": "code",
   "execution_count": 11,
   "id": "8564ec7c-729d-43b2-bb89-82906cb5fba9",
   "metadata": {},
   "outputs": [
    {
     "data": {
      "text/plain": [
       "'dev'"
      ]
     },
     "execution_count": 11,
     "metadata": {},
     "output_type": "execute_result"
    }
   ],
   "source": [
    "branch"
   ]
  },
  {
   "cell_type": "code",
   "execution_count": 7,
   "id": "691b618d-0787-424f-9d74-f47e4fb47852",
   "metadata": {},
   "outputs": [
    {
     "ename": "NameError",
     "evalue": "name 'bot_token' is not defined",
     "output_type": "error",
     "traceback": [
      "\u001b[0;31m---------------------------------------------------------------------------\u001b[0m",
      "\u001b[0;31mNameError\u001b[0m                                 Traceback (most recent call last)",
      "Input \u001b[0;32mIn [7]\u001b[0m, in \u001b[0;36m<cell line: 1>\u001b[0;34m()\u001b[0m\n\u001b[0;32m----> 1\u001b[0m \u001b[43mbot_token\u001b[49m\n",
      "\u001b[0;31mNameError\u001b[0m: name 'bot_token' is not defined"
     ]
    }
   ],
   "source": [
    "bot_token"
   ]
  },
  {
   "cell_type": "code",
   "execution_count": 17,
   "id": "44fe81a9-bf96-48b1-a128-2ab81afd5e0e",
   "metadata": {},
   "outputs": [
    {
     "ename": "NameError",
     "evalue": "name 'folder_name' is not defined",
     "output_type": "error",
     "traceback": [
      "\u001b[0;31m---------------------------------------------------------------------------\u001b[0m",
      "\u001b[0;31mNameError\u001b[0m                                 Traceback (most recent call last)",
      "Input \u001b[0;32mIn [17]\u001b[0m, in \u001b[0;36m<cell line: 1>\u001b[0;34m()\u001b[0m\n\u001b[0;32m----> 1\u001b[0m \u001b[43mfolder_name\u001b[49m\n",
      "\u001b[0;31mNameError\u001b[0m: name 'folder_name' is not defined"
     ]
    }
   ],
   "source": [
    "folder_name"
   ]
  },
  {
   "cell_type": "code",
   "execution_count": null,
   "id": "00121c75-61b8-40d7-925e-62ffa0f2698c",
   "metadata": {},
   "outputs": [],
   "source": [
    "#| export\n",
    "# cd; conda activate food_product; cd food_prod; python 0_food_app.py &>>$HOME/app1.log & disown\n",
    "\n",
    "from tendo import singleton\n",
    "me = singleton.SingleInstance()\n",
    "\n",
    "import pandas as pd\n",
    "import numpy as np\n",
    "from food.tools import *\n",
    "from food.psql import *\n",
    "from food.paths import *\n",
    "\n",
    "from time import sleep\n",
    "\n",
    "######default_exp psql\n",
    "\n",
    "from food.tools import docker_container\n",
    "import os\n",
    "os.environ['MKL_THREADING_LAYER'] = 'GNU'\n",
    "import schedule\n",
    "from pathlib import Path\n",
    "import os\n",
    "from functools import partial\n",
    "\n",
    "bash_command       = lambda x : os.system(f'cd $HOME/{stage}; conda run -n food_product python \"{x}\".py &>>$HOME/\"{x}\".log')\n",
    "kill_command       = lambda x : os.system(f'pkill -f {x}')\n",
    "start_docker       = lambda x :  docker_container(x).start()\n",
    "\n",
    "\n",
    "scheduler = schedule.Scheduler()\n",
    "\n",
    "constant_procs = ['bot']\n",
    "\n",
    "docker_containers = ['psql_food_prod','qdrant_prod_2206']\n",
    "\n",
    "[scheduler.every(5).seconds.do(partial(bash_command,p)) for p in constant_procs]\n",
    "[scheduler.every(5).seconds.do(partial(start_docker,p)) for p in docker_containers]\n",
    "\n",
    "while True: \n",
    "    scheduler.run_pending()\n",
    "    sleep(5)"
   ]
  }
 ],
 "metadata": {
  "kernelspec": {
   "display_name": "f1",
   "language": "python",
   "name": "f1"
  },
  "language_info": {
   "codemirror_mode": {
    "name": "ipython",
    "version": 3
   },
   "file_extension": ".py",
   "mimetype": "text/x-python",
   "name": "python",
   "nbconvert_exporter": "python",
   "pygments_lexer": "ipython3",
   "version": "3.9.12"
  }
 },
 "nbformat": 4,
 "nbformat_minor": 5
}
