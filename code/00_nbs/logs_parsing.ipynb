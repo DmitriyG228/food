{
 "cells": [
  {
   "cell_type": "code",
   "execution_count": 1,
   "id": "a81dd59e-aa57-4e46-873a-600e57f72735",
   "metadata": {},
   "outputs": [],
   "source": [
    "import sys\n",
    "sys.path.insert(0,'..')"
   ]
  },
  {
   "cell_type": "code",
   "execution_count": null,
   "id": "1b989153-be5c-49a2-aaa7-8de994f01cc9",
   "metadata": {},
   "outputs": [],
   "source": []
  },
  {
   "cell_type": "code",
   "execution_count": 2,
   "id": "39e92035-eb3c-4fc8-a62a-6ade3525854b",
   "metadata": {},
   "outputs": [],
   "source": [
    "import pandas as pd"
   ]
  },
  {
   "cell_type": "code",
   "execution_count": 3,
   "id": "ec6e8129-bf21-44a9-8912-d3f83dc24ec2",
   "metadata": {},
   "outputs": [
    {
     "name": "stdout",
     "output_type": "stream",
     "text": [
      "prod\n"
     ]
    }
   ],
   "source": [
    "from food.psql import *\n",
    "from food.paths import *\n",
    "from mytools.paths import *\n",
    "from mytools.tools import *"
   ]
  },
  {
   "cell_type": "code",
   "execution_count": 4,
   "id": "86e03464-03e8-4c75-8d50-c498f91e06e4",
   "metadata": {},
   "outputs": [],
   "source": [
    "output_path = main_path/'output'"
   ]
  },
  {
   "cell_type": "code",
   "execution_count": 37,
   "id": "d7dcbd18-3d70-4645-ad67-4065bc7cea97",
   "metadata": {},
   "outputs": [],
   "source": [
    "files = path_info(output_path).sort_values(\"time\")"
   ]
  },
  {
   "cell_type": "code",
   "execution_count": 38,
   "id": "48955c30-7699-46f2-ad9c-ef33d9e9e562",
   "metadata": {},
   "outputs": [
    {
     "data": {
      "text/html": [
       "<div>\n",
       "<style scoped>\n",
       "    .dataframe tbody tr th:only-of-type {\n",
       "        vertical-align: middle;\n",
       "    }\n",
       "\n",
       "    .dataframe tbody tr th {\n",
       "        vertical-align: top;\n",
       "    }\n",
       "\n",
       "    .dataframe thead th {\n",
       "        text-align: right;\n",
       "    }\n",
       "</style>\n",
       "<table border=\"1\" class=\"dataframe\">\n",
       "  <thead>\n",
       "    <tr style=\"text-align: right;\">\n",
       "      <th></th>\n",
       "      <th>path</th>\n",
       "      <th>name</th>\n",
       "      <th>time</th>\n",
       "      <th>size</th>\n",
       "    </tr>\n",
       "  </thead>\n",
       "  <tbody>\n",
       "    <tr>\n",
       "      <th>2</th>\n",
       "      <td>/home/dima/output/photos_resize.log</td>\n",
       "      <td>photos_resize.log</td>\n",
       "      <td>2022-05-13 15:00:35.101253748</td>\n",
       "      <td>0.000000</td>\n",
       "    </tr>\n",
       "    <tr>\n",
       "      <th>6</th>\n",
       "      <td>/home/dima/output/inference.log</td>\n",
       "      <td>inference.log</td>\n",
       "      <td>2022-05-13 15:00:35.101253748</td>\n",
       "      <td>0.000000</td>\n",
       "    </tr>\n",
       "    <tr>\n",
       "      <th>1</th>\n",
       "      <td>/home/dima/output/dash_interface.log</td>\n",
       "      <td>dash_interface.log</td>\n",
       "      <td>2022-05-14 15:37:04.558167219</td>\n",
       "      <td>0.000000</td>\n",
       "    </tr>\n",
       "    <tr>\n",
       "      <th>4</th>\n",
       "      <td>/home/dima/output/qdrant_update.log</td>\n",
       "      <td>qdrant_update.log</td>\n",
       "      <td>2022-05-14 15:37:04.562167406</td>\n",
       "      <td>0.000000</td>\n",
       "    </tr>\n",
       "    <tr>\n",
       "      <th>5</th>\n",
       "      <td>/home/dima/output/update_qdrant.log</td>\n",
       "      <td>update_qdrant.log</td>\n",
       "      <td>2022-05-14 17:57:53.892925739</td>\n",
       "      <td>0.000000</td>\n",
       "    </tr>\n",
       "    <tr>\n",
       "      <th>8</th>\n",
       "      <td>/home/dima/output/glovo_api.log</td>\n",
       "      <td>glovo_api.log</td>\n",
       "      <td>2022-06-03 10:29:58.123093128</td>\n",
       "      <td>0.000000</td>\n",
       "    </tr>\n",
       "    <tr>\n",
       "      <th>9</th>\n",
       "      <td>/home/dima/output/api.log</td>\n",
       "      <td>api.log</td>\n",
       "      <td>2022-06-03 10:32:40.133922815</td>\n",
       "      <td>28.221851</td>\n",
       "    </tr>\n",
       "    <tr>\n",
       "      <th>0</th>\n",
       "      <td>/home/dima/output/reloadapi.log</td>\n",
       "      <td>reloadapi.log</td>\n",
       "      <td>2022-06-04 11:04:19.167357922</td>\n",
       "      <td>0.000000</td>\n",
       "    </tr>\n",
       "    <tr>\n",
       "      <th>7</th>\n",
       "      <td>/home/dima/output/app1.log</td>\n",
       "      <td>app1.log</td>\n",
       "      <td>2022-08-22 15:38:16.515069485</td>\n",
       "      <td>0.000187</td>\n",
       "    </tr>\n",
       "    <tr>\n",
       "      <th>3</th>\n",
       "      <td>/home/dima/output/bot.log</td>\n",
       "      <td>bot.log</td>\n",
       "      <td>2022-08-27 13:35:02.207113743</td>\n",
       "      <td>3.289953</td>\n",
       "    </tr>\n",
       "    <tr>\n",
       "      <th>10</th>\n",
       "      <td>/home/dima/output/app.log</td>\n",
       "      <td>app.log</td>\n",
       "      <td>2022-08-27 13:35:04.947325230</td>\n",
       "      <td>2970.167594</td>\n",
       "    </tr>\n",
       "  </tbody>\n",
       "</table>\n",
       "</div>"
      ],
      "text/plain": [
       "                                    path                name  \\\n",
       "2    /home/dima/output/photos_resize.log   photos_resize.log   \n",
       "6        /home/dima/output/inference.log       inference.log   \n",
       "1   /home/dima/output/dash_interface.log  dash_interface.log   \n",
       "4    /home/dima/output/qdrant_update.log   qdrant_update.log   \n",
       "5    /home/dima/output/update_qdrant.log   update_qdrant.log   \n",
       "8        /home/dima/output/glovo_api.log       glovo_api.log   \n",
       "9              /home/dima/output/api.log             api.log   \n",
       "0        /home/dima/output/reloadapi.log       reloadapi.log   \n",
       "7             /home/dima/output/app1.log            app1.log   \n",
       "3              /home/dima/output/bot.log             bot.log   \n",
       "10             /home/dima/output/app.log             app.log   \n",
       "\n",
       "                            time         size  \n",
       "2  2022-05-13 15:00:35.101253748     0.000000  \n",
       "6  2022-05-13 15:00:35.101253748     0.000000  \n",
       "1  2022-05-14 15:37:04.558167219     0.000000  \n",
       "4  2022-05-14 15:37:04.562167406     0.000000  \n",
       "5  2022-05-14 17:57:53.892925739     0.000000  \n",
       "8  2022-06-03 10:29:58.123093128     0.000000  \n",
       "9  2022-06-03 10:32:40.133922815    28.221851  \n",
       "0  2022-06-04 11:04:19.167357922     0.000000  \n",
       "7  2022-08-22 15:38:16.515069485     0.000187  \n",
       "3  2022-08-27 13:35:02.207113743     3.289953  \n",
       "10 2022-08-27 13:35:04.947325230  2970.167594  "
      ]
     },
     "execution_count": 38,
     "metadata": {},
     "output_type": "execute_result"
    }
   ],
   "source": [
    "files"
   ]
  },
  {
   "cell_type": "code",
   "execution_count": 39,
   "id": "d708b714-546d-4734-a399-534ba18d9bfa",
   "metadata": {},
   "outputs": [],
   "source": [
    "p = files['path'].iloc[-2]"
   ]
  },
  {
   "cell_type": "code",
   "execution_count": 40,
   "id": "9a696108-157f-4441-bc7a-2825de6865e0",
   "metadata": {},
   "outputs": [
    {
     "data": {
      "text/plain": [
       "PosixPath('/home/dima/output/bot.log')"
      ]
     },
     "execution_count": 40,
     "metadata": {},
     "output_type": "execute_result"
    }
   ],
   "source": [
    "p"
   ]
  },
  {
   "cell_type": "code",
   "execution_count": 41,
   "id": "733f8f35-ac97-438e-bc5a-d563a2cb3cb9",
   "metadata": {},
   "outputs": [],
   "source": [
    "log = pd.read_csv(p, sep=r'\\\\t', engine='python')"
   ]
  },
  {
   "cell_type": "code",
   "execution_count": 42,
   "id": "1717a5df-a919-4438-b38d-620d57bd2386",
   "metadata": {},
   "outputs": [],
   "source": [
    "log.columns = ['log']"
   ]
  },
  {
   "cell_type": "code",
   "execution_count": 43,
   "id": "2880b973-1144-4c8f-aad4-aba5c40a1fe8",
   "metadata": {},
   "outputs": [
    {
     "data": {
      "text/plain": [
       "53513"
      ]
     },
     "execution_count": 43,
     "metadata": {},
     "output_type": "execute_result"
    }
   ],
   "source": [
    "len(log)"
   ]
  },
  {
   "cell_type": "code",
   "execution_count": 44,
   "id": "ebb20080-22aa-4dbd-a373-dd19ee1c9e5a",
   "metadata": {},
   "outputs": [
    {
     "data": {
      "text/html": [
       "<div>\n",
       "<style scoped>\n",
       "    .dataframe tbody tr th:only-of-type {\n",
       "        vertical-align: middle;\n",
       "    }\n",
       "\n",
       "    .dataframe tbody tr th {\n",
       "        vertical-align: top;\n",
       "    }\n",
       "\n",
       "    .dataframe thead th {\n",
       "        text-align: right;\n",
       "    }\n",
       "</style>\n",
       "<table border=\"1\" class=\"dataframe\">\n",
       "  <thead>\n",
       "    <tr style=\"text-align: right;\">\n",
       "      <th></th>\n",
       "      <th>log</th>\n",
       "    </tr>\n",
       "  </thead>\n",
       "  <tbody>\n",
       "    <tr>\n",
       "      <th>1528</th>\n",
       "      <td>logger.debug({'func':'start_command','id_key':...</td>\n",
       "    </tr>\n",
       "    <tr>\n",
       "      <th>1656</th>\n",
       "      <td>logger.debug({'func':'start_command','id_key':...</td>\n",
       "    </tr>\n",
       "    <tr>\n",
       "      <th>1724</th>\n",
       "      <td>logger.debug({'func':'start_command','id_key':...</td>\n",
       "    </tr>\n",
       "    <tr>\n",
       "      <th>1792</th>\n",
       "      <td>logger.debug({'func':'start_command','id_key':...</td>\n",
       "    </tr>\n",
       "    <tr>\n",
       "      <th>9805</th>\n",
       "      <td>logger.debug({'func':'start_command','id_key':...</td>\n",
       "    </tr>\n",
       "  </tbody>\n",
       "</table>\n",
       "</div>"
      ],
      "text/plain": [
       "                                                    log\n",
       "1528  logger.debug({'func':'start_command','id_key':...\n",
       "1656  logger.debug({'func':'start_command','id_key':...\n",
       "1724  logger.debug({'func':'start_command','id_key':...\n",
       "1792  logger.debug({'func':'start_command','id_key':...\n",
       "9805  logger.debug({'func':'start_command','id_key':..."
      ]
     },
     "execution_count": 44,
     "metadata": {},
     "output_type": "execute_result"
    }
   ],
   "source": [
    "log[log['log'].str.contains('logger')].tail(20)"
   ]
  },
  {
   "cell_type": "code",
   "execution_count": 35,
   "id": "d991bda5-5fe7-4858-93c8-47a0ce56d38c",
   "metadata": {},
   "outputs": [],
   "source": [
    "n = 9805"
   ]
  },
  {
   "cell_type": "code",
   "execution_count": 36,
   "id": "135931c6-6cd0-4112-b6be-5dbc6973f26e",
   "metadata": {},
   "outputs": [
    {
     "name": "stdout",
     "output_type": "stream",
     "text": [
      "logger.debug({'func':'start_command','id_key':'user_id','id_value':message['from']['id'],'msg':'start_command'}) \n",
      "File \"/home/dima/anaconda3/envs/fprod/lib/python3.9/logging/__init__.py\", line 1434, in debug \n",
      "self._log(DEBUG, msg, args, **kwargs) \n",
      "File \"/home/dima/anaconda3/envs/fprod/lib/python3.9/logging/__init__.py\", line 1589, in _log \n",
      "self.handle(record) \n",
      "File \"/home/dima/anaconda3/envs/fprod/lib/python3.9/logging/__init__.py\", line 1599, in handle \n",
      "self.callHandlers(record) \n",
      "File \"/home/dima/anaconda3/envs/fprod/lib/python3.9/logging/__init__.py\", line 1661, in callHandlers \n",
      "hdlr.handle(record) \n",
      "File \"/home/dima/anaconda3/envs/fprod/lib/python3.9/logging/__init__.py\", line 952, in handle \n",
      "self.emit(record) \n",
      "File \"/home/dima/food_prod/mytools/mytools/tools.py\", line 166, in emit \n",
      "df.to_sql(self.sql_table,self.engine,if_exists='append',index=False,schema = self.schema) \n",
      "File \"/home/dima/anaconda3/envs/fprod/lib/python3.9/site-packages/pandas/core/generic.py\", line 2951, in to_sql \n",
      "return sql.to_sql( \n",
      "File \"/home/dima/anaconda3/envs/fprod/lib/python3.9/site-packages/pandas/io/sql.py\", line 697, in to_sql \n",
      "return pandas_sql.to_sql( \n",
      "File \"/home/dima/anaconda3/envs/fprod/lib/python3.9/site-packages/pandas/io/sql.py\", line 1739, in to_sql \n",
      "total_inserted = sql_engine.insert_records( \n",
      "File \"/home/dima/anaconda3/envs/fprod/lib/python3.9/site-packages/pandas/io/sql.py\", line 1332, in insert_records \n",
      "raise err \n",
      "File \"/home/dima/anaconda3/envs/fprod/lib/python3.9/site-packages/pandas/io/sql.py\", line 1322, in insert_records \n",
      "return table.insert(chunksize=chunksize, method=method) \n",
      "File \"/home/dima/anaconda3/envs/fprod/lib/python3.9/site-packages/pandas/io/sql.py\", line 950, in insert \n",
      "num_inserted = exec_insert(conn, keys, chunk_iter) \n",
      "File \"/home/dima/anaconda3/envs/fprod/lib/python3.9/site-packages/pandas/io/sql.py\", line 857, in _execute_insert \n",
      "result = conn.execute(self.table.insert(), data) \n",
      "File \"/home/dima/anaconda3/envs/fprod/lib/python3.9/site-packages/sqlalchemy/engine/base.py\", line 1306, in execute \n",
      "return meth(self, multiparams, params, _EMPTY_EXECUTION_OPTS) \n",
      "File \"/home/dima/anaconda3/envs/fprod/lib/python3.9/site-packages/sqlalchemy/sql/elements.py\", line 332, in _execute_on_connection \n",
      "return connection._execute_clauseelement( \n",
      "File \"/home/dima/anaconda3/envs/fprod/lib/python3.9/site-packages/sqlalchemy/engine/base.py\", line 1498, in _execute_clauseelement \n",
      "ret = self._execute_context( \n",
      "File \"/home/dima/anaconda3/envs/fprod/lib/python3.9/site-packages/sqlalchemy/engine/base.py\", line 1862, in _execute_context \n",
      "self._handle_dbapi_exception( \n",
      "File \"/home/dima/anaconda3/envs/fprod/lib/python3.9/site-packages/sqlalchemy/engine/base.py\", line 2043, in _handle_dbapi_exception \n",
      "util.raise_( \n",
      "File \"/home/dima/anaconda3/envs/fprod/lib/python3.9/site-packages/sqlalchemy/util/compat.py\", line 208, in raise_ \n",
      "raise exception \n",
      "File \"/home/dima/anaconda3/envs/fprod/lib/python3.9/site-packages/sqlalchemy/engine/base.py\", line 1819, in _execute_context \n",
      "self.dialect.do_execute( \n",
      "File \"/home/dima/anaconda3/envs/fprod/lib/python3.9/site-packages/sqlalchemy/engine/default.py\", line 732, in do_execute \n",
      "cursor.execute(statement, parameters) \n",
      "sqlalchemy.exc.DataError: (psycopg2.errors.NumericValueOutOfRange) integer out of range \n",
      "[SQL: INSERT INTO food.bot_logs (func, id_key, id_value, msg, level_no, timestamp) VALUES (%(func)s, %(id_key)s, %(id_value)s, %(msg)s, %(level_no)s, %(timestamp)s)] \n",
      "[parameters: {'func': 'start_command', 'id_key': 'user_id', 'id_value': 5009953474, 'msg': 'start_command', 'level_no': 'DEBUG', 'timestamp': datetime.datetime(2022, 8, 25, 2, 19, 42, 699597, tzinfo=<UTC>)}] \n",
      "(Background on this error at: https://sqlalche.me/e/14/9h9h) \n",
      "Another instance is already running, quitting. \n",
      "Traceback (most recent call last): \n",
      "File \"/home/dima/anaconda3/envs/fprod/lib/python3.9/site-packages/tendo/singleton.py\", line 66, in __init__\n"
     ]
    }
   ],
   "source": [
    "l = log[n:n+50]\n",
    "print(' \\n'.join(l['log']))"
   ]
  },
  {
   "cell_type": "code",
   "execution_count": null,
   "id": "da1cd59f-ea9d-4cae-acf2-3ca40a8c888b",
   "metadata": {},
   "outputs": [],
   "source": []
  },
  {
   "cell_type": "code",
   "execution_count": 53,
   "id": "c798a904-e7c1-4bfb-ae75-ebaddb7e08a8",
   "metadata": {},
   "outputs": [
    {
     "data": {
      "text/plain": [
       "True"
      ]
     },
     "execution_count": 53,
     "metadata": {},
     "output_type": "execute_result"
    }
   ],
   "source": [
    "2147483647 >269608047"
   ]
  },
  {
   "cell_type": "code",
   "execution_count": 19,
   "id": "a2019a6a-ee23-499b-883b-31b09c542f6d",
   "metadata": {},
   "outputs": [
    {
     "ename": "NameError",
     "evalue": "name 'read_log' is not defined",
     "output_type": "error",
     "traceback": [
      "\u001b[0;31m---------------------------------------------------------------------------\u001b[0m",
      "\u001b[0;31mNameError\u001b[0m                                 Traceback (most recent call last)",
      "Input \u001b[0;32mIn [19]\u001b[0m, in \u001b[0;36m<cell line: 1>\u001b[0;34m()\u001b[0m\n\u001b[0;32m----> 1\u001b[0m \u001b[43mread_log\u001b[49m\n",
      "\u001b[0;31mNameError\u001b[0m: name 'read_log' is not defined"
     ]
    }
   ],
   "source": [
    "read_log"
   ]
  },
  {
   "cell_type": "code",
   "execution_count": null,
   "id": "12050a11-354e-4103-8fbe-13c6e5e3c031",
   "metadata": {},
   "outputs": [],
   "source": []
  },
  {
   "cell_type": "code",
   "execution_count": 11,
   "id": "badcf173-5e44-4375-9a78-9dd851a28343",
   "metadata": {},
   "outputs": [
    {
     "data": {
      "text/plain": [
       "[PosixPath('/home/dima/output/reloadapi.log'),\n",
       " PosixPath('/home/dima/output/dash_interface.log'),\n",
       " PosixPath('/home/dima/output/photos_resize.log'),\n",
       " PosixPath('/home/dima/output/bot.log'),\n",
       " PosixPath('/home/dima/output/qdrant_update.log'),\n",
       " PosixPath('/home/dima/output/update_qdrant.log'),\n",
       " PosixPath('/home/dima/output/inference.log'),\n",
       " PosixPath('/home/dima/output/app1.log'),\n",
       " PosixPath('/home/dima/output/glovo_api.log'),\n",
       " PosixPath('/home/dima/output/api.log'),\n",
       " PosixPath('/home/dima/output/app.log')]"
      ]
     },
     "execution_count": 11,
     "metadata": {},
     "output_type": "execute_result"
    }
   ],
   "source": [
    "output_path.ls()"
   ]
  },
  {
   "cell_type": "code",
   "execution_count": null,
   "id": "d9624529-a3ed-4524-90fc-cce46cb5b310",
   "metadata": {},
   "outputs": [],
   "source": []
  }
 ],
 "metadata": {
  "kernelspec": {
   "display_name": "fprod",
   "language": "python",
   "name": "fprod"
  },
  "language_info": {
   "codemirror_mode": {
    "name": "ipython",
    "version": 3
   },
   "file_extension": ".py",
   "mimetype": "text/x-python",
   "name": "python",
   "nbconvert_exporter": "python",
   "pygments_lexer": "ipython3",
   "version": "3.9.12"
  }
 },
 "nbformat": 4,
 "nbformat_minor": 5
}
