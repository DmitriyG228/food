{
 "cells": [
  {
   "cell_type": "code",
   "execution_count": null,
   "metadata": {},
   "outputs": [],
   "source": [
    "#| default_exp paths"
   ]
  },
  {
   "cell_type": "code",
   "execution_count": null,
   "metadata": {},
   "outputs": [],
   "source": [
    "#| export\n",
    "from pathlib import Path\n",
    "import os"
   ]
  },
  {
   "cell_type": "code",
   "execution_count": null,
   "metadata": {},
   "outputs": [],
   "source": [
    "#| export\n",
    "\n",
    "branch = 'prod'\n",
    "\n",
    "if branch == 'prod':\n",
    "    bot_token        = '5203882708:AAG3G_Y2oZSr-rMG2zoffDVtj3d0KkOFSts'  \n",
    "    folder_name      = 'food_prod'\n",
    "    env              = 'fprod'\n",
    "       \n",
    "if branch == 'dev':\n",
    "    bot_token        = \"5091011572:AAG4NfkC_zZjcsaAFkwLm4ZXOvhEqyLpQhY\"\n",
    "    folder_name      = 'food_dev'\n",
    "    env              = 'f1'\n",
    "    \n",
    "location         = f'{folder_name}/code'\n",
    "domain = 'https://dima.skynet.center'"
   ]
  },
  {
   "cell_type": "code",
   "execution_count": null,
   "metadata": {},
   "outputs": [],
   "source": [
    "#| export\n",
    "from mytools.paths import *\n",
    "from mytools.tools import *"
   ]
  },
  {
   "cell_type": "code",
   "execution_count": null,
   "metadata": {},
   "outputs": [],
   "source": [
    "#| export\n",
    "local_data_path = data_path/folder_name\n",
    "docker_v_path = local_data_path/'docker_psql'\n",
    "psql_backup_path = local_data_path/'psql_backup'\n",
    "\n",
    "\n",
    "reference_images_path           = local_data_path/'reference_images'\n",
    "fragment_reference_images_path  = local_data_path/'fragment_reference_images'\n",
    "\n",
    "test_path                       =datasets_path/'mnogolasosya'"
   ]
  },
  {
   "cell_type": "code",
   "execution_count": null,
   "metadata": {},
   "outputs": [
    {
     "data": {
      "text/plain": [
       "'food_prod/code'"
      ]
     },
     "execution_count": null,
     "metadata": {},
     "output_type": "execute_result"
    }
   ],
   "source": [
    "location"
   ]
  },
  {
   "cell_type": "code",
   "execution_count": null,
   "metadata": {},
   "outputs": [
    {
     "data": {
      "text/plain": [
       "[PosixPath('/home/dima/data/food_prod/fragment_reference_images'),\n",
       " PosixPath('/home/dima/data/food_prod/psql_backup'),\n",
       " PosixPath('/home/dima/data/food_prod/docker_psql'),\n",
       " PosixPath('/home/dima/data/food_prod/reference_images')]"
      ]
     },
     "execution_count": null,
     "metadata": {},
     "output_type": "execute_result"
    }
   ],
   "source": [
    "local_data_path.ls()"
   ]
  },
  {
   "cell_type": "code",
   "execution_count": null,
   "metadata": {},
   "outputs": [],
   "source": [
    "local_data_path.mkdir(exist_ok=True)\n",
    "docker_v_path.mkdir(exist_ok=True)\n",
    "psql_backup_path.mkdir(exist_ok=True)\n",
    "reference_images_path.mkdir(exist_ok=True)\n",
    "fragment_reference_images_path.mkdir(exist_ok=True)"
   ]
  },
  {
   "cell_type": "code",
   "execution_count": null,
   "metadata": {},
   "outputs": [],
   "source": [
    "!nbdev_export"
   ]
  },
  {
   "cell_type": "code",
   "execution_count": null,
   "metadata": {},
   "outputs": [],
   "source": []
  },
  {
   "cell_type": "code",
   "execution_count": null,
   "metadata": {},
   "outputs": [],
   "source": []
  }
 ],
 "metadata": {
  "kernelspec": {
   "display_name": "f1",
   "language": "python",
   "name": "f1"
  }
 },
 "nbformat": 4,
 "nbformat_minor": 4
}
