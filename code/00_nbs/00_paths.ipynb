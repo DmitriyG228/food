{
 "cells": [
  {
   "cell_type": "code",
   "execution_count": 1,
   "metadata": {},
   "outputs": [],
   "source": [
    "#| default_exp paths"
   ]
  },
  {
   "cell_type": "code",
   "execution_count": 2,
   "metadata": {},
   "outputs": [],
   "source": [
    "#| export\n",
    "from pathlib import Path\n",
    "import os"
   ]
  },
  {
   "cell_type": "code",
   "execution_count": 3,
   "metadata": {},
   "outputs": [],
   "source": [
    "#| export\n",
    "\n",
    "branch = 'prod'\n",
    "\n",
    "if branch == 'prod':\n",
    "    bot_token        = '5203882708:AAG3G_Y2oZSr-rMG2zoffDVtj3d0KkOFSts'  \n",
    "    folder_name      = 'food_prod'\n",
    "    env              = 'fprod'\n",
    "       \n",
    "if branch == 'dev':\n",
    "    bot_token        = \"5091011572:AAG4NfkC_zZjcsaAFkwLm4ZXOvhEqyLpQhY\"\n",
    "    folder_name      = 'food_dev'\n",
    "    env              = 'f1'\n",
    "    \n",
    "location         = f'{folder_name}/code'\n",
    "domain = 'https://dima.skynet.center'"
   ]
  },
  {
   "cell_type": "code",
   "execution_count": 4,
   "metadata": {},
   "outputs": [],
   "source": [
    "#| export\n",
    "from mytools.paths import *\n",
    "from mytools.tools import *\n",
    "\n",
    "from segmentor.paths import checkpoints_path"
   ]
  },
  {
   "cell_type": "code",
   "execution_count": 5,
   "metadata": {},
   "outputs": [],
   "source": [
    "#| export\n",
    "local_data_path = data_path/folder_name\n",
    "docker_v_path = local_data_path/'docker_psql'\n",
    "psql_backup_path = local_data_path/'psql_backup'\n",
    "\n",
    "\n",
    "checkpoints_path = checkpoints_path\n",
    "\n",
    "\n",
    "reference_images_path           = local_data_path/'reference_images'\n",
    "fragment_reference_images_path  = local_data_path/'fragment_reference_images'\n",
    "\n",
    "test_path                       =datasets_path/'mnogolasosya'"
   ]
  },
  {
   "cell_type": "code",
   "execution_count": 6,
   "metadata": {},
   "outputs": [
    {
     "data": {
      "text/plain": [
       "'food_dev/code'"
      ]
     },
     "execution_count": 6,
     "metadata": {},
     "output_type": "execute_result"
    }
   ],
   "source": [
    "location"
   ]
  },
  {
   "cell_type": "code",
   "execution_count": 7,
   "metadata": {},
   "outputs": [
    {
     "data": {
      "text/plain": [
       "[PosixPath('/home/dima/data/food_dev/fragment_reference_images'),\n",
       " PosixPath('/home/dima/data/food_dev/psql_backup'),\n",
       " PosixPath('/home/dima/data/food_dev/docker_psql'),\n",
       " PosixPath('/home/dima/data/food_dev/reference_images')]"
      ]
     },
     "execution_count": 7,
     "metadata": {},
     "output_type": "execute_result"
    }
   ],
   "source": [
    "local_data_path.ls()"
   ]
  },
  {
   "cell_type": "code",
   "execution_count": 8,
   "metadata": {
    "tags": []
   },
   "outputs": [],
   "source": [
    "local_data_path.mkdir(exist_ok=True)\n",
    "docker_v_path.mkdir(exist_ok=True)\n",
    "psql_backup_path.mkdir(exist_ok=True)\n",
    "reference_images_path.mkdir(exist_ok=True)\n",
    "fragment_reference_images_path.mkdir(exist_ok=True)"
   ]
  },
  {
   "cell_type": "code",
   "execution_count": 2,
   "metadata": {},
   "outputs": [
    {
     "name": "stdout",
     "output_type": "stream",
     "text": [
      "\n",
      "CommandNotFoundError: Your shell has not been properly configured to use 'conda activate'.\n",
      "To initialize your shell, run\n",
      "\n",
      "    $ conda init <SHELL_NAME>\n",
      "\n",
      "Currently supported shells are:\n",
      "  - bash\n",
      "  - fish\n",
      "  - tcsh\n",
      "  - xonsh\n",
      "  - zsh\n",
      "  - powershell\n",
      "\n",
      "See 'conda init --help' for more information and options.\n",
      "\n",
      "IMPORTANT: You may need to close and restart your shell after running 'conda init'.\n",
      "\n",
      "\n"
     ]
    }
   ],
   "source": [
    "!conda activate f1;nbdev_export"
   ]
  },
  {
   "cell_type": "code",
   "execution_count": null,
   "metadata": {},
   "outputs": [],
   "source": []
  },
  {
   "cell_type": "code",
   "execution_count": null,
   "metadata": {},
   "outputs": [],
   "source": []
  }
 ],
 "metadata": {
  "interpreter": {
   "hash": "1e1ee659a212ecca49d6a1809275141ef7642c152d6286fb803a43d965656456"
  },
  "kernelspec": {
   "display_name": "f1",
   "language": "python",
   "name": "f1"
  },
  "language_info": {
   "codemirror_mode": {
    "name": "ipython",
    "version": 3
   },
   "file_extension": ".py",
   "mimetype": "text/x-python",
   "name": "python",
   "nbconvert_exporter": "python",
   "pygments_lexer": "ipython3",
   "version": "3.9.12"
  }
 },
 "nbformat": 4,
 "nbformat_minor": 4
}
