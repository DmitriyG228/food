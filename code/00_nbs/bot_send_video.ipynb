{
 "cells": [
  {
   "cell_type": "code",
   "execution_count": 12,
   "id": "1f622d59-7a54-4efb-8dff-1f33ce34302c",
   "metadata": {},
   "outputs": [],
   "source": [
    "import sys\n",
    "sys.path.insert(0,'..')\n",
    "\n",
    "from food.psql import *\n",
    "from mytools.tools import get_logger\n",
    "logger = get_logger(engine,'bot_logs','food')\n",
    "logger.debug({'msg':'starting bot'})\n",
    "from aiogram import Bot, Dispatcher, executor, types\n",
    "from aiogram.types import ContentType\n",
    "from aiogram.dispatcher.filters.state import State, StatesGroup\n",
    "from aiogram.types.message import ContentTypes\n",
    "from aiogram.dispatcher import FSMContext\n",
    "from aiogram.contrib.fsm_storage.memory import MemoryStorage\n",
    "from sqlalchemy import update\n",
    "from aiogram.dispatcher.filters.state import State, StatesGroup\n",
    "from aiogram.utils.callback_data import CallbackData\n",
    "import typing\n",
    "import numpy as np\n",
    "import io\n",
    "\n",
    "\n",
    "from food.paths import *\n",
    "from food.paths import bot_token\n",
    "\n",
    "\n",
    "API_TOKEN = bot_token\n",
    "\n",
    "from food.paths import *\n",
    "#from food.search import *\n",
    "import pandas as  pd\n",
    "import pytz\n",
    "timezones = pytz.all_timezones\n",
    "import requests\n",
    "from requests.structures import CaseInsensitiveDict\n",
    "import urllib\n",
    "from tzwhere import tzwhere\n",
    "\n",
    "from segmentor.segment import get_segment_model\n",
    "\n",
    "from food.search import *\n",
    "from mytools.psql import *"
   ]
  },
  {
   "cell_type": "code",
   "execution_count": 13,
   "id": "ec452209-4e5d-4a97-b597-475a9a93bcd1",
   "metadata": {},
   "outputs": [],
   "source": [
    "import nest_asyncio\n",
    "nest_asyncio.apply()"
   ]
  },
  {
   "cell_type": "code",
   "execution_count": 14,
   "id": "0d3c1e67-4a54-46af-a1a9-113748798402",
   "metadata": {},
   "outputs": [],
   "source": [
    "bot = Bot(token=API_TOKEN)\n",
    "storage = MemoryStorage()\n",
    "dp = Dispatcher(bot, storage=storage)\n",
    "\n",
    "dishes_table = Dishes.__table__"
   ]
  },
  {
   "cell_type": "code",
   "execution_count": 15,
   "id": "725e1b17-a91d-41d3-b5e2-2ab20314d577",
   "metadata": {
    "tags": []
   },
   "outputs": [
    {
     "data": {
      "text/plain": [
       "\u001b[0;31mSignature:\u001b[0m\n",
       "\u001b[0mbot\u001b[0m\u001b[0;34m.\u001b[0m\u001b[0msend_video\u001b[0m\u001b[0;34m(\u001b[0m\u001b[0;34m\u001b[0m\n",
       "\u001b[0;34m\u001b[0m    \u001b[0mchat_id\u001b[0m\u001b[0;34m:\u001b[0m \u001b[0;34m'typing.Union[base.Integer, base.String]'\u001b[0m\u001b[0;34m,\u001b[0m\u001b[0;34m\u001b[0m\n",
       "\u001b[0;34m\u001b[0m    \u001b[0mvideo\u001b[0m\u001b[0;34m:\u001b[0m \u001b[0;34m'typing.Union[base.InputFile, base.String]'\u001b[0m\u001b[0;34m,\u001b[0m\u001b[0;34m\u001b[0m\n",
       "\u001b[0;34m\u001b[0m    \u001b[0mduration\u001b[0m\u001b[0;34m:\u001b[0m \u001b[0;34m'typing.Optional[base.Integer]'\u001b[0m \u001b[0;34m=\u001b[0m \u001b[0;32mNone\u001b[0m\u001b[0;34m,\u001b[0m\u001b[0;34m\u001b[0m\n",
       "\u001b[0;34m\u001b[0m    \u001b[0mwidth\u001b[0m\u001b[0;34m:\u001b[0m \u001b[0;34m'typing.Optional[base.Integer]'\u001b[0m \u001b[0;34m=\u001b[0m \u001b[0;32mNone\u001b[0m\u001b[0;34m,\u001b[0m\u001b[0;34m\u001b[0m\n",
       "\u001b[0;34m\u001b[0m    \u001b[0mheight\u001b[0m\u001b[0;34m:\u001b[0m \u001b[0;34m'typing.Optional[base.Integer]'\u001b[0m \u001b[0;34m=\u001b[0m \u001b[0;32mNone\u001b[0m\u001b[0;34m,\u001b[0m\u001b[0;34m\u001b[0m\n",
       "\u001b[0;34m\u001b[0m    \u001b[0mthumb\u001b[0m\u001b[0;34m:\u001b[0m \u001b[0;34m'typing.Union[base.InputFile, base.String, None]'\u001b[0m \u001b[0;34m=\u001b[0m \u001b[0;32mNone\u001b[0m\u001b[0;34m,\u001b[0m\u001b[0;34m\u001b[0m\n",
       "\u001b[0;34m\u001b[0m    \u001b[0mcaption\u001b[0m\u001b[0;34m:\u001b[0m \u001b[0;34m'typing.Optional[base.String]'\u001b[0m \u001b[0;34m=\u001b[0m \u001b[0;32mNone\u001b[0m\u001b[0;34m,\u001b[0m\u001b[0;34m\u001b[0m\n",
       "\u001b[0;34m\u001b[0m    \u001b[0mparse_mode\u001b[0m\u001b[0;34m:\u001b[0m \u001b[0;34m'typing.Optional[base.String]'\u001b[0m \u001b[0;34m=\u001b[0m \u001b[0;32mNone\u001b[0m\u001b[0;34m,\u001b[0m\u001b[0;34m\u001b[0m\n",
       "\u001b[0;34m\u001b[0m    \u001b[0mcaption_entities\u001b[0m\u001b[0;34m:\u001b[0m \u001b[0;34m'typing.Optional[typing.List[types.MessageEntity]]'\u001b[0m \u001b[0;34m=\u001b[0m \u001b[0;32mNone\u001b[0m\u001b[0;34m,\u001b[0m\u001b[0;34m\u001b[0m\n",
       "\u001b[0;34m\u001b[0m    \u001b[0msupports_streaming\u001b[0m\u001b[0;34m:\u001b[0m \u001b[0;34m'typing.Optional[base.Boolean]'\u001b[0m \u001b[0;34m=\u001b[0m \u001b[0;32mNone\u001b[0m\u001b[0;34m,\u001b[0m\u001b[0;34m\u001b[0m\n",
       "\u001b[0;34m\u001b[0m    \u001b[0mdisable_notification\u001b[0m\u001b[0;34m:\u001b[0m \u001b[0;34m'typing.Optional[base.Boolean]'\u001b[0m \u001b[0;34m=\u001b[0m \u001b[0;32mNone\u001b[0m\u001b[0;34m,\u001b[0m\u001b[0;34m\u001b[0m\n",
       "\u001b[0;34m\u001b[0m    \u001b[0mprotect_content\u001b[0m\u001b[0;34m:\u001b[0m \u001b[0;34m'typing.Optional[base.Boolean]'\u001b[0m \u001b[0;34m=\u001b[0m \u001b[0;32mNone\u001b[0m\u001b[0;34m,\u001b[0m\u001b[0;34m\u001b[0m\n",
       "\u001b[0;34m\u001b[0m    \u001b[0mreply_to_message_id\u001b[0m\u001b[0;34m:\u001b[0m \u001b[0;34m'typing.Optional[base.Integer]'\u001b[0m \u001b[0;34m=\u001b[0m \u001b[0;32mNone\u001b[0m\u001b[0;34m,\u001b[0m\u001b[0;34m\u001b[0m\n",
       "\u001b[0;34m\u001b[0m    \u001b[0mallow_sending_without_reply\u001b[0m\u001b[0;34m:\u001b[0m \u001b[0;34m'typing.Optional[base.Boolean]'\u001b[0m \u001b[0;34m=\u001b[0m \u001b[0;32mNone\u001b[0m\u001b[0;34m,\u001b[0m\u001b[0;34m\u001b[0m\n",
       "\u001b[0;34m\u001b[0m    \u001b[0mreply_markup\u001b[0m\u001b[0;34m:\u001b[0m \u001b[0;34m'typing.Union[types.InlineKeyboardMarkup, types.ReplyKeyboardMarkup, types.ReplyKeyboardRemove, types.ForceReply, None]'\u001b[0m \u001b[0;34m=\u001b[0m \u001b[0;32mNone\u001b[0m\u001b[0;34m,\u001b[0m\u001b[0;34m\u001b[0m\n",
       "\u001b[0;34m\u001b[0m\u001b[0;34m)\u001b[0m \u001b[0;34m->\u001b[0m \u001b[0;34m'types.Message'\u001b[0m\u001b[0;34m\u001b[0m\u001b[0;34m\u001b[0m\u001b[0m\n",
       "\u001b[0;31mDocstring:\u001b[0m\n",
       "Use this method to send video files, Telegram clients support mp4 videos\n",
       "(other formats may be sent as Document).\n",
       "\n",
       "Source: https://core.telegram.org/bots/api#sendvideo\n",
       "\n",
       ":param chat_id: Unique identifier for the target chat or username of the target channel\n",
       ":type chat_id: :obj:`typing.Union[base.Integer, base.String]`\n",
       "\n",
       ":param video: Video to send\n",
       ":type video: :obj:`typing.Union[base.InputFile, base.String]`\n",
       "\n",
       ":param duration: Duration of sent video in seconds\n",
       ":type duration: :obj:`typing.Optional[base.Integer]`\n",
       "\n",
       ":param width: Video width\n",
       ":type width: :obj:`typing.Optional[base.Integer]`\n",
       "\n",
       ":param height: Video height\n",
       ":type height: :obj:`typing.Optional[base.Integer]`\n",
       "\n",
       ":param thumb: Thumbnail of the file sent\n",
       ":type thumb: :obj:`typing.Union[base.InputFile, base.String, None]`\n",
       "\n",
       ":param caption: Video caption (may also be used when resending videos by file_id), 0-1024 characters\n",
       ":type caption: :obj:`typing.Optional[base.String]`\n",
       "\n",
       ":param parse_mode: Send Markdown or HTML, if you want Telegram apps to show bold, italic,\n",
       "    fixed-width text or inline URLs in your bot's message.\n",
       ":type parse_mode: :obj:`typing.Optional[base.String]`\n",
       "\n",
       ":param caption_entities: List of special entities that appear in message text,\n",
       "    which can be specified instead of parse_mode\n",
       ":type caption_entities: :obj:`typing.Optional[typing.List[types.MessageEntity]]`\n",
       "\n",
       ":param supports_streaming: Pass True, if the uploaded video is suitable for streaming\n",
       ":type supports_streaming: :obj:`typing.Optional[base.Boolean]`\n",
       "\n",
       ":param disable_notification: Sends the message silently. Users will receive a notification with no sound\n",
       ":type disable_notification: :obj:`typing.Optional[base.Boolean]`\n",
       "\n",
       ":param protect_content: Protects the contents of sent messages\n",
       "    from forwarding and saving\n",
       ":type protect_content: :obj:`typing.Optional[base.Boolean]`\n",
       "\n",
       ":param reply_to_message_id: If the message is a reply, ID of the original message\n",
       ":type reply_to_message_id: :obj:`typing.Optional[base.Integer]`\n",
       "\n",
       ":param allow_sending_without_reply: Pass True, if the message should be sent\n",
       "    even if the specified replied-to message is not found\n",
       ":type allow_sending_without_reply: :obj:`typing.Optional[base.Boolean]`\n",
       "\n",
       ":param reply_markup: Additional interface options. A JSON-serialized object for an inline keyboard,\n",
       "    custom reply keyboard, instructions to remove reply keyboard or to force a reply from the user\n",
       ":type reply_markup: :obj:`typing.Union[types.InlineKeyboardMarkup,\n",
       "    types.ReplyKeyboardMarkup, types.ReplyKeyboardRemove, types.ForceReply, None]`\n",
       "\n",
       ":return: On success, the sent Message is returned\n",
       ":rtype: :obj:`types.Message`\n",
       "\u001b[0;31mFile:\u001b[0m      ~/anaconda3/envs/f1/lib/python3.9/site-packages/aiogram/bot/bot.py\n",
       "\u001b[0;31mType:\u001b[0m      method\n"
      ]
     },
     "metadata": {},
     "output_type": "display_data"
    }
   ],
   "source": [
    "bot.send_video?"
   ]
  },
  {
   "cell_type": "code",
   "execution_count": 16,
   "id": "a4f54eca-54ab-44d7-959b-8f5fe0a06e16",
   "metadata": {},
   "outputs": [],
   "source": [
    "@dp.message_handler(commands=['video_up'])\n",
    "async def start_command(message: types.Message):\n",
    "    global result \n",
    "    with open(local_data_path/'welcome_photo_test.mp4',mode='rb') as video:\n",
    "    \n",
    "        result = await bot.send_video(chat_id=message.chat.id, \n",
    "                                      video=video,\n",
    "                                      width=320,\n",
    "                                      height=640,\n",
    "                                      duration = 40,\n",
    "                                      supports_streaming=True)"
   ]
  },
  {
   "cell_type": "code",
   "execution_count": 17,
   "id": "ed47be23-4a08-471c-b131-5aad3d8c1431",
   "metadata": {},
   "outputs": [],
   "source": [
    "@dp.message_handler(commands=['video'])\n",
    "async def start_command(message: types.Message):\n",
    "#     global r \n",
    "    \n",
    "#     with open(local_data_path/'welcome_photo_test.mp4',mode='rb') as video:\n",
    "    \n",
    "    result = await bot.send_video(chat_id=message.chat.id, \n",
    "                                  video='BAACAgIAAxkDAAIM0WMNDPcnDnc3mkT3s4yeOBMIc2RWAAJiIgAC8aJoSHzqYhXvsRnTKQQ',\n",
    "                                  duration = 40,\n",
    "                                  supports_streaming=True)"
   ]
  },
  {
   "cell_type": "code",
   "execution_count": null,
   "id": "a2238f61-250d-4ea2-9772-1f2f0497b18c",
   "metadata": {},
   "outputs": [],
   "source": [
    "if __name__ == '__main__': executor.start_polling(dp)"
   ]
  },
  {
   "cell_type": "code",
   "execution_count": 11,
   "id": "e9dd6ab4-957f-486f-8862-1addbf44fa1e",
   "metadata": {},
   "outputs": [
    {
     "data": {
      "text/plain": [
       "{'message_id': 3281,\n",
       " 'from': {'id': 5091011572,\n",
       "  'is_bot': True,\n",
       "  'first_name': 'calorie_bot',\n",
       "  'username': 'food_classifier_bot'},\n",
       " 'chat': {'id': 78882798,\n",
       "  'first_name': 'Dmitry',\n",
       "  'last_name': 'Grankin',\n",
       "  'username': 'dmitry_grankin',\n",
       "  'type': 'private'},\n",
       " 'date': 1661799671,\n",
       " 'video': {'duration': 40,\n",
       "  'width': 320,\n",
       "  'height': 640,\n",
       "  'file_name': 'welcome_photo_test.mp4',\n",
       "  'mime_type': 'video/mp4',\n",
       "  'file_id': 'BAACAgIAAxkDAAIM0WMNDPcnDnc3mkT3s4yeOBMIc2RWAAJiIgAC8aJoSHzqYhXvsRnTKQQ',\n",
       "  'file_unique_id': 'AgADYiIAAvGiaEg',\n",
       "  'file_size': 10880565}}"
      ]
     },
     "execution_count": 11,
     "metadata": {},
     "output_type": "execute_result"
    },
    {
     "name": "stderr",
     "output_type": "stream",
     "text": [
      "Cause exception while getting updates.\n",
      "Traceback (most recent call last):\n",
      "  File \"/home/dima/anaconda3/envs/f1/lib/python3.9/site-packages/aiogram/bot/api.py\", line 139, in make_request\n",
      "    async with session.post(url, data=req, **kwargs) as response:\n",
      "  File \"/home/dima/anaconda3/envs/f1/lib/python3.9/site-packages/aiohttp/client.py\", line 1138, in __aenter__\n",
      "    self._resp = await self._coro\n",
      "  File \"/home/dima/anaconda3/envs/f1/lib/python3.9/site-packages/aiohttp/client.py\", line 559, in _request\n",
      "    await resp.start(conn)\n",
      "  File \"/home/dima/anaconda3/envs/f1/lib/python3.9/site-packages/aiohttp/client_reqrep.py\", line 898, in start\n",
      "    message, payload = await protocol.read()  # type: ignore[union-attr]\n",
      "  File \"/home/dima/anaconda3/envs/f1/lib/python3.9/site-packages/aiohttp/streams.py\", line 616, in read\n",
      "    await self._waiter\n",
      "  File \"/home/dima/anaconda3/envs/f1/lib/python3.9/asyncio/futures.py\", line 284, in __await__\n",
      "    yield self  # This tells Task to wait for completion.\n",
      "  File \"/home/dima/anaconda3/envs/f1/lib/python3.9/asyncio/tasks.py\", line 328, in __wakeup\n",
      "    future.result()\n",
      "  File \"/home/dima/anaconda3/envs/f1/lib/python3.9/asyncio/futures.py\", line 201, in result\n",
      "    raise self._exception\n",
      "aiohttp.client_exceptions.ClientOSError: [Errno 1] [SSL: APPLICATION_DATA_AFTER_CLOSE_NOTIFY] application data after close notify (_ssl.c:2756)\n",
      "\n",
      "During handling of the above exception, another exception occurred:\n",
      "\n",
      "Traceback (most recent call last):\n",
      "  File \"/home/dima/anaconda3/envs/f1/lib/python3.9/site-packages/aiogram/dispatcher/dispatcher.py\", line 381, in start_polling\n",
      "    updates = await self.bot.get_updates(\n",
      "  File \"/home/dima/anaconda3/envs/f1/lib/python3.9/site-packages/aiogram/bot/bot.py\", line 110, in get_updates\n",
      "    result = await self.request(api.Methods.GET_UPDATES, payload)\n",
      "  File \"/home/dima/anaconda3/envs/f1/lib/python3.9/site-packages/aiogram/bot/base.py\", line 236, in request\n",
      "    return await api.make_request(await self.get_session(), self.server, self.__token, method, data, files,\n",
      "  File \"/home/dima/anaconda3/envs/f1/lib/python3.9/site-packages/aiogram/bot/api.py\", line 142, in make_request\n",
      "    raise exceptions.NetworkError(f\"aiohttp client throws an error: {e.__class__.__name__}: {e}\")\n",
      "aiogram.utils.exceptions.NetworkError: Aiohttp client throws an error: ClientOSError: [Errno 1] [SSL: APPLICATION_DATA_AFTER_CLOSE_NOTIFY] application data after close notify (_ssl.c:2756)\n",
      "Polling is stopped.\n"
     ]
    }
   ],
   "source": [
    "result.to_python()"
   ]
  },
  {
   "cell_type": "code",
   "execution_count": null,
   "id": "176d7831-20f2-4b8a-808d-08893bf632ed",
   "metadata": {},
   "outputs": [],
   "source": []
  }
 ],
 "metadata": {
  "kernelspec": {
   "display_name": "f1",
   "language": "python",
   "name": "f1"
  },
  "language_info": {
   "codemirror_mode": {
    "name": "ipython",
    "version": 3
   },
   "file_extension": ".py",
   "mimetype": "text/x-python",
   "name": "python",
   "nbconvert_exporter": "python",
   "pygments_lexer": "ipython3",
   "version": "3.9.12"
  }
 },
 "nbformat": 4,
 "nbformat_minor": 5
}
