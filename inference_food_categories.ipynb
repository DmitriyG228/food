{
 "cells": [
  {
   "cell_type": "code",
   "execution_count": 1,
   "metadata": {},
   "outputs": [],
   "source": [
    "%load_ext autoreload\n",
    "%autoreload 2"
   ]
  },
  {
   "cell_type": "code",
   "execution_count": 2,
   "metadata": {},
   "outputs": [],
   "source": [
    "from food.tools import *\n",
    "from food.paths import *\n",
    "from food.psql import *\n",
    "\n",
    "import pandas as pd\n",
    "import numpy as np\n",
    "\n",
    "# !nbdev_build_lib"
   ]
  },
  {
   "cell_type": "code",
   "execution_count": 3,
   "metadata": {},
   "outputs": [],
   "source": [
    "categories = pd.read_sql(\"select distinct(category) from food.foods\",engine)"
   ]
  },
  {
   "cell_type": "code",
   "execution_count": 10,
   "metadata": {},
   "outputs": [],
   "source": [
    "categories.to_sql('food_categories',engine,schema = 'food',if_exists = 'append',index = False)"
   ]
  },
  {
   "cell_type": "code",
   "execution_count": 6,
   "metadata": {},
   "outputs": [
    {
     "data": {
      "text/html": [
       "<div>\n",
       "<style scoped>\n",
       "    .dataframe tbody tr th:only-of-type {\n",
       "        vertical-align: middle;\n",
       "    }\n",
       "\n",
       "    .dataframe tbody tr th {\n",
       "        vertical-align: top;\n",
       "    }\n",
       "\n",
       "    .dataframe thead th {\n",
       "        text-align: right;\n",
       "    }\n",
       "</style>\n",
       "<table border=\"1\" class=\"dataframe\">\n",
       "  <thead>\n",
       "    <tr style=\"text-align: right;\">\n",
       "      <th></th>\n",
       "      <th>id</th>\n",
       "      <th>category</th>\n",
       "      <th>clip</th>\n",
       "    </tr>\n",
       "  </thead>\n",
       "  <tbody>\n",
       "    <tr>\n",
       "      <th>0</th>\n",
       "      <td>11</td>\n",
       "      <td>Pears</td>\n",
       "      <td>[0.064467475, 0.007819213, 0.0068222187, 0.002...</td>\n",
       "    </tr>\n",
       "    <tr>\n",
       "      <th>1</th>\n",
       "      <td>1</td>\n",
       "      <td>Broccoli</td>\n",
       "      <td>[0.02630453, 0.008566782, 0.047704235, 0.00536...</td>\n",
       "    </tr>\n",
       "    <tr>\n",
       "      <th>2</th>\n",
       "      <td>2</td>\n",
       "      <td>Nachos</td>\n",
       "      <td>[-0.00556623, -0.02693382, 0.011428544, -0.024...</td>\n",
       "    </tr>\n",
       "    <tr>\n",
       "      <th>3</th>\n",
       "      <td>3</td>\n",
       "      <td>Soy-based condiments</td>\n",
       "      <td>[0.008842907, 0.026064698, -0.0032581512, -0.0...</td>\n",
       "    </tr>\n",
       "    <tr>\n",
       "      <th>4</th>\n",
       "      <td>4</td>\n",
       "      <td>Cheese sandwiches (single code)</td>\n",
       "      <td>[0.03734121, 0.022437142, 0.03321014, -0.02276...</td>\n",
       "    </tr>\n",
       "    <tr>\n",
       "      <th>...</th>\n",
       "      <td>...</td>\n",
       "      <td>...</td>\n",
       "      <td>...</td>\n",
       "    </tr>\n",
       "    <tr>\n",
       "      <th>162</th>\n",
       "      <td>163</td>\n",
       "      <td>Baby food: meat and dinners</td>\n",
       "      <td>[-0.008153972, -0.014811312, 0.015918016, 0.00...</td>\n",
       "    </tr>\n",
       "    <tr>\n",
       "      <th>163</th>\n",
       "      <td>164</td>\n",
       "      <td>Other Mexican mixed dishes</td>\n",
       "      <td>[0.025341043, -0.021919917, 0.035512406, -0.00...</td>\n",
       "    </tr>\n",
       "    <tr>\n",
       "      <th>164</th>\n",
       "      <td>165</td>\n",
       "      <td>Flavored milk, whole</td>\n",
       "      <td>[-0.0031074989, 0.0091486145, -0.008182965, 0....</td>\n",
       "    </tr>\n",
       "    <tr>\n",
       "      <th>165</th>\n",
       "      <td>166</td>\n",
       "      <td>Formula, prepared from powder</td>\n",
       "      <td>[0.0060971905, 0.038108524, 0.064308636, 0.016...</td>\n",
       "    </tr>\n",
       "    <tr>\n",
       "      <th>166</th>\n",
       "      <td>167</td>\n",
       "      <td>Milk substitutes</td>\n",
       "      <td>[0.015426207, 0.009020492, 0.025011495, 0.0028...</td>\n",
       "    </tr>\n",
       "  </tbody>\n",
       "</table>\n",
       "<p>167 rows × 3 columns</p>\n",
       "</div>"
      ],
      "text/plain": [
       "      id                         category  \\\n",
       "0     11                            Pears   \n",
       "1      1                         Broccoli   \n",
       "2      2                           Nachos   \n",
       "3      3             Soy-based condiments   \n",
       "4      4  Cheese sandwiches (single code)   \n",
       "..   ...                              ...   \n",
       "162  163      Baby food: meat and dinners   \n",
       "163  164       Other Mexican mixed dishes   \n",
       "164  165             Flavored milk, whole   \n",
       "165  166    Formula, prepared from powder   \n",
       "166  167                 Milk substitutes   \n",
       "\n",
       "                                                  clip  \n",
       "0    [0.064467475, 0.007819213, 0.0068222187, 0.002...  \n",
       "1    [0.02630453, 0.008566782, 0.047704235, 0.00536...  \n",
       "2    [-0.00556623, -0.02693382, 0.011428544, -0.024...  \n",
       "3    [0.008842907, 0.026064698, -0.0032581512, -0.0...  \n",
       "4    [0.03734121, 0.022437142, 0.03321014, -0.02276...  \n",
       "..                                                 ...  \n",
       "162  [-0.008153972, -0.014811312, 0.015918016, 0.00...  \n",
       "163  [0.025341043, -0.021919917, 0.035512406, -0.00...  \n",
       "164  [-0.0031074989, 0.0091486145, -0.008182965, 0....  \n",
       "165  [0.0060971905, 0.038108524, 0.064308636, 0.016...  \n",
       "166  [0.015426207, 0.009020492, 0.025011495, 0.0028...  \n",
       "\n",
       "[167 rows x 3 columns]"
      ]
     },
     "execution_count": 6,
     "metadata": {},
     "output_type": "execute_result"
    }
   ],
   "source": [
    "pd.read_sql(\"select * from food.food_categories\",engine)"
   ]
  },
  {
   "cell_type": "code",
   "execution_count": 3,
   "metadata": {},
   "outputs": [],
   "source": [
    "table = 'food_categories'"
   ]
  },
  {
   "cell_type": "code",
   "execution_count": 4,
   "metadata": {},
   "outputs": [],
   "source": [
    "import os\n",
    "os.environ[\"HF_DATASETS_OFFLINE\"] = \"2\"\n",
    "os.environ[\"TRANSFORMERS_OFFLINE\"] = \"2\"\n",
    "os.environ[\"CUDA_VISIBLE_DEVICES\"] = \"2\"\n",
    "from food.tools import *\n",
    "from food.psql import *\n",
    "from food.paths import *\n",
    "from PIL import Image\n",
    "import custom_pandas as cpd\n",
    "from tqdm import tqdm\n",
    "from sqlalchemy import update\n",
    "\n",
    "query = f\"\"\"select id,category\n",
    "             from food.{table}\n",
    "            where clip is Null \"\"\"\n",
    "\n",
    "total = engine.execute(f'select count(*) from ({query}) a').one()\n",
    "\n",
    "bs = 1\n",
    "pd_iter = cpd.read_sql_query(query, engine, chunksize=bs, index_col='id')\n",
    "\n",
    "import requests\n"
   ]
  },
  {
   "cell_type": "code",
   "execution_count": 5,
   "metadata": {},
   "outputs": [
    {
     "name": "stderr",
     "output_type": "stream",
     "text": [
      "clip food inference: 100%|██████████| 167/167 [00:07<00:00, 22.21it/s]\n"
     ]
    }
   ],
   "source": [
    "\n",
    "for inp in tqdm(pd_iter, desc=\"clip food inference\", total=total[0] // bs):  \n",
    "    text = inp['category'].iloc[0]\n",
    "    clip = requests.post(f'https://guru.skynet.center/text2vector/?text={text}').json()\n",
    "    stmt = (update(Food_categories).\n",
    "            values(clip=clip).\n",
    "            where(Food_categories.id == int(inp.index[0])))\n",
    "    engine.execute(stmt)"
   ]
  },
  {
   "cell_type": "code",
   "execution_count": null,
   "metadata": {},
   "outputs": [],
   "source": []
  }
 ],
 "metadata": {
  "kernelspec": {
   "display_name": "Python 3.9.7 ('food')",
   "language": "python",
   "name": "python3"
  },
  "language_info": {
   "codemirror_mode": {
    "name": "ipython",
    "version": 3
   },
   "file_extension": ".py",
   "mimetype": "text/x-python",
   "name": "python",
   "nbconvert_exporter": "python",
   "pygments_lexer": "ipython3",
   "version": "3.9.7"
  },
  "vscode": {
   "interpreter": {
    "hash": "1e1ee659a212ecca49d6a1809275141ef7642c152d6286fb803a43d965656456"
   }
  }
 },
 "nbformat": 4,
 "nbformat_minor": 4
}
