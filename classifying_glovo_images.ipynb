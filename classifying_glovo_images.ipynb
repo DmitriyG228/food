{
 "cells": [
  {
   "cell_type": "code",
   "execution_count": 2,
   "metadata": {},
   "outputs": [],
   "source": [
    "%load_ext autoreload\n",
    "%autoreload 2"
   ]
  },
  {
   "cell_type": "code",
   "execution_count": 3,
   "metadata": {},
   "outputs": [],
   "source": [
    "from food.tools import *\n",
    "from food.paths import *\n",
    "from food.psql import *\n",
    "\n",
    "import pandas as pd\n",
    "import numpy as np\n",
    "import food.custom_pandas as cpd\n",
    "from tqdm import tqdm\n",
    "import requests \n",
    "\n",
    "# !nbdev_build_lib"
   ]
  },
  {
   "cell_type": "markdown",
   "metadata": {},
   "source": [
    "search best match of food classes to images (5)\n",
    "\n",
    "- request glovo api for best match  \n",
    "- create sql table corresponding photo_clips\n",
    "- save clips to sql table"
   ]
  },
  {
   "cell_type": "code",
   "execution_count": 5,
   "metadata": {},
   "outputs": [
    {
     "name": "stderr",
     "output_type": "stream",
     "text": [
      "clip image inference food: 0it [00:00, ?it/s]\n"
     ]
    }
   ],
   "source": [
    "query = f\"\"\"select f.id, f.text, f.description from food.foods_prompted f\n",
    "            left join food.foods_prompted_images i on (f.id = i.food_id)\n",
    "            where i.clip is null\"\"\"\n",
    "\n",
    "bs = 1\n",
    "\n",
    "\n",
    "total = engine.execute(f'select count(*) from ({query}) a').one()\n",
    "\n",
    "pd_iter = cpd.read_sql_query(query, engine, chunksize=1, index_col='id')\n",
    "\n",
    "for df in tqdm(pd_iter, desc=f\"clip image inference {schema}\", total=total[0] // bs):  \n",
    "    food_id = df.iloc[0].name\n",
    "    text = df.iloc[0]['text']\n",
    "    description = df.iloc[0]['description']\n",
    "\n",
    "    url = f\"http://localhost:8184/search\"\n",
    "    r_df = pd.read_json(requests.post(url,params={'text':text,'topk':5,'return_clip':True}).json())[['country_code','store_name','product_name','path','accuracy','clip']]\n",
    "    r_df['food_id'] = food_id\n",
    "    r_df.to_sql('foods_prompted_images', engine, if_exists='append',schema=schema,index=False)\n",
    "\n"
   ]
  },
  {
   "cell_type": "code",
   "execution_count": null,
   "metadata": {},
   "outputs": [],
   "source": []
  },
  {
   "cell_type": "code",
   "execution_count": null,
   "metadata": {},
   "outputs": [],
   "source": []
  },
  {
   "cell_type": "markdown",
   "metadata": {},
   "source": []
  }
 ],
 "metadata": {
  "interpreter": {
   "hash": "1e1ee659a212ecca49d6a1809275141ef7642c152d6286fb803a43d965656456"
  },
  "kernelspec": {
   "display_name": "Python 3.9.7 ('food')",
   "language": "python",
   "name": "python3"
  },
  "language_info": {
   "codemirror_mode": {
    "name": "ipython",
    "version": 3
   },
   "file_extension": ".py",
   "mimetype": "text/x-python",
   "name": "python",
   "nbconvert_exporter": "python",
   "pygments_lexer": "ipython3",
   "version": "3.9.7"
  }
 },
 "nbformat": 4,
 "nbformat_minor": 4
}
