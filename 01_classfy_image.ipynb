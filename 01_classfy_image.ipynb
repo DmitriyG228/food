{
 "cells": [
  {
   "cell_type": "code",
   "execution_count": 15,
   "metadata": {},
   "outputs": [
    {
     "name": "stdout",
     "output_type": "stream",
     "text": [
      "The autoreload extension is already loaded. To reload it, use:\n",
      "  %reload_ext autoreload\n"
     ]
    }
   ],
   "source": [
    "%load_ext autoreload\n",
    "%autoreload 2"
   ]
  },
  {
   "cell_type": "code",
   "execution_count": 16,
   "metadata": {},
   "outputs": [],
   "source": [
    "#default_exp classify_image"
   ]
  },
  {
   "cell_type": "code",
   "execution_count": 17,
   "metadata": {},
   "outputs": [],
   "source": [
    "#export\n",
    "from food.tools import *\n",
    "from food.paths import *\n",
    "from food.psql import *\n",
    "import requests\n",
    "from food.qdrant import *"
   ]
  },
  {
   "cell_type": "code",
   "execution_count": 46,
   "metadata": {},
   "outputs": [],
   "source": [
    "#export\n",
    "foods = read_sql('foods')\n",
    "foods = foods.drop(columns = ['clip'])\n",
    "foods = foods.set_index('id')"
   ]
  },
  {
   "cell_type": "code",
   "execution_count": 104,
   "metadata": {},
   "outputs": [],
   "source": [
    "#export\n",
    "def search_image(url=None,head = 1):\n",
    "    image_clip = requests.post(f'http://127.0.0.1:8181/image2vector/?url={url}').json()\n",
    "    results = client.search(collection_name=collection_name,query_vector=image_clip,top=head)\n",
    "    df = foods.loc[[r.id for r in results]]\n",
    "    df['score'] = [r.score for r in results]\n",
    "    df = df.sort_values('score',ascending=False)\n",
    "\n",
    "    return df.reset_index()"
   ]
  },
  {
   "cell_type": "code",
   "execution_count": 105,
   "metadata": {},
   "outputs": [],
   "source": [
    "url = 'http://glovo.away.guru/photos_resized/CHBTGRR_0011223_1506748497.png'"
   ]
  },
  {
   "cell_type": "code",
   "execution_count": 106,
   "metadata": {},
   "outputs": [
    {
     "data": {
      "text/html": [
       "<div>\n",
       "<style scoped>\n",
       "    .dataframe tbody tr th:only-of-type {\n",
       "        vertical-align: middle;\n",
       "    }\n",
       "\n",
       "    .dataframe tbody tr th {\n",
       "        vertical-align: top;\n",
       "    }\n",
       "\n",
       "    .dataframe thead th {\n",
       "        text-align: right;\n",
       "    }\n",
       "</style>\n",
       "<table border=\"1\" class=\"dataframe\">\n",
       "  <thead>\n",
       "    <tr style=\"text-align: right;\">\n",
       "      <th></th>\n",
       "      <th>id</th>\n",
       "      <th>description</th>\n",
       "      <th>category</th>\n",
       "      <th>energy</th>\n",
       "      <th>protein</th>\n",
       "      <th>carb</th>\n",
       "      <th>fat</th>\n",
       "      <th>score</th>\n",
       "    </tr>\n",
       "  </thead>\n",
       "  <tbody>\n",
       "    <tr>\n",
       "      <th>0</th>\n",
       "      <td>1098180</td>\n",
       "      <td>Beef steak, battered, fried, lean and fat eaten</td>\n",
       "      <td>Beef, excludes ground</td>\n",
       "      <td>252.0</td>\n",
       "      <td>19.86</td>\n",
       "      <td>11.02</td>\n",
       "      <td>14.20</td>\n",
       "      <td>0.245329</td>\n",
       "    </tr>\n",
       "    <tr>\n",
       "      <th>1</th>\n",
       "      <td>1098264</td>\n",
       "      <td>Pork steak or cutlet, battered, fried, lean an...</td>\n",
       "      <td>Pork</td>\n",
       "      <td>271.0</td>\n",
       "      <td>19.87</td>\n",
       "      <td>7.61</td>\n",
       "      <td>17.54</td>\n",
       "      <td>0.244602</td>\n",
       "    </tr>\n",
       "    <tr>\n",
       "      <th>2</th>\n",
       "      <td>1098379</td>\n",
       "      <td>Veal cutlet or steak, broiled, lean and fat eaten</td>\n",
       "      <td>Beef, excludes ground</td>\n",
       "      <td>159.0</td>\n",
       "      <td>27.47</td>\n",
       "      <td>0.00</td>\n",
       "      <td>4.61</td>\n",
       "      <td>0.243580</td>\n",
       "    </tr>\n",
       "    <tr>\n",
       "      <th>3</th>\n",
       "      <td>1098263</td>\n",
       "      <td>Pork steak or cutlet, battered, fried, NS as t...</td>\n",
       "      <td>Pork</td>\n",
       "      <td>271.0</td>\n",
       "      <td>19.87</td>\n",
       "      <td>7.61</td>\n",
       "      <td>17.54</td>\n",
       "      <td>0.243395</td>\n",
       "    </tr>\n",
       "    <tr>\n",
       "      <th>4</th>\n",
       "      <td>1098352</td>\n",
       "      <td>Lamb, ribs, cooked, lean and fat eaten</td>\n",
       "      <td>Lamb, goat, game</td>\n",
       "      <td>358.0</td>\n",
       "      <td>21.95</td>\n",
       "      <td>0.00</td>\n",
       "      <td>29.34</td>\n",
       "      <td>0.242009</td>\n",
       "    </tr>\n",
       "    <tr>\n",
       "      <th>...</th>\n",
       "      <td>...</td>\n",
       "      <td>...</td>\n",
       "      <td>...</td>\n",
       "      <td>...</td>\n",
       "      <td>...</td>\n",
       "      <td>...</td>\n",
       "      <td>...</td>\n",
       "      <td>...</td>\n",
       "    </tr>\n",
       "    <tr>\n",
       "      <th>195</th>\n",
       "      <td>1098597</td>\n",
       "      <td>Turkey, light meat, breaded, baked or fried, s...</td>\n",
       "      <td>Turkey, duck, other poultry</td>\n",
       "      <td>173.0</td>\n",
       "      <td>27.26</td>\n",
       "      <td>6.46</td>\n",
       "      <td>3.69</td>\n",
       "      <td>0.197723</td>\n",
       "    </tr>\n",
       "    <tr>\n",
       "      <th>196</th>\n",
       "      <td>1098524</td>\n",
       "      <td>Chicken thigh, rotisserie, skin eaten</td>\n",
       "      <td>Chicken, whole pieces</td>\n",
       "      <td>226.0</td>\n",
       "      <td>22.51</td>\n",
       "      <td>0.12</td>\n",
       "      <td>15.08</td>\n",
       "      <td>0.197611</td>\n",
       "    </tr>\n",
       "    <tr>\n",
       "      <th>197</th>\n",
       "      <td>1098387</td>\n",
       "      <td>Veal, ground or patty, cooked</td>\n",
       "      <td>Ground beef</td>\n",
       "      <td>171.0</td>\n",
       "      <td>24.18</td>\n",
       "      <td>0.00</td>\n",
       "      <td>7.50</td>\n",
       "      <td>0.197489</td>\n",
       "    </tr>\n",
       "    <tr>\n",
       "      <th>198</th>\n",
       "      <td>1102502</td>\n",
       "      <td>Rice, white, with vegetables and gravy, NS as ...</td>\n",
       "      <td>Rice mixed dishes</td>\n",
       "      <td>107.0</td>\n",
       "      <td>2.15</td>\n",
       "      <td>18.63</td>\n",
       "      <td>2.40</td>\n",
       "      <td>0.197414</td>\n",
       "    </tr>\n",
       "    <tr>\n",
       "      <th>199</th>\n",
       "      <td>1100358</td>\n",
       "      <td>Egg substitute, omelet, scrambled, or fried, w...</td>\n",
       "      <td>Eggs and omelets</td>\n",
       "      <td>137.0</td>\n",
       "      <td>11.50</td>\n",
       "      <td>2.13</td>\n",
       "      <td>9.25</td>\n",
       "      <td>0.197287</td>\n",
       "    </tr>\n",
       "  </tbody>\n",
       "</table>\n",
       "<p>200 rows × 8 columns</p>\n",
       "</div>"
      ],
      "text/plain": [
       "          id                                        description  \\\n",
       "0    1098180    Beef steak, battered, fried, lean and fat eaten   \n",
       "1    1098264  Pork steak or cutlet, battered, fried, lean an...   \n",
       "2    1098379  Veal cutlet or steak, broiled, lean and fat eaten   \n",
       "3    1098263  Pork steak or cutlet, battered, fried, NS as t...   \n",
       "4    1098352             Lamb, ribs, cooked, lean and fat eaten   \n",
       "..       ...                                                ...   \n",
       "195  1098597  Turkey, light meat, breaded, baked or fried, s...   \n",
       "196  1098524              Chicken thigh, rotisserie, skin eaten   \n",
       "197  1098387                      Veal, ground or patty, cooked   \n",
       "198  1102502  Rice, white, with vegetables and gravy, NS as ...   \n",
       "199  1100358  Egg substitute, omelet, scrambled, or fried, w...   \n",
       "\n",
       "                        category  energy  protein   carb    fat     score  \n",
       "0          Beef, excludes ground   252.0    19.86  11.02  14.20  0.245329  \n",
       "1                           Pork   271.0    19.87   7.61  17.54  0.244602  \n",
       "2          Beef, excludes ground   159.0    27.47   0.00   4.61  0.243580  \n",
       "3                           Pork   271.0    19.87   7.61  17.54  0.243395  \n",
       "4               Lamb, goat, game   358.0    21.95   0.00  29.34  0.242009  \n",
       "..                           ...     ...      ...    ...    ...       ...  \n",
       "195  Turkey, duck, other poultry   173.0    27.26   6.46   3.69  0.197723  \n",
       "196        Chicken, whole pieces   226.0    22.51   0.12  15.08  0.197611  \n",
       "197                  Ground beef   171.0    24.18   0.00   7.50  0.197489  \n",
       "198            Rice mixed dishes   107.0     2.15  18.63   2.40  0.197414  \n",
       "199             Eggs and omelets   137.0    11.50   2.13   9.25  0.197287  \n",
       "\n",
       "[200 rows x 8 columns]"
      ]
     },
     "execution_count": 106,
     "metadata": {},
     "output_type": "execute_result"
    }
   ],
   "source": [
    "search_image(url,head=200)"
   ]
  },
  {
   "cell_type": "code",
   "execution_count": 107,
   "metadata": {},
   "outputs": [
    {
     "name": "stdout",
     "output_type": "stream",
     "text": [
      "Converted 00_custom_pandas.ipynb.\n",
      "Converted 00_paths.ipynb.\n",
      "Converted 00_psql.ipynb.\n",
      "Converted 00_qdrant.ipynb.\n",
      "Converted 00_tools.ipynb.\n",
      "Converted 01_classfy_image.ipynb.\n",
      "Converted 0_template copy.ipynb.\n",
      "Converted 0_template.ipynb.\n",
      "Converted Untitled-1.ipynb.\n",
      "Converted inference.ipynb.\n",
      "Converted stats.ipynb.\n",
      "Converted usda_parsing.ipynb.\n"
     ]
    }
   ],
   "source": [
    "!nbdev_build_lib"
   ]
  },
  {
   "cell_type": "code",
   "execution_count": null,
   "metadata": {},
   "outputs": [],
   "source": []
  }
 ],
 "metadata": {
  "interpreter": {
   "hash": "1e1ee659a212ecca49d6a1809275141ef7642c152d6286fb803a43d965656456"
  },
  "kernelspec": {
   "display_name": "re",
   "language": "python",
   "name": "python3"
  },
  "language_info": {
   "codemirror_mode": {
    "name": "ipython",
    "version": 3
   },
   "file_extension": ".py",
   "mimetype": "text/x-python",
   "name": "python",
   "nbconvert_exporter": "python",
   "pygments_lexer": "ipython3",
   "version": "3.9.7"
  }
 },
 "nbformat": 4,
 "nbformat_minor": 4
}
