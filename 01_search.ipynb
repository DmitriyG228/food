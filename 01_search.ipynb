{
 "cells": [
  {
   "cell_type": "code",
   "execution_count": 1,
   "metadata": {},
   "outputs": [],
   "source": [
    "%load_ext autoreload\n",
    "%autoreload 2"
   ]
  },
  {
   "cell_type": "code",
   "execution_count": 2,
   "metadata": {},
   "outputs": [],
   "source": [
    "#default_exp search"
   ]
  },
  {
   "cell_type": "code",
   "execution_count": 3,
   "metadata": {},
   "outputs": [],
   "source": [
    "#export\n",
    "from food.tools import *\n",
    "from food.paths import *\n",
    "from food.psql import *\n",
    "import requests\n",
    "from food.qdrant import *\n",
    "import torch\n",
    "from torch.nn import CosineSimilarity\n",
    "cos = CosineSimilarity(dim=1, eps=1e-08)\n",
    "import numpy as np"
   ]
  },
  {
   "cell_type": "code",
   "execution_count": 4,
   "metadata": {},
   "outputs": [],
   "source": [
    "#export\n",
    "## temp while api is not aperational\n",
    "# from food.clipmodel import *\n",
    "from PIL import Image"
   ]
  },
  {
   "cell_type": "code",
   "execution_count": 5,
   "metadata": {},
   "outputs": [],
   "source": [
    "# #export\n",
    "# foods = read_sql('foods')\n",
    "# # foods = foods.drop(columns = ['clip'])\n",
    "# foods = foods.set_index('id')"
   ]
  },
  {
   "cell_type": "code",
   "execution_count": 6,
   "metadata": {},
   "outputs": [],
   "source": [
    "#export\n",
    "collection_name = 'food_images'\n",
    "table = 'foods_prompted'\n",
    "foods = read_sql(table)\n",
    "foods = foods.set_index('id')"
   ]
  },
  {
   "cell_type": "code",
   "execution_count": 7,
   "metadata": {},
   "outputs": [],
   "source": [
    "#export\n",
    "def read_image_from_url(url=None,path=None):\n",
    "    if url: response = requests.get(url, stream=True)\n",
    "    if path: pass\n",
    "    return Image.open(response.raw)\n",
    "\n"
   ]
  },
  {
   "cell_type": "code",
   "execution_count": 8,
   "metadata": {},
   "outputs": [],
   "source": [
    "#export\n",
    "def search_image_(url=None,head = 1,env='dev'):\n",
    "    client = dev_client if env == 'dev' else prod_client\n",
    "    image_clip = requests.post(f'https://guru.skynet.center/image2vector/?url={url}').json()\n",
    "    results = client.search(collection_name=collection_name,query_vector=image_clip,top=head)\n",
    "    image_clip = torch.Tensor(image_clip)\n",
    "    df = foods.loc[[r.id for r in results]].copy()\n",
    "    df['score'] = [r.score for r in results]\n",
    "    df = df.sort_values('score',ascending=False)\n",
    "\n",
    "    return image_clip,df.reset_index()\n",
    "\n",
    "series2tensor = lambda series:torch.tensor([np.array(c) for c in series.values])"
   ]
  },
  {
   "cell_type": "code",
   "execution_count": 9,
   "metadata": {},
   "outputs": [],
   "source": [
    "#export\n",
    "drop_vector =      lambda clip, i: torch.cat([clip[0:i], clip[i+1:]])\n",
    "\n",
    "def multiply_vector(clip,i,n=1):\n",
    "    duplicated = torch.cat([clip[i].reshape(1,768) for _ in range(n)])\n",
    "    return torch.cat([clip, duplicated.reshape(n,768)])"
   ]
  },
  {
   "cell_type": "code",
   "execution_count": 112,
   "metadata": {},
   "outputs": [],
   "source": [
    "#export\n",
    "def multiple_foods(url,env='dev'):\n",
    "\n",
    "    image_clip,selected = search_image_(url,head=100,env=env)\n",
    "    selected=selected.reset_index(drop=True)\n",
    "    clip = series2tensor(selected['clip'])\n",
    "    initscore = float(cos(image_clip.reshape(1,768), clip.mean(0).reshape(1,768)).detach().clone())\n",
    "    startscore = initscore-0.0000001\n",
    "    n=0\n",
    "\n",
    "    while startscore !=initscore:\n",
    "        startscore = initscore\n",
    "        \n",
    "        selected = selected.reset_index(drop=True)\n",
    "        for i in reversed(selected.index):\n",
    "            clip = series2tensor(selected['clip'])\n",
    "            dropped = drop_vector(clip,i)\n",
    "            testscore = float(cos(image_clip.reshape(1,768), dropped.mean(0).reshape(1,768)).detach().clone())\n",
    "\n",
    "            if testscore > initscore-0.0001: \n",
    "                r = selected.loc[i,'text']\n",
    "                selected = selected.drop(i)\n",
    "                initscore = testscore\n",
    "\n",
    "            else:\n",
    "                extra = multiply_vector(clip,i,1)\n",
    "                testscore = float(cos(image_clip.reshape(1,768), extra.mean(0).reshape(1,768)).detach().clone())\n",
    "                if testscore > initscore: \n",
    "                    selected = selected.append(selected.loc[i])\n",
    "                    initscore = testscore\n",
    "\n",
    "            n+=1\n",
    "            if n ==15:break\n",
    "\n",
    "        print(initscore)\n",
    "    count = selected.groupby('text')['clip'].count().sort_index()\n",
    "    r = selected.drop_duplicates('text').set_index(\"text\").sort_index()\n",
    "    r['count'] = count\n",
    "    r = r.sort_values('count',ascending = False)\n",
    "    r['cumcount'] = r['count'].cumsum()/r['count'].sum()\n",
    "\n",
    "    description = '. '.join(r[r['cumcount']<0.9]['description'].unique().tolist())\n",
    "\n",
    "\n",
    "    return r.drop(columns = ['clip']), description, selected,initscore"
   ]
  },
  {
   "cell_type": "code",
   "execution_count": 113,
   "metadata": {},
   "outputs": [],
   "source": [
    "#export\n",
    "def search_image(url,env='dev'):\n",
    "    r, desc, sel,score = multiple_foods(url,env=env)\n",
    "    df = sel[['energy','protein','carb','fat','score']].mean().to_frame().T\n",
    "    df['score'] =score\n",
    "    df['description'] = desc\n",
    "    return df.round()\n"
   ]
  },
  {
   "cell_type": "code",
   "execution_count": 123,
   "metadata": {},
   "outputs": [],
   "source": [
    "url = 'https://glovo.away.guru/test_photos/3fbd4cbe-478a-4482-99e2-43588541e950.jpeg'"
   ]
  },
  {
   "cell_type": "code",
   "execution_count": 120,
   "metadata": {},
   "outputs": [],
   "source": [
    "url = 'https://img1.russianfood.com/dycontent/images_upl/465/big_464858.jpg'"
   ]
  },
  {
   "cell_type": "code",
   "execution_count": 124,
   "metadata": {},
   "outputs": [
    {
     "name": "stdout",
     "output_type": "stream",
     "text": [
      "0.2125802515049535\n",
      "0.23824091537855335\n",
      "0.2470458392318917\n",
      "0.25041994825349023\n",
      "0.25039596514915996\n",
      "0.25034885881965907\n",
      "0.25028950119968735\n",
      "0.25028950119968735\n"
     ]
    }
   ],
   "source": [
    "r, desc, sel,score = multiple_foods(url,env='prod')"
   ]
  },
  {
   "cell_type": "code",
   "execution_count": 125,
   "metadata": {},
   "outputs": [
    {
     "data": {
      "text/html": [
       "<div>\n",
       "<style scoped>\n",
       "    .dataframe tbody tr th:only-of-type {\n",
       "        vertical-align: middle;\n",
       "    }\n",
       "\n",
       "    .dataframe tbody tr th {\n",
       "        vertical-align: top;\n",
       "    }\n",
       "\n",
       "    .dataframe thead th {\n",
       "        text-align: right;\n",
       "    }\n",
       "</style>\n",
       "<table border=\"1\" class=\"dataframe\">\n",
       "  <thead>\n",
       "    <tr style=\"text-align: right;\">\n",
       "      <th></th>\n",
       "      <th>id</th>\n",
       "      <th>description</th>\n",
       "      <th>category</th>\n",
       "      <th>energy</th>\n",
       "      <th>protein</th>\n",
       "      <th>carb</th>\n",
       "      <th>fat</th>\n",
       "      <th>score</th>\n",
       "      <th>count</th>\n",
       "      <th>cumcount</th>\n",
       "    </tr>\n",
       "    <tr>\n",
       "      <th>text</th>\n",
       "      <th></th>\n",
       "      <th></th>\n",
       "      <th></th>\n",
       "      <th></th>\n",
       "      <th></th>\n",
       "      <th></th>\n",
       "      <th></th>\n",
       "      <th></th>\n",
       "      <th></th>\n",
       "      <th></th>\n",
       "    </tr>\n",
       "  </thead>\n",
       "  <tbody>\n",
       "    <tr>\n",
       "      <th>the food is egg rolls, dumplings, sushi . it has a little bit of   topped with salmon sushi</th>\n",
       "      <td>1102354</td>\n",
       "      <td>Sushi, topped with salmon</td>\n",
       "      <td>Egg rolls, dumplings, sushi</td>\n",
       "      <td>107.0</td>\n",
       "      <td>8.92</td>\n",
       "      <td>13.39</td>\n",
       "      <td>1.74</td>\n",
       "      <td>0.818805</td>\n",
       "      <td>3</td>\n",
       "      <td>0.333333</td>\n",
       "    </tr>\n",
       "    <tr>\n",
       "      <th>the food is fish . it has a little bit of   steamed or poached salmon</th>\n",
       "      <td>1098977</td>\n",
       "      <td>Salmon, steamed or poached</td>\n",
       "      <td>Fish</td>\n",
       "      <td>160.0</td>\n",
       "      <td>25.78</td>\n",
       "      <td>0.00</td>\n",
       "      <td>5.53</td>\n",
       "      <td>0.733792</td>\n",
       "      <td>3</td>\n",
       "      <td>0.666667</td>\n",
       "    </tr>\n",
       "    <tr>\n",
       "      <th>the food is fish . it has a little bit of   made with margarine  baked or broiled salmon</th>\n",
       "      <td>1098964</td>\n",
       "      <td>Salmon, baked or broiled, made with margarine</td>\n",
       "      <td>Fish</td>\n",
       "      <td>177.0</td>\n",
       "      <td>25.07</td>\n",
       "      <td>0.13</td>\n",
       "      <td>7.84</td>\n",
       "      <td>0.755125</td>\n",
       "      <td>2</td>\n",
       "      <td>0.888889</td>\n",
       "    </tr>\n",
       "    <tr>\n",
       "      <th>the food is egg rolls, dumplings, sushi . it has a little bit of   california sushi roll</th>\n",
       "      <td>1102346</td>\n",
       "      <td>Sushi roll, California</td>\n",
       "      <td>Egg rolls, dumplings, sushi</td>\n",
       "      <td>93.0</td>\n",
       "      <td>2.92</td>\n",
       "      <td>18.41</td>\n",
       "      <td>0.67</td>\n",
       "      <td>0.826967</td>\n",
       "      <td>1</td>\n",
       "      <td>1.000000</td>\n",
       "    </tr>\n",
       "  </tbody>\n",
       "</table>\n",
       "</div>"
      ],
      "text/plain": [
       "                                                         id  \\\n",
       "text                                                          \n",
       "the food is egg rolls, dumplings, sushi . it ha...  1102354   \n",
       "the food is fish . it has a little bit of   ste...  1098977   \n",
       "the food is fish . it has a little bit of   mad...  1098964   \n",
       "the food is egg rolls, dumplings, sushi . it ha...  1102346   \n",
       "\n",
       "                                                                                      description  \\\n",
       "text                                                                                                \n",
       "the food is egg rolls, dumplings, sushi . it ha...                      Sushi, topped with salmon   \n",
       "the food is fish . it has a little bit of   ste...                     Salmon, steamed or poached   \n",
       "the food is fish . it has a little bit of   mad...  Salmon, baked or broiled, made with margarine   \n",
       "the food is egg rolls, dumplings, sushi . it ha...                         Sushi roll, California   \n",
       "\n",
       "                                                                       category  \\\n",
       "text                                                                              \n",
       "the food is egg rolls, dumplings, sushi . it ha...  Egg rolls, dumplings, sushi   \n",
       "the food is fish . it has a little bit of   ste...                         Fish   \n",
       "the food is fish . it has a little bit of   mad...                         Fish   \n",
       "the food is egg rolls, dumplings, sushi . it ha...  Egg rolls, dumplings, sushi   \n",
       "\n",
       "                                                    energy  protein   carb  \\\n",
       "text                                                                         \n",
       "the food is egg rolls, dumplings, sushi . it ha...   107.0     8.92  13.39   \n",
       "the food is fish . it has a little bit of   ste...   160.0    25.78   0.00   \n",
       "the food is fish . it has a little bit of   mad...   177.0    25.07   0.13   \n",
       "the food is egg rolls, dumplings, sushi . it ha...    93.0     2.92  18.41   \n",
       "\n",
       "                                                     fat     score  count  \\\n",
       "text                                                                        \n",
       "the food is egg rolls, dumplings, sushi . it ha...  1.74  0.818805      3   \n",
       "the food is fish . it has a little bit of   ste...  5.53  0.733792      3   \n",
       "the food is fish . it has a little bit of   mad...  7.84  0.755125      2   \n",
       "the food is egg rolls, dumplings, sushi . it ha...  0.67  0.826967      1   \n",
       "\n",
       "                                                    cumcount  \n",
       "text                                                          \n",
       "the food is egg rolls, dumplings, sushi . it ha...  0.333333  \n",
       "the food is fish . it has a little bit of   ste...  0.666667  \n",
       "the food is fish . it has a little bit of   mad...  0.888889  \n",
       "the food is egg rolls, dumplings, sushi . it ha...  1.000000  "
      ]
     },
     "execution_count": 125,
     "metadata": {},
     "output_type": "execute_result"
    }
   ],
   "source": [
    "r"
   ]
  },
  {
   "cell_type": "code",
   "execution_count": 16,
   "metadata": {},
   "outputs": [
    {
     "data": {
      "text/html": [
       "<div>\n",
       "<style scoped>\n",
       "    .dataframe tbody tr th:only-of-type {\n",
       "        vertical-align: middle;\n",
       "    }\n",
       "\n",
       "    .dataframe tbody tr th {\n",
       "        vertical-align: top;\n",
       "    }\n",
       "\n",
       "    .dataframe thead th {\n",
       "        text-align: right;\n",
       "    }\n",
       "</style>\n",
       "<table border=\"1\" class=\"dataframe\">\n",
       "  <thead>\n",
       "    <tr style=\"text-align: right;\">\n",
       "      <th></th>\n",
       "      <th>energy</th>\n",
       "      <th>protein</th>\n",
       "      <th>carb</th>\n",
       "      <th>fat</th>\n",
       "      <th>score</th>\n",
       "      <th>description</th>\n",
       "    </tr>\n",
       "  </thead>\n",
       "  <tbody>\n",
       "    <tr>\n",
       "      <th>0</th>\n",
       "      <td>131.0</td>\n",
       "      <td>12.0</td>\n",
       "      <td>7.0</td>\n",
       "      <td>6.0</td>\n",
       "      <td>0.0</td>\n",
       "      <td>Beef, oxtails, cooked. Mushrooms, fresh, cooke...</td>\n",
       "    </tr>\n",
       "  </tbody>\n",
       "</table>\n",
       "</div>"
      ],
      "text/plain": [
       "   energy  protein  carb  fat  score  \\\n",
       "0   131.0     12.0   7.0  6.0    0.0   \n",
       "\n",
       "                                         description  \n",
       "0  Beef, oxtails, cooked. Mushrooms, fresh, cooke...  "
      ]
     },
     "execution_count": 16,
     "metadata": {},
     "output_type": "execute_result"
    }
   ],
   "source": [
    "search_image(url,env='prod')"
   ]
  },
  {
   "cell_type": "code",
   "execution_count": 5,
   "metadata": {},
   "outputs": [
    {
     "name": "stdout",
     "output_type": "stream",
     "text": [
      "Converted 00_clipmodel.ipynb.\n",
      "Converted 00_custom_pandas.ipynb.\n",
      "Converted 00_paths.ipynb.\n",
      "Converted 00_progress_check.ipynb.\n",
      "Converted 00_psql.ipynb.\n",
      "Converted 00_qdrant.ipynb.\n",
      "Converted 00_tools.ipynb.\n",
      "Converted 01_multiple_foods.ipynb.\n",
      "Converted 01_multiple_foods_segmantation.ipynb.\n",
      "Converted 01_search.ipynb.\n",
      "Converted 0_template copy 2.ipynb.\n",
      "Converted 0_template copy.ipynb.\n",
      "Converted 0_template.ipynb.\n",
      "Converted OFA.ipynb.\n",
      "Converted Untitled-1.ipynb.\n",
      "Converted bot pseudocode.ipynb.\n",
      "Converted bot_test.ipynb.\n",
      "Converted classifying_glovo_images.ipynb.\n",
      "Converted foodd dataset.ipynb.\n",
      "Converted foods_prompted_tosql.ipynb.\n",
      "Converted ideas.ipynb.\n",
      "Converted inference.ipynb.\n",
      "Converted multiple3105.ipynb.\n",
      "Converted multiple_3005.ipynb.\n",
      "No export destination, ignored:\n",
      "#export\n",
      "def search_image(url=None,head = 1):\n",
      "    image_clip = requests.post(f'https://guru.skynet.center/image2vector/?url={url}').json()\n",
      "    results = client.search(collection_name=collection_name,query_vector=image_clip,top=head)\n",
      "    image_clip = torch.Tensor(image_clip)\n",
      "    df = foods.loc[[r.id for r in results]].copy()\n",
      "    df['score'] = [r.score for r in results]\n",
      "    df = df.sort_values('score',ascending=False)\n",
      "\n",
      "    return image_clip,df.reset_index()\n",
      "\n",
      "series2tensor = lambda series:torch.tensor([np.array(c) for c in series.values])\n",
      "Warning: Exporting to \"None.py\" but this module is not part of this build\n",
      "Traceback (most recent call last):\n",
      "  File \"/home/dima/anaconda3/envs/food/bin/nbdev_build_lib\", line 8, in <module>\n",
      "    sys.exit(nbdev_build_lib())\n",
      "  File \"/home/dima/anaconda3/envs/food/lib/python3.9/site-packages/fastcore/script.py\", line 112, in _f\n",
      "    tfunc(**merge(args, args_from_prog(func, xtra)))\n",
      "  File \"/home/dima/anaconda3/envs/food/lib/python3.9/site-packages/nbdev/export2html.py\", line 465, in nbdev_build_lib\n",
      "    notebook2script(fname=fname, bare=bare)\n",
      "  File \"/home/dima/anaconda3/envs/food/lib/python3.9/site-packages/nbdev/export.py\", line 430, in notebook2script\n",
      "    for f in sorted(files): d = _notebook2script(f, modules, silent=silent, to_dict=d, bare=bare)\n",
      "  File \"/home/dima/anaconda3/envs/food/lib/python3.9/site-packages/nbdev/export.py\", line 357, in _notebook2script\n",
      "    if to_dict is None: _add2all(fname_out, [f\"'{f}'\" for f in names if '.' not in f and len(f) > 0] + extra)\n",
      "  File \"/home/dima/anaconda3/envs/food/lib/python3.9/site-packages/nbdev/export.py\", line 208, in _add2all\n",
      "    with open(fname, 'r', encoding='utf8') as f: text = f.read()\n",
      "FileNotFoundError: [Errno 2] No such file or directory: '/home/dima/food/food/None.py'\n"
     ]
    }
   ],
   "source": [
    "!nbdev_build_lib"
   ]
  },
  {
   "cell_type": "code",
   "execution_count": null,
   "metadata": {},
   "outputs": [],
   "source": []
  }
 ],
 "metadata": {
  "interpreter": {
   "hash": "1e1ee659a212ecca49d6a1809275141ef7642c152d6286fb803a43d965656456"
  },
  "kernelspec": {
   "display_name": "re",
   "language": "python",
   "name": "python3"
  },
  "language_info": {
   "codemirror_mode": {
    "name": "ipython",
    "version": 3
   },
   "file_extension": ".py",
   "mimetype": "text/x-python",
   "name": "python",
   "nbconvert_exporter": "python",
   "pygments_lexer": "ipython3",
   "version": "3.9.7"
  }
 },
 "nbformat": 4,
 "nbformat_minor": 4
}
