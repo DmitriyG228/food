{
 "cells": [
  {
   "cell_type": "code",
   "execution_count": 1,
   "metadata": {},
   "outputs": [],
   "source": [
    "%load_ext autoreload\n",
    "%autoreload 2"
   ]
  },
  {
   "cell_type": "code",
   "execution_count": 2,
   "metadata": {},
   "outputs": [],
   "source": [
    "#default_exp search"
   ]
  },
  {
   "cell_type": "code",
   "execution_count": 3,
   "metadata": {},
   "outputs": [],
   "source": [
    "#export\n",
    "from food.tools import *\n",
    "from food.paths import *\n",
    "from food.psql import *\n",
    "import requests\n",
    "from food.qdrant import *\n",
    "import torch\n",
    "from torch.nn import CosineSimilarity\n",
    "cos = CosineSimilarity(dim=1, eps=1e-08)\n",
    "import numpy as np"
   ]
  },
  {
   "cell_type": "code",
   "execution_count": 4,
   "metadata": {},
   "outputs": [],
   "source": [
    "#export\n",
    "## temp while api is not aperational\n",
    "# from food.clipmodel import *\n",
    "from PIL import Image"
   ]
  },
  {
   "cell_type": "code",
   "execution_count": 5,
   "metadata": {},
   "outputs": [],
   "source": [
    "# #export\n",
    "# foods = read_sql('foods')\n",
    "# # foods = foods.drop(columns = ['clip'])\n",
    "# foods = foods.set_index('id')"
   ]
  },
  {
   "cell_type": "code",
   "execution_count": 6,
   "metadata": {},
   "outputs": [],
   "source": [
    "#export\n",
    "collection_name = 'food_images'\n",
    "table = 'foods_prompted'\n",
    "foods = read_sql(table)\n",
    "foods = foods.set_index('id')"
   ]
  },
  {
   "cell_type": "code",
   "execution_count": 7,
   "metadata": {},
   "outputs": [],
   "source": [
    "#export\n",
    "def read_image_from_url(url=None):\n",
    "    response = requests.get(url, stream=True)\n",
    "    return Image.open(response.raw)\n"
   ]
  },
  {
   "cell_type": "code",
   "execution_count": 8,
   "metadata": {},
   "outputs": [],
   "source": [
    "env = 'prod'"
   ]
  },
  {
   "cell_type": "code",
   "execution_count": 11,
   "metadata": {},
   "outputs": [],
   "source": [
    "url = 'https://www.applesfromny.com/wp-content/uploads/2020/06/SnapdragonNEW.png'"
   ]
  },
  {
   "cell_type": "code",
   "execution_count": 16,
   "metadata": {},
   "outputs": [],
   "source": [
    "#export\n",
    "def search_image_(url=None,head = 1,env='dev'):\n",
    "    client = dev_client if env == 'dev' else prod_client\n",
    "    image_clip = requests.post(f'https://guru.skynet.center/image2vector/?url={url}').json()\n",
    "    results = client.search(collection_name=collection_name,query_vector=image_clip,top=head)\n",
    "    image_clip = torch.Tensor(image_clip)\n",
    "    df = foods.loc[[r.id for r in results]].copy()\n",
    "    df['score'] = [r.score for r in results]\n",
    "    df = df.sort_values('score',ascending=False)\n",
    "\n",
    "    return image_clip,df.reset_index()\n",
    "\n",
    "series2tensor = lambda series:torch.tensor([np.array(c) for c in series.values])"
   ]
  },
  {
   "cell_type": "code",
   "execution_count": 17,
   "metadata": {},
   "outputs": [],
   "source": [
    "#export\n",
    "drop_vector =      lambda clip, i: torch.cat([clip[0:i], clip[i+1:]])\n",
    "\n",
    "def multiply_vector(clip,i,n=1):\n",
    "    duplicated = torch.cat([clip[i].reshape(1,768) for _ in range(n)])\n",
    "    return torch.cat([clip, duplicated.reshape(n,768)])"
   ]
  },
  {
   "cell_type": "code",
   "execution_count": 18,
   "metadata": {},
   "outputs": [],
   "source": [
    "#export\n",
    "\n",
    "def multiple_foods(url,env='dev'):\n",
    "\n",
    "    image_clip,selected = search_image_(url,head=100,env=env)\n",
    "    selected=selected.reset_index(drop=True)\n",
    "    clip = series2tensor(selected['clip'])\n",
    "    initscore = cos(image_clip.reshape(1,768), clip.mean(0).reshape(1,768))\n",
    "\n",
    "    startscore = initscore.detach().clone()-0.0000001\n",
    "\n",
    "    while startscore !=initscore:\n",
    "        startscore = initscore.detach().clone()\n",
    "        \n",
    "        selected = selected.reset_index(drop=True)\n",
    "        for i in reversed(selected.index):\n",
    "            clip = series2tensor(selected['clip'])\n",
    "            dropped = drop_vector(clip,i)\n",
    "            testscore = cos(image_clip.reshape(1,768), dropped.mean(0).reshape(1,768))\n",
    "\n",
    "            if testscore > initscore-0.0001: \n",
    "                r = selected.loc[i,'text']\n",
    "                selected = selected.drop(i)\n",
    "                initscore = testscore\n",
    "\n",
    "            else:\n",
    "                extra = multiply_vector(clip,i,1)\n",
    "                testscore = cos(image_clip.reshape(1,768), extra.mean(0).reshape(1,768))\n",
    "                if testscore > initscore: \n",
    "                    selected = selected.append(selected.loc[i])\n",
    "                    initscore = testscore\n",
    "\n",
    "\n",
    "            \n",
    "\n",
    "        print(initscore)\n",
    "    count = selected.groupby('text')['clip'].count().sort_index()\n",
    "    r = selected.drop_duplicates('text').set_index(\"text\").sort_index()\n",
    "    r['count'] = count\n",
    "    r = r.sort_values('count',ascending = False)\n",
    "    r['cumcount'] = r['count'].cumsum()/r['count'].sum()\n",
    "\n",
    "    description = '. '.join(r[r['cumcount']<0.9]['description'].unique().tolist()) \n",
    "\n",
    "\n",
    "    return r.drop(columns = ['clip']), description, selected,initscore"
   ]
  },
  {
   "cell_type": "code",
   "execution_count": 19,
   "metadata": {},
   "outputs": [],
   "source": [
    "#export\n",
    "def search_image(url,env='dev'):\n",
    "    r, desc, sel,score = multiple_foods(url,env=env)\n",
    "    df = sel[['energy','protein','carb','fat','score']].mean().to_frame().T\n",
    "    df['score'] =score\n",
    "    df['description'] = desc\n",
    "    return df.round()\n"
   ]
  },
  {
   "cell_type": "code",
   "execution_count": 20,
   "metadata": {},
   "outputs": [],
   "source": [
    "url = 'https://image.shutterstock.com/image-photo/red-apple-isolated-on-white-600w-1728480094.jpg'"
   ]
  },
  {
   "cell_type": "code",
   "execution_count": 21,
   "metadata": {},
   "outputs": [
    {
     "name": "stderr",
     "output_type": "stream",
     "text": [
      "/tmp/ipykernel_136362/3265430290.py:13: UserWarning: Creating a tensor from a list of numpy.ndarrays is extremely slow. Please consider converting the list to a single numpy.ndarray with numpy.array() before converting to a tensor. (Triggered internally at  /opt/conda/conda-bld/pytorch_1640811803361/work/torch/csrc/utils/tensor_new.cpp:201.)\n",
      "  series2tensor = lambda series:torch.tensor([np.array(c) for c in series.values])\n"
     ]
    },
    {
     "name": "stdout",
     "output_type": "stream",
     "text": [
      "tensor([0.2346], dtype=torch.float64)\n",
      "tensor([0.2524], dtype=torch.float64)\n",
      "tensor([0.2549], dtype=torch.float64)\n",
      "tensor([0.2550], dtype=torch.float64)\n",
      "tensor([0.2550], dtype=torch.float64)\n"
     ]
    },
    {
     "data": {
      "text/html": [
       "<div>\n",
       "<style scoped>\n",
       "    .dataframe tbody tr th:only-of-type {\n",
       "        vertical-align: middle;\n",
       "    }\n",
       "\n",
       "    .dataframe tbody tr th {\n",
       "        vertical-align: top;\n",
       "    }\n",
       "\n",
       "    .dataframe thead th {\n",
       "        text-align: right;\n",
       "    }\n",
       "</style>\n",
       "<table border=\"1\" class=\"dataframe\">\n",
       "  <thead>\n",
       "    <tr style=\"text-align: right;\">\n",
       "      <th></th>\n",
       "      <th>energy</th>\n",
       "      <th>protein</th>\n",
       "      <th>carb</th>\n",
       "      <th>fat</th>\n",
       "      <th>score</th>\n",
       "      <th>description</th>\n",
       "    </tr>\n",
       "  </thead>\n",
       "  <tbody>\n",
       "    <tr>\n",
       "      <th>0</th>\n",
       "      <td>79.0</td>\n",
       "      <td>1.0</td>\n",
       "      <td>19.0</td>\n",
       "      <td>1.0</td>\n",
       "      <td>0.0</td>\n",
       "      <td>Apple, raw</td>\n",
       "    </tr>\n",
       "  </tbody>\n",
       "</table>\n",
       "</div>"
      ],
      "text/plain": [
       "   energy  protein  carb  fat  score description\n",
       "0    79.0      1.0  19.0  1.0    0.0  Apple, raw"
      ]
     },
     "execution_count": 21,
     "metadata": {},
     "output_type": "execute_result"
    }
   ],
   "source": [
    "search_image(url,env='prod')"
   ]
  },
  {
   "cell_type": "code",
   "execution_count": 2,
   "metadata": {},
   "outputs": [
    {
     "name": "stdout",
     "output_type": "stream",
     "text": [
      "Converted 00_clipmodel.ipynb.\n",
      "Converted 00_custom_pandas.ipynb.\n",
      "Converted 00_paths.ipynb.\n",
      "Converted 00_progress_check.ipynb.\n",
      "Converted 00_psql.ipynb.\n",
      "Converted 00_qdrant.ipynb.\n",
      "Converted 00_tools.ipynb.\n",
      "Converted 01_search.ipynb.\n",
      "Converted inference.ipynb.\n",
      "Converted stats.ipynb.\n"
     ]
    }
   ],
   "source": [
    "!nbdev_build_lib"
   ]
  },
  {
   "cell_type": "code",
   "execution_count": null,
   "metadata": {},
   "outputs": [],
   "source": []
  }
 ],
 "metadata": {
  "interpreter": {
   "hash": "1e1ee659a212ecca49d6a1809275141ef7642c152d6286fb803a43d965656456"
  },
  "kernelspec": {
   "display_name": "re",
   "language": "python",
   "name": "python3"
  },
  "language_info": {
   "codemirror_mode": {
    "name": "ipython",
    "version": 3
   },
   "file_extension": ".py",
   "mimetype": "text/x-python",
   "name": "python",
   "nbconvert_exporter": "python",
   "pygments_lexer": "ipython3",
   "version": "3.9.7"
  }
 },
 "nbformat": 4,
 "nbformat_minor": 4
}
