{
 "cells": [
  {
   "cell_type": "code",
   "execution_count": 14,
   "metadata": {},
   "outputs": [
    {
     "name": "stdout",
     "output_type": "stream",
     "text": [
      "The autoreload extension is already loaded. To reload it, use:\n",
      "  %reload_ext autoreload\n"
     ]
    }
   ],
   "source": [
    "%load_ext autoreload\n",
    "%autoreload 2"
   ]
  },
  {
   "cell_type": "code",
   "execution_count": 15,
   "metadata": {},
   "outputs": [],
   "source": [
    "#default_exp search"
   ]
  },
  {
   "cell_type": "code",
   "execution_count": 16,
   "metadata": {},
   "outputs": [],
   "source": [
    "#export\n",
    "from food.tools import *\n",
    "from food.paths import *\n",
    "from food.psql import *\n",
    "import requests\n",
    "from food.qdrant import *\n",
    "import torch\n",
    "from torch.nn import CosineSimilarity\n",
    "cos = CosineSimilarity(dim=1, eps=1e-08)\n",
    "import numpy as np"
   ]
  },
  {
   "cell_type": "code",
   "execution_count": 17,
   "metadata": {},
   "outputs": [],
   "source": [
    "#export\n",
    "## temp while api is not aperational\n",
    "# from food.clipmodel import *\n",
    "from PIL import Image"
   ]
  },
  {
   "cell_type": "code",
   "execution_count": 18,
   "metadata": {},
   "outputs": [],
   "source": [
    "# #export\n",
    "# foods = read_sql('foods')\n",
    "# # foods = foods.drop(columns = ['clip'])\n",
    "# foods = foods.set_index('id')"
   ]
  },
  {
   "cell_type": "code",
   "execution_count": 19,
   "metadata": {},
   "outputs": [],
   "source": [
    "#export\n",
    "collection_name = 'food_prompted'\n",
    "table = 'foods_prompted'\n",
    "foods = read_sql(table)\n",
    "foods = foods.set_index('id')"
   ]
  },
  {
   "cell_type": "code",
   "execution_count": 20,
   "metadata": {},
   "outputs": [],
   "source": [
    "#export\n",
    "def read_image_from_url(url=None):\n",
    "    response = requests.get(url, stream=True)\n",
    "    return Image.open(response.raw)\n"
   ]
  },
  {
   "cell_type": "code",
   "execution_count": 21,
   "metadata": {},
   "outputs": [],
   "source": [
    "#export\n",
    "def search_image_(url=None,head = 1):\n",
    "    image_clip = requests.post(f'https://guru.skynet.center/image2vector/?url={url}').json()\n",
    "    results = client.search(collection_name=collection_name,query_vector=image_clip,top=head)\n",
    "    image_clip = torch.Tensor(image_clip)\n",
    "    df = foods.loc[[r.id for r in results]].copy()\n",
    "    df['score'] = [r.score for r in results]\n",
    "    df = df.sort_values('score',ascending=False)\n",
    "\n",
    "    return image_clip,df.reset_index()\n",
    "\n",
    "series2tensor = lambda series:torch.tensor([np.array(c) for c in series.values])"
   ]
  },
  {
   "cell_type": "code",
   "execution_count": 22,
   "metadata": {},
   "outputs": [],
   "source": [
    "#export\n",
    "drop_vector =      lambda clip, i: torch.cat([clip[0:i], clip[i+1:]])\n",
    "\n",
    "def multiply_vector(clip,i,n=1):\n",
    "    duplicated = torch.cat([clip[i].reshape(1,768) for _ in range(n)])\n",
    "    return torch.cat([clip, duplicated.reshape(n,768)])"
   ]
  },
  {
   "cell_type": "code",
   "execution_count": 23,
   "metadata": {},
   "outputs": [],
   "source": [
    "#export\n",
    "def multiple_foods(url):\n",
    "\n",
    "    image_clip,selected = search_image_(url,head=100)\n",
    "    selected=selected.reset_index(drop=True)\n",
    "    clip = series2tensor(selected['clip'])\n",
    "    initscore = cos(image_clip.reshape(1,768), clip.mean(0).reshape(1,768))\n",
    "\n",
    "    startscore = initscore.detach().clone()-0.0000001\n",
    "\n",
    "    while startscore !=initscore:\n",
    "        startscore = initscore.detach().clone()\n",
    "        \n",
    "        selected = selected.reset_index(drop=True)\n",
    "        for i in reversed(selected.index):\n",
    "            clip = series2tensor(selected['clip'])\n",
    "            dropped = drop_vector(clip,i)\n",
    "            testscore = cos(image_clip.reshape(1,768), dropped.mean(0).reshape(1,768))\n",
    "\n",
    "            if testscore > initscore-0.0001: \n",
    "                r = selected.loc[i,'text']\n",
    "                selected = selected.drop(i)\n",
    "                initscore = testscore\n",
    "\n",
    "            else:\n",
    "                extra = multiply_vector(clip,i,1)\n",
    "                testscore = cos(image_clip.reshape(1,768), extra.mean(0).reshape(1,768))\n",
    "                if testscore > initscore: \n",
    "                    selected = selected.append(selected.loc[i])\n",
    "                    initscore = testscore\n",
    "\n",
    "\n",
    "            \n",
    "\n",
    "        print(initscore)\n",
    "    count = selected.groupby('text')['clip'].count().sort_index()\n",
    "    r = selected.drop_duplicates('text').set_index(\"text\").sort_index()\n",
    "    r['count'] = count\n",
    "    r = r.sort_values('count',ascending = False)\n",
    "    r['cumcount'] = r['count'].cumsum()/r['count'].sum()\n",
    "\n",
    "    description = '. '.join(r[r['cumcount']<0.9]['description'].unique().tolist())\n",
    "\n",
    "\n",
    "    return r.drop(columns = ['clip']), description, selected"
   ]
  },
  {
   "cell_type": "code",
   "execution_count": 24,
   "metadata": {},
   "outputs": [],
   "source": [
    "#export\n",
    "def search_image(url):\n",
    "    r, desc, sel = multiple_foods(url)\n",
    "    df = sel[['energy','protein','carb','fat']].mean().to_frame().T\n",
    "    df['description'] = desc\n",
    "    return df.round()\n"
   ]
  },
  {
   "cell_type": "code",
   "execution_count": 25,
   "metadata": {},
   "outputs": [
    {
     "name": "stdout",
     "output_type": "stream",
     "text": [
      "tensor([0.2988], dtype=torch.float64)\n",
      "tensor([0.3053], dtype=torch.float64)\n",
      "tensor([0.3056], dtype=torch.float64)\n",
      "tensor([0.3056], dtype=torch.float64)\n",
      "tensor([0.3057], dtype=torch.float64)\n",
      "tensor([0.3057], dtype=torch.float64)\n"
     ]
    },
    {
     "data": {
      "text/html": [
       "<div>\n",
       "<style scoped>\n",
       "    .dataframe tbody tr th:only-of-type {\n",
       "        vertical-align: middle;\n",
       "    }\n",
       "\n",
       "    .dataframe tbody tr th {\n",
       "        vertical-align: top;\n",
       "    }\n",
       "\n",
       "    .dataframe thead th {\n",
       "        text-align: right;\n",
       "    }\n",
       "</style>\n",
       "<table border=\"1\" class=\"dataframe\">\n",
       "  <thead>\n",
       "    <tr style=\"text-align: right;\">\n",
       "      <th></th>\n",
       "      <th>energy</th>\n",
       "      <th>protein</th>\n",
       "      <th>carb</th>\n",
       "      <th>fat</th>\n",
       "      <th>descriptioin</th>\n",
       "    </tr>\n",
       "  </thead>\n",
       "  <tbody>\n",
       "    <tr>\n",
       "      <th>0</th>\n",
       "      <td>221.333333</td>\n",
       "      <td>10.0475</td>\n",
       "      <td>27.095833</td>\n",
       "      <td>8.1025</td>\n",
       "      <td>Hamburger slider, from fast food. Potato, hash...</td>\n",
       "    </tr>\n",
       "  </tbody>\n",
       "</table>\n",
       "</div>"
      ],
      "text/plain": [
       "       energy  protein       carb     fat  \\\n",
       "0  221.333333  10.0475  27.095833  8.1025   \n",
       "\n",
       "                                        descriptioin  \n",
       "0  Hamburger slider, from fast food. Potato, hash...  "
      ]
     },
     "execution_count": 25,
     "metadata": {},
     "output_type": "execute_result"
    }
   ],
   "source": [
    "search_image(url)"
   ]
  },
  {
   "cell_type": "code",
   "execution_count": 28,
   "metadata": {},
   "outputs": [
    {
     "name": "stdout",
     "output_type": "stream",
     "text": [
      "Converted 00_clipmodel.ipynb.\n",
      "Converted 00_custom_pandas.ipynb.\n",
      "Converted 00_paths.ipynb.\n",
      "Converted 00_psql.ipynb.\n",
      "Converted 00_qdrant.ipynb.\n",
      "Converted 00_tools.ipynb.\n",
      "Converted 01_multiple_foods.ipynb.\n",
      "Converted 01_multiple_foods_segmantation.ipynb.\n",
      "Converted 01_search.ipynb.\n",
      "Converted 0_template copy 2.ipynb.\n",
      "Converted 0_template.ipynb.\n",
      "Converted OFA.ipynb.\n",
      "Converted Untitled-1.ipynb.\n",
      "Converted foodd dataset.ipynb.\n",
      "Converted foods_prompted_tosql.ipynb.\n",
      "Converted inference.ipynb.\n",
      "Converted multiple3105.ipynb.\n",
      "Converted multiple_3005.ipynb.\n",
      "No export destination, ignored:\n",
      "#export\n",
      "def search_image(url=None,head = 1):\n",
      "    image_clip = requests.post(f'https://guru.skynet.center/image2vector/?url={url}').json()\n",
      "    results = client.search(collection_name=collection_name,query_vector=image_clip,top=head)\n",
      "    image_clip = torch.Tensor(image_clip)\n",
      "    df = foods.loc[[r.id for r in results]].copy()\n",
      "    df['score'] = [r.score for r in results]\n",
      "    df = df.sort_values('score',ascending=False)\n",
      "\n",
      "    return image_clip,df.reset_index()\n",
      "\n",
      "series2tensor = lambda series:torch.tensor([np.array(c) for c in series.values])\n",
      "Warning: Exporting to \"None.py\" but this module is not part of this build\n",
      "Traceback (most recent call last):\n",
      "  File \"/home/dima/anaconda3/envs/food/bin/nbdev_build_lib\", line 8, in <module>\n",
      "    sys.exit(nbdev_build_lib())\n",
      "  File \"/home/dima/anaconda3/envs/food/lib/python3.9/site-packages/fastcore/script.py\", line 112, in _f\n",
      "    tfunc(**merge(args, args_from_prog(func, xtra)))\n",
      "  File \"/home/dima/anaconda3/envs/food/lib/python3.9/site-packages/nbdev/export2html.py\", line 465, in nbdev_build_lib\n",
      "    notebook2script(fname=fname, bare=bare)\n",
      "  File \"/home/dima/anaconda3/envs/food/lib/python3.9/site-packages/nbdev/export.py\", line 430, in notebook2script\n",
      "    for f in sorted(files): d = _notebook2script(f, modules, silent=silent, to_dict=d, bare=bare)\n",
      "  File \"/home/dima/anaconda3/envs/food/lib/python3.9/site-packages/nbdev/export.py\", line 357, in _notebook2script\n",
      "    if to_dict is None: _add2all(fname_out, [f\"'{f}'\" for f in names if '.' not in f and len(f) > 0] + extra)\n",
      "  File \"/home/dima/anaconda3/envs/food/lib/python3.9/site-packages/nbdev/export.py\", line 208, in _add2all\n",
      "    with open(fname, 'r', encoding='utf8') as f: text = f.read()\n",
      "FileNotFoundError: [Errno 2] No such file or directory: '/home/dima/food/food/None.py'\n"
     ]
    }
   ],
   "source": [
    "!nbdev_build_lib"
   ]
  },
  {
   "cell_type": "code",
   "execution_count": null,
   "metadata": {},
   "outputs": [],
   "source": []
  }
 ],
 "metadata": {
  "interpreter": {
   "hash": "1e1ee659a212ecca49d6a1809275141ef7642c152d6286fb803a43d965656456"
  },
  "kernelspec": {
   "display_name": "re",
   "language": "python",
   "name": "python3"
  },
  "language_info": {
   "codemirror_mode": {
    "name": "ipython",
    "version": 3
   },
   "file_extension": ".py",
   "mimetype": "text/x-python",
   "name": "python",
   "nbconvert_exporter": "python",
   "pygments_lexer": "ipython3",
   "version": "3.9.7"
  }
 },
 "nbformat": 4,
 "nbformat_minor": 4
}
