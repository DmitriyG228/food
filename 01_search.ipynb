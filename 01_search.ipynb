{
 "cells": [
  {
   "cell_type": "code",
   "execution_count": 4,
   "metadata": {},
   "outputs": [],
   "source": [
    "%load_ext autoreload\n",
    "%autoreload 2"
   ]
  },
  {
   "cell_type": "code",
   "execution_count": 5,
   "metadata": {},
   "outputs": [],
   "source": [
    "#default_exp search"
   ]
  },
  {
   "cell_type": "code",
   "execution_count": 6,
   "metadata": {},
   "outputs": [],
   "source": [
    "#export\n",
    "from food.tools import *\n",
    "from food.paths import *\n",
    "from food.psql import *\n",
    "import requests\n",
    "from food.qdrant import *"
   ]
  },
  {
   "cell_type": "code",
   "execution_count": 7,
   "metadata": {},
   "outputs": [
    {
     "name": "stdout",
     "output_type": "stream",
     "text": [
      "device success 0\n"
     ]
    }
   ],
   "source": [
    "#export\n",
    "## temp while api is not aperational\n",
    "from food.clipmodel import *\n",
    "from PIL import Image"
   ]
  },
  {
   "cell_type": "code",
   "execution_count": 8,
   "metadata": {},
   "outputs": [],
   "source": [
    "#export\n",
    "foods = read_sql('foods')\n",
    "# foods = foods.drop(columns = ['clip'])\n",
    "foods = foods.set_index('id')"
   ]
  },
  {
   "cell_type": "code",
   "execution_count": 9,
   "metadata": {},
   "outputs": [],
   "source": [
    "#export\n",
    "def read_image_from_url(url=None):\n",
    "    response = requests.get(url, stream=True)\n",
    "    return Image.open(response.raw)\n"
   ]
  },
  {
   "cell_type": "code",
   "execution_count": 10,
   "metadata": {},
   "outputs": [],
   "source": [
    "#export\n",
    "def search_image(url=None,head = 1):\n",
    "    image_clip = image2clip(read_image_from_url(url)).tolist()\n",
    "    # image_clip = requests.post(f'http://127.0.0.1:8181/image2vector/?url={url}').json()\n",
    "    results = client.search(collection_name=collection_name,query_vector=image_clip,top=head)\n",
    "    df = foods.loc[[r.id for r in results]]\n",
    "    df['score'] = [r.score for r in results]\n",
    "    df = df.sort_values('score',ascending=False)\n",
    "\n",
    "    return df.reset_index()"
   ]
  },
  {
   "cell_type": "code",
   "execution_count": null,
   "metadata": {},
   "outputs": [],
   "source": []
  },
  {
   "cell_type": "code",
   "execution_count": 11,
   "metadata": {},
   "outputs": [],
   "source": [
    "url = 'https://cleanfoodcrush.com/wp-content/uploads/2020/05/cleanfoodcrush-examples-of-conmplex-carbs.png'"
   ]
  },
  {
   "cell_type": "code",
   "execution_count": 13,
   "metadata": {},
   "outputs": [],
   "source": [
    "url = 'https://api.telegram.org/file/bot5203882708:AAG3G_Y2oZSr-rMG2zoffDVtj3d0KkOFSts/photos/file_1106.jpg'"
   ]
  },
  {
   "cell_type": "code",
   "execution_count": 14,
   "metadata": {},
   "outputs": [
    {
     "data": {
      "text/html": [
       "<div>\n",
       "<style scoped>\n",
       "    .dataframe tbody tr th:only-of-type {\n",
       "        vertical-align: middle;\n",
       "    }\n",
       "\n",
       "    .dataframe tbody tr th {\n",
       "        vertical-align: top;\n",
       "    }\n",
       "\n",
       "    .dataframe thead th {\n",
       "        text-align: right;\n",
       "    }\n",
       "</style>\n",
       "<table border=\"1\" class=\"dataframe\">\n",
       "  <thead>\n",
       "    <tr style=\"text-align: right;\">\n",
       "      <th></th>\n",
       "      <th>id</th>\n",
       "      <th>description</th>\n",
       "      <th>category</th>\n",
       "      <th>energy</th>\n",
       "      <th>protein</th>\n",
       "      <th>carb</th>\n",
       "      <th>fat</th>\n",
       "      <th>score</th>\n",
       "    </tr>\n",
       "  </thead>\n",
       "  <tbody>\n",
       "    <tr>\n",
       "      <th>0</th>\n",
       "      <td>1104278</td>\n",
       "      <td>Tea, hot, chai, with milk</td>\n",
       "      <td>Tea</td>\n",
       "      <td>50.0</td>\n",
       "      <td>1.58</td>\n",
       "      <td>8.97</td>\n",
       "      <td>0.98</td>\n",
       "      <td>0.237743</td>\n",
       "    </tr>\n",
       "  </tbody>\n",
       "</table>\n",
       "</div>"
      ],
      "text/plain": [
       "        id                description category  energy  protein  carb   fat  \\\n",
       "0  1104278  Tea, hot, chai, with milk      Tea    50.0     1.58  8.97  0.98   \n",
       "\n",
       "      score  \n",
       "0  0.237743  "
      ]
     },
     "execution_count": 14,
     "metadata": {},
     "output_type": "execute_result"
    }
   ],
   "source": [
    "search_image(url)"
   ]
  },
  {
   "cell_type": "code",
   "execution_count": 10,
   "metadata": {},
   "outputs": [
    {
     "data": {
      "text/html": [
       "<div>\n",
       "<style scoped>\n",
       "    .dataframe tbody tr th:only-of-type {\n",
       "        vertical-align: middle;\n",
       "    }\n",
       "\n",
       "    .dataframe tbody tr th {\n",
       "        vertical-align: top;\n",
       "    }\n",
       "\n",
       "    .dataframe thead th {\n",
       "        text-align: right;\n",
       "    }\n",
       "</style>\n",
       "<table border=\"1\" class=\"dataframe\">\n",
       "  <thead>\n",
       "    <tr style=\"text-align: right;\">\n",
       "      <th></th>\n",
       "      <th>id</th>\n",
       "      <th>description</th>\n",
       "      <th>category</th>\n",
       "      <th>energy</th>\n",
       "      <th>protein</th>\n",
       "      <th>carb</th>\n",
       "      <th>fat</th>\n",
       "      <th>score</th>\n",
       "    </tr>\n",
       "  </thead>\n",
       "  <tbody>\n",
       "    <tr>\n",
       "      <th>0</th>\n",
       "      <td>1104278</td>\n",
       "      <td>Tea, hot, chai, with milk</td>\n",
       "      <td>Tea</td>\n",
       "      <td>50.0</td>\n",
       "      <td>1.58</td>\n",
       "      <td>8.97</td>\n",
       "      <td>0.98</td>\n",
       "      <td>0.237743</td>\n",
       "    </tr>\n",
       "    <tr>\n",
       "      <th>1</th>\n",
       "      <td>1097891</td>\n",
       "      <td>Coffee creamer, liquid</td>\n",
       "      <td>Cream and cream substitutes</td>\n",
       "      <td>136.0</td>\n",
       "      <td>1.00</td>\n",
       "      <td>11.38</td>\n",
       "      <td>9.97</td>\n",
       "      <td>0.236768</td>\n",
       "    </tr>\n",
       "    <tr>\n",
       "      <th>2</th>\n",
       "      <td>1104483</td>\n",
       "      <td>Glug</td>\n",
       "      <td>Liquor and cocktails</td>\n",
       "      <td>96.0</td>\n",
       "      <td>0.10</td>\n",
       "      <td>6.24</td>\n",
       "      <td>0.14</td>\n",
       "      <td>0.233204</td>\n",
       "    </tr>\n",
       "    <tr>\n",
       "      <th>3</th>\n",
       "      <td>1097664</td>\n",
       "      <td>Hot chocolate / Cocoa, made with dry mix and w...</td>\n",
       "      <td>Flavored milk, nonfat</td>\n",
       "      <td>54.0</td>\n",
       "      <td>0.91</td>\n",
       "      <td>11.40</td>\n",
       "      <td>0.55</td>\n",
       "      <td>0.225602</td>\n",
       "    </tr>\n",
       "    <tr>\n",
       "      <th>4</th>\n",
       "      <td>1097666</td>\n",
       "      <td>Hot chocolate / Cocoa, made with dry mix and r...</td>\n",
       "      <td>Flavored milk, reduced fat</td>\n",
       "      <td>96.0</td>\n",
       "      <td>3.79</td>\n",
       "      <td>15.37</td>\n",
       "      <td>2.18</td>\n",
       "      <td>0.224489</td>\n",
       "    </tr>\n",
       "    <tr>\n",
       "      <th>...</th>\n",
       "      <td>...</td>\n",
       "      <td>...</td>\n",
       "      <td>...</td>\n",
       "      <td>...</td>\n",
       "      <td>...</td>\n",
       "      <td>...</td>\n",
       "      <td>...</td>\n",
       "      <td>...</td>\n",
       "    </tr>\n",
       "    <tr>\n",
       "      <th>195</th>\n",
       "      <td>1104564</td>\n",
       "      <td>Sports drink, low calorie</td>\n",
       "      <td>Diet sport and energy drinks</td>\n",
       "      <td>8.0</td>\n",
       "      <td>0.05</td>\n",
       "      <td>1.94</td>\n",
       "      <td>0.01</td>\n",
       "      <td>0.193890</td>\n",
       "    </tr>\n",
       "    <tr>\n",
       "      <th>196</th>\n",
       "      <td>1100177</td>\n",
       "      <td>Gravy, beef, fat free</td>\n",
       "      <td>Dips, gravies, other sauces</td>\n",
       "      <td>53.0</td>\n",
       "      <td>3.75</td>\n",
       "      <td>4.81</td>\n",
       "      <td>2.36</td>\n",
       "      <td>0.193839</td>\n",
       "    </tr>\n",
       "    <tr>\n",
       "      <th>197</th>\n",
       "      <td>1097533</td>\n",
       "      <td>Milk, dry, reconstituted, whole</td>\n",
       "      <td>Milk, whole</td>\n",
       "      <td>76.0</td>\n",
       "      <td>4.01</td>\n",
       "      <td>5.86</td>\n",
       "      <td>4.08</td>\n",
       "      <td>0.193783</td>\n",
       "    </tr>\n",
       "    <tr>\n",
       "      <th>198</th>\n",
       "      <td>1104212</td>\n",
       "      <td>Coffee, instant, 50% less caffeine, reconstitu...</td>\n",
       "      <td>Coffee</td>\n",
       "      <td>3.0</td>\n",
       "      <td>0.12</td>\n",
       "      <td>0.61</td>\n",
       "      <td>0.00</td>\n",
       "      <td>0.193779</td>\n",
       "    </tr>\n",
       "    <tr>\n",
       "      <th>199</th>\n",
       "      <td>1101028</td>\n",
       "      <td>Cookie, sandwich-type, not chocolate or vanilla</td>\n",
       "      <td>Cookies and brownies</td>\n",
       "      <td>483.0</td>\n",
       "      <td>4.50</td>\n",
       "      <td>72.10</td>\n",
       "      <td>20.00</td>\n",
       "      <td>0.193699</td>\n",
       "    </tr>\n",
       "  </tbody>\n",
       "</table>\n",
       "<p>200 rows × 8 columns</p>\n",
       "</div>"
      ],
      "text/plain": [
       "          id                                        description  \\\n",
       "0    1104278                          Tea, hot, chai, with milk   \n",
       "1    1097891                             Coffee creamer, liquid   \n",
       "2    1104483                                               Glug   \n",
       "3    1097664  Hot chocolate / Cocoa, made with dry mix and w...   \n",
       "4    1097666  Hot chocolate / Cocoa, made with dry mix and r...   \n",
       "..       ...                                                ...   \n",
       "195  1104564                          Sports drink, low calorie   \n",
       "196  1100177                              Gravy, beef, fat free   \n",
       "197  1097533                    Milk, dry, reconstituted, whole   \n",
       "198  1104212  Coffee, instant, 50% less caffeine, reconstitu...   \n",
       "199  1101028    Cookie, sandwich-type, not chocolate or vanilla   \n",
       "\n",
       "                         category  energy  protein   carb    fat     score  \n",
       "0                             Tea    50.0     1.58   8.97   0.98  0.237743  \n",
       "1     Cream and cream substitutes   136.0     1.00  11.38   9.97  0.236768  \n",
       "2            Liquor and cocktails    96.0     0.10   6.24   0.14  0.233204  \n",
       "3           Flavored milk, nonfat    54.0     0.91  11.40   0.55  0.225602  \n",
       "4      Flavored milk, reduced fat    96.0     3.79  15.37   2.18  0.224489  \n",
       "..                            ...     ...      ...    ...    ...       ...  \n",
       "195  Diet sport and energy drinks     8.0     0.05   1.94   0.01  0.193890  \n",
       "196   Dips, gravies, other sauces    53.0     3.75   4.81   2.36  0.193839  \n",
       "197                   Milk, whole    76.0     4.01   5.86   4.08  0.193783  \n",
       "198                        Coffee     3.0     0.12   0.61   0.00  0.193779  \n",
       "199          Cookies and brownies   483.0     4.50  72.10  20.00  0.193699  \n",
       "\n",
       "[200 rows x 8 columns]"
      ]
     },
     "execution_count": 10,
     "metadata": {},
     "output_type": "execute_result"
    }
   ],
   "source": [
    "search_image(url,head=200)"
   ]
  },
  {
   "cell_type": "code",
   "execution_count": 1,
   "metadata": {},
   "outputs": [
    {
     "name": "stdout",
     "output_type": "stream",
     "text": [
      "Converted 00_clipmodel.ipynb.\n",
      "Converted 00_custom_pandas.ipynb.\n",
      "Converted 00_paths.ipynb.\n",
      "Converted 00_psql.ipynb.\n",
      "Converted 00_qdrant.ipynb.\n",
      "Converted 00_tools.ipynb.\n",
      "Converted 01_multiple_foods.ipynb.\n",
      "Converted 01_search.ipynb.\n",
      "Converted 0_template copy 2.ipynb.\n",
      "Converted 0_template copy 3.ipynb.\n",
      "Converted 0_template copy 4.ipynb.\n",
      "Converted 0_template copy.ipynb.\n",
      "Converted 0_template.ipynb.\n",
      "Converted Untitled-1.ipynb.\n",
      "Converted inference.ipynb.\n",
      "Converted stats.ipynb.\n",
      "Converted usda_parsing.ipynb.\n"
     ]
    }
   ],
   "source": [
    "!nbdev_build_lib"
   ]
  },
  {
   "cell_type": "code",
   "execution_count": null,
   "metadata": {},
   "outputs": [],
   "source": []
  }
 ],
 "metadata": {
  "interpreter": {
   "hash": "1e1ee659a212ecca49d6a1809275141ef7642c152d6286fb803a43d965656456"
  },
  "kernelspec": {
   "display_name": "re",
   "language": "python",
   "name": "python3"
  },
  "language_info": {
   "codemirror_mode": {
    "name": "ipython",
    "version": 3
   },
   "file_extension": ".py",
   "mimetype": "text/x-python",
   "name": "python",
   "nbconvert_exporter": "python",
   "pygments_lexer": "ipython3",
   "version": "3.9.7"
  }
 },
 "nbformat": 4,
 "nbformat_minor": 4
}
