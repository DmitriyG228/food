{
 "cells": [
  {
   "cell_type": "code",
   "execution_count": 7,
   "metadata": {},
   "outputs": [
    {
     "name": "stdout",
     "output_type": "stream",
     "text": [
      "The autoreload extension is already loaded. To reload it, use:\n",
      "  %reload_ext autoreload\n"
     ]
    }
   ],
   "source": [
    "%load_ext autoreload\n",
    "%autoreload 2"
   ]
  },
  {
   "cell_type": "code",
   "execution_count": 8,
   "metadata": {},
   "outputs": [],
   "source": [
    "from food.tools import *\n",
    "from food.paths import *\n",
    "from food.psql import *\n",
    "\n",
    "import pandas as pd\n",
    "import numpy as np\n",
    "\n",
    "# !nbdev_build_lib"
   ]
  },
  {
   "cell_type": "code",
   "execution_count": 11,
   "metadata": {},
   "outputs": [],
   "source": [
    "from food.tools import *\n",
    "from food.paths import *\n",
    "from food.psql import *\n",
    "\n",
    "import pandas as pd\n",
    "import numpy as np\n",
    "from tqdm import tqdm\n",
    "import food.custom_pandas as cpd\n",
    "\n",
    "from food.qdrant import *\n",
    "\n",
    "\n",
    "project_name = \"food\"\n",
    "table = 'food_categories'\n",
    "collection_name = 'food_categories'\n",
    "dim = 768\n",
    "limit = 100000\n",
    "\n",
    "client = dev_client\n",
    "\n",
    "\n",
    "\n",
    "# query = f\"\"\"select f.id,f.description, im.*\n",
    "#         FROM      {project_name}.{table}    f\n",
    "#         LEFT JOIN {project_name}.indexed      i  ON  (i.id =             f.id)\n",
    "#         LEFT JOIN {project_name}.image_table  im  ON (im.food_id =       f.id)\n",
    "        \n",
    "#         WHERE clip    is not null and \n",
    "#               i .indexed is null\n",
    "#         \"\"\"\n",
    "\n",
    "query = f\"\"\"select *\n",
    "        FROM      {project_name}.{table}    f\n",
    "        WHERE f.clip    is not null\"\"\"\n",
    "\n"
   ]
  },
  {
   "cell_type": "code",
   "execution_count": 12,
   "metadata": {},
   "outputs": [
    {
     "name": "stderr",
     "output_type": "stream",
     "text": [
      "qdrant_update {project_name}: 0it [00:00, ?it/s]2022-06-21 17:55:23.267 | INFO     | qdrant_client.parallel_processor:_worker:45 - Reader worker: 0 PID: 205641\n",
      "2022-06-21 17:55:23.270 | INFO     | qdrant_client.parallel_processor:_worker:45 - Reader worker: 1 PID: 205642\n",
      "2022-06-21 17:55:23.273 | INFO     | qdrant_client.parallel_processor:_worker:45 - Reader worker: 2 PID: 205645\n",
      "2022-06-21 17:55:23.276 | INFO     | qdrant_client.parallel_processor:_worker:45 - Reader worker: 3 PID: 205648\n",
      "2022-06-21 17:55:23.290 | INFO     | qdrant_client.parallel_processor:_worker:77 - Reader worker 3 finished\n",
      "\n",
      "1it [00:00,  7.51it/s]2022-06-21 17:55:23.390 | INFO     | qdrant_client.parallel_processor:_worker:77 - Reader worker 2 finished2022-06-21 17:55:23.442 | INFO     | qdrant_client.parallel_processor:_worker:77 - Reader worker 1 finished\n",
      "2022-06-21 17:55:23.473 | INFO     | qdrant_client.parallel_processor:_worker:77 - Reader worker 0 finished\n",
      "3it [00:00, 13.81it/s]\n",
      "qdrant_update {project_name}: 1it [00:00,  3.76it/s]\n"
     ]
    }
   ],
   "source": [
    "\n",
    "\n",
    "for df in tqdm(cpd.read_sql_query(query, engine, chunksize=limit), desc=\"qdrant_update {project_name}\"):\n",
    "\n",
    "    ids = df['id'].tolist()\n",
    "    clip = df['clip']\n",
    "    clip = np.array([np.array(c) for c in clip.values])\n",
    "\n",
    "    df = df.fillna('0')\n",
    "\n",
    "\n",
    "    payload = df.drop(columns = ['id','clip']).to_dict('records')\n",
    "\n",
    "    client.upload_collection(\n",
    "        collection_name=collection_name,\n",
    "        vectors=clip,\n",
    "        payload=payload,\n",
    "        ids=ids,\n",
    "        parallel=4\n",
    "    )\n",
    "\n",
    "\n",
    "\n"
   ]
  },
  {
   "cell_type": "code",
   "execution_count": null,
   "metadata": {},
   "outputs": [],
   "source": []
  }
 ],
 "metadata": {
  "kernelspec": {
   "display_name": "re",
   "language": "python",
   "name": "re"
  },
  "language_info": {
   "codemirror_mode": {
    "name": "ipython",
    "version": 3
   },
   "file_extension": ".py",
   "mimetype": "text/x-python",
   "name": "python",
   "nbconvert_exporter": "python",
   "pygments_lexer": "ipython3",
   "version": "3.9.7"
  }
 },
 "nbformat": 4,
 "nbformat_minor": 4
}
