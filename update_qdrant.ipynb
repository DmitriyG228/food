{
 "cells": [
  {
   "cell_type": "code",
   "execution_count": 4,
   "metadata": {},
   "outputs": [],
   "source": [
    "from food.tools import *\n",
    "from food.paths import *\n",
    "from food.psql import *\n",
    "\n",
    "import pandas as pd\n",
    "import numpy as np\n",
    "from tqdm import tqdm\n",
    "import food.custom_pandas as cpd\n",
    "\n",
    "from food.qdrant import *"
   ]
  },
  {
   "cell_type": "code",
   "execution_count": 3,
   "metadata": {},
   "outputs": [
    {
     "data": {
      "text/plain": [
       "['food_text', 'glovo']"
      ]
     },
     "execution_count": 3,
     "metadata": {},
     "output_type": "execute_result"
    }
   ],
   "source": [
    "client.get_collections()"
   ]
  },
  {
   "cell_type": "code",
   "execution_count": 5,
   "metadata": {},
   "outputs": [
    {
     "data": {
      "text/plain": [
       "'food_text'"
      ]
     },
     "execution_count": 5,
     "metadata": {},
     "output_type": "execute_result"
    }
   ],
   "source": [
    "collection_name"
   ]
  },
  {
   "cell_type": "code",
   "execution_count": 6,
   "metadata": {},
   "outputs": [],
   "source": [
    "project_name = \"food\"\n",
    "table = 'foods'\n",
    "\n",
    "dim = 768\n",
    "limit = 100000"
   ]
  },
  {
   "cell_type": "code",
   "execution_count": 7,
   "metadata": {},
   "outputs": [],
   "source": [
    "query = f\"\"\"select f.id,f.description,f.clip\n",
    "        FROM      {project_name}.{table}    f\n",
    "        \n",
    "        WHERE f.clip    is not null\"\"\""
   ]
  },
  {
   "cell_type": "code",
   "execution_count": 8,
   "metadata": {},
   "outputs": [
    {
     "name": "stderr",
     "output_type": "stream",
     "text": [
      "qdrant_update {project_name}: 0it [00:00, ?it/s]2022-06-24 23:52:06.288 | INFO     | qdrant_client.parallel_processor:_worker:45 - Reader worker: 0 PID: 3045604\n",
      "2022-06-24 23:52:06.296 | INFO     | qdrant_client.parallel_processor:_worker:45 - Reader worker: 1 PID: 3045607\n",
      "2022-06-24 23:52:06.304 | INFO     | qdrant_client.parallel_processor:_worker:45 - Reader worker: 2 PID: 3045610\n",
      "2022-06-24 23:52:06.312 | INFO     | qdrant_client.parallel_processor:_worker:45 - Reader worker: 3 PID: 3045613\n",
      "2022-06-24 23:52:10.522 | INFO     | qdrant_client.parallel_processor:_worker:77 - Reader worker 3 finished\n",
      "2022-06-24 23:52:10.566 | INFO     | qdrant_client.parallel_processor:_worker:77 - Reader worker 2 finished\n",
      "2022-06-24 23:52:10.588 | INFO     | qdrant_client.parallel_processor:_worker:77 - Reader worker 1 finished\n",
      "111it [00:04, 25.70it/s]\n",
      "qdrant_update {project_name}: 1it [00:05,  5.95s/it]\n"
     ]
    }
   ],
   "source": [
    "for df in tqdm(cpd.read_sql_query(query, engine, chunksize=limit), desc=\"qdrant_update {project_name}\"):\n",
    "\n",
    "    ids = df['id'].tolist()\n",
    "    clip = df['clip']\n",
    "    clip = np.array([np.array(c) for c in clip.values])\n",
    "\n",
    "    df = df.fillna('0')\n",
    "\n",
    "\n",
    "    payload = df.drop(columns = ['id','clip']).to_dict('records')\n",
    "\n",
    "    client.upload_collection(\n",
    "        collection_name=collection_name,\n",
    "        vectors=clip,\n",
    "        payload=payload,\n",
    "        ids=ids,\n",
    "        parallel=4)"
   ]
  },
  {
   "cell_type": "code",
   "execution_count": null,
   "metadata": {},
   "outputs": [],
   "source": []
  }
 ],
 "metadata": {
  "kernelspec": {
   "display_name": "Python 3.9.7 ('food')",
   "language": "python",
   "name": "python3"
  },
  "language_info": {
   "codemirror_mode": {
    "name": "ipython",
    "version": 3
   },
   "file_extension": ".py",
   "mimetype": "text/x-python",
   "name": "python",
   "nbconvert_exporter": "python",
   "pygments_lexer": "ipython3",
   "version": "3.9.7"
  },
  "orig_nbformat": 4,
  "vscode": {
   "interpreter": {
    "hash": "1e1ee659a212ecca49d6a1809275141ef7642c152d6286fb803a43d965656456"
   }
  }
 },
 "nbformat": 4,
 "nbformat_minor": 2
}
