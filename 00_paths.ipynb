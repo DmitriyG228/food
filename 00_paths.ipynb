{
 "cells": [
  {
   "cell_type": "code",
   "execution_count": 2,
   "metadata": {},
   "outputs": [],
   "source": [
    "# default_exp paths"
   ]
  },
  {
   "cell_type": "code",
   "execution_count": 3,
   "metadata": {},
   "outputs": [],
   "source": [
    "# export\n",
    "from pathlib import Path\n",
    "import os"
   ]
  },
  {
   "cell_type": "code",
   "execution_count": 4,
   "metadata": {},
   "outputs": [],
   "source": [
    "#export\n",
    "Path.ls = lambda x: list(x.iterdir())"
   ]
  },
  {
   "cell_type": "code",
   "execution_count": 5,
   "metadata": {},
   "outputs": [],
   "source": [
    "#export\n",
    "mapbox_access_token = 'pk.eyJ1IjoiZGltYWRnbyIsImEiOiJjanYydDF2dTkwdnFzNDNwOXFuNzY4OGxnIn0.wnBvykpkR0RtWOp7bj74Yw'"
   ]
  },
  {
   "cell_type": "code",
   "execution_count": 6,
   "metadata": {},
   "outputs": [],
   "source": [
    "# export\n",
    "main_path              = Path(os.getenv(\"HOME\"))\n",
    "data_path              = Path(main_path/'data')\n",
    "reserence_images_path  = Path(data_path/'reserence_images')"
   ]
  },
  {
   "cell_type": "code",
   "execution_count": 8,
   "metadata": {},
   "outputs": [
    {
     "data": {
      "text/plain": [
       "[PosixPath('/home/dima/data/reserence_images'),\n",
       " PosixPath('/home/dima/data/full'),\n",
       " PosixPath('/home/dima/data/app1.log'),\n",
       " PosixPath('/home/dima/data/branded'),\n",
       " PosixPath('/home/dima/data/FoundationFoods'),\n",
       " PosixPath('/home/dima/data/FNDDS'),\n",
       " PosixPath('/home/dima/data/support_data')]"
      ]
     },
     "execution_count": 8,
     "metadata": {},
     "output_type": "execute_result"
    }
   ],
   "source": [
    "data_path.ls()"
   ]
  },
  {
   "cell_type": "code",
   "execution_count": null,
   "metadata": {},
   "outputs": [],
   "source": [
    "(data_path/'FoundationFoods')"
   ]
  },
  {
   "cell_type": "code",
   "execution_count": 9,
   "metadata": {},
   "outputs": [
    {
     "data": {
      "text/plain": [
       "[PosixPath('/home/dima/data/FoundationFoods/FoodData_Central_foundation_food_csv_2021-10-28.zip'),\n",
       " PosixPath('/home/dima/data/FoundationFoods/food_nutrient_conversion_factor.csv'),\n",
       " PosixPath('/home/dima/data/FoundationFoods/sample_food.csv'),\n",
       " PosixPath('/home/dima/data/FoundationFoods/sub_sample_food.csv'),\n",
       " PosixPath('/home/dima/data/FoundationFoods/Download & API Field Descriptions October 2021.pdf'),\n",
       " PosixPath('/home/dima/data/FoundationFoods/market_acquisition.csv'),\n",
       " PosixPath('/home/dima/data/FoundationFoods/food_update_log_entry.csv'),\n",
       " PosixPath('/home/dima/data/FoundationFoods/all_downloaded_table_record_counts.csv'),\n",
       " PosixPath('/home/dima/data/FoundationFoods/food_portion.csv'),\n",
       " PosixPath('/home/dima/data/FoundationFoods/food_calorie_conversion_factor.csv'),\n",
       " PosixPath('/home/dima/data/FoundationFoods/food_attribute.csv'),\n",
       " PosixPath('/home/dima/data/FoundationFoods/input_food.csv'),\n",
       " PosixPath('/home/dima/data/FoundationFoods/food_component.csv'),\n",
       " PosixPath('/home/dima/data/FoundationFoods/acquisition_samples.csv'),\n",
       " PosixPath('/home/dima/data/FoundationFoods/sub_sample_result.csv'),\n",
       " PosixPath('/home/dima/data/FoundationFoods/foundation_food.csv'),\n",
       " PosixPath('/home/dima/data/FoundationFoods/food.csv'),\n",
       " PosixPath('/home/dima/data/FoundationFoods/agricultural_samples.csv'),\n",
       " PosixPath('/home/dima/data/FoundationFoods/food_protein_conversion_factor.csv'),\n",
       " PosixPath('/home/dima/data/FoundationFoods/food_nutrient.csv')]"
      ]
     },
     "execution_count": 9,
     "metadata": {},
     "output_type": "execute_result"
    }
   ],
   "source": [
    "(data_path/'FoundationFoods').ls()"
   ]
  },
  {
   "cell_type": "code",
   "execution_count": 8,
   "metadata": {},
   "outputs": [],
   "source": [
    "reserence_images_path.mkdir()"
   ]
  },
  {
   "cell_type": "code",
   "execution_count": 9,
   "metadata": {},
   "outputs": [
    {
     "name": "stdout",
     "output_type": "stream",
     "text": [
      "Converted 00_paths.ipynb.\n",
      "Converted 00_psql.ipynb.\n",
      "Converted 00_tools.ipynb.\n",
      "Converted 01_classfy_image.ipynb.\n",
      "Converted 0_template copy.ipynb.\n",
      "Converted 0_template.ipynb.\n",
      "Converted inference.ipynb.\n",
      "Converted stats.ipynb.\n",
      "Converted usda_parsing.ipynb.\n"
     ]
    }
   ],
   "source": [
    "!nbdev_build_lib"
   ]
  },
  {
   "cell_type": "code",
   "execution_count": null,
   "metadata": {},
   "outputs": [],
   "source": []
  }
 ],
 "metadata": {
  "interpreter": {
   "hash": "1e1ee659a212ecca49d6a1809275141ef7642c152d6286fb803a43d965656456"
  },
  "kernelspec": {
   "display_name": "Python 3.9.7 ('food')",
   "language": "python",
   "name": "python3"
  },
  "language_info": {
   "codemirror_mode": {
    "name": "ipython",
    "version": 3
   },
   "file_extension": ".py",
   "mimetype": "text/x-python",
   "name": "python",
   "nbconvert_exporter": "python",
   "pygments_lexer": "ipython3",
   "version": "3.9.7"
  }
 },
 "nbformat": 4,
 "nbformat_minor": 4
}
