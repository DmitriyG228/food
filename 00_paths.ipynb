{
 "cells": [
  {
   "cell_type": "code",
   "execution_count": 9,
   "metadata": {},
   "outputs": [],
   "source": [
    "# default_exp paths"
   ]
  },
  {
   "cell_type": "code",
   "execution_count": 10,
   "metadata": {},
   "outputs": [],
   "source": [
    "# export\n",
    "from pathlib import Path\n",
    "import os"
   ]
  },
  {
   "cell_type": "code",
   "execution_count": 11,
   "metadata": {},
   "outputs": [],
   "source": [
    "#export\n",
    "Path.ls = lambda x: list(x.iterdir())"
   ]
  },
  {
   "cell_type": "code",
   "execution_count": 12,
   "metadata": {},
   "outputs": [],
   "source": [
    "#export\n",
    "mapbox_access_token = 'pk.eyJ1IjoiZGltYWRnbyIsImEiOiJjanYydDF2dTkwdnFzNDNwOXFuNzY4OGxnIn0.wnBvykpkR0RtWOp7bj74Yw'"
   ]
  },
  {
   "cell_type": "code",
   "execution_count": 34,
   "metadata": {},
   "outputs": [],
   "source": [
    "# export\n",
    "main_path              = Path(os.getenv(\"HOME\"))\n",
    "data_path              = Path(main_path/'ssd/food')\n",
    "reference_images_path  = Path(data_path/'reference_images')"
   ]
  },
  {
   "cell_type": "code",
   "execution_count": 35,
   "metadata": {},
   "outputs": [
    {
     "data": {
      "text/plain": [
       "[]"
      ]
     },
     "execution_count": 35,
     "metadata": {},
     "output_type": "execute_result"
    }
   ],
   "source": [
    "reference_images_path.ls()"
   ]
  },
  {
   "cell_type": "code",
   "execution_count": 21,
   "metadata": {},
   "outputs": [],
   "source": [
    "_ = Path(data_path/'reserence_images') "
   ]
  },
  {
   "cell_type": "code",
   "execution_count": 25,
   "metadata": {},
   "outputs": [
    {
     "data": {
      "text/plain": [
       "[PosixPath('/home/dima/data/full'),\n",
       " PosixPath('/home/dima/data/app1.log'),\n",
       " PosixPath('/home/dima/data/reference_images'),\n",
       " PosixPath('/home/dima/data/branded'),\n",
       " PosixPath('/home/dima/data/FoundationFoods'),\n",
       " PosixPath('/home/dima/data/FNDDS'),\n",
       " PosixPath('/home/dima/data/support_data')]"
      ]
     },
     "execution_count": 25,
     "metadata": {},
     "output_type": "execute_result"
    }
   ],
   "source": [
    "data_path.ls()"
   ]
  },
  {
   "cell_type": "code",
   "execution_count": 26,
   "metadata": {},
   "outputs": [
    {
     "data": {
      "text/plain": [
       "PosixPath('/home/dima/data/reference_images')"
      ]
     },
     "execution_count": 26,
     "metadata": {},
     "output_type": "execute_result"
    }
   ],
   "source": [
    "reference_images_path"
   ]
  },
  {
   "cell_type": "code",
   "execution_count": 24,
   "metadata": {},
   "outputs": [],
   "source": [
    "reference_images_path.mkdir()"
   ]
  },
  {
   "cell_type": "code",
   "execution_count": 17,
   "metadata": {},
   "outputs": [],
   "source": [
    "from food.tools import *"
   ]
  },
  {
   "cell_type": "code",
   "execution_count": 22,
   "metadata": {},
   "outputs": [],
   "source": [
    "rm_r(_)"
   ]
  },
  {
   "cell_type": "code",
   "execution_count": 14,
   "metadata": {},
   "outputs": [
    {
     "ename": "FileNotFoundError",
     "evalue": "[Errno 2] No such file or directory: '/home/dima/data/reference_images'",
     "output_type": "error",
     "traceback": [
      "\u001b[0;31m---------------------------------------------------------------------------\u001b[0m",
      "\u001b[0;31mFileNotFoundError\u001b[0m                         Traceback (most recent call last)",
      "\u001b[1;32m/home/dima/food/00_paths.ipynb Cell 6'\u001b[0m in \u001b[0;36m<cell line: 1>\u001b[0;34m()\u001b[0m\n\u001b[0;32m----> <a href='vscode-notebook-cell://ssh-remote%2Bml2/home/dima/food/00_paths.ipynb#ch0000011vscode-remote?line=0'>1</a>\u001b[0m reference_images_path\u001b[39m.\u001b[39;49mls()\n",
      "\u001b[1;32m/home/dima/food/00_paths.ipynb Cell 3'\u001b[0m in \u001b[0;36m<lambda>\u001b[0;34m(x)\u001b[0m\n\u001b[1;32m      <a href='vscode-notebook-cell://ssh-remote%2Bml2/home/dima/food/00_paths.ipynb#ch0000002vscode-remote?line=0'>1</a>\u001b[0m \u001b[39m#export\u001b[39;00m\n\u001b[0;32m----> <a href='vscode-notebook-cell://ssh-remote%2Bml2/home/dima/food/00_paths.ipynb#ch0000002vscode-remote?line=1'>2</a>\u001b[0m Path\u001b[39m.\u001b[39mls \u001b[39m=\u001b[39m \u001b[39mlambda\u001b[39;00m x: \u001b[39mlist\u001b[39;49m(x\u001b[39m.\u001b[39;49miterdir())\n",
      "File \u001b[0;32m~/anaconda3/envs/food/lib/python3.9/pathlib.py:1160\u001b[0m, in \u001b[0;36mPath.iterdir\u001b[0;34m(self)\u001b[0m\n\u001b[1;32m   <a href='file:///home/dima/anaconda3/envs/food/lib/python3.9/pathlib.py?line=1155'>1156</a>\u001b[0m \u001b[39mdef\u001b[39;00m \u001b[39miterdir\u001b[39m(\u001b[39mself\u001b[39m):\n\u001b[1;32m   <a href='file:///home/dima/anaconda3/envs/food/lib/python3.9/pathlib.py?line=1156'>1157</a>\u001b[0m     \u001b[39m\"\"\"Iterate over the files in this directory.  Does not yield any\u001b[39;00m\n\u001b[1;32m   <a href='file:///home/dima/anaconda3/envs/food/lib/python3.9/pathlib.py?line=1157'>1158</a>\u001b[0m \u001b[39m    result for the special paths '.' and '..'.\u001b[39;00m\n\u001b[1;32m   <a href='file:///home/dima/anaconda3/envs/food/lib/python3.9/pathlib.py?line=1158'>1159</a>\u001b[0m \u001b[39m    \"\"\"\u001b[39;00m\n\u001b[0;32m-> <a href='file:///home/dima/anaconda3/envs/food/lib/python3.9/pathlib.py?line=1159'>1160</a>\u001b[0m     \u001b[39mfor\u001b[39;00m name \u001b[39min\u001b[39;00m \u001b[39mself\u001b[39;49m\u001b[39m.\u001b[39;49m_accessor\u001b[39m.\u001b[39;49mlistdir(\u001b[39mself\u001b[39;49m):\n\u001b[1;32m   <a href='file:///home/dima/anaconda3/envs/food/lib/python3.9/pathlib.py?line=1160'>1161</a>\u001b[0m         \u001b[39mif\u001b[39;00m name \u001b[39min\u001b[39;00m {\u001b[39m'\u001b[39m\u001b[39m.\u001b[39m\u001b[39m'\u001b[39m, \u001b[39m'\u001b[39m\u001b[39m..\u001b[39m\u001b[39m'\u001b[39m}:\n\u001b[1;32m   <a href='file:///home/dima/anaconda3/envs/food/lib/python3.9/pathlib.py?line=1161'>1162</a>\u001b[0m             \u001b[39m# Yielding a path object for these makes little sense\u001b[39;00m\n\u001b[1;32m   <a href='file:///home/dima/anaconda3/envs/food/lib/python3.9/pathlib.py?line=1162'>1163</a>\u001b[0m             \u001b[39mcontinue\u001b[39;00m\n",
      "\u001b[0;31mFileNotFoundError\u001b[0m: [Errno 2] No such file or directory: '/home/dima/data/reference_images'"
     ]
    }
   ],
   "source": [
    ".un"
   ]
  },
  {
   "cell_type": "code",
   "execution_count": 8,
   "metadata": {},
   "outputs": [
    {
     "data": {
      "text/plain": [
       "[PosixPath('/home/dima/data/reserence_images'),\n",
       " PosixPath('/home/dima/data/full'),\n",
       " PosixPath('/home/dima/data/app1.log'),\n",
       " PosixPath('/home/dima/data/branded'),\n",
       " PosixPath('/home/dima/data/FoundationFoods'),\n",
       " PosixPath('/home/dima/data/FNDDS'),\n",
       " PosixPath('/home/dima/data/support_data')]"
      ]
     },
     "execution_count": 8,
     "metadata": {},
     "output_type": "execute_result"
    }
   ],
   "source": [
    "data_path.ls()"
   ]
  },
  {
   "cell_type": "code",
   "execution_count": null,
   "metadata": {},
   "outputs": [],
   "source": [
    "(data_path/'FoundationFoods')"
   ]
  },
  {
   "cell_type": "code",
   "execution_count": 9,
   "metadata": {},
   "outputs": [
    {
     "data": {
      "text/plain": [
       "[PosixPath('/home/dima/data/FoundationFoods/FoodData_Central_foundation_food_csv_2021-10-28.zip'),\n",
       " PosixPath('/home/dima/data/FoundationFoods/food_nutrient_conversion_factor.csv'),\n",
       " PosixPath('/home/dima/data/FoundationFoods/sample_food.csv'),\n",
       " PosixPath('/home/dima/data/FoundationFoods/sub_sample_food.csv'),\n",
       " PosixPath('/home/dima/data/FoundationFoods/Download & API Field Descriptions October 2021.pdf'),\n",
       " PosixPath('/home/dima/data/FoundationFoods/market_acquisition.csv'),\n",
       " PosixPath('/home/dima/data/FoundationFoods/food_update_log_entry.csv'),\n",
       " PosixPath('/home/dima/data/FoundationFoods/all_downloaded_table_record_counts.csv'),\n",
       " PosixPath('/home/dima/data/FoundationFoods/food_portion.csv'),\n",
       " PosixPath('/home/dima/data/FoundationFoods/food_calorie_conversion_factor.csv'),\n",
       " PosixPath('/home/dima/data/FoundationFoods/food_attribute.csv'),\n",
       " PosixPath('/home/dima/data/FoundationFoods/input_food.csv'),\n",
       " PosixPath('/home/dima/data/FoundationFoods/food_component.csv'),\n",
       " PosixPath('/home/dima/data/FoundationFoods/acquisition_samples.csv'),\n",
       " PosixPath('/home/dima/data/FoundationFoods/sub_sample_result.csv'),\n",
       " PosixPath('/home/dima/data/FoundationFoods/foundation_food.csv'),\n",
       " PosixPath('/home/dima/data/FoundationFoods/food.csv'),\n",
       " PosixPath('/home/dima/data/FoundationFoods/agricultural_samples.csv'),\n",
       " PosixPath('/home/dima/data/FoundationFoods/food_protein_conversion_factor.csv'),\n",
       " PosixPath('/home/dima/data/FoundationFoods/food_nutrient.csv')]"
      ]
     },
     "execution_count": 9,
     "metadata": {},
     "output_type": "execute_result"
    }
   ],
   "source": [
    "(data_path/'FoundationFoods').ls()"
   ]
  },
  {
   "cell_type": "code",
   "execution_count": 8,
   "metadata": {},
   "outputs": [],
   "source": [
    "reserence_images_path.mkdir()"
   ]
  },
  {
   "cell_type": "code",
   "execution_count": 36,
   "metadata": {},
   "outputs": [
    {
     "name": "stdout",
     "output_type": "stream",
     "text": [
      "Converted 00_clipmodel.ipynb.\n",
      "Converted 00_custom_pandas.ipynb.\n",
      "Converted 00_paths.ipynb.\n",
      "Converted 00_psql.ipynb.\n",
      "Converted 00_qdrant.ipynb.\n",
      "Converted 00_tools.ipynb.\n",
      "Converted 01_classfy_image copy.ipynb.\n",
      "Converted 01_classfy_image.ipynb.\n",
      "No export destination, ignored:\n",
      "#export\n",
      "foods = read_sql('fundation_foods')\n",
      "# foods = foods.drop(columns = ['clip'])\n",
      "foods = foods.set_index('id')\n",
      "Warning: Exporting to \"None.py\" but this module is not part of this build\n",
      "Traceback (most recent call last):\n",
      "  File \"/home/dima/anaconda3/envs/food/bin/nbdev_build_lib\", line 8, in <module>\n",
      "    sys.exit(nbdev_build_lib())\n",
      "  File \"/home/dima/anaconda3/envs/food/lib/python3.9/site-packages/fastcore/script.py\", line 112, in _f\n",
      "    tfunc(**merge(args, args_from_prog(func, xtra)))\n",
      "  File \"/home/dima/anaconda3/envs/food/lib/python3.9/site-packages/nbdev/export2html.py\", line 465, in nbdev_build_lib\n",
      "    notebook2script(fname=fname, bare=bare)\n",
      "  File \"/home/dima/anaconda3/envs/food/lib/python3.9/site-packages/nbdev/export.py\", line 430, in notebook2script\n",
      "    for f in sorted(files): d = _notebook2script(f, modules, silent=silent, to_dict=d, bare=bare)\n",
      "  File \"/home/dima/anaconda3/envs/food/lib/python3.9/site-packages/nbdev/export.py\", line 357, in _notebook2script\n",
      "    if to_dict is None: _add2all(fname_out, [f\"'{f}'\" for f in names if '.' not in f and len(f) > 0] + extra)\n",
      "  File \"/home/dima/anaconda3/envs/food/lib/python3.9/site-packages/nbdev/export.py\", line 208, in _add2all\n",
      "    with open(fname, 'r', encoding='utf8') as f: text = f.read()\n",
      "FileNotFoundError: [Errno 2] No such file or directory: '/home/dima/food/food/None.py'\n"
     ]
    }
   ],
   "source": [
    "!nbdev_build_lib"
   ]
  },
  {
   "cell_type": "code",
   "execution_count": null,
   "metadata": {},
   "outputs": [],
   "source": []
  }
 ],
 "metadata": {
  "interpreter": {
   "hash": "1e1ee659a212ecca49d6a1809275141ef7642c152d6286fb803a43d965656456"
  },
  "kernelspec": {
   "display_name": "Python 3.9.7 ('food')",
   "language": "python",
   "name": "python3"
  },
  "language_info": {
   "codemirror_mode": {
    "name": "ipython",
    "version": 3
   },
   "file_extension": ".py",
   "mimetype": "text/x-python",
   "name": "python",
   "nbconvert_exporter": "python",
   "pygments_lexer": "ipython3",
   "version": "3.9.7"
  }
 },
 "nbformat": 4,
 "nbformat_minor": 4
}
