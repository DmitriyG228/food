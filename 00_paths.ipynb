{
 "cells": [
  {
   "cell_type": "code",
   "execution_count": 3,
   "metadata": {},
   "outputs": [],
   "source": [
    "# default_exp paths"
   ]
  },
  {
   "cell_type": "code",
   "execution_count": 4,
   "metadata": {},
   "outputs": [],
   "source": [
    "# export\n",
    "from pathlib import Path\n",
    "import os"
   ]
  },
  {
   "cell_type": "code",
   "execution_count": 5,
   "metadata": {},
   "outputs": [],
   "source": [
    "#export\n",
    "Path.ls = lambda x: list(x.iterdir())"
   ]
  },
  {
   "cell_type": "code",
   "execution_count": 6,
   "metadata": {},
   "outputs": [],
   "source": [
    "#export\n",
    "mapbox_access_token = 'pk.eyJ1IjoiZGltYWRnbyIsImEiOiJjanYydDF2dTkwdnFzNDNwOXFuNzY4OGxnIn0.wnBvykpkR0RtWOp7bj74Yw'"
   ]
  },
  {
   "cell_type": "code",
   "execution_count": 7,
   "metadata": {},
   "outputs": [],
   "source": [
    "#export\n",
    "\n",
    "branch = 'prod'\n",
    "bot_token = '5203882708:AAG3G_Y2oZSr-rMG2zoffDVtj3d0KkOFSts'   if branch == 'prod' else \"5091011572:AAG4NfkC_zZjcsaAFkwLm4ZXOvhEqyLpQhY\"\n",
    "clipapi_url = 'http://127.0.0.1:8182'\n"
   ]
  },
  {
   "cell_type": "code",
   "execution_count": 8,
   "metadata": {},
   "outputs": [],
   "source": [
    "# export\n",
    "main_path              = Path(os.getenv(\"HOME\"))\n",
    "data_path              = Path(main_path/'data/food')\n",
    "reference_images_path  = Path(data_path/'reference_images')"
   ]
  },
  {
   "cell_type": "code",
   "execution_count": 10,
   "metadata": {},
   "outputs": [
    {
     "data": {
      "text/plain": [
       "[PosixPath('/home/dima/data/food/reference_images/AgACAgIAAxkBAAIvumK9ZESYsqNLW8V_IUVXtE6knNq0AAIHvDEbbVPpSYocY8cB9NjcAQADAgADeQADKQQ'),\n",
       " PosixPath('/home/dima/data/food/reference_images/AgACAgIAAxkBAAIvtWK9ZCugCW7qQSCz8IEsenPPe0ARAAIHvDEbbVPpSYocY8cB9NjcAQADAgADeQADKQQ')]"
      ]
     },
     "execution_count": 10,
     "metadata": {},
     "output_type": "execute_result"
    }
   ],
   "source": [
    "reference_images_path.ls()"
   ]
  },
  {
   "cell_type": "code",
   "execution_count": 2,
   "metadata": {},
   "outputs": [
    {
     "name": "stdout",
     "output_type": "stream",
     "text": [
      "Converted 00_clipmodel.ipynb.\n",
      "Converted 00_custom_pandas.ipynb.\n",
      "Converted 00_paths.ipynb.\n",
      "Converted 00_progress_check.ipynb.\n",
      "Converted 00_psql.ipynb.\n",
      "Converted 00_qdrant.ipynb.\n",
      "Converted 00_tools.ipynb.\n",
      "Converted 01_search.ipynb.\n",
      "Converted inference.ipynb.\n",
      "Converted stats.ipynb.\n"
     ]
    }
   ],
   "source": [
    "!nbdev_build_lib"
   ]
  },
  {
   "cell_type": "code",
   "execution_count": null,
   "metadata": {},
   "outputs": [],
   "source": []
  }
 ],
 "metadata": {
  "kernelspec": {
   "display_name": "Python 3.9.12 ('food_product')",
   "language": "python",
   "name": "python3"
  },
  "language_info": {
   "codemirror_mode": {
    "name": "ipython",
    "version": 3
   },
   "file_extension": ".py",
   "mimetype": "text/x-python",
   "name": "python",
   "nbconvert_exporter": "python",
   "pygments_lexer": "ipython3",
   "version": "3.9.12"
  },
  "vscode": {
   "interpreter": {
    "hash": "a6bc20d2add50d5c329c18ce5ec32cd5b675a44c2b91567030c7aa8b463bccb4"
   }
  }
 },
 "nbformat": 4,
 "nbformat_minor": 4
}
