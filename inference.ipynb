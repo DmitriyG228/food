{
 "cells": [
  {
   "cell_type": "code",
   "execution_count": 1,
   "metadata": {},
   "outputs": [],
   "source": [
    "%load_ext autoreload\n",
    "%autoreload 2"
   ]
  },
  {
   "cell_type": "code",
   "execution_count": 2,
   "metadata": {},
   "outputs": [],
   "source": [
    "from food.tools import *\n",
    "from food.paths import *\n",
    "from food.psql import *\n",
    "\n",
    "import pandas as pd\n",
    "import numpy as np\n",
    "from food.clipmodel import *\n",
    "\n",
    "# !nbdev_build_lib"
   ]
  },
  {
   "cell_type": "code",
   "execution_count": 3,
   "metadata": {},
   "outputs": [],
   "source": [
    "#https://data.world/kgarrett/whats-on-the-menu/workspace/query?queryid=5d1d1edb-5e6c-4bc7-bf9e-b128f846b959\n",
    "# pd.read_csv('food.csv').to_sql('foods',engine,index=False,if_exists='append')"
   ]
  },
  {
   "cell_type": "code",
   "execution_count": 4,
   "metadata": {},
   "outputs": [],
   "source": [
    "# from tendo import singleton\n",
    "# me = singleton.SingleInstance()\n",
    "\n",
    "import os\n",
    "os.environ[\"HF_DATASETS_OFFLINE\"] = \"0\"\n",
    "os.environ[\"TRANSFORMERS_OFFLINE\"] = \"0\"\n",
    "os.environ[\"CUDA_VISIBLE_DEVICES\"] = \"0\"\n",
    "from food.tools import *\n",
    "from food.psql import *\n",
    "from food.paths import *\n",
    "from PIL import Image\n",
    "from food.clipmodel import image2clip\n",
    "import custom_pandas as cpd\n",
    "from tqdm import tqdm"
   ]
  },
  {
   "cell_type": "code",
   "execution_count": 5,
   "metadata": {},
   "outputs": [],
   "source": [
    "query = \"\"\"select p.id,name\n",
    "             from foods p\n",
    "            where p.clip is Null \"\"\""
   ]
  },
  {
   "cell_type": "code",
   "execution_count": 6,
   "metadata": {},
   "outputs": [],
   "source": [
    "total = engine.execute(f'select count(*) from ({query}) a').one()"
   ]
  },
  {
   "cell_type": "code",
   "execution_count": 7,
   "metadata": {},
   "outputs": [],
   "source": [
    "bs = 1\n",
    "pd_iter = cpd.read_sql_query(query, engine, chunksize=bs, index_col='id')"
   ]
  },
  {
   "cell_type": "code",
   "execution_count": 8,
   "metadata": {},
   "outputs": [
    {
     "name": "stderr",
     "output_type": "stream",
     "text": [
      "clip food inference:  15%|█▍        | 63207/426740 [42:44<5:17:11, 19.10it/s] "
     ]
    },
    {
     "name": "stdout",
     "output_type": "stream",
     "text": [
      "                   name                                               clip\n",
      "id                                                                        \n",
      "63205  Eggs Boiled, One  [0.04016100615262985, -0.0010926617542281747, ...\n"
     ]
    },
    {
     "name": "stderr",
     "output_type": "stream",
     "text": [
      "clip food inference:  15%|█▍        | 63457/426740 [42:59<5:54:36, 17.07it/s] "
     ]
    }
   ],
   "source": [
    "for inp in tqdm(pd_iter, desc=\"clip food inference\", total=total[0] // bs):  \n",
    "    try:\n",
    "        clip = text2clip(inp['name'].tolist()[0]).numpy().tolist()\n",
    "        inp['clip'] = [clip]\n",
    "        insert_ignore(inp,'foods',update=True,update_cols=['clip'],unique_cols=['id'])\n",
    "    except:\n",
    "        print(inp)\n"
   ]
  },
  {
   "cell_type": "code",
   "execution_count": null,
   "metadata": {},
   "outputs": [],
   "source": []
  }
 ],
 "metadata": {
  "interpreter": {
   "hash": "1e1ee659a212ecca49d6a1809275141ef7642c152d6286fb803a43d965656456"
  },
  "kernelspec": {
   "display_name": "re",
   "language": "python",
   "name": "python3"
  },
  "language_info": {
   "codemirror_mode": {
    "name": "ipython",
    "version": 3
   },
   "file_extension": ".py",
   "mimetype": "text/x-python",
   "name": "python",
   "nbconvert_exporter": "python",
   "pygments_lexer": "ipython3",
   "version": "3.9.7"
  }
 },
 "nbformat": 4,
 "nbformat_minor": 4
}
