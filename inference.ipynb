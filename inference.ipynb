{
 "cells": [
  {
   "cell_type": "code",
   "execution_count": 1,
   "metadata": {},
   "outputs": [],
   "source": [
    "%load_ext autoreload\n",
    "%autoreload 2"
   ]
  },
  {
   "cell_type": "code",
   "execution_count": 2,
   "metadata": {},
   "outputs": [],
   "source": [
    "from food.tools import *\n",
    "from food.paths import *\n",
    "from food.psql import *\n",
    "\n",
    "import pandas as pd\n",
    "import numpy as np\n",
    "from food.clipmodel import *\n",
    "\n",
    "# !nbdev_build_lib"
   ]
  },
  {
   "cell_type": "code",
   "execution_count": 3,
   "metadata": {},
   "outputs": [],
   "source": [
    "#https://data.world/kgarrett/whats-on-the-menu/workspace/query?queryid=5d1d1edb-5e6c-4bc7-bf9e-b128f846b959\n",
    "# pd.read_csv('food.csv').to_sql('foods',engine,index=False,if_exists='append')"
   ]
  },
  {
   "cell_type": "code",
   "execution_count": 1,
   "metadata": {},
   "outputs": [],
   "source": [
    "# from tendo import singleton\n",
    "# me = singleton.SingleInstance()\n",
    "\n",
    "import os\n",
    "os.environ[\"HF_DATASETS_OFFLINE\"] = \"0\"\n",
    "os.environ[\"TRANSFORMERS_OFFLINE\"] = \"0\"\n",
    "os.environ[\"CUDA_VISIBLE_DEVICES\"] = \"0\"\n",
    "from food.tools import *\n",
    "from food.psql import *\n",
    "from food.paths import *\n",
    "from PIL import Image\n",
    "from food.clipmodel import image2clip\n",
    "import custom_pandas as cpd\n",
    "from tqdm import tqdm"
   ]
  },
  {
   "cell_type": "code",
   "execution_count": 2,
   "metadata": {},
   "outputs": [],
   "source": [
    "query = \"\"\"select id,product_name,keywords,ingredients_text,categories,food_groups\n",
    "             from foods_big\n",
    "            where id = 24599 \"\"\""
   ]
  },
  {
   "cell_type": "code",
   "execution_count": 3,
   "metadata": {},
   "outputs": [],
   "source": [
    "total = engine.execute(f'select count(*) from ({query}) a').one()"
   ]
  },
  {
   "cell_type": "code",
   "execution_count": 5,
   "metadata": {},
   "outputs": [],
   "source": [
    "bs = 1\n",
    "pd_iter = cpd.read_sql_query(query, engine, chunksize=bs, index_col='id')"
   ]
  },
  {
   "cell_type": "code",
   "execution_count": 6,
   "metadata": {},
   "outputs": [
    {
     "name": "stderr",
     "output_type": "stream",
     "text": [
      "clip food inference:   0%|          | 0/1 [00:00<?, ?it/s]\n"
     ]
    },
    {
     "ename": "NameError",
     "evalue": "name 'text2clip' is not defined",
     "output_type": "error",
     "traceback": [
      "\u001b[0;31m---------------------------------------------------------------------------\u001b[0m",
      "\u001b[0;31mNameError\u001b[0m                                 Traceback (most recent call last)",
      "\u001b[1;32m/home/dima/food/inference.ipynb Cell 8'\u001b[0m in \u001b[0;36m<cell line: 1>\u001b[0;34m()\u001b[0m\n\u001b[1;32m      <a href='vscode-notebook-cell://ssh-remote%2Bml2/home/dima/food/inference.ipynb#ch0000012vscode-remote?line=2'>3</a>\u001b[0m \u001b[39mfor\u001b[39;00m c \u001b[39min\u001b[39;00m text\u001b[39m.\u001b[39mcolumns: text[c] \u001b[39m=\u001b[39m text[c]\u001b[39m.\u001b[39mstr\u001b[39m.\u001b[39mreplace(\u001b[39m'\u001b[39m\u001b[39mNaN\u001b[39m\u001b[39m'\u001b[39m,\u001b[39m'\u001b[39m\u001b[39m'\u001b[39m)\n\u001b[1;32m      <a href='vscode-notebook-cell://ssh-remote%2Bml2/home/dima/food/inference.ipynb#ch0000012vscode-remote?line=3'>4</a>\u001b[0m text \u001b[39m=\u001b[39m text[\u001b[39m'\u001b[39m\u001b[39mproduct_name\u001b[39m\u001b[39m'\u001b[39m]\u001b[39m+\u001b[39m \u001b[39m'\u001b[39m\u001b[39m. \u001b[39m\u001b[39m'\u001b[39m \u001b[39m+\u001b[39m text[\u001b[39m'\u001b[39m\u001b[39mfood_groups\u001b[39m\u001b[39m'\u001b[39m]\u001b[39m+\u001b[39m \u001b[39m'\u001b[39m\u001b[39m. \u001b[39m\u001b[39m'\u001b[39m \u001b[39m+\u001b[39m text[\u001b[39m'\u001b[39m\u001b[39mkeywords\u001b[39m\u001b[39m'\u001b[39m] \u001b[39m+\u001b[39m \u001b[39m'\u001b[39m\u001b[39m. \u001b[39m\u001b[39m'\u001b[39m \u001b[39m+\u001b[39m text[\u001b[39m'\u001b[39m\u001b[39mingredients_text\u001b[39m\u001b[39m'\u001b[39m] \u001b[39m+\u001b[39m \u001b[39m'\u001b[39m\u001b[39m. \u001b[39m\u001b[39m'\u001b[39m\u001b[39m+\u001b[39m text[\u001b[39m'\u001b[39m\u001b[39mcategories\u001b[39m\u001b[39m'\u001b[39m] \n\u001b[0;32m----> <a href='vscode-notebook-cell://ssh-remote%2Bml2/home/dima/food/inference.ipynb#ch0000012vscode-remote?line=4'>5</a>\u001b[0m clip \u001b[39m=\u001b[39m text2clip(text\u001b[39m.\u001b[39mtolist()[\u001b[39m0\u001b[39m])\u001b[39m.\u001b[39mnumpy()\u001b[39m.\u001b[39mtolist()\n\u001b[1;32m      <a href='vscode-notebook-cell://ssh-remote%2Bml2/home/dima/food/inference.ipynb#ch0000012vscode-remote?line=5'>6</a>\u001b[0m inp[\u001b[39m'\u001b[39m\u001b[39mclip\u001b[39m\u001b[39m'\u001b[39m] \u001b[39m=\u001b[39m [clip]\n\u001b[1;32m      <a href='vscode-notebook-cell://ssh-remote%2Bml2/home/dima/food/inference.ipynb#ch0000012vscode-remote?line=6'>7</a>\u001b[0m insert_ignore(inp,\u001b[39m'\u001b[39m\u001b[39mfoods_big\u001b[39m\u001b[39m'\u001b[39m,update\u001b[39m=\u001b[39m\u001b[39mTrue\u001b[39;00m,update_cols\u001b[39m=\u001b[39m[\u001b[39m'\u001b[39m\u001b[39mclip\u001b[39m\u001b[39m'\u001b[39m],unique_cols\u001b[39m=\u001b[39m[\u001b[39m'\u001b[39m\u001b[39mid\u001b[39m\u001b[39m'\u001b[39m])\n",
      "\u001b[0;31mNameError\u001b[0m: name 'text2clip' is not defined"
     ]
    }
   ],
   "source": [
    "for inp in tqdm(pd_iter, desc=\"clip food inference\", total=total[0] // bs):  \n",
    "    text =inp.fillna(\"\")\n",
    "    for c in text.columns: text[c] = text[c].str.replace('NaN','')\n",
    "    text = text['product_name']+ '. ' + text['food_groups']+ '. ' + text['keywords'] + '. ' + text['ingredients_text'] + '. '+ text['categories'] \n",
    "    clip = text2clip(text.tolist()[0]).numpy().tolist()\n",
    "    inp['clip'] = [clip]\n",
    "    insert_ignore(inp,'foods_big',update=True,update_cols=['clip'],unique_cols=['id'])\n"
   ]
  },
  {
   "cell_type": "code",
   "execution_count": 3,
   "metadata": {},
   "outputs": [
    {
     "data": {
      "text/plain": [
       "1"
      ]
     },
     "execution_count": 3,
     "metadata": {},
     "output_type": "execute_result"
    }
   ],
   "source": [
    "1"
   ]
  },
  {
   "cell_type": "code",
   "execution_count": null,
   "metadata": {},
   "outputs": [],
   "source": []
  }
 ],
 "metadata": {
  "interpreter": {
   "hash": "1e1ee659a212ecca49d6a1809275141ef7642c152d6286fb803a43d965656456"
  },
  "kernelspec": {
   "display_name": "re",
   "language": "python",
   "name": "python3"
  },
  "language_info": {
   "codemirror_mode": {
    "name": "ipython",
    "version": 3
   },
   "file_extension": ".py",
   "mimetype": "text/x-python",
   "name": "python",
   "nbconvert_exporter": "python",
   "pygments_lexer": "ipython3",
   "version": "3.9.7"
  }
 },
 "nbformat": 4,
 "nbformat_minor": 4
}
