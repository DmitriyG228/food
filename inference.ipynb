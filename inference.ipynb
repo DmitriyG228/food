{
 "cells": [
  {
   "cell_type": "code",
   "execution_count": 1,
   "metadata": {},
   "outputs": [],
   "source": [
    "# from tendo import singleton\n",
    "# me = singleton.SingleInstance()\n",
    "from food.tools import *\n",
    "from food.paths import *\n",
    "from food.psql import *\n",
    "\n",
    "import pandas as pd\n",
    "import numpy as np\n"
   ]
  },
  {
   "cell_type": "code",
   "execution_count": 2,
   "metadata": {},
   "outputs": [],
   "source": [
    "table = 'fundation_foods'\n",
    "\n",
    "\n",
    "import os\n",
    "os.environ[\"HF_DATASETS_OFFLINE\"] = \"2\"\n",
    "os.environ[\"TRANSFORMERS_OFFLINE\"] = \"2\"\n",
    "os.environ[\"CUDA_VISIBLE_DEVICES\"] = \"2\"\n",
    "from food.tools import *\n",
    "from food.psql import *\n",
    "from food.paths import *\n",
    "from PIL import Image\n",
    "import custom_pandas as cpd\n",
    "from tqdm import tqdm\n",
    "from sqlalchemy import update\n",
    "\n",
    "query = f\"\"\"select id,description\n",
    "             from food.{table}\n",
    "            where clip is Null \"\"\"\n",
    "\n",
    "total = engine.execute(f'select count(*) from ({query}) a').one()\n",
    "\n",
    "bs = 1\n",
    "pd_iter = cpd.read_sql_query(query, engine, chunksize=bs, index_col='id')\n",
    "\n",
    "import requests\n"
   ]
  },
  {
   "cell_type": "code",
   "execution_count": 3,
   "metadata": {},
   "outputs": [],
   "source": [
    "text = 'apple'"
   ]
  },
  {
   "cell_type": "code",
   "execution_count": 4,
   "metadata": {},
   "outputs": [],
   "source": []
  },
  {
   "cell_type": "code",
   "execution_count": 8,
   "metadata": {},
   "outputs": [
    {
     "ename": "NameError",
     "evalue": "name 'inp' is not defined",
     "output_type": "error",
     "traceback": [
      "\u001b[0;31m---------------------------------------------------------------------------\u001b[0m",
      "\u001b[0;31mNameError\u001b[0m                                 Traceback (most recent call last)",
      "\u001b[1;32m/home/dima/food/inference.ipynb Cell 5'\u001b[0m in \u001b[0;36m<cell line: 1>\u001b[0;34m()\u001b[0m\n\u001b[0;32m----> <a href='vscode-notebook-cell://ssh-remote%2Bml2/home/dima/food/inference.ipynb#ch0000006vscode-remote?line=0'>1</a>\u001b[0m inp[\u001b[39m'\u001b[39m\u001b[39mdescription\u001b[39m\u001b[39m'\u001b[39m]\u001b[39m.\u001b[39miloc[\u001b[39m0\u001b[39m]\n",
      "\u001b[0;31mNameError\u001b[0m: name 'inp' is not defined"
     ]
    }
   ],
   "source": []
  },
  {
   "cell_type": "code",
   "execution_count": 9,
   "metadata": {},
   "outputs": [
    {
     "name": "stderr",
     "output_type": "stream",
     "text": [
      "clip food inference: 100%|██████████| 223/223 [00:05<00:00, 41.08it/s]\n"
     ]
    }
   ],
   "source": [
    "\n",
    "for inp in tqdm(pd_iter, desc=\"clip food inference\", total=total[0] // bs):  \n",
    "    text = inp['description'].iloc[0]\n",
    "    clip = requests.post(f'http://127.0.0.1:8181/text2vector/?text={text}').json()\n",
    "    stmt = (update(FFoods).\n",
    "            values(clip=clip).\n",
    "            where(FFoods.id == int(inp.index[0])))\n",
    "    engine.execute(stmt)\n",
    "\n"
   ]
  },
  {
   "cell_type": "code",
   "execution_count": null,
   "metadata": {},
   "outputs": [],
   "source": []
  }
 ],
 "metadata": {
  "interpreter": {
   "hash": "1e1ee659a212ecca49d6a1809275141ef7642c152d6286fb803a43d965656456"
  },
  "kernelspec": {
   "display_name": "re",
   "language": "python",
   "name": "python3"
  },
  "language_info": {
   "codemirror_mode": {
    "name": "ipython",
    "version": 3
   },
   "file_extension": ".py",
   "mimetype": "text/x-python",
   "name": "python",
   "nbconvert_exporter": "python",
   "pygments_lexer": "ipython3",
   "version": "3.9.7"
  }
 },
 "nbformat": 4,
 "nbformat_minor": 4
}
