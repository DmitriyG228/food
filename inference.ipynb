{
 "cells": [
  {
   "cell_type": "code",
   "execution_count": 1,
   "metadata": {},
   "outputs": [],
   "source": [
    "%load_ext autoreload\n",
    "%autoreload 2"
   ]
  },
  {
   "cell_type": "code",
   "execution_count": 2,
   "metadata": {},
   "outputs": [
    {
     "data": {
      "application/vnd.jupyter.widget-view+json": {
       "model_id": "5f2c58226a0e4775aa3b98a309558461",
       "version_major": 2,
       "version_minor": 0
      },
      "text/plain": [
       "Downloading:   0%|          | 0.00/4.31k [00:00<?, ?B/s]"
      ]
     },
     "metadata": {},
     "output_type": "display_data"
    },
    {
     "data": {
      "application/vnd.jupyter.widget-view+json": {
       "model_id": "692b8479d50147f7a351c44389c652e0",
       "version_major": 2,
       "version_minor": 0
      },
      "text/plain": [
       "Downloading:   0%|          | 0.00/1.59G [00:00<?, ?B/s]"
      ]
     },
     "metadata": {},
     "output_type": "display_data"
    },
    {
     "ename": "KeyboardInterrupt",
     "evalue": "",
     "output_type": "error",
     "traceback": [
      "\u001b[0;31m---------------------------------------------------------------------------\u001b[0m",
      "\u001b[0;31mKeyboardInterrupt\u001b[0m                         Traceback (most recent call last)",
      "\u001b[1;32m/home/dima/food/inference.ipynb Cell 2'\u001b[0m in \u001b[0;36m<cell line: 7>\u001b[0;34m()\u001b[0m\n\u001b[1;32m      <a href='vscode-notebook-cell://ssh-remote%2Bml2/home/dima/food/inference.ipynb#ch0000001vscode-remote?line=4'>5</a>\u001b[0m \u001b[39mimport\u001b[39;00m \u001b[39mpandas\u001b[39;00m \u001b[39mas\u001b[39;00m \u001b[39mpd\u001b[39;00m\n\u001b[1;32m      <a href='vscode-notebook-cell://ssh-remote%2Bml2/home/dima/food/inference.ipynb#ch0000001vscode-remote?line=5'>6</a>\u001b[0m \u001b[39mimport\u001b[39;00m \u001b[39mnumpy\u001b[39;00m \u001b[39mas\u001b[39;00m \u001b[39mnp\u001b[39;00m\n\u001b[0;32m----> <a href='vscode-notebook-cell://ssh-remote%2Bml2/home/dima/food/inference.ipynb#ch0000001vscode-remote?line=6'>7</a>\u001b[0m \u001b[39mfrom\u001b[39;00m \u001b[39mfood\u001b[39;00m\u001b[39m.\u001b[39;00m\u001b[39mclipmodel\u001b[39;00m \u001b[39mimport\u001b[39;00m \u001b[39m*\u001b[39m\n",
      "File \u001b[0;32m~/food/food/clipmodel.py:20\u001b[0m, in \u001b[0;36m<module>\u001b[0;34m\u001b[0m\n\u001b[1;32m     <a href='file:///home/dima/food/food/clipmodel.py?line=14'>15</a>\u001b[0m \u001b[39m#########################################################################################################################\u001b[39;00m\n\u001b[1;32m     <a href='file:///home/dima/food/food/clipmodel.py?line=15'>16</a>\u001b[0m \u001b[39m# en model\u001b[39;00m\n\u001b[1;32m     <a href='file:///home/dima/food/food/clipmodel.py?line=17'>18</a>\u001b[0m en_model_name \u001b[39m=\u001b[39m \u001b[39m'\u001b[39m\u001b[39mopenai/clip-vit-large-patch14\u001b[39m\u001b[39m'\u001b[39m \n\u001b[0;32m---> <a href='file:///home/dima/food/food/clipmodel.py?line=19'>20</a>\u001b[0m model \u001b[39m=\u001b[39m CLIPModel\u001b[39m.\u001b[39;49mfrom_pretrained(en_model_name)\u001b[39m.\u001b[39mcuda()\n\u001b[1;32m     <a href='file:///home/dima/food/food/clipmodel.py?line=20'>21</a>\u001b[0m tokenizer \u001b[39m=\u001b[39m CLIPTokenizer\u001b[39m.\u001b[39mfrom_pretrained(en_model_name)\n\u001b[1;32m     <a href='file:///home/dima/food/food/clipmodel.py?line=21'>22</a>\u001b[0m en_processor \u001b[39m=\u001b[39m CLIPProcessor\u001b[39m.\u001b[39mfrom_pretrained(en_model_name)\n",
      "File \u001b[0;32m~/anaconda3/envs/food/lib/python3.9/site-packages/transformers/modeling_utils.py:1358\u001b[0m, in \u001b[0;36mPreTrainedModel.from_pretrained\u001b[0;34m(cls, pretrained_model_name_or_path, *model_args, **kwargs)\u001b[0m\n\u001b[1;32m   <a href='file:///home/dima/anaconda3/envs/food/lib/python3.9/site-packages/transformers/modeling_utils.py?line=1348'>1349</a>\u001b[0m     archive_file \u001b[39m=\u001b[39m hf_bucket_url(\n\u001b[1;32m   <a href='file:///home/dima/anaconda3/envs/food/lib/python3.9/site-packages/transformers/modeling_utils.py?line=1349'>1350</a>\u001b[0m         pretrained_model_name_or_path,\n\u001b[1;32m   <a href='file:///home/dima/anaconda3/envs/food/lib/python3.9/site-packages/transformers/modeling_utils.py?line=1350'>1351</a>\u001b[0m         filename\u001b[39m=\u001b[39mfilename,\n\u001b[1;32m   <a href='file:///home/dima/anaconda3/envs/food/lib/python3.9/site-packages/transformers/modeling_utils.py?line=1351'>1352</a>\u001b[0m         revision\u001b[39m=\u001b[39mrevision,\n\u001b[1;32m   <a href='file:///home/dima/anaconda3/envs/food/lib/python3.9/site-packages/transformers/modeling_utils.py?line=1352'>1353</a>\u001b[0m         mirror\u001b[39m=\u001b[39mmirror,\n\u001b[1;32m   <a href='file:///home/dima/anaconda3/envs/food/lib/python3.9/site-packages/transformers/modeling_utils.py?line=1353'>1354</a>\u001b[0m     )\n\u001b[1;32m   <a href='file:///home/dima/anaconda3/envs/food/lib/python3.9/site-packages/transformers/modeling_utils.py?line=1355'>1356</a>\u001b[0m \u001b[39mtry\u001b[39;00m:\n\u001b[1;32m   <a href='file:///home/dima/anaconda3/envs/food/lib/python3.9/site-packages/transformers/modeling_utils.py?line=1356'>1357</a>\u001b[0m     \u001b[39m# Load from URL or cache if already cached\u001b[39;00m\n\u001b[0;32m-> <a href='file:///home/dima/anaconda3/envs/food/lib/python3.9/site-packages/transformers/modeling_utils.py?line=1357'>1358</a>\u001b[0m     resolved_archive_file \u001b[39m=\u001b[39m cached_path(\n\u001b[1;32m   <a href='file:///home/dima/anaconda3/envs/food/lib/python3.9/site-packages/transformers/modeling_utils.py?line=1358'>1359</a>\u001b[0m         archive_file,\n\u001b[1;32m   <a href='file:///home/dima/anaconda3/envs/food/lib/python3.9/site-packages/transformers/modeling_utils.py?line=1359'>1360</a>\u001b[0m         cache_dir\u001b[39m=\u001b[39;49mcache_dir,\n\u001b[1;32m   <a href='file:///home/dima/anaconda3/envs/food/lib/python3.9/site-packages/transformers/modeling_utils.py?line=1360'>1361</a>\u001b[0m         force_download\u001b[39m=\u001b[39;49mforce_download,\n\u001b[1;32m   <a href='file:///home/dima/anaconda3/envs/food/lib/python3.9/site-packages/transformers/modeling_utils.py?line=1361'>1362</a>\u001b[0m         proxies\u001b[39m=\u001b[39;49mproxies,\n\u001b[1;32m   <a href='file:///home/dima/anaconda3/envs/food/lib/python3.9/site-packages/transformers/modeling_utils.py?line=1362'>1363</a>\u001b[0m         resume_download\u001b[39m=\u001b[39;49mresume_download,\n\u001b[1;32m   <a href='file:///home/dima/anaconda3/envs/food/lib/python3.9/site-packages/transformers/modeling_utils.py?line=1363'>1364</a>\u001b[0m         local_files_only\u001b[39m=\u001b[39;49mlocal_files_only,\n\u001b[1;32m   <a href='file:///home/dima/anaconda3/envs/food/lib/python3.9/site-packages/transformers/modeling_utils.py?line=1364'>1365</a>\u001b[0m         use_auth_token\u001b[39m=\u001b[39;49muse_auth_token,\n\u001b[1;32m   <a href='file:///home/dima/anaconda3/envs/food/lib/python3.9/site-packages/transformers/modeling_utils.py?line=1365'>1366</a>\u001b[0m         user_agent\u001b[39m=\u001b[39;49muser_agent,\n\u001b[1;32m   <a href='file:///home/dima/anaconda3/envs/food/lib/python3.9/site-packages/transformers/modeling_utils.py?line=1366'>1367</a>\u001b[0m     )\n\u001b[1;32m   <a href='file:///home/dima/anaconda3/envs/food/lib/python3.9/site-packages/transformers/modeling_utils.py?line=1368'>1369</a>\u001b[0m \u001b[39mexcept\u001b[39;00m RepositoryNotFoundError:\n\u001b[1;32m   <a href='file:///home/dima/anaconda3/envs/food/lib/python3.9/site-packages/transformers/modeling_utils.py?line=1369'>1370</a>\u001b[0m     \u001b[39mraise\u001b[39;00m \u001b[39mEnvironmentError\u001b[39;00m(\n\u001b[1;32m   <a href='file:///home/dima/anaconda3/envs/food/lib/python3.9/site-packages/transformers/modeling_utils.py?line=1370'>1371</a>\u001b[0m         \u001b[39mf\u001b[39m\u001b[39m\"\u001b[39m\u001b[39m{\u001b[39;00mpretrained_model_name_or_path\u001b[39m}\u001b[39;00m\u001b[39m is not a local folder and is not a valid model identifier \u001b[39m\u001b[39m\"\u001b[39m\n\u001b[1;32m   <a href='file:///home/dima/anaconda3/envs/food/lib/python3.9/site-packages/transformers/modeling_utils.py?line=1371'>1372</a>\u001b[0m         \u001b[39m\"\u001b[39m\u001b[39mlisted on \u001b[39m\u001b[39m'\u001b[39m\u001b[39mhttps://huggingface.co/models\u001b[39m\u001b[39m'\u001b[39m\u001b[39m\\n\u001b[39;00m\u001b[39mIf this is a private repository, make sure to pass a \u001b[39m\u001b[39m\"\u001b[39m\n\u001b[1;32m   <a href='file:///home/dima/anaconda3/envs/food/lib/python3.9/site-packages/transformers/modeling_utils.py?line=1372'>1373</a>\u001b[0m         \u001b[39m\"\u001b[39m\u001b[39mtoken having permission to this repo with `use_auth_token` or log in with `huggingface-cli \u001b[39m\u001b[39m\"\u001b[39m\n\u001b[1;32m   <a href='file:///home/dima/anaconda3/envs/food/lib/python3.9/site-packages/transformers/modeling_utils.py?line=1373'>1374</a>\u001b[0m         \u001b[39m\"\u001b[39m\u001b[39mlogin` and pass `use_auth_token=True`.\u001b[39m\u001b[39m\"\u001b[39m\n\u001b[1;32m   <a href='file:///home/dima/anaconda3/envs/food/lib/python3.9/site-packages/transformers/modeling_utils.py?line=1374'>1375</a>\u001b[0m     )\n",
      "File \u001b[0;32m~/anaconda3/envs/food/lib/python3.9/site-packages/transformers/file_utils.py:1921\u001b[0m, in \u001b[0;36mcached_path\u001b[0;34m(url_or_filename, cache_dir, force_download, proxies, resume_download, user_agent, extract_compressed_file, force_extract, use_auth_token, local_files_only)\u001b[0m\n\u001b[1;32m   <a href='file:///home/dima/anaconda3/envs/food/lib/python3.9/site-packages/transformers/file_utils.py?line=1916'>1917</a>\u001b[0m     local_files_only \u001b[39m=\u001b[39m \u001b[39mTrue\u001b[39;00m\n\u001b[1;32m   <a href='file:///home/dima/anaconda3/envs/food/lib/python3.9/site-packages/transformers/file_utils.py?line=1918'>1919</a>\u001b[0m \u001b[39mif\u001b[39;00m is_remote_url(url_or_filename):\n\u001b[1;32m   <a href='file:///home/dima/anaconda3/envs/food/lib/python3.9/site-packages/transformers/file_utils.py?line=1919'>1920</a>\u001b[0m     \u001b[39m# URL, so get it from the cache (downloading if necessary)\u001b[39;00m\n\u001b[0;32m-> <a href='file:///home/dima/anaconda3/envs/food/lib/python3.9/site-packages/transformers/file_utils.py?line=1920'>1921</a>\u001b[0m     output_path \u001b[39m=\u001b[39m get_from_cache(\n\u001b[1;32m   <a href='file:///home/dima/anaconda3/envs/food/lib/python3.9/site-packages/transformers/file_utils.py?line=1921'>1922</a>\u001b[0m         url_or_filename,\n\u001b[1;32m   <a href='file:///home/dima/anaconda3/envs/food/lib/python3.9/site-packages/transformers/file_utils.py?line=1922'>1923</a>\u001b[0m         cache_dir\u001b[39m=\u001b[39;49mcache_dir,\n\u001b[1;32m   <a href='file:///home/dima/anaconda3/envs/food/lib/python3.9/site-packages/transformers/file_utils.py?line=1923'>1924</a>\u001b[0m         force_download\u001b[39m=\u001b[39;49mforce_download,\n\u001b[1;32m   <a href='file:///home/dima/anaconda3/envs/food/lib/python3.9/site-packages/transformers/file_utils.py?line=1924'>1925</a>\u001b[0m         proxies\u001b[39m=\u001b[39;49mproxies,\n\u001b[1;32m   <a href='file:///home/dima/anaconda3/envs/food/lib/python3.9/site-packages/transformers/file_utils.py?line=1925'>1926</a>\u001b[0m         resume_download\u001b[39m=\u001b[39;49mresume_download,\n\u001b[1;32m   <a href='file:///home/dima/anaconda3/envs/food/lib/python3.9/site-packages/transformers/file_utils.py?line=1926'>1927</a>\u001b[0m         user_agent\u001b[39m=\u001b[39;49muser_agent,\n\u001b[1;32m   <a href='file:///home/dima/anaconda3/envs/food/lib/python3.9/site-packages/transformers/file_utils.py?line=1927'>1928</a>\u001b[0m         use_auth_token\u001b[39m=\u001b[39;49muse_auth_token,\n\u001b[1;32m   <a href='file:///home/dima/anaconda3/envs/food/lib/python3.9/site-packages/transformers/file_utils.py?line=1928'>1929</a>\u001b[0m         local_files_only\u001b[39m=\u001b[39;49mlocal_files_only,\n\u001b[1;32m   <a href='file:///home/dima/anaconda3/envs/food/lib/python3.9/site-packages/transformers/file_utils.py?line=1929'>1930</a>\u001b[0m     )\n\u001b[1;32m   <a href='file:///home/dima/anaconda3/envs/food/lib/python3.9/site-packages/transformers/file_utils.py?line=1930'>1931</a>\u001b[0m \u001b[39melif\u001b[39;00m os\u001b[39m.\u001b[39mpath\u001b[39m.\u001b[39mexists(url_or_filename):\n\u001b[1;32m   <a href='file:///home/dima/anaconda3/envs/food/lib/python3.9/site-packages/transformers/file_utils.py?line=1931'>1932</a>\u001b[0m     \u001b[39m# File, and it exists.\u001b[39;00m\n\u001b[1;32m   <a href='file:///home/dima/anaconda3/envs/food/lib/python3.9/site-packages/transformers/file_utils.py?line=1932'>1933</a>\u001b[0m     output_path \u001b[39m=\u001b[39m url_or_filename\n",
      "File \u001b[0;32m~/anaconda3/envs/food/lib/python3.9/site-packages/transformers/file_utils.py:2217\u001b[0m, in \u001b[0;36mget_from_cache\u001b[0;34m(url, cache_dir, force_download, proxies, etag_timeout, resume_download, user_agent, use_auth_token, local_files_only)\u001b[0m\n\u001b[1;32m   <a href='file:///home/dima/anaconda3/envs/food/lib/python3.9/site-packages/transformers/file_utils.py?line=2213'>2214</a>\u001b[0m \u001b[39mwith\u001b[39;00m temp_file_manager() \u001b[39mas\u001b[39;00m temp_file:\n\u001b[1;32m   <a href='file:///home/dima/anaconda3/envs/food/lib/python3.9/site-packages/transformers/file_utils.py?line=2214'>2215</a>\u001b[0m     logger\u001b[39m.\u001b[39minfo(\u001b[39mf\u001b[39m\u001b[39m\"\u001b[39m\u001b[39m{\u001b[39;00murl\u001b[39m}\u001b[39;00m\u001b[39m not found in cache or force_download set to True, downloading to \u001b[39m\u001b[39m{\u001b[39;00mtemp_file\u001b[39m.\u001b[39mname\u001b[39m}\u001b[39;00m\u001b[39m\"\u001b[39m)\n\u001b[0;32m-> <a href='file:///home/dima/anaconda3/envs/food/lib/python3.9/site-packages/transformers/file_utils.py?line=2216'>2217</a>\u001b[0m     http_get(url_to_download, temp_file, proxies\u001b[39m=\u001b[39;49mproxies, resume_size\u001b[39m=\u001b[39;49mresume_size, headers\u001b[39m=\u001b[39;49mheaders)\n\u001b[1;32m   <a href='file:///home/dima/anaconda3/envs/food/lib/python3.9/site-packages/transformers/file_utils.py?line=2218'>2219</a>\u001b[0m logger\u001b[39m.\u001b[39minfo(\u001b[39mf\u001b[39m\u001b[39m\"\u001b[39m\u001b[39mstoring \u001b[39m\u001b[39m{\u001b[39;00murl\u001b[39m}\u001b[39;00m\u001b[39m in cache at \u001b[39m\u001b[39m{\u001b[39;00mcache_path\u001b[39m}\u001b[39;00m\u001b[39m\"\u001b[39m)\n\u001b[1;32m   <a href='file:///home/dima/anaconda3/envs/food/lib/python3.9/site-packages/transformers/file_utils.py?line=2219'>2220</a>\u001b[0m os\u001b[39m.\u001b[39mreplace(temp_file\u001b[39m.\u001b[39mname, cache_path)\n",
      "File \u001b[0;32m~/anaconda3/envs/food/lib/python3.9/site-packages/transformers/file_utils.py:2079\u001b[0m, in \u001b[0;36mhttp_get\u001b[0;34m(url, temp_file, proxies, resume_size, headers)\u001b[0m\n\u001b[1;32m   <a href='file:///home/dima/anaconda3/envs/food/lib/python3.9/site-packages/transformers/file_utils.py?line=2076'>2077</a>\u001b[0m     \u001b[39mif\u001b[39;00m chunk:  \u001b[39m# filter out keep-alive new chunks\u001b[39;00m\n\u001b[1;32m   <a href='file:///home/dima/anaconda3/envs/food/lib/python3.9/site-packages/transformers/file_utils.py?line=2077'>2078</a>\u001b[0m         progress\u001b[39m.\u001b[39mupdate(\u001b[39mlen\u001b[39m(chunk))\n\u001b[0;32m-> <a href='file:///home/dima/anaconda3/envs/food/lib/python3.9/site-packages/transformers/file_utils.py?line=2078'>2079</a>\u001b[0m         temp_file\u001b[39m.\u001b[39;49mwrite(chunk)\n\u001b[1;32m   <a href='file:///home/dima/anaconda3/envs/food/lib/python3.9/site-packages/transformers/file_utils.py?line=2079'>2080</a>\u001b[0m progress\u001b[39m.\u001b[39mclose()\n",
      "File \u001b[0;32m~/anaconda3/envs/food/lib/python3.9/tempfile.py:474\u001b[0m, in \u001b[0;36m_TemporaryFileWrapper.__getattr__.<locals>.func_wrapper\u001b[0;34m(*args, **kwargs)\u001b[0m\n\u001b[1;32m    <a href='file:///home/dima/anaconda3/envs/food/lib/python3.9/tempfile.py?line=471'>472</a>\u001b[0m \u001b[39m@_functools\u001b[39m\u001b[39m.\u001b[39mwraps(func)\n\u001b[1;32m    <a href='file:///home/dima/anaconda3/envs/food/lib/python3.9/tempfile.py?line=472'>473</a>\u001b[0m \u001b[39mdef\u001b[39;00m \u001b[39mfunc_wrapper\u001b[39m(\u001b[39m*\u001b[39margs, \u001b[39m*\u001b[39m\u001b[39m*\u001b[39mkwargs):\n\u001b[0;32m--> <a href='file:///home/dima/anaconda3/envs/food/lib/python3.9/tempfile.py?line=473'>474</a>\u001b[0m     \u001b[39mreturn\u001b[39;00m func(\u001b[39m*\u001b[39;49margs, \u001b[39m*\u001b[39;49m\u001b[39m*\u001b[39;49mkwargs)\n",
      "\u001b[0;31mKeyboardInterrupt\u001b[0m: "
     ]
    }
   ],
   "source": [
    "from food.tools import *\n",
    "from food.paths import *\n",
    "from food.psql import *\n",
    "\n",
    "import pandas as pd\n",
    "import numpy as np\n",
    "from food.clipmodel import *\n",
    "\n",
    "# !nbdev_build_lib"
   ]
  },
  {
   "cell_type": "code",
   "execution_count": null,
   "metadata": {},
   "outputs": [],
   "source": [
    "#https://data.world/kgarrett/whats-on-the-menu/workspace/query?queryid=5d1d1edb-5e6c-4bc7-bf9e-b128f846b959\n",
    "# pd.read_csv('food.csv').to_sql('foods',engine,index=False,if_exists='append')"
   ]
  },
  {
   "cell_type": "code",
   "execution_count": null,
   "metadata": {},
   "outputs": [],
   "source": [
    "# from tendo import singleton\n",
    "# me = singleton.SingleInstance()\n",
    "\n",
    "import os\n",
    "os.environ[\"HF_DATASETS_OFFLINE\"] = \"0\"\n",
    "os.environ[\"TRANSFORMERS_OFFLINE\"] = \"0\"\n",
    "os.environ[\"CUDA_VISIBLE_DEVICES\"] = \"0\"\n",
    "from food.tools import *\n",
    "from food.psql import *\n",
    "from food.paths import *\n",
    "from PIL import Image\n",
    "from food.clipmodel import image2clip\n",
    "import custom_pandas as cpd\n",
    "from tqdm import tqdm"
   ]
  },
  {
   "cell_type": "code",
   "execution_count": null,
   "metadata": {},
   "outputs": [],
   "source": [
    "query = \"\"\"select p.id,name\n",
    "             from foods p\n",
    "            where p.clip is Null \"\"\""
   ]
  },
  {
   "cell_type": "code",
   "execution_count": null,
   "metadata": {},
   "outputs": [],
   "source": [
    "total = engine.execute(f'select count(*) from ({query}) a').one()"
   ]
  },
  {
   "cell_type": "code",
   "execution_count": 7,
   "metadata": {},
   "outputs": [],
   "source": [
    "bs = 1\n",
    "pd_iter = cpd.read_sql_query(query, engine, chunksize=bs, index_col='id')"
   ]
  },
  {
   "cell_type": "code",
   "execution_count": 8,
   "metadata": {},
   "outputs": [
    {
     "name": "stderr",
     "output_type": "stream",
     "text": [
      "clip food inference:  15%|█▍        | 63207/426740 [42:44<5:17:11, 19.10it/s] "
     ]
    },
    {
     "name": "stdout",
     "output_type": "stream",
     "text": [
      "                   name                                               clip\n",
      "id                                                                        \n",
      "63205  Eggs Boiled, One  [0.04016100615262985, -0.0010926617542281747, ...\n"
     ]
    },
    {
     "name": "stderr",
     "output_type": "stream",
     "text": [
      "clip food inference:  15%|█▍        | 63457/426740 [42:59<5:54:36, 17.07it/s] "
     ]
    }
   ],
   "source": [
    "for inp in tqdm(pd_iter, desc=\"clip food inference\", total=total[0] // bs):  \n",
    "    try:\n",
    "        clip = text2clip(inp['name'].tolist()[0]).numpy().tolist()\n",
    "        inp['clip'] = [clip]\n",
    "        insert_ignore(inp,'foods',update=True,update_cols=['clip'],unique_cols=['id'])\n",
    "    except:\n",
    "        print(inp)\n"
   ]
  },
  {
   "cell_type": "code",
   "execution_count": null,
   "metadata": {},
   "outputs": [],
   "source": []
  }
 ],
 "metadata": {
  "interpreter": {
   "hash": "1e1ee659a212ecca49d6a1809275141ef7642c152d6286fb803a43d965656456"
  },
  "kernelspec": {
   "display_name": "re",
   "language": "python",
   "name": "python3"
  },
  "language_info": {
   "codemirror_mode": {
    "name": "ipython",
    "version": 3
   },
   "file_extension": ".py",
   "mimetype": "text/x-python",
   "name": "python",
   "nbconvert_exporter": "python",
   "pygments_lexer": "ipython3",
   "version": "3.9.7"
  }
 },
 "nbformat": 4,
 "nbformat_minor": 4
}
