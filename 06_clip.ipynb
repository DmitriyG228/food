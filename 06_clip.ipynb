{
 "cells": [
  {
   "cell_type": "code",
   "execution_count": 6,
   "metadata": {},
   "outputs": [],
   "source": [
    "#default_exp clip"
   ]
  },
  {
   "cell_type": "code",
   "execution_count": 7,
   "metadata": {},
   "outputs": [],
   "source": [
    "#export\n",
    "import pandas as pd\n",
    "import numpy as np\n",
    "from food.tools import *\n",
    "from food.paths import *\n",
    "from sqlalchemy import Table,BIGINT,Column\n",
    "from food.clipmodel import text2clip"
   ]
  },
  {
   "cell_type": "code",
   "execution_count": 15,
   "metadata": {},
   "outputs": [],
   "source": [
    "#export\n",
    "def search_by_text(text,topk=5,parameters={},prompt = None,prompt_factor=3):\n",
    "    clip = text2clip(text).numpy()\n",
    "    if prompt: \n",
    "        prompt_clip = text2clip(prompt+text).numpy()\n",
    "        diff = prompt_clip - clip\n",
    "        clip = clip + diff*prompt_factor\n",
    "\n",
    "    query_expr, v_one_hot = onehot.build_milvus_query(parameters) \n",
    "    clip = np.hstack([clip, v_one_hot])\n",
    "    results = search_by_clip(clip, topk,query_expr=query_expr)\n",
    "    df = get_metadata(results[1])\n",
    "    df['accuracy'] =results[0]\n",
    "    try:\n",
    "        df['url'] = df.apply(lambda x: f\"https://away.guru/photos/{get_hash_folder(int(x['id']))}/{int(x['id'])}.jpg\",axis=1)\n",
    "        df['link'] = df['listing_id'].apply(lambda listing_id:f'https://www.airbnb.com/rooms/{listing_id}')\n",
    "    except:\n",
    "        df['url']  = np.nan  \n",
    "        df['link'] = np.nan\n",
    "    return df.drop(columns = ['listing_id','id'])\n",
    "id_table = Table('ids_meta',Base.metadata,Column('id', BIGINT),extend_existing=True)"
   ]
  },
  {
   "cell_type": "code",
   "execution_count": 10,
   "metadata": {},
   "outputs": [],
   "source": [
    "parameters = {'min_latitude':39.39780423438344,\n",
    "                                      'max_latitude':50.911499548756694,\n",
    "                                      'min_longitude':-9.691080574528598,\n",
    "                                      'max_longitude':10.80144790931871,\n",
    "                                      'min_bedrooms':1,\n",
    "                                      'min_beds':1,\n",
    "                                      'max_price':100}"
   ]
  },
  {
   "cell_type": "code",
   "execution_count": 1,
   "metadata": {},
   "outputs": [
    {
     "ename": "NameError",
     "evalue": "name 'search_by_text' is not defined",
     "output_type": "error",
     "traceback": [
      "\u001b[0;31m---------------------------------------------------------------------------\u001b[0m",
      "\u001b[0;31mNameError\u001b[0m                                 Traceback (most recent call last)",
      "\u001b[1;32m/home/dima/food/06_clip.ipynb Cell 5'\u001b[0m in \u001b[0;36m<cell line: 1>\u001b[0;34m()\u001b[0m\n\u001b[0;32m----> <a href='vscode-notebook-cell://ssh-remote%2Bml2/home/dima/food/06_clip.ipynb#ch0000005vscode-remote?line=0'>1</a>\u001b[0m search_by_text(\u001b[39m'\u001b[39m\u001b[39mdog\u001b[39m\u001b[39m'\u001b[39m,\u001b[39m399\u001b[39m,{\u001b[39m'\u001b[39m\u001b[39mmin_price\u001b[39m\u001b[39m'\u001b[39m:\u001b[39m100\u001b[39m, \u001b[39m'\u001b[39m\u001b[39mmax_price\u001b[39m\u001b[39m'\u001b[39m:\u001b[39m1000\u001b[39m})\n",
      "\u001b[0;31mNameError\u001b[0m: name 'search_by_text' is not defined"
     ]
    }
   ],
   "source": [
    "search_by_text('dog',399,{'min_price':100, 'max_price':1000})"
   ]
  },
  {
   "cell_type": "code",
   "execution_count": 1,
   "metadata": {},
   "outputs": [
    {
     "name": "stdout",
     "output_type": "stream",
     "text": [
      "Converted 00_paths.ipynb.\n",
      "Converted 00_progress_check.ipynb.\n",
      "Converted 00_psql.ipynb.\n",
      "Converted 00_recreate_milvus.ipynb.\n",
      "Converted 00_tools.ipynb.\n",
      "Converted 02_onehot.ipynb.\n",
      "Converted 03_quantization.ipynb.\n",
      "Converted 04_milvus.ipynb.\n",
      "Converted 06_clip.ipynb.\n",
      "Converted 0_template copy.ipynb.\n",
      "Converted 0_template.ipynb.\n",
      "Converted milvus_dev.ipynb.\n"
     ]
    }
   ],
   "source": [
    "!nbdev_build_lib"
   ]
  },
  {
   "cell_type": "code",
   "execution_count": null,
   "metadata": {},
   "outputs": [],
   "source": [
    "- переезд\n",
    "- милвус\n",
    "- многопользовательский"
   ]
  }
 ],
 "metadata": {
  "interpreter": {
   "hash": "6365d061e81b8c0bb3064d6704cf11d6e40dd3bb5a1988259337fb2df5fb9180"
  },
  "kernelspec": {
   "display_name": "Python [conda env:re]",
   "language": "python",
   "name": "python3"
  },
  "language_info": {
   "codemirror_mode": {
    "name": "ipython",
    "version": 3
   },
   "file_extension": ".py",
   "mimetype": "text/x-python",
   "name": "python",
   "nbconvert_exporter": "python",
   "pygments_lexer": "ipython3",
   "version": "3.9.7"
  }
 },
 "nbformat": 4,
 "nbformat_minor": 4
}
