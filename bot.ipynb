{
 "cells": [
  {
   "cell_type": "code",
   "execution_count": 1,
   "metadata": {},
   "outputs": [],
   "source": [
    "%load_ext autoreload\n",
    "%autoreload 2"
   ]
  },
  {
   "cell_type": "code",
   "execution_count": 91,
   "metadata": {},
   "outputs": [],
   "source": [
    "from food.tools import *\n",
    "from food.paths import *\n",
    "\n",
    "import pandas as pd\n",
    "import numpy as np\n",
    "import requests\n",
    "import telebot\n",
    "from food.psql import *\n",
    "\n",
    "# !nbdev_build_lib\n",
    "from food.classify_image import *\n",
    "\n",
    "from telebot import types\n",
    "\n",
    "import datetime\n",
    "import pytz\n",
    "from tzwhere import tzwhere\n",
    "\n",
    "\n",
    "debug = True\n",
    "\n",
    "dishes = 'dishes_test'  if debug else 'dishes'\n",
    "users = 'users_test'  if debug else 'users'\n",
    "\n",
    "token = \"5091011572:AAG4NfkC_zZjcsaAFkwLm4ZXOvhEqyLpQhY\" if debug else '5203882708:AAG3G_Y2oZSr-rMG2zoffDVtj3d0KkOFSts'\n",
    "\n",
    "\n",
    "\n",
    "m = None\n",
    "\n",
    "bot = telebot.TeleBot(token)\n",
    "bot.dish = None\n",
    "\n",
    "\n",
    "@bot.message_handler(commands=['start'])\n",
    "def welcome(message):\n",
    "\tmarkup = types.ReplyKeyboardMarkup(row_width=1,resize_keyboard=True)\n",
    "\tmarkup.add('/help')\n",
    "\tbot.reply_to(message, \"Counting calories as easy as taking pictures. Just capture everything before you eat it\", reply_markup=markup)\n",
    "\tbot.reply_to(message, \"Now send a photo of your meal to try\", reply_markup=markup)\n",
    "\n",
    "@bot.message_handler(content_types=['location'])\n",
    "def location(message):\n",
    "\tbot.send_chat_action(message.chat.id, 'typing')\n",
    "\ttz = tzwhere.tzwhere().tzNameAt(message.location.latitude, message.location.longitude)\n",
    "\n",
    "\tdf = pd.DataFrame([[message.from_user.id,\n",
    "              message.location.latitude,\n",
    "              message.location.longitude,\n",
    "              tz]],\n",
    "              columns = ['id','lat','lon','timezone'])\n",
    "\n",
    "\tinsert_ignore(df,users,update = True, update_cols = ['lat','lon','timezone'], engine = engine,unique_cols=['id'])\n",
    "\tbot.reply_to(message, f\"your timezone is set to {tz}\")\n",
    "\n",
    "\n",
    "\n",
    "@bot.message_handler(commands=['help'])\n",
    "def help(message):\n",
    "\tbot.reply_to(message, \"join our support group https://t.me/+nIBkPkw3vpM0NDJi\")\n",
    "\n",
    "@bot.message_handler(commands=['cancel'])\n",
    "def send_cancel(message):\n",
    "\tmarkup = types.ReplyKeyboardRemove(selective=False)\n",
    "\tbot.reply_to(message, f\"cancalled\", reply_markup=markup)\n",
    "\tif hasattr(bot,'dish'): del bot.dish\n",
    "\tif hasattr(bot,'measures'): del bot.measures\n",
    "\tif hasattr(bot,'measurement'): del bot.measurement\n",
    "\tif hasattr(bot,'label'): del bot.label\n",
    "\n",
    "@bot.message_handler(content_types=['photo'])\n",
    "def calssify_image(message):\n",
    "\n",
    "\tbot.send_chat_action(message.chat.id, 'typing')\n",
    "\t\n",
    "\timage_url = bot.get_file_url(message.photo[3].file_id)\n",
    "\tbot.dish = search_image(url=image_url)\n",
    "\tbot.dish['image_url'] = image_url\n",
    "\tbot.dish['user_id']= message.from_user.id\n",
    "\n",
    "\tplot_numtients = bot.dish[['energy','protein','carb','fat']].reset_index(drop=True)\n",
    "\tplot_numtients.index = ['']\n",
    "\n",
    "\n",
    "\tbot.label = bot.dish['description'].iloc[0]\n",
    "\n",
    "\tbot.reply_to(message, bot.label)\n",
    "\tbot.reply_to(message, plot_numtients.to_string())\n",
    "\n",
    "\tbot.measures = pd.read_sql(f\"select portion_description,gram_weight from portions where food_id = {bot.dish['id'].iloc[0]}\",engine)\n",
    "\tbot.measures_cleaned = bot.measures['portion_description'].str.replace('1 ','').tolist()+['gram']\n",
    "\n",
    "\tmarkup = types.ReplyKeyboardMarkup(row_width=2)\n",
    "\tcancel = types.KeyboardButton('/cancel')\n",
    "\t[markup.add(p) for p in bot.measures_cleaned]\n",
    "\tmarkup.add(cancel)\n",
    "\n",
    "\tbot.send_message(message.chat.id, \"Choose the unit to measure the weight of you dish\", reply_markup=markup)\n",
    "\n",
    "\n",
    "@bot.message_handler(content_types=['text']) #regexp=\"[0-9]+\"\n",
    "def handle_text(message):\n",
    "\tglobal m\n",
    "\tm = message\n",
    "\n",
    "\tbot.message = message\n",
    "\ttry:     bot.number = int(message.text)\n",
    "\texcept:  bot.number = None\n",
    "\n",
    "\tif not bot.number and hasattr(bot,'label'):\n",
    "\t\t\n",
    "\n",
    "\t\tif len(set(bot.measures_cleaned) & set([message.text])) >0:\n",
    "\t\t\tbot.measurement = message.text\n",
    "\t\t\tmarkup = types.ReplyKeyboardMarkup(row_width=2)\n",
    "\t\t\tif bot.measurement == 'gram': [markup.add(str(p)) for p in range(20,400,20)]\n",
    "\t\t\telse:[markup.add(str(p)) for p in range(1,5)]\n",
    "\t\t\tcancel = types.KeyboardButton('/cancel')\n",
    "\t\t\tmarkup.add(cancel)\n",
    "\t\t\tbot.reply_to(message, f\"select number of {bot.measurement}s you are going to eat\", reply_markup=markup)\n",
    "\n",
    "\t\telse:\n",
    "\t\t\tbot.reply_to(message, f\"please choose a unit from the list\")\n",
    "\n",
    "\n",
    "\n",
    "\t\n",
    "\n",
    "\telif bot.number and hasattr(bot,'label'): \n",
    "\t\tif bot.measurement == 'gram': grams = bot.number\n",
    "\t\telse:grams = bot.measures[bot.measures['portion_description'].str.contains(bot.measurement, regex=False)]['gram_weight'].iloc[0]*bot.number\n",
    "\t\tbot.dish[['energy','protein','carb','fat']] = bot.dish[['energy','protein','carb','fat']]/100*grams\n",
    "\t\tbot.dish['grams']=grams\n",
    "\t\tbot.dish['measure_selected'] = message.text\n",
    "\t\tbot.dish = bot.dish.rename(columns = {'id':'food_id'})\n",
    "\t\tbot.dish['timestamp']=pd.Timestamp.utcnow()\n",
    "\n",
    "\t\tbot.dish.to_sql(dishes,engine,if_exists='append',index=False)\n",
    "\n",
    "\t\n",
    "\t\tmarkup = types.ReplyKeyboardRemove(selective=False)\n",
    "\n",
    "\t\ttoday_consumed = pd.read_sql(f\"select energy,timestamp from {dishes} where user_id = {message.from_user.id} and timestamp > now() - interval '24 hours';\",engine).set_index(\"timestamp\")\n",
    "\t\tuser_tz = engine.execute(f'select timezone from {users} where id={message.from_user.id}').first()\n",
    "\t\tuser_tz = user_tz[0] if user_tz else 'UTC'\n",
    "\t\ttoday_consumed = today_consumed.tz_convert(user_tz)\n",
    "\t\tif user_tz == 'UTC': bot.reply_to(message, \"Please send your location to that we know your local time\", reply_markup=markup)\n",
    "\t\tnow = pd.Timestamp.now(tz = user_tz)\n",
    "\t\ttoday_consumed = today_consumed.reset_index()\t\n",
    "\t\tthis_morning = pd.Timestamp(year = now.year,month = now.month,day = now.day,hour = 3,tz = user_tz)\n",
    "\t\ttoday_consumed = today_consumed[today_consumed['timestamp'] > pd.Timestamp(this_morning)]['energy'].sum()\n",
    "\n",
    "\n",
    "\t\tbot.reply_to(message, f\" {bot.number} {bot.measurement}s  of {bot.label} added\", reply_markup=markup)\n",
    "\t\tbot.reply_to(message, f\"You have consumed {round(today_consumed)} kcall today\", reply_markup=markup)\n",
    "\n",
    "\t\tdel bot.dish\n",
    "\t\tdel bot.measures\n",
    "\t\tdel bot.measurement\n",
    "\t\tdel bot.label\n",
    "\n",
    "\telif not hasattr(bot,'label'):\n",
    "\n",
    "\t\tbot.reply_to(message, f\"Please take a photo of your dish\")\n",
    "\n",
    "\n",
    "\n",
    "\n",
    "\t\n",
    "\n",
    "bot.infinity_polling()"
   ]
  },
  {
   "cell_type": "code",
   "execution_count": 52,
   "metadata": {},
   "outputs": [],
   "source": [
    "message = m "
   ]
  },
  {
   "cell_type": "code",
   "execution_count": 88,
   "metadata": {},
   "outputs": [],
   "source": [
    "today_consumed = pd.read_sql(f\"select energy,timestamp from {dishes} where user_id = {message.from_user.id} and timestamp > now() - interval '24 hours';\",engine).set_index(\"timestamp\")\n",
    "user_tz = engine.execute(f'select timezone from {users} where id={message.from_user.id}').first()\n",
    "user_tz = user_tz[0] if user_tz else 'UTC'\n",
    "today_consumed = today_consumed.tz_convert(user_tz)\n",
    "if user_tz == 'UTC': bot.reply_to(message, \"Please send your location to that we know your local time\", reply_markup=markup)\n",
    "now = pd.Timestamp.now(tz = user_tz)\n",
    "today_consumed = today_consumed.reset_index()\t\n",
    "this_morning = pd.Timestamp(year = now.year,month = now.month,day = now.day,hour = 3,tz = user_tz)\n",
    "today_consumed = today_consumed[today_consumed['timestamp'] > pd.Timestamp(this_morning)]['energy'].sum()\n",
    "\n"
   ]
  },
  {
   "cell_type": "code",
   "execution_count": 89,
   "metadata": {},
   "outputs": [
    {
     "data": {
      "text/plain": [
       "307.66"
      ]
     },
     "execution_count": 89,
     "metadata": {},
     "output_type": "execute_result"
    }
   ],
   "source": [
    "today_consumed"
   ]
  },
  {
   "cell_type": "code",
   "execution_count": 87,
   "metadata": {},
   "outputs": [
    {
     "data": {
      "text/plain": [
       "'UTC'"
      ]
     },
     "execution_count": 87,
     "metadata": {},
     "output_type": "execute_result"
    }
   ],
   "source": [
    "user_tz"
   ]
  },
  {
   "cell_type": "code",
   "execution_count": null,
   "metadata": {},
   "outputs": [],
   "source": []
  },
  {
   "cell_type": "code",
   "execution_count": 46,
   "metadata": {},
   "outputs": [],
   "source": [
    "user_tz = engine.execute(f'select timezone from {users} where id={message.from_user.id}').first()"
   ]
  },
  {
   "cell_type": "code",
   "execution_count": 49,
   "metadata": {},
   "outputs": [
    {
     "data": {
      "text/plain": [
       "('Europe/Lisbon',)"
      ]
     },
     "execution_count": 49,
     "metadata": {},
     "output_type": "execute_result"
    }
   ],
   "source": [
    "user_tz"
   ]
  },
  {
   "cell_type": "code",
   "execution_count": 50,
   "metadata": {},
   "outputs": [
    {
     "data": {
      "text/plain": [
       "Timestamp('2022-04-06 09:50:03.400990+0100', tz='Europe/Lisbon')"
      ]
     },
     "execution_count": 50,
     "metadata": {},
     "output_type": "execute_result"
    }
   ],
   "source": [
    "pd.Timestamp.now(tz = user_tz[0])"
   ]
  },
  {
   "cell_type": "code",
   "execution_count": 12,
   "metadata": {},
   "outputs": [],
   "source": [
    "message = m"
   ]
  },
  {
   "cell_type": "code",
   "execution_count": 13,
   "metadata": {},
   "outputs": [
    {
     "data": {
      "text/plain": [
       "<telebot.types.User at 0x7fa2cfefa8b0>"
      ]
     },
     "execution_count": 13,
     "metadata": {},
     "output_type": "execute_result"
    }
   ],
   "source": [
    "message.from_user"
   ]
  },
  {
   "cell_type": "code",
   "execution_count": 16,
   "metadata": {},
   "outputs": [],
   "source": [
    "today_consumed = pd.read_sql(f\"select energy,timestamp from {dishes} where user_id = {message.from_user.id} and timestamp > now() - interval '24 hours';\",engine).set_index(\"timestamp\")\n"
   ]
  },
  {
   "cell_type": "code",
   "execution_count": 17,
   "metadata": {},
   "outputs": [
    {
     "data": {
      "text/html": [
       "<div>\n",
       "<style scoped>\n",
       "    .dataframe tbody tr th:only-of-type {\n",
       "        vertical-align: middle;\n",
       "    }\n",
       "\n",
       "    .dataframe tbody tr th {\n",
       "        vertical-align: top;\n",
       "    }\n",
       "\n",
       "    .dataframe thead th {\n",
       "        text-align: right;\n",
       "    }\n",
       "</style>\n",
       "<table border=\"1\" class=\"dataframe\">\n",
       "  <thead>\n",
       "    <tr style=\"text-align: right;\">\n",
       "      <th></th>\n",
       "      <th>energy</th>\n",
       "    </tr>\n",
       "    <tr>\n",
       "      <th>timestamp</th>\n",
       "      <th></th>\n",
       "    </tr>\n",
       "  </thead>\n",
       "  <tbody>\n",
       "    <tr>\n",
       "      <th>2022-04-05 16:26:11.364469+00:00</th>\n",
       "      <td>375.00</td>\n",
       "    </tr>\n",
       "    <tr>\n",
       "      <th>2022-04-05 16:58:46.104406+00:00</th>\n",
       "      <td>1.30</td>\n",
       "    </tr>\n",
       "    <tr>\n",
       "      <th>2022-04-05 16:59:21.881218+00:00</th>\n",
       "      <td>113.68</td>\n",
       "    </tr>\n",
       "    <tr>\n",
       "      <th>2022-04-05 19:38:07.085790+00:00</th>\n",
       "      <td>260.00</td>\n",
       "    </tr>\n",
       "    <tr>\n",
       "      <th>2022-04-05 19:46:51.486692+00:00</th>\n",
       "      <td>130.00</td>\n",
       "    </tr>\n",
       "    <tr>\n",
       "      <th>2022-04-05 19:47:19.810591+00:00</th>\n",
       "      <td>325.00</td>\n",
       "    </tr>\n",
       "    <tr>\n",
       "      <th>2022-04-05 19:49:00.238328+00:00</th>\n",
       "      <td>325.00</td>\n",
       "    </tr>\n",
       "    <tr>\n",
       "      <th>2022-04-05 19:53:44.223082+00:00</th>\n",
       "      <td>130.00</td>\n",
       "    </tr>\n",
       "    <tr>\n",
       "      <th>2022-04-05 19:54:46.417506+00:00</th>\n",
       "      <td>85.80</td>\n",
       "    </tr>\n",
       "    <tr>\n",
       "      <th>2022-04-05 19:56:32.351239+00:00</th>\n",
       "      <td>130.00</td>\n",
       "    </tr>\n",
       "    <tr>\n",
       "      <th>2022-04-05 19:57:19.485989+00:00</th>\n",
       "      <td>227.36</td>\n",
       "    </tr>\n",
       "    <tr>\n",
       "      <th>2022-04-05 20:09:41.214074+00:00</th>\n",
       "      <td>65.00</td>\n",
       "    </tr>\n",
       "    <tr>\n",
       "      <th>2022-04-05 20:13:38.281919+00:00</th>\n",
       "      <td>113.68</td>\n",
       "    </tr>\n",
       "    <tr>\n",
       "      <th>2022-04-05 20:52:05.070789+00:00</th>\n",
       "      <td>433.00</td>\n",
       "    </tr>\n",
       "    <tr>\n",
       "      <th>2022-04-05 21:00:06.478908+00:00</th>\n",
       "      <td>1212.40</td>\n",
       "    </tr>\n",
       "    <tr>\n",
       "      <th>2022-04-05 21:01:13.914302+00:00</th>\n",
       "      <td>279.00</td>\n",
       "    </tr>\n",
       "    <tr>\n",
       "      <th>2022-04-06 08:30:04.821708+00:00</th>\n",
       "      <td>65.00</td>\n",
       "    </tr>\n",
       "    <tr>\n",
       "      <th>2022-04-06 08:36:53.625898+00:00</th>\n",
       "      <td>5.40</td>\n",
       "    </tr>\n",
       "    <tr>\n",
       "      <th>2022-04-06 08:37:17.535584+00:00</th>\n",
       "      <td>227.36</td>\n",
       "    </tr>\n",
       "    <tr>\n",
       "      <th>2022-04-06 08:39:05.459619+00:00</th>\n",
       "      <td>3.60</td>\n",
       "    </tr>\n",
       "    <tr>\n",
       "      <th>2022-04-06 08:40:59.528540+00:00</th>\n",
       "      <td>2.70</td>\n",
       "    </tr>\n",
       "  </tbody>\n",
       "</table>\n",
       "</div>"
      ],
      "text/plain": [
       "                                   energy\n",
       "timestamp                                \n",
       "2022-04-05 16:26:11.364469+00:00   375.00\n",
       "2022-04-05 16:58:46.104406+00:00     1.30\n",
       "2022-04-05 16:59:21.881218+00:00   113.68\n",
       "2022-04-05 19:38:07.085790+00:00   260.00\n",
       "2022-04-05 19:46:51.486692+00:00   130.00\n",
       "2022-04-05 19:47:19.810591+00:00   325.00\n",
       "2022-04-05 19:49:00.238328+00:00   325.00\n",
       "2022-04-05 19:53:44.223082+00:00   130.00\n",
       "2022-04-05 19:54:46.417506+00:00    85.80\n",
       "2022-04-05 19:56:32.351239+00:00   130.00\n",
       "2022-04-05 19:57:19.485989+00:00   227.36\n",
       "2022-04-05 20:09:41.214074+00:00    65.00\n",
       "2022-04-05 20:13:38.281919+00:00   113.68\n",
       "2022-04-05 20:52:05.070789+00:00   433.00\n",
       "2022-04-05 21:00:06.478908+00:00  1212.40\n",
       "2022-04-05 21:01:13.914302+00:00   279.00\n",
       "2022-04-06 08:30:04.821708+00:00    65.00\n",
       "2022-04-06 08:36:53.625898+00:00     5.40\n",
       "2022-04-06 08:37:17.535584+00:00   227.36\n",
       "2022-04-06 08:39:05.459619+00:00     3.60\n",
       "2022-04-06 08:40:59.528540+00:00     2.70"
      ]
     },
     "execution_count": 17,
     "metadata": {},
     "output_type": "execute_result"
    }
   ],
   "source": [
    "today_consumed"
   ]
  },
  {
   "cell_type": "code",
   "execution_count": 18,
   "metadata": {},
   "outputs": [],
   "source": [
    "\n",
    "user_tz = engine.execute(f'select timezone from {users} where id={message.from_user.id}').first()\n"
   ]
  },
  {
   "cell_type": "code",
   "execution_count": 19,
   "metadata": {},
   "outputs": [
    {
     "data": {
      "text/plain": [
       "('Europe/Lisbon',)"
      ]
     },
     "execution_count": 19,
     "metadata": {},
     "output_type": "execute_result"
    }
   ],
   "source": [
    "user_tz"
   ]
  },
  {
   "cell_type": "code",
   "execution_count": null,
   "metadata": {},
   "outputs": [],
   "source": []
  },
  {
   "cell_type": "code",
   "execution_count": 23,
   "metadata": {},
   "outputs": [],
   "source": [
    "\n",
    "if user_tz: today_consumed = today_consumed.tz_convert(user_tz[0])\n",
    "\n",
    "\n",
    "else: bot.reply_to(message, \"Please send your location to that we know your local time\", reply_markup=markup)\n",
    "today_consumed = today_consumed.reset_index()\t\n"
   ]
  },
  {
   "cell_type": "code",
   "execution_count": 24,
   "metadata": {},
   "outputs": [
    {
     "data": {
      "text/html": [
       "<div>\n",
       "<style scoped>\n",
       "    .dataframe tbody tr th:only-of-type {\n",
       "        vertical-align: middle;\n",
       "    }\n",
       "\n",
       "    .dataframe tbody tr th {\n",
       "        vertical-align: top;\n",
       "    }\n",
       "\n",
       "    .dataframe thead th {\n",
       "        text-align: right;\n",
       "    }\n",
       "</style>\n",
       "<table border=\"1\" class=\"dataframe\">\n",
       "  <thead>\n",
       "    <tr style=\"text-align: right;\">\n",
       "      <th></th>\n",
       "      <th>timestamp</th>\n",
       "      <th>energy</th>\n",
       "    </tr>\n",
       "  </thead>\n",
       "  <tbody>\n",
       "    <tr>\n",
       "      <th>0</th>\n",
       "      <td>2022-04-05 17:26:11.364469+01:00</td>\n",
       "      <td>375.00</td>\n",
       "    </tr>\n",
       "    <tr>\n",
       "      <th>1</th>\n",
       "      <td>2022-04-05 17:58:46.104406+01:00</td>\n",
       "      <td>1.30</td>\n",
       "    </tr>\n",
       "    <tr>\n",
       "      <th>2</th>\n",
       "      <td>2022-04-05 17:59:21.881218+01:00</td>\n",
       "      <td>113.68</td>\n",
       "    </tr>\n",
       "    <tr>\n",
       "      <th>3</th>\n",
       "      <td>2022-04-05 20:38:07.085790+01:00</td>\n",
       "      <td>260.00</td>\n",
       "    </tr>\n",
       "    <tr>\n",
       "      <th>4</th>\n",
       "      <td>2022-04-05 20:46:51.486692+01:00</td>\n",
       "      <td>130.00</td>\n",
       "    </tr>\n",
       "    <tr>\n",
       "      <th>5</th>\n",
       "      <td>2022-04-05 20:47:19.810591+01:00</td>\n",
       "      <td>325.00</td>\n",
       "    </tr>\n",
       "    <tr>\n",
       "      <th>6</th>\n",
       "      <td>2022-04-05 20:49:00.238328+01:00</td>\n",
       "      <td>325.00</td>\n",
       "    </tr>\n",
       "    <tr>\n",
       "      <th>7</th>\n",
       "      <td>2022-04-05 20:53:44.223082+01:00</td>\n",
       "      <td>130.00</td>\n",
       "    </tr>\n",
       "    <tr>\n",
       "      <th>8</th>\n",
       "      <td>2022-04-05 20:54:46.417506+01:00</td>\n",
       "      <td>85.80</td>\n",
       "    </tr>\n",
       "    <tr>\n",
       "      <th>9</th>\n",
       "      <td>2022-04-05 20:56:32.351239+01:00</td>\n",
       "      <td>130.00</td>\n",
       "    </tr>\n",
       "    <tr>\n",
       "      <th>10</th>\n",
       "      <td>2022-04-05 20:57:19.485989+01:00</td>\n",
       "      <td>227.36</td>\n",
       "    </tr>\n",
       "    <tr>\n",
       "      <th>11</th>\n",
       "      <td>2022-04-05 21:09:41.214074+01:00</td>\n",
       "      <td>65.00</td>\n",
       "    </tr>\n",
       "    <tr>\n",
       "      <th>12</th>\n",
       "      <td>2022-04-05 21:13:38.281919+01:00</td>\n",
       "      <td>113.68</td>\n",
       "    </tr>\n",
       "    <tr>\n",
       "      <th>13</th>\n",
       "      <td>2022-04-05 21:52:05.070789+01:00</td>\n",
       "      <td>433.00</td>\n",
       "    </tr>\n",
       "    <tr>\n",
       "      <th>14</th>\n",
       "      <td>2022-04-05 22:00:06.478908+01:00</td>\n",
       "      <td>1212.40</td>\n",
       "    </tr>\n",
       "    <tr>\n",
       "      <th>15</th>\n",
       "      <td>2022-04-05 22:01:13.914302+01:00</td>\n",
       "      <td>279.00</td>\n",
       "    </tr>\n",
       "    <tr>\n",
       "      <th>16</th>\n",
       "      <td>2022-04-06 09:30:04.821708+01:00</td>\n",
       "      <td>65.00</td>\n",
       "    </tr>\n",
       "    <tr>\n",
       "      <th>17</th>\n",
       "      <td>2022-04-06 09:36:53.625898+01:00</td>\n",
       "      <td>5.40</td>\n",
       "    </tr>\n",
       "    <tr>\n",
       "      <th>18</th>\n",
       "      <td>2022-04-06 09:37:17.535584+01:00</td>\n",
       "      <td>227.36</td>\n",
       "    </tr>\n",
       "    <tr>\n",
       "      <th>19</th>\n",
       "      <td>2022-04-06 09:39:05.459619+01:00</td>\n",
       "      <td>3.60</td>\n",
       "    </tr>\n",
       "    <tr>\n",
       "      <th>20</th>\n",
       "      <td>2022-04-06 09:40:59.528540+01:00</td>\n",
       "      <td>2.70</td>\n",
       "    </tr>\n",
       "  </tbody>\n",
       "</table>\n",
       "</div>"
      ],
      "text/plain": [
       "                          timestamp   energy\n",
       "0  2022-04-05 17:26:11.364469+01:00   375.00\n",
       "1  2022-04-05 17:58:46.104406+01:00     1.30\n",
       "2  2022-04-05 17:59:21.881218+01:00   113.68\n",
       "3  2022-04-05 20:38:07.085790+01:00   260.00\n",
       "4  2022-04-05 20:46:51.486692+01:00   130.00\n",
       "5  2022-04-05 20:47:19.810591+01:00   325.00\n",
       "6  2022-04-05 20:49:00.238328+01:00   325.00\n",
       "7  2022-04-05 20:53:44.223082+01:00   130.00\n",
       "8  2022-04-05 20:54:46.417506+01:00    85.80\n",
       "9  2022-04-05 20:56:32.351239+01:00   130.00\n",
       "10 2022-04-05 20:57:19.485989+01:00   227.36\n",
       "11 2022-04-05 21:09:41.214074+01:00    65.00\n",
       "12 2022-04-05 21:13:38.281919+01:00   113.68\n",
       "13 2022-04-05 21:52:05.070789+01:00   433.00\n",
       "14 2022-04-05 22:00:06.478908+01:00  1212.40\n",
       "15 2022-04-05 22:01:13.914302+01:00   279.00\n",
       "16 2022-04-06 09:30:04.821708+01:00    65.00\n",
       "17 2022-04-06 09:36:53.625898+01:00     5.40\n",
       "18 2022-04-06 09:37:17.535584+01:00   227.36\n",
       "19 2022-04-06 09:39:05.459619+01:00     3.60\n",
       "20 2022-04-06 09:40:59.528540+01:00     2.70"
      ]
     },
     "execution_count": 24,
     "metadata": {},
     "output_type": "execute_result"
    }
   ],
   "source": [
    "today_consumed"
   ]
  },
  {
   "cell_type": "code",
   "execution_count": 28,
   "metadata": {},
   "outputs": [
    {
     "data": {
      "text/plain": [
       "datetime.date(2022, 4, 6)"
      ]
     },
     "execution_count": 28,
     "metadata": {},
     "output_type": "execute_result"
    }
   ],
   "source": [
    "pd.Timestamp.utcnow().date()"
   ]
  },
  {
   "cell_type": "code",
   "execution_count": 33,
   "metadata": {},
   "outputs": [],
   "source": [
    "now = pd.Timestamp.utcnow()\n",
    "pd.Timestamp(year = now.year,month = now.month,day = now.day,hour = 3)"
   ]
  },
  {
   "cell_type": "code",
   "execution_count": 25,
   "metadata": {},
   "outputs": [
    {
     "data": {
      "text/html": [
       "<div>\n",
       "<style scoped>\n",
       "    .dataframe tbody tr th:only-of-type {\n",
       "        vertical-align: middle;\n",
       "    }\n",
       "\n",
       "    .dataframe tbody tr th {\n",
       "        vertical-align: top;\n",
       "    }\n",
       "\n",
       "    .dataframe thead th {\n",
       "        text-align: right;\n",
       "    }\n",
       "</style>\n",
       "<table border=\"1\" class=\"dataframe\">\n",
       "  <thead>\n",
       "    <tr style=\"text-align: right;\">\n",
       "      <th></th>\n",
       "      <th>timestamp</th>\n",
       "      <th>energy</th>\n",
       "    </tr>\n",
       "  </thead>\n",
       "  <tbody>\n",
       "    <tr>\n",
       "      <th>0</th>\n",
       "      <td>2022-04-05 17:26:11.364469+01:00</td>\n",
       "      <td>375.00</td>\n",
       "    </tr>\n",
       "    <tr>\n",
       "      <th>1</th>\n",
       "      <td>2022-04-05 17:58:46.104406+01:00</td>\n",
       "      <td>1.30</td>\n",
       "    </tr>\n",
       "    <tr>\n",
       "      <th>2</th>\n",
       "      <td>2022-04-05 17:59:21.881218+01:00</td>\n",
       "      <td>113.68</td>\n",
       "    </tr>\n",
       "    <tr>\n",
       "      <th>3</th>\n",
       "      <td>2022-04-05 20:38:07.085790+01:00</td>\n",
       "      <td>260.00</td>\n",
       "    </tr>\n",
       "    <tr>\n",
       "      <th>4</th>\n",
       "      <td>2022-04-05 20:46:51.486692+01:00</td>\n",
       "      <td>130.00</td>\n",
       "    </tr>\n",
       "    <tr>\n",
       "      <th>5</th>\n",
       "      <td>2022-04-05 20:47:19.810591+01:00</td>\n",
       "      <td>325.00</td>\n",
       "    </tr>\n",
       "    <tr>\n",
       "      <th>6</th>\n",
       "      <td>2022-04-05 20:49:00.238328+01:00</td>\n",
       "      <td>325.00</td>\n",
       "    </tr>\n",
       "    <tr>\n",
       "      <th>7</th>\n",
       "      <td>2022-04-05 20:53:44.223082+01:00</td>\n",
       "      <td>130.00</td>\n",
       "    </tr>\n",
       "    <tr>\n",
       "      <th>8</th>\n",
       "      <td>2022-04-05 20:54:46.417506+01:00</td>\n",
       "      <td>85.80</td>\n",
       "    </tr>\n",
       "    <tr>\n",
       "      <th>9</th>\n",
       "      <td>2022-04-05 20:56:32.351239+01:00</td>\n",
       "      <td>130.00</td>\n",
       "    </tr>\n",
       "    <tr>\n",
       "      <th>10</th>\n",
       "      <td>2022-04-05 20:57:19.485989+01:00</td>\n",
       "      <td>227.36</td>\n",
       "    </tr>\n",
       "    <tr>\n",
       "      <th>11</th>\n",
       "      <td>2022-04-05 21:09:41.214074+01:00</td>\n",
       "      <td>65.00</td>\n",
       "    </tr>\n",
       "    <tr>\n",
       "      <th>12</th>\n",
       "      <td>2022-04-05 21:13:38.281919+01:00</td>\n",
       "      <td>113.68</td>\n",
       "    </tr>\n",
       "    <tr>\n",
       "      <th>13</th>\n",
       "      <td>2022-04-05 21:52:05.070789+01:00</td>\n",
       "      <td>433.00</td>\n",
       "    </tr>\n",
       "    <tr>\n",
       "      <th>14</th>\n",
       "      <td>2022-04-05 22:00:06.478908+01:00</td>\n",
       "      <td>1212.40</td>\n",
       "    </tr>\n",
       "    <tr>\n",
       "      <th>15</th>\n",
       "      <td>2022-04-05 22:01:13.914302+01:00</td>\n",
       "      <td>279.00</td>\n",
       "    </tr>\n",
       "    <tr>\n",
       "      <th>16</th>\n",
       "      <td>2022-04-06 09:30:04.821708+01:00</td>\n",
       "      <td>65.00</td>\n",
       "    </tr>\n",
       "    <tr>\n",
       "      <th>17</th>\n",
       "      <td>2022-04-06 09:36:53.625898+01:00</td>\n",
       "      <td>5.40</td>\n",
       "    </tr>\n",
       "    <tr>\n",
       "      <th>18</th>\n",
       "      <td>2022-04-06 09:37:17.535584+01:00</td>\n",
       "      <td>227.36</td>\n",
       "    </tr>\n",
       "    <tr>\n",
       "      <th>19</th>\n",
       "      <td>2022-04-06 09:39:05.459619+01:00</td>\n",
       "      <td>3.60</td>\n",
       "    </tr>\n",
       "    <tr>\n",
       "      <th>20</th>\n",
       "      <td>2022-04-06 09:40:59.528540+01:00</td>\n",
       "      <td>2.70</td>\n",
       "    </tr>\n",
       "  </tbody>\n",
       "</table>\n",
       "</div>"
      ],
      "text/plain": [
       "                          timestamp   energy\n",
       "0  2022-04-05 17:26:11.364469+01:00   375.00\n",
       "1  2022-04-05 17:58:46.104406+01:00     1.30\n",
       "2  2022-04-05 17:59:21.881218+01:00   113.68\n",
       "3  2022-04-05 20:38:07.085790+01:00   260.00\n",
       "4  2022-04-05 20:46:51.486692+01:00   130.00\n",
       "5  2022-04-05 20:47:19.810591+01:00   325.00\n",
       "6  2022-04-05 20:49:00.238328+01:00   325.00\n",
       "7  2022-04-05 20:53:44.223082+01:00   130.00\n",
       "8  2022-04-05 20:54:46.417506+01:00    85.80\n",
       "9  2022-04-05 20:56:32.351239+01:00   130.00\n",
       "10 2022-04-05 20:57:19.485989+01:00   227.36\n",
       "11 2022-04-05 21:09:41.214074+01:00    65.00\n",
       "12 2022-04-05 21:13:38.281919+01:00   113.68\n",
       "13 2022-04-05 21:52:05.070789+01:00   433.00\n",
       "14 2022-04-05 22:00:06.478908+01:00  1212.40\n",
       "15 2022-04-05 22:01:13.914302+01:00   279.00\n",
       "16 2022-04-06 09:30:04.821708+01:00    65.00\n",
       "17 2022-04-06 09:36:53.625898+01:00     5.40\n",
       "18 2022-04-06 09:37:17.535584+01:00   227.36\n",
       "19 2022-04-06 09:39:05.459619+01:00     3.60\n",
       "20 2022-04-06 09:40:59.528540+01:00     2.70"
      ]
     },
     "execution_count": 25,
     "metadata": {},
     "output_type": "execute_result"
    }
   ],
   "source": [
    "today_consumed[today_consumed['timestamp'] > pd.Timestamp]"
   ]
  },
  {
   "cell_type": "code",
   "execution_count": null,
   "metadata": {},
   "outputs": [],
   "source": [
    "\n",
    "today_consumed = today_consumed[today_consumed['timestamp'].dt.time > datetime.time(3,0)]['energy'].sum()\n"
   ]
  },
  {
   "cell_type": "code",
   "execution_count": null,
   "metadata": {},
   "outputs": [],
   "source": []
  },
  {
   "cell_type": "code",
   "execution_count": 15,
   "metadata": {},
   "outputs": [
    {
     "data": {
      "text/plain": [
       "4510.279999999999"
      ]
     },
     "execution_count": 15,
     "metadata": {},
     "output_type": "execute_result"
    }
   ],
   "source": [
    "today_consumed"
   ]
  },
  {
   "cell_type": "code",
   "execution_count": null,
   "metadata": {},
   "outputs": [],
   "source": []
  }
 ],
 "metadata": {
  "interpreter": {
   "hash": "1e1ee659a212ecca49d6a1809275141ef7642c152d6286fb803a43d965656456"
  },
  "kernelspec": {
   "display_name": "re",
   "language": "python",
   "name": "python3"
  },
  "language_info": {
   "codemirror_mode": {
    "name": "ipython",
    "version": 3
   },
   "file_extension": ".py",
   "mimetype": "text/x-python",
   "name": "python",
   "nbconvert_exporter": "python",
   "pygments_lexer": "ipython3",
   "version": "3.9.7"
  }
 },
 "nbformat": 4,
 "nbformat_minor": 4
}
