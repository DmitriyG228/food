{
 "cells": [
  {
   "cell_type": "code",
   "execution_count": 3,
   "metadata": {},
   "outputs": [],
   "source": [
    "%load_ext autoreload\n",
    "%autoreload 2"
   ]
  },
  {
   "cell_type": "code",
   "execution_count": 5,
   "metadata": {},
   "outputs": [
    {
     "name": "stderr",
     "output_type": "stream",
     "text": [
      "2022-04-05 00:48:50,889 (__init__.py:688 MainThread) ERROR - TeleBot: \"A request to the Telegram API was unsuccessful. Error code: 400. Description: Bad Request: message text is empty\"\n",
      "2022-04-05 00:49:21,797 (__init__.py:688 MainThread) ERROR - TeleBot: \"A request to the Telegram API was unsuccessful. Error code: 400. Description: Bad Request: message text is empty\"\n",
      "2022-04-05 00:49:53,701 (__init__.py:621 MainThread) ERROR - TeleBot: \"Infinity polling: polling exited\"\n",
      "2022-04-05 00:49:53,702 (__init__.py:623 MainThread) ERROR - TeleBot: \"Break infinity polling\"\n"
     ]
    }
   ],
   "source": [
    "from food.tools import *\n",
    "from food.paths import *\n",
    "\n",
    "import pandas as pd\n",
    "import numpy as np\n",
    "import requests\n",
    "import telebot\n",
    "from food.psql import *\n",
    "\n",
    "# !nbdev_build_lib\n",
    "from food.classify_image import *\n",
    "\n",
    "from telebot import types\n"
   ]
  },
  {
   "cell_type": "code",
   "execution_count": 6,
   "metadata": {},
   "outputs": [
    {
     "name": "stderr",
     "output_type": "stream",
     "text": [
      "2022-04-05 00:50:14,902 (__init__.py:688 MainThread) ERROR - TeleBot: \"A request to the Telegram API was unsuccessful. Error code: 400. Description: Bad Request: message text is empty\"\n",
      "2022-04-05 00:50:24,920 (__init__.py:688 MainThread) ERROR - TeleBot: \"A request to the Telegram API was unsuccessful. Error code: 400. Description: Bad Request: message text is empty\"\n",
      "2022-04-05 00:50:47,992 (__init__.py:621 MainThread) ERROR - TeleBot: \"Infinity polling: polling exited\"\n",
      "2022-04-05 00:50:47,992 (__init__.py:623 MainThread) ERROR - TeleBot: \"Break infinity polling\"\n"
     ]
    }
   ],
   "source": [
    "\n",
    "token = \"5091011572:AAG4NfkC_zZjcsaAFkwLm4ZXOvhEqyLpQhY\"\n",
    "\n",
    "m = None\n",
    "\n",
    "bot = telebot.TeleBot(token)\n",
    "bot.dish = None\n",
    "\n",
    "\n",
    "@bot.message_handler(commands=['start', 'help'])\n",
    "def send_welcome(message):\n",
    "\tbot.reply_to(message, \"Howdy, how are you doing?\")\n",
    "\n",
    "@bot.message_handler(commands=['cancel'])\n",
    "def send_cancel(message):\n",
    "\tmarkup = types.ReplyKeyboardRemove(selective=False)\n",
    "\tbot.reply_to(message, f\"\", reply_markup=markup)\n",
    "\n",
    "\n",
    "@bot.message_handler(content_types=['photo'])\n",
    "def calssify_image(message):\n",
    "\n",
    "\tbot.send_chat_action(message.chat.id, 'typing') #does not seem to work\n",
    "\tglobal m\n",
    "\tm = message\n",
    "\timage_url = bot.get_file_url(message.photo[3].file_id)\n",
    "\tbot.dish = search_image(url=image_url)\n",
    "\tbot.dish['image_url'] = image_url\n",
    "\tbot.dish['user_id']= message.from_user.id\n",
    "\n",
    "\tplot_numtients = bot.dish[['energy','protein','carb','fat']].reset_index(drop=True)\n",
    "\tplot_numtients.index = ['']\n",
    "\n",
    "\tbot.reply_to(message, bot.dish['description'].iloc[0])\n",
    "\tbot.reply_to(message, plot_numtients.to_string())\n",
    "\n",
    "\tbot.measures = pd.read_sql(f\"select portion_description,gram_weight from portions where food_id = {bot.dish['id'].iloc[0]}\",engine)\n",
    "\n",
    "\tmarkup = types.ReplyKeyboardMarkup(row_width=2)\n",
    "\n",
    "\tcancel = types.KeyboardButton('/cancel')\n",
    "\t[markup.add(p) for p in bot.measures['portion_description'].tolist()]\n",
    "\tmarkup.add(cancel)\n",
    "\n",
    "\tbot.send_message(message.chat.id, \"Choose amount:\", reply_markup=markup)\n",
    "\n",
    "\n",
    "\t\n",
    "\n",
    "\n",
    "\n",
    "\n",
    "@bot.message_handler(regexp=\"[0-9]+\")\n",
    "def handle_grams(message):\n",
    "\tglobal m\n",
    "\tm = message\n",
    "\tif hasattr(bot,'dish'):  \n",
    "\t\tgrams = bot.measures[bot.measures['portion_description'] == message.text]['gram_weight'].iloc[0]\n",
    "\t\tbot.dish[['energy','protein','carb','fat']]/100*grams\n",
    "\t\tbot.dish['grams']=grams\n",
    "\t\tbot.dish['measure_selected'] = message.text\n",
    "\t\tbot.dish = bot.dish.rename(columns = {'id':'food_id'})\n",
    "\t\tbot.dish['timestamp']=pd.Timestamp.utcnow() #should be user local time\n",
    "\n",
    "\n",
    "\t\tbot.reply_to(message, bot.dish)\n",
    "\t\tbot.dish.to_sql('dishes',engine,if_exists='append',index=False)\n",
    "\n",
    "\t\tlast_day = pd.read_sql(f\"select sum(energy) from dishes where user_id = {message.from_user.id} and timestamp > now() - interval '24 hours';\",engine)\n",
    "\n",
    "\t\tmarkup = types.ReplyKeyboardRemove(selective=False)\n",
    "\t\tbot.reply_to(message, f\"you have consumed {last_day.iloc[0]['sum']} kcall in the last 24 hours\", reply_markup=markup)\n",
    "\n",
    "bot.infinity_polling()"
   ]
  },
  {
   "cell_type": "code",
   "execution_count": 12,
   "metadata": {},
   "outputs": [],
   "source": [
    "to_plot.index=['']"
   ]
  },
  {
   "cell_type": "code",
   "execution_count": 13,
   "metadata": {},
   "outputs": [
    {
     "data": {
      "text/html": [
       "<div>\n",
       "<style scoped>\n",
       "    .dataframe tbody tr th:only-of-type {\n",
       "        vertical-align: middle;\n",
       "    }\n",
       "\n",
       "    .dataframe tbody tr th {\n",
       "        vertical-align: top;\n",
       "    }\n",
       "\n",
       "    .dataframe thead th {\n",
       "        text-align: right;\n",
       "    }\n",
       "</style>\n",
       "<table border=\"1\" class=\"dataframe\">\n",
       "  <thead>\n",
       "    <tr style=\"text-align: right;\">\n",
       "      <th></th>\n",
       "      <th>description</th>\n",
       "      <th>energy</th>\n",
       "      <th>measure_selected</th>\n",
       "      <th>grams</th>\n",
       "    </tr>\n",
       "  </thead>\n",
       "  <tbody>\n",
       "    <tr>\n",
       "      <th></th>\n",
       "      <td>Grapes, raw</td>\n",
       "      <td>69.0</td>\n",
       "      <td>1 cup</td>\n",
       "      <td>150.0</td>\n",
       "    </tr>\n",
       "  </tbody>\n",
       "</table>\n",
       "</div>"
      ],
      "text/plain": [
       "  description  energy measure_selected  grams\n",
       "  Grapes, raw    69.0            1 cup  150.0"
      ]
     },
     "execution_count": 13,
     "metadata": {},
     "output_type": "execute_result"
    }
   ],
   "source": [
    "to_plot"
   ]
  },
  {
   "cell_type": "code",
   "execution_count": 20,
   "metadata": {},
   "outputs": [],
   "source": [
    "message = m"
   ]
  },
  {
   "cell_type": "code",
   "execution_count": 25,
   "metadata": {},
   "outputs": [],
   "source": [
    "last_day = pd.read_sql(f\"select sum(energy) from dishes where user_id = {message.from_user.id} and timestamp > now() - interval '24 hours';\",engine)\n",
    "last_day.iloc[0]['sum']"
   ]
  },
  {
   "cell_type": "code",
   "execution_count": null,
   "metadata": {},
   "outputs": [],
   "source": []
  },
  {
   "cell_type": "code",
   "execution_count": null,
   "metadata": {},
   "outputs": [],
   "source": []
  },
  {
   "cell_type": "code",
   "execution_count": 14,
   "metadata": {},
   "outputs": [],
   "source": [
    "plot_numtients = bot.dish[['energy','protein','carb','fat']].reset_index(drop=True)\n",
    "plot_numtients.index = ['']\n",
    "print(plot_numtients.to_string())"
   ]
  },
  {
   "cell_type": "code",
   "execution_count": 6,
   "metadata": {},
   "outputs": [],
   "source": [
    "message = m"
   ]
  },
  {
   "cell_type": "code",
   "execution_count": 7,
   "metadata": {},
   "outputs": [],
   "source": [
    "image_url = bot.get_file_url(message.photo[3].file_id)\n",
    "\n",
    "bot.dish = search_image(url=image_url)\n",
    "bot.dish['image_url'] = image_url\n",
    "bot.dish['user_id']= message.from_user.id"
   ]
  },
  {
   "cell_type": "code",
   "execution_count": 8,
   "metadata": {},
   "outputs": [
    {
     "data": {
      "text/html": [
       "<div>\n",
       "<style scoped>\n",
       "    .dataframe tbody tr th:only-of-type {\n",
       "        vertical-align: middle;\n",
       "    }\n",
       "\n",
       "    .dataframe tbody tr th {\n",
       "        vertical-align: top;\n",
       "    }\n",
       "\n",
       "    .dataframe thead th {\n",
       "        text-align: right;\n",
       "    }\n",
       "</style>\n",
       "<table border=\"1\" class=\"dataframe\">\n",
       "  <thead>\n",
       "    <tr style=\"text-align: right;\">\n",
       "      <th></th>\n",
       "      <th>id</th>\n",
       "      <th>description</th>\n",
       "      <th>category</th>\n",
       "      <th>energy</th>\n",
       "      <th>protein</th>\n",
       "      <th>carb</th>\n",
       "      <th>fat</th>\n",
       "      <th>clip</th>\n",
       "      <th>score</th>\n",
       "      <th>image_url</th>\n",
       "      <th>user_id</th>\n",
       "    </tr>\n",
       "  </thead>\n",
       "  <tbody>\n",
       "    <tr>\n",
       "      <th>4483</th>\n",
       "      <td>1101970</td>\n",
       "      <td>Pizza, cheese, from restaurant or fast food, N...</td>\n",
       "      <td>Pizza</td>\n",
       "      <td>266.0</td>\n",
       "      <td>11.39</td>\n",
       "      <td>33.33</td>\n",
       "      <td>9.69</td>\n",
       "      <td>[0.009587851, 0.02125338, 0.03126051, -0.01058...</td>\n",
       "      <td>0.242496</td>\n",
       "      <td>https://api.telegram.org/file/bot5091011572:AA...</td>\n",
       "      <td>78882798</td>\n",
       "    </tr>\n",
       "  </tbody>\n",
       "</table>\n",
       "</div>"
      ],
      "text/plain": [
       "           id                                        description category  \\\n",
       "4483  1101970  Pizza, cheese, from restaurant or fast food, N...    Pizza   \n",
       "\n",
       "      energy  protein   carb   fat  \\\n",
       "4483   266.0    11.39  33.33  9.69   \n",
       "\n",
       "                                                   clip     score  \\\n",
       "4483  [0.009587851, 0.02125338, 0.03126051, -0.01058...  0.242496   \n",
       "\n",
       "                                              image_url   user_id  \n",
       "4483  https://api.telegram.org/file/bot5091011572:AA...  78882798  "
      ]
     },
     "execution_count": 8,
     "metadata": {},
     "output_type": "execute_result"
    }
   ],
   "source": [
    "bot.dish"
   ]
  },
  {
   "cell_type": "code",
   "execution_count": 9,
   "metadata": {},
   "outputs": [
    {
     "data": {
      "text/plain": [
       "'           id                                                          description category  energy  protein   carb   fat                                                                                                                                                                                                                                                                                                                                                                                                                                                                                                                                                                                                                                                                                                                                                                                                                                                                                                                                                                                                                                                                                                                                                                                                                                                                                                                                                                                                                           clip     score                                                                                            image_url   user_id\\n4483  1101970  Pizza, cheese, from restaurant or fast food, NS as to type of crust    Pizza   266.0    11.39  33.33  9.69  [0.009587851, 0.02125338, 0.03126051, -0.010587343, 0.010938644, 0.030156756, 0.00019088393, -0.016143462, -0.027645798, -0.00544485, -0.022265611, -0.00028586073, -0.009961448, 0.023175687, -0.036963746, 0.015121542, 0.03994849, -0.028867608, -0.038352817, 0.04834807, -0.005986058, 0.00046151617, 0.03646924, -0.012086404, 0.030846214, -0.016867066, -0.00862638, 0.0004747787, -0.035823703, -0.025611568, -0.013462578, -0.038428955, -0.024903776, 0.018872462, -0.036478013, -0.0080709215, 0.0003054278, -0.021021279, 0.030655868, -2.8671993e-05, 0.027938193, -0.008544244, 0.0016655694, 0.016857406, -0.021012077, -0.0020187988, 0.025081072, 0.0026726937, 0.013696298, -0.038951144, -0.0028279193, 0.0016114082, -0.007110826, 0.0048895557, -0.025747774, -0.061668813, 0.014276809, 0.007312805, 0.011573997, -0.019808901, 0.019269707, -0.0016453374, -0.04940879, 0.012696449, -0.030169718, -0.02638549, 0.022782028, -0.0007259497, -0.0011096523, 0.010604356, 0.026952397, -0.022310974, 0.010216425, 0.0009937593, 0.027024366, 0.015829276, -0.00676805, -0.021586057, 0.028782805, -0.07111379, 0.0071731037, -0.04506542, -0.0012953043, -0.034145955, -0.03731406, -0.0030971742, 0.008875998, 0.0010149821, -0.039626565, -0.023474565, 0.0027798822, 0.012305277, -0.015284971, 0.0006393221, -0.01801062, -0.0135795465, -0.0011978719, -0.02053704, 0.014250297, 0.039402883, ...]  0.242496  https://api.telegram.org/file/bot5091011572:AAG4NfkC_zZjcsaAFkwLm4ZXOvhEqyLpQhY/photos/file_123.jpg  78882798'"
      ]
     },
     "execution_count": 9,
     "metadata": {},
     "output_type": "execute_result"
    }
   ],
   "source": [
    "bot.dish.to_string()"
   ]
  },
  {
   "cell_type": "code",
   "execution_count": 7,
   "metadata": {},
   "outputs": [
    {
     "data": {
      "text/html": [
       "<div>\n",
       "<style scoped>\n",
       "    .dataframe tbody tr th:only-of-type {\n",
       "        vertical-align: middle;\n",
       "    }\n",
       "\n",
       "    .dataframe tbody tr th {\n",
       "        vertical-align: top;\n",
       "    }\n",
       "\n",
       "    .dataframe thead th {\n",
       "        text-align: right;\n",
       "    }\n",
       "</style>\n",
       "<table border=\"1\" class=\"dataframe\">\n",
       "  <thead>\n",
       "    <tr style=\"text-align: right;\">\n",
       "      <th></th>\n",
       "      <th>energy_kcal</th>\n",
       "      <th>proteins</th>\n",
       "      <th>fat</th>\n",
       "      <th>carbohydrates</th>\n",
       "      <th>ids</th>\n",
       "      <th>image_url</th>\n",
       "      <th>user_id</th>\n",
       "      <th>grams</th>\n",
       "      <th>timestamp</th>\n",
       "    </tr>\n",
       "  </thead>\n",
       "  <tbody>\n",
       "    <tr>\n",
       "      <th>0</th>\n",
       "      <td>405.57</td>\n",
       "      <td>5.04</td>\n",
       "      <td>14.12</td>\n",
       "      <td>64.1</td>\n",
       "      <td>[336307, 401550, 588494, 655972, 806666, 1091422]</td>\n",
       "      <td>https://api.telegram.org/file/bot5091011572:AA...</td>\n",
       "      <td>78882798</td>\n",
       "      <td>30</td>\n",
       "      <td>2022-03-30 21:40:07.337149+00:00</td>\n",
       "    </tr>\n",
       "  </tbody>\n",
       "</table>\n",
       "</div>"
      ],
      "text/plain": [
       "  energy_kcal proteins    fat carbohydrates  \\\n",
       "0      405.57     5.04  14.12          64.1   \n",
       "\n",
       "                                                 ids  \\\n",
       "0  [336307, 401550, 588494, 655972, 806666, 1091422]   \n",
       "\n",
       "                                           image_url   user_id grams  \\\n",
       "0  https://api.telegram.org/file/bot5091011572:AA...  78882798    30   \n",
       "\n",
       "                         timestamp  \n",
       "0 2022-03-30 21:40:07.337149+00:00  "
      ]
     },
     "execution_count": 7,
     "metadata": {},
     "output_type": "execute_result"
    }
   ],
   "source": [
    "bot.dish.to_frame().T"
   ]
  },
  {
   "cell_type": "code",
   "execution_count": 3,
   "metadata": {},
   "outputs": [
    {
     "data": {
      "text/html": [
       "<div>\n",
       "<style scoped>\n",
       "    .dataframe tbody tr th:only-of-type {\n",
       "        vertical-align: middle;\n",
       "    }\n",
       "\n",
       "    .dataframe tbody tr th {\n",
       "        vertical-align: top;\n",
       "    }\n",
       "\n",
       "    .dataframe thead th {\n",
       "        text-align: right;\n",
       "    }\n",
       "</style>\n",
       "<table border=\"1\" class=\"dataframe\">\n",
       "  <thead>\n",
       "    <tr style=\"text-align: right;\">\n",
       "      <th></th>\n",
       "      <th>energy_kcal</th>\n",
       "      <th>proteins</th>\n",
       "      <th>fat</th>\n",
       "      <th>carbohydrates</th>\n",
       "      <th>ids</th>\n",
       "      <th>image_url</th>\n",
       "      <th>user_id</th>\n",
       "      <th>grams</th>\n",
       "      <th>timestamp</th>\n",
       "    </tr>\n",
       "  </thead>\n",
       "  <tbody>\n",
       "    <tr>\n",
       "      <th>0</th>\n",
       "      <td>370.0</td>\n",
       "      <td>5.87</td>\n",
       "      <td>11.57</td>\n",
       "      <td>63.87</td>\n",
       "      <td>[401550, 447468, 655972, 806666, 1111863, 2680...</td>\n",
       "      <td>https://api.telegram.org/file/bot5091011572:AA...</td>\n",
       "      <td>78882798</td>\n",
       "      <td>200</td>\n",
       "      <td>2022-03-30 21:31:36.950219+00:00</td>\n",
       "    </tr>\n",
       "  </tbody>\n",
       "</table>\n",
       "</div>"
      ],
      "text/plain": [
       "  energy_kcal proteins    fat carbohydrates  \\\n",
       "0       370.0     5.87  11.57         63.87   \n",
       "\n",
       "                                                 ids  \\\n",
       "0  [401550, 447468, 655972, 806666, 1111863, 2680...   \n",
       "\n",
       "                                           image_url   user_id grams  \\\n",
       "0  https://api.telegram.org/file/bot5091011572:AA...  78882798   200   \n",
       "\n",
       "                         timestamp  \n",
       "0 2022-03-30 21:31:36.950219+00:00  "
      ]
     },
     "execution_count": 3,
     "metadata": {},
     "output_type": "execute_result"
    }
   ],
   "source": [
    "bot.dish.to_frame().T"
   ]
  },
  {
   "cell_type": "code",
   "execution_count": 15,
   "metadata": {},
   "outputs": [],
   "source": [
    "message = m"
   ]
  },
  {
   "cell_type": "code",
   "execution_count": 16,
   "metadata": {},
   "outputs": [
    {
     "ename": "TypeError",
     "evalue": "int() argument must be a string, a bytes-like object or a number, not 'NoneType'",
     "output_type": "error",
     "traceback": [
      "\u001b[0;31m---------------------------------------------------------------------------\u001b[0m",
      "\u001b[0;31mTypeError\u001b[0m                                 Traceback (most recent call last)",
      "\u001b[1;32m/home/dima/food/bot.ipynb Cell 6'\u001b[0m in \u001b[0;36m<cell line: 1>\u001b[0;34m()\u001b[0m\n\u001b[0;32m----> <a href='vscode-notebook-cell://ssh-remote%2Bml2/home/dima/food/bot.ipynb#ch0000022vscode-remote?line=0'>1</a>\u001b[0m \u001b[39mint\u001b[39;49m(message\u001b[39m.\u001b[39;49mtext)\n",
      "\u001b[0;31mTypeError\u001b[0m: int() argument must be a string, a bytes-like object or a number, not 'NoneType'"
     ]
    }
   ],
   "source": [
    "int(message.text)"
   ]
  },
  {
   "cell_type": "code",
   "execution_count": 14,
   "metadata": {},
   "outputs": [
    {
     "data": {
      "text/plain": [
       "energy_kcal                                                 476.33\n",
       "proteins                                                      14.2\n",
       "fat                                                          20.43\n",
       "carbohydrates                                                38.99\n",
       "image_url        https://api.telegram.org/file/bot5091011572:AA...\n",
       "user_id                                                   78882798\n",
       "dtype: object"
      ]
     },
     "execution_count": 14,
     "metadata": {},
     "output_type": "execute_result"
    }
   ],
   "source": [
    "bot.dish"
   ]
  },
  {
   "cell_type": "code",
   "execution_count": 89,
   "metadata": {},
   "outputs": [
    {
     "data": {
      "text/plain": [
       "energy_kcal      38.266\n",
       "proteins          0.106\n",
       "fat               0.704\n",
       "carbohydrates     6.614\n",
       "grams             4.000\n",
       "dtype: float64"
      ]
     },
     "execution_count": 89,
     "metadata": {},
     "output_type": "execute_result"
    }
   ],
   "source": [
    "bot.dish/100*int(message.text)"
   ]
  },
  {
   "cell_type": "code",
   "execution_count": 88,
   "metadata": {},
   "outputs": [
    {
     "data": {
      "text/plain": [
       "energy_kcal      191.33\n",
       "proteins           0.53\n",
       "fat                3.52\n",
       "carbohydrates     33.07\n",
       "grams             20.00\n",
       "dtype: float64"
      ]
     },
     "execution_count": 88,
     "metadata": {},
     "output_type": "execute_result"
    }
   ],
   "source": [
    "bot.dish"
   ]
  },
  {
   "cell_type": "code",
   "execution_count": 73,
   "metadata": {},
   "outputs": [
    {
     "data": {
      "text/plain": [
       "energy_kcal      151.675\n",
       "proteins           4.400\n",
       "fat                2.900\n",
       "carbohydrates     13.850\n",
       "dtype: float64"
      ]
     },
     "execution_count": 73,
     "metadata": {},
     "output_type": "execute_result"
    }
   ],
   "source": [
    "bot.dish/100*250"
   ]
  },
  {
   "cell_type": "code",
   "execution_count": 74,
   "metadata": {},
   "outputs": [
    {
     "data": {
      "text/plain": [
       "energy_kcal      60.67\n",
       "proteins          1.76\n",
       "fat               1.16\n",
       "carbohydrates     5.54\n",
       "dtype: float64"
      ]
     },
     "execution_count": 74,
     "metadata": {},
     "output_type": "execute_result"
    }
   ],
   "source": [
    "bot.dish"
   ]
  },
  {
   "cell_type": "code",
   "execution_count": 61,
   "metadata": {},
   "outputs": [
    {
     "data": {
      "text/plain": [
       "78882798"
      ]
     },
     "execution_count": 61,
     "metadata": {},
     "output_type": "execute_result"
    }
   ],
   "source": [
    "message.chat.id"
   ]
  },
  {
   "cell_type": "code",
   "execution_count": 30,
   "metadata": {},
   "outputs": [],
   "source": [
    "file_url = bot.get_file_url(message.photo[3].file_id)"
   ]
  },
  {
   "cell_type": "code",
   "execution_count": 31,
   "metadata": {},
   "outputs": [
    {
     "name": "stdout",
     "output_type": "stream",
     "text": [
      "\n"
     ]
    }
   ],
   "source": [
    "df = get_calories(url=file_url)"
   ]
  },
  {
   "cell_type": "code",
   "execution_count": 52,
   "metadata": {},
   "outputs": [],
   "source": [
    "df.index = df.index.str.replace('_100g','')"
   ]
  },
  {
   "cell_type": "code",
   "execution_count": 53,
   "metadata": {},
   "outputs": [],
   "source": [
    "t = df.to_frame('per 100g').to_string()"
   ]
  },
  {
   "cell_type": "code",
   "execution_count": 54,
   "metadata": {},
   "outputs": [
    {
     "name": "stdout",
     "output_type": "stream",
     "text": [
      "               per 100g\n",
      "energy_kcal      210.33\n",
      "proteins           4.93\n",
      "fat               10.47\n",
      "carbohydrates     23.33\n"
     ]
    }
   ],
   "source": [
    "print(t)"
   ]
  },
  {
   "cell_type": "code",
   "execution_count": 55,
   "metadata": {},
   "outputs": [
    {
     "data": {
      "text/plain": [
       "<telebot.types.Message at 0x7f1b3c5e5d30>"
      ]
     },
     "execution_count": 55,
     "metadata": {},
     "output_type": "execute_result"
    }
   ],
   "source": [
    "bot.reply_to(message, t)"
   ]
  },
  {
   "cell_type": "code",
   "execution_count": 17,
   "metadata": {},
   "outputs": [
    {
     "data": {
      "text/plain": [
       "'https://api.telegram.org/file/bot5091011572:AAG4NfkC_zZjcsaAFkwLm4ZXOvhEqyLpQhY/photos/file_89.jpg'"
      ]
     },
     "execution_count": 17,
     "metadata": {},
     "output_type": "execute_result"
    }
   ],
   "source": [
    "file_info"
   ]
  },
  {
   "cell_type": "code",
   "execution_count": 14,
   "metadata": {},
   "outputs": [
    {
     "data": {
      "text/plain": [
       "'photos/file_89.jpg'"
      ]
     },
     "execution_count": 14,
     "metadata": {},
     "output_type": "execute_result"
    }
   ],
   "source": [
    "file_info.file_path"
   ]
  },
  {
   "cell_type": "code",
   "execution_count": 15,
   "metadata": {},
   "outputs": [
    {
     "data": {
      "text/plain": [
       "'https://api.telegram.org/file/bot5091011572:AAG4NfkC_zZjcsaAFkwLm4ZXOvhEqyLpQhY/photos/file_89.jpg'"
      ]
     },
     "execution_count": 15,
     "metadata": {},
     "output_type": "execute_result"
    }
   ],
   "source": [
    "f'https://api.telegram.org/file/bot{token}/{file_info.file_path}'"
   ]
  },
  {
   "cell_type": "code",
   "execution_count": 10,
   "metadata": {},
   "outputs": [
    {
     "data": {
      "text/plain": [
       "78882798"
      ]
     },
     "execution_count": 10,
     "metadata": {},
     "output_type": "execute_result"
    }
   ],
   "source": [
    "m.chat.id"
   ]
  },
  {
   "cell_type": "code",
   "execution_count": null,
   "metadata": {},
   "outputs": [],
   "source": []
  }
 ],
 "metadata": {
  "interpreter": {
   "hash": "1e1ee659a212ecca49d6a1809275141ef7642c152d6286fb803a43d965656456"
  },
  "kernelspec": {
   "display_name": "re",
   "language": "python",
   "name": "python3"
  },
  "language_info": {
   "codemirror_mode": {
    "name": "ipython",
    "version": 3
   },
   "file_extension": ".py",
   "mimetype": "text/x-python",
   "name": "python",
   "nbconvert_exporter": "python",
   "pygments_lexer": "ipython3",
   "version": "3.9.7"
  }
 },
 "nbformat": 4,
 "nbformat_minor": 4
}
