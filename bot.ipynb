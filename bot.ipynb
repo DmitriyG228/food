{
 "cells": [
  {
   "cell_type": "code",
   "execution_count": 2,
   "metadata": {},
   "outputs": [],
   "source": [
    "%load_ext autoreload\n",
    "%autoreload 2"
   ]
  },
  {
   "cell_type": "code",
   "execution_count": 2,
   "metadata": {},
   "outputs": [
    {
     "name": "stdout",
     "output_type": "stream",
     "text": [
      "\n"
     ]
    }
   ],
   "source": [
    "from food.tools import *\n",
    "from food.paths import *\n",
    "\n",
    "import pandas as pd\n",
    "import numpy as np\n",
    "import requests\n",
    "import telebot\n",
    "from food.psql import *\n",
    "\n",
    "# !nbdev_build_lib\n",
    "from food.classify_image import *\n",
    "token = \"5091011572:AAG4NfkC_zZjcsaAFkwLm4ZXOvhEqyLpQhY\"\n",
    "\n",
    "m = None\n",
    "\n",
    "bot = telebot.TeleBot(token)\n",
    "bot.dish = None\n",
    "@bot.message_handler(commands=['start', 'help'])\n",
    "def send_welcome(message):\n",
    "\tbot.reply_to(message, \"Howdy, how are you doing?\")\n",
    "\n",
    "@bot.message_handler(content_types=['photo'])\n",
    "def calssify_image(message):\n",
    "\tbot.send_chat_action(message.chat.id, 'typing') #does not seem to work\n",
    "\tglobal m\n",
    "\tm = message\n",
    "\timage_url = bot.get_file_url(message.photo[3].file_id)\n",
    "\n",
    "\tdf = get_calories(url=image_url)\n",
    "\tdf.index = df.index.str.replace('_100g','')\n",
    "\tbot.dish = df\n",
    "\tbot.dish['image_url'] = image_url\n",
    "\tbot.dish['user_id']= message.from_user.id\n",
    "\n",
    "\tr = df.to_frame('per 100g').to_string()\n",
    "\n",
    "\t# markup = types.ReplyKeyboardMarkup(row_width=2)\n",
    "\t# cancel = types.KeyboardButton('cancel')\n",
    "\t# markup.add(cancel)\n",
    "\n",
    "\n",
    "\tbot.reply_to(message, r)\n",
    "\tbot.reply_to(message, \"specify weight of the dish in gramms to add it to the journal\")\n",
    "\n",
    "\n",
    "@bot.message_handler(regexp=\"[0-9]+\")\n",
    "def handle_grams(message):\n",
    "\tglobal m\n",
    "\tm = message\n",
    "\tif hasattr(bot,'dish'):  \n",
    "\t\tbot.dish['grams']=int(message.text)\n",
    "\t\tbot.reply_to(message, bot.dish.drop('image_url').to_string())\n",
    "\t\tbot.dish['timestamp']=pd.Timestamp.utcnow() #should be user local time\n",
    "\t\tbot.dish.drop('names').to_frame().T.to_sql('dishes',engine,if_exists='append',index=False)\n",
    "\n",
    "\n",
    "bot.infinity_polling()"
   ]
  },
  {
   "cell_type": "code",
   "execution_count": 7,
   "metadata": {},
   "outputs": [
    {
     "data": {
      "text/html": [
       "<div>\n",
       "<style scoped>\n",
       "    .dataframe tbody tr th:only-of-type {\n",
       "        vertical-align: middle;\n",
       "    }\n",
       "\n",
       "    .dataframe tbody tr th {\n",
       "        vertical-align: top;\n",
       "    }\n",
       "\n",
       "    .dataframe thead th {\n",
       "        text-align: right;\n",
       "    }\n",
       "</style>\n",
       "<table border=\"1\" class=\"dataframe\">\n",
       "  <thead>\n",
       "    <tr style=\"text-align: right;\">\n",
       "      <th></th>\n",
       "      <th>energy_kcal</th>\n",
       "      <th>proteins</th>\n",
       "      <th>fat</th>\n",
       "      <th>carbohydrates</th>\n",
       "      <th>ids</th>\n",
       "      <th>image_url</th>\n",
       "      <th>user_id</th>\n",
       "      <th>grams</th>\n",
       "      <th>timestamp</th>\n",
       "    </tr>\n",
       "  </thead>\n",
       "  <tbody>\n",
       "    <tr>\n",
       "      <th>0</th>\n",
       "      <td>405.57</td>\n",
       "      <td>5.04</td>\n",
       "      <td>14.12</td>\n",
       "      <td>64.1</td>\n",
       "      <td>[336307, 401550, 588494, 655972, 806666, 1091422]</td>\n",
       "      <td>https://api.telegram.org/file/bot5091011572:AA...</td>\n",
       "      <td>78882798</td>\n",
       "      <td>30</td>\n",
       "      <td>2022-03-30 21:40:07.337149+00:00</td>\n",
       "    </tr>\n",
       "  </tbody>\n",
       "</table>\n",
       "</div>"
      ],
      "text/plain": [
       "  energy_kcal proteins    fat carbohydrates  \\\n",
       "0      405.57     5.04  14.12          64.1   \n",
       "\n",
       "                                                 ids  \\\n",
       "0  [336307, 401550, 588494, 655972, 806666, 1091422]   \n",
       "\n",
       "                                           image_url   user_id grams  \\\n",
       "0  https://api.telegram.org/file/bot5091011572:AA...  78882798    30   \n",
       "\n",
       "                         timestamp  \n",
       "0 2022-03-30 21:40:07.337149+00:00  "
      ]
     },
     "execution_count": 7,
     "metadata": {},
     "output_type": "execute_result"
    }
   ],
   "source": [
    "bot.dish.to_frame().T"
   ]
  },
  {
   "cell_type": "code",
   "execution_count": 3,
   "metadata": {},
   "outputs": [
    {
     "data": {
      "text/html": [
       "<div>\n",
       "<style scoped>\n",
       "    .dataframe tbody tr th:only-of-type {\n",
       "        vertical-align: middle;\n",
       "    }\n",
       "\n",
       "    .dataframe tbody tr th {\n",
       "        vertical-align: top;\n",
       "    }\n",
       "\n",
       "    .dataframe thead th {\n",
       "        text-align: right;\n",
       "    }\n",
       "</style>\n",
       "<table border=\"1\" class=\"dataframe\">\n",
       "  <thead>\n",
       "    <tr style=\"text-align: right;\">\n",
       "      <th></th>\n",
       "      <th>energy_kcal</th>\n",
       "      <th>proteins</th>\n",
       "      <th>fat</th>\n",
       "      <th>carbohydrates</th>\n",
       "      <th>ids</th>\n",
       "      <th>image_url</th>\n",
       "      <th>user_id</th>\n",
       "      <th>grams</th>\n",
       "      <th>timestamp</th>\n",
       "    </tr>\n",
       "  </thead>\n",
       "  <tbody>\n",
       "    <tr>\n",
       "      <th>0</th>\n",
       "      <td>370.0</td>\n",
       "      <td>5.87</td>\n",
       "      <td>11.57</td>\n",
       "      <td>63.87</td>\n",
       "      <td>[401550, 447468, 655972, 806666, 1111863, 2680...</td>\n",
       "      <td>https://api.telegram.org/file/bot5091011572:AA...</td>\n",
       "      <td>78882798</td>\n",
       "      <td>200</td>\n",
       "      <td>2022-03-30 21:31:36.950219+00:00</td>\n",
       "    </tr>\n",
       "  </tbody>\n",
       "</table>\n",
       "</div>"
      ],
      "text/plain": [
       "  energy_kcal proteins    fat carbohydrates  \\\n",
       "0       370.0     5.87  11.57         63.87   \n",
       "\n",
       "                                                 ids  \\\n",
       "0  [401550, 447468, 655972, 806666, 1111863, 2680...   \n",
       "\n",
       "                                           image_url   user_id grams  \\\n",
       "0  https://api.telegram.org/file/bot5091011572:AA...  78882798   200   \n",
       "\n",
       "                         timestamp  \n",
       "0 2022-03-30 21:31:36.950219+00:00  "
      ]
     },
     "execution_count": 3,
     "metadata": {},
     "output_type": "execute_result"
    }
   ],
   "source": [
    "bot.dish.to_frame().T"
   ]
  },
  {
   "cell_type": "code",
   "execution_count": 15,
   "metadata": {},
   "outputs": [],
   "source": [
    "message = m"
   ]
  },
  {
   "cell_type": "code",
   "execution_count": 16,
   "metadata": {},
   "outputs": [
    {
     "ename": "TypeError",
     "evalue": "int() argument must be a string, a bytes-like object or a number, not 'NoneType'",
     "output_type": "error",
     "traceback": [
      "\u001b[0;31m---------------------------------------------------------------------------\u001b[0m",
      "\u001b[0;31mTypeError\u001b[0m                                 Traceback (most recent call last)",
      "\u001b[1;32m/home/dima/food/bot.ipynb Cell 6'\u001b[0m in \u001b[0;36m<cell line: 1>\u001b[0;34m()\u001b[0m\n\u001b[0;32m----> <a href='vscode-notebook-cell://ssh-remote%2Bml2/home/dima/food/bot.ipynb#ch0000022vscode-remote?line=0'>1</a>\u001b[0m \u001b[39mint\u001b[39;49m(message\u001b[39m.\u001b[39;49mtext)\n",
      "\u001b[0;31mTypeError\u001b[0m: int() argument must be a string, a bytes-like object or a number, not 'NoneType'"
     ]
    }
   ],
   "source": [
    "int(message.text)"
   ]
  },
  {
   "cell_type": "code",
   "execution_count": 14,
   "metadata": {},
   "outputs": [
    {
     "data": {
      "text/plain": [
       "energy_kcal                                                 476.33\n",
       "proteins                                                      14.2\n",
       "fat                                                          20.43\n",
       "carbohydrates                                                38.99\n",
       "image_url        https://api.telegram.org/file/bot5091011572:AA...\n",
       "user_id                                                   78882798\n",
       "dtype: object"
      ]
     },
     "execution_count": 14,
     "metadata": {},
     "output_type": "execute_result"
    }
   ],
   "source": [
    "bot.dish"
   ]
  },
  {
   "cell_type": "code",
   "execution_count": 89,
   "metadata": {},
   "outputs": [
    {
     "data": {
      "text/plain": [
       "energy_kcal      38.266\n",
       "proteins          0.106\n",
       "fat               0.704\n",
       "carbohydrates     6.614\n",
       "grams             4.000\n",
       "dtype: float64"
      ]
     },
     "execution_count": 89,
     "metadata": {},
     "output_type": "execute_result"
    }
   ],
   "source": [
    "bot.dish/100*int(message.text)"
   ]
  },
  {
   "cell_type": "code",
   "execution_count": 88,
   "metadata": {},
   "outputs": [
    {
     "data": {
      "text/plain": [
       "energy_kcal      191.33\n",
       "proteins           0.53\n",
       "fat                3.52\n",
       "carbohydrates     33.07\n",
       "grams             20.00\n",
       "dtype: float64"
      ]
     },
     "execution_count": 88,
     "metadata": {},
     "output_type": "execute_result"
    }
   ],
   "source": [
    "bot.dish"
   ]
  },
  {
   "cell_type": "code",
   "execution_count": 73,
   "metadata": {},
   "outputs": [
    {
     "data": {
      "text/plain": [
       "energy_kcal      151.675\n",
       "proteins           4.400\n",
       "fat                2.900\n",
       "carbohydrates     13.850\n",
       "dtype: float64"
      ]
     },
     "execution_count": 73,
     "metadata": {},
     "output_type": "execute_result"
    }
   ],
   "source": [
    "bot.dish/100*250"
   ]
  },
  {
   "cell_type": "code",
   "execution_count": 74,
   "metadata": {},
   "outputs": [
    {
     "data": {
      "text/plain": [
       "energy_kcal      60.67\n",
       "proteins          1.76\n",
       "fat               1.16\n",
       "carbohydrates     5.54\n",
       "dtype: float64"
      ]
     },
     "execution_count": 74,
     "metadata": {},
     "output_type": "execute_result"
    }
   ],
   "source": [
    "bot.dish"
   ]
  },
  {
   "cell_type": "code",
   "execution_count": 61,
   "metadata": {},
   "outputs": [
    {
     "data": {
      "text/plain": [
       "78882798"
      ]
     },
     "execution_count": 61,
     "metadata": {},
     "output_type": "execute_result"
    }
   ],
   "source": [
    "message.chat.id"
   ]
  },
  {
   "cell_type": "code",
   "execution_count": 30,
   "metadata": {},
   "outputs": [],
   "source": [
    "file_url = bot.get_file_url(message.photo[3].file_id)"
   ]
  },
  {
   "cell_type": "code",
   "execution_count": 31,
   "metadata": {},
   "outputs": [
    {
     "name": "stdout",
     "output_type": "stream",
     "text": [
      "\n"
     ]
    }
   ],
   "source": [
    "df = get_calories(url=file_url)"
   ]
  },
  {
   "cell_type": "code",
   "execution_count": 52,
   "metadata": {},
   "outputs": [],
   "source": [
    "df.index = df.index.str.replace('_100g','')"
   ]
  },
  {
   "cell_type": "code",
   "execution_count": 53,
   "metadata": {},
   "outputs": [],
   "source": [
    "t = df.to_frame('per 100g').to_string()"
   ]
  },
  {
   "cell_type": "code",
   "execution_count": 54,
   "metadata": {},
   "outputs": [
    {
     "name": "stdout",
     "output_type": "stream",
     "text": [
      "               per 100g\n",
      "energy_kcal      210.33\n",
      "proteins           4.93\n",
      "fat               10.47\n",
      "carbohydrates     23.33\n"
     ]
    }
   ],
   "source": [
    "print(t)"
   ]
  },
  {
   "cell_type": "code",
   "execution_count": 55,
   "metadata": {},
   "outputs": [
    {
     "data": {
      "text/plain": [
       "<telebot.types.Message at 0x7f1b3c5e5d30>"
      ]
     },
     "execution_count": 55,
     "metadata": {},
     "output_type": "execute_result"
    }
   ],
   "source": [
    "bot.reply_to(message, t)"
   ]
  },
  {
   "cell_type": "code",
   "execution_count": 17,
   "metadata": {},
   "outputs": [
    {
     "data": {
      "text/plain": [
       "'https://api.telegram.org/file/bot5091011572:AAG4NfkC_zZjcsaAFkwLm4ZXOvhEqyLpQhY/photos/file_89.jpg'"
      ]
     },
     "execution_count": 17,
     "metadata": {},
     "output_type": "execute_result"
    }
   ],
   "source": [
    "file_info"
   ]
  },
  {
   "cell_type": "code",
   "execution_count": 14,
   "metadata": {},
   "outputs": [
    {
     "data": {
      "text/plain": [
       "'photos/file_89.jpg'"
      ]
     },
     "execution_count": 14,
     "metadata": {},
     "output_type": "execute_result"
    }
   ],
   "source": [
    "file_info.file_path"
   ]
  },
  {
   "cell_type": "code",
   "execution_count": 15,
   "metadata": {},
   "outputs": [
    {
     "data": {
      "text/plain": [
       "'https://api.telegram.org/file/bot5091011572:AAG4NfkC_zZjcsaAFkwLm4ZXOvhEqyLpQhY/photos/file_89.jpg'"
      ]
     },
     "execution_count": 15,
     "metadata": {},
     "output_type": "execute_result"
    }
   ],
   "source": [
    "f'https://api.telegram.org/file/bot{token}/{file_info.file_path}'"
   ]
  },
  {
   "cell_type": "code",
   "execution_count": 10,
   "metadata": {},
   "outputs": [
    {
     "data": {
      "text/plain": [
       "78882798"
      ]
     },
     "execution_count": 10,
     "metadata": {},
     "output_type": "execute_result"
    }
   ],
   "source": [
    "m.chat.id"
   ]
  },
  {
   "cell_type": "code",
   "execution_count": null,
   "metadata": {},
   "outputs": [],
   "source": []
  }
 ],
 "metadata": {
  "interpreter": {
   "hash": "1e1ee659a212ecca49d6a1809275141ef7642c152d6286fb803a43d965656456"
  },
  "kernelspec": {
   "display_name": "re",
   "language": "python",
   "name": "python3"
  },
  "language_info": {
   "codemirror_mode": {
    "name": "ipython",
    "version": 3
   },
   "file_extension": ".py",
   "mimetype": "text/x-python",
   "name": "python",
   "nbconvert_exporter": "python",
   "pygments_lexer": "ipython3",
   "version": "3.9.7"
  }
 },
 "nbformat": 4,
 "nbformat_minor": 4
}
