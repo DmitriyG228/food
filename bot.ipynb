{
 "cells": [
  {
   "cell_type": "code",
   "execution_count": 2,
   "metadata": {},
   "outputs": [],
   "source": [
    "%load_ext autoreload\n",
    "%autoreload 2"
   ]
  },
  {
   "cell_type": "code",
   "execution_count": 3,
   "metadata": {},
   "outputs": [],
   "source": [
    "\n"
   ]
  },
  {
   "cell_type": "code",
   "execution_count": 55,
   "metadata": {},
   "outputs": [],
   "source": [
    "from food.tools import *\n",
    "from food.paths import *\n",
    "\n",
    "import pandas as pd\n",
    "import numpy as np\n",
    "import requests\n",
    "import telebot\n",
    "from food.psql import *\n",
    "\n",
    "# !nbdev_build_lib\n",
    "from food.classify_image import *\n",
    "\n",
    "from telebot import types\n",
    "\n",
    "import datetime\n",
    "import pytz\n",
    "from tzwhere import tzwhere\n",
    "\n",
    "\n",
    "debug = True\n",
    "\n",
    "dishes = 'dishes_test'  if debug else 'dishes'\n",
    "users = 'users_test'  if debug else 'users'\n",
    "\n",
    "token = \"5091011572:AAG4NfkC_zZjcsaAFkwLm4ZXOvhEqyLpQhY\" if debug else '5203882708:AAG3G_Y2oZSr-rMG2zoffDVtj3d0KkOFSts'\n",
    "\n",
    "\n",
    "\n",
    "m = None\n",
    "\n",
    "bot = telebot.TeleBot(token)\n",
    "bot.dish = None\n",
    "\n",
    "\n",
    "@bot.message_handler(commands=['start'])\n",
    "def welcome(message):\n",
    "\tmarkup = types.ReplyKeyboardMarkup(row_width=1,resize_keyboard=True)\n",
    "\tmarkup.add('/help')\n",
    "\tbot.reply_to(message, \"Counting calories as easy as taking pictures. Just capture everything before you eat it\", reply_markup=markup)\n",
    "\tbot.reply_to(message, \"Now send a photo of your meal to try\", reply_markup=markup)\n",
    "\n",
    "@bot.message_handler(content_types=['location'])\n",
    "def location(message):\n",
    "\tbot.send_chat_action(message.chat.id, 'typing')\n",
    "\ttz = tzwhere.tzwhere().tzNameAt(message.location.latitude, message.location.longitude)\n",
    "\n",
    "\tdf = pd.DataFrame([[message.from_user.id,\n",
    "              message.location.latitude,\n",
    "              message.location.longitude,\n",
    "              tz]],\n",
    "              columns = ['id','lat','lon','timezone'])\n",
    "\n",
    "\tinsert_ignore(df,users,update = True, update_cols = ['lat','lon','timezone'], engine = engine,unique_cols=['id'])\n",
    "\tbot.reply_to(message, f\"your timezone is set to {tz}\")\n",
    "\n",
    "\n",
    "\n",
    "@bot.message_handler(commands=['help'])\n",
    "def help(message):\n",
    "\tbot.reply_to(message, \"join our support group https://t.me/+nIBkPkw3vpM0NDJi\")\n",
    "\n",
    "@bot.message_handler(commands=['cancel'])\n",
    "def send_cancel(message):\n",
    "\tmarkup = types.ReplyKeyboardRemove(selective=False)\n",
    "\tbot.reply_to(message, f\"cancalled\", reply_markup=markup)\n",
    "\tif hasattr(bot,'dish'): del bot.dish\n",
    "\tif hasattr(bot,'measures'): del bot.measures\n",
    "\tif hasattr(bot,'measurement'): del bot.measurement\n",
    "\tif hasattr(bot,'label'): del bot.label\n",
    "\n",
    "@bot.message_handler(content_types=['photo'])\n",
    "def calssify_image(message):\n",
    "\n",
    "\tbot.send_chat_action(message.chat.id, 'typing')\n",
    "\t\n",
    "\timage_url = bot.get_file_url(message.photo[3].file_id)\n",
    "\tbot.dish = search_image(url=image_url)\n",
    "\tbot.dish['image_url'] = image_url\n",
    "\tbot.dish['user_id']= message.from_user.id\n",
    "\n",
    "\tplot_numtients = bot.dish[['energy','protein','carb','fat']].reset_index(drop=True)\n",
    "\tplot_numtients.index = ['']\n",
    "\n",
    "\n",
    "\tbot.label = bot.dish['description'].iloc[0]\n",
    "\n",
    "\tbot.reply_to(message, bot.label)\n",
    "\tbot.reply_to(message, plot_numtients.to_string())\n",
    "\n",
    "\tbot.measures = pd.read_sql(f\"select portion_description,gram_weight from portions where food_id = {bot.dish['id'].iloc[0]}\",engine)\n",
    "\tbot.measures_cleaned = bot.measures['portion_description'].str.replace('1 ','').tolist()\n",
    "\n",
    "\tmarkup = types.ReplyKeyboardMarkup(row_width=2)\n",
    "\tcancel = types.KeyboardButton('/cancel')\n",
    "\t[markup.add(p) for p in bot.measures_cleaned]\n",
    "\tmarkup.add('gram')\n",
    "\tmarkup.add(cancel)\n",
    "\n",
    "\tbot.send_message(message.chat.id, \"Choose the unit to measure the weight of you dish\", reply_markup=markup)\n",
    "\n",
    "\n",
    "@bot.message_handler(content_types=['text']) #regexp=\"[0-9]+\"\n",
    "def handle_text(message):\n",
    "\n",
    "\tbot.message = message\n",
    "\ttry:     bot.number = int(message.text)\n",
    "\texcept:  bot.number = None\n",
    "\n",
    "\tif not bot.number and hasattr(bot,'label'):\n",
    "\t\tmarkup = types.ReplyKeyboardMarkup(row_width=2)\n",
    "\t\t[markup.add(str(p)) for p in range(1,5)]\n",
    "\t\tcancel = types.KeyboardButton('/cancel')\n",
    "\t\tmarkup.add(cancel)\n",
    "\n",
    "\t\tif len(set(bot.measures_cleaned) & set([message.text])) >0:\n",
    "\t\t\tbot.measurement = message.text\n",
    "\t\t\tbot.reply_to(message, f\"select number of {bot.measurement}s you are going to eat\", reply_markup=markup)\n",
    "\n",
    "\t\telse:\n",
    "\t\t\tbot.reply_to(message, f\"please choose a unit from the list\")\n",
    "\n",
    "\n",
    "\n",
    "\t\n",
    "\n",
    "\telif bot.number and hasattr(bot,'label'): \n",
    "\t\tif bot.measurement == 'gram': grams = bot.number\n",
    "\t\telse:grams = bot.measures[bot.measures['portion_description'].str.contains(bot.measurement)]['gram_weight'].iloc[0]*bot.number\n",
    "\t\tbot.dish[['energy','protein','carb','fat']] = bot.dish[['energy','protein','carb','fat']]/100*grams\n",
    "\t\tbot.dish['grams']=grams\n",
    "\t\tbot.dish['measure_selected'] = message.text\n",
    "\t\tbot.dish = bot.dish.rename(columns = {'id':'food_id'})\n",
    "\t\tbot.dish['timestamp']=pd.Timestamp.utcnow()\n",
    "\n",
    "\t\tbot.dish.to_sql(dishes,engine,if_exists='append',index=False)\n",
    "\n",
    "\t\n",
    "\t\tmarkup = types.ReplyKeyboardRemove(selective=False)\n",
    "\t\t\n",
    "\t\t\n",
    "\t\t\n",
    "\n",
    "\t\ttoday_consumed = pd.read_sql(f\"select energy,timestamp from {dishes} where user_id = {message.from_user.id} and timestamp > now() - interval '24 hours';\",engine).set_index(\"timestamp\")\n",
    "\t\tuser_tz = engine.execute(f'select timezone from {users} where id={message.from_user.id}').first()\n",
    "\t\tif user_tz: today_consumed = today_consumed.tz_convert(user_tz[0])\n",
    "\t\telse: bot.reply_to(message, \"Please send your location to that we know your local time\", reply_markup=markup)\n",
    "\t\ttoday_consumed = today_consumed.reset_index()\t\n",
    "\t\ttoday_consumed = today_consumed[today_consumed['timestamp'].dt.time > datetime.time(3,0)]['energy'].sum()\n",
    "\n",
    "\n",
    "\n",
    "\t\tbot.reply_to(message, f\" {bot.number} {bot.measurement}s  of {bot.label} added\", reply_markup=markup)\n",
    "\t\tbot.reply_to(message, f\"You have consumed {round(today_consumed)} kcall today\", reply_markup=markup)\n",
    "\n",
    "\t\tdel bot.dish\n",
    "\t\tdel bot.measures\n",
    "\t\tdel bot.measurement\n",
    "\t\tdel bot.label\n",
    "\n",
    "\telif not hasattr(bot,'label'):\n",
    "\n",
    "\t\tbot.reply_to(message, f\"Please take a photo of your dish\")\n",
    "\n",
    "\n",
    "\n",
    "\n",
    "\t\n",
    "\n",
    "bot.infinity_polling()"
   ]
  },
  {
   "cell_type": "code",
   "execution_count": 42,
   "metadata": {},
   "outputs": [
    {
     "data": {
      "text/plain": [
       "1"
      ]
     },
     "execution_count": 42,
     "metadata": {},
     "output_type": "execute_result"
    }
   ],
   "source": [
    "len(set(bot.measures_cleaned) & set([bot.message.text]))"
   ]
  },
  {
   "cell_type": "code",
   "execution_count": 40,
   "metadata": {},
   "outputs": [
    {
     "data": {
      "text/plain": [
       "{' ', 'a', 'e', 'g', 'l', 'r', 't', 'x'}"
      ]
     },
     "execution_count": 40,
     "metadata": {},
     "output_type": "execute_result"
    }
   ],
   "source": [
    "set(bot.message.text)"
   ]
  },
  {
   "cell_type": "code",
   "execution_count": 36,
   "metadata": {},
   "outputs": [
    {
     "data": {
      "text/plain": [
       "'extra large'"
      ]
     },
     "execution_count": 36,
     "metadata": {},
     "output_type": "execute_result"
    }
   ],
   "source": [
    "bot.message.text"
   ]
  },
  {
   "cell_type": "code",
   "execution_count": 37,
   "metadata": {},
   "outputs": [
    {
     "data": {
      "text/plain": [
       "['cup',\n",
       " 'extra large',\n",
       " 'large',\n",
       " 'medium',\n",
       " 'slice',\n",
       " 'small',\n",
       " 'single serving package']"
      ]
     },
     "execution_count": 37,
     "metadata": {},
     "output_type": "execute_result"
    }
   ],
   "source": [
    "bot.measures_cleaned"
   ]
  },
  {
   "cell_type": "code",
   "execution_count": 33,
   "metadata": {},
   "outputs": [
    {
     "data": {
      "text/plain": [
       "['cup',\n",
       " 'extra large',\n",
       " 'large',\n",
       " 'medium',\n",
       " 'slice',\n",
       " 'small',\n",
       " 'single serving package']"
      ]
     },
     "execution_count": 33,
     "metadata": {},
     "output_type": "execute_result"
    }
   ],
   "source": [
    "bot.measures_cleaned"
   ]
  },
  {
   "cell_type": "code",
   "execution_count": null,
   "metadata": {},
   "outputs": [],
   "source": []
  }
 ],
 "metadata": {
  "interpreter": {
   "hash": "1e1ee659a212ecca49d6a1809275141ef7642c152d6286fb803a43d965656456"
  },
  "kernelspec": {
   "display_name": "re",
   "language": "python",
   "name": "python3"
  },
  "language_info": {
   "codemirror_mode": {
    "name": "ipython",
    "version": 3
   },
   "file_extension": ".py",
   "mimetype": "text/x-python",
   "name": "python",
   "nbconvert_exporter": "python",
   "pygments_lexer": "ipython3",
   "version": "3.9.7"
  }
 },
 "nbformat": 4,
 "nbformat_minor": 4
}
