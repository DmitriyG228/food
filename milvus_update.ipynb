{
 "cells": [
  {
   "cell_type": "code",
   "execution_count": 1,
   "metadata": {},
   "outputs": [],
   "source": [
    "from food.milvus import collection\n"
   ]
  },
  {
   "cell_type": "code",
   "execution_count": 4,
   "metadata": {},
   "outputs": [
    {
     "name": "stderr",
     "output_type": "stream",
     "text": [
      "milvus_update: 3it [02:14, 44.89s/it]\n"
     ]
    },
    {
     "data": {
      "text/plain": [
       "857429"
      ]
     },
     "execution_count": 4,
     "metadata": {},
     "output_type": "execute_result"
    }
   ],
   "source": [
    "\n",
    "from time import sleep\n",
    "from food.tools import from_pickle\n",
    "from food.psql import *\n",
    "import pandas as pd\n",
    "from tqdm import tqdm\n",
    "import custom_pandas as cpd\n",
    "query = f\"\"\"select f.id, f.clip\n",
    "        FROM      foods_big             f\n",
    "        LEFT JOIN indexed i on (f.id = i.id)\n",
    "        WHERE f .clip    is not null and i.indexed is null\n",
    "        \"\"\"\n",
    "limit = 100000\n",
    "for df in tqdm(cpd.read_sql_query(query, engine, chunksize=limit), desc=\"milvus_update\"):\n",
    "    df = df[['id','clip']]\n",
    "    collection.insert(df)\n",
    "    to_insert = df[['id']]\n",
    "    to_insert['indexed'] = True\n",
    "    to_insert.to_sql(\"indexed\",engine,index=False,if_exists = 'append',method = 'multi')\n",
    "\n",
    "\n",
    "collection.num_entities"
   ]
  },
  {
   "cell_type": "code",
   "execution_count": null,
   "metadata": {},
   "outputs": [],
   "source": []
  }
 ],
 "metadata": {
  "interpreter": {
   "hash": "1e1ee659a212ecca49d6a1809275141ef7642c152d6286fb803a43d965656456"
  },
  "kernelspec": {
   "display_name": "re",
   "language": "python",
   "name": "python3"
  },
  "language_info": {
   "codemirror_mode": {
    "name": "ipython",
    "version": 3
   },
   "file_extension": ".py",
   "mimetype": "text/x-python",
   "name": "python",
   "nbconvert_exporter": "python",
   "pygments_lexer": "ipython3",
   "version": "3.9.7"
  }
 },
 "nbformat": 4,
 "nbformat_minor": 4
}
