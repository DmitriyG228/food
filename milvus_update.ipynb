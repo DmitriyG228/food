{
 "cells": [
  {
   "cell_type": "code",
   "execution_count": 2,
   "metadata": {},
   "outputs": [],
   "source": [
    "from food.milvus import collection\n",
    "from time import sleep\n",
    "from food.tools import from_pickle\n",
    "from food.psql import *\n",
    "import pandas as pd\n",
    "from tqdm import tqdm\n",
    "import custom_pandas as cpd\n",
    "query = f\"\"\"select f.*\n",
    "        FROM      foods             f\n",
    "\n",
    "        \n",
    "        WHERE f .clip    is not null\n",
    "        \"\"\"\n",
    "limit = 100000\n",
    "for df in tqdm(cpd.read_sql_query(query, engine, chunksize=limit), desc=\"milvus_update\"):\n",
    "    df = df.rename(columns = {'id':'food_id'})\n",
    "    df = df[['food_id','clip']]\n",
    "    collection.insert(df)\n",
    "collection.num_entities"
   ]
  }
 ],
 "metadata": {
  "interpreter": {
   "hash": "1e1ee659a212ecca49d6a1809275141ef7642c152d6286fb803a43d965656456"
  },
  "kernelspec": {
   "display_name": "re",
   "language": "python",
   "name": "python3"
  },
  "language_info": {
   "codemirror_mode": {
    "name": "ipython",
    "version": 3
   },
   "file_extension": ".py",
   "mimetype": "text/x-python",
   "name": "python",
   "nbconvert_exporter": "python",
   "pygments_lexer": "ipython3",
   "version": "3.9.7"
  }
 },
 "nbformat": 4,
 "nbformat_minor": 4
}
