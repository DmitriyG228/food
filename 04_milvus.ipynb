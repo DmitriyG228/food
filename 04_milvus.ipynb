{
 "cells": [
  {
   "cell_type": "code",
   "execution_count": 6,
   "metadata": {},
   "outputs": [],
   "source": [
    "#default_exp milvus"
   ]
  },
  {
   "cell_type": "code",
   "execution_count": 7,
   "metadata": {},
   "outputs": [],
   "source": [
    "#export\n",
    "from food.tools import *\n",
    "from food.paths import *\n",
    "from food.psql import *\n",
    "\n",
    "import pandas as pd\n",
    "import numpy as np\n",
    "\n",
    "import pandas as pd\n",
    "import numpy as n\n",
    "from food.tools import *\n",
    "from food.psql import *\n",
    "from food.paths import *\n",
    "from tqdm import tqdm\n",
    "\n",
    "from sqlalchemy import Table, Column,BIGINT\n",
    "\n",
    "import tempfile\n",
    "from pymilvus import *\n",
    "collection_name = \"food\""
   ]
  },
  {
   "cell_type": "code",
   "execution_count": 8,
   "metadata": {},
   "outputs": [],
   "source": [
    "#export\n",
    "connections.connect(host=\"127.0.0.1\", port=19533)\n",
    "\n",
    "dim = 768\n",
    "default_fields = [\n",
    "    FieldSchema(name=\"food_id\", dtype=DataType.INT64, is_primary=True, auto_id=False),\n",
    "    FieldSchema(name=\"clip\", dtype=DataType.FLOAT_VECTOR, dim=dim),\n",
    "    \n",
    "]\n",
    "default_schema = CollectionSchema(fields=default_fields, description=\"Image collection\")\n",
    "\n",
    "collection = Collection(name=collection_name, schema=default_schema)\n"
   ]
  },
  {
   "cell_type": "code",
   "execution_count": 9,
   "metadata": {},
   "outputs": [
    {
     "data": {
      "text/plain": [
       "0"
      ]
     },
     "execution_count": 9,
     "metadata": {},
     "output_type": "execute_result"
    }
   ],
   "source": [
    "#export\n",
    "collection.num_entities"
   ]
  },
  {
   "cell_type": "code",
   "execution_count": 4,
   "metadata": {},
   "outputs": [],
   "source": [
    "collection.drop()"
   ]
  },
  {
   "cell_type": "code",
   "execution_count": 6,
   "metadata": {},
   "outputs": [],
   "source": [
    "#export\n",
    "default_index = {\"index_type\": \"RHNSW_SQ\", \n",
    "                 \"params\": {'efConstruction':64, 'M':8}, \n",
    "                 \"metric_type\": \"IP\"}"
   ]
  },
  {
   "cell_type": "code",
   "execution_count": 7,
   "metadata": {},
   "outputs": [
    {
     "data": {
      "text/plain": [
       "Status(code=0, message='')"
      ]
     },
     "execution_count": 7,
     "metadata": {},
     "output_type": "execute_result"
    }
   ],
   "source": [
    "collection.create_index(field_name=\"clip\", index_params=default_index)"
   ]
  },
  {
   "cell_type": "code",
   "execution_count": 41,
   "metadata": {},
   "outputs": [
    {
     "name": "stdout",
     "output_type": "stream",
     "text": [
      "Converted 00_paths.ipynb.\n",
      "Converted 00_progress_check.ipynb.\n",
      "Converted 00_psql.ipynb.\n",
      "Converted 00_recreate_milvus.ipynb.\n",
      "Converted 00_tools.ipynb.\n",
      "Converted 02_onehot.ipynb.\n",
      "Converted 03_quantization.ipynb.\n",
      "Converted 04_milvus.ipynb.\n",
      "Converted 06_clip.ipynb.\n",
      "Converted 0_template copy.ipynb.\n",
      "Converted 0_template.ipynb.\n",
      "Converted milvus_dev.ipynb.\n"
     ]
    }
   ],
   "source": [
    "!nbdev_build_lib"
   ]
  },
  {
   "cell_type": "code",
   "execution_count": null,
   "metadata": {},
   "outputs": [],
   "source": []
  }
 ],
 "metadata": {
  "interpreter": {
   "hash": "6365d061e81b8c0bb3064d6704cf11d6e40dd3bb5a1988259337fb2df5fb9180"
  },
  "kernelspec": {
   "display_name": "Python [conda env:re]",
   "language": "python",
   "name": "python3"
  },
  "language_info": {
   "codemirror_mode": {
    "name": "ipython",
    "version": 3
   },
   "file_extension": ".py",
   "mimetype": "text/x-python",
   "name": "python",
   "nbconvert_exporter": "python",
   "pygments_lexer": "ipython3",
   "version": "3.9.7"
  }
 },
 "nbformat": 4,
 "nbformat_minor": 4
}
